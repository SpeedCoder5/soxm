{
 "cells": [
  {
   "cell_type": "markdown",
   "metadata": {},
   "source": [
    "# Lab 05 - Iris Dataset Analysis\n",
    "\n",
    "Start by copying this lab notebook into your notebook folder, and run it step by step from there.\n",
    "\n",
    "The Iris dataset is a well-known dataset in the machine learning community, often used for demonstrating classification algorithms and exploratory data analysis. The dataset contains measurements of four features from three different species of iris flowers.\n",
    "\n",
    "## Description of the Dataset\n",
    "\n",
    "The dataset includes the following columns:\n",
    "- `sepal length` (in cm)\n",
    "- `sepal width` (in cm)\n",
    "- `petal length` (in cm)\n",
    "- `petal width` (in cm)\n",
    "- `species` (Iris-setosa, Iris-versicolor, Iris-virginica)\n",
    "\n",
    "The aim is often to classify the iris species based on the given measurements.\n",
    "\n",
    "## Loading the Dataset\n",
    "\n",
    "We will begin by loading the dataset and taking a look at its structure."
   ]
  },
  {
   "cell_type": "code",
   "execution_count": null,
   "metadata": {},
   "outputs": [],
   "source": [
    "import pandas as pd\n",
    "from sklearn.datasets import load_iris\n",
    "import seaborn as sns\n",
    "import matplotlib.pyplot as plt\n",
    "import plotly.express as px\n",
    "\n",
    "# Load Iris dataset\n",
    "iris = load_iris()\n",
    "iris_df = pd.DataFrame(data=iris.data, columns=iris.feature_names)\n",
    "iris_df['species'] = iris.target\n",
    "\n",
    "# Map target numbers to actual species names\n",
    "species_map = {0: 'Iris-setosa', 1: 'Iris-versicolor', 2: 'Iris-virginica'}\n",
    "iris_df['species'] = iris_df['species'].map(species_map)\n",
    "\n",
    "# Display the first few rows of the dataset\n",
    "iris_df.head()"
   ]
  },
  {
   "cell_type": "markdown",
   "metadata": {},
   "source": [
    "## Summary Statistics\n",
    "\n",
    "We will now look at the summary statistics of numerical columns in the dataset.\n"
   ]
  },
  {
   "cell_type": "code",
   "execution_count": null,
   "metadata": {},
   "outputs": [],
   "source": [
    "# Summary statistics\n",
    "iris_df.describe()"
   ]
  },
  {
   "cell_type": "markdown",
   "metadata": {},
   "source": [
    "## Data Visualization\n",
    "\n",
    "Visualizing the data is often very helpful in understanding the distribution and difference between the species based on various features. We will start by plotting pairplots using `seaborn`."
   ]
  },
  {
   "cell_type": "code",
   "execution_count": null,
   "metadata": {},
   "outputs": [],
   "source": [
    "# Pairplot of the dataset\n",
    "sns.pairplot(iris_df, hue='species')\n",
    "plt.show()"
   ]
  },
  {
   "cell_type": "markdown",
   "metadata": {},
   "source": [
    "## 3D Scatter Plot using Plotly\n",
    "\n",
    "Finally, we will create a 3D scatter plot to better visualize the spread of each species across three selected features: sepal length, sepal width, and petal length."
   ]
  },
  {
   "cell_type": "code",
   "execution_count": null,
   "metadata": {},
   "outputs": [],
   "source": [
    "# 3D Scatter plot\n",
    "fig = px.scatter_3d(iris_df, \n",
    "                    x='sepal length (cm)', \n",
    "                    y='sepal width (cm)', \n",
    "                    z='petal length (cm)', \n",
    "                    color='species',\n",
    "                    title='3D Scatter plot of the Iris Dataset')\n",
    "fig.show()"
   ]
  },
  {
   "cell_type": "markdown",
   "metadata": {},
   "source": [
    "\n",
    "## Wrap up\n",
    "\n",
    "This notebook provides an overview and initial exploratory analysis of the Iris dataset. We examined the structure and summary statistics of the data, and visualized it using pairplots and a 3D scatter plot to help understand the relationships between the different species and their features.\n",
    "\n",
    "Update your Overleaf.\n",
    "\n",
    "In particular note how many dimensions the iris dataset has."
   ]
  },
  {
   "cell_type": "markdown",
   "metadata": {},
   "source": []
  }
 ],
 "metadata": {
  "kernelspec": {
   "display_name": "soxm",
   "language": "python",
   "name": "python3"
  },
  "language_info": {
   "codemirror_mode": {
    "name": "ipython",
    "version": 3
   },
   "file_extension": ".py",
   "mimetype": "text/x-python",
   "name": "python",
   "nbconvert_exporter": "python",
   "pygments_lexer": "ipython3",
   "version": "3.9.19"
  }
 },
 "nbformat": 4,
 "nbformat_minor": 2
}
