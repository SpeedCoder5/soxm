{
 "cells": [
  {
   "cell_type": "markdown",
   "metadata": {},
   "source": [
    "\n",
    "# How to Obtain and Set Up Google Credentials for Service Accounts\n",
    "\n",
    "## Step 1: Create a Google Cloud Project\n",
    "\n",
    "1. Go to the [Google Cloud Console](https://console.cloud.google.com/).\n",
    "2. Click on the project drop-down and select **New Project**.\n",
    "3. Provide a name for your project and click **Create**.\n",
    "4. Select your newly created project from the project drop-down menu.\n",
    "\n",
    "## Step 2: Enable Google Drive and Google Sheets APIs\n",
    "\n",
    "1. In the Google Cloud Console, navigate to the **API Library** (found in the side menu under “APIs & Services”).\n",
    "2. Search for \"Google Drive API\".\n",
    "3. Click on the **Google Drive API** result and then click **Enable**.\n",
    "4. Repeat the process for the \"Google Sheets API\".\n",
    "\n",
    "## Step 3: Create a Service Account\n",
    "\n",
    "1. In the Google Cloud Console, navigate to the **Service Accounts** page (found under “IAM & Admin” in the side menu).\n",
    "2. Click **Create Service Account**.\n",
    "3. Provide a name and description for the service account, i.e. `soxm`, then click **Create**.\n",
    "4. Assign a role to the service account:\n",
    "   - Recommended: **Editor** or **Owner**.\n",
    "5. Click **Continue**.\n",
    "\n",
    "## Step 4: Create and Download Credentials JSON\n",
    "\n",
    "1. In the Service Account creation process, click on the **Create Key** button.\n",
    "2. Choose **JSON** as the key type and click **Create**.\n",
    "3. The credentials JSON file will be downloaded to your computer. Storing it in the downloads folder is fine.  This file contains all the necessary credentials and access tokens.\n",
    "4. Open the credentials JSON file in notepad.  Then create a file `credentials.json` file in the root folder of your Innovation Factory Workspace.  Copy and paste the contents from your PC into that innovation factory file and save. \n",
    "\n",
    "## Step 5: Share Your Google Drive Folder with the Service Account\n",
    "\n",
    "1. Open your Google Drive in a web browser.\n",
    "2. Select the exsiting soxm `data/raw` folder where you want the service account to have access.\n",
    "3. Right-click the folder and select **Share**.\n",
    "4. In the **Share with people and groups** field, enter the **client_email** from your credentials JSON file (found within the file as `\"client_email\": \"your-service-account-email@your-project.iam.gserviceaccount.com\"`).\n",
    "5. Set the permission to **Editor** (or any role that grants writing and reading permissions) and click **Send**.\n",
    "\n",
    "## Step 6: Obtain the Folder ID\n",
    "\n",
    "1. In your Google Drive, navigate to the folder you shared with the service account: specifically the `data/raw` folder in our project google drive.\n",
    "2. Look at the URL in your browser:\n",
    "   ```\n",
    "   https://drive.google.com/drive/folders/YOUR_FOLDER_ID\n",
    "   ```\n",
    "3. Copy the **YOUR_FOLDER_ID** part of the URL. This ID will be used to reference the folder in your scripts.\n",
    "4. Store it in the `.env file`, i.e. `DATA_RAW_FOLDER_ID=YOUR_FOLDER_ID`\n",
    "\n",
    "## Summary of Required Information\n",
    "\n",
    "- **credentials.json**: Downloaded from the Google Cloud Console during the service account setup.\n",
    "- **client_email**: Found within `credentials.json`; required for sharing access.\n",
    "- **YOUR_FOLDER_ID**: Obtained from the Google Drive URL.\n",
    "\n",
    "Going forward, use the `credentials.json` file directly in your Python scripts for authentication with Google Drive and Google Sheets APIs."
   ]
  },
  {
   "cell_type": "code",
   "execution_count": null,
   "metadata": {},
   "outputs": [],
   "source": []
  }
 ],
 "metadata": {
  "kernelspec": {
   "display_name": "soxm",
   "language": "python",
   "name": "python3"
  },
  "language_info": {
   "codemirror_mode": {
    "name": "ipython",
    "version": 3
   },
   "file_extension": ".py",
   "mimetype": "text/x-python",
   "name": "python",
   "nbconvert_exporter": "python",
   "pygments_lexer": "ipython3",
   "version": "3.9.5"
  }
 },
 "nbformat": 4,
 "nbformat_minor": 2
}
