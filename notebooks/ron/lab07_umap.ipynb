{
 "cells": [
  {
   "cell_type": "markdown",
   "metadata": {},
   "source": [
    "# Lab 07 - UMAP Demonstration with the Iris Dataset\n",
    "\n",
    "Start by copying this lab notebook into your notebook folder, and run it step by step from there.\n",
    "\n",
    "## Introduction\n",
    "\n",
    "In this notebook, we will explore the UMAP (Uniform Manifold Approximation and Projection) technique using the well-known Iris dataset. We will visualize the dataset in 2D and examine how different parameters affect the UMAP projection.\n",
    "\n",
    "### 1. Importing Necessary Libraries\n"
   ]
  },
  {
   "cell_type": "code",
   "execution_count": null,
   "metadata": {},
   "outputs": [],
   "source": [
    "import numpy as np\n",
    "import pandas as pd\n",
    "import seaborn as sns\n",
    "import matplotlib.pyplot as plt\n",
    "from sklearn.datasets import load_iris\n",
    "import umap\n",
    "\n",
    "# Setting a random seed for reproducibility\n",
    "np.random.seed(42)"
   ]
  },
  {
   "cell_type": "markdown",
   "metadata": {},
   "source": [
    "\n",
    "### 2. Loading the Iris Dataset\n",
    "\n",
    "We will load the Iris dataset, which contains 150 samples with four features each, representing three different species of Iris flowers.\n"
   ]
  },
  {
   "cell_type": "code",
   "execution_count": null,
   "metadata": {},
   "outputs": [],
   "source": [
    "# Load the Iris dataset\n",
    "iris = load_iris()\n",
    "data = iris.data\n",
    "target = iris.target\n",
    "target_names = iris.target_names\n",
    "\n",
    "# Create a DataFrame for easy manipulation and plotting\n",
    "iris_df = pd.DataFrame(data, columns=iris.feature_names)\n",
    "iris_df['species'] = target\n",
    "iris_df['species_name'] = [target_names[i] for i in target]\n",
    "iris_df.head()"
   ]
  },
  {
   "cell_type": "markdown",
   "metadata": {},
   "source": [
    "\n",
    "### 3. UMAP Basics\n",
    "\n",
    "UMAP is a dimensionality reduction technique that excels at preserving both global and local structures. We'll start by performing a basic 2D UMAP projection of the Iris dataset.\n",
    "\n",
    "#### 3.1 Basic 2D UMAP Projection"
   ]
  },
  {
   "cell_type": "code",
   "execution_count": null,
   "metadata": {},
   "outputs": [],
   "source": [
    "# Create a UMAP reducer with default parameters\n",
    "reducer = umap.UMAP(n_components=2, random_state=42)\n",
    "\n",
    "# Fit and transform the data to 2D\n",
    "embedding = reducer.fit_transform(data)\n",
    "\n",
    "# Add the UMAP coordinates to the DataFrame\n",
    "iris_df['UMAP1'] = embedding[:, 0]\n",
    "iris_df['UMAP2'] = embedding[:, 1]\n",
    "\n",
    "# Create a scatter plot\n",
    "plt.figure(figsize=(10, 8))\n",
    "sns.scatterplot(\n",
    "    x='UMAP1', y='UMAP2',\n",
    "    hue='species_name',\n",
    "    palette=sns.color_palette(\"hsv\", 3),\n",
    "    data=iris_df,\n",
    "    legend='full',\n",
    "    s=100\n",
    ")\n",
    "plt.title('UMAP projection of Iris dataset')\n",
    "plt.show()"
   ]
  },
  {
   "cell_type": "markdown",
   "metadata": {},
   "source": [
    "\n",
    "#### 3.2 Varying `n_neighbors`\n",
    "\n",
    "The `n_neighbors` parameter determines the number of neighboring points used in local approximations. Higher values lead to more global structure preservation while lower values focus on local relationships.\n"
   ]
  },
  {
   "cell_type": "code",
   "execution_count": null,
   "metadata": {},
   "outputs": [],
   "source": [
    "def plot_umap(n_neighbors):\n",
    "    reducer = umap.UMAP(n_neighbors=n_neighbors, n_components=2, random_state=42)\n",
    "    embedding = reducer.fit_transform(data)\n",
    "    iris_df['UMAP1'] = embedding[:, 0]\n",
    "    iris_df['UMAP2'] = embedding[:, 1]\n",
    "    \n",
    "    plt.figure(figsize=(10, 8))\n",
    "    sns.scatterplot(\n",
    "        x='UMAP1', y='UMAP2',\n",
    "        hue='species_name',\n",
    "        palette=sns.color_palette(\"hsv\", 3),\n",
    "        data=iris_df,\n",
    "        legend='full',\n",
    "        s=100\n",
    "    )\n",
    "    plt.title(f'UMAP projection of Iris dataset (n_neighbors={n_neighbors})')\n",
    "    plt.show()\n",
    "\n",
    "# Plot with different values of n_neighbors\n",
    "for n in [5, 15, 50]:\n",
    "    plot_umap(n_neighbors=n)"
   ]
  },
  {
   "cell_type": "markdown",
   "metadata": {},
   "source": [
    "\n",
    "#### 3.3 Varying `min_dist`\n",
    "\n",
    "The `min_dist` parameter controls how closely UMAP packs points together. Lower values mean tighter packing and more compact clusters, whereas higher values provide more uniform spacing.\n"
   ]
  },
  {
   "cell_type": "code",
   "execution_count": null,
   "metadata": {},
   "outputs": [],
   "source": [
    "def plot_umap_min_dist(min_dist):\n",
    "    reducer = umap.UMAP(min_dist=min_dist, n_components=2, random_state=42)\n",
    "    embedding = reducer.fit_transform(data)\n",
    "    iris_df['UMAP1'] = embedding[:, 0]\n",
    "    iris_df['UMAP2'] = embedding[:, 1]\n",
    "    \n",
    "    plt.figure(figsize=(10, 8))\n",
    "    sns.scatterplot(\n",
    "        x='UMAP1', y='UMAP2',\n",
    "        hue='species_name',\n",
    "        palette=sns.color_palette(\"hsv\", 3),\n",
    "        data=iris_df,\n",
    "        legend='full',\n",
    "        s=100\n",
    "    )\n",
    "    plt.title(f'UMAP projection of Iris dataset (min_dist={min_dist})')\n",
    "    plt.show()\n",
    "\n",
    "# Plot with different values of min_dist\n",
    "for dist in [0.1, 0.5, 0.9]:\n",
    "    plot_umap_min_dist(min_dist=dist)\n"
   ]
  },
  {
   "cell_type": "markdown",
   "metadata": {},
   "source": [
    "\n",
    "#### 3.4 Varying `n_components`\n",
    "\n",
    "The `n_components` parameter controls the number of dimensions in which the data will be projected. While 2D is commonly used for visualization, UMAP can reduce data to any number of dimensions.\n"
   ]
  },
  {
   "cell_type": "code",
   "execution_count": null,
   "metadata": {},
   "outputs": [],
   "source": [
    "def plot_umap_n_components(n_components):\n",
    "    reducer = umap.UMAP(n_components=n_components, random_state=42)\n",
    "    embedding = reducer.fit_transform(data)\n",
    "    \n",
    "    if n_components == 2:\n",
    "        iris_df['UMAP1'] = embedding[:, 0]\n",
    "        iris_df['UMAP2'] = embedding[:, 1]\n",
    "        plt.figure(figsize=(10, 8))\n",
    "        sns.scatterplot(\n",
    "            x='UMAP1', y='UMAP2',\n",
    "            hue='species_name',\n",
    "            palette=sns.color_palette(\"hsv\", 3),\n",
    "            data=iris_df,\n",
    "            legend='full',\n",
    "            s=100\n",
    "        )\n",
    "        plt.title(f'UMAP projection of Iris dataset (n_components={n_components})')\n",
    "        plt.show()\n",
    "    else:\n",
    "        cols = [f'UMAP{i+1}' for i in range(n_components)]\n",
    "        embed_df = pd.DataFrame(embedding, columns=cols)\n",
    "        embed_df['species_name'] = [target_names[i] for i in target]\n",
    "        \n",
    "        plt.figure(figsize=(10, 8))\n",
    "        sns.pairplot(\n",
    "            embed_df,\n",
    "            hue='species_name',\n",
    "            palette=sns.color_palette(\"hsv\", 3),\n",
    "            diag_kind='kde',\n",
    "            plot_kws={'s': 100}\n",
    "        )\n",
    "        plt.suptitle(f'UMAP projection of Iris dataset (n_components={n_components})', y=1.02)\n",
    "        plt.show()\n",
    "\n",
    "# Plot with different values of n_components\n",
    "for n in [2, 3, 4]:\n",
    "    plot_umap_n_components(n_components=n)\n"
   ]
  },
  {
   "cell_type": "markdown",
   "metadata": {},
   "source": [
    "\n",
    "### Conclusions\n",
    "\n",
    "In this notebook, we explored the basics of UMAP using the Iris dataset. By varying parameters such as `n_neighbors`, `min_dist`, and `n_components`, we observed how the UMAP projections change, helping us understand the effect of these parameters on the visualization and structure preservation.\n",
    "\n",
    "Experimenting with these parameters and visualizing the results is crucial to mastering UMAP and effectively applying it to other datasets.\n",
    "\n",
    "\n",
    "Update your Overleaf.\n"
   ]
  },
  {
   "cell_type": "markdown",
   "metadata": {},
   "source": []
  }
 ],
 "metadata": {
  "kernelspec": {
   "display_name": "soxm",
   "language": "python",
   "name": "python3"
  },
  "language_info": {
   "codemirror_mode": {
    "name": "ipython",
    "version": 3
   },
   "file_extension": ".py",
   "mimetype": "text/x-python",
   "name": "python",
   "nbconvert_exporter": "python",
   "pygments_lexer": "ipython3",
   "version": "3.9.19"
  }
 },
 "nbformat": 4,
 "nbformat_minor": 2
}
