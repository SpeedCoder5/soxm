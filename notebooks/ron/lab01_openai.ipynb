{
 "cells": [
  {
   "cell_type": "markdown",
   "metadata": {},
   "source": [
    "# OpenAI API Lab\n",
    "\n",
    "Follow this lab to create an OpenAI platform API key and use that key to generate a response to a given prompt.\n",
    "This lab updates the '.env' file in the root folder of your project to store your openaikey.\n"
   ]
  },
  {
   "cell_type": "markdown",
   "metadata": {},
   "source": [
    "## OpenAI API Key Setup\n",
    "\n",
    "This guide will help you create a new project with a new OpenAI API key and store the key locally in a `.env` file.\n",
    "\n",
    "## Prerequisites\n",
    "\n",
    "- OpenAI account\n",
    "- Access to the OpenAI API dashboard\n",
    "- Basic knowledge of command line operations\n",
    "- Text editor or IDE\n",
    "\n",
    "## Steps to Create a New Project and API Key\n",
    "\n",
    "### 1. Log into the OpenAI Dashboard\n",
    "\n",
    "- Visit the OpenAI dashboard at [OpenAI Dashboard](https://platform.openai.com/account/api-keys).\n",
    "- Log in with your OpenAI account credentials.\n",
    "\n",
    "### 2. Create a New Project\n",
    "\n",
    "- Navigate to the \"Projects\" section.\n",
    "- Click the \"Create New Project\" button.\n",
    "- Provide a suitable name, i.e. 'soxm' and any other required details for your project.\n",
    "- Save the project.\n",
    "\n",
    "### 3. Generate a New API Key\n",
    "\n",
    "- Within your newly created project, navigate to the \"API Keys\" section.\n",
    "- Click the \"Create API Key\" button.\n",
    "- Optionally, provide a name or description for the API key.\n",
    "- Click the \"Generate\" or \"Create\" button to generate the API key.\n",
    "- Copy the newly generated API key to your clipboard. **Caution:** Ensure that you copy this key, as you won't be able to view it again for security reasons.\n",
    "\n",
    "### 4. Store the API Key in a `.env` File Locally\n",
    "\n",
    "#### 4.1 Create a backup .env file on your windows PC\n",
    "\n",
    "- Press <windows_key><E> to open File Explorer.\n",
    "- Open your Documents folder.\n",
    "- Right click and create a new text document named `.env.txt`.\n",
    "- Open the file with notepad and add the line\n",
    "\n",
    "```\n",
    "OPENAI_API_KEY=your-openai-api-key\n",
    "```\n",
    "\n",
    "- Save the `.env` file and close it.\n",
    "\n",
    "#### 4.1. Set Up Environment Variables\n",
    "\n",
    "- Open your Innovation Factory Workspace https://innovationfactory.avde.net/, logging in with your ASRC Federal credentials.\n",
    "- Open your terminal (command line).\n",
    "- Navigate to your project directory where you will use the API key.\n",
    "\n",
    "```\n",
    "cd soxm\n",
    "```\n",
    "\n",
    "#### 4.2. Create/Edit the `.env` File\n",
    "\n",
    "- If you do not already have a `.env` file in your project directory, create one using your text editor or IDE.\n",
    "\n",
    "```\n",
    "touch .env\n",
    "```\n",
    "\n",
    "- Open the `.env` file in your text editor and add the following line, replacing `your-openai-api-key` with the API key you copied earlier.\n",
    "\n",
    "```\n",
    "OPENAI_API_KEY=your-openai-api-key\n",
    "```\n",
    "\n",
    "- Save the `.env` file and close it.\n",
    "\n",
    "### 5. Accessing the API Key in Your Code\n",
    "\n",
    "- Use a library like `dotenv` to load the variables from the `.env` file into your application. \n",
    "\n",
    "#### Python\n"
   ]
  },
  {
   "cell_type": "code",
   "execution_count": null,
   "metadata": {},
   "outputs": [],
   "source": [
    "from dotenv import dotenv_values\n",
    "config = dotenv_values()\n",
    "for k,v in config.items():\n",
    "    print(f'{k} key exists')"
   ]
  },
  {
   "cell_type": "markdown",
   "metadata": {},
   "source": [
    "Verify `openai key exists` is displayed above.\n",
    "\n",
    "The following code will load it into python:\n",
    "\n",
    "```{python}\n",
    "from dotenv import dotenv_values\n",
    "config = dotenv_values()\n",
    "openai_api_key = config['OPENAI_API_KEY']\n",
    "```\n",
    "\n",
    "## Conclusion\n",
    "\n",
    "You've successfully created a new OpenAI project with a new API key and stored the API key locally in a `.env` file. This setup allows for secure and efficient management of your API keys."
   ]
  },
  {
   "cell_type": "markdown",
   "metadata": {},
   "source": []
  }
 ],
 "metadata": {
  "kernelspec": {
   "display_name": "soxm",
   "language": "python",
   "name": "python3"
  },
  "language_info": {
   "codemirror_mode": {
    "name": "ipython",
    "version": 3
   },
   "file_extension": ".py",
   "mimetype": "text/x-python",
   "name": "python",
   "nbconvert_exporter": "python",
   "pygments_lexer": "ipython3",
   "version": "3.9.19"
  }
 },
 "nbformat": 4,
 "nbformat_minor": 2
}
