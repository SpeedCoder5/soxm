{
 "cells": [
  {
   "cell_type": "markdown",
   "metadata": {},
   "source": [
    "# Lab 1 UMAP with Summary Clustering\n",
    "\n",
    "Run this lab to cluster on embeddings and include the the summarires in the umap hover text.\n",
    "Use the number of clusters you determined from lab 11."
   ]
  },
  {
   "cell_type": "code",
   "execution_count": null,
   "metadata": {},
   "outputs": [],
   "source": [
    "params = {\n",
    "    'file_id': 'your_file_id_from_lab08', # <----- Replace with your actual file ID from lab 08\n",
    "    'n_components': 2, # UMAP setting\n",
    "    'n_neighbors': 3, # UMAP setting\n",
    "    'min_dist': 0.001, # UMAP setting\n",
    "    'cluster_count': 3, # <----- enter your value from lab 11 # KMeans settings\n",
    "    'model': 'gpt-3.5-turbo', # <----- enter open ai model\n",
    "}\n",
    "\n",
    "from dotenv import dotenv_values\n",
    "import io\n",
    "import pandas as pd\n",
    "import openai\n",
    "from dotenv import dotenv_values\n",
    "from openai import OpenAI\n",
    "from google.auth.transport.requests import Request\n",
    "from google.oauth2.service_account import Credentials\n",
    "from googleapiclient.discovery import build\n",
    "from googleapiclient.http import MediaIoBaseDownload\n",
    "import logging\n",
    "from soxm.Paths import Paths\n",
    "import umap\n",
    "import plotly.express as px\n",
    "from sklearn.cluster import KMeans\n",
    "import plotly.graph_objects as go\n",
    "\n",
    "print(openai.__version__)"
   ]
  },
  {
   "cell_type": "code",
   "execution_count": null,
   "metadata": {},
   "outputs": [],
   "source": [
    "\n",
    "# Configure logging\n",
    "logging.basicConfig(level=logging.INFO)\n",
    "logger = logging.getLogger(__name__)\n",
    "\n",
    "# Ensure the OpenAI API key exists\n",
    "config = dotenv_values()\n",
    "openai_api_key = config.get('OPENAI_API_KEY')\n",
    "if not openai_api_key:\n",
    "    raise ValueError(\"OpenAI API key not found in the environment variables.\")\n",
    "\n",
    "# Initialize OpenAI client\n",
    "client = OpenAI(api_key=openai_api_key)\n",
    "\n",
    "# Define a function to get a response from OpenAI API\n",
    "def get_openai_response(input_text, model):\n",
    "    chat_completion = client.chat.completions.create(\n",
    "        messages=[\n",
    "            {\n",
    "                \"role\": \"user\",\n",
    "                \"content\": input_text,\n",
    "            }\n",
    "        ],\n",
    "        model=model,\n",
    "    )\n",
    "    return chat_completion.choices[0].message.content.strip()\n",
    "\n",
    "# Function to get embeddings from OpenAI API\n",
    "def get_embeddings(text):\n",
    "    response = client.embeddings.create(input=text, model=\"text-embedding-ada-002\")\n",
    "    return response.data[0].embedding\n",
    "\n",
    "# Set up Google Drive API\n",
    "credentials_path = Paths.project('credentials.json') / 'credentials.json'\n",
    "if not credentials_path.exists():\n",
    "    raise ValueError(f\"No credentials found. {credentials_path} must exist.\")\n",
    "\n",
    "scope = [\"https://www.googleapis.com/auth/drive\"]\n",
    "\n",
    "logger.info('Authenticating with Google API using service account...')\n",
    "credentials = Credentials.from_service_account_file(credentials_path, scopes=scope)\n",
    "drive_service = build('drive', 'v3', credentials=credentials)\n",
    "\n",
    "# Your shared folder ID (replace with your actual folder ID)\n",
    "parent_folder_id = config.get('DATA_RAW_FOLDER_ID')\n",
    "if not parent_folder_id:\n",
    "    raise ValueError(\"Google Drive folder ID not found in the environment variables.\")\n",
    "\n",
    "# ID of the file to read (replace with your actual file ID)\n",
    "file_id = params['file_id']  \n",
    "\n",
    "# Export the Google Sheet as a CSV file content from Google Drive\n",
    "# request = drive_service.files().export_media(fileId=file_id, mimeType='text/csv') # use export_media if reading a google sheet as csv\n",
    "request = drive_service.files().get_media(fileId=file_id) # use get_media to get a raw csv\n",
    "csv_content = io.BytesIO()\n",
    "downloader = MediaIoBaseDownload(csv_content, request)\n",
    "done = False\n",
    "while not done:\n",
    "    status, done = downloader.next_chunk()\n",
    "    logger.info(f\"Download {int(status.progress() * 100)}% complete.\")\n",
    "\n",
    "csv_content.seek(0)  # Move the cursor to the beginning of the in-memory file\n",
    "\n",
    "# Read the CSV file into a DataFrame\n",
    "df = pd.read_csv(csv_content)\n",
    "\n",
    "# Create a new DataFrame to store results\n",
    "results = []\n",
    "\n",
    "# Iterate through each row in the DataFrame and generate embeddings\n",
    "for index, row in df.iterrows():\n",
    "    story = row['Response']\n",
    "    embedding = get_embeddings(story)\n",
    "    results.append({\n",
    "        \"Model\": row['Model'],\n",
    "        \"Topic\": row['Topic'],\n",
    "        \"Prompt\": row['Prompt'],\n",
    "        \"Response\": story,\n",
    "        \"Embedding\": embedding\n",
    "    })\n",
    "\n",
    "# Convert the results to a DataFrame\n",
    "df = pd.DataFrame(results)\n",
    "\n",
    "# Display the results DataFrame\n",
    "print(df.head())"
   ]
  },
  {
   "cell_type": "markdown",
   "metadata": {},
   "source": [
    "## UMAP Projection"
   ]
  },
  {
   "cell_type": "code",
   "execution_count": null,
   "metadata": {},
   "outputs": [],
   "source": [
    "# Extract embeddings and transform them to 2D using UMAP\n",
    "embedding_list = df['Embedding'].tolist()  # Directly use the 'Embedding' column as a list\n",
    "umap_model = umap.UMAP(n_components=params['n_components'], n_neighbors=params['n_neighbors'], min_dist=params['min_dist'])\n",
    "embedding_2d = umap_model.fit_transform(embedding_list)\n",
    "\n",
    "# Add the 2D embeddings to the DataFrame\n",
    "df['UMAP1'] = embedding_2d[:, 0]\n",
    "df['UMAP2'] = embedding_2d[:, 1]\n",
    "embedding_2d"
   ]
  },
  {
   "cell_type": "code",
   "execution_count": null,
   "metadata": {},
   "outputs": [],
   "source": [
    "# Apply KMeans clustering\n",
    "kmeans = KMeans(n_clusters=params['cluster_count'], random_state=42)\n",
    "df['cluster'] = kmeans.fit_predict(embedding_2d)\n",
    "print(df['cluster'].unique())\n",
    "df.head(8)"
   ]
  },
  {
   "cell_type": "markdown",
   "metadata": {},
   "source": [
    "## Add summaries of each cluster by calling openai to summarize the cluster."
   ]
  },
  {
   "cell_type": "code",
   "execution_count": null,
   "metadata": {},
   "outputs": [],
   "source": [
    "print(f\"Summarizing {params['cluster_count']} clusters\")\n",
    "for n in range(params['cluster_count']):\n",
    "    print(f'-------- cluster # {n}')\n",
    "    cluster = df[df['cluster'] == n]\n",
    "    responses = ' '.join(cluster['Response'])\n",
    "    prompt = responses + \" Please summarize the above text into a main topic in 7 words or less\"\n",
    "    print(prompt)\n",
    "    topic = get_openai_response(prompt, params['model'])\n",
    "    print(f'--- summary---\\n{topic}')\n",
    "    df.loc[df['cluster'] == n,'Summary'] = topic\n",
    "df.head(8)"
   ]
  },
  {
   "cell_type": "markdown",
   "metadata": {},
   "source": [
    "## Visualize the UMAP"
   ]
  },
  {
   "cell_type": "code",
   "execution_count": null,
   "metadata": {},
   "outputs": [],
   "source": [
    "# Prepare hover text\n",
    "df['hover_text'] = 'Topic: ' + df['Topic'] + '<br>' + 'Summary: ' + df['Summary']\n",
    "\n",
    "# Plot using Plotly\n",
    "fig = px.scatter(\n",
    "    df,\n",
    "    x='UMAP1',\n",
    "    y='UMAP2',\n",
    "    color='Topic',  # Use color based on Topic\n",
    "    hover_name='hover_text',  # Use custom hover text\n",
    "    title='UMAP Visualization of Stories'\n",
    ")\n",
    "\n",
    "fig.show()"
   ]
  },
  {
   "cell_type": "code",
   "execution_count": null,
   "metadata": {},
   "outputs": [],
   "source": []
  }
 ],
 "metadata": {
  "kernelspec": {
   "display_name": "soxm",
   "language": "python",
   "name": "python3"
  },
  "language_info": {
   "codemirror_mode": {
    "name": "ipython",
    "version": 3
   },
   "file_extension": ".py",
   "mimetype": "text/x-python",
   "name": "python",
   "nbconvert_exporter": "python",
   "pygments_lexer": "ipython3",
   "version": "3.9.19"
  }
 },
 "nbformat": 4,
 "nbformat_minor": 2
}
