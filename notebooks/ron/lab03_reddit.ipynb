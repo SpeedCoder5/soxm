{
 "cells": [
  {
   "cell_type": "markdown",
   "metadata": {},
   "source": [
    "# How to Create a Reddit Account and Get API Access Key\n",
    "\n",
    "## Step 1: Create a Reddit Account\n",
    "1. Go to [Reddit](https://www.reddit.com/).  If you already have an account skip to **Step 2** to create an app.\n",
    "2. Click on the **Sign Up** button in the top-right corner.\n",
    "3. Follow the instructions to create your account.\n",
    "\n",
    "## Step 2: Create a Reddit App to Get API Access Key\n",
    "1. Once logged in, navigate to the **Reddit App Preferences**: [www.reddit.com/prefs/apps](https://www.reddit.com/prefs/apps).\n",
    "2. Scroll down to the **Developed Applications** section.\n",
    "3. Click the **Create App** button.\n",
    "4. Fill in the application details:\n",
    "    - **Name:** Choose a name for your application, i.e. `soxm`.\n",
    "    - **App Type:** Select `script`.\n",
    "    - **Description:** (optional) Provide a description of your application, i.e. `student project`.\n",
    "    - **About URL:** (optional) Can be left blank.\n",
    "    - **Redirect URI:** You can enter `http://localhost:8000`.\n",
    "    - **reCAPTCHA:** Check that you are not a robot.\n",
    "    - **Save**: Click the **Create app** button.\n",
    "\n",
    "## Step 3: Note Down Your Credentials\n",
    "Once the app is created, you will receive:\n",
    "- **client_id**: Just under the name of your app.\n",
    "- **client_secret**: Located to the right of the `secret`.\n",
    "- **user_agent**: This can be any descriptive string you choose.\n",
    "- **username**: The Reddit account's username.\n",
    "- **password**: The Reddit account's password.\n",
    "\n",
    "## Step 4: Store Credentials in `reddit_credentials.json`\n",
    "Create a `reddit_credentials.json` file in the root folder of you Innovation Factory Workspace.\n",
    "Store the retrieved credentials as follows:\n",
    "\n",
    "```json\n",
    "{\n",
    "  \"client_id\": \"YOUR_CLIENT_ID\",\n",
    "  \"client_secret\": \"YOUR_CLIENT_SECRET\",\n",
    "  \"user_agent\": \"YOUR_USER_AGENT\",\n",
    "  \"username\": \"YOUR_USERNAME\",\n",
    "  \"password\": \"YOUR_PASSWORD\"\n",
    "}\n",
    "```\n",
    "\n",
    "Note: Replace the placeholder text (`YOUR_CLIENT_ID`, `YOUR_CLIENT_SECRET`, etc.) with the actual values obtained in Step 3.\n",
    "\n",
    "## Step 5: Simple Python Program to Read Credentials\n",
    "Create a Python script (`read_credentials.py`) with the following content to read and print the dictionary from `reddit_credentials.json`:\n",
    "\n",
    "This program reads the API credentials from the `reddit_credentials.json` file and prints them as a dictionary.\n",
    "\n",
    "--- \n",
    "\n",
    "**Note:** Ensure you do not expose your credentials publicly and handle them securely in your applications."
   ]
  },
  {
   "cell_type": "markdown",
   "metadata": {},
   "source": []
  },
  {
   "cell_type": "code",
   "execution_count": null,
   "metadata": {},
   "outputs": [],
   "source": [
    "import json\n",
    "from soxm.Paths import Paths\n",
    "\n",
    "# Ensure the credentials exist\n",
    "credentials_path = Paths.project('reddit_credentials.json') / 'reddit_credentials.json'\n",
    "if not credentials_path.exists():\n",
    "    raise ValueError(f\"No credentials found. {credentials_path} must exist.\")\n",
    "\n",
    "# Read the reddit_credentials.json file\n",
    "with open(credentials_path) as f:\n",
    "    reddit_credentials = json.load(f)\n",
    "\n",
    "# Print the dictionary\n",
    "for key, value in reddit_credentials.items():\n",
    "    print(f'{key} is set')"
   ]
  },
  {
   "cell_type": "code",
   "execution_count": null,
   "metadata": {},
   "outputs": [],
   "source": []
  }
 ],
 "metadata": {
  "kernelspec": {
   "display_name": "soxm",
   "language": "python",
   "name": "python3"
  },
  "language_info": {
   "codemirror_mode": {
    "name": "ipython",
    "version": 3
   },
   "file_extension": ".py",
   "mimetype": "text/x-python",
   "name": "python",
   "nbconvert_exporter": "python",
   "pygments_lexer": "ipython3",
   "version": "3.9.19"
  }
 },
 "nbformat": 4,
 "nbformat_minor": 2
}
