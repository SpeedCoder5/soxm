{
 "cells": [
  {
   "cell_type": "code",
   "execution_count": 4,
   "metadata": {},
   "outputs": [],
   "source": [
    "params = {\n",
    "    'user': 'aaron',\n",
    "    'model': 'gpt-3.5-turbo',\n",
    "    'stories_count': 4,\n",
    "    'topics': ['history','nfl','showerthoughts','politics','bodyweightfitness','PoliticalDiscussion','LeBron James'], \n",
    "    'cluster_count': 6,\n",
    "    'file_id':'17dDeqfiU6PjQyhooO7Mp1cqAqCIv7Euc', # Replace with your actual file ID\n",
    "    'n_components': 2, # UMAP setting\n",
    "    'n_neighbors': 3, # UMAP setting\n",
    "    'min_dist': 0.001, # UMAP setting\n",
    "}\n",
    "import io  # Importing the io module to enable in-memory file operations\n",
    "import json\n",
    "import pandas as pd\n",
    "from dotenv import dotenv_values\n",
    "import openai\n",
    "from openai import OpenAI\n",
    "from googleapiclient.http import MediaIoBaseUpload  # Importing the correct module for in-memory uploads\n",
    "from googleapiclient.discovery import build\n",
    "from oauth2client.service_account import ServiceAccountCredentials\n",
    "import logging\n",
    "from soxm.Paths import Paths\n",
    "from google.auth.transport.requests import Request\n",
    "from google.oauth2.service_account import Credentials\n",
    "from googleapiclient.discovery import build\n",
    "from googleapiclient.http import MediaIoBaseDownload\n",
    "import umap\n",
    "import plotly.express as px\n",
    "from sklearn.neighbors import NearestNeighbors\n",
    "from sklearn.decomposition import PCA\n",
    "from sklearn.cluster import KMeans\n",
    "import numpy as np\n",
    "import re"
   ]
  },
  {
   "cell_type": "code",
   "execution_count": 5,
   "metadata": {},
   "outputs": [
    {
     "name": "stderr",
     "output_type": "stream",
     "text": [
      "INFO:__main__:Authenticating with Google API using service account...\n",
      "INFO:googleapiclient.discovery_cache:file_cache is only supported with oauth2client<4.0.0\n"
     ]
    },
    {
     "name": "stderr",
     "output_type": "stream",
     "text": [
      "INFO:__main__:Download 100% complete.\n",
      "INFO:openai._base_client:Retrying request to /embeddings in 0.771761 seconds\n",
      "INFO:httpx:HTTP Request: POST https://api.openai.com/v1/embeddings \"HTTP/1.1 200 OK\"\n",
      "INFO:httpx:HTTP Request: POST https://api.openai.com/v1/embeddings \"HTTP/1.1 200 OK\"\n",
      "INFO:httpx:HTTP Request: POST https://api.openai.com/v1/embeddings \"HTTP/1.1 200 OK\"\n",
      "INFO:httpx:HTTP Request: POST https://api.openai.com/v1/embeddings \"HTTP/1.1 200 OK\"\n",
      "INFO:httpx:HTTP Request: POST https://api.openai.com/v1/embeddings \"HTTP/1.1 200 OK\"\n",
      "INFO:httpx:HTTP Request: POST https://api.openai.com/v1/embeddings \"HTTP/1.1 200 OK\"\n",
      "INFO:httpx:HTTP Request: POST https://api.openai.com/v1/embeddings \"HTTP/1.1 200 OK\"\n",
      "INFO:httpx:HTTP Request: POST https://api.openai.com/v1/embeddings \"HTTP/1.1 200 OK\"\n",
      "INFO:httpx:HTTP Request: POST https://api.openai.com/v1/embeddings \"HTTP/1.1 200 OK\"\n",
      "INFO:httpx:HTTP Request: POST https://api.openai.com/v1/embeddings \"HTTP/1.1 200 OK\"\n",
      "INFO:httpx:HTTP Request: POST https://api.openai.com/v1/embeddings \"HTTP/1.1 200 OK\"\n",
      "INFO:httpx:HTTP Request: POST https://api.openai.com/v1/embeddings \"HTTP/1.1 200 OK\"\n",
      "INFO:httpx:HTTP Request: POST https://api.openai.com/v1/embeddings \"HTTP/1.1 200 OK\"\n",
      "INFO:httpx:HTTP Request: POST https://api.openai.com/v1/embeddings \"HTTP/1.1 200 OK\"\n",
      "INFO:httpx:HTTP Request: POST https://api.openai.com/v1/embeddings \"HTTP/1.1 200 OK\"\n",
      "INFO:httpx:HTTP Request: POST https://api.openai.com/v1/embeddings \"HTTP/1.1 200 OK\"\n",
      "INFO:httpx:HTTP Request: POST https://api.openai.com/v1/embeddings \"HTTP/1.1 200 OK\"\n",
      "INFO:httpx:HTTP Request: POST https://api.openai.com/v1/embeddings \"HTTP/1.1 200 OK\"\n",
      "INFO:httpx:HTTP Request: POST https://api.openai.com/v1/embeddings \"HTTP/1.1 200 OK\"\n",
      "INFO:httpx:HTTP Request: POST https://api.openai.com/v1/embeddings \"HTTP/1.1 200 OK\"\n",
      "INFO:httpx:HTTP Request: POST https://api.openai.com/v1/embeddings \"HTTP/1.1 200 OK\"\n",
      "INFO:httpx:HTTP Request: POST https://api.openai.com/v1/embeddings \"HTTP/1.1 200 OK\"\n",
      "INFO:httpx:HTTP Request: POST https://api.openai.com/v1/embeddings \"HTTP/1.1 200 OK\"\n",
      "INFO:httpx:HTTP Request: POST https://api.openai.com/v1/embeddings \"HTTP/1.1 200 OK\"\n",
      "INFO:httpx:HTTP Request: POST https://api.openai.com/v1/embeddings \"HTTP/1.1 200 OK\"\n",
      "INFO:httpx:HTTP Request: POST https://api.openai.com/v1/embeddings \"HTTP/1.1 200 OK\"\n",
      "INFO:httpx:HTTP Request: POST https://api.openai.com/v1/embeddings \"HTTP/1.1 200 OK\"\n",
      "INFO:httpx:HTTP Request: POST https://api.openai.com/v1/embeddings \"HTTP/1.1 200 OK\"\n",
      "INFO:httpx:HTTP Request: POST https://api.openai.com/v1/embeddings \"HTTP/1.1 200 OK\"\n",
      "INFO:httpx:HTTP Request: POST https://api.openai.com/v1/embeddings \"HTTP/1.1 200 OK\"\n",
      "INFO:httpx:HTTP Request: POST https://api.openai.com/v1/embeddings \"HTTP/1.1 200 OK\"\n",
      "INFO:httpx:HTTP Request: POST https://api.openai.com/v1/embeddings \"HTTP/1.1 200 OK\"\n",
      "INFO:httpx:HTTP Request: POST https://api.openai.com/v1/embeddings \"HTTP/1.1 200 OK\"\n",
      "INFO:httpx:HTTP Request: POST https://api.openai.com/v1/embeddings \"HTTP/1.1 200 OK\"\n",
      "INFO:httpx:HTTP Request: POST https://api.openai.com/v1/embeddings \"HTTP/1.1 200 OK\"\n",
      "INFO:httpx:HTTP Request: POST https://api.openai.com/v1/embeddings \"HTTP/1.1 200 OK\"\n",
      "INFO:httpx:HTTP Request: POST https://api.openai.com/v1/embeddings \"HTTP/1.1 200 OK\"\n",
      "INFO:httpx:HTTP Request: POST https://api.openai.com/v1/embeddings \"HTTP/1.1 200 OK\"\n",
      "INFO:httpx:HTTP Request: POST https://api.openai.com/v1/embeddings \"HTTP/1.1 200 OK\"\n",
      "INFO:httpx:HTTP Request: POST https://api.openai.com/v1/embeddings \"HTTP/1.1 200 OK\"\n",
      "INFO:httpx:HTTP Request: POST https://api.openai.com/v1/embeddings \"HTTP/1.1 200 OK\"\n",
      "INFO:httpx:HTTP Request: POST https://api.openai.com/v1/embeddings \"HTTP/1.1 200 OK\"\n",
      "INFO:httpx:HTTP Request: POST https://api.openai.com/v1/embeddings \"HTTP/1.1 200 OK\"\n",
      "INFO:httpx:HTTP Request: POST https://api.openai.com/v1/embeddings \"HTTP/1.1 200 OK\"\n",
      "INFO:httpx:HTTP Request: POST https://api.openai.com/v1/embeddings \"HTTP/1.1 200 OK\"\n",
      "INFO:httpx:HTTP Request: POST https://api.openai.com/v1/embeddings \"HTTP/1.1 200 OK\"\n",
      "INFO:httpx:HTTP Request: POST https://api.openai.com/v1/embeddings \"HTTP/1.1 200 OK\"\n",
      "INFO:httpx:HTTP Request: POST https://api.openai.com/v1/embeddings \"HTTP/1.1 200 OK\"\n",
      "INFO:httpx:HTTP Request: POST https://api.openai.com/v1/embeddings \"HTTP/1.1 200 OK\"\n",
      "INFO:httpx:HTTP Request: POST https://api.openai.com/v1/embeddings \"HTTP/1.1 200 OK\"\n",
      "INFO:httpx:HTTP Request: POST https://api.openai.com/v1/embeddings \"HTTP/1.1 200 OK\"\n",
      "INFO:httpx:HTTP Request: POST https://api.openai.com/v1/embeddings \"HTTP/1.1 200 OK\"\n",
      "INFO:httpx:HTTP Request: POST https://api.openai.com/v1/embeddings \"HTTP/1.1 200 OK\"\n",
      "INFO:httpx:HTTP Request: POST https://api.openai.com/v1/embeddings \"HTTP/1.1 200 OK\"\n",
      "INFO:httpx:HTTP Request: POST https://api.openai.com/v1/embeddings \"HTTP/1.1 200 OK\"\n",
      "INFO:httpx:HTTP Request: POST https://api.openai.com/v1/embeddings \"HTTP/1.1 200 OK\"\n",
      "INFO:httpx:HTTP Request: POST https://api.openai.com/v1/embeddings \"HTTP/1.1 200 OK\"\n",
      "INFO:httpx:HTTP Request: POST https://api.openai.com/v1/embeddings \"HTTP/1.1 200 OK\"\n",
      "INFO:httpx:HTTP Request: POST https://api.openai.com/v1/embeddings \"HTTP/1.1 200 OK\"\n",
      "INFO:httpx:HTTP Request: POST https://api.openai.com/v1/embeddings \"HTTP/1.1 200 OK\"\n",
      "INFO:httpx:HTTP Request: POST https://api.openai.com/v1/embeddings \"HTTP/1.1 200 OK\"\n",
      "INFO:httpx:HTTP Request: POST https://api.openai.com/v1/embeddings \"HTTP/1.1 200 OK\"\n",
      "INFO:httpx:HTTP Request: POST https://api.openai.com/v1/embeddings \"HTTP/1.1 200 OK\"\n",
      "INFO:httpx:HTTP Request: POST https://api.openai.com/v1/embeddings \"HTTP/1.1 200 OK\"\n",
      "INFO:httpx:HTTP Request: POST https://api.openai.com/v1/embeddings \"HTTP/1.1 200 OK\"\n",
      "INFO:httpx:HTTP Request: POST https://api.openai.com/v1/embeddings \"HTTP/1.1 200 OK\"\n",
      "INFO:httpx:HTTP Request: POST https://api.openai.com/v1/embeddings \"HTTP/1.1 200 OK\"\n",
      "INFO:httpx:HTTP Request: POST https://api.openai.com/v1/embeddings \"HTTP/1.1 200 OK\"\n",
      "INFO:httpx:HTTP Request: POST https://api.openai.com/v1/embeddings \"HTTP/1.1 200 OK\"\n",
      "INFO:httpx:HTTP Request: POST https://api.openai.com/v1/embeddings \"HTTP/1.1 200 OK\"\n",
      "INFO:httpx:HTTP Request: POST https://api.openai.com/v1/embeddings \"HTTP/1.1 200 OK\"\n",
      "INFO:httpx:HTTP Request: POST https://api.openai.com/v1/embeddings \"HTTP/1.1 200 OK\"\n",
      "INFO:httpx:HTTP Request: POST https://api.openai.com/v1/embeddings \"HTTP/1.1 200 OK\"\n",
      "INFO:httpx:HTTP Request: POST https://api.openai.com/v1/embeddings \"HTTP/1.1 200 OK\"\n",
      "INFO:httpx:HTTP Request: POST https://api.openai.com/v1/embeddings \"HTTP/1.1 200 OK\"\n",
      "INFO:httpx:HTTP Request: POST https://api.openai.com/v1/embeddings \"HTTP/1.1 200 OK\"\n",
      "INFO:httpx:HTTP Request: POST https://api.openai.com/v1/embeddings \"HTTP/1.1 200 OK\"\n",
      "INFO:httpx:HTTP Request: POST https://api.openai.com/v1/embeddings \"HTTP/1.1 200 OK\"\n",
      "INFO:httpx:HTTP Request: POST https://api.openai.com/v1/embeddings \"HTTP/1.1 200 OK\"\n",
      "INFO:httpx:HTTP Request: POST https://api.openai.com/v1/embeddings \"HTTP/1.1 200 OK\"\n",
      "INFO:httpx:HTTP Request: POST https://api.openai.com/v1/embeddings \"HTTP/1.1 200 OK\"\n",
      "INFO:httpx:HTTP Request: POST https://api.openai.com/v1/embeddings \"HTTP/1.1 200 OK\"\n",
      "INFO:httpx:HTTP Request: POST https://api.openai.com/v1/embeddings \"HTTP/1.1 200 OK\"\n",
      "INFO:httpx:HTTP Request: POST https://api.openai.com/v1/embeddings \"HTTP/1.1 200 OK\"\n",
      "INFO:httpx:HTTP Request: POST https://api.openai.com/v1/embeddings \"HTTP/1.1 200 OK\"\n",
      "INFO:httpx:HTTP Request: POST https://api.openai.com/v1/embeddings \"HTTP/1.1 200 OK\"\n",
      "INFO:httpx:HTTP Request: POST https://api.openai.com/v1/embeddings \"HTTP/1.1 200 OK\"\n",
      "INFO:httpx:HTTP Request: POST https://api.openai.com/v1/embeddings \"HTTP/1.1 200 OK\"\n",
      "INFO:httpx:HTTP Request: POST https://api.openai.com/v1/embeddings \"HTTP/1.1 200 OK\"\n",
      "INFO:httpx:HTTP Request: POST https://api.openai.com/v1/embeddings \"HTTP/1.1 200 OK\"\n",
      "INFO:httpx:HTTP Request: POST https://api.openai.com/v1/embeddings \"HTTP/1.1 200 OK\"\n",
      "INFO:httpx:HTTP Request: POST https://api.openai.com/v1/embeddings \"HTTP/1.1 200 OK\"\n",
      "INFO:httpx:HTTP Request: POST https://api.openai.com/v1/embeddings \"HTTP/1.1 200 OK\"\n",
      "INFO:httpx:HTTP Request: POST https://api.openai.com/v1/embeddings \"HTTP/1.1 200 OK\"\n",
      "INFO:httpx:HTTP Request: POST https://api.openai.com/v1/embeddings \"HTTP/1.1 200 OK\"\n",
      "INFO:httpx:HTTP Request: POST https://api.openai.com/v1/embeddings \"HTTP/1.1 200 OK\"\n",
      "INFO:httpx:HTTP Request: POST https://api.openai.com/v1/embeddings \"HTTP/1.1 200 OK\"\n",
      "INFO:httpx:HTTP Request: POST https://api.openai.com/v1/embeddings \"HTTP/1.1 200 OK\"\n",
      "INFO:httpx:HTTP Request: POST https://api.openai.com/v1/embeddings \"HTTP/1.1 200 OK\"\n",
      "INFO:httpx:HTTP Request: POST https://api.openai.com/v1/embeddings \"HTTP/1.1 200 OK\"\n",
      "INFO:httpx:HTTP Request: POST https://api.openai.com/v1/embeddings \"HTTP/1.1 200 OK\"\n",
      "INFO:httpx:HTTP Request: POST https://api.openai.com/v1/embeddings \"HTTP/1.1 200 OK\"\n",
      "INFO:httpx:HTTP Request: POST https://api.openai.com/v1/embeddings \"HTTP/1.1 200 OK\"\n",
      "INFO:httpx:HTTP Request: POST https://api.openai.com/v1/embeddings \"HTTP/1.1 200 OK\"\n",
      "INFO:httpx:HTTP Request: POST https://api.openai.com/v1/embeddings \"HTTP/1.1 200 OK\"\n",
      "INFO:httpx:HTTP Request: POST https://api.openai.com/v1/embeddings \"HTTP/1.1 200 OK\"\n",
      "INFO:httpx:HTTP Request: POST https://api.openai.com/v1/embeddings \"HTTP/1.1 200 OK\"\n",
      "INFO:httpx:HTTP Request: POST https://api.openai.com/v1/embeddings \"HTTP/1.1 200 OK\"\n",
      "INFO:httpx:HTTP Request: POST https://api.openai.com/v1/embeddings \"HTTP/1.1 200 OK\"\n",
      "INFO:httpx:HTTP Request: POST https://api.openai.com/v1/embeddings \"HTTP/1.1 200 OK\"\n",
      "INFO:httpx:HTTP Request: POST https://api.openai.com/v1/embeddings \"HTTP/1.1 200 OK\"\n",
      "INFO:httpx:HTTP Request: POST https://api.openai.com/v1/embeddings \"HTTP/1.1 200 OK\"\n",
      "INFO:httpx:HTTP Request: POST https://api.openai.com/v1/embeddings \"HTTP/1.1 200 OK\"\n",
      "INFO:httpx:HTTP Request: POST https://api.openai.com/v1/embeddings \"HTTP/1.1 200 OK\"\n",
      "INFO:httpx:HTTP Request: POST https://api.openai.com/v1/embeddings \"HTTP/1.1 200 OK\"\n",
      "INFO:httpx:HTTP Request: POST https://api.openai.com/v1/embeddings \"HTTP/1.1 200 OK\"\n",
      "INFO:httpx:HTTP Request: POST https://api.openai.com/v1/embeddings \"HTTP/1.1 200 OK\"\n",
      "INFO:httpx:HTTP Request: POST https://api.openai.com/v1/embeddings \"HTTP/1.1 200 OK\"\n",
      "INFO:httpx:HTTP Request: POST https://api.openai.com/v1/embeddings \"HTTP/1.1 200 OK\"\n",
      "INFO:httpx:HTTP Request: POST https://api.openai.com/v1/embeddings \"HTTP/1.1 200 OK\"\n",
      "INFO:httpx:HTTP Request: POST https://api.openai.com/v1/embeddings \"HTTP/1.1 200 OK\"\n",
      "INFO:httpx:HTTP Request: POST https://api.openai.com/v1/embeddings \"HTTP/1.1 200 OK\"\n",
      "INFO:httpx:HTTP Request: POST https://api.openai.com/v1/embeddings \"HTTP/1.1 200 OK\"\n",
      "INFO:httpx:HTTP Request: POST https://api.openai.com/v1/embeddings \"HTTP/1.1 200 OK\"\n",
      "INFO:httpx:HTTP Request: POST https://api.openai.com/v1/embeddings \"HTTP/1.1 200 OK\"\n",
      "INFO:httpx:HTTP Request: POST https://api.openai.com/v1/embeddings \"HTTP/1.1 200 OK\"\n",
      "INFO:httpx:HTTP Request: POST https://api.openai.com/v1/embeddings \"HTTP/1.1 200 OK\"\n",
      "INFO:httpx:HTTP Request: POST https://api.openai.com/v1/embeddings \"HTTP/1.1 200 OK\"\n",
      "INFO:httpx:HTTP Request: POST https://api.openai.com/v1/embeddings \"HTTP/1.1 200 OK\"\n",
      "INFO:httpx:HTTP Request: POST https://api.openai.com/v1/embeddings \"HTTP/1.1 200 OK\"\n",
      "INFO:httpx:HTTP Request: POST https://api.openai.com/v1/embeddings \"HTTP/1.1 200 OK\"\n",
      "INFO:httpx:HTTP Request: POST https://api.openai.com/v1/embeddings \"HTTP/1.1 200 OK\"\n",
      "INFO:httpx:HTTP Request: POST https://api.openai.com/v1/embeddings \"HTTP/1.1 200 OK\"\n",
      "INFO:httpx:HTTP Request: POST https://api.openai.com/v1/embeddings \"HTTP/1.1 200 OK\"\n",
      "INFO:httpx:HTTP Request: POST https://api.openai.com/v1/embeddings \"HTTP/1.1 200 OK\"\n",
      "INFO:httpx:HTTP Request: POST https://api.openai.com/v1/embeddings \"HTTP/1.1 200 OK\"\n",
      "INFO:httpx:HTTP Request: POST https://api.openai.com/v1/embeddings \"HTTP/1.1 200 OK\"\n",
      "INFO:httpx:HTTP Request: POST https://api.openai.com/v1/embeddings \"HTTP/1.1 200 OK\"\n",
      "INFO:httpx:HTTP Request: POST https://api.openai.com/v1/embeddings \"HTTP/1.1 200 OK\"\n",
      "INFO:httpx:HTTP Request: POST https://api.openai.com/v1/embeddings \"HTTP/1.1 200 OK\"\n",
      "INFO:httpx:HTTP Request: POST https://api.openai.com/v1/embeddings \"HTTP/1.1 200 OK\"\n",
      "INFO:httpx:HTTP Request: POST https://api.openai.com/v1/embeddings \"HTTP/1.1 200 OK\"\n",
      "INFO:httpx:HTTP Request: POST https://api.openai.com/v1/embeddings \"HTTP/1.1 200 OK\"\n",
      "INFO:httpx:HTTP Request: POST https://api.openai.com/v1/embeddings \"HTTP/1.1 200 OK\"\n",
      "INFO:httpx:HTTP Request: POST https://api.openai.com/v1/embeddings \"HTTP/1.1 200 OK\"\n",
      "INFO:httpx:HTTP Request: POST https://api.openai.com/v1/embeddings \"HTTP/1.1 200 OK\"\n",
      "INFO:httpx:HTTP Request: POST https://api.openai.com/v1/embeddings \"HTTP/1.1 200 OK\"\n",
      "INFO:httpx:HTTP Request: POST https://api.openai.com/v1/embeddings \"HTTP/1.1 200 OK\"\n",
      "INFO:httpx:HTTP Request: POST https://api.openai.com/v1/embeddings \"HTTP/1.1 200 OK\"\n",
      "INFO:httpx:HTTP Request: POST https://api.openai.com/v1/embeddings \"HTTP/1.1 200 OK\"\n",
      "INFO:httpx:HTTP Request: POST https://api.openai.com/v1/embeddings \"HTTP/1.1 200 OK\"\n",
      "INFO:httpx:HTTP Request: POST https://api.openai.com/v1/embeddings \"HTTP/1.1 200 OK\"\n",
      "INFO:httpx:HTTP Request: POST https://api.openai.com/v1/embeddings \"HTTP/1.1 200 OK\"\n",
      "INFO:httpx:HTTP Request: POST https://api.openai.com/v1/embeddings \"HTTP/1.1 200 OK\"\n",
      "INFO:httpx:HTTP Request: POST https://api.openai.com/v1/embeddings \"HTTP/1.1 200 OK\"\n",
      "INFO:httpx:HTTP Request: POST https://api.openai.com/v1/embeddings \"HTTP/1.1 200 OK\"\n",
      "INFO:httpx:HTTP Request: POST https://api.openai.com/v1/embeddings \"HTTP/1.1 200 OK\"\n",
      "INFO:httpx:HTTP Request: POST https://api.openai.com/v1/embeddings \"HTTP/1.1 200 OK\"\n",
      "INFO:httpx:HTTP Request: POST https://api.openai.com/v1/embeddings \"HTTP/1.1 200 OK\"\n",
      "INFO:httpx:HTTP Request: POST https://api.openai.com/v1/embeddings \"HTTP/1.1 200 OK\"\n",
      "INFO:httpx:HTTP Request: POST https://api.openai.com/v1/embeddings \"HTTP/1.1 200 OK\"\n",
      "INFO:httpx:HTTP Request: POST https://api.openai.com/v1/embeddings \"HTTP/1.1 200 OK\"\n",
      "INFO:httpx:HTTP Request: POST https://api.openai.com/v1/embeddings \"HTTP/1.1 200 OK\"\n",
      "INFO:httpx:HTTP Request: POST https://api.openai.com/v1/embeddings \"HTTP/1.1 200 OK\"\n",
      "INFO:httpx:HTTP Request: POST https://api.openai.com/v1/embeddings \"HTTP/1.1 200 OK\"\n",
      "INFO:httpx:HTTP Request: POST https://api.openai.com/v1/embeddings \"HTTP/1.1 200 OK\"\n",
      "INFO:httpx:HTTP Request: POST https://api.openai.com/v1/embeddings \"HTTP/1.1 200 OK\"\n",
      "INFO:httpx:HTTP Request: POST https://api.openai.com/v1/embeddings \"HTTP/1.1 200 OK\"\n",
      "INFO:httpx:HTTP Request: POST https://api.openai.com/v1/embeddings \"HTTP/1.1 200 OK\"\n",
      "INFO:httpx:HTTP Request: POST https://api.openai.com/v1/embeddings \"HTTP/1.1 200 OK\"\n",
      "INFO:httpx:HTTP Request: POST https://api.openai.com/v1/embeddings \"HTTP/1.1 200 OK\"\n",
      "INFO:httpx:HTTP Request: POST https://api.openai.com/v1/embeddings \"HTTP/1.1 200 OK\"\n",
      "INFO:httpx:HTTP Request: POST https://api.openai.com/v1/embeddings \"HTTP/1.1 200 OK\"\n",
      "INFO:httpx:HTTP Request: POST https://api.openai.com/v1/embeddings \"HTTP/1.1 200 OK\"\n",
      "INFO:httpx:HTTP Request: POST https://api.openai.com/v1/embeddings \"HTTP/1.1 200 OK\"\n",
      "INFO:httpx:HTTP Request: POST https://api.openai.com/v1/embeddings \"HTTP/1.1 200 OK\"\n",
      "INFO:httpx:HTTP Request: POST https://api.openai.com/v1/embeddings \"HTTP/1.1 200 OK\"\n",
      "INFO:httpx:HTTP Request: POST https://api.openai.com/v1/embeddings \"HTTP/1.1 200 OK\"\n",
      "INFO:httpx:HTTP Request: POST https://api.openai.com/v1/embeddings \"HTTP/1.1 200 OK\"\n",
      "INFO:httpx:HTTP Request: POST https://api.openai.com/v1/embeddings \"HTTP/1.1 200 OK\"\n",
      "INFO:httpx:HTTP Request: POST https://api.openai.com/v1/embeddings \"HTTP/1.1 200 OK\"\n",
      "INFO:httpx:HTTP Request: POST https://api.openai.com/v1/embeddings \"HTTP/1.1 200 OK\"\n",
      "INFO:httpx:HTTP Request: POST https://api.openai.com/v1/embeddings \"HTTP/1.1 200 OK\"\n",
      "INFO:httpx:HTTP Request: POST https://api.openai.com/v1/embeddings \"HTTP/1.1 200 OK\"\n",
      "INFO:httpx:HTTP Request: POST https://api.openai.com/v1/embeddings \"HTTP/1.1 200 OK\"\n",
      "INFO:httpx:HTTP Request: POST https://api.openai.com/v1/embeddings \"HTTP/1.1 200 OK\"\n",
      "INFO:httpx:HTTP Request: POST https://api.openai.com/v1/embeddings \"HTTP/1.1 200 OK\"\n",
      "INFO:httpx:HTTP Request: POST https://api.openai.com/v1/embeddings \"HTTP/1.1 200 OK\"\n",
      "INFO:httpx:HTTP Request: POST https://api.openai.com/v1/embeddings \"HTTP/1.1 200 OK\"\n",
      "INFO:httpx:HTTP Request: POST https://api.openai.com/v1/embeddings \"HTTP/1.1 200 OK\"\n",
      "INFO:httpx:HTTP Request: POST https://api.openai.com/v1/embeddings \"HTTP/1.1 200 OK\"\n",
      "INFO:httpx:HTTP Request: POST https://api.openai.com/v1/embeddings \"HTTP/1.1 200 OK\"\n",
      "INFO:httpx:HTTP Request: POST https://api.openai.com/v1/embeddings \"HTTP/1.1 200 OK\"\n",
      "INFO:httpx:HTTP Request: POST https://api.openai.com/v1/embeddings \"HTTP/1.1 200 OK\"\n",
      "INFO:httpx:HTTP Request: POST https://api.openai.com/v1/embeddings \"HTTP/1.1 200 OK\"\n",
      "INFO:httpx:HTTP Request: POST https://api.openai.com/v1/embeddings \"HTTP/1.1 200 OK\"\n",
      "INFO:httpx:HTTP Request: POST https://api.openai.com/v1/embeddings \"HTTP/1.1 200 OK\"\n",
      "INFO:httpx:HTTP Request: POST https://api.openai.com/v1/embeddings \"HTTP/1.1 200 OK\"\n",
      "INFO:httpx:HTTP Request: POST https://api.openai.com/v1/embeddings \"HTTP/1.1 200 OK\"\n",
      "INFO:httpx:HTTP Request: POST https://api.openai.com/v1/embeddings \"HTTP/1.1 200 OK\"\n",
      "INFO:httpx:HTTP Request: POST https://api.openai.com/v1/embeddings \"HTTP/1.1 200 OK\"\n",
      "INFO:httpx:HTTP Request: POST https://api.openai.com/v1/embeddings \"HTTP/1.1 200 OK\"\n",
      "INFO:httpx:HTTP Request: POST https://api.openai.com/v1/embeddings \"HTTP/1.1 200 OK\"\n",
      "INFO:httpx:HTTP Request: POST https://api.openai.com/v1/embeddings \"HTTP/1.1 200 OK\"\n",
      "INFO:httpx:HTTP Request: POST https://api.openai.com/v1/embeddings \"HTTP/1.1 200 OK\"\n",
      "INFO:httpx:HTTP Request: POST https://api.openai.com/v1/embeddings \"HTTP/1.1 200 OK\"\n",
      "INFO:httpx:HTTP Request: POST https://api.openai.com/v1/embeddings \"HTTP/1.1 200 OK\"\n",
      "INFO:httpx:HTTP Request: POST https://api.openai.com/v1/embeddings \"HTTP/1.1 200 OK\"\n",
      "INFO:httpx:HTTP Request: POST https://api.openai.com/v1/embeddings \"HTTP/1.1 200 OK\"\n",
      "INFO:httpx:HTTP Request: POST https://api.openai.com/v1/embeddings \"HTTP/1.1 200 OK\"\n",
      "INFO:httpx:HTTP Request: POST https://api.openai.com/v1/embeddings \"HTTP/1.1 200 OK\"\n",
      "INFO:httpx:HTTP Request: POST https://api.openai.com/v1/embeddings \"HTTP/1.1 200 OK\"\n",
      "INFO:httpx:HTTP Request: POST https://api.openai.com/v1/embeddings \"HTTP/1.1 200 OK\"\n",
      "INFO:httpx:HTTP Request: POST https://api.openai.com/v1/embeddings \"HTTP/1.1 200 OK\"\n",
      "INFO:httpx:HTTP Request: POST https://api.openai.com/v1/embeddings \"HTTP/1.1 200 OK\"\n",
      "INFO:httpx:HTTP Request: POST https://api.openai.com/v1/embeddings \"HTTP/1.1 200 OK\"\n",
      "INFO:httpx:HTTP Request: POST https://api.openai.com/v1/embeddings \"HTTP/1.1 200 OK\"\n",
      "INFO:httpx:HTTP Request: POST https://api.openai.com/v1/embeddings \"HTTP/1.1 200 OK\"\n",
      "INFO:httpx:HTTP Request: POST https://api.openai.com/v1/embeddings \"HTTP/1.1 200 OK\"\n",
      "INFO:httpx:HTTP Request: POST https://api.openai.com/v1/embeddings \"HTTP/1.1 200 OK\"\n",
      "INFO:httpx:HTTP Request: POST https://api.openai.com/v1/embeddings \"HTTP/1.1 200 OK\"\n",
      "INFO:httpx:HTTP Request: POST https://api.openai.com/v1/embeddings \"HTTP/1.1 200 OK\"\n",
      "INFO:httpx:HTTP Request: POST https://api.openai.com/v1/embeddings \"HTTP/1.1 200 OK\"\n",
      "INFO:httpx:HTTP Request: POST https://api.openai.com/v1/embeddings \"HTTP/1.1 200 OK\"\n",
      "INFO:httpx:HTTP Request: POST https://api.openai.com/v1/embeddings \"HTTP/1.1 200 OK\"\n",
      "INFO:httpx:HTTP Request: POST https://api.openai.com/v1/embeddings \"HTTP/1.1 200 OK\"\n",
      "INFO:httpx:HTTP Request: POST https://api.openai.com/v1/embeddings \"HTTP/1.1 200 OK\"\n",
      "INFO:httpx:HTTP Request: POST https://api.openai.com/v1/embeddings \"HTTP/1.1 200 OK\"\n",
      "INFO:httpx:HTTP Request: POST https://api.openai.com/v1/embeddings \"HTTP/1.1 200 OK\"\n",
      "INFO:httpx:HTTP Request: POST https://api.openai.com/v1/embeddings \"HTTP/1.1 200 OK\"\n",
      "INFO:httpx:HTTP Request: POST https://api.openai.com/v1/embeddings \"HTTP/1.1 200 OK\"\n",
      "INFO:httpx:HTTP Request: POST https://api.openai.com/v1/embeddings \"HTTP/1.1 200 OK\"\n",
      "INFO:httpx:HTTP Request: POST https://api.openai.com/v1/embeddings \"HTTP/1.1 200 OK\"\n",
      "INFO:httpx:HTTP Request: POST https://api.openai.com/v1/embeddings \"HTTP/1.1 200 OK\"\n",
      "INFO:httpx:HTTP Request: POST https://api.openai.com/v1/embeddings \"HTTP/1.1 200 OK\"\n",
      "INFO:httpx:HTTP Request: POST https://api.openai.com/v1/embeddings \"HTTP/1.1 200 OK\"\n",
      "INFO:httpx:HTTP Request: POST https://api.openai.com/v1/embeddings \"HTTP/1.1 200 OK\"\n",
      "INFO:httpx:HTTP Request: POST https://api.openai.com/v1/embeddings \"HTTP/1.1 200 OK\"\n",
      "INFO:httpx:HTTP Request: POST https://api.openai.com/v1/embeddings \"HTTP/1.1 200 OK\"\n",
      "INFO:httpx:HTTP Request: POST https://api.openai.com/v1/embeddings \"HTTP/1.1 200 OK\"\n",
      "INFO:httpx:HTTP Request: POST https://api.openai.com/v1/embeddings \"HTTP/1.1 200 OK\"\n",
      "INFO:httpx:HTTP Request: POST https://api.openai.com/v1/embeddings \"HTTP/1.1 200 OK\"\n",
      "INFO:httpx:HTTP Request: POST https://api.openai.com/v1/embeddings \"HTTP/1.1 200 OK\"\n",
      "INFO:httpx:HTTP Request: POST https://api.openai.com/v1/embeddings \"HTTP/1.1 200 OK\"\n",
      "INFO:httpx:HTTP Request: POST https://api.openai.com/v1/embeddings \"HTTP/1.1 200 OK\"\n",
      "INFO:httpx:HTTP Request: POST https://api.openai.com/v1/embeddings \"HTTP/1.1 200 OK\"\n",
      "INFO:httpx:HTTP Request: POST https://api.openai.com/v1/embeddings \"HTTP/1.1 200 OK\"\n",
      "INFO:httpx:HTTP Request: POST https://api.openai.com/v1/embeddings \"HTTP/1.1 200 OK\"\n",
      "INFO:httpx:HTTP Request: POST https://api.openai.com/v1/embeddings \"HTTP/1.1 200 OK\"\n",
      "INFO:httpx:HTTP Request: POST https://api.openai.com/v1/embeddings \"HTTP/1.1 200 OK\"\n",
      "INFO:httpx:HTTP Request: POST https://api.openai.com/v1/embeddings \"HTTP/1.1 200 OK\"\n",
      "INFO:httpx:HTTP Request: POST https://api.openai.com/v1/embeddings \"HTTP/1.1 200 OK\"\n",
      "INFO:httpx:HTTP Request: POST https://api.openai.com/v1/embeddings \"HTTP/1.1 200 OK\"\n",
      "INFO:httpx:HTTP Request: POST https://api.openai.com/v1/embeddings \"HTTP/1.1 200 OK\"\n",
      "INFO:httpx:HTTP Request: POST https://api.openai.com/v1/chat/completions \"HTTP/1.1 200 OK\"\n",
      "INFO:httpx:HTTP Request: POST https://api.openai.com/v1/chat/completions \"HTTP/1.1 200 OK\"\n",
      "INFO:httpx:HTTP Request: POST https://api.openai.com/v1/chat/completions \"HTTP/1.1 200 OK\"\n",
      "INFO:httpx:HTTP Request: POST https://api.openai.com/v1/chat/completions \"HTTP/1.1 200 OK\"\n",
      "INFO:httpx:HTTP Request: POST https://api.openai.com/v1/chat/completions \"HTTP/1.1 200 OK\"\n",
      "INFO:httpx:HTTP Request: POST https://api.openai.com/v1/chat/completions \"HTTP/1.1 200 OK\"\n"
     ]
    },
    {
     "name": "stdout",
     "output_type": "stream",
     "text": [
      "             Model                Topic  \\\n",
      "0    gpt-3.5-turbo              history   \n",
      "1    gpt-3.5-turbo              history   \n",
      "2    gpt-3.5-turbo              history   \n",
      "3    gpt-3.5-turbo              history   \n",
      "4    gpt-3.5-turbo              history   \n",
      "..             ...                  ...   \n",
      "249  gpt-3.5-turbo  PoliticalDiscussion   \n",
      "250  gpt-3.5-turbo  PoliticalDiscussion   \n",
      "251  gpt-3.5-turbo  PoliticalDiscussion   \n",
      "252  gpt-3.5-turbo  PoliticalDiscussion   \n",
      "253  gpt-3.5-turbo  PoliticalDiscussion   \n",
      "\n",
      "                                                Prompt  \\\n",
      "0    Examine the following post and determine if it...   \n",
      "1    Examine the following post and determine if it...   \n",
      "2    Examine the following post and determine if it...   \n",
      "3    Examine the following post and determine if it...   \n",
      "4    Examine the following post and determine if it...   \n",
      "..                                                 ...   \n",
      "249  Examine the following post and determine if it...   \n",
      "250  Examine the following post and determine if it...   \n",
      "251  Examine the following post and determine if it...   \n",
      "252  Examine the following post and determine if it...   \n",
      "253  Examine the following post and determine if it...   \n",
      "\n",
      "                                              Response  \\\n",
      "0    _SAFE_ This post does not appear to be manipul...   \n",
      "1    _SAFE_ This post is not manipulative. It is pr...   \n",
      "2                                               _SAFE_   \n",
      "3                                               _SAFE_   \n",
      "4    _SAFE_\\n\\nThis post does not appear to be mani...   \n",
      "..                                                 ...   \n",
      "249  This post does not appear to be manipulative. ...   \n",
      "250  This post is _SAFE_. It is simply prompting a ...   \n",
      "251  This post could be considered manipulative as ...   \n",
      "252  This post is _SAFE_. It engages in a thought-p...   \n",
      "253  _NOT_MANIPULATIVE_\\n\\nThis post does not seem ...   \n",
      "\n",
      "                                             Embedding  cluster  \\\n",
      "0    [0.008761108852922916, -0.006837354972958565, ...        2   \n",
      "1    [-0.019158564507961273, -0.003942448645830154,...        2   \n",
      "2    [-0.00042764408863149583, -0.01996547915041446...        0   \n",
      "3    [-0.00042764408863149583, -0.01996547915041446...        0   \n",
      "4    [-0.014161338098347187, -0.003968026023358107,...        2   \n",
      "..                                                 ...      ...   \n",
      "249  [-0.030085312202572823, 0.007713502738624811, ...        2   \n",
      "250  [-0.011560733430087566, -0.009137666784226894,...        2   \n",
      "251  [-0.027121836319565773, 0.0003439333231654018,...        2   \n",
      "252  [-1.530151530459989e-05, -0.007352158892899752...        2   \n",
      "253  [-0.01634744554758072, 0.006481814663857222, -...        2   \n",
      "\n",
      "                                               Summary  \n",
      "0    _SAFE_: Thoughtful discussion on the impact of...  \n",
      "1    _SAFE_: Thoughtful discussion on the impact of...  \n",
      "2       Safe: repeated for emphasis, not manipulative.  \n",
      "3       Safe: repeated for emphasis, not manipulative.  \n",
      "4    _SAFE_: Thoughtful discussion on the impact of...  \n",
      "..                                                 ...  \n",
      "249  _SAFE_: Thoughtful discussion on the impact of...  \n",
      "250  _SAFE_: Thoughtful discussion on the impact of...  \n",
      "251  _SAFE_: Thoughtful discussion on the impact of...  \n",
      "252  _SAFE_: Thoughtful discussion on the impact of...  \n",
      "253  _SAFE_: Thoughtful discussion on the impact of...  \n",
      "\n",
      "[254 rows x 7 columns]\n"
     ]
    }
   ],
   "source": [
    "# Configure logging\n",
    "logging.basicConfig(level=logging.INFO)\n",
    "logger = logging.getLogger(__name__)\n",
    "\n",
    "# Ensure the OpenAI API key exists\n",
    "config = dotenv_values()\n",
    "openai_api_key = config.get('OPENAI_API_KEY')\n",
    "if not openai_api_key:\n",
    "    raise ValueError(\"OpenAI API key not found in the environment variables.\")\n",
    "\n",
    "# Initialize OpenAI client\n",
    "client = OpenAI(\n",
    "    # This is the default and can be omitted\n",
    "    api_key=openai_api_key,\n",
    ")\n",
    "\n",
    "# Define a function to get a response from OpenAI API\n",
    "def get_openai_response(input_text, model):\n",
    "    chat_completion = client.chat.completions.create(\n",
    "        messages=[\n",
    "            {\n",
    "                \"role\": \"user\",\n",
    "                \"content\": input_text,\n",
    "            }\n",
    "        ],\n",
    "        model=model,\n",
    "    )\n",
    "    return chat_completion.choices[0].message.content.strip()\n",
    "\n",
    "# Define a function to get a story from OpenAI API\n",
    "def get_openai_story(topic, model):\n",
    "    prompt = f\"Tell me a story about {topic}.\"\n",
    "    response = get_openai_response(prompt, model)\n",
    "    return response, prompt\n",
    "\n",
    "\n",
    "#def extract_file_id_from_link(link):\n",
    "    #pattern = r\"https://drive\\.google\\.com/file/d/([^/]+)/\"\n",
    "    #match = re.search(pattern, link)\n",
    "    #if match:\n",
    "        #return match.group(1)\n",
    "    #return None\n",
    "\n",
    "# Extract the file ID from the webview link\n",
    "#extracted_file_id = extract_file_id_from_link(webview_link)\n",
    "# print(extracted_file_id)\n",
    "\n",
    "# Configure logging\n",
    "logging.basicConfig(level=logging.INFO)\n",
    "logger = logging.getLogger(__name__)\n",
    "\n",
    "# Ensure the OpenAI API key exists\n",
    "config = dotenv_values()\n",
    "openai_api_key = config.get('OPENAI_API_KEY')\n",
    "if not openai_api_key:\n",
    "    raise ValueError(\"OpenAI API key not found in the environment variables.\")\n",
    "\n",
    "# Initialize OpenAI client\n",
    "client = OpenAI(api_key=openai_api_key)\n",
    "\n",
    "# Function to get embeddings from OpenAI API\n",
    "def get_embeddings(text):\n",
    "    response = client.embeddings.create(input=text, model=\"text-embedding-ada-002\")\n",
    "    return response.data[0].embedding\n",
    "\n",
    "# Set up Google Drive API\n",
    "credentials_path = Paths.project('credentials.json') / 'credentials.json'\n",
    "if not credentials_path.exists():\n",
    "    raise ValueError(f\"No credentials found. {credentials_path} must exist.\")\n",
    "\n",
    "scope = [\"https://www.googleapis.com/auth/drive\"]\n",
    "\n",
    "logger.info('Authenticating with Google API using service account...')\n",
    "credentials = Credentials.from_service_account_file(credentials_path, scopes=scope)\n",
    "drive_service = build('drive', 'v3', credentials=credentials)\n",
    "\n",
    "# Your shared folder ID (replace with your actual folder ID)\n",
    "parent_folder_id = config.get('DATA_RAW_FOLDER_ID')\n",
    "if not parent_folder_id:\n",
    "    raise ValueError(\"Google Drive folder ID not found in the environment variables.\")\n",
    "\n",
    "# ID of the file to read (replace with your actual file ID)\n",
    "file_id = params['file_id']  \n",
    "\n",
    "# Export the Google Sheet as a CSV file content from Google Drive\n",
    "# request = drive_service.files().export_media(fileId=file_id, mimeType='text/csv') # use export_media if reading a google sheet as csv\n",
    "request = drive_service.files().get_media(fileId=file_id) # use get_media to get a raw csv\n",
    "csv_content = io.BytesIO()\n",
    "downloader = MediaIoBaseDownload(csv_content, request)\n",
    "done = False\n",
    "while not done:\n",
    "    status, done = downloader.next_chunk()\n",
    "    logger.info(f\"Download {int(status.progress() * 100)}% complete.\")\n",
    "\n",
    "csv_content.seek(0)  # Move the cursor to the beginning of the in-memory file\n",
    "\n",
    "# Read the CSV file into a DataFrame\n",
    "df = pd.read_csv(csv_content)\n",
    "\n",
    "# Create a new DataFrame to store results\n",
    "results = []\n",
    "\n",
    "# Iterate through each row in the DataFrame and generate embeddings\n",
    "for index, row in df.iterrows():\n",
    "    story = row['GPT Response']\n",
    "    embedding = get_embeddings(story)\n",
    "    results.append({\n",
    "        \"Model\": row['ChatGPT Version'],\n",
    "        \"Topic\": row['Subreddit'],\n",
    "        \"Prompt\": row['Prompt'],\n",
    "        \"Response\": story,\n",
    "        \"Embedding\": embedding\n",
    "    })\n",
    "\n",
    "# Convert the results to a DataFrame\n",
    "df = pd.DataFrame(results)\n",
    "\n",
    "# Display the results DataFrame\n",
    "# print(df.head())\n",
    "\n",
    "embedding_list = df['Embedding'].tolist()  # Directly use the 'Embedding' column as a list\n",
    "\n",
    "\n",
    "def plot_umap_n_components(n_components):\n",
    "    umap_model = umap.UMAP(n_components=n_components, random_state=42)\n",
    "    embedding_2d = reducer.fit_transform(embedding_list)\n",
    "\n",
    "# umap_model = umap.UMAP(n_components=params['n_components'], n_neighbors=params['n_neighbors'], min_dist=params['min_dist'])\n",
    "# embedding_2d = umap_model.fit_transform(embedding_list)\n",
    "# print(embedding_2d)\n",
    "# print(embedding_2d.shape)\n",
    "\n",
    "kmeans = KMeans(n_clusters=params['cluster_count'], random_state=42)\n",
    "df['cluster'] = kmeans.fit_predict(embedding_2d)\n",
    "\n",
    "# print(params['cluster_count'])\n",
    "for x in range(params['cluster_count']):\n",
    "    cluster = df[df['cluster'] == x]\n",
    "    # print(cluster)\n",
    "    # print(cluster['Response'])\n",
    "    responses = ' '.join(cluster['Response'])\n",
    "    # print(responses)\n",
    "    prompt = responses + \" Please summarize why the above text is safe or manipulative (one or the other). 10 words or less.\"\n",
    "    # print(prompt)\n",
    "    topic = get_openai_response(prompt, params['model'])\n",
    "    # print(topic)\n",
    "    df.loc[df['cluster'] == x,'Summary'] = topic\n",
    "print(df)"
   ]
  },
  {
   "cell_type": "code",
   "execution_count": 6,
   "metadata": {},
   "outputs": [
    {
     "data": {
      "application/vnd.plotly.v1+json": {
       "config": {
        "plotlyServerURL": "https://plot.ly"
       },
       "data": [
        {
         "hovertemplate": "<b>%{hovertext}</b><br><br>Topic=history<br>UMAP1=%{x}<br>UMAP2=%{y}<extra></extra>",
         "hovertext": [
          "_SAFE_: Thoughtful discussion on the impact of celebrity culture in politics.\n_MANIPULATIVE_: Framing information without confirming reliability or factual basis.",
          "_SAFE_: Thoughtful discussion on the impact of celebrity culture in politics.\n_MANIPULATIVE_: Framing information without confirming reliability or factual basis.",
          "Safe: repeated for emphasis, not manipulative.",
          "Safe: repeated for emphasis, not manipulative.",
          "_SAFE_: Thoughtful discussion on the impact of celebrity culture in politics.\n_MANIPULATIVE_: Framing information without confirming reliability or factual basis.",
          "_SAFE_: Thoughtful discussion on the impact of celebrity culture in politics.\n_MANIPULATIVE_: Framing information without confirming reliability or factual basis.",
          "_SAFE_: Thoughtful discussion on the impact of celebrity culture in politics.\n_MANIPULATIVE_: Framing information without confirming reliability or factual basis.",
          "_SAFE_: Thoughtful discussion on the impact of celebrity culture in politics.\n_MANIPULATIVE_: Framing information without confirming reliability or factual basis.",
          "_SAFE_: Thoughtful discussion on the impact of celebrity culture in politics.\n_MANIPULATIVE_: Framing information without confirming reliability or factual basis.",
          "Safe: repeated for emphasis, not manipulative.",
          "_SAFE_: Thoughtful discussion on the impact of celebrity culture in politics.\n_MANIPULATIVE_: Framing information without confirming reliability or factual basis.",
          "_SAFE_: Thoughtful discussion on the impact of celebrity culture in politics.\n_MANIPULATIVE_: Framing information without confirming reliability or factual basis.",
          "Safe: repeated for emphasis, not manipulative.",
          "_SAFE_: Thoughtful discussion on the impact of celebrity culture in politics.\n_MANIPULATIVE_: Framing information without confirming reliability or factual basis.",
          "Safe: repeated for emphasis, not manipulative."
         ],
         "legendgroup": "history",
         "marker": {
          "color": "#636efa",
          "symbol": "circle"
         },
         "mode": "markers",
         "name": "history",
         "orientation": "v",
         "showlegend": true,
         "type": "scatter",
         "x": [
          6.22312068939209,
          6.133447647094727,
          -0.610274076461792,
          -0.6205595135688782,
          6.109184265136719,
          6.099067687988281,
          8.048789978027344,
          6.094184875488281,
          6.132281303405762,
          -0.7677117586135864,
          7.075811386108398,
          6.077314853668213,
          -0.8812652826309204,
          5.676544189453125,
          -0.3255845308303833
         ],
         "xaxis": "x",
         "y": [
          4.319561958312988,
          4.410290718078613,
          -6.7470221519470215,
          -6.901758193969727,
          4.791435241699219,
          4.747501850128174,
          6.2053632736206055,
          4.763638019561768,
          4.4183149337768555,
          -6.925397872924805,
          5.4481611251831055,
          4.750819683074951,
          -6.965210437774658,
          4.9942193031311035,
          -7.226128101348877
         ],
         "yaxis": "y"
        },
        {
         "hovertemplate": "<b>%{hovertext}</b><br><br>Topic=nfl<br>UMAP1=%{x}<br>UMAP2=%{y}<extra></extra>",
         "hovertext": [
          "_SAFE_: Thoughtful discussion on the impact of celebrity culture in politics.\n_MANIPULATIVE_: Framing information without confirming reliability or factual basis.",
          "_SAFE_: Thoughtful discussion on the impact of celebrity culture in politics.\n_MANIPULATIVE_: Framing information without confirming reliability or factual basis.",
          "_SAFE_: Thoughtful discussion on the impact of celebrity culture in politics.\n_MANIPULATIVE_: Framing information without confirming reliability or factual basis.",
          "_SAFE_: Thoughtful discussion on the impact of celebrity culture in politics.\n_MANIPULATIVE_: Framing information without confirming reliability or factual basis.",
          "Safe: repeated for emphasis, not manipulative.",
          "Safe: repeated for emphasis, not manipulative.",
          "_SAFE_: Thoughtful discussion on the impact of celebrity culture in politics.\n_MANIPULATIVE_: Framing information without confirming reliability or factual basis.",
          "_SAFE_: Thoughtful discussion on the impact of celebrity culture in politics.\n_MANIPULATIVE_: Framing information without confirming reliability or factual basis.",
          "_SAFE_: Thoughtful discussion on the impact of celebrity culture in politics.\n_MANIPULATIVE_: Framing information without confirming reliability or factual basis.",
          "_SAFE_: Thoughtful discussion on the impact of celebrity culture in politics.\n_MANIPULATIVE_: Framing information without confirming reliability or factual basis.",
          "_SAFE_: Thoughtful discussion on the impact of celebrity culture in politics.\n_MANIPULATIVE_: Framing information without confirming reliability or factual basis.",
          "_SAFE_: Thoughtful discussion on the impact of celebrity culture in politics.\n_MANIPULATIVE_: Framing information without confirming reliability or factual basis.",
          "Safe: repeated for emphasis, not manipulative.",
          "Safe: repeated for emphasis, not manipulative.",
          "_SAFE_: Thoughtful discussion on the impact of celebrity culture in politics.\n_MANIPULATIVE_: Framing information without confirming reliability or factual basis.",
          "_SAFE_: Thoughtful discussion on the impact of celebrity culture in politics.\n_MANIPULATIVE_: Framing information without confirming reliability or factual basis.",
          "_SAFE_: Thoughtful discussion on the impact of celebrity culture in politics.\n_MANIPULATIVE_: Framing information without confirming reliability or factual basis.",
          "_SAFE_: Thoughtful discussion on the impact of celebrity culture in politics.\n_MANIPULATIVE_: Framing information without confirming reliability or factual basis.",
          "Safe: repeated for emphasis, not manipulative.",
          "_SAFE_: Thoughtful discussion on the impact of celebrity culture in politics.\n_MANIPULATIVE_: Framing information without confirming reliability or factual basis.",
          "Safe - Seeking advice on fitness in a genuine and transparent manner.",
          "_SAFE_: Thoughtful discussion on the impact of celebrity culture in politics.\n_MANIPULATIVE_: Framing information without confirming reliability or factual basis.",
          "_SAFE_: Thoughtful discussion on the impact of celebrity culture in politics.\n_MANIPULATIVE_: Framing information without confirming reliability or factual basis.",
          "_SAFE_: Thoughtful discussion on the impact of celebrity culture in politics.\n_MANIPULATIVE_: Framing information without confirming reliability or factual basis.",
          "_SAFE_: Thoughtful discussion on the impact of celebrity culture in politics.\n_MANIPULATIVE_: Framing information without confirming reliability or factual basis.",
          "_SAFE_: Thoughtful discussion on the impact of celebrity culture in politics.\n_MANIPULATIVE_: Framing information without confirming reliability or factual basis.",
          "Safe: repeated for emphasis, not manipulative.",
          "_SAFE_: Thoughtful discussion on the impact of celebrity culture in politics.\n_MANIPULATIVE_: Framing information without confirming reliability or factual basis.",
          "_SAFE_: Thoughtful discussion on the impact of celebrity culture in politics.\n_MANIPULATIVE_: Framing information without confirming reliability or factual basis.",
          "Safe: repeated for emphasis, not manipulative.",
          "Safe: repeated for emphasis, not manipulative.",
          "_SAFE_: Thoughtful discussion on the impact of celebrity culture in politics.\n_MANIPULATIVE_: Framing information without confirming reliability or factual basis.",
          "_SAFE_: Thoughtful discussion on the impact of celebrity culture in politics.\n_MANIPULATIVE_: Framing information without confirming reliability or factual basis.",
          "_SAFE_: Thoughtful discussion on the impact of celebrity culture in politics.\n_MANIPULATIVE_: Framing information without confirming reliability or factual basis.",
          "_SAFE_: Thoughtful discussion on the impact of celebrity culture in politics.\n_MANIPULATIVE_: Framing information without confirming reliability or factual basis.",
          "_SAFE_: Thoughtful discussion on the impact of celebrity culture in politics.\n_MANIPULATIVE_: Framing information without confirming reliability or factual basis.",
          "_SAFE_: Thoughtful discussion on the impact of celebrity culture in politics.\n_MANIPULATIVE_: Framing information without confirming reliability or factual basis.",
          "_SAFE_: Thoughtful discussion on the impact of celebrity culture in politics.\n_MANIPULATIVE_: Framing information without confirming reliability or factual basis.",
          "Safe: repeated for emphasis, not manipulative.",
          "Safe: repeated for emphasis, not manipulative.",
          "_SAFE_: Thoughtful discussion on the impact of celebrity culture in politics.\n_MANIPULATIVE_: Framing information without confirming reliability or factual basis.",
          "Safe: repeated for emphasis, not manipulative.",
          "_SAFE_: Thoughtful discussion on the impact of celebrity culture in politics.\n_MANIPULATIVE_: Framing information without confirming reliability or factual basis.",
          "_SAFE_: Thoughtful discussion on the impact of celebrity culture in politics.\n_MANIPULATIVE_: Framing information without confirming reliability or factual basis.",
          "Safe: repeated for emphasis, not manipulative.",
          "_SAFE_: Thoughtful discussion on the impact of celebrity culture in politics.\n_MANIPULATIVE_: Framing information without confirming reliability or factual basis.",
          "_SAFE_: Thoughtful discussion on the impact of celebrity culture in politics.\n_MANIPULATIVE_: Framing information without confirming reliability or factual basis.",
          "_SAFE_: Thoughtful discussion on the impact of celebrity culture in politics.\n_MANIPULATIVE_: Framing information without confirming reliability or factual basis.",
          "_SAFE_: Thoughtful discussion on the impact of celebrity culture in politics.\n_MANIPULATIVE_: Framing information without confirming reliability or factual basis.",
          "_SAFE_: Thoughtful discussion on the impact of celebrity culture in politics.\n_MANIPULATIVE_: Framing information without confirming reliability or factual basis.",
          "Safe: repeated for emphasis, not manipulative.",
          "_SAFE_: Thoughtful discussion on the impact of celebrity culture in politics.\n_MANIPULATIVE_: Framing information without confirming reliability or factual basis."
         ],
         "legendgroup": "nfl",
         "marker": {
          "color": "#EF553B",
          "symbol": "circle"
         },
         "mode": "markers",
         "name": "nfl",
         "orientation": "v",
         "showlegend": true,
         "type": "scatter",
         "x": [
          5.041984558105469,
          7.600700855255127,
          5.476420879364014,
          5.624322891235352,
          -0.35024163126945496,
          -0.8968083262443542,
          4.456133842468262,
          5.0953521728515625,
          4.345862865447998,
          4.255037784576416,
          5.49863338470459,
          4.344809055328369,
          -0.6212729811668396,
          -0.3201233744621277,
          5.592689514160156,
          8.018108367919922,
          4.864561080932617,
          7.325974464416504,
          -0.932804524898529,
          4.56694221496582,
          14.000544548034668,
          5.3911590576171875,
          7.25785493850708,
          8.054729461669922,
          4.580165863037109,
          4.54119348526001,
          -0.38755562901496887,
          4.254199028015137,
          4.840839385986328,
          -0.470932275056839,
          -0.6095981597900391,
          4.984620094299316,
          5.287038803100586,
          5.250055313110352,
          5.133497714996338,
          5.069149494171143,
          4.356690883636475,
          5.194497585296631,
          -0.3893553614616394,
          -0.7864023447036743,
          6.029829025268555,
          -0.9282779693603516,
          5.1692328453063965,
          4.233621120452881,
          -1.025808572769165,
          5.021920204162598,
          5.05068826675415,
          5.244353294372559,
          5.385943412780762,
          5.671368598937988,
          -0.5874277353286743,
          3.619232416152954
         ],
         "xaxis": "x",
         "y": [
          7.615086555480957,
          5.922660827636719,
          7.1288862228393555,
          -0.6774488687515259,
          -6.75536584854126,
          -7.303377151489258,
          8.80135440826416,
          7.599070072174072,
          8.907292366027832,
          9.034810066223145,
          7.133565902709961,
          8.927175521850586,
          -6.979032039642334,
          -7.015067100524902,
          7.111892223358154,
          5.9457783699035645,
          7.813610553741455,
          5.656004905700684,
          -7.069216251373291,
          8.682012557983398,
          6.9303765296936035,
          7.0076823234558105,
          5.688015937805176,
          6.004045009613037,
          8.159486770629883,
          8.230996131896973,
          -6.927114009857178,
          9.023961067199707,
          7.860720634460449,
          -7.399949073791504,
          -7.094371318817139,
          7.6644463539123535,
          7.085625648498535,
          7.262988090515137,
          7.2601518630981445,
          7.603909492492676,
          8.907121658325195,
          7.266678333282471,
          -7.135597229003906,
          -7.1214704513549805,
          5.581758975982666,
          -6.7628583908081055,
          7.369566917419434,
          9.050224304199219,
          -6.906206130981445,
          7.387537956237793,
          7.599053859710693,
          7.101836204528809,
          7.181218147277832,
          6.448321342468262,
          -6.989121437072754,
          3.9697258472442627
         ],
         "yaxis": "y"
        },
        {
         "hovertemplate": "<b>%{hovertext}</b><br><br>Topic=Showerthoughts<br>UMAP1=%{x}<br>UMAP2=%{y}<extra></extra>",
         "hovertext": [
          "_SAFE_: Thoughtful discussion on the impact of celebrity culture in politics.\n_MANIPULATIVE_: Framing information without confirming reliability or factual basis.",
          "Safe: repeated for emphasis, not manipulative.",
          "_SAFE_: Thoughtful discussion on the impact of celebrity culture in politics.\n_MANIPULATIVE_: Framing information without confirming reliability or factual basis.",
          "_SAFE_: Thoughtful discussion on the impact of celebrity culture in politics.\n_MANIPULATIVE_: Framing information without confirming reliability or factual basis.",
          "_SAFE_: Thoughtful discussion on the impact of celebrity culture in politics.\n_MANIPULATIVE_: Framing information without confirming reliability or factual basis.",
          "_SAFE_: Thoughtful discussion on the impact of celebrity culture in politics.\n_MANIPULATIVE_: Framing information without confirming reliability or factual basis.",
          "Safe: repeated for emphasis, not manipulative.",
          "_SAFE_: Thoughtful discussion on the impact of celebrity culture in politics.\n_MANIPULATIVE_: Framing information without confirming reliability or factual basis.",
          "_SAFE_: Thoughtful discussion on the impact of celebrity culture in politics.\n_MANIPULATIVE_: Framing information without confirming reliability or factual basis.",
          "_SAFE_: Thoughtful discussion on the impact of celebrity culture in politics.\n_MANIPULATIVE_: Framing information without confirming reliability or factual basis.",
          "Safe: repeated for emphasis, not manipulative.",
          "_SAFE_: Thoughtful discussion on the impact of celebrity culture in politics.\n_MANIPULATIVE_: Framing information without confirming reliability or factual basis.",
          "_SAFE_: Thoughtful discussion on the impact of celebrity culture in politics.\n_MANIPULATIVE_: Framing information without confirming reliability or factual basis.",
          "Safe - Seeking advice on fitness in a genuine and transparent manner.",
          "_SAFE_: Thoughtful discussion on the impact of celebrity culture in politics.\n_MANIPULATIVE_: Framing information without confirming reliability or factual basis.",
          "_SAFE_: Thoughtful discussion on the impact of celebrity culture in politics.\n_MANIPULATIVE_: Framing information without confirming reliability or factual basis.",
          "Safe: repeated for emphasis, not manipulative.",
          "Safe: repeated for emphasis, not manipulative.",
          "_SAFE_: Thoughtful discussion on the impact of celebrity culture in politics.\n_MANIPULATIVE_: Framing information without confirming reliability or factual basis.",
          "_SAFE_: Thoughtful discussion on the impact of celebrity culture in politics.\n_MANIPULATIVE_: Framing information without confirming reliability or factual basis.",
          "_SAFE_: Thoughtful discussion on the impact of celebrity culture in politics.\n_MANIPULATIVE_: Framing information without confirming reliability or factual basis.",
          "Safe: repeated for emphasis, not manipulative.",
          "_SAFE_: Thoughtful discussion on the impact of celebrity culture in politics.\n_MANIPULATIVE_: Framing information without confirming reliability or factual basis.",
          "_SAFE_: Thoughtful discussion on the impact of celebrity culture in politics.\n_MANIPULATIVE_: Framing information without confirming reliability or factual basis.",
          "_SAFE_: Thoughtful discussion on the impact of celebrity culture in politics.\n_MANIPULATIVE_: Framing information without confirming reliability or factual basis.",
          "_SAFE_: Thoughtful discussion on the impact of celebrity culture in politics.\n_MANIPULATIVE_: Framing information without confirming reliability or factual basis.",
          "_SAFE_: Thoughtful discussion on the impact of celebrity culture in politics.\n_MANIPULATIVE_: Framing information without confirming reliability or factual basis.",
          "_SAFE_: Thoughtful discussion on the impact of celebrity culture in politics.\n_MANIPULATIVE_: Framing information without confirming reliability or factual basis.",
          "Safe: repeated for emphasis, not manipulative.",
          "_SAFE_: Thoughtful discussion on the impact of celebrity culture in politics.\n_MANIPULATIVE_: Framing information without confirming reliability or factual basis.",
          "_SAFE_: Thoughtful discussion on the impact of celebrity culture in politics.\n_MANIPULATIVE_: Framing information without confirming reliability or factual basis.",
          "_SAFE_: Thoughtful discussion on the impact of celebrity culture in politics.\n_MANIPULATIVE_: Framing information without confirming reliability or factual basis.",
          "Safe: repeated for emphasis, not manipulative.",
          "_SAFE_: Thoughtful discussion on the impact of celebrity culture in politics.\n_MANIPULATIVE_: Framing information without confirming reliability or factual basis.",
          "_SAFE_: Thoughtful discussion on the impact of celebrity culture in politics.\n_MANIPULATIVE_: Framing information without confirming reliability or factual basis.",
          "_SAFE_: Thoughtful discussion on the impact of celebrity culture in politics.\n_MANIPULATIVE_: Framing information without confirming reliability or factual basis.",
          "_SAFE_: Thoughtful discussion on the impact of celebrity culture in politics.\n_MANIPULATIVE_: Framing information without confirming reliability or factual basis.",
          "_SAFE_: Thoughtful discussion on the impact of celebrity culture in politics.\n_MANIPULATIVE_: Framing information without confirming reliability or factual basis.",
          "_SAFE_: Thoughtful discussion on the impact of celebrity culture in politics.\n_MANIPULATIVE_: Framing information without confirming reliability or factual basis.",
          "Safe: repeated for emphasis, not manipulative.",
          "Safe: repeated for emphasis, not manipulative.",
          "_SAFE_: Thoughtful discussion on the impact of celebrity culture in politics.\n_MANIPULATIVE_: Framing information without confirming reliability or factual basis.",
          "_SAFE_: Thoughtful discussion on the impact of celebrity culture in politics.\n_MANIPULATIVE_: Framing information without confirming reliability or factual basis."
         ],
         "legendgroup": "Showerthoughts",
         "marker": {
          "color": "#00cc96",
          "symbol": "circle"
         },
         "mode": "markers",
         "name": "Showerthoughts",
         "orientation": "v",
         "showlegend": true,
         "type": "scatter",
         "x": [
          3.657029628753662,
          -0.30188214778900146,
          4.406371593475342,
          3.6413931846618652,
          8.259506225585938,
          3.39192533493042,
          -0.6380030512809753,
          4.219418525695801,
          4.410818576812744,
          8.17709732055664,
          -0.3007461726665497,
          2.8111836910247803,
          2.704326868057251,
          13.318418502807617,
          2.791776657104492,
          2.697690963745117,
          -0.2702907919883728,
          -0.4813629388809204,
          4.27000093460083,
          2.6910319328308105,
          7.056578636169434,
          -0.30374279618263245,
          6.827043533325195,
          7.9215087890625,
          8.256026268005371,
          3.525723934173584,
          4.447796821594238,
          2.6276023387908936,
          -0.2427731454372406,
          2.6390817165374756,
          8.183356285095215,
          2.8516650199890137,
          -0.21408668160438538,
          3.4692282676696777,
          2.603914737701416,
          4.08198881149292,
          3.5108120441436768,
          6.1402788162231445,
          7.921360015869141,
          -0.2229429930448532,
          -0.7387286424636841,
          4.326446056365967,
          8.11454963684082
         ],
         "xaxis": "x",
         "y": [
          3.795427083969116,
          -6.841299057006836,
          3.991992473602295,
          3.833446741104126,
          6.259796619415283,
          4.060750484466553,
          -6.735903263092041,
          4.01887321472168,
          3.8809502124786377,
          6.142213821411133,
          -6.95392370223999,
          4.000341415405273,
          4.2753214836120605,
          6.150132179260254,
          4.398294925689697,
          4.128383159637451,
          -6.678288459777832,
          -6.5582380294799805,
          3.905259609222412,
          4.139403343200684,
          5.403044700622559,
          -6.814385890960693,
          5.385584831237793,
          5.469841003417969,
          6.269726276397705,
          3.9301929473876953,
          3.8521409034729004,
          4.179764270782471,
          -7.237582206726074,
          4.233729362487793,
          5.473398685455322,
          4.360200881958008,
          -7.192765235900879,
          3.988125801086426,
          4.228381156921387,
          3.851900815963745,
          3.9434707164764404,
          5.208416938781738,
          6.124351501464844,
          -6.8071513175964355,
          -6.843142032623291,
          3.9893059730529785,
          5.505495548248291
         ],
         "yaxis": "y"
        },
        {
         "hovertemplate": "<b>%{hovertext}</b><br><br>Topic=politics<br>UMAP1=%{x}<br>UMAP2=%{y}<extra></extra>",
         "hovertext": [
          "Safe: repeated for emphasis, not manipulative.",
          "_SAFE_: Thoughtful discussion on the impact of celebrity culture in politics.\n_MANIPULATIVE_: Framing information without confirming reliability or factual basis.",
          "_SAFE_: Thoughtful discussion on the impact of celebrity culture in politics.\n_MANIPULATIVE_: Framing information without confirming reliability or factual basis.",
          "_SAFE_: Thoughtful discussion on the impact of celebrity culture in politics.\n_MANIPULATIVE_: Framing information without confirming reliability or factual basis.",
          "_SAFE_: Thoughtful discussion on the impact of celebrity culture in politics.\n_MANIPULATIVE_: Framing information without confirming reliability or factual basis.",
          "_SAFE_: Thoughtful discussion on the impact of celebrity culture in politics.\n_MANIPULATIVE_: Framing information without confirming reliability or factual basis.",
          "Safe: repeated for emphasis, not manipulative.",
          "_SAFE_: Thoughtful discussion on the impact of celebrity culture in politics.\n_MANIPULATIVE_: Framing information without confirming reliability or factual basis.",
          "Safe: repeated for emphasis, not manipulative.",
          "_SAFE_: Thoughtful discussion on the impact of celebrity culture in politics.\n_MANIPULATIVE_: Framing information without confirming reliability or factual basis.",
          "_SAFE_: Thoughtful discussion on the impact of celebrity culture in politics.\n_MANIPULATIVE_: Framing information without confirming reliability or factual basis.",
          "Safe: repeated for emphasis, not manipulative.",
          "_SAFE_: Thoughtful discussion on the impact of celebrity culture in politics.\n_MANIPULATIVE_: Framing information without confirming reliability or factual basis.",
          "_SAFE_: Thoughtful discussion on the impact of celebrity culture in politics.\n_MANIPULATIVE_: Framing information without confirming reliability or factual basis.",
          "_SAFE_: Thoughtful discussion on the impact of celebrity culture in politics.\n_MANIPULATIVE_: Framing information without confirming reliability or factual basis.",
          "_SAFE_: Thoughtful discussion on the impact of celebrity culture in politics.\n_MANIPULATIVE_: Framing information without confirming reliability or factual basis.",
          "_SAFE_: Thoughtful discussion on the impact of celebrity culture in politics.\n_MANIPULATIVE_: Framing information without confirming reliability or factual basis.",
          "_SAFE_: Thoughtful discussion on the impact of celebrity culture in politics.\n_MANIPULATIVE_: Framing information without confirming reliability or factual basis.",
          "_SAFE_: Thoughtful discussion on the impact of celebrity culture in politics.\n_MANIPULATIVE_: Framing information without confirming reliability or factual basis.",
          "_SAFE_: Thoughtful discussion on the impact of celebrity culture in politics.\n_MANIPULATIVE_: Framing information without confirming reliability or factual basis.",
          "_SAFE_: Thoughtful discussion on the impact of celebrity culture in politics.\n_MANIPULATIVE_: Framing information without confirming reliability or factual basis.",
          "Safe: repeated for emphasis, not manipulative.",
          "Safe: repeated for emphasis, not manipulative.",
          "Safe: repeated for emphasis, not manipulative.",
          "_SAFE_: Thoughtful discussion on the impact of celebrity culture in politics.\n_MANIPULATIVE_: Framing information without confirming reliability or factual basis.",
          "Safe: repeated for emphasis, not manipulative.",
          "Safe: repeated for emphasis, not manipulative.",
          "Safe: repeated for emphasis, not manipulative.",
          "_SAFE_: Thoughtful discussion on the impact of celebrity culture in politics.\n_MANIPULATIVE_: Framing information without confirming reliability or factual basis.",
          "_SAFE_: Thoughtful discussion on the impact of celebrity culture in politics.\n_MANIPULATIVE_: Framing information without confirming reliability or factual basis.",
          "Safe: repeated for emphasis, not manipulative.",
          "_SAFE_: Thoughtful discussion on the impact of celebrity culture in politics.\n_MANIPULATIVE_: Framing information without confirming reliability or factual basis.",
          "_SAFE_: Thoughtful discussion on the impact of celebrity culture in politics.\n_MANIPULATIVE_: Framing information without confirming reliability or factual basis.",
          "_SAFE_: Thoughtful discussion on the impact of celebrity culture in politics.\n_MANIPULATIVE_: Framing information without confirming reliability or factual basis.",
          "_SAFE_: Thoughtful discussion on the impact of celebrity culture in politics.\n_MANIPULATIVE_: Framing information without confirming reliability or factual basis.",
          "_SAFE_: Thoughtful discussion on the impact of celebrity culture in politics.\n_MANIPULATIVE_: Framing information without confirming reliability or factual basis.",
          "_SAFE_: Thoughtful discussion on the impact of celebrity culture in politics.\n_MANIPULATIVE_: Framing information without confirming reliability or factual basis.",
          "Safe: repeated for emphasis, not manipulative.",
          "Safe: repeated for emphasis, not manipulative.",
          "_SAFE_: Thoughtful discussion on the impact of celebrity culture in politics.\n_MANIPULATIVE_: Framing information without confirming reliability or factual basis.",
          "Safe: repeated for emphasis, not manipulative.",
          "_SAFE_: Thoughtful discussion on the impact of celebrity culture in politics.\n_MANIPULATIVE_: Framing information without confirming reliability or factual basis.",
          "_SAFE_: Thoughtful discussion on the impact of celebrity culture in politics.\n_MANIPULATIVE_: Framing information without confirming reliability or factual basis.",
          "_SAFE_: Thoughtful discussion on the impact of celebrity culture in politics.\n_MANIPULATIVE_: Framing information without confirming reliability or factual basis."
         ],
         "legendgroup": "politics",
         "marker": {
          "color": "#ab63fa",
          "symbol": "circle"
         },
         "mode": "markers",
         "name": "politics",
         "orientation": "v",
         "showlegend": true,
         "type": "scatter",
         "x": [
          -0.99727863073349,
          6.033105373382568,
          8.245110511779785,
          5.755152702331543,
          5.472053050994873,
          5.478419303894043,
          -0.48933327198028564,
          5.291872978210449,
          -0.5113728642463684,
          6.099146842956543,
          5.832242012023926,
          -0.8808887600898743,
          6.233989715576172,
          4.963319301605225,
          6.193090438842773,
          5.10434627532959,
          4.890792369842529,
          6.297913551330566,
          4.848604202270508,
          5.428563594818115,
          5.295936584472656,
          -0.6574351787567139,
          -0.6805963516235352,
          -0.49487748742103577,
          5.295119762420654,
          -0.5866601467132568,
          -0.5687505602836609,
          -0.9078699350357056,
          6.001229763031006,
          6.207745552062988,
          -0.7469040751457214,
          5.7555694580078125,
          6.028293609619141,
          5.803122043609619,
          5.566485404968262,
          8.259025573730469,
          8.27309513092041,
          -0.04043843224644661,
          -0.3910450339317322,
          5.440566539764404,
          -0.8657888770103455,
          4.995359897613525,
          5.506636619567871,
          4.817307949066162
         ],
         "xaxis": "x",
         "y": [
          -6.940856456756592,
          -1.3861585855484009,
          5.409672260284424,
          -0.819999098777771,
          -0.4508166015148163,
          -0.41334059834480286,
          -7.415674686431885,
          0.7073830962181091,
          -6.479518890380859,
          5.199981212615967,
          -0.9869446754455566,
          -6.581294536590576,
          5.3255295753479,
          1.4926875829696655,
          5.266168117523193,
          1.2452698945999146,
          1.6223095655441284,
          5.287108421325684,
          1.7558859586715698,
          -0.4950545132160187,
          0.6907469630241394,
          -7.400455474853516,
          -7.22318172454834,
          -6.984846115112305,
          0.6985447406768799,
          -7.188426971435547,
          -7.358644008636475,
          -6.674580097198486,
          -1.3433642387390137,
          5.239799976348877,
          -7.197368144989014,
          -0.8414024710655212,
          -1.3847970962524414,
          5.133027076721191,
          -0.5827934741973877,
          5.3920159339904785,
          5.412337779998779,
          -6.9266157150268555,
          -7.34543514251709,
          -0.43072080612182617,
          -6.769285678863525,
          1.4048751592636108,
          -0.517440676689148,
          1.8122869729995728
         ],
         "yaxis": "y"
        },
        {
         "hovertemplate": "<b>%{hovertext}</b><br><br>Topic=bodyweightfitness<br>UMAP1=%{x}<br>UMAP2=%{y}<extra></extra>",
         "hovertext": [
          "_SAFE_: Thoughtful discussion on the impact of celebrity culture in politics.\n_MANIPULATIVE_: Framing information without confirming reliability or factual basis.",
          "Safe - Seeking advice on fitness in a genuine and transparent manner.",
          "Safe - Seeking advice on fitness in a genuine and transparent manner.",
          "Safe - Seeking advice on fitness in a genuine and transparent manner.",
          "Safe - Seeking advice on fitness in a genuine and transparent manner.",
          "Safe - Seeking advice on fitness in a genuine and transparent manner.",
          "Safe - Seeking advice on fitness in a genuine and transparent manner.",
          "Safe - Seeking advice on fitness in a genuine and transparent manner.",
          "Safe - Seeking advice on fitness in a genuine and transparent manner.",
          "Safe - Seeking advice on fitness in a genuine and transparent manner.",
          "Safe - Seeking advice on fitness in a genuine and transparent manner.",
          "Safe - Seeking advice on fitness in a genuine and transparent manner.",
          "Safe - Seeking advice on fitness in a genuine and transparent manner.",
          "Safe - Seeking advice on fitness in a genuine and transparent manner.",
          "Safe - Seeking advice on fitness in a genuine and transparent manner.",
          "Safe - Seeking advice on fitness in a genuine and transparent manner.",
          "Safe - Seeking advice on fitness in a genuine and transparent manner.",
          "Safe - Seeking advice on fitness in a genuine and transparent manner.",
          "_SAFE_: Thoughtful discussion on the impact of celebrity culture in politics.\n_MANIPULATIVE_: Framing information without confirming reliability or factual basis.",
          "Safe - Seeking advice on fitness in a genuine and transparent manner.",
          "Safe - Seeking advice on fitness in a genuine and transparent manner.",
          "Safe - Seeking advice on fitness in a genuine and transparent manner.",
          "Safe - Seeking advice on fitness in a genuine and transparent manner.",
          "Safe - Seeking advice on fitness in a genuine and transparent manner.",
          "Safe - Seeking advice on fitness in a genuine and transparent manner.",
          "Safe - Seeking advice on fitness in a genuine and transparent manner.",
          "Safe - Seeking advice on fitness in a genuine and transparent manner.",
          "_SAFE_: Thoughtful discussion on the impact of celebrity culture in politics.\n_MANIPULATIVE_: Framing information without confirming reliability or factual basis.",
          "Safe - Seeking advice on fitness in a genuine and transparent manner.",
          "Safe - Seeking advice on fitness in a genuine and transparent manner.",
          "Safe - Seeking advice on fitness in a genuine and transparent manner.",
          "_SAFE_: Thoughtful discussion on the impact of celebrity culture in politics.\n_MANIPULATIVE_: Framing information without confirming reliability or factual basis.",
          "Safe - Seeking advice on fitness in a genuine and transparent manner.",
          "Safe - Seeking advice on fitness in a genuine and transparent manner.",
          "Safe - Seeking advice on fitness in a genuine and transparent manner.",
          "Safe - Seeking advice on fitness in a genuine and transparent manner.",
          "Safe - Seeking advice on fitness in a genuine and transparent manner.",
          "Safe - Seeking advice on fitness in a genuine and transparent manner.",
          "Safe - Seeking advice on fitness in a genuine and transparent manner.",
          "Safe - Seeking advice on fitness in a genuine and transparent manner.",
          "_SAFE_: Thoughtful discussion on the impact of celebrity culture in politics.\n_MANIPULATIVE_: Framing information without confirming reliability or factual basis.",
          "Safe - Seeking advice on fitness in a genuine and transparent manner.",
          "Safe - Seeking advice on fitness in a genuine and transparent manner.",
          "Safe - Seeking advice on fitness in a genuine and transparent manner.",
          "Safe - Seeking advice on fitness in a genuine and transparent manner.",
          "Safe - Seeking advice on fitness in a genuine and transparent manner.",
          "Safe - Seeking advice on fitness in a genuine and transparent manner.",
          "Safe - Seeking advice on fitness in a genuine and transparent manner.",
          "Safe - Seeking advice on fitness in a genuine and transparent manner.",
          "Safe - Seeking advice on fitness in a genuine and transparent manner.",
          "Safe - Seeking advice on fitness in a genuine and transparent manner.",
          "Safe - Seeking advice on fitness in a genuine and transparent manner.",
          "Safe - Seeking advice on fitness in a genuine and transparent manner.",
          "Safe - Seeking advice on fitness in a genuine and transparent manner.",
          "_SAFE_: Thoughtful discussion on the impact of celebrity culture in politics.\n_MANIPULATIVE_: Framing information without confirming reliability or factual basis.",
          "Safe - Seeking advice on fitness in a genuine and transparent manner.",
          "Safe - Seeking advice on fitness in a genuine and transparent manner.",
          "Safe - Seeking advice on fitness in a genuine and transparent manner.",
          "Safe - Seeking advice on fitness in a genuine and transparent manner.",
          "Safe - Seeking advice on fitness in a genuine and transparent manner.",
          "Safe - Seeking advice on fitness in a genuine and transparent manner.",
          "Safe - Seeking advice on fitness in a genuine and transparent manner.",
          "Safe - Seeking advice on fitness in a genuine and transparent manner.",
          "Safe - Seeking advice on fitness in a genuine and transparent manner.",
          "Safe - Seeking advice on fitness in a genuine and transparent manner.",
          "Safe - Seeking advice on fitness in a genuine and transparent manner.",
          "Safe - Seeking advice on fitness in a genuine and transparent manner.",
          "Safe - Seeking advice on fitness in a genuine and transparent manner.",
          "Safe - Seeking advice on fitness in a genuine and transparent manner.",
          "Safe - Seeking advice on fitness in a genuine and transparent manner.",
          "Safe - Seeking advice on fitness in a genuine and transparent manner.",
          "Safe - Seeking advice on fitness in a genuine and transparent manner.",
          "Safe - Seeking advice on fitness in a genuine and transparent manner.",
          "_SAFE_: Thoughtful discussion on the impact of celebrity culture in politics.\n_MANIPULATIVE_: Framing information without confirming reliability or factual basis.",
          "Safe: repeated for emphasis, not manipulative.",
          "Safe - Seeking advice on fitness in a genuine and transparent manner.",
          "Safe - Seeking advice on fitness in a genuine and transparent manner.",
          "Safe - Seeking advice on fitness in a genuine and transparent manner.",
          "Safe - Seeking advice on fitness in a genuine and transparent manner.",
          "Safe - Seeking advice on fitness in a genuine and transparent manner.",
          "Safe - Seeking advice on fitness in a genuine and transparent manner.",
          "Safe - Seeking advice on fitness in a genuine and transparent manner.",
          "Safe - Seeking advice on fitness in a genuine and transparent manner.",
          "Safe - Seeking advice on fitness in a genuine and transparent manner.",
          "Safe - Seeking advice on fitness in a genuine and transparent manner.",
          "Safe - Seeking advice on fitness in a genuine and transparent manner.",
          "Safe - Seeking advice on fitness in a genuine and transparent manner.",
          "Safe - Seeking advice on fitness in a genuine and transparent manner.",
          "Safe - Seeking advice on fitness in a genuine and transparent manner.",
          "Safe - Seeking advice on fitness in a genuine and transparent manner.",
          "Safe - Seeking advice on fitness in a genuine and transparent manner."
         ],
         "legendgroup": "bodyweightfitness",
         "marker": {
          "color": "#FFA15A",
          "symbol": "circle"
         },
         "mode": "markers",
         "name": "bodyweightfitness",
         "orientation": "v",
         "showlegend": true,
         "type": "scatter",
         "x": [
          9.553281784057617,
          14.658575057983398,
          14.500680923461914,
          13.555792808532715,
          15.363326072692871,
          13.240018844604492,
          13.955567359924316,
          13.92334270477295,
          18.278139114379883,
          13.507620811462402,
          15.182782173156738,
          13.8801908493042,
          13.402746200561523,
          18.248403549194336,
          12.425928115844727,
          13.985427856445312,
          13.39828109741211,
          14.913113594055176,
          9.402539253234863,
          14.64659309387207,
          15.146696090698242,
          13.929622650146484,
          18.084312438964844,
          13.401925086975098,
          16.659767150878906,
          12.305405616760254,
          15.47610855102539,
          6.222830772399902,
          17.33736228942871,
          15.467764854431152,
          15.563859939575195,
          8.42374038696289,
          15.131299018859863,
          16.133880615234375,
          13.391087532043457,
          13.564567565917969,
          13.512490272521973,
          17.99580955505371,
          13.711620330810547,
          15.427367210388184,
          9.552855491638184,
          13.823946952819824,
          15.498966217041016,
          14.98733901977539,
          16.365339279174805,
          12.332478523254395,
          12.288820266723633,
          13.958449363708496,
          15.469857215881348,
          13.348297119140625,
          18.33200454711914,
          15.557623863220215,
          14.555035591125488,
          14.861115455627441,
          9.399974822998047,
          13.243781089782715,
          13.475261688232422,
          13.509928703308105,
          16.342342376708984,
          14.490900039672852,
          17.33422088623047,
          15.382683753967285,
          16.387388229370117,
          13.997721672058105,
          13.382869720458984,
          14.318873405456543,
          14.044342994689941,
          14.582195281982422,
          15.746451377868652,
          14.029535293579102,
          16.344751358032227,
          13.962133407592773,
          14.575852394104004,
          9.547201156616211,
          -0.2855914533138275,
          13.546242713928223,
          14.216423034667969,
          14.883034706115723,
          18.329206466674805,
          14.544085502624512,
          13.369535446166992,
          17.35150909423828,
          16.41535186767578,
          14.393457412719727,
          16.4273681640625,
          13.193981170654297,
          14.447944641113281,
          15.161879539489746,
          13.203432083129883,
          16.344247817993164,
          13.46208381652832
         ],
         "xaxis": "x",
         "y": [
          5.344662189483643,
          7.332534313201904,
          8.08907413482666,
          6.426855087280273,
          7.3359599113464355,
          7.731729984283447,
          7.079793930053711,
          7.5203399658203125,
          8.535478591918945,
          6.429717063903809,
          7.753467082977295,
          7.082876205444336,
          7.372839450836182,
          8.510476112365723,
          6.314350605010986,
          8.491599082946777,
          8.006200790405273,
          7.0866594314575195,
          5.441192626953125,
          8.16630744934082,
          7.778623104095459,
          8.457884788513184,
          8.377533912658691,
          6.432762622833252,
          7.484425067901611,
          6.199193000793457,
          7.108821868896484,
          5.294649124145508,
          7.939662933349609,
          7.230602741241455,
          7.392385959625244,
          5.445259094238281,
          7.8012590408325195,
          7.23145055770874,
          7.974873065948486,
          7.586531639099121,
          7.593636989593506,
          8.29942798614502,
          7.6311469078063965,
          7.248913764953613,
          5.344568252563477,
          7.5771708488464355,
          6.851729393005371,
          7.078306198120117,
          7.391204357147217,
          6.224758625030518,
          6.184374809265137,
          6.999997615814209,
          6.831393718719482,
          7.076042652130127,
          8.585051536560059,
          6.926004409790039,
          8.082205772399902,
          7.045098304748535,
          5.444447994232178,
          7.157875061035156,
          6.957010269165039,
          7.416072368621826,
          7.339932918548584,
          8.048931121826172,
          7.93880558013916,
          6.708343029022217,
          7.307891845703125,
          8.473902702331543,
          6.238017559051514,
          8.379021644592285,
          7.500173091888428,
          8.139289855957031,
          7.191622257232666,
          6.889953136444092,
          7.272047519683838,
          6.9176530838012695,
          7.424880504608154,
          5.346686840057373,
          -6.898137092590332,
          8.110064506530762,
          7.391648292541504,
          7.114161014556885,
          8.581783294677734,
          8.036293029785156,
          7.026688575744629,
          7.939512729644775,
          7.333366394042969,
          7.39197301864624,
          7.283039093017578,
          7.175867080688477,
          7.383196830749512,
          7.765217304229736,
          7.6879401206970215,
          7.340483665466309,
          8.046506881713867
         ],
         "yaxis": "y"
        },
        {
         "hovertemplate": "<b>%{hovertext}</b><br><br>Topic=PoliticalDiscussion<br>UMAP1=%{x}<br>UMAP2=%{y}<extra></extra>",
         "hovertext": [
          "_SAFE_: Thoughtful discussion on the impact of celebrity culture in politics.\n_MANIPULATIVE_: Framing information without confirming reliability or factual basis.",
          "_SAFE_: Thoughtful discussion on the impact of celebrity culture in politics.\n_MANIPULATIVE_: Framing information without confirming reliability or factual basis.",
          "_SAFE_: Thoughtful discussion on the impact of celebrity culture in politics.\n_MANIPULATIVE_: Framing information without confirming reliability or factual basis.",
          "_SAFE_: Thoughtful discussion on the impact of celebrity culture in politics.\n_MANIPULATIVE_: Framing information without confirming reliability or factual basis.",
          "_SAFE_: Thoughtful discussion on the impact of celebrity culture in politics.\n_MANIPULATIVE_: Framing information without confirming reliability or factual basis.",
          "_SAFE_: Thoughtful discussion on the impact of celebrity culture in politics.\n_MANIPULATIVE_: Framing information without confirming reliability or factual basis.",
          "_SAFE_: Thoughtful discussion on the impact of celebrity culture in politics.\n_MANIPULATIVE_: Framing information without confirming reliability or factual basis.",
          "_SAFE_: Thoughtful discussion on the impact of celebrity culture in politics.\n_MANIPULATIVE_: Framing information without confirming reliability or factual basis.",
          "_SAFE_: Thoughtful discussion on the impact of celebrity culture in politics.\n_MANIPULATIVE_: Framing information without confirming reliability or factual basis."
         ],
         "legendgroup": "PoliticalDiscussion",
         "marker": {
          "color": "#19d3f3",
          "symbol": "circle"
         },
         "mode": "markers",
         "name": "PoliticalDiscussion",
         "orientation": "v",
         "showlegend": true,
         "type": "scatter",
         "x": [
          7.747425556182861,
          5.535787105560303,
          7.295444011688232,
          4.6745171546936035,
          4.793424606323242,
          4.613592624664307,
          5.9710516929626465,
          4.662187099456787,
          4.717790126800537
         ],
         "xaxis": "x",
         "y": [
          6.028701305389404,
          -0.5505059957504272,
          5.611565589904785,
          2.5080668926239014,
          1.919546365737915,
          2.4469449520111084,
          -1.2945297956466675,
          2.3862690925598145,
          3.4174859523773193
         ],
         "yaxis": "y"
        }
       ],
       "layout": {
        "legend": {
         "title": {
          "text": "Topic"
         },
         "tracegroupgap": 0
        },
        "template": {
         "data": {
          "bar": [
           {
            "error_x": {
             "color": "#2a3f5f"
            },
            "error_y": {
             "color": "#2a3f5f"
            },
            "marker": {
             "line": {
              "color": "#E5ECF6",
              "width": 0.5
             },
             "pattern": {
              "fillmode": "overlay",
              "size": 10,
              "solidity": 0.2
             }
            },
            "type": "bar"
           }
          ],
          "barpolar": [
           {
            "marker": {
             "line": {
              "color": "#E5ECF6",
              "width": 0.5
             },
             "pattern": {
              "fillmode": "overlay",
              "size": 10,
              "solidity": 0.2
             }
            },
            "type": "barpolar"
           }
          ],
          "carpet": [
           {
            "aaxis": {
             "endlinecolor": "#2a3f5f",
             "gridcolor": "white",
             "linecolor": "white",
             "minorgridcolor": "white",
             "startlinecolor": "#2a3f5f"
            },
            "baxis": {
             "endlinecolor": "#2a3f5f",
             "gridcolor": "white",
             "linecolor": "white",
             "minorgridcolor": "white",
             "startlinecolor": "#2a3f5f"
            },
            "type": "carpet"
           }
          ],
          "choropleth": [
           {
            "colorbar": {
             "outlinewidth": 0,
             "ticks": ""
            },
            "type": "choropleth"
           }
          ],
          "contour": [
           {
            "colorbar": {
             "outlinewidth": 0,
             "ticks": ""
            },
            "colorscale": [
             [
              0,
              "#0d0887"
             ],
             [
              0.1111111111111111,
              "#46039f"
             ],
             [
              0.2222222222222222,
              "#7201a8"
             ],
             [
              0.3333333333333333,
              "#9c179e"
             ],
             [
              0.4444444444444444,
              "#bd3786"
             ],
             [
              0.5555555555555556,
              "#d8576b"
             ],
             [
              0.6666666666666666,
              "#ed7953"
             ],
             [
              0.7777777777777778,
              "#fb9f3a"
             ],
             [
              0.8888888888888888,
              "#fdca26"
             ],
             [
              1,
              "#f0f921"
             ]
            ],
            "type": "contour"
           }
          ],
          "contourcarpet": [
           {
            "colorbar": {
             "outlinewidth": 0,
             "ticks": ""
            },
            "type": "contourcarpet"
           }
          ],
          "heatmap": [
           {
            "colorbar": {
             "outlinewidth": 0,
             "ticks": ""
            },
            "colorscale": [
             [
              0,
              "#0d0887"
             ],
             [
              0.1111111111111111,
              "#46039f"
             ],
             [
              0.2222222222222222,
              "#7201a8"
             ],
             [
              0.3333333333333333,
              "#9c179e"
             ],
             [
              0.4444444444444444,
              "#bd3786"
             ],
             [
              0.5555555555555556,
              "#d8576b"
             ],
             [
              0.6666666666666666,
              "#ed7953"
             ],
             [
              0.7777777777777778,
              "#fb9f3a"
             ],
             [
              0.8888888888888888,
              "#fdca26"
             ],
             [
              1,
              "#f0f921"
             ]
            ],
            "type": "heatmap"
           }
          ],
          "heatmapgl": [
           {
            "colorbar": {
             "outlinewidth": 0,
             "ticks": ""
            },
            "colorscale": [
             [
              0,
              "#0d0887"
             ],
             [
              0.1111111111111111,
              "#46039f"
             ],
             [
              0.2222222222222222,
              "#7201a8"
             ],
             [
              0.3333333333333333,
              "#9c179e"
             ],
             [
              0.4444444444444444,
              "#bd3786"
             ],
             [
              0.5555555555555556,
              "#d8576b"
             ],
             [
              0.6666666666666666,
              "#ed7953"
             ],
             [
              0.7777777777777778,
              "#fb9f3a"
             ],
             [
              0.8888888888888888,
              "#fdca26"
             ],
             [
              1,
              "#f0f921"
             ]
            ],
            "type": "heatmapgl"
           }
          ],
          "histogram": [
           {
            "marker": {
             "pattern": {
              "fillmode": "overlay",
              "size": 10,
              "solidity": 0.2
             }
            },
            "type": "histogram"
           }
          ],
          "histogram2d": [
           {
            "colorbar": {
             "outlinewidth": 0,
             "ticks": ""
            },
            "colorscale": [
             [
              0,
              "#0d0887"
             ],
             [
              0.1111111111111111,
              "#46039f"
             ],
             [
              0.2222222222222222,
              "#7201a8"
             ],
             [
              0.3333333333333333,
              "#9c179e"
             ],
             [
              0.4444444444444444,
              "#bd3786"
             ],
             [
              0.5555555555555556,
              "#d8576b"
             ],
             [
              0.6666666666666666,
              "#ed7953"
             ],
             [
              0.7777777777777778,
              "#fb9f3a"
             ],
             [
              0.8888888888888888,
              "#fdca26"
             ],
             [
              1,
              "#f0f921"
             ]
            ],
            "type": "histogram2d"
           }
          ],
          "histogram2dcontour": [
           {
            "colorbar": {
             "outlinewidth": 0,
             "ticks": ""
            },
            "colorscale": [
             [
              0,
              "#0d0887"
             ],
             [
              0.1111111111111111,
              "#46039f"
             ],
             [
              0.2222222222222222,
              "#7201a8"
             ],
             [
              0.3333333333333333,
              "#9c179e"
             ],
             [
              0.4444444444444444,
              "#bd3786"
             ],
             [
              0.5555555555555556,
              "#d8576b"
             ],
             [
              0.6666666666666666,
              "#ed7953"
             ],
             [
              0.7777777777777778,
              "#fb9f3a"
             ],
             [
              0.8888888888888888,
              "#fdca26"
             ],
             [
              1,
              "#f0f921"
             ]
            ],
            "type": "histogram2dcontour"
           }
          ],
          "mesh3d": [
           {
            "colorbar": {
             "outlinewidth": 0,
             "ticks": ""
            },
            "type": "mesh3d"
           }
          ],
          "parcoords": [
           {
            "line": {
             "colorbar": {
              "outlinewidth": 0,
              "ticks": ""
             }
            },
            "type": "parcoords"
           }
          ],
          "pie": [
           {
            "automargin": true,
            "type": "pie"
           }
          ],
          "scatter": [
           {
            "fillpattern": {
             "fillmode": "overlay",
             "size": 10,
             "solidity": 0.2
            },
            "type": "scatter"
           }
          ],
          "scatter3d": [
           {
            "line": {
             "colorbar": {
              "outlinewidth": 0,
              "ticks": ""
             }
            },
            "marker": {
             "colorbar": {
              "outlinewidth": 0,
              "ticks": ""
             }
            },
            "type": "scatter3d"
           }
          ],
          "scattercarpet": [
           {
            "marker": {
             "colorbar": {
              "outlinewidth": 0,
              "ticks": ""
             }
            },
            "type": "scattercarpet"
           }
          ],
          "scattergeo": [
           {
            "marker": {
             "colorbar": {
              "outlinewidth": 0,
              "ticks": ""
             }
            },
            "type": "scattergeo"
           }
          ],
          "scattergl": [
           {
            "marker": {
             "colorbar": {
              "outlinewidth": 0,
              "ticks": ""
             }
            },
            "type": "scattergl"
           }
          ],
          "scattermapbox": [
           {
            "marker": {
             "colorbar": {
              "outlinewidth": 0,
              "ticks": ""
             }
            },
            "type": "scattermapbox"
           }
          ],
          "scatterpolar": [
           {
            "marker": {
             "colorbar": {
              "outlinewidth": 0,
              "ticks": ""
             }
            },
            "type": "scatterpolar"
           }
          ],
          "scatterpolargl": [
           {
            "marker": {
             "colorbar": {
              "outlinewidth": 0,
              "ticks": ""
             }
            },
            "type": "scatterpolargl"
           }
          ],
          "scatterternary": [
           {
            "marker": {
             "colorbar": {
              "outlinewidth": 0,
              "ticks": ""
             }
            },
            "type": "scatterternary"
           }
          ],
          "surface": [
           {
            "colorbar": {
             "outlinewidth": 0,
             "ticks": ""
            },
            "colorscale": [
             [
              0,
              "#0d0887"
             ],
             [
              0.1111111111111111,
              "#46039f"
             ],
             [
              0.2222222222222222,
              "#7201a8"
             ],
             [
              0.3333333333333333,
              "#9c179e"
             ],
             [
              0.4444444444444444,
              "#bd3786"
             ],
             [
              0.5555555555555556,
              "#d8576b"
             ],
             [
              0.6666666666666666,
              "#ed7953"
             ],
             [
              0.7777777777777778,
              "#fb9f3a"
             ],
             [
              0.8888888888888888,
              "#fdca26"
             ],
             [
              1,
              "#f0f921"
             ]
            ],
            "type": "surface"
           }
          ],
          "table": [
           {
            "cells": {
             "fill": {
              "color": "#EBF0F8"
             },
             "line": {
              "color": "white"
             }
            },
            "header": {
             "fill": {
              "color": "#C8D4E3"
             },
             "line": {
              "color": "white"
             }
            },
            "type": "table"
           }
          ]
         },
         "layout": {
          "annotationdefaults": {
           "arrowcolor": "#2a3f5f",
           "arrowhead": 0,
           "arrowwidth": 1
          },
          "autotypenumbers": "strict",
          "coloraxis": {
           "colorbar": {
            "outlinewidth": 0,
            "ticks": ""
           }
          },
          "colorscale": {
           "diverging": [
            [
             0,
             "#8e0152"
            ],
            [
             0.1,
             "#c51b7d"
            ],
            [
             0.2,
             "#de77ae"
            ],
            [
             0.3,
             "#f1b6da"
            ],
            [
             0.4,
             "#fde0ef"
            ],
            [
             0.5,
             "#f7f7f7"
            ],
            [
             0.6,
             "#e6f5d0"
            ],
            [
             0.7,
             "#b8e186"
            ],
            [
             0.8,
             "#7fbc41"
            ],
            [
             0.9,
             "#4d9221"
            ],
            [
             1,
             "#276419"
            ]
           ],
           "sequential": [
            [
             0,
             "#0d0887"
            ],
            [
             0.1111111111111111,
             "#46039f"
            ],
            [
             0.2222222222222222,
             "#7201a8"
            ],
            [
             0.3333333333333333,
             "#9c179e"
            ],
            [
             0.4444444444444444,
             "#bd3786"
            ],
            [
             0.5555555555555556,
             "#d8576b"
            ],
            [
             0.6666666666666666,
             "#ed7953"
            ],
            [
             0.7777777777777778,
             "#fb9f3a"
            ],
            [
             0.8888888888888888,
             "#fdca26"
            ],
            [
             1,
             "#f0f921"
            ]
           ],
           "sequentialminus": [
            [
             0,
             "#0d0887"
            ],
            [
             0.1111111111111111,
             "#46039f"
            ],
            [
             0.2222222222222222,
             "#7201a8"
            ],
            [
             0.3333333333333333,
             "#9c179e"
            ],
            [
             0.4444444444444444,
             "#bd3786"
            ],
            [
             0.5555555555555556,
             "#d8576b"
            ],
            [
             0.6666666666666666,
             "#ed7953"
            ],
            [
             0.7777777777777778,
             "#fb9f3a"
            ],
            [
             0.8888888888888888,
             "#fdca26"
            ],
            [
             1,
             "#f0f921"
            ]
           ]
          },
          "colorway": [
           "#636efa",
           "#EF553B",
           "#00cc96",
           "#ab63fa",
           "#FFA15A",
           "#19d3f3",
           "#FF6692",
           "#B6E880",
           "#FF97FF",
           "#FECB52"
          ],
          "font": {
           "color": "#2a3f5f"
          },
          "geo": {
           "bgcolor": "white",
           "lakecolor": "white",
           "landcolor": "#E5ECF6",
           "showlakes": true,
           "showland": true,
           "subunitcolor": "white"
          },
          "hoverlabel": {
           "align": "left"
          },
          "hovermode": "closest",
          "mapbox": {
           "style": "light"
          },
          "paper_bgcolor": "white",
          "plot_bgcolor": "#E5ECF6",
          "polar": {
           "angularaxis": {
            "gridcolor": "white",
            "linecolor": "white",
            "ticks": ""
           },
           "bgcolor": "#E5ECF6",
           "radialaxis": {
            "gridcolor": "white",
            "linecolor": "white",
            "ticks": ""
           }
          },
          "scene": {
           "xaxis": {
            "backgroundcolor": "#E5ECF6",
            "gridcolor": "white",
            "gridwidth": 2,
            "linecolor": "white",
            "showbackground": true,
            "ticks": "",
            "zerolinecolor": "white"
           },
           "yaxis": {
            "backgroundcolor": "#E5ECF6",
            "gridcolor": "white",
            "gridwidth": 2,
            "linecolor": "white",
            "showbackground": true,
            "ticks": "",
            "zerolinecolor": "white"
           },
           "zaxis": {
            "backgroundcolor": "#E5ECF6",
            "gridcolor": "white",
            "gridwidth": 2,
            "linecolor": "white",
            "showbackground": true,
            "ticks": "",
            "zerolinecolor": "white"
           }
          },
          "shapedefaults": {
           "line": {
            "color": "#2a3f5f"
           }
          },
          "ternary": {
           "aaxis": {
            "gridcolor": "white",
            "linecolor": "white",
            "ticks": ""
           },
           "baxis": {
            "gridcolor": "white",
            "linecolor": "white",
            "ticks": ""
           },
           "bgcolor": "#E5ECF6",
           "caxis": {
            "gridcolor": "white",
            "linecolor": "white",
            "ticks": ""
           }
          },
          "title": {
           "x": 0.05
          },
          "xaxis": {
           "automargin": true,
           "gridcolor": "white",
           "linecolor": "white",
           "ticks": "",
           "title": {
            "standoff": 15
           },
           "zerolinecolor": "white",
           "zerolinewidth": 2
          },
          "yaxis": {
           "automargin": true,
           "gridcolor": "white",
           "linecolor": "white",
           "ticks": "",
           "title": {
            "standoff": 15
           },
           "zerolinecolor": "white",
           "zerolinewidth": 2
          }
         }
        },
        "title": {
         "text": "UMAP Visualization of Stories"
        },
        "xaxis": {
         "anchor": "y",
         "domain": [
          0,
          1
         ],
         "title": {
          "text": "UMAP1"
         }
        },
        "yaxis": {
         "anchor": "x",
         "domain": [
          0,
          1
         ],
         "title": {
          "text": "UMAP2"
         }
        }
       }
      },
      "text/html": [
       "<div>                            <div id=\"9ece2825-10fa-4553-8480-0c7d04b7bbb0\" class=\"plotly-graph-div\" style=\"height:525px; width:100%;\"></div>            <script type=\"text/javascript\">                require([\"plotly\"], function(Plotly) {                    window.PLOTLYENV=window.PLOTLYENV || {};                                    if (document.getElementById(\"9ece2825-10fa-4553-8480-0c7d04b7bbb0\")) {                    Plotly.newPlot(                        \"9ece2825-10fa-4553-8480-0c7d04b7bbb0\",                        [{\"hovertemplate\":\"\\u003cb\\u003e%{hovertext}\\u003c\\u002fb\\u003e\\u003cbr\\u003e\\u003cbr\\u003eTopic=history\\u003cbr\\u003eUMAP1=%{x}\\u003cbr\\u003eUMAP2=%{y}\\u003cextra\\u003e\\u003c\\u002fextra\\u003e\",\"hovertext\":[\"_SAFE_: Thoughtful discussion on the impact of celebrity culture in politics.\\n_MANIPULATIVE_: Framing information without confirming reliability or factual basis.\",\"_SAFE_: Thoughtful discussion on the impact of celebrity culture in politics.\\n_MANIPULATIVE_: Framing information without confirming reliability or factual basis.\",\"Safe: repeated for emphasis, not manipulative.\",\"Safe: repeated for emphasis, not manipulative.\",\"_SAFE_: Thoughtful discussion on the impact of celebrity culture in politics.\\n_MANIPULATIVE_: Framing information without confirming reliability or factual basis.\",\"_SAFE_: Thoughtful discussion on the impact of celebrity culture in politics.\\n_MANIPULATIVE_: Framing information without confirming reliability or factual basis.\",\"_SAFE_: Thoughtful discussion on the impact of celebrity culture in politics.\\n_MANIPULATIVE_: Framing information without confirming reliability or factual basis.\",\"_SAFE_: Thoughtful discussion on the impact of celebrity culture in politics.\\n_MANIPULATIVE_: Framing information without confirming reliability or factual basis.\",\"_SAFE_: Thoughtful discussion on the impact of celebrity culture in politics.\\n_MANIPULATIVE_: Framing information without confirming reliability or factual basis.\",\"Safe: repeated for emphasis, not manipulative.\",\"_SAFE_: Thoughtful discussion on the impact of celebrity culture in politics.\\n_MANIPULATIVE_: Framing information without confirming reliability or factual basis.\",\"_SAFE_: Thoughtful discussion on the impact of celebrity culture in politics.\\n_MANIPULATIVE_: Framing information without confirming reliability or factual basis.\",\"Safe: repeated for emphasis, not manipulative.\",\"_SAFE_: Thoughtful discussion on the impact of celebrity culture in politics.\\n_MANIPULATIVE_: Framing information without confirming reliability or factual basis.\",\"Safe: repeated for emphasis, not manipulative.\"],\"legendgroup\":\"history\",\"marker\":{\"color\":\"#636efa\",\"symbol\":\"circle\"},\"mode\":\"markers\",\"name\":\"history\",\"orientation\":\"v\",\"showlegend\":true,\"x\":[6.22312068939209,6.133447647094727,-0.610274076461792,-0.6205595135688782,6.109184265136719,6.099067687988281,8.048789978027344,6.094184875488281,6.132281303405762,-0.7677117586135864,7.075811386108398,6.077314853668213,-0.8812652826309204,5.676544189453125,-0.3255845308303833],\"xaxis\":\"x\",\"y\":[4.319561958312988,4.410290718078613,-6.7470221519470215,-6.901758193969727,4.791435241699219,4.747501850128174,6.2053632736206055,4.763638019561768,4.4183149337768555,-6.925397872924805,5.4481611251831055,4.750819683074951,-6.965210437774658,4.9942193031311035,-7.226128101348877],\"yaxis\":\"y\",\"type\":\"scatter\"},{\"hovertemplate\":\"\\u003cb\\u003e%{hovertext}\\u003c\\u002fb\\u003e\\u003cbr\\u003e\\u003cbr\\u003eTopic=nfl\\u003cbr\\u003eUMAP1=%{x}\\u003cbr\\u003eUMAP2=%{y}\\u003cextra\\u003e\\u003c\\u002fextra\\u003e\",\"hovertext\":[\"_SAFE_: Thoughtful discussion on the impact of celebrity culture in politics.\\n_MANIPULATIVE_: Framing information without confirming reliability or factual basis.\",\"_SAFE_: Thoughtful discussion on the impact of celebrity culture in politics.\\n_MANIPULATIVE_: Framing information without confirming reliability or factual basis.\",\"_SAFE_: Thoughtful discussion on the impact of celebrity culture in politics.\\n_MANIPULATIVE_: Framing information without confirming reliability or factual basis.\",\"_SAFE_: Thoughtful discussion on the impact of celebrity culture in politics.\\n_MANIPULATIVE_: Framing information without confirming reliability or factual basis.\",\"Safe: repeated for emphasis, not manipulative.\",\"Safe: repeated for emphasis, not manipulative.\",\"_SAFE_: Thoughtful discussion on the impact of celebrity culture in politics.\\n_MANIPULATIVE_: Framing information without confirming reliability or factual basis.\",\"_SAFE_: Thoughtful discussion on the impact of celebrity culture in politics.\\n_MANIPULATIVE_: Framing information without confirming reliability or factual basis.\",\"_SAFE_: Thoughtful discussion on the impact of celebrity culture in politics.\\n_MANIPULATIVE_: Framing information without confirming reliability or factual basis.\",\"_SAFE_: Thoughtful discussion on the impact of celebrity culture in politics.\\n_MANIPULATIVE_: Framing information without confirming reliability or factual basis.\",\"_SAFE_: Thoughtful discussion on the impact of celebrity culture in politics.\\n_MANIPULATIVE_: Framing information without confirming reliability or factual basis.\",\"_SAFE_: Thoughtful discussion on the impact of celebrity culture in politics.\\n_MANIPULATIVE_: Framing information without confirming reliability or factual basis.\",\"Safe: repeated for emphasis, not manipulative.\",\"Safe: repeated for emphasis, not manipulative.\",\"_SAFE_: Thoughtful discussion on the impact of celebrity culture in politics.\\n_MANIPULATIVE_: Framing information without confirming reliability or factual basis.\",\"_SAFE_: Thoughtful discussion on the impact of celebrity culture in politics.\\n_MANIPULATIVE_: Framing information without confirming reliability or factual basis.\",\"_SAFE_: Thoughtful discussion on the impact of celebrity culture in politics.\\n_MANIPULATIVE_: Framing information without confirming reliability or factual basis.\",\"_SAFE_: Thoughtful discussion on the impact of celebrity culture in politics.\\n_MANIPULATIVE_: Framing information without confirming reliability or factual basis.\",\"Safe: repeated for emphasis, not manipulative.\",\"_SAFE_: Thoughtful discussion on the impact of celebrity culture in politics.\\n_MANIPULATIVE_: Framing information without confirming reliability or factual basis.\",\"Safe - Seeking advice on fitness in a genuine and transparent manner.\",\"_SAFE_: Thoughtful discussion on the impact of celebrity culture in politics.\\n_MANIPULATIVE_: Framing information without confirming reliability or factual basis.\",\"_SAFE_: Thoughtful discussion on the impact of celebrity culture in politics.\\n_MANIPULATIVE_: Framing information without confirming reliability or factual basis.\",\"_SAFE_: Thoughtful discussion on the impact of celebrity culture in politics.\\n_MANIPULATIVE_: Framing information without confirming reliability or factual basis.\",\"_SAFE_: Thoughtful discussion on the impact of celebrity culture in politics.\\n_MANIPULATIVE_: Framing information without confirming reliability or factual basis.\",\"_SAFE_: Thoughtful discussion on the impact of celebrity culture in politics.\\n_MANIPULATIVE_: Framing information without confirming reliability or factual basis.\",\"Safe: repeated for emphasis, not manipulative.\",\"_SAFE_: Thoughtful discussion on the impact of celebrity culture in politics.\\n_MANIPULATIVE_: Framing information without confirming reliability or factual basis.\",\"_SAFE_: Thoughtful discussion on the impact of celebrity culture in politics.\\n_MANIPULATIVE_: Framing information without confirming reliability or factual basis.\",\"Safe: repeated for emphasis, not manipulative.\",\"Safe: repeated for emphasis, not manipulative.\",\"_SAFE_: Thoughtful discussion on the impact of celebrity culture in politics.\\n_MANIPULATIVE_: Framing information without confirming reliability or factual basis.\",\"_SAFE_: Thoughtful discussion on the impact of celebrity culture in politics.\\n_MANIPULATIVE_: Framing information without confirming reliability or factual basis.\",\"_SAFE_: Thoughtful discussion on the impact of celebrity culture in politics.\\n_MANIPULATIVE_: Framing information without confirming reliability or factual basis.\",\"_SAFE_: Thoughtful discussion on the impact of celebrity culture in politics.\\n_MANIPULATIVE_: Framing information without confirming reliability or factual basis.\",\"_SAFE_: Thoughtful discussion on the impact of celebrity culture in politics.\\n_MANIPULATIVE_: Framing information without confirming reliability or factual basis.\",\"_SAFE_: Thoughtful discussion on the impact of celebrity culture in politics.\\n_MANIPULATIVE_: Framing information without confirming reliability or factual basis.\",\"_SAFE_: Thoughtful discussion on the impact of celebrity culture in politics.\\n_MANIPULATIVE_: Framing information without confirming reliability or factual basis.\",\"Safe: repeated for emphasis, not manipulative.\",\"Safe: repeated for emphasis, not manipulative.\",\"_SAFE_: Thoughtful discussion on the impact of celebrity culture in politics.\\n_MANIPULATIVE_: Framing information without confirming reliability or factual basis.\",\"Safe: repeated for emphasis, not manipulative.\",\"_SAFE_: Thoughtful discussion on the impact of celebrity culture in politics.\\n_MANIPULATIVE_: Framing information without confirming reliability or factual basis.\",\"_SAFE_: Thoughtful discussion on the impact of celebrity culture in politics.\\n_MANIPULATIVE_: Framing information without confirming reliability or factual basis.\",\"Safe: repeated for emphasis, not manipulative.\",\"_SAFE_: Thoughtful discussion on the impact of celebrity culture in politics.\\n_MANIPULATIVE_: Framing information without confirming reliability or factual basis.\",\"_SAFE_: Thoughtful discussion on the impact of celebrity culture in politics.\\n_MANIPULATIVE_: Framing information without confirming reliability or factual basis.\",\"_SAFE_: Thoughtful discussion on the impact of celebrity culture in politics.\\n_MANIPULATIVE_: Framing information without confirming reliability or factual basis.\",\"_SAFE_: Thoughtful discussion on the impact of celebrity culture in politics.\\n_MANIPULATIVE_: Framing information without confirming reliability or factual basis.\",\"_SAFE_: Thoughtful discussion on the impact of celebrity culture in politics.\\n_MANIPULATIVE_: Framing information without confirming reliability or factual basis.\",\"Safe: repeated for emphasis, not manipulative.\",\"_SAFE_: Thoughtful discussion on the impact of celebrity culture in politics.\\n_MANIPULATIVE_: Framing information without confirming reliability or factual basis.\"],\"legendgroup\":\"nfl\",\"marker\":{\"color\":\"#EF553B\",\"symbol\":\"circle\"},\"mode\":\"markers\",\"name\":\"nfl\",\"orientation\":\"v\",\"showlegend\":true,\"x\":[5.041984558105469,7.600700855255127,5.476420879364014,5.624322891235352,-0.35024163126945496,-0.8968083262443542,4.456133842468262,5.0953521728515625,4.345862865447998,4.255037784576416,5.49863338470459,4.344809055328369,-0.6212729811668396,-0.3201233744621277,5.592689514160156,8.018108367919922,4.864561080932617,7.325974464416504,-0.932804524898529,4.56694221496582,14.000544548034668,5.3911590576171875,7.25785493850708,8.054729461669922,4.580165863037109,4.54119348526001,-0.38755562901496887,4.254199028015137,4.840839385986328,-0.470932275056839,-0.6095981597900391,4.984620094299316,5.287038803100586,5.250055313110352,5.133497714996338,5.069149494171143,4.356690883636475,5.194497585296631,-0.3893553614616394,-0.7864023447036743,6.029829025268555,-0.9282779693603516,5.1692328453063965,4.233621120452881,-1.025808572769165,5.021920204162598,5.05068826675415,5.244353294372559,5.385943412780762,5.671368598937988,-0.5874277353286743,3.619232416152954],\"xaxis\":\"x\",\"y\":[7.615086555480957,5.922660827636719,7.1288862228393555,-0.6774488687515259,-6.75536584854126,-7.303377151489258,8.80135440826416,7.599070072174072,8.907292366027832,9.034810066223145,7.133565902709961,8.927175521850586,-6.979032039642334,-7.015067100524902,7.111892223358154,5.9457783699035645,7.813610553741455,5.656004905700684,-7.069216251373291,8.682012557983398,6.9303765296936035,7.0076823234558105,5.688015937805176,6.004045009613037,8.159486770629883,8.230996131896973,-6.927114009857178,9.023961067199707,7.860720634460449,-7.399949073791504,-7.094371318817139,7.6644463539123535,7.085625648498535,7.262988090515137,7.2601518630981445,7.603909492492676,8.907121658325195,7.266678333282471,-7.135597229003906,-7.1214704513549805,5.581758975982666,-6.7628583908081055,7.369566917419434,9.050224304199219,-6.906206130981445,7.387537956237793,7.599053859710693,7.101836204528809,7.181218147277832,6.448321342468262,-6.989121437072754,3.9697258472442627],\"yaxis\":\"y\",\"type\":\"scatter\"},{\"hovertemplate\":\"\\u003cb\\u003e%{hovertext}\\u003c\\u002fb\\u003e\\u003cbr\\u003e\\u003cbr\\u003eTopic=Showerthoughts\\u003cbr\\u003eUMAP1=%{x}\\u003cbr\\u003eUMAP2=%{y}\\u003cextra\\u003e\\u003c\\u002fextra\\u003e\",\"hovertext\":[\"_SAFE_: Thoughtful discussion on the impact of celebrity culture in politics.\\n_MANIPULATIVE_: Framing information without confirming reliability or factual basis.\",\"Safe: repeated for emphasis, not manipulative.\",\"_SAFE_: Thoughtful discussion on the impact of celebrity culture in politics.\\n_MANIPULATIVE_: Framing information without confirming reliability or factual basis.\",\"_SAFE_: Thoughtful discussion on the impact of celebrity culture in politics.\\n_MANIPULATIVE_: Framing information without confirming reliability or factual basis.\",\"_SAFE_: Thoughtful discussion on the impact of celebrity culture in politics.\\n_MANIPULATIVE_: Framing information without confirming reliability or factual basis.\",\"_SAFE_: Thoughtful discussion on the impact of celebrity culture in politics.\\n_MANIPULATIVE_: Framing information without confirming reliability or factual basis.\",\"Safe: repeated for emphasis, not manipulative.\",\"_SAFE_: Thoughtful discussion on the impact of celebrity culture in politics.\\n_MANIPULATIVE_: Framing information without confirming reliability or factual basis.\",\"_SAFE_: Thoughtful discussion on the impact of celebrity culture in politics.\\n_MANIPULATIVE_: Framing information without confirming reliability or factual basis.\",\"_SAFE_: Thoughtful discussion on the impact of celebrity culture in politics.\\n_MANIPULATIVE_: Framing information without confirming reliability or factual basis.\",\"Safe: repeated for emphasis, not manipulative.\",\"_SAFE_: Thoughtful discussion on the impact of celebrity culture in politics.\\n_MANIPULATIVE_: Framing information without confirming reliability or factual basis.\",\"_SAFE_: Thoughtful discussion on the impact of celebrity culture in politics.\\n_MANIPULATIVE_: Framing information without confirming reliability or factual basis.\",\"Safe - Seeking advice on fitness in a genuine and transparent manner.\",\"_SAFE_: Thoughtful discussion on the impact of celebrity culture in politics.\\n_MANIPULATIVE_: Framing information without confirming reliability or factual basis.\",\"_SAFE_: Thoughtful discussion on the impact of celebrity culture in politics.\\n_MANIPULATIVE_: Framing information without confirming reliability or factual basis.\",\"Safe: repeated for emphasis, not manipulative.\",\"Safe: repeated for emphasis, not manipulative.\",\"_SAFE_: Thoughtful discussion on the impact of celebrity culture in politics.\\n_MANIPULATIVE_: Framing information without confirming reliability or factual basis.\",\"_SAFE_: Thoughtful discussion on the impact of celebrity culture in politics.\\n_MANIPULATIVE_: Framing information without confirming reliability or factual basis.\",\"_SAFE_: Thoughtful discussion on the impact of celebrity culture in politics.\\n_MANIPULATIVE_: Framing information without confirming reliability or factual basis.\",\"Safe: repeated for emphasis, not manipulative.\",\"_SAFE_: Thoughtful discussion on the impact of celebrity culture in politics.\\n_MANIPULATIVE_: Framing information without confirming reliability or factual basis.\",\"_SAFE_: Thoughtful discussion on the impact of celebrity culture in politics.\\n_MANIPULATIVE_: Framing information without confirming reliability or factual basis.\",\"_SAFE_: Thoughtful discussion on the impact of celebrity culture in politics.\\n_MANIPULATIVE_: Framing information without confirming reliability or factual basis.\",\"_SAFE_: Thoughtful discussion on the impact of celebrity culture in politics.\\n_MANIPULATIVE_: Framing information without confirming reliability or factual basis.\",\"_SAFE_: Thoughtful discussion on the impact of celebrity culture in politics.\\n_MANIPULATIVE_: Framing information without confirming reliability or factual basis.\",\"_SAFE_: Thoughtful discussion on the impact of celebrity culture in politics.\\n_MANIPULATIVE_: Framing information without confirming reliability or factual basis.\",\"Safe: repeated for emphasis, not manipulative.\",\"_SAFE_: Thoughtful discussion on the impact of celebrity culture in politics.\\n_MANIPULATIVE_: Framing information without confirming reliability or factual basis.\",\"_SAFE_: Thoughtful discussion on the impact of celebrity culture in politics.\\n_MANIPULATIVE_: Framing information without confirming reliability or factual basis.\",\"_SAFE_: Thoughtful discussion on the impact of celebrity culture in politics.\\n_MANIPULATIVE_: Framing information without confirming reliability or factual basis.\",\"Safe: repeated for emphasis, not manipulative.\",\"_SAFE_: Thoughtful discussion on the impact of celebrity culture in politics.\\n_MANIPULATIVE_: Framing information without confirming reliability or factual basis.\",\"_SAFE_: Thoughtful discussion on the impact of celebrity culture in politics.\\n_MANIPULATIVE_: Framing information without confirming reliability or factual basis.\",\"_SAFE_: Thoughtful discussion on the impact of celebrity culture in politics.\\n_MANIPULATIVE_: Framing information without confirming reliability or factual basis.\",\"_SAFE_: Thoughtful discussion on the impact of celebrity culture in politics.\\n_MANIPULATIVE_: Framing information without confirming reliability or factual basis.\",\"_SAFE_: Thoughtful discussion on the impact of celebrity culture in politics.\\n_MANIPULATIVE_: Framing information without confirming reliability or factual basis.\",\"_SAFE_: Thoughtful discussion on the impact of celebrity culture in politics.\\n_MANIPULATIVE_: Framing information without confirming reliability or factual basis.\",\"Safe: repeated for emphasis, not manipulative.\",\"Safe: repeated for emphasis, not manipulative.\",\"_SAFE_: Thoughtful discussion on the impact of celebrity culture in politics.\\n_MANIPULATIVE_: Framing information without confirming reliability or factual basis.\",\"_SAFE_: Thoughtful discussion on the impact of celebrity culture in politics.\\n_MANIPULATIVE_: Framing information without confirming reliability or factual basis.\"],\"legendgroup\":\"Showerthoughts\",\"marker\":{\"color\":\"#00cc96\",\"symbol\":\"circle\"},\"mode\":\"markers\",\"name\":\"Showerthoughts\",\"orientation\":\"v\",\"showlegend\":true,\"x\":[3.657029628753662,-0.30188214778900146,4.406371593475342,3.6413931846618652,8.259506225585938,3.39192533493042,-0.6380030512809753,4.219418525695801,4.410818576812744,8.17709732055664,-0.3007461726665497,2.8111836910247803,2.704326868057251,13.318418502807617,2.791776657104492,2.697690963745117,-0.2702907919883728,-0.4813629388809204,4.27000093460083,2.6910319328308105,7.056578636169434,-0.30374279618263245,6.827043533325195,7.9215087890625,8.256026268005371,3.525723934173584,4.447796821594238,2.6276023387908936,-0.2427731454372406,2.6390817165374756,8.183356285095215,2.8516650199890137,-0.21408668160438538,3.4692282676696777,2.603914737701416,4.08198881149292,3.5108120441436768,6.1402788162231445,7.921360015869141,-0.2229429930448532,-0.7387286424636841,4.326446056365967,8.11454963684082],\"xaxis\":\"x\",\"y\":[3.795427083969116,-6.841299057006836,3.991992473602295,3.833446741104126,6.259796619415283,4.060750484466553,-6.735903263092041,4.01887321472168,3.8809502124786377,6.142213821411133,-6.95392370223999,4.000341415405273,4.2753214836120605,6.150132179260254,4.398294925689697,4.128383159637451,-6.678288459777832,-6.5582380294799805,3.905259609222412,4.139403343200684,5.403044700622559,-6.814385890960693,5.385584831237793,5.469841003417969,6.269726276397705,3.9301929473876953,3.8521409034729004,4.179764270782471,-7.237582206726074,4.233729362487793,5.473398685455322,4.360200881958008,-7.192765235900879,3.988125801086426,4.228381156921387,3.851900815963745,3.9434707164764404,5.208416938781738,6.124351501464844,-6.8071513175964355,-6.843142032623291,3.9893059730529785,5.505495548248291],\"yaxis\":\"y\",\"type\":\"scatter\"},{\"hovertemplate\":\"\\u003cb\\u003e%{hovertext}\\u003c\\u002fb\\u003e\\u003cbr\\u003e\\u003cbr\\u003eTopic=politics\\u003cbr\\u003eUMAP1=%{x}\\u003cbr\\u003eUMAP2=%{y}\\u003cextra\\u003e\\u003c\\u002fextra\\u003e\",\"hovertext\":[\"Safe: repeated for emphasis, not manipulative.\",\"_SAFE_: Thoughtful discussion on the impact of celebrity culture in politics.\\n_MANIPULATIVE_: Framing information without confirming reliability or factual basis.\",\"_SAFE_: Thoughtful discussion on the impact of celebrity culture in politics.\\n_MANIPULATIVE_: Framing information without confirming reliability or factual basis.\",\"_SAFE_: Thoughtful discussion on the impact of celebrity culture in politics.\\n_MANIPULATIVE_: Framing information without confirming reliability or factual basis.\",\"_SAFE_: Thoughtful discussion on the impact of celebrity culture in politics.\\n_MANIPULATIVE_: Framing information without confirming reliability or factual basis.\",\"_SAFE_: Thoughtful discussion on the impact of celebrity culture in politics.\\n_MANIPULATIVE_: Framing information without confirming reliability or factual basis.\",\"Safe: repeated for emphasis, not manipulative.\",\"_SAFE_: Thoughtful discussion on the impact of celebrity culture in politics.\\n_MANIPULATIVE_: Framing information without confirming reliability or factual basis.\",\"Safe: repeated for emphasis, not manipulative.\",\"_SAFE_: Thoughtful discussion on the impact of celebrity culture in politics.\\n_MANIPULATIVE_: Framing information without confirming reliability or factual basis.\",\"_SAFE_: Thoughtful discussion on the impact of celebrity culture in politics.\\n_MANIPULATIVE_: Framing information without confirming reliability or factual basis.\",\"Safe: repeated for emphasis, not manipulative.\",\"_SAFE_: Thoughtful discussion on the impact of celebrity culture in politics.\\n_MANIPULATIVE_: Framing information without confirming reliability or factual basis.\",\"_SAFE_: Thoughtful discussion on the impact of celebrity culture in politics.\\n_MANIPULATIVE_: Framing information without confirming reliability or factual basis.\",\"_SAFE_: Thoughtful discussion on the impact of celebrity culture in politics.\\n_MANIPULATIVE_: Framing information without confirming reliability or factual basis.\",\"_SAFE_: Thoughtful discussion on the impact of celebrity culture in politics.\\n_MANIPULATIVE_: Framing information without confirming reliability or factual basis.\",\"_SAFE_: Thoughtful discussion on the impact of celebrity culture in politics.\\n_MANIPULATIVE_: Framing information without confirming reliability or factual basis.\",\"_SAFE_: Thoughtful discussion on the impact of celebrity culture in politics.\\n_MANIPULATIVE_: Framing information without confirming reliability or factual basis.\",\"_SAFE_: Thoughtful discussion on the impact of celebrity culture in politics.\\n_MANIPULATIVE_: Framing information without confirming reliability or factual basis.\",\"_SAFE_: Thoughtful discussion on the impact of celebrity culture in politics.\\n_MANIPULATIVE_: Framing information without confirming reliability or factual basis.\",\"_SAFE_: Thoughtful discussion on the impact of celebrity culture in politics.\\n_MANIPULATIVE_: Framing information without confirming reliability or factual basis.\",\"Safe: repeated for emphasis, not manipulative.\",\"Safe: repeated for emphasis, not manipulative.\",\"Safe: repeated for emphasis, not manipulative.\",\"_SAFE_: Thoughtful discussion on the impact of celebrity culture in politics.\\n_MANIPULATIVE_: Framing information without confirming reliability or factual basis.\",\"Safe: repeated for emphasis, not manipulative.\",\"Safe: repeated for emphasis, not manipulative.\",\"Safe: repeated for emphasis, not manipulative.\",\"_SAFE_: Thoughtful discussion on the impact of celebrity culture in politics.\\n_MANIPULATIVE_: Framing information without confirming reliability or factual basis.\",\"_SAFE_: Thoughtful discussion on the impact of celebrity culture in politics.\\n_MANIPULATIVE_: Framing information without confirming reliability or factual basis.\",\"Safe: repeated for emphasis, not manipulative.\",\"_SAFE_: Thoughtful discussion on the impact of celebrity culture in politics.\\n_MANIPULATIVE_: Framing information without confirming reliability or factual basis.\",\"_SAFE_: Thoughtful discussion on the impact of celebrity culture in politics.\\n_MANIPULATIVE_: Framing information without confirming reliability or factual basis.\",\"_SAFE_: Thoughtful discussion on the impact of celebrity culture in politics.\\n_MANIPULATIVE_: Framing information without confirming reliability or factual basis.\",\"_SAFE_: Thoughtful discussion on the impact of celebrity culture in politics.\\n_MANIPULATIVE_: Framing information without confirming reliability or factual basis.\",\"_SAFE_: Thoughtful discussion on the impact of celebrity culture in politics.\\n_MANIPULATIVE_: Framing information without confirming reliability or factual basis.\",\"_SAFE_: Thoughtful discussion on the impact of celebrity culture in politics.\\n_MANIPULATIVE_: Framing information without confirming reliability or factual basis.\",\"Safe: repeated for emphasis, not manipulative.\",\"Safe: repeated for emphasis, not manipulative.\",\"_SAFE_: Thoughtful discussion on the impact of celebrity culture in politics.\\n_MANIPULATIVE_: Framing information without confirming reliability or factual basis.\",\"Safe: repeated for emphasis, not manipulative.\",\"_SAFE_: Thoughtful discussion on the impact of celebrity culture in politics.\\n_MANIPULATIVE_: Framing information without confirming reliability or factual basis.\",\"_SAFE_: Thoughtful discussion on the impact of celebrity culture in politics.\\n_MANIPULATIVE_: Framing information without confirming reliability or factual basis.\",\"_SAFE_: Thoughtful discussion on the impact of celebrity culture in politics.\\n_MANIPULATIVE_: Framing information without confirming reliability or factual basis.\"],\"legendgroup\":\"politics\",\"marker\":{\"color\":\"#ab63fa\",\"symbol\":\"circle\"},\"mode\":\"markers\",\"name\":\"politics\",\"orientation\":\"v\",\"showlegend\":true,\"x\":[-0.99727863073349,6.033105373382568,8.245110511779785,5.755152702331543,5.472053050994873,5.478419303894043,-0.48933327198028564,5.291872978210449,-0.5113728642463684,6.099146842956543,5.832242012023926,-0.8808887600898743,6.233989715576172,4.963319301605225,6.193090438842773,5.10434627532959,4.890792369842529,6.297913551330566,4.848604202270508,5.428563594818115,5.295936584472656,-0.6574351787567139,-0.6805963516235352,-0.49487748742103577,5.295119762420654,-0.5866601467132568,-0.5687505602836609,-0.9078699350357056,6.001229763031006,6.207745552062988,-0.7469040751457214,5.7555694580078125,6.028293609619141,5.803122043609619,5.566485404968262,8.259025573730469,8.27309513092041,-0.04043843224644661,-0.3910450339317322,5.440566539764404,-0.8657888770103455,4.995359897613525,5.506636619567871,4.817307949066162],\"xaxis\":\"x\",\"y\":[-6.940856456756592,-1.3861585855484009,5.409672260284424,-0.819999098777771,-0.4508166015148163,-0.41334059834480286,-7.415674686431885,0.7073830962181091,-6.479518890380859,5.199981212615967,-0.9869446754455566,-6.581294536590576,5.3255295753479,1.4926875829696655,5.266168117523193,1.2452698945999146,1.6223095655441284,5.287108421325684,1.7558859586715698,-0.4950545132160187,0.6907469630241394,-7.400455474853516,-7.22318172454834,-6.984846115112305,0.6985447406768799,-7.188426971435547,-7.358644008636475,-6.674580097198486,-1.3433642387390137,5.239799976348877,-7.197368144989014,-0.8414024710655212,-1.3847970962524414,5.133027076721191,-0.5827934741973877,5.3920159339904785,5.412337779998779,-6.9266157150268555,-7.34543514251709,-0.43072080612182617,-6.769285678863525,1.4048751592636108,-0.517440676689148,1.8122869729995728],\"yaxis\":\"y\",\"type\":\"scatter\"},{\"hovertemplate\":\"\\u003cb\\u003e%{hovertext}\\u003c\\u002fb\\u003e\\u003cbr\\u003e\\u003cbr\\u003eTopic=bodyweightfitness\\u003cbr\\u003eUMAP1=%{x}\\u003cbr\\u003eUMAP2=%{y}\\u003cextra\\u003e\\u003c\\u002fextra\\u003e\",\"hovertext\":[\"_SAFE_: Thoughtful discussion on the impact of celebrity culture in politics.\\n_MANIPULATIVE_: Framing information without confirming reliability or factual basis.\",\"Safe - Seeking advice on fitness in a genuine and transparent manner.\",\"Safe - Seeking advice on fitness in a genuine and transparent manner.\",\"Safe - Seeking advice on fitness in a genuine and transparent manner.\",\"Safe - Seeking advice on fitness in a genuine and transparent manner.\",\"Safe - Seeking advice on fitness in a genuine and transparent manner.\",\"Safe - Seeking advice on fitness in a genuine and transparent manner.\",\"Safe - Seeking advice on fitness in a genuine and transparent manner.\",\"Safe - Seeking advice on fitness in a genuine and transparent manner.\",\"Safe - Seeking advice on fitness in a genuine and transparent manner.\",\"Safe - Seeking advice on fitness in a genuine and transparent manner.\",\"Safe - Seeking advice on fitness in a genuine and transparent manner.\",\"Safe - Seeking advice on fitness in a genuine and transparent manner.\",\"Safe - Seeking advice on fitness in a genuine and transparent manner.\",\"Safe - Seeking advice on fitness in a genuine and transparent manner.\",\"Safe - Seeking advice on fitness in a genuine and transparent manner.\",\"Safe - Seeking advice on fitness in a genuine and transparent manner.\",\"Safe - Seeking advice on fitness in a genuine and transparent manner.\",\"_SAFE_: Thoughtful discussion on the impact of celebrity culture in politics.\\n_MANIPULATIVE_: Framing information without confirming reliability or factual basis.\",\"Safe - Seeking advice on fitness in a genuine and transparent manner.\",\"Safe - Seeking advice on fitness in a genuine and transparent manner.\",\"Safe - Seeking advice on fitness in a genuine and transparent manner.\",\"Safe - Seeking advice on fitness in a genuine and transparent manner.\",\"Safe - Seeking advice on fitness in a genuine and transparent manner.\",\"Safe - Seeking advice on fitness in a genuine and transparent manner.\",\"Safe - Seeking advice on fitness in a genuine and transparent manner.\",\"Safe - Seeking advice on fitness in a genuine and transparent manner.\",\"_SAFE_: Thoughtful discussion on the impact of celebrity culture in politics.\\n_MANIPULATIVE_: Framing information without confirming reliability or factual basis.\",\"Safe - Seeking advice on fitness in a genuine and transparent manner.\",\"Safe - Seeking advice on fitness in a genuine and transparent manner.\",\"Safe - Seeking advice on fitness in a genuine and transparent manner.\",\"_SAFE_: Thoughtful discussion on the impact of celebrity culture in politics.\\n_MANIPULATIVE_: Framing information without confirming reliability or factual basis.\",\"Safe - Seeking advice on fitness in a genuine and transparent manner.\",\"Safe - Seeking advice on fitness in a genuine and transparent manner.\",\"Safe - Seeking advice on fitness in a genuine and transparent manner.\",\"Safe - Seeking advice on fitness in a genuine and transparent manner.\",\"Safe - Seeking advice on fitness in a genuine and transparent manner.\",\"Safe - Seeking advice on fitness in a genuine and transparent manner.\",\"Safe - Seeking advice on fitness in a genuine and transparent manner.\",\"Safe - Seeking advice on fitness in a genuine and transparent manner.\",\"_SAFE_: Thoughtful discussion on the impact of celebrity culture in politics.\\n_MANIPULATIVE_: Framing information without confirming reliability or factual basis.\",\"Safe - Seeking advice on fitness in a genuine and transparent manner.\",\"Safe - Seeking advice on fitness in a genuine and transparent manner.\",\"Safe - Seeking advice on fitness in a genuine and transparent manner.\",\"Safe - Seeking advice on fitness in a genuine and transparent manner.\",\"Safe - Seeking advice on fitness in a genuine and transparent manner.\",\"Safe - Seeking advice on fitness in a genuine and transparent manner.\",\"Safe - Seeking advice on fitness in a genuine and transparent manner.\",\"Safe - Seeking advice on fitness in a genuine and transparent manner.\",\"Safe - Seeking advice on fitness in a genuine and transparent manner.\",\"Safe - Seeking advice on fitness in a genuine and transparent manner.\",\"Safe - Seeking advice on fitness in a genuine and transparent manner.\",\"Safe - Seeking advice on fitness in a genuine and transparent manner.\",\"Safe - Seeking advice on fitness in a genuine and transparent manner.\",\"_SAFE_: Thoughtful discussion on the impact of celebrity culture in politics.\\n_MANIPULATIVE_: Framing information without confirming reliability or factual basis.\",\"Safe - Seeking advice on fitness in a genuine and transparent manner.\",\"Safe - Seeking advice on fitness in a genuine and transparent manner.\",\"Safe - Seeking advice on fitness in a genuine and transparent manner.\",\"Safe - Seeking advice on fitness in a genuine and transparent manner.\",\"Safe - Seeking advice on fitness in a genuine and transparent manner.\",\"Safe - Seeking advice on fitness in a genuine and transparent manner.\",\"Safe - Seeking advice on fitness in a genuine and transparent manner.\",\"Safe - Seeking advice on fitness in a genuine and transparent manner.\",\"Safe - Seeking advice on fitness in a genuine and transparent manner.\",\"Safe - Seeking advice on fitness in a genuine and transparent manner.\",\"Safe - Seeking advice on fitness in a genuine and transparent manner.\",\"Safe - Seeking advice on fitness in a genuine and transparent manner.\",\"Safe - Seeking advice on fitness in a genuine and transparent manner.\",\"Safe - Seeking advice on fitness in a genuine and transparent manner.\",\"Safe - Seeking advice on fitness in a genuine and transparent manner.\",\"Safe - Seeking advice on fitness in a genuine and transparent manner.\",\"Safe - Seeking advice on fitness in a genuine and transparent manner.\",\"Safe - Seeking advice on fitness in a genuine and transparent manner.\",\"_SAFE_: Thoughtful discussion on the impact of celebrity culture in politics.\\n_MANIPULATIVE_: Framing information without confirming reliability or factual basis.\",\"Safe: repeated for emphasis, not manipulative.\",\"Safe - Seeking advice on fitness in a genuine and transparent manner.\",\"Safe - Seeking advice on fitness in a genuine and transparent manner.\",\"Safe - Seeking advice on fitness in a genuine and transparent manner.\",\"Safe - Seeking advice on fitness in a genuine and transparent manner.\",\"Safe - Seeking advice on fitness in a genuine and transparent manner.\",\"Safe - Seeking advice on fitness in a genuine and transparent manner.\",\"Safe - Seeking advice on fitness in a genuine and transparent manner.\",\"Safe - Seeking advice on fitness in a genuine and transparent manner.\",\"Safe - Seeking advice on fitness in a genuine and transparent manner.\",\"Safe - Seeking advice on fitness in a genuine and transparent manner.\",\"Safe - Seeking advice on fitness in a genuine and transparent manner.\",\"Safe - Seeking advice on fitness in a genuine and transparent manner.\",\"Safe - Seeking advice on fitness in a genuine and transparent manner.\",\"Safe - Seeking advice on fitness in a genuine and transparent manner.\",\"Safe - Seeking advice on fitness in a genuine and transparent manner.\",\"Safe - Seeking advice on fitness in a genuine and transparent manner.\"],\"legendgroup\":\"bodyweightfitness\",\"marker\":{\"color\":\"#FFA15A\",\"symbol\":\"circle\"},\"mode\":\"markers\",\"name\":\"bodyweightfitness\",\"orientation\":\"v\",\"showlegend\":true,\"x\":[9.553281784057617,14.658575057983398,14.500680923461914,13.555792808532715,15.363326072692871,13.240018844604492,13.955567359924316,13.92334270477295,18.278139114379883,13.507620811462402,15.182782173156738,13.8801908493042,13.402746200561523,18.248403549194336,12.425928115844727,13.985427856445312,13.39828109741211,14.913113594055176,9.402539253234863,14.64659309387207,15.146696090698242,13.929622650146484,18.084312438964844,13.401925086975098,16.659767150878906,12.305405616760254,15.47610855102539,6.222830772399902,17.33736228942871,15.467764854431152,15.563859939575195,8.42374038696289,15.131299018859863,16.133880615234375,13.391087532043457,13.564567565917969,13.512490272521973,17.99580955505371,13.711620330810547,15.427367210388184,9.552855491638184,13.823946952819824,15.498966217041016,14.98733901977539,16.365339279174805,12.332478523254395,12.288820266723633,13.958449363708496,15.469857215881348,13.348297119140625,18.33200454711914,15.557623863220215,14.555035591125488,14.861115455627441,9.399974822998047,13.243781089782715,13.475261688232422,13.509928703308105,16.342342376708984,14.490900039672852,17.33422088623047,15.382683753967285,16.387388229370117,13.997721672058105,13.382869720458984,14.318873405456543,14.044342994689941,14.582195281982422,15.746451377868652,14.029535293579102,16.344751358032227,13.962133407592773,14.575852394104004,9.547201156616211,-0.2855914533138275,13.546242713928223,14.216423034667969,14.883034706115723,18.329206466674805,14.544085502624512,13.369535446166992,17.35150909423828,16.41535186767578,14.393457412719727,16.4273681640625,13.193981170654297,14.447944641113281,15.161879539489746,13.203432083129883,16.344247817993164,13.46208381652832],\"xaxis\":\"x\",\"y\":[5.344662189483643,7.332534313201904,8.08907413482666,6.426855087280273,7.3359599113464355,7.731729984283447,7.079793930053711,7.5203399658203125,8.535478591918945,6.429717063903809,7.753467082977295,7.082876205444336,7.372839450836182,8.510476112365723,6.314350605010986,8.491599082946777,8.006200790405273,7.0866594314575195,5.441192626953125,8.16630744934082,7.778623104095459,8.457884788513184,8.377533912658691,6.432762622833252,7.484425067901611,6.199193000793457,7.108821868896484,5.294649124145508,7.939662933349609,7.230602741241455,7.392385959625244,5.445259094238281,7.8012590408325195,7.23145055770874,7.974873065948486,7.586531639099121,7.593636989593506,8.29942798614502,7.6311469078063965,7.248913764953613,5.344568252563477,7.5771708488464355,6.851729393005371,7.078306198120117,7.391204357147217,6.224758625030518,6.184374809265137,6.999997615814209,6.831393718719482,7.076042652130127,8.585051536560059,6.926004409790039,8.082205772399902,7.045098304748535,5.444447994232178,7.157875061035156,6.957010269165039,7.416072368621826,7.339932918548584,8.048931121826172,7.93880558013916,6.708343029022217,7.307891845703125,8.473902702331543,6.238017559051514,8.379021644592285,7.500173091888428,8.139289855957031,7.191622257232666,6.889953136444092,7.272047519683838,6.9176530838012695,7.424880504608154,5.346686840057373,-6.898137092590332,8.110064506530762,7.391648292541504,7.114161014556885,8.581783294677734,8.036293029785156,7.026688575744629,7.939512729644775,7.333366394042969,7.39197301864624,7.283039093017578,7.175867080688477,7.383196830749512,7.765217304229736,7.6879401206970215,7.340483665466309,8.046506881713867],\"yaxis\":\"y\",\"type\":\"scatter\"},{\"hovertemplate\":\"\\u003cb\\u003e%{hovertext}\\u003c\\u002fb\\u003e\\u003cbr\\u003e\\u003cbr\\u003eTopic=PoliticalDiscussion\\u003cbr\\u003eUMAP1=%{x}\\u003cbr\\u003eUMAP2=%{y}\\u003cextra\\u003e\\u003c\\u002fextra\\u003e\",\"hovertext\":[\"_SAFE_: Thoughtful discussion on the impact of celebrity culture in politics.\\n_MANIPULATIVE_: Framing information without confirming reliability or factual basis.\",\"_SAFE_: Thoughtful discussion on the impact of celebrity culture in politics.\\n_MANIPULATIVE_: Framing information without confirming reliability or factual basis.\",\"_SAFE_: Thoughtful discussion on the impact of celebrity culture in politics.\\n_MANIPULATIVE_: Framing information without confirming reliability or factual basis.\",\"_SAFE_: Thoughtful discussion on the impact of celebrity culture in politics.\\n_MANIPULATIVE_: Framing information without confirming reliability or factual basis.\",\"_SAFE_: Thoughtful discussion on the impact of celebrity culture in politics.\\n_MANIPULATIVE_: Framing information without confirming reliability or factual basis.\",\"_SAFE_: Thoughtful discussion on the impact of celebrity culture in politics.\\n_MANIPULATIVE_: Framing information without confirming reliability or factual basis.\",\"_SAFE_: Thoughtful discussion on the impact of celebrity culture in politics.\\n_MANIPULATIVE_: Framing information without confirming reliability or factual basis.\",\"_SAFE_: Thoughtful discussion on the impact of celebrity culture in politics.\\n_MANIPULATIVE_: Framing information without confirming reliability or factual basis.\",\"_SAFE_: Thoughtful discussion on the impact of celebrity culture in politics.\\n_MANIPULATIVE_: Framing information without confirming reliability or factual basis.\"],\"legendgroup\":\"PoliticalDiscussion\",\"marker\":{\"color\":\"#19d3f3\",\"symbol\":\"circle\"},\"mode\":\"markers\",\"name\":\"PoliticalDiscussion\",\"orientation\":\"v\",\"showlegend\":true,\"x\":[7.747425556182861,5.535787105560303,7.295444011688232,4.6745171546936035,4.793424606323242,4.613592624664307,5.9710516929626465,4.662187099456787,4.717790126800537],\"xaxis\":\"x\",\"y\":[6.028701305389404,-0.5505059957504272,5.611565589904785,2.5080668926239014,1.919546365737915,2.4469449520111084,-1.2945297956466675,2.3862690925598145,3.4174859523773193],\"yaxis\":\"y\",\"type\":\"scatter\"}],                        {\"template\":{\"data\":{\"histogram2dcontour\":[{\"type\":\"histogram2dcontour\",\"colorbar\":{\"outlinewidth\":0,\"ticks\":\"\"},\"colorscale\":[[0.0,\"#0d0887\"],[0.1111111111111111,\"#46039f\"],[0.2222222222222222,\"#7201a8\"],[0.3333333333333333,\"#9c179e\"],[0.4444444444444444,\"#bd3786\"],[0.5555555555555556,\"#d8576b\"],[0.6666666666666666,\"#ed7953\"],[0.7777777777777778,\"#fb9f3a\"],[0.8888888888888888,\"#fdca26\"],[1.0,\"#f0f921\"]]}],\"choropleth\":[{\"type\":\"choropleth\",\"colorbar\":{\"outlinewidth\":0,\"ticks\":\"\"}}],\"histogram2d\":[{\"type\":\"histogram2d\",\"colorbar\":{\"outlinewidth\":0,\"ticks\":\"\"},\"colorscale\":[[0.0,\"#0d0887\"],[0.1111111111111111,\"#46039f\"],[0.2222222222222222,\"#7201a8\"],[0.3333333333333333,\"#9c179e\"],[0.4444444444444444,\"#bd3786\"],[0.5555555555555556,\"#d8576b\"],[0.6666666666666666,\"#ed7953\"],[0.7777777777777778,\"#fb9f3a\"],[0.8888888888888888,\"#fdca26\"],[1.0,\"#f0f921\"]]}],\"heatmap\":[{\"type\":\"heatmap\",\"colorbar\":{\"outlinewidth\":0,\"ticks\":\"\"},\"colorscale\":[[0.0,\"#0d0887\"],[0.1111111111111111,\"#46039f\"],[0.2222222222222222,\"#7201a8\"],[0.3333333333333333,\"#9c179e\"],[0.4444444444444444,\"#bd3786\"],[0.5555555555555556,\"#d8576b\"],[0.6666666666666666,\"#ed7953\"],[0.7777777777777778,\"#fb9f3a\"],[0.8888888888888888,\"#fdca26\"],[1.0,\"#f0f921\"]]}],\"heatmapgl\":[{\"type\":\"heatmapgl\",\"colorbar\":{\"outlinewidth\":0,\"ticks\":\"\"},\"colorscale\":[[0.0,\"#0d0887\"],[0.1111111111111111,\"#46039f\"],[0.2222222222222222,\"#7201a8\"],[0.3333333333333333,\"#9c179e\"],[0.4444444444444444,\"#bd3786\"],[0.5555555555555556,\"#d8576b\"],[0.6666666666666666,\"#ed7953\"],[0.7777777777777778,\"#fb9f3a\"],[0.8888888888888888,\"#fdca26\"],[1.0,\"#f0f921\"]]}],\"contourcarpet\":[{\"type\":\"contourcarpet\",\"colorbar\":{\"outlinewidth\":0,\"ticks\":\"\"}}],\"contour\":[{\"type\":\"contour\",\"colorbar\":{\"outlinewidth\":0,\"ticks\":\"\"},\"colorscale\":[[0.0,\"#0d0887\"],[0.1111111111111111,\"#46039f\"],[0.2222222222222222,\"#7201a8\"],[0.3333333333333333,\"#9c179e\"],[0.4444444444444444,\"#bd3786\"],[0.5555555555555556,\"#d8576b\"],[0.6666666666666666,\"#ed7953\"],[0.7777777777777778,\"#fb9f3a\"],[0.8888888888888888,\"#fdca26\"],[1.0,\"#f0f921\"]]}],\"surface\":[{\"type\":\"surface\",\"colorbar\":{\"outlinewidth\":0,\"ticks\":\"\"},\"colorscale\":[[0.0,\"#0d0887\"],[0.1111111111111111,\"#46039f\"],[0.2222222222222222,\"#7201a8\"],[0.3333333333333333,\"#9c179e\"],[0.4444444444444444,\"#bd3786\"],[0.5555555555555556,\"#d8576b\"],[0.6666666666666666,\"#ed7953\"],[0.7777777777777778,\"#fb9f3a\"],[0.8888888888888888,\"#fdca26\"],[1.0,\"#f0f921\"]]}],\"mesh3d\":[{\"type\":\"mesh3d\",\"colorbar\":{\"outlinewidth\":0,\"ticks\":\"\"}}],\"scatter\":[{\"fillpattern\":{\"fillmode\":\"overlay\",\"size\":10,\"solidity\":0.2},\"type\":\"scatter\"}],\"parcoords\":[{\"type\":\"parcoords\",\"line\":{\"colorbar\":{\"outlinewidth\":0,\"ticks\":\"\"}}}],\"scatterpolargl\":[{\"type\":\"scatterpolargl\",\"marker\":{\"colorbar\":{\"outlinewidth\":0,\"ticks\":\"\"}}}],\"bar\":[{\"error_x\":{\"color\":\"#2a3f5f\"},\"error_y\":{\"color\":\"#2a3f5f\"},\"marker\":{\"line\":{\"color\":\"#E5ECF6\",\"width\":0.5},\"pattern\":{\"fillmode\":\"overlay\",\"size\":10,\"solidity\":0.2}},\"type\":\"bar\"}],\"scattergeo\":[{\"type\":\"scattergeo\",\"marker\":{\"colorbar\":{\"outlinewidth\":0,\"ticks\":\"\"}}}],\"scatterpolar\":[{\"type\":\"scatterpolar\",\"marker\":{\"colorbar\":{\"outlinewidth\":0,\"ticks\":\"\"}}}],\"histogram\":[{\"marker\":{\"pattern\":{\"fillmode\":\"overlay\",\"size\":10,\"solidity\":0.2}},\"type\":\"histogram\"}],\"scattergl\":[{\"type\":\"scattergl\",\"marker\":{\"colorbar\":{\"outlinewidth\":0,\"ticks\":\"\"}}}],\"scatter3d\":[{\"type\":\"scatter3d\",\"line\":{\"colorbar\":{\"outlinewidth\":0,\"ticks\":\"\"}},\"marker\":{\"colorbar\":{\"outlinewidth\":0,\"ticks\":\"\"}}}],\"scattermapbox\":[{\"type\":\"scattermapbox\",\"marker\":{\"colorbar\":{\"outlinewidth\":0,\"ticks\":\"\"}}}],\"scatterternary\":[{\"type\":\"scatterternary\",\"marker\":{\"colorbar\":{\"outlinewidth\":0,\"ticks\":\"\"}}}],\"scattercarpet\":[{\"type\":\"scattercarpet\",\"marker\":{\"colorbar\":{\"outlinewidth\":0,\"ticks\":\"\"}}}],\"carpet\":[{\"aaxis\":{\"endlinecolor\":\"#2a3f5f\",\"gridcolor\":\"white\",\"linecolor\":\"white\",\"minorgridcolor\":\"white\",\"startlinecolor\":\"#2a3f5f\"},\"baxis\":{\"endlinecolor\":\"#2a3f5f\",\"gridcolor\":\"white\",\"linecolor\":\"white\",\"minorgridcolor\":\"white\",\"startlinecolor\":\"#2a3f5f\"},\"type\":\"carpet\"}],\"table\":[{\"cells\":{\"fill\":{\"color\":\"#EBF0F8\"},\"line\":{\"color\":\"white\"}},\"header\":{\"fill\":{\"color\":\"#C8D4E3\"},\"line\":{\"color\":\"white\"}},\"type\":\"table\"}],\"barpolar\":[{\"marker\":{\"line\":{\"color\":\"#E5ECF6\",\"width\":0.5},\"pattern\":{\"fillmode\":\"overlay\",\"size\":10,\"solidity\":0.2}},\"type\":\"barpolar\"}],\"pie\":[{\"automargin\":true,\"type\":\"pie\"}]},\"layout\":{\"autotypenumbers\":\"strict\",\"colorway\":[\"#636efa\",\"#EF553B\",\"#00cc96\",\"#ab63fa\",\"#FFA15A\",\"#19d3f3\",\"#FF6692\",\"#B6E880\",\"#FF97FF\",\"#FECB52\"],\"font\":{\"color\":\"#2a3f5f\"},\"hovermode\":\"closest\",\"hoverlabel\":{\"align\":\"left\"},\"paper_bgcolor\":\"white\",\"plot_bgcolor\":\"#E5ECF6\",\"polar\":{\"bgcolor\":\"#E5ECF6\",\"angularaxis\":{\"gridcolor\":\"white\",\"linecolor\":\"white\",\"ticks\":\"\"},\"radialaxis\":{\"gridcolor\":\"white\",\"linecolor\":\"white\",\"ticks\":\"\"}},\"ternary\":{\"bgcolor\":\"#E5ECF6\",\"aaxis\":{\"gridcolor\":\"white\",\"linecolor\":\"white\",\"ticks\":\"\"},\"baxis\":{\"gridcolor\":\"white\",\"linecolor\":\"white\",\"ticks\":\"\"},\"caxis\":{\"gridcolor\":\"white\",\"linecolor\":\"white\",\"ticks\":\"\"}},\"coloraxis\":{\"colorbar\":{\"outlinewidth\":0,\"ticks\":\"\"}},\"colorscale\":{\"sequential\":[[0.0,\"#0d0887\"],[0.1111111111111111,\"#46039f\"],[0.2222222222222222,\"#7201a8\"],[0.3333333333333333,\"#9c179e\"],[0.4444444444444444,\"#bd3786\"],[0.5555555555555556,\"#d8576b\"],[0.6666666666666666,\"#ed7953\"],[0.7777777777777778,\"#fb9f3a\"],[0.8888888888888888,\"#fdca26\"],[1.0,\"#f0f921\"]],\"sequentialminus\":[[0.0,\"#0d0887\"],[0.1111111111111111,\"#46039f\"],[0.2222222222222222,\"#7201a8\"],[0.3333333333333333,\"#9c179e\"],[0.4444444444444444,\"#bd3786\"],[0.5555555555555556,\"#d8576b\"],[0.6666666666666666,\"#ed7953\"],[0.7777777777777778,\"#fb9f3a\"],[0.8888888888888888,\"#fdca26\"],[1.0,\"#f0f921\"]],\"diverging\":[[0,\"#8e0152\"],[0.1,\"#c51b7d\"],[0.2,\"#de77ae\"],[0.3,\"#f1b6da\"],[0.4,\"#fde0ef\"],[0.5,\"#f7f7f7\"],[0.6,\"#e6f5d0\"],[0.7,\"#b8e186\"],[0.8,\"#7fbc41\"],[0.9,\"#4d9221\"],[1,\"#276419\"]]},\"xaxis\":{\"gridcolor\":\"white\",\"linecolor\":\"white\",\"ticks\":\"\",\"title\":{\"standoff\":15},\"zerolinecolor\":\"white\",\"automargin\":true,\"zerolinewidth\":2},\"yaxis\":{\"gridcolor\":\"white\",\"linecolor\":\"white\",\"ticks\":\"\",\"title\":{\"standoff\":15},\"zerolinecolor\":\"white\",\"automargin\":true,\"zerolinewidth\":2},\"scene\":{\"xaxis\":{\"backgroundcolor\":\"#E5ECF6\",\"gridcolor\":\"white\",\"linecolor\":\"white\",\"showbackground\":true,\"ticks\":\"\",\"zerolinecolor\":\"white\",\"gridwidth\":2},\"yaxis\":{\"backgroundcolor\":\"#E5ECF6\",\"gridcolor\":\"white\",\"linecolor\":\"white\",\"showbackground\":true,\"ticks\":\"\",\"zerolinecolor\":\"white\",\"gridwidth\":2},\"zaxis\":{\"backgroundcolor\":\"#E5ECF6\",\"gridcolor\":\"white\",\"linecolor\":\"white\",\"showbackground\":true,\"ticks\":\"\",\"zerolinecolor\":\"white\",\"gridwidth\":2}},\"shapedefaults\":{\"line\":{\"color\":\"#2a3f5f\"}},\"annotationdefaults\":{\"arrowcolor\":\"#2a3f5f\",\"arrowhead\":0,\"arrowwidth\":1},\"geo\":{\"bgcolor\":\"white\",\"landcolor\":\"#E5ECF6\",\"subunitcolor\":\"white\",\"showland\":true,\"showlakes\":true,\"lakecolor\":\"white\"},\"title\":{\"x\":0.05},\"mapbox\":{\"style\":\"light\"}}},\"xaxis\":{\"anchor\":\"y\",\"domain\":[0.0,1.0],\"title\":{\"text\":\"UMAP1\"}},\"yaxis\":{\"anchor\":\"x\",\"domain\":[0.0,1.0],\"title\":{\"text\":\"UMAP2\"}},\"legend\":{\"title\":{\"text\":\"Topic\"},\"tracegroupgap\":0},\"title\":{\"text\":\"UMAP Visualization of Stories\"}},                        {\"responsive\": true}                    ).then(function(){\n",
       "                            \n",
       "var gd = document.getElementById('9ece2825-10fa-4553-8480-0c7d04b7bbb0');\n",
       "var x = new MutationObserver(function (mutations, observer) {{\n",
       "        var display = window.getComputedStyle(gd).display;\n",
       "        if (!display || display === 'none') {{\n",
       "            console.log([gd, 'removed!']);\n",
       "            Plotly.purge(gd);\n",
       "            observer.disconnect();\n",
       "        }}\n",
       "}});\n",
       "\n",
       "// Listen for the removal of the full notebook cells\n",
       "var notebookContainer = gd.closest('#notebook-container');\n",
       "if (notebookContainer) {{\n",
       "    x.observe(notebookContainer, {childList: true});\n",
       "}}\n",
       "\n",
       "// Listen for the clearing of the current output cell\n",
       "var outputEl = gd.closest('.output');\n",
       "if (outputEl) {{\n",
       "    x.observe(outputEl, {childList: true});\n",
       "}}\n",
       "\n",
       "                        })                };                });            </script>        </div>"
      ]
     },
     "metadata": {},
     "output_type": "display_data"
    }
   ],
   "source": [
    "# Add the 2D embeddings to the DataFrame\n",
    "    if n_components == 2:\n",
    "        df['UMAP1'] = embedding_2d[:, 0]\n",
    "        df['UMAP2'] = embedding_2d[:, 1]\n",
    "\n",
    "        # Prepare hover text\n",
    "        df['hover_text'] = df['Summary']\n",
    "\n",
    "        # Plot using Plotly\n",
    "        fig = px.scatter(\n",
    "            df,\n",
    "            x='UMAP1',\n",
    "            y='UMAP2',\n",
    "            color='Topic',  # Use color based on Topic\n",
    "            hover_name='hover_text',  # Use custom hover text\n",
    "            title='UMAP Visualization of Stories'\n",
    "        )\n",
    "    else:\n",
    "        cols = [f'UMAP{i+1}' for i in range(n_components)]\n",
    "        embed_df = pd.DataFrame(embedding, columns=cols)\n",
    "        embed_df['species_name'] = [target_names[i] for i in target]\n",
    "        \n",
    "        plt.figure(figsize=(10, 8))\n",
    "        sns.pairplot(\n",
    "            embed_df,\n",
    "            hue='species_name',\n",
    "            palette=sns.color_palette(\"hsv\", 3),\n",
    "            diag_kind='kde',\n",
    "            plot_kws={'s': 100}\n",
    "        )\n",
    "        plt.suptitle(f'UMAP projection of Iris dataset (n_components={n_components})', y=1.02)\n",
    "        plt.show()\n",
    "\n",
    "# Plot with different values of n_components\n",
    "for n in [2, 3, 4]:\n",
    "    plot_umap_n_components(n_components=n)\n",
    "\n",
    "fig.show()"
   ]
  }
 ],
 "metadata": {
  "kernelspec": {
   "display_name": "soxm",
   "language": "python",
   "name": "python3"
  },
  "language_info": {
   "codemirror_mode": {
    "name": "ipython",
    "version": 3
   },
   "file_extension": ".py",
   "mimetype": "text/x-python",
   "name": "python",
   "nbconvert_exporter": "python",
   "pygments_lexer": "ipython3",
   "version": "3.9.19"
  }
 },
 "nbformat": 4,
 "nbformat_minor": 2
}
