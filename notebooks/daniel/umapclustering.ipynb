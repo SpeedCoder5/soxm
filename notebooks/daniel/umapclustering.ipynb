{
 "cells": [
  {
   "cell_type": "code",
   "execution_count": 19,
   "metadata": {},
   "outputs": [],
   "source": [
    "params1 = {\n",
    "    'user': 'aaron',\n",
    "    'model': 'gpt-3.5-turbo',\n",
    "    'stories_count': 4,\n",
    "    'topics': ['history','nfl','showerthoughts','politics','bodyweightfitness','PoliticalDiscussion','LeBron James'], \n",
    "    'cluster_count': 7,\n",
    "    'file_id':'17dDeqfiU6PjQyhooO7Mp1cqAqCIv7Euc', # Replace with your actual file ID\n",
    "    'n_components': 5, # UMAP setting\n",
    "    'n_neighbors': 3, # UMAP setting\n",
    "    'min_dist': 0.001, # UMAP setting\n",
    "}\n",
    "\n",
    "params2 = {\n",
    "    'user': 'aaron',\n",
    "    'model': 'gpt-3.5-turbo',\n",
    "    'stories_count': 4,\n",
    "    'topics': ['history','nfl','showerthoughts','politics','bodyweightfitness','PoliticalDiscussion','LeBron James'], \n",
    "    'cluster_count': 7,\n",
    "    'file_id':'17dDeqfiU6PjQyhooO7Mp1cqAqCIv7Euc', # Replace with your actual file ID\n",
    "    'n_components': 2, # UMAP setting\n",
    "    'n_neighbors': 3, # UMAP setting\n",
    "    'min_dist': 0.001, # UMAP setting\n",
    "}\n",
    "\n",
    "import io  # Importing the io module to enable in-memory file operations\n",
    "import json\n",
    "import pandas as pd\n",
    "from dotenv import dotenv_values\n",
    "import openai\n",
    "from openai import OpenAI\n",
    "from googleapiclient.http import MediaIoBaseUpload  # Importing the correct module for in-memory uploads\n",
    "from googleapiclient.discovery import build\n",
    "from oauth2client.service_account import ServiceAccountCredentials\n",
    "import logging\n",
    "from soxm.Paths import Paths\n",
    "from google.auth.transport.requests import Request\n",
    "from google.oauth2.service_account import Credentials\n",
    "from googleapiclient.discovery import build\n",
    "from googleapiclient.http import MediaIoBaseDownload\n",
    "import umap\n",
    "import plotly.express as px\n",
    "from sklearn.neighbors import NearestNeighbors\n",
    "from sklearn.decomposition import PCA\n",
    "from sklearn.cluster import KMeans\n",
    "import numpy as np\n",
    "import re"
   ]
  },
  {
   "cell_type": "code",
   "execution_count": 20,
   "metadata": {},
   "outputs": [
    {
     "name": "stderr",
     "output_type": "stream",
     "text": [
      "INFO:__main__:Authenticating with Google API using service account...\n",
      "INFO:googleapiclient.discovery_cache:file_cache is only supported with oauth2client<4.0.0\n"
     ]
    },
    {
     "name": "stderr",
     "output_type": "stream",
     "text": [
      "INFO:__main__:Download 100% complete.\n",
      "INFO:httpx:HTTP Request: POST https://api.openai.com/v1/embeddings \"HTTP/1.1 200 OK\"\n",
      "INFO:httpx:HTTP Request: POST https://api.openai.com/v1/embeddings \"HTTP/1.1 200 OK\"\n",
      "INFO:httpx:HTTP Request: POST https://api.openai.com/v1/embeddings \"HTTP/1.1 200 OK\"\n",
      "INFO:httpx:HTTP Request: POST https://api.openai.com/v1/embeddings \"HTTP/1.1 200 OK\"\n",
      "INFO:httpx:HTTP Request: POST https://api.openai.com/v1/embeddings \"HTTP/1.1 200 OK\"\n",
      "INFO:httpx:HTTP Request: POST https://api.openai.com/v1/embeddings \"HTTP/1.1 200 OK\"\n",
      "INFO:httpx:HTTP Request: POST https://api.openai.com/v1/embeddings \"HTTP/1.1 200 OK\"\n",
      "INFO:httpx:HTTP Request: POST https://api.openai.com/v1/embeddings \"HTTP/1.1 200 OK\"\n",
      "INFO:httpx:HTTP Request: POST https://api.openai.com/v1/embeddings \"HTTP/1.1 200 OK\"\n",
      "INFO:httpx:HTTP Request: POST https://api.openai.com/v1/embeddings \"HTTP/1.1 200 OK\"\n",
      "INFO:httpx:HTTP Request: POST https://api.openai.com/v1/embeddings \"HTTP/1.1 200 OK\"\n",
      "INFO:httpx:HTTP Request: POST https://api.openai.com/v1/embeddings \"HTTP/1.1 200 OK\"\n",
      "INFO:httpx:HTTP Request: POST https://api.openai.com/v1/embeddings \"HTTP/1.1 200 OK\"\n",
      "INFO:httpx:HTTP Request: POST https://api.openai.com/v1/embeddings \"HTTP/1.1 200 OK\"\n",
      "INFO:httpx:HTTP Request: POST https://api.openai.com/v1/embeddings \"HTTP/1.1 200 OK\"\n",
      "INFO:httpx:HTTP Request: POST https://api.openai.com/v1/embeddings \"HTTP/1.1 200 OK\"\n",
      "INFO:httpx:HTTP Request: POST https://api.openai.com/v1/embeddings \"HTTP/1.1 200 OK\"\n",
      "INFO:httpx:HTTP Request: POST https://api.openai.com/v1/embeddings \"HTTP/1.1 200 OK\"\n",
      "INFO:httpx:HTTP Request: POST https://api.openai.com/v1/embeddings \"HTTP/1.1 200 OK\"\n",
      "INFO:httpx:HTTP Request: POST https://api.openai.com/v1/embeddings \"HTTP/1.1 200 OK\"\n",
      "INFO:httpx:HTTP Request: POST https://api.openai.com/v1/embeddings \"HTTP/1.1 200 OK\"\n",
      "INFO:httpx:HTTP Request: POST https://api.openai.com/v1/embeddings \"HTTP/1.1 200 OK\"\n",
      "INFO:httpx:HTTP Request: POST https://api.openai.com/v1/embeddings \"HTTP/1.1 200 OK\"\n",
      "INFO:httpx:HTTP Request: POST https://api.openai.com/v1/embeddings \"HTTP/1.1 200 OK\"\n",
      "INFO:httpx:HTTP Request: POST https://api.openai.com/v1/embeddings \"HTTP/1.1 200 OK\"\n",
      "INFO:httpx:HTTP Request: POST https://api.openai.com/v1/embeddings \"HTTP/1.1 200 OK\"\n",
      "INFO:httpx:HTTP Request: POST https://api.openai.com/v1/embeddings \"HTTP/1.1 200 OK\"\n",
      "INFO:httpx:HTTP Request: POST https://api.openai.com/v1/embeddings \"HTTP/1.1 200 OK\"\n",
      "INFO:httpx:HTTP Request: POST https://api.openai.com/v1/embeddings \"HTTP/1.1 200 OK\"\n",
      "INFO:httpx:HTTP Request: POST https://api.openai.com/v1/embeddings \"HTTP/1.1 200 OK\"\n",
      "INFO:httpx:HTTP Request: POST https://api.openai.com/v1/embeddings \"HTTP/1.1 200 OK\"\n",
      "INFO:httpx:HTTP Request: POST https://api.openai.com/v1/embeddings \"HTTP/1.1 200 OK\"\n",
      "INFO:httpx:HTTP Request: POST https://api.openai.com/v1/embeddings \"HTTP/1.1 200 OK\"\n",
      "INFO:httpx:HTTP Request: POST https://api.openai.com/v1/embeddings \"HTTP/1.1 200 OK\"\n",
      "INFO:httpx:HTTP Request: POST https://api.openai.com/v1/embeddings \"HTTP/1.1 200 OK\"\n",
      "INFO:httpx:HTTP Request: POST https://api.openai.com/v1/embeddings \"HTTP/1.1 200 OK\"\n",
      "INFO:httpx:HTTP Request: POST https://api.openai.com/v1/embeddings \"HTTP/1.1 200 OK\"\n",
      "INFO:httpx:HTTP Request: POST https://api.openai.com/v1/embeddings \"HTTP/1.1 200 OK\"\n",
      "INFO:httpx:HTTP Request: POST https://api.openai.com/v1/embeddings \"HTTP/1.1 200 OK\"\n",
      "INFO:httpx:HTTP Request: POST https://api.openai.com/v1/embeddings \"HTTP/1.1 200 OK\"\n",
      "INFO:httpx:HTTP Request: POST https://api.openai.com/v1/embeddings \"HTTP/1.1 200 OK\"\n",
      "INFO:httpx:HTTP Request: POST https://api.openai.com/v1/embeddings \"HTTP/1.1 200 OK\"\n",
      "INFO:httpx:HTTP Request: POST https://api.openai.com/v1/embeddings \"HTTP/1.1 200 OK\"\n",
      "INFO:httpx:HTTP Request: POST https://api.openai.com/v1/embeddings \"HTTP/1.1 200 OK\"\n",
      "INFO:httpx:HTTP Request: POST https://api.openai.com/v1/embeddings \"HTTP/1.1 200 OK\"\n",
      "INFO:httpx:HTTP Request: POST https://api.openai.com/v1/embeddings \"HTTP/1.1 200 OK\"\n",
      "INFO:httpx:HTTP Request: POST https://api.openai.com/v1/embeddings \"HTTP/1.1 200 OK\"\n",
      "INFO:httpx:HTTP Request: POST https://api.openai.com/v1/embeddings \"HTTP/1.1 200 OK\"\n",
      "INFO:httpx:HTTP Request: POST https://api.openai.com/v1/embeddings \"HTTP/1.1 200 OK\"\n",
      "INFO:httpx:HTTP Request: POST https://api.openai.com/v1/embeddings \"HTTP/1.1 200 OK\"\n",
      "INFO:httpx:HTTP Request: POST https://api.openai.com/v1/embeddings \"HTTP/1.1 200 OK\"\n",
      "INFO:httpx:HTTP Request: POST https://api.openai.com/v1/embeddings \"HTTP/1.1 200 OK\"\n",
      "INFO:httpx:HTTP Request: POST https://api.openai.com/v1/embeddings \"HTTP/1.1 200 OK\"\n",
      "INFO:httpx:HTTP Request: POST https://api.openai.com/v1/embeddings \"HTTP/1.1 200 OK\"\n",
      "INFO:httpx:HTTP Request: POST https://api.openai.com/v1/embeddings \"HTTP/1.1 200 OK\"\n",
      "INFO:httpx:HTTP Request: POST https://api.openai.com/v1/embeddings \"HTTP/1.1 200 OK\"\n",
      "INFO:httpx:HTTP Request: POST https://api.openai.com/v1/embeddings \"HTTP/1.1 200 OK\"\n",
      "INFO:httpx:HTTP Request: POST https://api.openai.com/v1/embeddings \"HTTP/1.1 200 OK\"\n",
      "INFO:httpx:HTTP Request: POST https://api.openai.com/v1/embeddings \"HTTP/1.1 200 OK\"\n",
      "INFO:httpx:HTTP Request: POST https://api.openai.com/v1/embeddings \"HTTP/1.1 200 OK\"\n",
      "INFO:httpx:HTTP Request: POST https://api.openai.com/v1/embeddings \"HTTP/1.1 200 OK\"\n",
      "INFO:httpx:HTTP Request: POST https://api.openai.com/v1/embeddings \"HTTP/1.1 200 OK\"\n",
      "INFO:httpx:HTTP Request: POST https://api.openai.com/v1/embeddings \"HTTP/1.1 200 OK\"\n",
      "INFO:httpx:HTTP Request: POST https://api.openai.com/v1/embeddings \"HTTP/1.1 200 OK\"\n",
      "INFO:httpx:HTTP Request: POST https://api.openai.com/v1/embeddings \"HTTP/1.1 200 OK\"\n",
      "INFO:httpx:HTTP Request: POST https://api.openai.com/v1/embeddings \"HTTP/1.1 200 OK\"\n",
      "INFO:httpx:HTTP Request: POST https://api.openai.com/v1/embeddings \"HTTP/1.1 200 OK\"\n",
      "INFO:httpx:HTTP Request: POST https://api.openai.com/v1/embeddings \"HTTP/1.1 200 OK\"\n",
      "INFO:httpx:HTTP Request: POST https://api.openai.com/v1/embeddings \"HTTP/1.1 200 OK\"\n",
      "INFO:httpx:HTTP Request: POST https://api.openai.com/v1/embeddings \"HTTP/1.1 200 OK\"\n",
      "INFO:httpx:HTTP Request: POST https://api.openai.com/v1/embeddings \"HTTP/1.1 200 OK\"\n",
      "INFO:httpx:HTTP Request: POST https://api.openai.com/v1/embeddings \"HTTP/1.1 200 OK\"\n",
      "INFO:httpx:HTTP Request: POST https://api.openai.com/v1/embeddings \"HTTP/1.1 200 OK\"\n",
      "INFO:httpx:HTTP Request: POST https://api.openai.com/v1/embeddings \"HTTP/1.1 200 OK\"\n",
      "INFO:httpx:HTTP Request: POST https://api.openai.com/v1/embeddings \"HTTP/1.1 200 OK\"\n",
      "INFO:httpx:HTTP Request: POST https://api.openai.com/v1/embeddings \"HTTP/1.1 200 OK\"\n",
      "INFO:httpx:HTTP Request: POST https://api.openai.com/v1/embeddings \"HTTP/1.1 200 OK\"\n",
      "INFO:httpx:HTTP Request: POST https://api.openai.com/v1/embeddings \"HTTP/1.1 200 OK\"\n",
      "INFO:httpx:HTTP Request: POST https://api.openai.com/v1/embeddings \"HTTP/1.1 200 OK\"\n",
      "INFO:httpx:HTTP Request: POST https://api.openai.com/v1/embeddings \"HTTP/1.1 200 OK\"\n",
      "INFO:httpx:HTTP Request: POST https://api.openai.com/v1/embeddings \"HTTP/1.1 200 OK\"\n",
      "INFO:httpx:HTTP Request: POST https://api.openai.com/v1/embeddings \"HTTP/1.1 200 OK\"\n",
      "INFO:httpx:HTTP Request: POST https://api.openai.com/v1/embeddings \"HTTP/1.1 200 OK\"\n",
      "INFO:httpx:HTTP Request: POST https://api.openai.com/v1/embeddings \"HTTP/1.1 200 OK\"\n",
      "INFO:httpx:HTTP Request: POST https://api.openai.com/v1/embeddings \"HTTP/1.1 200 OK\"\n",
      "INFO:httpx:HTTP Request: POST https://api.openai.com/v1/embeddings \"HTTP/1.1 200 OK\"\n",
      "INFO:httpx:HTTP Request: POST https://api.openai.com/v1/embeddings \"HTTP/1.1 200 OK\"\n",
      "INFO:httpx:HTTP Request: POST https://api.openai.com/v1/embeddings \"HTTP/1.1 200 OK\"\n",
      "INFO:httpx:HTTP Request: POST https://api.openai.com/v1/embeddings \"HTTP/1.1 200 OK\"\n",
      "INFO:httpx:HTTP Request: POST https://api.openai.com/v1/embeddings \"HTTP/1.1 200 OK\"\n",
      "INFO:httpx:HTTP Request: POST https://api.openai.com/v1/embeddings \"HTTP/1.1 200 OK\"\n",
      "INFO:httpx:HTTP Request: POST https://api.openai.com/v1/embeddings \"HTTP/1.1 200 OK\"\n",
      "INFO:httpx:HTTP Request: POST https://api.openai.com/v1/embeddings \"HTTP/1.1 200 OK\"\n",
      "INFO:httpx:HTTP Request: POST https://api.openai.com/v1/embeddings \"HTTP/1.1 200 OK\"\n",
      "INFO:httpx:HTTP Request: POST https://api.openai.com/v1/embeddings \"HTTP/1.1 200 OK\"\n",
      "INFO:httpx:HTTP Request: POST https://api.openai.com/v1/embeddings \"HTTP/1.1 200 OK\"\n",
      "INFO:httpx:HTTP Request: POST https://api.openai.com/v1/embeddings \"HTTP/1.1 200 OK\"\n",
      "INFO:httpx:HTTP Request: POST https://api.openai.com/v1/embeddings \"HTTP/1.1 200 OK\"\n",
      "INFO:httpx:HTTP Request: POST https://api.openai.com/v1/embeddings \"HTTP/1.1 200 OK\"\n",
      "INFO:httpx:HTTP Request: POST https://api.openai.com/v1/embeddings \"HTTP/1.1 200 OK\"\n",
      "INFO:httpx:HTTP Request: POST https://api.openai.com/v1/embeddings \"HTTP/1.1 200 OK\"\n",
      "INFO:httpx:HTTP Request: POST https://api.openai.com/v1/embeddings \"HTTP/1.1 200 OK\"\n",
      "INFO:httpx:HTTP Request: POST https://api.openai.com/v1/embeddings \"HTTP/1.1 200 OK\"\n",
      "INFO:httpx:HTTP Request: POST https://api.openai.com/v1/embeddings \"HTTP/1.1 200 OK\"\n",
      "INFO:httpx:HTTP Request: POST https://api.openai.com/v1/embeddings \"HTTP/1.1 200 OK\"\n",
      "INFO:httpx:HTTP Request: POST https://api.openai.com/v1/embeddings \"HTTP/1.1 200 OK\"\n",
      "INFO:httpx:HTTP Request: POST https://api.openai.com/v1/embeddings \"HTTP/1.1 200 OK\"\n",
      "INFO:httpx:HTTP Request: POST https://api.openai.com/v1/embeddings \"HTTP/1.1 200 OK\"\n",
      "INFO:httpx:HTTP Request: POST https://api.openai.com/v1/embeddings \"HTTP/1.1 200 OK\"\n",
      "INFO:httpx:HTTP Request: POST https://api.openai.com/v1/embeddings \"HTTP/1.1 200 OK\"\n",
      "INFO:httpx:HTTP Request: POST https://api.openai.com/v1/embeddings \"HTTP/1.1 200 OK\"\n",
      "INFO:httpx:HTTP Request: POST https://api.openai.com/v1/embeddings \"HTTP/1.1 200 OK\"\n",
      "INFO:httpx:HTTP Request: POST https://api.openai.com/v1/embeddings \"HTTP/1.1 200 OK\"\n",
      "INFO:httpx:HTTP Request: POST https://api.openai.com/v1/embeddings \"HTTP/1.1 200 OK\"\n",
      "INFO:httpx:HTTP Request: POST https://api.openai.com/v1/embeddings \"HTTP/1.1 200 OK\"\n",
      "INFO:httpx:HTTP Request: POST https://api.openai.com/v1/embeddings \"HTTP/1.1 200 OK\"\n",
      "INFO:httpx:HTTP Request: POST https://api.openai.com/v1/embeddings \"HTTP/1.1 200 OK\"\n",
      "INFO:httpx:HTTP Request: POST https://api.openai.com/v1/embeddings \"HTTP/1.1 200 OK\"\n",
      "INFO:httpx:HTTP Request: POST https://api.openai.com/v1/embeddings \"HTTP/1.1 200 OK\"\n",
      "INFO:httpx:HTTP Request: POST https://api.openai.com/v1/embeddings \"HTTP/1.1 200 OK\"\n",
      "INFO:httpx:HTTP Request: POST https://api.openai.com/v1/embeddings \"HTTP/1.1 200 OK\"\n",
      "INFO:httpx:HTTP Request: POST https://api.openai.com/v1/embeddings \"HTTP/1.1 200 OK\"\n",
      "INFO:httpx:HTTP Request: POST https://api.openai.com/v1/embeddings \"HTTP/1.1 200 OK\"\n",
      "INFO:httpx:HTTP Request: POST https://api.openai.com/v1/embeddings \"HTTP/1.1 200 OK\"\n",
      "INFO:httpx:HTTP Request: POST https://api.openai.com/v1/embeddings \"HTTP/1.1 200 OK\"\n",
      "INFO:httpx:HTTP Request: POST https://api.openai.com/v1/embeddings \"HTTP/1.1 200 OK\"\n",
      "INFO:httpx:HTTP Request: POST https://api.openai.com/v1/embeddings \"HTTP/1.1 200 OK\"\n",
      "INFO:httpx:HTTP Request: POST https://api.openai.com/v1/embeddings \"HTTP/1.1 200 OK\"\n",
      "INFO:httpx:HTTP Request: POST https://api.openai.com/v1/embeddings \"HTTP/1.1 200 OK\"\n",
      "INFO:httpx:HTTP Request: POST https://api.openai.com/v1/embeddings \"HTTP/1.1 200 OK\"\n",
      "INFO:httpx:HTTP Request: POST https://api.openai.com/v1/embeddings \"HTTP/1.1 200 OK\"\n",
      "INFO:httpx:HTTP Request: POST https://api.openai.com/v1/embeddings \"HTTP/1.1 200 OK\"\n",
      "INFO:httpx:HTTP Request: POST https://api.openai.com/v1/embeddings \"HTTP/1.1 200 OK\"\n",
      "INFO:httpx:HTTP Request: POST https://api.openai.com/v1/embeddings \"HTTP/1.1 200 OK\"\n",
      "INFO:httpx:HTTP Request: POST https://api.openai.com/v1/embeddings \"HTTP/1.1 200 OK\"\n",
      "INFO:httpx:HTTP Request: POST https://api.openai.com/v1/embeddings \"HTTP/1.1 200 OK\"\n",
      "INFO:httpx:HTTP Request: POST https://api.openai.com/v1/embeddings \"HTTP/1.1 200 OK\"\n",
      "INFO:httpx:HTTP Request: POST https://api.openai.com/v1/embeddings \"HTTP/1.1 200 OK\"\n",
      "INFO:httpx:HTTP Request: POST https://api.openai.com/v1/embeddings \"HTTP/1.1 200 OK\"\n",
      "INFO:httpx:HTTP Request: POST https://api.openai.com/v1/embeddings \"HTTP/1.1 200 OK\"\n",
      "INFO:httpx:HTTP Request: POST https://api.openai.com/v1/embeddings \"HTTP/1.1 200 OK\"\n",
      "INFO:httpx:HTTP Request: POST https://api.openai.com/v1/embeddings \"HTTP/1.1 200 OK\"\n",
      "INFO:httpx:HTTP Request: POST https://api.openai.com/v1/embeddings \"HTTP/1.1 200 OK\"\n",
      "INFO:httpx:HTTP Request: POST https://api.openai.com/v1/embeddings \"HTTP/1.1 200 OK\"\n",
      "INFO:httpx:HTTP Request: POST https://api.openai.com/v1/embeddings \"HTTP/1.1 200 OK\"\n",
      "INFO:httpx:HTTP Request: POST https://api.openai.com/v1/embeddings \"HTTP/1.1 200 OK\"\n",
      "INFO:httpx:HTTP Request: POST https://api.openai.com/v1/embeddings \"HTTP/1.1 200 OK\"\n",
      "INFO:httpx:HTTP Request: POST https://api.openai.com/v1/embeddings \"HTTP/1.1 200 OK\"\n",
      "INFO:httpx:HTTP Request: POST https://api.openai.com/v1/embeddings \"HTTP/1.1 200 OK\"\n",
      "INFO:httpx:HTTP Request: POST https://api.openai.com/v1/embeddings \"HTTP/1.1 200 OK\"\n",
      "INFO:httpx:HTTP Request: POST https://api.openai.com/v1/embeddings \"HTTP/1.1 200 OK\"\n",
      "INFO:httpx:HTTP Request: POST https://api.openai.com/v1/embeddings \"HTTP/1.1 200 OK\"\n",
      "INFO:httpx:HTTP Request: POST https://api.openai.com/v1/embeddings \"HTTP/1.1 200 OK\"\n",
      "INFO:httpx:HTTP Request: POST https://api.openai.com/v1/embeddings \"HTTP/1.1 200 OK\"\n",
      "INFO:httpx:HTTP Request: POST https://api.openai.com/v1/embeddings \"HTTP/1.1 200 OK\"\n",
      "INFO:httpx:HTTP Request: POST https://api.openai.com/v1/embeddings \"HTTP/1.1 200 OK\"\n",
      "INFO:httpx:HTTP Request: POST https://api.openai.com/v1/embeddings \"HTTP/1.1 200 OK\"\n",
      "INFO:httpx:HTTP Request: POST https://api.openai.com/v1/embeddings \"HTTP/1.1 200 OK\"\n",
      "INFO:httpx:HTTP Request: POST https://api.openai.com/v1/embeddings \"HTTP/1.1 200 OK\"\n",
      "INFO:httpx:HTTP Request: POST https://api.openai.com/v1/embeddings \"HTTP/1.1 200 OK\"\n",
      "INFO:httpx:HTTP Request: POST https://api.openai.com/v1/embeddings \"HTTP/1.1 200 OK\"\n",
      "INFO:httpx:HTTP Request: POST https://api.openai.com/v1/embeddings \"HTTP/1.1 200 OK\"\n",
      "INFO:httpx:HTTP Request: POST https://api.openai.com/v1/embeddings \"HTTP/1.1 200 OK\"\n",
      "INFO:httpx:HTTP Request: POST https://api.openai.com/v1/embeddings \"HTTP/1.1 200 OK\"\n",
      "INFO:httpx:HTTP Request: POST https://api.openai.com/v1/embeddings \"HTTP/1.1 200 OK\"\n",
      "INFO:httpx:HTTP Request: POST https://api.openai.com/v1/embeddings \"HTTP/1.1 200 OK\"\n",
      "INFO:httpx:HTTP Request: POST https://api.openai.com/v1/embeddings \"HTTP/1.1 200 OK\"\n",
      "INFO:httpx:HTTP Request: POST https://api.openai.com/v1/embeddings \"HTTP/1.1 200 OK\"\n",
      "INFO:httpx:HTTP Request: POST https://api.openai.com/v1/embeddings \"HTTP/1.1 200 OK\"\n",
      "INFO:httpx:HTTP Request: POST https://api.openai.com/v1/embeddings \"HTTP/1.1 200 OK\"\n",
      "INFO:httpx:HTTP Request: POST https://api.openai.com/v1/embeddings \"HTTP/1.1 200 OK\"\n",
      "INFO:httpx:HTTP Request: POST https://api.openai.com/v1/embeddings \"HTTP/1.1 200 OK\"\n",
      "INFO:httpx:HTTP Request: POST https://api.openai.com/v1/embeddings \"HTTP/1.1 200 OK\"\n",
      "INFO:httpx:HTTP Request: POST https://api.openai.com/v1/embeddings \"HTTP/1.1 200 OK\"\n",
      "INFO:httpx:HTTP Request: POST https://api.openai.com/v1/embeddings \"HTTP/1.1 200 OK\"\n",
      "INFO:httpx:HTTP Request: POST https://api.openai.com/v1/embeddings \"HTTP/1.1 200 OK\"\n",
      "INFO:httpx:HTTP Request: POST https://api.openai.com/v1/embeddings \"HTTP/1.1 200 OK\"\n",
      "INFO:httpx:HTTP Request: POST https://api.openai.com/v1/embeddings \"HTTP/1.1 200 OK\"\n",
      "INFO:httpx:HTTP Request: POST https://api.openai.com/v1/embeddings \"HTTP/1.1 200 OK\"\n",
      "INFO:httpx:HTTP Request: POST https://api.openai.com/v1/embeddings \"HTTP/1.1 200 OK\"\n",
      "INFO:httpx:HTTP Request: POST https://api.openai.com/v1/embeddings \"HTTP/1.1 200 OK\"\n",
      "INFO:httpx:HTTP Request: POST https://api.openai.com/v1/embeddings \"HTTP/1.1 200 OK\"\n",
      "INFO:httpx:HTTP Request: POST https://api.openai.com/v1/embeddings \"HTTP/1.1 200 OK\"\n",
      "INFO:httpx:HTTP Request: POST https://api.openai.com/v1/embeddings \"HTTP/1.1 200 OK\"\n",
      "INFO:httpx:HTTP Request: POST https://api.openai.com/v1/embeddings \"HTTP/1.1 200 OK\"\n",
      "INFO:httpx:HTTP Request: POST https://api.openai.com/v1/embeddings \"HTTP/1.1 200 OK\"\n",
      "INFO:httpx:HTTP Request: POST https://api.openai.com/v1/embeddings \"HTTP/1.1 200 OK\"\n",
      "INFO:httpx:HTTP Request: POST https://api.openai.com/v1/embeddings \"HTTP/1.1 200 OK\"\n",
      "INFO:httpx:HTTP Request: POST https://api.openai.com/v1/embeddings \"HTTP/1.1 200 OK\"\n",
      "INFO:httpx:HTTP Request: POST https://api.openai.com/v1/embeddings \"HTTP/1.1 200 OK\"\n",
      "INFO:httpx:HTTP Request: POST https://api.openai.com/v1/embeddings \"HTTP/1.1 200 OK\"\n",
      "INFO:httpx:HTTP Request: POST https://api.openai.com/v1/embeddings \"HTTP/1.1 200 OK\"\n",
      "INFO:httpx:HTTP Request: POST https://api.openai.com/v1/embeddings \"HTTP/1.1 200 OK\"\n",
      "INFO:httpx:HTTP Request: POST https://api.openai.com/v1/embeddings \"HTTP/1.1 200 OK\"\n",
      "INFO:httpx:HTTP Request: POST https://api.openai.com/v1/embeddings \"HTTP/1.1 200 OK\"\n",
      "INFO:httpx:HTTP Request: POST https://api.openai.com/v1/embeddings \"HTTP/1.1 200 OK\"\n",
      "INFO:httpx:HTTP Request: POST https://api.openai.com/v1/embeddings \"HTTP/1.1 200 OK\"\n",
      "INFO:httpx:HTTP Request: POST https://api.openai.com/v1/embeddings \"HTTP/1.1 200 OK\"\n",
      "INFO:httpx:HTTP Request: POST https://api.openai.com/v1/embeddings \"HTTP/1.1 200 OK\"\n",
      "INFO:httpx:HTTP Request: POST https://api.openai.com/v1/embeddings \"HTTP/1.1 200 OK\"\n",
      "INFO:httpx:HTTP Request: POST https://api.openai.com/v1/embeddings \"HTTP/1.1 200 OK\"\n",
      "INFO:httpx:HTTP Request: POST https://api.openai.com/v1/embeddings \"HTTP/1.1 200 OK\"\n",
      "INFO:httpx:HTTP Request: POST https://api.openai.com/v1/embeddings \"HTTP/1.1 200 OK\"\n",
      "INFO:httpx:HTTP Request: POST https://api.openai.com/v1/embeddings \"HTTP/1.1 200 OK\"\n",
      "INFO:httpx:HTTP Request: POST https://api.openai.com/v1/embeddings \"HTTP/1.1 200 OK\"\n",
      "INFO:httpx:HTTP Request: POST https://api.openai.com/v1/embeddings \"HTTP/1.1 200 OK\"\n",
      "INFO:httpx:HTTP Request: POST https://api.openai.com/v1/embeddings \"HTTP/1.1 200 OK\"\n",
      "INFO:httpx:HTTP Request: POST https://api.openai.com/v1/embeddings \"HTTP/1.1 200 OK\"\n",
      "INFO:httpx:HTTP Request: POST https://api.openai.com/v1/embeddings \"HTTP/1.1 200 OK\"\n",
      "INFO:httpx:HTTP Request: POST https://api.openai.com/v1/embeddings \"HTTP/1.1 200 OK\"\n",
      "INFO:httpx:HTTP Request: POST https://api.openai.com/v1/embeddings \"HTTP/1.1 200 OK\"\n",
      "INFO:httpx:HTTP Request: POST https://api.openai.com/v1/embeddings \"HTTP/1.1 200 OK\"\n",
      "INFO:httpx:HTTP Request: POST https://api.openai.com/v1/embeddings \"HTTP/1.1 200 OK\"\n",
      "INFO:httpx:HTTP Request: POST https://api.openai.com/v1/embeddings \"HTTP/1.1 200 OK\"\n",
      "INFO:httpx:HTTP Request: POST https://api.openai.com/v1/embeddings \"HTTP/1.1 200 OK\"\n",
      "INFO:httpx:HTTP Request: POST https://api.openai.com/v1/embeddings \"HTTP/1.1 200 OK\"\n",
      "INFO:httpx:HTTP Request: POST https://api.openai.com/v1/embeddings \"HTTP/1.1 200 OK\"\n",
      "INFO:httpx:HTTP Request: POST https://api.openai.com/v1/embeddings \"HTTP/1.1 200 OK\"\n",
      "INFO:httpx:HTTP Request: POST https://api.openai.com/v1/embeddings \"HTTP/1.1 200 OK\"\n",
      "INFO:httpx:HTTP Request: POST https://api.openai.com/v1/embeddings \"HTTP/1.1 200 OK\"\n",
      "INFO:httpx:HTTP Request: POST https://api.openai.com/v1/embeddings \"HTTP/1.1 200 OK\"\n",
      "INFO:httpx:HTTP Request: POST https://api.openai.com/v1/embeddings \"HTTP/1.1 200 OK\"\n",
      "INFO:httpx:HTTP Request: POST https://api.openai.com/v1/embeddings \"HTTP/1.1 200 OK\"\n",
      "INFO:httpx:HTTP Request: POST https://api.openai.com/v1/embeddings \"HTTP/1.1 200 OK\"\n",
      "INFO:httpx:HTTP Request: POST https://api.openai.com/v1/embeddings \"HTTP/1.1 200 OK\"\n",
      "INFO:httpx:HTTP Request: POST https://api.openai.com/v1/embeddings \"HTTP/1.1 200 OK\"\n",
      "INFO:httpx:HTTP Request: POST https://api.openai.com/v1/embeddings \"HTTP/1.1 200 OK\"\n",
      "INFO:httpx:HTTP Request: POST https://api.openai.com/v1/embeddings \"HTTP/1.1 200 OK\"\n",
      "INFO:httpx:HTTP Request: POST https://api.openai.com/v1/embeddings \"HTTP/1.1 200 OK\"\n",
      "INFO:httpx:HTTP Request: POST https://api.openai.com/v1/embeddings \"HTTP/1.1 200 OK\"\n",
      "INFO:httpx:HTTP Request: POST https://api.openai.com/v1/embeddings \"HTTP/1.1 200 OK\"\n",
      "INFO:httpx:HTTP Request: POST https://api.openai.com/v1/embeddings \"HTTP/1.1 200 OK\"\n",
      "INFO:httpx:HTTP Request: POST https://api.openai.com/v1/embeddings \"HTTP/1.1 200 OK\"\n",
      "INFO:httpx:HTTP Request: POST https://api.openai.com/v1/embeddings \"HTTP/1.1 200 OK\"\n",
      "INFO:httpx:HTTP Request: POST https://api.openai.com/v1/embeddings \"HTTP/1.1 200 OK\"\n",
      "INFO:httpx:HTTP Request: POST https://api.openai.com/v1/embeddings \"HTTP/1.1 200 OK\"\n",
      "INFO:httpx:HTTP Request: POST https://api.openai.com/v1/embeddings \"HTTP/1.1 200 OK\"\n",
      "INFO:httpx:HTTP Request: POST https://api.openai.com/v1/embeddings \"HTTP/1.1 200 OK\"\n",
      "INFO:httpx:HTTP Request: POST https://api.openai.com/v1/embeddings \"HTTP/1.1 200 OK\"\n",
      "INFO:httpx:HTTP Request: POST https://api.openai.com/v1/embeddings \"HTTP/1.1 200 OK\"\n",
      "INFO:httpx:HTTP Request: POST https://api.openai.com/v1/embeddings \"HTTP/1.1 200 OK\"\n",
      "INFO:httpx:HTTP Request: POST https://api.openai.com/v1/embeddings \"HTTP/1.1 200 OK\"\n",
      "INFO:httpx:HTTP Request: POST https://api.openai.com/v1/embeddings \"HTTP/1.1 200 OK\"\n",
      "INFO:httpx:HTTP Request: POST https://api.openai.com/v1/embeddings \"HTTP/1.1 200 OK\"\n",
      "INFO:httpx:HTTP Request: POST https://api.openai.com/v1/embeddings \"HTTP/1.1 200 OK\"\n",
      "INFO:httpx:HTTP Request: POST https://api.openai.com/v1/embeddings \"HTTP/1.1 200 OK\"\n",
      "INFO:httpx:HTTP Request: POST https://api.openai.com/v1/embeddings \"HTTP/1.1 200 OK\"\n",
      "INFO:httpx:HTTP Request: POST https://api.openai.com/v1/embeddings \"HTTP/1.1 200 OK\"\n",
      "INFO:httpx:HTTP Request: POST https://api.openai.com/v1/embeddings \"HTTP/1.1 200 OK\"\n",
      "INFO:httpx:HTTP Request: POST https://api.openai.com/v1/embeddings \"HTTP/1.1 200 OK\"\n",
      "INFO:httpx:HTTP Request: POST https://api.openai.com/v1/embeddings \"HTTP/1.1 200 OK\"\n",
      "INFO:httpx:HTTP Request: POST https://api.openai.com/v1/embeddings \"HTTP/1.1 200 OK\"\n",
      "INFO:httpx:HTTP Request: POST https://api.openai.com/v1/embeddings \"HTTP/1.1 200 OK\"\n",
      "INFO:httpx:HTTP Request: POST https://api.openai.com/v1/embeddings \"HTTP/1.1 200 OK\"\n"
     ]
    },
    {
     "name": "stdout",
     "output_type": "stream",
     "text": [
      "[[ 6.230159   7.111521   3.192165   4.9919605  2.5258558]\n",
      " [ 6.1701355  7.162354   3.1244786  4.953656   2.4719324]\n",
      " [-6.354388   2.6999826  7.4233823  4.285742   2.2267137]\n",
      " ...\n",
      " [ 5.2062593  1.8397026  1.8132782  7.3331776  5.275052 ]\n",
      " [ 6.439744   3.7321978  2.541556   6.188876   3.5070672]\n",
      " [ 6.634428   4.7619314  2.2152588  5.7909856  3.5341177]]\n",
      "(254, 5)\n"
     ]
    },
    {
     "name": "stderr",
     "output_type": "stream",
     "text": [
      "INFO:httpx:HTTP Request: POST https://api.openai.com/v1/chat/completions \"HTTP/1.1 200 OK\"\n",
      "INFO:httpx:HTTP Request: POST https://api.openai.com/v1/chat/completions \"HTTP/1.1 200 OK\"\n",
      "INFO:httpx:HTTP Request: POST https://api.openai.com/v1/chat/completions \"HTTP/1.1 200 OK\"\n",
      "INFO:httpx:HTTP Request: POST https://api.openai.com/v1/chat/completions \"HTTP/1.1 200 OK\"\n",
      "INFO:httpx:HTTP Request: POST https://api.openai.com/v1/chat/completions \"HTTP/1.1 200 OK\"\n",
      "INFO:httpx:HTTP Request: POST https://api.openai.com/v1/chat/completions \"HTTP/1.1 200 OK\"\n",
      "INFO:httpx:HTTP Request: POST https://api.openai.com/v1/chat/completions \"HTTP/1.1 200 OK\"\n"
     ]
    },
    {
     "name": "stdout",
     "output_type": "stream",
     "text": [
      "             Model                Topic  \\\n",
      "0    gpt-3.5-turbo              history   \n",
      "1    gpt-3.5-turbo              history   \n",
      "2    gpt-3.5-turbo              history   \n",
      "3    gpt-3.5-turbo              history   \n",
      "4    gpt-3.5-turbo              history   \n",
      "..             ...                  ...   \n",
      "249  gpt-3.5-turbo  PoliticalDiscussion   \n",
      "250  gpt-3.5-turbo  PoliticalDiscussion   \n",
      "251  gpt-3.5-turbo  PoliticalDiscussion   \n",
      "252  gpt-3.5-turbo  PoliticalDiscussion   \n",
      "253  gpt-3.5-turbo  PoliticalDiscussion   \n",
      "\n",
      "                                                Prompt  \\\n",
      "0    Examine the following post and determine if it...   \n",
      "1    Examine the following post and determine if it...   \n",
      "2    Examine the following post and determine if it...   \n",
      "3    Examine the following post and determine if it...   \n",
      "4    Examine the following post and determine if it...   \n",
      "..                                                 ...   \n",
      "249  Examine the following post and determine if it...   \n",
      "250  Examine the following post and determine if it...   \n",
      "251  Examine the following post and determine if it...   \n",
      "252  Examine the following post and determine if it...   \n",
      "253  Examine the following post and determine if it...   \n",
      "\n",
      "                                              Response  \\\n",
      "0    _SAFE_ This post does not appear to be manipul...   \n",
      "1    _SAFE_ This post is not manipulative. It is pr...   \n",
      "2                                               _SAFE_   \n",
      "3                                               _SAFE_   \n",
      "4    _SAFE_\\n\\nThis post does not appear to be mani...   \n",
      "..                                                 ...   \n",
      "249  This post does not appear to be manipulative. ...   \n",
      "250  This post is _SAFE_. It is simply prompting a ...   \n",
      "251  This post could be considered manipulative as ...   \n",
      "252  This post is _SAFE_. It engages in a thought-p...   \n",
      "253  _NOT_MANIPULATIVE_\\n\\nThis post does not seem ...   \n",
      "\n",
      "                                             Embedding  cluster  \\\n",
      "0    [0.008761108852922916, -0.006837354972958565, ...        4   \n",
      "1    [-0.019158564507961273, -0.003942448645830154,...        4   \n",
      "2    [-0.00042764408863149583, -0.01996547915041446...        0   \n",
      "3    [-0.00042764408863149583, -0.01996547915041446...        0   \n",
      "4    [-0.014161338098347187, -0.003968026023358107,...        4   \n",
      "..                                                 ...      ...   \n",
      "249  [-0.030085312202572823, 0.007713502738624811, ...        6   \n",
      "250  [-0.011560733430087566, -0.009137666784226894,...        2   \n",
      "251  [-0.027121836319565773, 0.0003439333231654018,...        6   \n",
      "252  [-1.530151530459989e-05, -0.007352158892899752...        2   \n",
      "253  [-0.01634744554758072, 0.006481814663857222, -...        2   \n",
      "\n",
      "                                               Summary  \n",
      "0    _SAFE_ Post shares historical information with...  \n",
      "1    _SAFE_ Post shares historical information with...  \n",
      "2    SAFE: Repeated use to emphasize security and t...  \n",
      "3    SAFE: Repeated use to emphasize security and t...  \n",
      "4    _SAFE_ Post shares historical information with...  \n",
      "..                                                 ...  \n",
      "249  Post is potentially manipulative, uses sensati...  \n",
      "250  Safe: Encourages critical thinking, prompts di...  \n",
      "251  Post is potentially manipulative, uses sensati...  \n",
      "252  Safe: Encourages critical thinking, prompts di...  \n",
      "253  Safe: Encourages critical thinking, prompts di...  \n",
      "\n",
      "[254 rows x 7 columns]\n",
      "Embedding    [-0.019158564507961273, -0.003942448645830154,...\n",
      "Name: 1, dtype: object\n"
     ]
    }
   ],
   "source": [
    "# Configure logging\n",
    "logging.basicConfig(level=logging.INFO)\n",
    "logger = logging.getLogger(__name__)\n",
    "\n",
    "# Ensure the OpenAI API key exists\n",
    "config = dotenv_values()\n",
    "openai_api_key = config.get('OPENAI_API_KEY')\n",
    "if not openai_api_key:\n",
    "    raise ValueError(\"OpenAI API key not found in the environment variables.\")\n",
    "\n",
    "# Initialize OpenAI client\n",
    "client = OpenAI(\n",
    "    # This is the default and can be omitted\n",
    "    api_key=openai_api_key,\n",
    ")\n",
    "\n",
    "# Define a function to get a response from OpenAI API\n",
    "def get_openai_response(input_text, model):\n",
    "    chat_completion = client.chat.completions.create(\n",
    "        messages=[\n",
    "            {\n",
    "                \"role\": \"user\",\n",
    "                \"content\": input_text,\n",
    "            }\n",
    "        ],\n",
    "        model=model,\n",
    "    )\n",
    "    return chat_completion.choices[0].message.content.strip()\n",
    "\n",
    "# Define a function to get a story from OpenAI API\n",
    "# def get_openai_story(topic, model):\n",
    "#     prompt = f\"Tell me a story about {topic}.\"\n",
    "#     response = get_openai_response(prompt, model)\n",
    "#     return response, prompt\n",
    "\n",
    "\n",
    "#def extract_file_id_from_link(link):\n",
    "    #pattern = r\"https://drive\\.google\\.com/file/d/([^/]+)/\"\n",
    "    #match = re.search(pattern, link)\n",
    "    #if match:\n",
    "        #return match.group(1)\n",
    "    #return None\n",
    "\n",
    "# Extract the file ID from the webview link\n",
    "#extracted_file_id = extract_file_id_from_link(webview_link)\n",
    "# print(extracted_file_id)\n",
    "\n",
    "# Configure logging\n",
    "logging.basicConfig(level=logging.INFO)\n",
    "logger = logging.getLogger(__name__)\n",
    "\n",
    "# Ensure the OpenAI API key exists\n",
    "config = dotenv_values()\n",
    "openai_api_key = config.get('OPENAI_API_KEY')\n",
    "if not openai_api_key:\n",
    "    raise ValueError(\"OpenAI API key not found in the environment variables.\")\n",
    "\n",
    "# Initialize OpenAI client\n",
    "client = OpenAI(api_key=openai_api_key)\n",
    "\n",
    "# Function to get embeddings from OpenAI API\n",
    "def get_embeddings(text):\n",
    "    response = client.embeddings.create(input=text, model=\"text-embedding-ada-002\")\n",
    "    return response.data[0].embedding\n",
    "\n",
    "# Set up Google Drive API\n",
    "credentials_path = Paths.project('credentials.json') / 'credentials.json'\n",
    "if not credentials_path.exists():\n",
    "    raise ValueError(f\"No credentials found. {credentials_path} must exist.\")\n",
    "\n",
    "scope = [\"https://www.googleapis.com/auth/drive\"]\n",
    "\n",
    "logger.info('Authenticating with Google API using service account...')\n",
    "credentials = Credentials.from_service_account_file(credentials_path, scopes=scope)\n",
    "drive_service = build('drive', 'v3', credentials=credentials)\n",
    "\n",
    "# Your shared folder ID (replace with your actual folder ID)\n",
    "parent_folder_id = config.get('DATA_RAW_FOLDER_ID')\n",
    "if not parent_folder_id:\n",
    "    raise ValueError(\"Google Drive folder ID not found in the environment variables.\")\n",
    "\n",
    "# ID of the file to read (replace with your actual file ID)\n",
    "file_id = params1['file_id']  \n",
    "\n",
    "# Export the Google Sheet as a CSV file content from Google Drive\n",
    "# request = drive_service.files().export_media(fileId=file_id, mimeType='text/csv') # use export_media if reading a google sheet as csv\n",
    "request = drive_service.files().get_media(fileId=file_id) # use get_media to get a raw csv\n",
    "csv_content = io.BytesIO()\n",
    "downloader = MediaIoBaseDownload(csv_content, request)\n",
    "done = False\n",
    "while not done:\n",
    "    status, done = downloader.next_chunk()\n",
    "    logger.info(f\"Download {int(status.progress() * 100)}% complete.\")\n",
    "\n",
    "csv_content.seek(0)  # Move the cursor to the beginning of the in-memory file\n",
    "\n",
    "# Read the CSV file into a DataFrame\n",
    "df = pd.read_csv(csv_content)\n",
    "\n",
    "# Create a new DataFrame to store results\n",
    "results = []\n",
    "\n",
    "# Iterate through each row in the DataFrame and generate embeddings\n",
    "for index, row in df.iterrows():\n",
    "    story = row['GPT Response']\n",
    "    embedding = get_embeddings(story)\n",
    "    results.append({\n",
    "        \"Model\": row['ChatGPT Version'],\n",
    "        \"Topic\": row['Subreddit'],\n",
    "        \"Prompt\": row['Prompt'],\n",
    "        \"Response\": story,\n",
    "        \"Embedding\": embedding\n",
    "    })\n",
    "\n",
    "# Convert the results to a DataFrame\n",
    "df = pd.DataFrame(results)\n",
    "\n",
    "# Display the results DataFrame\n",
    "# print(df.head())\n",
    "\n",
    "embedding_list = df['Embedding'].tolist()  # Directly use the 'Embedding' column as a list\n",
    "\n",
    "\n",
    "def plot_umap_n_components(n_components):\n",
    "    umap_model = umap.UMAP(n_components=n_components, random_state=42)\n",
    "    embedding_5d = reducer.fit_transform(embedding_list)\n",
    "\n",
    "umap_model = umap.UMAP(n_components=params1['n_components'], n_neighbors=params1['n_neighbors'], min_dist=params1['min_dist'])\n",
    "embedding_5d = umap_model.fit_transform(embedding_list)\n",
    "print(embedding_5d)\n",
    "print(embedding_5d.shape)\n",
    "\n",
    "kmeans = KMeans(n_clusters=params1['cluster_count'], random_state=42)\n",
    "df['cluster'] = kmeans.fit_predict(embedding_5d)\n",
    "\n",
    "# print(params['cluster_count'])\n",
    "for x in range(params1['cluster_count']):\n",
    "    cluster = df[df['cluster'] == x]\n",
    "    # print(cluster)\n",
    "    # print(cluster['Response'])\n",
    "    responses = ' '.join(cluster['Response'])\n",
    "    # print(responses)\n",
    "    prompt = responses + \" Please summarize why the above text is safe or manipulative (one or the other). 10 words or less.\"\n",
    "    # print(prompt)\n",
    "    topic = get_openai_response(prompt, params1['model'])\n",
    "    # print(topic)\n",
    "    df.loc[df['cluster'] == x,'Summary'] = topic\n",
    "print(df)\n",
    "print(df.loc[1,['Embedding']])"
   ]
  },
  {
   "cell_type": "code",
   "execution_count": 21,
   "metadata": {},
   "outputs": [
    {
     "name": "stdout",
     "output_type": "stream",
     "text": [
      "[[  5.9623647    9.39768   ]\n",
      " [  5.8618226    9.5009365 ]\n",
      " [ -9.773815     4.721045  ]\n",
      " [-10.093233     4.881376  ]\n",
      " [  5.5296183    9.745732  ]\n",
      " [  5.592856     9.776307  ]\n",
      " [  5.984561     6.483159  ]\n",
      " [  5.561474     9.755524  ]\n",
      " [  5.8120937    9.540789  ]\n",
      " [ -9.743269     5.0958185 ]\n",
      " [  5.879705     7.1589007 ]\n",
      " [  5.532889     9.747212  ]\n",
      " [ -9.778428     4.903075  ]\n",
      " [  4.596989     9.813193  ]\n",
      " [ -9.725125     4.971296  ]\n",
      " [  5.6065884   12.256706  ]\n",
      " [  5.4761415    6.51041   ]\n",
      " [  5.875533    11.638716  ]\n",
      " [  6.470314     0.42528608]\n",
      " [ -9.61599      4.3877344 ]\n",
      " [ -9.704159     4.726219  ]\n",
      " [  5.7688575   13.786853  ]\n",
      " [  5.6264877   12.177438  ]\n",
      " [  5.6438456   13.814391  ]\n",
      " [  5.62121     13.897006  ]\n",
      " [  5.816125    11.70264   ]\n",
      " [  5.6206946   13.888053  ]\n",
      " [ -9.986273     5.085054  ]\n",
      " [ -9.851802     4.9733324 ]\n",
      " [  5.903937    11.616731  ]\n",
      " [  5.786208     6.635331  ]\n",
      " [  5.66978     12.514717  ]\n",
      " [  5.8914776    7.001135  ]\n",
      " [ -9.686389     4.897773  ]\n",
      " [  5.645135    13.718335  ]\n",
      " [ 15.016327     5.5259175 ]\n",
      " [  5.525349    11.593466  ]\n",
      " [  5.959397     7.192645  ]\n",
      " [  5.873165     6.551534  ]\n",
      " [  5.489391    13.233192  ]\n",
      " [  5.493068    13.294853  ]\n",
      " [ -9.481006     5.0706987 ]\n",
      " [  5.6723847   13.832188  ]\n",
      " [  5.680723    12.512902  ]\n",
      " [ -9.869303     4.605633  ]\n",
      " [ -9.910969     5.209645  ]\n",
      " [  5.546467    12.346749  ]\n",
      " [  5.4735236   11.581576  ]\n",
      " [  5.655065    12.044835  ]\n",
      " [  5.5846562   11.830275  ]\n",
      " [  5.634832    12.21064   ]\n",
      " [  5.711021    13.785333  ]\n",
      " [  5.5714097   11.799651  ]\n",
      " [ -9.685643     4.7425    ]\n",
      " [ -9.914057     4.31485   ]\n",
      " [  5.1006603    9.911073  ]\n",
      " [ -9.965912     4.494112  ]\n",
      " [  5.6624165   11.949437  ]\n",
      " [  5.6173296   13.89447   ]\n",
      " [ -9.555218     4.5781364 ]\n",
      " [  5.606576    11.930742  ]\n",
      " [  5.6157436   12.242517  ]\n",
      " [  5.384586    11.356514  ]\n",
      " [  5.7441564   11.751157  ]\n",
      " [  5.3421664   10.820289  ]\n",
      " [ -9.402011     4.7883024 ]\n",
      " [  2.7590349    8.79138   ]\n",
      " [  2.7096407    8.917987  ]\n",
      " [ -9.867746     4.960733  ]\n",
      " [  3.1867342    9.213832  ]\n",
      " [  2.7147384    8.927223  ]\n",
      " [  5.9872828    6.347752  ]\n",
      " [  2.7085888    8.46954   ]\n",
      " [ -9.516913     4.5724564 ]\n",
      " [  3.0408237    9.074763  ]\n",
      " [  3.194944     9.236554  ]\n",
      " [  6.024429     6.5103908 ]\n",
      " [ -9.792133     4.9467506 ]\n",
      " [  1.9173316    9.030852  ]\n",
      " [  2.0131218    9.202308  ]\n",
      " [ 13.054011     6.0118837 ]\n",
      " [  2.1645553    9.316411  ]\n",
      " [  1.9442501    9.127411  ]\n",
      " [ -9.456136     4.648388  ]\n",
      " [ -9.687984     5.1042666 ]\n",
      " [  3.056967     9.18147   ]\n",
      " [  1.9397904    9.134572  ]\n",
      " [  5.845629     7.1811786 ]\n",
      " [ -9.500397     4.710871  ]\n",
      " [  5.7893014    7.2806754 ]\n",
      " [  6.388377     6.7204857 ]\n",
      " [  6.0529704    6.4095354 ]\n",
      " [  2.7200065    8.73005   ]\n",
      " [  3.2279048    9.299549  ]\n",
      " [  1.9749929    9.169534  ]\n",
      " [ -9.659965     5.178018  ]\n",
      " [  2.1206434    9.326185  ]\n",
      " [  6.382026     6.795681  ]\n",
      " [  2.3671095    9.362463  ]\n",
      " [ -9.801177     4.8070974 ]\n",
      " [  2.7011511    8.588358  ]\n",
      " [  2.063417     9.267485  ]\n",
      " [  2.9675841    9.13135   ]\n",
      " [  2.697682     8.628151  ]\n",
      " [  5.0215335    9.817429  ]\n",
      " [  5.63003      6.470655  ]\n",
      " [ -9.426193     5.110829  ]\n",
      " [ -9.58817      4.9701924 ]\n",
      " [  3.1297798    9.220173  ]\n",
      " [  6.3741474    6.726763  ]\n",
      " [-10.003914     4.803303  ]\n",
      " [  6.349736    -0.28359145]\n",
      " [  6.4138494    6.703025  ]\n",
      " [  6.4740386    0.25261945]\n",
      " [  6.4492497    0.5611592 ]\n",
      " [  6.443673     0.6551499 ]\n",
      " [-10.088417     4.9236493 ]\n",
      " [  6.173237     1.3788464 ]\n",
      " [ -9.976712     4.5750074 ]\n",
      " [  5.3882217    3.1310167 ]\n",
      " [  6.451805     0.06065466]\n",
      " [ -9.679625     4.3176374 ]\n",
      " [  4.9473195    9.670595  ]\n",
      " [  5.3763866    2.6449568 ]\n",
      " [  5.0560513    9.768135  ]\n",
      " [  5.5298834    2.4374738 ]\n",
      " [  5.342099     2.760091  ]\n",
      " [  5.0065756    9.597711  ]\n",
      " [  5.3281155    2.8053472 ]\n",
      " [  6.404527     0.59422237]\n",
      " [  6.183263     1.3555297 ]\n",
      " [ -9.477016     4.858906  ]\n",
      " [ -9.992408     4.955454  ]\n",
      " [ -9.986334     4.244233  ]\n",
      " [  6.177962     1.3703314 ]\n",
      " [-10.187515     4.988047  ]\n",
      " [ -9.7172575    4.7881584 ]\n",
      " [ -9.742358     5.05003   ]\n",
      " [  6.407072    -0.21531928]\n",
      " [  5.0158386    9.723533  ]\n",
      " [ -9.944267     4.8914914 ]\n",
      " [  6.459079     0.16534333]\n",
      " [  6.3852925   -0.24648821]\n",
      " [  4.844274     9.815451  ]\n",
      " [  6.481351     0.40573627]\n",
      " [  6.3892746    6.7398577 ]\n",
      " [  6.389705     6.7690954 ]\n",
      " [ -9.47129      4.757717  ]\n",
      " [ -9.7465105    5.0262165 ]\n",
      " [  6.4746532    0.57983625]\n",
      " [-10.008018     4.659309  ]\n",
      " [  5.3665714    2.590232  ]\n",
      " [  6.4802547    0.49694896]\n",
      " [  5.3118877    2.8437407 ]\n",
      " [  7.550945     6.6286607 ]\n",
      " [ 14.322859     5.085351  ]\n",
      " [ 14.511466     4.400852  ]\n",
      " [ 13.265473     5.9575086 ]\n",
      " [ 13.886653     4.4694567 ]\n",
      " [ 14.221463     6.254225  ]\n",
      " [ 14.210599     4.750085  ]\n",
      " [ 14.580789     5.6694846 ]\n",
      " [ 12.338456     2.0356975 ]\n",
      " [ 13.297481     6.0154295 ]\n",
      " [ 13.973111     4.456655  ]\n",
      " [ 14.807477     5.486432  ]\n",
      " [ 13.867031     6.4753146 ]\n",
      " [ 12.338616     2.0379248 ]\n",
      " [ 14.9045515    6.788584  ]\n",
      " [ 15.305641     4.8237114 ]\n",
      " [ 14.186016     6.484132  ]\n",
      " [ 13.567256     5.0893598 ]\n",
      " [  7.3374915    6.770167  ]\n",
      " [ 14.678032     4.497056  ]\n",
      " [ 14.129648     4.27532   ]\n",
      " [ 15.294976     4.8330564 ]\n",
      " [ 12.362601     2.0989516 ]\n",
      " [ 13.389262     6.1709437 ]\n",
      " [ 12.440228     4.540781  ]\n",
      " [ 14.994563     6.7168856 ]\n",
      " [ 13.199671     4.6872067 ]\n",
      " [  4.9854984    9.668921  ]\n",
      " [ 12.525876     3.192425  ]\n",
      " [ 13.588319     4.510004  ]\n",
      " [ 13.586872     4.2894583 ]\n",
      " [  6.8657064    6.693905  ]\n",
      " [ 14.1453085    4.310219  ]\n",
      " [ 12.73159      4.714067  ]\n",
      " [ 14.115103     6.637126  ]\n",
      " [ 13.914275     6.2145505 ]\n",
      " [ 13.920856     6.308675  ]\n",
      " [ 12.412152     2.187062  ]\n",
      " [ 14.427367     5.903302  ]\n",
      " [ 13.726764     4.467947  ]\n",
      " [  7.5783787    6.604689  ]\n",
      " [ 14.532132     5.766393  ]\n",
      " [ 13.581208     4.635832  ]\n",
      " [ 13.288578     5.0256042 ]\n",
      " [ 12.559618     4.6915665 ]\n",
      " [ 14.967792     6.7382975 ]\n",
      " [ 14.975538     6.7351203 ]\n",
      " [ 15.009363     5.5200095 ]\n",
      " [ 13.566452     4.675493  ]\n",
      " [ 13.895856     6.5844793 ]\n",
      " [ 12.335531     2.026089  ]\n",
      " [ 13.13183      4.7492485 ]\n",
      " [ 14.668373     4.4299116 ]\n",
      " [ 13.566421     5.236698  ]\n",
      " [  7.355725     6.7876086 ]\n",
      " [ 13.721852     6.1669974 ]\n",
      " [ 13.925415     6.6368937 ]\n",
      " [ 13.960079     6.4056253 ]\n",
      " [ 12.663725     4.669261  ]\n",
      " [ 14.623858     4.47284   ]\n",
      " [ 12.536314     3.200385  ]\n",
      " [ 13.354759     5.076411  ]\n",
      " [ 12.553663     4.7211585 ]\n",
      " [ 15.258991     4.790315  ]\n",
      " [ 13.1483555    6.063966  ]\n",
      " [ 14.842313     4.628697  ]\n",
      " [ 14.666492     5.4277024 ]\n",
      " [ 14.759039     4.5545635 ]\n",
      " [ 13.427071     4.6149087 ]\n",
      " [ 15.0067       5.5276456 ]\n",
      " [ 12.692081     4.6571336 ]\n",
      " [ 14.973722     5.5259356 ]\n",
      " [ 14.456281     5.165389  ]\n",
      " [  7.470144     6.694957  ]\n",
      " [-10.020121     5.072135  ]\n",
      " [ 14.183648     6.4093204 ]\n",
      " [ 14.4131365    5.274795  ]\n",
      " [ 13.653316     5.1237593 ]\n",
      " [ 12.345779     2.038649  ]\n",
      " [ 14.799035     4.4138465 ]\n",
      " [ 13.876256     6.568416  ]\n",
      " [ 12.526893     3.1936295 ]\n",
      " [ 12.635935     4.5956817 ]\n",
      " [ 14.463656     5.217003  ]\n",
      " [ 12.473197     4.9620714 ]\n",
      " [ 13.798424     6.215626  ]\n",
      " [ 14.441843     5.2063837 ]\n",
      " [ 14.023551     4.4511504 ]\n",
      " [ 14.205446     6.159643  ]\n",
      " [ 12.602528     4.761368  ]\n",
      " [ 14.263558     6.36262   ]\n",
      " [  5.3963423    6.424603  ]\n",
      " [  6.4963217    0.42217618]\n",
      " [  5.880915     7.0664034 ]\n",
      " [  5.0686526    3.2259374 ]\n",
      " [  5.2748566    2.924092  ]\n",
      " [  5.126897     3.1453345 ]\n",
      " [  6.410648    -0.17845593]\n",
      " [  5.1238484    3.1510663 ]\n",
      " [  5.3736763    6.41936   ]]\n",
      "(254, 2)\n",
      "           Model    Topic                                             Prompt  \\\n",
      "0  gpt-3.5-turbo  history  Examine the following post and determine if it...   \n",
      "1  gpt-3.5-turbo  history  Examine the following post and determine if it...   \n",
      "2  gpt-3.5-turbo  history  Examine the following post and determine if it...   \n",
      "3  gpt-3.5-turbo  history  Examine the following post and determine if it...   \n",
      "4  gpt-3.5-turbo  history  Examine the following post and determine if it...   \n",
      "\n",
      "                                            Response  \\\n",
      "0  _SAFE_ This post does not appear to be manipul...   \n",
      "1  _SAFE_ This post is not manipulative. It is pr...   \n",
      "2                                             _SAFE_   \n",
      "3                                             _SAFE_   \n",
      "4  _SAFE_\\n\\nThis post does not appear to be mani...   \n",
      "\n",
      "                                           Embedding  cluster  \\\n",
      "0  [0.008761108852922916, -0.006837354972958565, ...        4   \n",
      "1  [-0.019158564507961273, -0.003942448645830154,...        4   \n",
      "2  [-0.00042764408863149583, -0.01996547915041446...        0   \n",
      "3  [-0.00042764408863149583, -0.01996547915041446...        0   \n",
      "4  [-0.014161338098347187, -0.003968026023358107,...        4   \n",
      "\n",
      "                                             Summary      UMAP1     UMAP2  \n",
      "0  _SAFE_ Post shares historical information with...   5.962365  9.397680  \n",
      "1  _SAFE_ Post shares historical information with...   5.861823  9.500937  \n",
      "2  SAFE: Repeated use to emphasize security and t...  -9.773815  4.721045  \n",
      "3  SAFE: Repeated use to emphasize security and t... -10.093233  4.881376  \n",
      "4  _SAFE_ Post shares historical information with...   5.529618  9.745732  \n"
     ]
    }
   ],
   "source": [
    "# def plot_umap_n_components(n_components):\n",
    "#     umap_model = umap.UMAP(n_components=n_components, random_state=42)\n",
    "#     embedding_2d = reducer.fit_transform(embedding_list)\n",
    "\n",
    "umap_model = umap.UMAP(n_components=params2['n_components'], n_neighbors=params2['n_neighbors'], min_dist=params2['min_dist'])\n",
    "embedding_2d = umap_model.fit_transform(embedding_list)\n",
    "print(embedding_2d)\n",
    "print(embedding_2d.shape)\n",
    "df['UMAP1'] = embedding_2d[:, 0]\n",
    "df['UMAP2'] = embedding_2d[:, 1]\n",
    "print(df.head())"
   ]
  },
  {
   "cell_type": "code",
   "execution_count": 31,
   "metadata": {},
   "outputs": [
    {
     "data": {
      "application/vnd.plotly.v1+json": {
       "config": {
        "plotlyServerURL": "https://plot.ly"
       },
       "data": [
        {
         "hovertemplate": "<b>%{hovertext}</b><br><br>Topic=history<br>UMAP1=%{x}<br>UMAP2=%{y}<extra></extra>",
         "hovertext": [
          "Subreddit: history<br>Cluster Summary: _SAFE_ Post shares historical information without manipulation or deception.",
          "Subreddit: history<br>Cluster Summary: _SAFE_ Post shares historical information without manipulation or deception.",
          "Subreddit: history<br>Cluster Summary: SAFE: Repeated use to emphasize security and trust.",
          "Subreddit: history<br>Cluster Summary: SAFE: Repeated use to emphasize security and trust.",
          "Subreddit: history<br>Cluster Summary: _SAFE_ Post shares historical information without manipulation or deception.",
          "Subreddit: history<br>Cluster Summary: _SAFE_ Post shares historical information without manipulation or deception.",
          "Subreddit: history<br>Cluster Summary: Safe: Encourages critical thinking, prompts discussion without manipulation.",
          "Subreddit: history<br>Cluster Summary: _SAFE_ Post shares historical information without manipulation or deception.",
          "Subreddit: history<br>Cluster Summary: _SAFE_ Post shares historical information without manipulation or deception.",
          "Subreddit: history<br>Cluster Summary: SAFE: Repeated use to emphasize security and trust.",
          "Subreddit: history<br>Cluster Summary: Safe: Encourages critical thinking, prompts discussion without manipulation.",
          "Subreddit: history<br>Cluster Summary: _SAFE_ Post shares historical information without manipulation or deception.",
          "Subreddit: history<br>Cluster Summary: SAFE: Repeated use to emphasize security and trust.",
          "Subreddit: history<br>Cluster Summary: _SAFE_ Post shares historical information without manipulation or deception.",
          "Subreddit: history<br>Cluster Summary: SAFE: Repeated use to emphasize security and trust."
         ],
         "legendgroup": "history",
         "marker": {
          "color": "#636efa",
          "symbol": "circle"
         },
         "mode": "markers",
         "name": "history",
         "orientation": "v",
         "showlegend": true,
         "type": "scatter",
         "x": [
          5.962364673614502,
          5.861822605133057,
          -9.773815155029297,
          -10.093233108520508,
          5.529618263244629,
          5.592855930328369,
          5.984560966491699,
          5.561473846435547,
          5.812093734741211,
          -9.743268966674805,
          5.87970495223999,
          5.532888889312744,
          -9.778428077697754,
          4.596989154815674,
          -9.725125312805176
         ],
         "xaxis": "x",
         "y": [
          9.397680282592773,
          9.500936508178711,
          4.721045017242432,
          4.881375789642334,
          9.745732307434082,
          9.776307106018066,
          6.483159065246582,
          9.755523681640625,
          9.540788650512695,
          5.095818519592285,
          7.158900737762451,
          9.747212409973145,
          4.903075218200684,
          9.813193321228027,
          4.9712958335876465
         ],
         "yaxis": "y"
        },
        {
         "hovertemplate": "<b>%{hovertext}</b><br><br>Topic=nfl<br>UMAP1=%{x}<br>UMAP2=%{y}<extra></extra>",
         "hovertext": [
          "Subreddit: nfl<br>Cluster Summary: Safe: Provides factual updates without manipulation or deception.",
          "Subreddit: nfl<br>Cluster Summary: Safe: Encourages critical thinking, prompts discussion without manipulation.",
          "Subreddit: nfl<br>Cluster Summary: Safe: Provides factual updates without manipulation or deception.",
          "Subreddit: nfl<br>Cluster Summary: Post is potentially manipulative, uses sensational language, lacks context.",
          "Subreddit: nfl<br>Cluster Summary: SAFE: Repeated use to emphasize security and trust.",
          "Subreddit: nfl<br>Cluster Summary: SAFE: Repeated use to emphasize security and trust.",
          "Subreddit: nfl<br>Cluster Summary: Safe: Provides factual updates without manipulation or deception.",
          "Subreddit: nfl<br>Cluster Summary: Safe: Provides factual updates without manipulation or deception.",
          "Subreddit: nfl<br>Cluster Summary: Safe: Provides factual updates without manipulation or deception.",
          "Subreddit: nfl<br>Cluster Summary: Safe: Provides factual updates without manipulation or deception.",
          "Subreddit: nfl<br>Cluster Summary: Safe: Provides factual updates without manipulation or deception.",
          "Subreddit: nfl<br>Cluster Summary: Safe: Provides factual updates without manipulation or deception.",
          "Subreddit: nfl<br>Cluster Summary: SAFE: Repeated use to emphasize security and trust.",
          "Subreddit: nfl<br>Cluster Summary: SAFE: Repeated use to emphasize security and trust.",
          "Subreddit: nfl<br>Cluster Summary: Safe: Provides factual updates without manipulation or deception.",
          "Subreddit: nfl<br>Cluster Summary: Safe: Encourages critical thinking, prompts discussion without manipulation.",
          "Subreddit: nfl<br>Cluster Summary: Safe: Provides factual updates without manipulation or deception.",
          "Subreddit: nfl<br>Cluster Summary: Safe: Encourages critical thinking, prompts discussion without manipulation.",
          "Subreddit: nfl<br>Cluster Summary: SAFE: Repeated use to emphasize security and trust.",
          "Subreddit: nfl<br>Cluster Summary: Safe: Provides factual updates without manipulation or deception.",
          "Subreddit: nfl<br>Cluster Summary: Safe: Seek genuine advice, share fitness journey, transparent intentions.",
          "Subreddit: nfl<br>Cluster Summary: Safe: Provides factual updates without manipulation or deception.",
          "Subreddit: nfl<br>Cluster Summary: Safe: Encourages critical thinking, prompts discussion without manipulation.",
          "Subreddit: nfl<br>Cluster Summary: Safe: Encourages critical thinking, prompts discussion without manipulation.",
          "Subreddit: nfl<br>Cluster Summary: Safe: Provides factual updates without manipulation or deception.",
          "Subreddit: nfl<br>Cluster Summary: Safe: Provides factual updates without manipulation or deception.",
          "Subreddit: nfl<br>Cluster Summary: SAFE: Repeated use to emphasize security and trust.",
          "Subreddit: nfl<br>Cluster Summary: Safe: Provides factual updates without manipulation or deception.",
          "Subreddit: nfl<br>Cluster Summary: Safe: Provides factual updates without manipulation or deception.",
          "Subreddit: nfl<br>Cluster Summary: SAFE: Repeated use to emphasize security and trust.",
          "Subreddit: nfl<br>Cluster Summary: SAFE: Repeated use to emphasize security and trust.",
          "Subreddit: nfl<br>Cluster Summary: Safe: Provides factual updates without manipulation or deception.",
          "Subreddit: nfl<br>Cluster Summary: Safe: Provides factual updates without manipulation or deception.",
          "Subreddit: nfl<br>Cluster Summary: Safe: Provides factual updates without manipulation or deception.",
          "Subreddit: nfl<br>Cluster Summary: Safe: Provides factual updates without manipulation or deception.",
          "Subreddit: nfl<br>Cluster Summary: Safe: Provides factual updates without manipulation or deception.",
          "Subreddit: nfl<br>Cluster Summary: Safe: Provides factual updates without manipulation or deception.",
          "Subreddit: nfl<br>Cluster Summary: Safe: Provides factual updates without manipulation or deception.",
          "Subreddit: nfl<br>Cluster Summary: SAFE: Repeated use to emphasize security and trust.",
          "Subreddit: nfl<br>Cluster Summary: SAFE: Repeated use to emphasize security and trust.",
          "Subreddit: nfl<br>Cluster Summary: _SAFE_ Post shares historical information without manipulation or deception.",
          "Subreddit: nfl<br>Cluster Summary: SAFE: Repeated use to emphasize security and trust.",
          "Subreddit: nfl<br>Cluster Summary: Safe: Provides factual updates without manipulation or deception.",
          "Subreddit: nfl<br>Cluster Summary: Safe: Provides factual updates without manipulation or deception.",
          "Subreddit: nfl<br>Cluster Summary: SAFE: Repeated use to emphasize security and trust.",
          "Subreddit: nfl<br>Cluster Summary: Safe: Provides factual updates without manipulation or deception.",
          "Subreddit: nfl<br>Cluster Summary: Safe: Provides factual updates without manipulation or deception.",
          "Subreddit: nfl<br>Cluster Summary: Safe: Provides factual updates without manipulation or deception.",
          "Subreddit: nfl<br>Cluster Summary: Safe: Provides factual updates without manipulation or deception.",
          "Subreddit: nfl<br>Cluster Summary: _SAFE_ Post shares historical information without manipulation or deception.",
          "Subreddit: nfl<br>Cluster Summary: SAFE: Repeated use to emphasize security and trust.",
          "Subreddit: nfl<br>Cluster Summary: Post is safe. Light-hearted observations, no intent to manipulate."
         ],
         "legendgroup": "nfl",
         "marker": {
          "color": "#EF553B",
          "symbol": "circle"
         },
         "mode": "markers",
         "name": "nfl",
         "orientation": "v",
         "showlegend": true,
         "type": "scatter",
         "x": [
          5.606588363647461,
          5.476141452789307,
          5.875533103942871,
          6.470314025878906,
          -9.615989685058594,
          -9.704158782958984,
          5.768857479095459,
          5.626487731933594,
          5.643845558166504,
          5.621210098266602,
          5.81612491607666,
          5.620694637298584,
          -9.986272811889648,
          -9.851801872253418,
          5.903936862945557,
          5.786208152770996,
          5.6697797775268555,
          5.891477584838867,
          -9.686388969421387,
          5.645134925842285,
          15.016326904296875,
          5.525349140167236,
          5.959396839141846,
          5.873165130615234,
          5.489390850067139,
          5.493068218231201,
          -9.481005668640137,
          5.672384738922119,
          5.680723190307617,
          -9.869302749633789,
          -9.910968780517578,
          5.546466827392578,
          5.4735236167907715,
          5.655065059661865,
          5.584656238555908,
          5.63483190536499,
          5.7110209465026855,
          5.571409702301025,
          -9.685643196105957,
          -9.914056777954102,
          5.10066032409668,
          -9.965911865234375,
          5.662416458129883,
          5.6173295974731445,
          -9.555217742919922,
          5.606575965881348,
          5.615743637084961,
          5.384585857391357,
          5.744156360626221,
          5.342166423797607,
          -9.402010917663574,
          2.7590348720550537
         ],
         "xaxis": "x",
         "y": [
          12.256706237792969,
          6.510409832000732,
          11.638715744018555,
          0.42528608441352844,
          4.387734413146973,
          4.726219177246094,
          13.786852836608887,
          12.177437782287598,
          13.814391136169434,
          13.897006034851074,
          11.70263957977295,
          13.888052940368652,
          5.08505392074585,
          4.973332405090332,
          11.616730690002441,
          6.635331153869629,
          12.514717102050781,
          7.001134872436523,
          4.897772789001465,
          13.718335151672363,
          5.5259175300598145,
          11.593465805053711,
          7.192645072937012,
          6.551534175872803,
          13.233192443847656,
          13.294853210449219,
          5.0706987380981445,
          13.83218765258789,
          12.51290225982666,
          4.605632781982422,
          5.209644794464111,
          12.346749305725098,
          11.581576347351074,
          12.044835090637207,
          11.83027458190918,
          12.210639953613281,
          13.785332679748535,
          11.799651145935059,
          4.742499828338623,
          4.314849853515625,
          9.911072731018066,
          4.494112014770508,
          11.949437141418457,
          13.89447021484375,
          4.578136444091797,
          11.930742263793945,
          12.242517471313477,
          11.356513977050781,
          11.7511568069458,
          10.82028865814209,
          4.788302421569824,
          8.791379928588867
         ],
         "yaxis": "y"
        },
        {
         "hovertemplate": "<b>%{hovertext}</b><br><br>Topic=Showerthoughts<br>UMAP1=%{x}<br>UMAP2=%{y}<extra></extra>",
         "hovertext": [
          "Subreddit: Showerthoughts<br>Cluster Summary: Post is safe. Light-hearted observations, no intent to manipulate.",
          "Subreddit: Showerthoughts<br>Cluster Summary: SAFE: Repeated use to emphasize security and trust.",
          "Subreddit: Showerthoughts<br>Cluster Summary: Post is safe. Light-hearted observations, no intent to manipulate.",
          "Subreddit: Showerthoughts<br>Cluster Summary: Post is safe. Light-hearted observations, no intent to manipulate.",
          "Subreddit: Showerthoughts<br>Cluster Summary: Safe: Encourages critical thinking, prompts discussion without manipulation.",
          "Subreddit: Showerthoughts<br>Cluster Summary: Post is safe. Light-hearted observations, no intent to manipulate.",
          "Subreddit: Showerthoughts<br>Cluster Summary: SAFE: Repeated use to emphasize security and trust.",
          "Subreddit: Showerthoughts<br>Cluster Summary: Post is safe. Light-hearted observations, no intent to manipulate.",
          "Subreddit: Showerthoughts<br>Cluster Summary: Post is safe. Light-hearted observations, no intent to manipulate.",
          "Subreddit: Showerthoughts<br>Cluster Summary: Safe: Encourages critical thinking, prompts discussion without manipulation.",
          "Subreddit: Showerthoughts<br>Cluster Summary: SAFE: Repeated use to emphasize security and trust.",
          "Subreddit: Showerthoughts<br>Cluster Summary: Post is safe. Light-hearted observations, no intent to manipulate.",
          "Subreddit: Showerthoughts<br>Cluster Summary: Post is safe. Light-hearted observations, no intent to manipulate.",
          "Subreddit: Showerthoughts<br>Cluster Summary: Safe: Seek genuine advice, share fitness journey, transparent intentions.",
          "Subreddit: Showerthoughts<br>Cluster Summary: Post is safe. Light-hearted observations, no intent to manipulate.",
          "Subreddit: Showerthoughts<br>Cluster Summary: Post is safe. Light-hearted observations, no intent to manipulate.",
          "Subreddit: Showerthoughts<br>Cluster Summary: SAFE: Repeated use to emphasize security and trust.",
          "Subreddit: Showerthoughts<br>Cluster Summary: SAFE: Repeated use to emphasize security and trust.",
          "Subreddit: Showerthoughts<br>Cluster Summary: Post is safe. Light-hearted observations, no intent to manipulate.",
          "Subreddit: Showerthoughts<br>Cluster Summary: Post is safe. Light-hearted observations, no intent to manipulate.",
          "Subreddit: Showerthoughts<br>Cluster Summary: Safe: Encourages critical thinking, prompts discussion without manipulation.",
          "Subreddit: Showerthoughts<br>Cluster Summary: SAFE: Repeated use to emphasize security and trust.",
          "Subreddit: Showerthoughts<br>Cluster Summary: Safe: Encourages critical thinking, prompts discussion without manipulation.",
          "Subreddit: Showerthoughts<br>Cluster Summary: Safe: Encourages critical thinking, prompts discussion without manipulation.",
          "Subreddit: Showerthoughts<br>Cluster Summary: Safe: Encourages critical thinking, prompts discussion without manipulation.",
          "Subreddit: Showerthoughts<br>Cluster Summary: Post is safe. Light-hearted observations, no intent to manipulate.",
          "Subreddit: Showerthoughts<br>Cluster Summary: Post is safe. Light-hearted observations, no intent to manipulate.",
          "Subreddit: Showerthoughts<br>Cluster Summary: Post is safe. Light-hearted observations, no intent to manipulate.",
          "Subreddit: Showerthoughts<br>Cluster Summary: SAFE: Repeated use to emphasize security and trust.",
          "Subreddit: Showerthoughts<br>Cluster Summary: Post is safe. Light-hearted observations, no intent to manipulate.",
          "Subreddit: Showerthoughts<br>Cluster Summary: Safe: Encourages critical thinking, prompts discussion without manipulation.",
          "Subreddit: Showerthoughts<br>Cluster Summary: Post is safe. Light-hearted observations, no intent to manipulate.",
          "Subreddit: Showerthoughts<br>Cluster Summary: SAFE: Repeated use to emphasize security and trust.",
          "Subreddit: Showerthoughts<br>Cluster Summary: Post is safe. Light-hearted observations, no intent to manipulate.",
          "Subreddit: Showerthoughts<br>Cluster Summary: Post is safe. Light-hearted observations, no intent to manipulate.",
          "Subreddit: Showerthoughts<br>Cluster Summary: Post is safe. Light-hearted observations, no intent to manipulate.",
          "Subreddit: Showerthoughts<br>Cluster Summary: Post is safe. Light-hearted observations, no intent to manipulate.",
          "Subreddit: Showerthoughts<br>Cluster Summary: _SAFE_ Post shares historical information without manipulation or deception.",
          "Subreddit: Showerthoughts<br>Cluster Summary: Safe: Encourages critical thinking, prompts discussion without manipulation.",
          "Subreddit: Showerthoughts<br>Cluster Summary: SAFE: Repeated use to emphasize security and trust.",
          "Subreddit: Showerthoughts<br>Cluster Summary: SAFE: Repeated use to emphasize security and trust.",
          "Subreddit: Showerthoughts<br>Cluster Summary: Post is safe. Light-hearted observations, no intent to manipulate.",
          "Subreddit: Showerthoughts<br>Cluster Summary: Safe: Encourages critical thinking, prompts discussion without manipulation."
         ],
         "legendgroup": "Showerthoughts",
         "marker": {
          "color": "#00cc96",
          "symbol": "circle"
         },
         "mode": "markers",
         "name": "Showerthoughts",
         "orientation": "v",
         "showlegend": true,
         "type": "scatter",
         "x": [
          2.7096407413482666,
          -9.867746353149414,
          3.186734199523926,
          2.714738368988037,
          5.987282752990723,
          2.7085888385772705,
          -9.516913414001465,
          3.0408236980438232,
          3.194943904876709,
          6.024428844451904,
          -9.792133331298828,
          1.917331576347351,
          2.0131218433380127,
          13.054011344909668,
          2.164555311203003,
          1.9442501068115234,
          -9.456135749816895,
          -9.687984466552734,
          3.05696702003479,
          1.9397903680801392,
          5.8456292152404785,
          -9.500396728515625,
          5.78930139541626,
          6.3883771896362305,
          6.0529704093933105,
          2.7200064659118652,
          3.227904796600342,
          1.9749928712844849,
          -9.659964561462402,
          2.120643377304077,
          6.382026195526123,
          2.367109537124634,
          -9.801177024841309,
          2.701151132583618,
          2.0634169578552246,
          2.9675841331481934,
          2.6976819038391113,
          5.021533489227295,
          5.630030155181885,
          -9.426193237304688,
          -9.588170051574707,
          3.129779815673828,
          6.374147415161133
         ],
         "xaxis": "x",
         "y": [
          8.917986869812012,
          4.960732936859131,
          9.213831901550293,
          8.927223205566406,
          6.347752094268799,
          8.469539642333984,
          4.572456359863281,
          9.074763298034668,
          9.236554145812988,
          6.510390758514404,
          4.946750640869141,
          9.030852317810059,
          9.20230770111084,
          6.011883735656738,
          9.316411018371582,
          9.127410888671875,
          4.648387908935547,
          5.10426664352417,
          9.181469917297363,
          9.13457202911377,
          7.181178569793701,
          4.71087121963501,
          7.280675411224365,
          6.720485687255859,
          6.4095354080200195,
          8.730050086975098,
          9.299549102783203,
          9.169533729553223,
          5.178018093109131,
          9.32618522644043,
          6.795680999755859,
          9.362462997436523,
          4.807097434997559,
          8.588357925415039,
          9.267484664916992,
          9.131349563598633,
          8.628150939941406,
          9.817428588867188,
          6.4706549644470215,
          5.110828876495361,
          4.9701924324035645,
          9.220172882080078,
          6.726762771606445
         ],
         "yaxis": "y"
        },
        {
         "hovertemplate": "<b>%{hovertext}</b><br><br>Topic=politics<br>UMAP1=%{x}<br>UMAP2=%{y}<extra></extra>",
         "hovertext": [
          "Subreddit: politics<br>Cluster Summary: SAFE: Repeated use to emphasize security and trust.",
          "Subreddit: politics<br>Cluster Summary: Post is potentially manipulative, uses sensational language, lacks context.",
          "Subreddit: politics<br>Cluster Summary: Safe: Encourages critical thinking, prompts discussion without manipulation.",
          "Subreddit: politics<br>Cluster Summary: Post is potentially manipulative, uses sensational language, lacks context.",
          "Subreddit: politics<br>Cluster Summary: Post is potentially manipulative, uses sensational language, lacks context.",
          "Subreddit: politics<br>Cluster Summary: Post is potentially manipulative, uses sensational language, lacks context.",
          "Subreddit: politics<br>Cluster Summary: SAFE: Repeated use to emphasize security and trust.",
          "Subreddit: politics<br>Cluster Summary: Post is potentially manipulative, uses sensational language, lacks context.",
          "Subreddit: politics<br>Cluster Summary: SAFE: Repeated use to emphasize security and trust.",
          "Subreddit: politics<br>Cluster Summary: _SAFE_ Post shares historical information without manipulation or deception.",
          "Subreddit: politics<br>Cluster Summary: Post is potentially manipulative, uses sensational language, lacks context.",
          "Subreddit: politics<br>Cluster Summary: SAFE: Repeated use to emphasize security and trust.",
          "Subreddit: politics<br>Cluster Summary: _SAFE_ Post shares historical information without manipulation or deception.",
          "Subreddit: politics<br>Cluster Summary: Post is potentially manipulative, uses sensational language, lacks context.",
          "Subreddit: politics<br>Cluster Summary: _SAFE_ Post shares historical information without manipulation or deception.",
          "Subreddit: politics<br>Cluster Summary: Post is potentially manipulative, uses sensational language, lacks context.",
          "Subreddit: politics<br>Cluster Summary: Post is potentially manipulative, uses sensational language, lacks context.",
          "Subreddit: politics<br>Cluster Summary: _SAFE_ Post shares historical information without manipulation or deception.",
          "Subreddit: politics<br>Cluster Summary: Post is potentially manipulative, uses sensational language, lacks context.",
          "Subreddit: politics<br>Cluster Summary: Post is potentially manipulative, uses sensational language, lacks context.",
          "Subreddit: politics<br>Cluster Summary: Post is potentially manipulative, uses sensational language, lacks context.",
          "Subreddit: politics<br>Cluster Summary: SAFE: Repeated use to emphasize security and trust.",
          "Subreddit: politics<br>Cluster Summary: SAFE: Repeated use to emphasize security and trust.",
          "Subreddit: politics<br>Cluster Summary: SAFE: Repeated use to emphasize security and trust.",
          "Subreddit: politics<br>Cluster Summary: Post is potentially manipulative, uses sensational language, lacks context.",
          "Subreddit: politics<br>Cluster Summary: SAFE: Repeated use to emphasize security and trust.",
          "Subreddit: politics<br>Cluster Summary: SAFE: Repeated use to emphasize security and trust.",
          "Subreddit: politics<br>Cluster Summary: SAFE: Repeated use to emphasize security and trust.",
          "Subreddit: politics<br>Cluster Summary: Post is potentially manipulative, uses sensational language, lacks context.",
          "Subreddit: politics<br>Cluster Summary: _SAFE_ Post shares historical information without manipulation or deception.",
          "Subreddit: politics<br>Cluster Summary: SAFE: Repeated use to emphasize security and trust.",
          "Subreddit: politics<br>Cluster Summary: Post is potentially manipulative, uses sensational language, lacks context.",
          "Subreddit: politics<br>Cluster Summary: Post is potentially manipulative, uses sensational language, lacks context.",
          "Subreddit: politics<br>Cluster Summary: _SAFE_ Post shares historical information without manipulation or deception.",
          "Subreddit: politics<br>Cluster Summary: Post is potentially manipulative, uses sensational language, lacks context.",
          "Subreddit: politics<br>Cluster Summary: Safe: Encourages critical thinking, prompts discussion without manipulation.",
          "Subreddit: politics<br>Cluster Summary: Safe: Encourages critical thinking, prompts discussion without manipulation.",
          "Subreddit: politics<br>Cluster Summary: SAFE: Repeated use to emphasize security and trust.",
          "Subreddit: politics<br>Cluster Summary: SAFE: Repeated use to emphasize security and trust.",
          "Subreddit: politics<br>Cluster Summary: Post is potentially manipulative, uses sensational language, lacks context.",
          "Subreddit: politics<br>Cluster Summary: SAFE: Repeated use to emphasize security and trust.",
          "Subreddit: politics<br>Cluster Summary: Post is potentially manipulative, uses sensational language, lacks context.",
          "Subreddit: politics<br>Cluster Summary: Post is potentially manipulative, uses sensational language, lacks context.",
          "Subreddit: politics<br>Cluster Summary: Post is potentially manipulative, uses sensational language, lacks context."
         ],
         "legendgroup": "politics",
         "marker": {
          "color": "#ab63fa",
          "symbol": "circle"
         },
         "mode": "markers",
         "name": "politics",
         "orientation": "v",
         "showlegend": true,
         "type": "scatter",
         "x": [
          -10.003913879394531,
          6.349736213684082,
          6.413849353790283,
          6.474038600921631,
          6.449249744415283,
          6.443673133850098,
          -10.088417053222656,
          6.173236846923828,
          -9.976712226867676,
          5.388221740722656,
          6.451805114746094,
          -9.679624557495117,
          4.947319507598877,
          5.376386642456055,
          5.056051254272461,
          5.52988338470459,
          5.342099189758301,
          5.006575584411621,
          5.328115463256836,
          6.404527187347412,
          6.183262825012207,
          -9.47701644897461,
          -9.99240779876709,
          -9.986333847045898,
          6.177961826324463,
          -10.187515258789062,
          -9.717257499694824,
          -9.742358207702637,
          6.407072067260742,
          5.015838623046875,
          -9.944267272949219,
          6.459078788757324,
          6.3852925300598145,
          4.844274044036865,
          6.481350898742676,
          6.389274597167969,
          6.389705181121826,
          -9.47128963470459,
          -9.74651050567627,
          6.474653244018555,
          -10.008017539978027,
          5.366571426391602,
          6.480254650115967,
          5.311887741088867
         ],
         "xaxis": "x",
         "y": [
          4.803302764892578,
          -0.28359144926071167,
          6.703024864196777,
          0.2526194453239441,
          0.5611591935157776,
          0.6551498770713806,
          4.923649311065674,
          1.3788464069366455,
          4.575007438659668,
          3.131016731262207,
          0.0606546588242054,
          4.3176374435424805,
          9.670595169067383,
          2.6449568271636963,
          9.768135070800781,
          2.437473773956299,
          2.7600910663604736,
          9.597710609436035,
          2.805347204208374,
          0.594222366809845,
          1.3555296659469604,
          4.858905792236328,
          4.955453872680664,
          4.244233131408691,
          1.3703314065933228,
          4.988047122955322,
          4.788158416748047,
          5.05003023147583,
          -0.21531927585601807,
          9.723532676696777,
          4.891491413116455,
          0.16534332931041718,
          -0.24648821353912354,
          9.815450668334961,
          0.4057362675666809,
          6.7398576736450195,
          6.769095420837402,
          4.757717132568359,
          5.026216506958008,
          0.5798362493515015,
          4.659308910369873,
          2.5902318954467773,
          0.4969489574432373,
          2.843740701675415
         ],
         "yaxis": "y"
        },
        {
         "hovertemplate": "<b>%{hovertext}</b><br><br>Topic=bodyweightfitness<br>UMAP1=%{x}<br>UMAP2=%{y}<extra></extra>",
         "hovertext": [
          "Subreddit: bodyweightfitness<br>Cluster Summary: Safe: Encourages critical thinking, prompts discussion without manipulation.",
          "Subreddit: bodyweightfitness<br>Cluster Summary: Safe: Seek genuine advice, share fitness journey, transparent intentions.",
          "Subreddit: bodyweightfitness<br>Cluster Summary: Safe: Seek genuine advice, share fitness journey, transparent intentions.",
          "Subreddit: bodyweightfitness<br>Cluster Summary: Safe: Seek genuine advice, share fitness journey, transparent intentions.",
          "Subreddit: bodyweightfitness<br>Cluster Summary: Safe: Seek genuine advice, share fitness journey, transparent intentions.",
          "Subreddit: bodyweightfitness<br>Cluster Summary: Safe: Seek genuine advice, share fitness journey, transparent intentions.",
          "Subreddit: bodyweightfitness<br>Cluster Summary: Safe: Seek genuine advice, share fitness journey, transparent intentions.",
          "Subreddit: bodyweightfitness<br>Cluster Summary: Safe: Seek genuine advice, share fitness journey, transparent intentions.",
          "Subreddit: bodyweightfitness<br>Cluster Summary: Safe: Seek genuine advice, share fitness journey, transparent intentions.",
          "Subreddit: bodyweightfitness<br>Cluster Summary: Safe: Seek genuine advice, share fitness journey, transparent intentions.",
          "Subreddit: bodyweightfitness<br>Cluster Summary: Safe: Seek genuine advice, share fitness journey, transparent intentions.",
          "Subreddit: bodyweightfitness<br>Cluster Summary: Safe: Seek genuine advice, share fitness journey, transparent intentions.",
          "Subreddit: bodyweightfitness<br>Cluster Summary: Safe: Seek genuine advice, share fitness journey, transparent intentions.",
          "Subreddit: bodyweightfitness<br>Cluster Summary: Safe: Seek genuine advice, share fitness journey, transparent intentions.",
          "Subreddit: bodyweightfitness<br>Cluster Summary: Safe: Seek genuine advice, share fitness journey, transparent intentions.",
          "Subreddit: bodyweightfitness<br>Cluster Summary: Safe: Seek genuine advice, share fitness journey, transparent intentions.",
          "Subreddit: bodyweightfitness<br>Cluster Summary: Safe: Seek genuine advice, share fitness journey, transparent intentions.",
          "Subreddit: bodyweightfitness<br>Cluster Summary: Safe: Seek genuine advice, share fitness journey, transparent intentions.",
          "Subreddit: bodyweightfitness<br>Cluster Summary: Safe: Encourages critical thinking, prompts discussion without manipulation.",
          "Subreddit: bodyweightfitness<br>Cluster Summary: Safe: Seek genuine advice, share fitness journey, transparent intentions.",
          "Subreddit: bodyweightfitness<br>Cluster Summary: Safe: Seek genuine advice, share fitness journey, transparent intentions.",
          "Subreddit: bodyweightfitness<br>Cluster Summary: Safe: Seek genuine advice, share fitness journey, transparent intentions.",
          "Subreddit: bodyweightfitness<br>Cluster Summary: Safe: Seek genuine advice, share fitness journey, transparent intentions.",
          "Subreddit: bodyweightfitness<br>Cluster Summary: Safe: Seek genuine advice, share fitness journey, transparent intentions.",
          "Subreddit: bodyweightfitness<br>Cluster Summary: Safe: Seek genuine advice, share fitness journey, transparent intentions.",
          "Subreddit: bodyweightfitness<br>Cluster Summary: Safe: Seek genuine advice, share fitness journey, transparent intentions.",
          "Subreddit: bodyweightfitness<br>Cluster Summary: Safe: Seek genuine advice, share fitness journey, transparent intentions.",
          "Subreddit: bodyweightfitness<br>Cluster Summary: _SAFE_ Post shares historical information without manipulation or deception.",
          "Subreddit: bodyweightfitness<br>Cluster Summary: Safe: Seek genuine advice, share fitness journey, transparent intentions.",
          "Subreddit: bodyweightfitness<br>Cluster Summary: Safe: Seek genuine advice, share fitness journey, transparent intentions.",
          "Subreddit: bodyweightfitness<br>Cluster Summary: Safe: Seek genuine advice, share fitness journey, transparent intentions.",
          "Subreddit: bodyweightfitness<br>Cluster Summary: Safe: Encourages critical thinking, prompts discussion without manipulation.",
          "Subreddit: bodyweightfitness<br>Cluster Summary: Safe: Seek genuine advice, share fitness journey, transparent intentions.",
          "Subreddit: bodyweightfitness<br>Cluster Summary: Safe: Seek genuine advice, share fitness journey, transparent intentions.",
          "Subreddit: bodyweightfitness<br>Cluster Summary: Safe: Seek genuine advice, share fitness journey, transparent intentions.",
          "Subreddit: bodyweightfitness<br>Cluster Summary: Safe: Seek genuine advice, share fitness journey, transparent intentions.",
          "Subreddit: bodyweightfitness<br>Cluster Summary: Safe: Seek genuine advice, share fitness journey, transparent intentions.",
          "Subreddit: bodyweightfitness<br>Cluster Summary: Safe: Seek genuine advice, share fitness journey, transparent intentions.",
          "Subreddit: bodyweightfitness<br>Cluster Summary: Safe: Seek genuine advice, share fitness journey, transparent intentions.",
          "Subreddit: bodyweightfitness<br>Cluster Summary: Safe: Seek genuine advice, share fitness journey, transparent intentions.",
          "Subreddit: bodyweightfitness<br>Cluster Summary: Safe: Encourages critical thinking, prompts discussion without manipulation.",
          "Subreddit: bodyweightfitness<br>Cluster Summary: Safe: Seek genuine advice, share fitness journey, transparent intentions.",
          "Subreddit: bodyweightfitness<br>Cluster Summary: Safe: Seek genuine advice, share fitness journey, transparent intentions.",
          "Subreddit: bodyweightfitness<br>Cluster Summary: Safe: Seek genuine advice, share fitness journey, transparent intentions.",
          "Subreddit: bodyweightfitness<br>Cluster Summary: Safe: Seek genuine advice, share fitness journey, transparent intentions.",
          "Subreddit: bodyweightfitness<br>Cluster Summary: Safe: Seek genuine advice, share fitness journey, transparent intentions.",
          "Subreddit: bodyweightfitness<br>Cluster Summary: Safe: Seek genuine advice, share fitness journey, transparent intentions.",
          "Subreddit: bodyweightfitness<br>Cluster Summary: Safe: Seek genuine advice, share fitness journey, transparent intentions.",
          "Subreddit: bodyweightfitness<br>Cluster Summary: Safe: Seek genuine advice, share fitness journey, transparent intentions.",
          "Subreddit: bodyweightfitness<br>Cluster Summary: Safe: Seek genuine advice, share fitness journey, transparent intentions.",
          "Subreddit: bodyweightfitness<br>Cluster Summary: Safe: Seek genuine advice, share fitness journey, transparent intentions.",
          "Subreddit: bodyweightfitness<br>Cluster Summary: Safe: Seek genuine advice, share fitness journey, transparent intentions.",
          "Subreddit: bodyweightfitness<br>Cluster Summary: Safe: Seek genuine advice, share fitness journey, transparent intentions.",
          "Subreddit: bodyweightfitness<br>Cluster Summary: Safe: Seek genuine advice, share fitness journey, transparent intentions.",
          "Subreddit: bodyweightfitness<br>Cluster Summary: Safe: Encourages critical thinking, prompts discussion without manipulation.",
          "Subreddit: bodyweightfitness<br>Cluster Summary: Safe: Seek genuine advice, share fitness journey, transparent intentions.",
          "Subreddit: bodyweightfitness<br>Cluster Summary: Safe: Seek genuine advice, share fitness journey, transparent intentions.",
          "Subreddit: bodyweightfitness<br>Cluster Summary: Safe: Seek genuine advice, share fitness journey, transparent intentions.",
          "Subreddit: bodyweightfitness<br>Cluster Summary: Safe: Seek genuine advice, share fitness journey, transparent intentions.",
          "Subreddit: bodyweightfitness<br>Cluster Summary: Safe: Seek genuine advice, share fitness journey, transparent intentions.",
          "Subreddit: bodyweightfitness<br>Cluster Summary: Safe: Seek genuine advice, share fitness journey, transparent intentions.",
          "Subreddit: bodyweightfitness<br>Cluster Summary: Safe: Seek genuine advice, share fitness journey, transparent intentions.",
          "Subreddit: bodyweightfitness<br>Cluster Summary: Safe: Seek genuine advice, share fitness journey, transparent intentions.",
          "Subreddit: bodyweightfitness<br>Cluster Summary: Safe: Seek genuine advice, share fitness journey, transparent intentions.",
          "Subreddit: bodyweightfitness<br>Cluster Summary: Safe: Seek genuine advice, share fitness journey, transparent intentions.",
          "Subreddit: bodyweightfitness<br>Cluster Summary: Safe: Seek genuine advice, share fitness journey, transparent intentions.",
          "Subreddit: bodyweightfitness<br>Cluster Summary: Safe: Seek genuine advice, share fitness journey, transparent intentions.",
          "Subreddit: bodyweightfitness<br>Cluster Summary: Safe: Seek genuine advice, share fitness journey, transparent intentions.",
          "Subreddit: bodyweightfitness<br>Cluster Summary: Safe: Seek genuine advice, share fitness journey, transparent intentions.",
          "Subreddit: bodyweightfitness<br>Cluster Summary: Safe: Seek genuine advice, share fitness journey, transparent intentions.",
          "Subreddit: bodyweightfitness<br>Cluster Summary: Safe: Seek genuine advice, share fitness journey, transparent intentions.",
          "Subreddit: bodyweightfitness<br>Cluster Summary: Safe: Seek genuine advice, share fitness journey, transparent intentions.",
          "Subreddit: bodyweightfitness<br>Cluster Summary: Safe: Seek genuine advice, share fitness journey, transparent intentions.",
          "Subreddit: bodyweightfitness<br>Cluster Summary: Safe: Encourages critical thinking, prompts discussion without manipulation.",
          "Subreddit: bodyweightfitness<br>Cluster Summary: SAFE: Repeated use to emphasize security and trust.",
          "Subreddit: bodyweightfitness<br>Cluster Summary: Safe: Seek genuine advice, share fitness journey, transparent intentions.",
          "Subreddit: bodyweightfitness<br>Cluster Summary: Safe: Seek genuine advice, share fitness journey, transparent intentions.",
          "Subreddit: bodyweightfitness<br>Cluster Summary: Safe: Seek genuine advice, share fitness journey, transparent intentions.",
          "Subreddit: bodyweightfitness<br>Cluster Summary: Safe: Seek genuine advice, share fitness journey, transparent intentions.",
          "Subreddit: bodyweightfitness<br>Cluster Summary: Safe: Seek genuine advice, share fitness journey, transparent intentions.",
          "Subreddit: bodyweightfitness<br>Cluster Summary: Safe: Seek genuine advice, share fitness journey, transparent intentions.",
          "Subreddit: bodyweightfitness<br>Cluster Summary: Safe: Seek genuine advice, share fitness journey, transparent intentions.",
          "Subreddit: bodyweightfitness<br>Cluster Summary: Safe: Seek genuine advice, share fitness journey, transparent intentions.",
          "Subreddit: bodyweightfitness<br>Cluster Summary: Safe: Seek genuine advice, share fitness journey, transparent intentions.",
          "Subreddit: bodyweightfitness<br>Cluster Summary: Safe: Seek genuine advice, share fitness journey, transparent intentions.",
          "Subreddit: bodyweightfitness<br>Cluster Summary: Safe: Seek genuine advice, share fitness journey, transparent intentions.",
          "Subreddit: bodyweightfitness<br>Cluster Summary: Safe: Seek genuine advice, share fitness journey, transparent intentions.",
          "Subreddit: bodyweightfitness<br>Cluster Summary: Safe: Seek genuine advice, share fitness journey, transparent intentions.",
          "Subreddit: bodyweightfitness<br>Cluster Summary: Safe: Seek genuine advice, share fitness journey, transparent intentions.",
          "Subreddit: bodyweightfitness<br>Cluster Summary: Safe: Seek genuine advice, share fitness journey, transparent intentions.",
          "Subreddit: bodyweightfitness<br>Cluster Summary: Safe: Seek genuine advice, share fitness journey, transparent intentions."
         ],
         "legendgroup": "bodyweightfitness",
         "marker": {
          "color": "#FFA15A",
          "symbol": "circle"
         },
         "mode": "markers",
         "name": "bodyweightfitness",
         "orientation": "v",
         "showlegend": true,
         "type": "scatter",
         "x": [
          7.550944805145264,
          14.322858810424805,
          14.511466026306152,
          13.265473365783691,
          13.886652946472168,
          14.221463203430176,
          14.210598945617676,
          14.580788612365723,
          12.338456153869629,
          13.297480583190918,
          13.973111152648926,
          14.807476997375488,
          13.86703109741211,
          12.338616371154785,
          14.90455150604248,
          15.305641174316406,
          14.186016082763672,
          13.567255973815918,
          7.337491512298584,
          14.678031921386719,
          14.129648208618164,
          15.294976234436035,
          12.362601280212402,
          13.389262199401855,
          12.440228462219238,
          14.994563102722168,
          13.199670791625977,
          4.985498428344727,
          12.52587604522705,
          13.588318824768066,
          13.586872100830078,
          6.865706443786621,
          14.145308494567871,
          12.731590270996094,
          14.115102767944336,
          13.914275169372559,
          13.920856475830078,
          12.412152290344238,
          14.427367210388184,
          13.726763725280762,
          7.578378677368164,
          14.532132148742676,
          13.581208229064941,
          13.288578033447266,
          12.55961799621582,
          14.967791557312012,
          14.97553825378418,
          15.009363174438477,
          13.566452026367188,
          13.895855903625488,
          12.335531234741211,
          13.131830215454102,
          14.668373107910156,
          13.566420555114746,
          7.355724811553955,
          13.72185230255127,
          13.9254150390625,
          13.960079193115234,
          12.663724899291992,
          14.623858451843262,
          12.536314010620117,
          13.354759216308594,
          12.55366325378418,
          15.258991241455078,
          13.148355484008789,
          14.842312812805176,
          14.666492462158203,
          14.759038925170898,
          13.427070617675781,
          15.006699562072754,
          12.692081451416016,
          14.973722457885742,
          14.456280708312988,
          7.470143795013428,
          -10.020120620727539,
          14.183648109436035,
          14.41313648223877,
          13.653315544128418,
          12.345779418945312,
          14.79903507232666,
          13.876255989074707,
          12.52689266204834,
          12.635934829711914,
          14.463656425476074,
          12.473196983337402,
          13.798423767089844,
          14.441843032836914,
          14.023550987243652,
          14.205446243286133,
          12.602527618408203,
          14.263558387756348
         ],
         "xaxis": "x",
         "y": [
          6.628660678863525,
          5.08535099029541,
          4.400852203369141,
          5.957508563995361,
          4.469456672668457,
          6.25422477722168,
          4.75008487701416,
          5.669484615325928,
          2.0356974601745605,
          6.015429496765137,
          4.456655025482178,
          5.486432075500488,
          6.475314617156982,
          2.0379247665405273,
          6.788584232330322,
          4.823711395263672,
          6.484131813049316,
          5.089359760284424,
          6.770166873931885,
          4.497056007385254,
          4.275320053100586,
          4.833056449890137,
          2.098951578140259,
          6.170943737030029,
          4.540781021118164,
          6.716885566711426,
          4.687206745147705,
          9.66892147064209,
          3.192425012588501,
          4.510004043579102,
          4.289458274841309,
          6.693904876708984,
          4.310218811035156,
          4.714066982269287,
          6.6371259689331055,
          6.214550495147705,
          6.3086748123168945,
          2.1870620250701904,
          5.903302192687988,
          4.467947006225586,
          6.604689121246338,
          5.766393184661865,
          4.635831832885742,
          5.025604248046875,
          4.691566467285156,
          6.738297462463379,
          6.7351202964782715,
          5.520009517669678,
          4.675492763519287,
          6.584479331970215,
          2.0260889530181885,
          4.749248504638672,
          4.4299116134643555,
          5.236698150634766,
          6.787608623504639,
          6.16699743270874,
          6.6368937492370605,
          6.405625343322754,
          4.6692609786987305,
          4.472839832305908,
          3.200385093688965,
          5.07641077041626,
          4.721158504486084,
          4.7903151512146,
          6.063965797424316,
          4.628696918487549,
          5.4277024269104,
          4.554563522338867,
          4.614908695220947,
          5.527645587921143,
          4.65713357925415,
          5.525935649871826,
          5.165389060974121,
          6.6949567794799805,
          5.072134971618652,
          6.40932035446167,
          5.274795055389404,
          5.1237592697143555,
          2.038649082183838,
          4.413846492767334,
          6.568416118621826,
          3.193629503250122,
          4.595681667327881,
          5.217002868652344,
          4.962071418762207,
          6.215625762939453,
          5.20638370513916,
          4.451150417327881,
          6.159643173217773,
          4.7613677978515625,
          6.362619876861572
         ],
         "yaxis": "y"
        },
        {
         "hovertemplate": "<b>%{hovertext}</b><br><br>Topic=PoliticalDiscussion<br>UMAP1=%{x}<br>UMAP2=%{y}<extra></extra>",
         "hovertext": [
          "Subreddit: PoliticalDiscussion<br>Cluster Summary: Safe: Encourages critical thinking, prompts discussion without manipulation.",
          "Subreddit: PoliticalDiscussion<br>Cluster Summary: Post is potentially manipulative, uses sensational language, lacks context.",
          "Subreddit: PoliticalDiscussion<br>Cluster Summary: Safe: Encourages critical thinking, prompts discussion without manipulation.",
          "Subreddit: PoliticalDiscussion<br>Cluster Summary: Safe: Encourages critical thinking, prompts discussion without manipulation.",
          "Subreddit: PoliticalDiscussion<br>Cluster Summary: Post is potentially manipulative, uses sensational language, lacks context.",
          "Subreddit: PoliticalDiscussion<br>Cluster Summary: Safe: Encourages critical thinking, prompts discussion without manipulation.",
          "Subreddit: PoliticalDiscussion<br>Cluster Summary: Post is potentially manipulative, uses sensational language, lacks context.",
          "Subreddit: PoliticalDiscussion<br>Cluster Summary: Safe: Encourages critical thinking, prompts discussion without manipulation.",
          "Subreddit: PoliticalDiscussion<br>Cluster Summary: Safe: Encourages critical thinking, prompts discussion without manipulation."
         ],
         "legendgroup": "PoliticalDiscussion",
         "marker": {
          "color": "#19d3f3",
          "symbol": "circle"
         },
         "mode": "markers",
         "name": "PoliticalDiscussion",
         "orientation": "v",
         "showlegend": true,
         "type": "scatter",
         "x": [
          5.3963422775268555,
          6.496321678161621,
          5.88091516494751,
          5.068652629852295,
          5.2748565673828125,
          5.126896858215332,
          6.410647869110107,
          5.1238484382629395,
          5.373676300048828
         ],
         "xaxis": "x",
         "y": [
          6.42460298538208,
          0.42217618227005005,
          7.066403388977051,
          3.2259373664855957,
          2.9240920543670654,
          3.145334482192993,
          -0.17845593392848969,
          3.151066303253174,
          6.419360160827637
         ],
         "yaxis": "y"
        }
       ],
       "layout": {
        "height": 450,
        "legend": {
         "title": {
          "text": "Topic"
         },
         "tracegroupgap": 0
        },
        "template": {
         "data": {
          "bar": [
           {
            "error_x": {
             "color": "#2a3f5f"
            },
            "error_y": {
             "color": "#2a3f5f"
            },
            "marker": {
             "line": {
              "color": "#E5ECF6",
              "width": 0.5
             },
             "pattern": {
              "fillmode": "overlay",
              "size": 10,
              "solidity": 0.2
             }
            },
            "type": "bar"
           }
          ],
          "barpolar": [
           {
            "marker": {
             "line": {
              "color": "#E5ECF6",
              "width": 0.5
             },
             "pattern": {
              "fillmode": "overlay",
              "size": 10,
              "solidity": 0.2
             }
            },
            "type": "barpolar"
           }
          ],
          "carpet": [
           {
            "aaxis": {
             "endlinecolor": "#2a3f5f",
             "gridcolor": "white",
             "linecolor": "white",
             "minorgridcolor": "white",
             "startlinecolor": "#2a3f5f"
            },
            "baxis": {
             "endlinecolor": "#2a3f5f",
             "gridcolor": "white",
             "linecolor": "white",
             "minorgridcolor": "white",
             "startlinecolor": "#2a3f5f"
            },
            "type": "carpet"
           }
          ],
          "choropleth": [
           {
            "colorbar": {
             "outlinewidth": 0,
             "ticks": ""
            },
            "type": "choropleth"
           }
          ],
          "contour": [
           {
            "colorbar": {
             "outlinewidth": 0,
             "ticks": ""
            },
            "colorscale": [
             [
              0,
              "#0d0887"
             ],
             [
              0.1111111111111111,
              "#46039f"
             ],
             [
              0.2222222222222222,
              "#7201a8"
             ],
             [
              0.3333333333333333,
              "#9c179e"
             ],
             [
              0.4444444444444444,
              "#bd3786"
             ],
             [
              0.5555555555555556,
              "#d8576b"
             ],
             [
              0.6666666666666666,
              "#ed7953"
             ],
             [
              0.7777777777777778,
              "#fb9f3a"
             ],
             [
              0.8888888888888888,
              "#fdca26"
             ],
             [
              1,
              "#f0f921"
             ]
            ],
            "type": "contour"
           }
          ],
          "contourcarpet": [
           {
            "colorbar": {
             "outlinewidth": 0,
             "ticks": ""
            },
            "type": "contourcarpet"
           }
          ],
          "heatmap": [
           {
            "colorbar": {
             "outlinewidth": 0,
             "ticks": ""
            },
            "colorscale": [
             [
              0,
              "#0d0887"
             ],
             [
              0.1111111111111111,
              "#46039f"
             ],
             [
              0.2222222222222222,
              "#7201a8"
             ],
             [
              0.3333333333333333,
              "#9c179e"
             ],
             [
              0.4444444444444444,
              "#bd3786"
             ],
             [
              0.5555555555555556,
              "#d8576b"
             ],
             [
              0.6666666666666666,
              "#ed7953"
             ],
             [
              0.7777777777777778,
              "#fb9f3a"
             ],
             [
              0.8888888888888888,
              "#fdca26"
             ],
             [
              1,
              "#f0f921"
             ]
            ],
            "type": "heatmap"
           }
          ],
          "heatmapgl": [
           {
            "colorbar": {
             "outlinewidth": 0,
             "ticks": ""
            },
            "colorscale": [
             [
              0,
              "#0d0887"
             ],
             [
              0.1111111111111111,
              "#46039f"
             ],
             [
              0.2222222222222222,
              "#7201a8"
             ],
             [
              0.3333333333333333,
              "#9c179e"
             ],
             [
              0.4444444444444444,
              "#bd3786"
             ],
             [
              0.5555555555555556,
              "#d8576b"
             ],
             [
              0.6666666666666666,
              "#ed7953"
             ],
             [
              0.7777777777777778,
              "#fb9f3a"
             ],
             [
              0.8888888888888888,
              "#fdca26"
             ],
             [
              1,
              "#f0f921"
             ]
            ],
            "type": "heatmapgl"
           }
          ],
          "histogram": [
           {
            "marker": {
             "pattern": {
              "fillmode": "overlay",
              "size": 10,
              "solidity": 0.2
             }
            },
            "type": "histogram"
           }
          ],
          "histogram2d": [
           {
            "colorbar": {
             "outlinewidth": 0,
             "ticks": ""
            },
            "colorscale": [
             [
              0,
              "#0d0887"
             ],
             [
              0.1111111111111111,
              "#46039f"
             ],
             [
              0.2222222222222222,
              "#7201a8"
             ],
             [
              0.3333333333333333,
              "#9c179e"
             ],
             [
              0.4444444444444444,
              "#bd3786"
             ],
             [
              0.5555555555555556,
              "#d8576b"
             ],
             [
              0.6666666666666666,
              "#ed7953"
             ],
             [
              0.7777777777777778,
              "#fb9f3a"
             ],
             [
              0.8888888888888888,
              "#fdca26"
             ],
             [
              1,
              "#f0f921"
             ]
            ],
            "type": "histogram2d"
           }
          ],
          "histogram2dcontour": [
           {
            "colorbar": {
             "outlinewidth": 0,
             "ticks": ""
            },
            "colorscale": [
             [
              0,
              "#0d0887"
             ],
             [
              0.1111111111111111,
              "#46039f"
             ],
             [
              0.2222222222222222,
              "#7201a8"
             ],
             [
              0.3333333333333333,
              "#9c179e"
             ],
             [
              0.4444444444444444,
              "#bd3786"
             ],
             [
              0.5555555555555556,
              "#d8576b"
             ],
             [
              0.6666666666666666,
              "#ed7953"
             ],
             [
              0.7777777777777778,
              "#fb9f3a"
             ],
             [
              0.8888888888888888,
              "#fdca26"
             ],
             [
              1,
              "#f0f921"
             ]
            ],
            "type": "histogram2dcontour"
           }
          ],
          "mesh3d": [
           {
            "colorbar": {
             "outlinewidth": 0,
             "ticks": ""
            },
            "type": "mesh3d"
           }
          ],
          "parcoords": [
           {
            "line": {
             "colorbar": {
              "outlinewidth": 0,
              "ticks": ""
             }
            },
            "type": "parcoords"
           }
          ],
          "pie": [
           {
            "automargin": true,
            "type": "pie"
           }
          ],
          "scatter": [
           {
            "fillpattern": {
             "fillmode": "overlay",
             "size": 10,
             "solidity": 0.2
            },
            "type": "scatter"
           }
          ],
          "scatter3d": [
           {
            "line": {
             "colorbar": {
              "outlinewidth": 0,
              "ticks": ""
             }
            },
            "marker": {
             "colorbar": {
              "outlinewidth": 0,
              "ticks": ""
             }
            },
            "type": "scatter3d"
           }
          ],
          "scattercarpet": [
           {
            "marker": {
             "colorbar": {
              "outlinewidth": 0,
              "ticks": ""
             }
            },
            "type": "scattercarpet"
           }
          ],
          "scattergeo": [
           {
            "marker": {
             "colorbar": {
              "outlinewidth": 0,
              "ticks": ""
             }
            },
            "type": "scattergeo"
           }
          ],
          "scattergl": [
           {
            "marker": {
             "colorbar": {
              "outlinewidth": 0,
              "ticks": ""
             }
            },
            "type": "scattergl"
           }
          ],
          "scattermapbox": [
           {
            "marker": {
             "colorbar": {
              "outlinewidth": 0,
              "ticks": ""
             }
            },
            "type": "scattermapbox"
           }
          ],
          "scatterpolar": [
           {
            "marker": {
             "colorbar": {
              "outlinewidth": 0,
              "ticks": ""
             }
            },
            "type": "scatterpolar"
           }
          ],
          "scatterpolargl": [
           {
            "marker": {
             "colorbar": {
              "outlinewidth": 0,
              "ticks": ""
             }
            },
            "type": "scatterpolargl"
           }
          ],
          "scatterternary": [
           {
            "marker": {
             "colorbar": {
              "outlinewidth": 0,
              "ticks": ""
             }
            },
            "type": "scatterternary"
           }
          ],
          "surface": [
           {
            "colorbar": {
             "outlinewidth": 0,
             "ticks": ""
            },
            "colorscale": [
             [
              0,
              "#0d0887"
             ],
             [
              0.1111111111111111,
              "#46039f"
             ],
             [
              0.2222222222222222,
              "#7201a8"
             ],
             [
              0.3333333333333333,
              "#9c179e"
             ],
             [
              0.4444444444444444,
              "#bd3786"
             ],
             [
              0.5555555555555556,
              "#d8576b"
             ],
             [
              0.6666666666666666,
              "#ed7953"
             ],
             [
              0.7777777777777778,
              "#fb9f3a"
             ],
             [
              0.8888888888888888,
              "#fdca26"
             ],
             [
              1,
              "#f0f921"
             ]
            ],
            "type": "surface"
           }
          ],
          "table": [
           {
            "cells": {
             "fill": {
              "color": "#EBF0F8"
             },
             "line": {
              "color": "white"
             }
            },
            "header": {
             "fill": {
              "color": "#C8D4E3"
             },
             "line": {
              "color": "white"
             }
            },
            "type": "table"
           }
          ]
         },
         "layout": {
          "annotationdefaults": {
           "arrowcolor": "#2a3f5f",
           "arrowhead": 0,
           "arrowwidth": 1
          },
          "autotypenumbers": "strict",
          "coloraxis": {
           "colorbar": {
            "outlinewidth": 0,
            "ticks": ""
           }
          },
          "colorscale": {
           "diverging": [
            [
             0,
             "#8e0152"
            ],
            [
             0.1,
             "#c51b7d"
            ],
            [
             0.2,
             "#de77ae"
            ],
            [
             0.3,
             "#f1b6da"
            ],
            [
             0.4,
             "#fde0ef"
            ],
            [
             0.5,
             "#f7f7f7"
            ],
            [
             0.6,
             "#e6f5d0"
            ],
            [
             0.7,
             "#b8e186"
            ],
            [
             0.8,
             "#7fbc41"
            ],
            [
             0.9,
             "#4d9221"
            ],
            [
             1,
             "#276419"
            ]
           ],
           "sequential": [
            [
             0,
             "#0d0887"
            ],
            [
             0.1111111111111111,
             "#46039f"
            ],
            [
             0.2222222222222222,
             "#7201a8"
            ],
            [
             0.3333333333333333,
             "#9c179e"
            ],
            [
             0.4444444444444444,
             "#bd3786"
            ],
            [
             0.5555555555555556,
             "#d8576b"
            ],
            [
             0.6666666666666666,
             "#ed7953"
            ],
            [
             0.7777777777777778,
             "#fb9f3a"
            ],
            [
             0.8888888888888888,
             "#fdca26"
            ],
            [
             1,
             "#f0f921"
            ]
           ],
           "sequentialminus": [
            [
             0,
             "#0d0887"
            ],
            [
             0.1111111111111111,
             "#46039f"
            ],
            [
             0.2222222222222222,
             "#7201a8"
            ],
            [
             0.3333333333333333,
             "#9c179e"
            ],
            [
             0.4444444444444444,
             "#bd3786"
            ],
            [
             0.5555555555555556,
             "#d8576b"
            ],
            [
             0.6666666666666666,
             "#ed7953"
            ],
            [
             0.7777777777777778,
             "#fb9f3a"
            ],
            [
             0.8888888888888888,
             "#fdca26"
            ],
            [
             1,
             "#f0f921"
            ]
           ]
          },
          "colorway": [
           "#636efa",
           "#EF553B",
           "#00cc96",
           "#ab63fa",
           "#FFA15A",
           "#19d3f3",
           "#FF6692",
           "#B6E880",
           "#FF97FF",
           "#FECB52"
          ],
          "font": {
           "color": "#2a3f5f"
          },
          "geo": {
           "bgcolor": "white",
           "lakecolor": "white",
           "landcolor": "#E5ECF6",
           "showlakes": true,
           "showland": true,
           "subunitcolor": "white"
          },
          "hoverlabel": {
           "align": "left"
          },
          "hovermode": "closest",
          "mapbox": {
           "style": "light"
          },
          "paper_bgcolor": "white",
          "plot_bgcolor": "#E5ECF6",
          "polar": {
           "angularaxis": {
            "gridcolor": "white",
            "linecolor": "white",
            "ticks": ""
           },
           "bgcolor": "#E5ECF6",
           "radialaxis": {
            "gridcolor": "white",
            "linecolor": "white",
            "ticks": ""
           }
          },
          "scene": {
           "xaxis": {
            "backgroundcolor": "#E5ECF6",
            "gridcolor": "white",
            "gridwidth": 2,
            "linecolor": "white",
            "showbackground": true,
            "ticks": "",
            "zerolinecolor": "white"
           },
           "yaxis": {
            "backgroundcolor": "#E5ECF6",
            "gridcolor": "white",
            "gridwidth": 2,
            "linecolor": "white",
            "showbackground": true,
            "ticks": "",
            "zerolinecolor": "white"
           },
           "zaxis": {
            "backgroundcolor": "#E5ECF6",
            "gridcolor": "white",
            "gridwidth": 2,
            "linecolor": "white",
            "showbackground": true,
            "ticks": "",
            "zerolinecolor": "white"
           }
          },
          "shapedefaults": {
           "line": {
            "color": "#2a3f5f"
           }
          },
          "ternary": {
           "aaxis": {
            "gridcolor": "white",
            "linecolor": "white",
            "ticks": ""
           },
           "baxis": {
            "gridcolor": "white",
            "linecolor": "white",
            "ticks": ""
           },
           "bgcolor": "#E5ECF6",
           "caxis": {
            "gridcolor": "white",
            "linecolor": "white",
            "ticks": ""
           }
          },
          "title": {
           "x": 0.05
          },
          "xaxis": {
           "automargin": true,
           "gridcolor": "white",
           "linecolor": "white",
           "ticks": "",
           "title": {
            "standoff": 15
           },
           "zerolinecolor": "white",
           "zerolinewidth": 2
          },
          "yaxis": {
           "automargin": true,
           "gridcolor": "white",
           "linecolor": "white",
           "ticks": "",
           "title": {
            "standoff": 15
           },
           "zerolinecolor": "white",
           "zerolinewidth": 2
          }
         }
        },
        "title": {
         "text": "UMAP Visualization of ChatGPT Responses"
        },
        "width": 800,
        "xaxis": {
         "anchor": "y",
         "domain": [
          0,
          1
         ],
         "title": {
          "text": "UMAP1"
         }
        },
        "yaxis": {
         "anchor": "x",
         "domain": [
          0,
          1
         ],
         "title": {
          "text": "UMAP2"
         }
        }
       }
      },
      "text/html": [
       "<div>                            <div id=\"b49e4acd-c737-4c45-9fa5-ab06d088e0de\" class=\"plotly-graph-div\" style=\"height:450px; width:800px;\"></div>            <script type=\"text/javascript\">                require([\"plotly\"], function(Plotly) {                    window.PLOTLYENV=window.PLOTLYENV || {};                                    if (document.getElementById(\"b49e4acd-c737-4c45-9fa5-ab06d088e0de\")) {                    Plotly.newPlot(                        \"b49e4acd-c737-4c45-9fa5-ab06d088e0de\",                        [{\"hovertemplate\":\"\\u003cb\\u003e%{hovertext}\\u003c\\u002fb\\u003e\\u003cbr\\u003e\\u003cbr\\u003eTopic=history\\u003cbr\\u003eUMAP1=%{x}\\u003cbr\\u003eUMAP2=%{y}\\u003cextra\\u003e\\u003c\\u002fextra\\u003e\",\"hovertext\":[\"Subreddit: history\\u003cbr\\u003eCluster Summary: _SAFE_ Post shares historical information without manipulation or deception.\",\"Subreddit: history\\u003cbr\\u003eCluster Summary: _SAFE_ Post shares historical information without manipulation or deception.\",\"Subreddit: history\\u003cbr\\u003eCluster Summary: SAFE: Repeated use to emphasize security and trust.\",\"Subreddit: history\\u003cbr\\u003eCluster Summary: SAFE: Repeated use to emphasize security and trust.\",\"Subreddit: history\\u003cbr\\u003eCluster Summary: _SAFE_ Post shares historical information without manipulation or deception.\",\"Subreddit: history\\u003cbr\\u003eCluster Summary: _SAFE_ Post shares historical information without manipulation or deception.\",\"Subreddit: history\\u003cbr\\u003eCluster Summary: Safe: Encourages critical thinking, prompts discussion without manipulation.\",\"Subreddit: history\\u003cbr\\u003eCluster Summary: _SAFE_ Post shares historical information without manipulation or deception.\",\"Subreddit: history\\u003cbr\\u003eCluster Summary: _SAFE_ Post shares historical information without manipulation or deception.\",\"Subreddit: history\\u003cbr\\u003eCluster Summary: SAFE: Repeated use to emphasize security and trust.\",\"Subreddit: history\\u003cbr\\u003eCluster Summary: Safe: Encourages critical thinking, prompts discussion without manipulation.\",\"Subreddit: history\\u003cbr\\u003eCluster Summary: _SAFE_ Post shares historical information without manipulation or deception.\",\"Subreddit: history\\u003cbr\\u003eCluster Summary: SAFE: Repeated use to emphasize security and trust.\",\"Subreddit: history\\u003cbr\\u003eCluster Summary: _SAFE_ Post shares historical information without manipulation or deception.\",\"Subreddit: history\\u003cbr\\u003eCluster Summary: SAFE: Repeated use to emphasize security and trust.\"],\"legendgroup\":\"history\",\"marker\":{\"color\":\"#636efa\",\"symbol\":\"circle\"},\"mode\":\"markers\",\"name\":\"history\",\"orientation\":\"v\",\"showlegend\":true,\"x\":[5.962364673614502,5.861822605133057,-9.773815155029297,-10.093233108520508,5.529618263244629,5.592855930328369,5.984560966491699,5.561473846435547,5.812093734741211,-9.743268966674805,5.87970495223999,5.532888889312744,-9.778428077697754,4.596989154815674,-9.725125312805176],\"xaxis\":\"x\",\"y\":[9.397680282592773,9.500936508178711,4.721045017242432,4.881375789642334,9.745732307434082,9.776307106018066,6.483159065246582,9.755523681640625,9.540788650512695,5.095818519592285,7.158900737762451,9.747212409973145,4.903075218200684,9.813193321228027,4.9712958335876465],\"yaxis\":\"y\",\"type\":\"scatter\"},{\"hovertemplate\":\"\\u003cb\\u003e%{hovertext}\\u003c\\u002fb\\u003e\\u003cbr\\u003e\\u003cbr\\u003eTopic=nfl\\u003cbr\\u003eUMAP1=%{x}\\u003cbr\\u003eUMAP2=%{y}\\u003cextra\\u003e\\u003c\\u002fextra\\u003e\",\"hovertext\":[\"Subreddit: nfl\\u003cbr\\u003eCluster Summary: Safe: Provides factual updates without manipulation or deception.\",\"Subreddit: nfl\\u003cbr\\u003eCluster Summary: Safe: Encourages critical thinking, prompts discussion without manipulation.\",\"Subreddit: nfl\\u003cbr\\u003eCluster Summary: Safe: Provides factual updates without manipulation or deception.\",\"Subreddit: nfl\\u003cbr\\u003eCluster Summary: Post is potentially manipulative, uses sensational language, lacks context.\",\"Subreddit: nfl\\u003cbr\\u003eCluster Summary: SAFE: Repeated use to emphasize security and trust.\",\"Subreddit: nfl\\u003cbr\\u003eCluster Summary: SAFE: Repeated use to emphasize security and trust.\",\"Subreddit: nfl\\u003cbr\\u003eCluster Summary: Safe: Provides factual updates without manipulation or deception.\",\"Subreddit: nfl\\u003cbr\\u003eCluster Summary: Safe: Provides factual updates without manipulation or deception.\",\"Subreddit: nfl\\u003cbr\\u003eCluster Summary: Safe: Provides factual updates without manipulation or deception.\",\"Subreddit: nfl\\u003cbr\\u003eCluster Summary: Safe: Provides factual updates without manipulation or deception.\",\"Subreddit: nfl\\u003cbr\\u003eCluster Summary: Safe: Provides factual updates without manipulation or deception.\",\"Subreddit: nfl\\u003cbr\\u003eCluster Summary: Safe: Provides factual updates without manipulation or deception.\",\"Subreddit: nfl\\u003cbr\\u003eCluster Summary: SAFE: Repeated use to emphasize security and trust.\",\"Subreddit: nfl\\u003cbr\\u003eCluster Summary: SAFE: Repeated use to emphasize security and trust.\",\"Subreddit: nfl\\u003cbr\\u003eCluster Summary: Safe: Provides factual updates without manipulation or deception.\",\"Subreddit: nfl\\u003cbr\\u003eCluster Summary: Safe: Encourages critical thinking, prompts discussion without manipulation.\",\"Subreddit: nfl\\u003cbr\\u003eCluster Summary: Safe: Provides factual updates without manipulation or deception.\",\"Subreddit: nfl\\u003cbr\\u003eCluster Summary: Safe: Encourages critical thinking, prompts discussion without manipulation.\",\"Subreddit: nfl\\u003cbr\\u003eCluster Summary: SAFE: Repeated use to emphasize security and trust.\",\"Subreddit: nfl\\u003cbr\\u003eCluster Summary: Safe: Provides factual updates without manipulation or deception.\",\"Subreddit: nfl\\u003cbr\\u003eCluster Summary: Safe: Seek genuine advice, share fitness journey, transparent intentions.\",\"Subreddit: nfl\\u003cbr\\u003eCluster Summary: Safe: Provides factual updates without manipulation or deception.\",\"Subreddit: nfl\\u003cbr\\u003eCluster Summary: Safe: Encourages critical thinking, prompts discussion without manipulation.\",\"Subreddit: nfl\\u003cbr\\u003eCluster Summary: Safe: Encourages critical thinking, prompts discussion without manipulation.\",\"Subreddit: nfl\\u003cbr\\u003eCluster Summary: Safe: Provides factual updates without manipulation or deception.\",\"Subreddit: nfl\\u003cbr\\u003eCluster Summary: Safe: Provides factual updates without manipulation or deception.\",\"Subreddit: nfl\\u003cbr\\u003eCluster Summary: SAFE: Repeated use to emphasize security and trust.\",\"Subreddit: nfl\\u003cbr\\u003eCluster Summary: Safe: Provides factual updates without manipulation or deception.\",\"Subreddit: nfl\\u003cbr\\u003eCluster Summary: Safe: Provides factual updates without manipulation or deception.\",\"Subreddit: nfl\\u003cbr\\u003eCluster Summary: SAFE: Repeated use to emphasize security and trust.\",\"Subreddit: nfl\\u003cbr\\u003eCluster Summary: SAFE: Repeated use to emphasize security and trust.\",\"Subreddit: nfl\\u003cbr\\u003eCluster Summary: Safe: Provides factual updates without manipulation or deception.\",\"Subreddit: nfl\\u003cbr\\u003eCluster Summary: Safe: Provides factual updates without manipulation or deception.\",\"Subreddit: nfl\\u003cbr\\u003eCluster Summary: Safe: Provides factual updates without manipulation or deception.\",\"Subreddit: nfl\\u003cbr\\u003eCluster Summary: Safe: Provides factual updates without manipulation or deception.\",\"Subreddit: nfl\\u003cbr\\u003eCluster Summary: Safe: Provides factual updates without manipulation or deception.\",\"Subreddit: nfl\\u003cbr\\u003eCluster Summary: Safe: Provides factual updates without manipulation or deception.\",\"Subreddit: nfl\\u003cbr\\u003eCluster Summary: Safe: Provides factual updates without manipulation or deception.\",\"Subreddit: nfl\\u003cbr\\u003eCluster Summary: SAFE: Repeated use to emphasize security and trust.\",\"Subreddit: nfl\\u003cbr\\u003eCluster Summary: SAFE: Repeated use to emphasize security and trust.\",\"Subreddit: nfl\\u003cbr\\u003eCluster Summary: _SAFE_ Post shares historical information without manipulation or deception.\",\"Subreddit: nfl\\u003cbr\\u003eCluster Summary: SAFE: Repeated use to emphasize security and trust.\",\"Subreddit: nfl\\u003cbr\\u003eCluster Summary: Safe: Provides factual updates without manipulation or deception.\",\"Subreddit: nfl\\u003cbr\\u003eCluster Summary: Safe: Provides factual updates without manipulation or deception.\",\"Subreddit: nfl\\u003cbr\\u003eCluster Summary: SAFE: Repeated use to emphasize security and trust.\",\"Subreddit: nfl\\u003cbr\\u003eCluster Summary: Safe: Provides factual updates without manipulation or deception.\",\"Subreddit: nfl\\u003cbr\\u003eCluster Summary: Safe: Provides factual updates without manipulation or deception.\",\"Subreddit: nfl\\u003cbr\\u003eCluster Summary: Safe: Provides factual updates without manipulation or deception.\",\"Subreddit: nfl\\u003cbr\\u003eCluster Summary: Safe: Provides factual updates without manipulation or deception.\",\"Subreddit: nfl\\u003cbr\\u003eCluster Summary: _SAFE_ Post shares historical information without manipulation or deception.\",\"Subreddit: nfl\\u003cbr\\u003eCluster Summary: SAFE: Repeated use to emphasize security and trust.\",\"Subreddit: nfl\\u003cbr\\u003eCluster Summary: Post is safe. Light-hearted observations, no intent to manipulate.\"],\"legendgroup\":\"nfl\",\"marker\":{\"color\":\"#EF553B\",\"symbol\":\"circle\"},\"mode\":\"markers\",\"name\":\"nfl\",\"orientation\":\"v\",\"showlegend\":true,\"x\":[5.606588363647461,5.476141452789307,5.875533103942871,6.470314025878906,-9.615989685058594,-9.704158782958984,5.768857479095459,5.626487731933594,5.643845558166504,5.621210098266602,5.81612491607666,5.620694637298584,-9.986272811889648,-9.851801872253418,5.903936862945557,5.786208152770996,5.6697797775268555,5.891477584838867,-9.686388969421387,5.645134925842285,15.016326904296875,5.525349140167236,5.959396839141846,5.873165130615234,5.489390850067139,5.493068218231201,-9.481005668640137,5.672384738922119,5.680723190307617,-9.869302749633789,-9.910968780517578,5.546466827392578,5.4735236167907715,5.655065059661865,5.584656238555908,5.63483190536499,5.7110209465026855,5.571409702301025,-9.685643196105957,-9.914056777954102,5.10066032409668,-9.965911865234375,5.662416458129883,5.6173295974731445,-9.555217742919922,5.606575965881348,5.615743637084961,5.384585857391357,5.744156360626221,5.342166423797607,-9.402010917663574,2.7590348720550537],\"xaxis\":\"x\",\"y\":[12.256706237792969,6.510409832000732,11.638715744018555,0.42528608441352844,4.387734413146973,4.726219177246094,13.786852836608887,12.177437782287598,13.814391136169434,13.897006034851074,11.70263957977295,13.888052940368652,5.08505392074585,4.973332405090332,11.616730690002441,6.635331153869629,12.514717102050781,7.001134872436523,4.897772789001465,13.718335151672363,5.5259175300598145,11.593465805053711,7.192645072937012,6.551534175872803,13.233192443847656,13.294853210449219,5.0706987380981445,13.83218765258789,12.51290225982666,4.605632781982422,5.209644794464111,12.346749305725098,11.581576347351074,12.044835090637207,11.83027458190918,12.210639953613281,13.785332679748535,11.799651145935059,4.742499828338623,4.314849853515625,9.911072731018066,4.494112014770508,11.949437141418457,13.89447021484375,4.578136444091797,11.930742263793945,12.242517471313477,11.356513977050781,11.7511568069458,10.82028865814209,4.788302421569824,8.791379928588867],\"yaxis\":\"y\",\"type\":\"scatter\"},{\"hovertemplate\":\"\\u003cb\\u003e%{hovertext}\\u003c\\u002fb\\u003e\\u003cbr\\u003e\\u003cbr\\u003eTopic=Showerthoughts\\u003cbr\\u003eUMAP1=%{x}\\u003cbr\\u003eUMAP2=%{y}\\u003cextra\\u003e\\u003c\\u002fextra\\u003e\",\"hovertext\":[\"Subreddit: Showerthoughts\\u003cbr\\u003eCluster Summary: Post is safe. Light-hearted observations, no intent to manipulate.\",\"Subreddit: Showerthoughts\\u003cbr\\u003eCluster Summary: SAFE: Repeated use to emphasize security and trust.\",\"Subreddit: Showerthoughts\\u003cbr\\u003eCluster Summary: Post is safe. Light-hearted observations, no intent to manipulate.\",\"Subreddit: Showerthoughts\\u003cbr\\u003eCluster Summary: Post is safe. Light-hearted observations, no intent to manipulate.\",\"Subreddit: Showerthoughts\\u003cbr\\u003eCluster Summary: Safe: Encourages critical thinking, prompts discussion without manipulation.\",\"Subreddit: Showerthoughts\\u003cbr\\u003eCluster Summary: Post is safe. Light-hearted observations, no intent to manipulate.\",\"Subreddit: Showerthoughts\\u003cbr\\u003eCluster Summary: SAFE: Repeated use to emphasize security and trust.\",\"Subreddit: Showerthoughts\\u003cbr\\u003eCluster Summary: Post is safe. Light-hearted observations, no intent to manipulate.\",\"Subreddit: Showerthoughts\\u003cbr\\u003eCluster Summary: Post is safe. Light-hearted observations, no intent to manipulate.\",\"Subreddit: Showerthoughts\\u003cbr\\u003eCluster Summary: Safe: Encourages critical thinking, prompts discussion without manipulation.\",\"Subreddit: Showerthoughts\\u003cbr\\u003eCluster Summary: SAFE: Repeated use to emphasize security and trust.\",\"Subreddit: Showerthoughts\\u003cbr\\u003eCluster Summary: Post is safe. Light-hearted observations, no intent to manipulate.\",\"Subreddit: Showerthoughts\\u003cbr\\u003eCluster Summary: Post is safe. Light-hearted observations, no intent to manipulate.\",\"Subreddit: Showerthoughts\\u003cbr\\u003eCluster Summary: Safe: Seek genuine advice, share fitness journey, transparent intentions.\",\"Subreddit: Showerthoughts\\u003cbr\\u003eCluster Summary: Post is safe. Light-hearted observations, no intent to manipulate.\",\"Subreddit: Showerthoughts\\u003cbr\\u003eCluster Summary: Post is safe. Light-hearted observations, no intent to manipulate.\",\"Subreddit: Showerthoughts\\u003cbr\\u003eCluster Summary: SAFE: Repeated use to emphasize security and trust.\",\"Subreddit: Showerthoughts\\u003cbr\\u003eCluster Summary: SAFE: Repeated use to emphasize security and trust.\",\"Subreddit: Showerthoughts\\u003cbr\\u003eCluster Summary: Post is safe. Light-hearted observations, no intent to manipulate.\",\"Subreddit: Showerthoughts\\u003cbr\\u003eCluster Summary: Post is safe. Light-hearted observations, no intent to manipulate.\",\"Subreddit: Showerthoughts\\u003cbr\\u003eCluster Summary: Safe: Encourages critical thinking, prompts discussion without manipulation.\",\"Subreddit: Showerthoughts\\u003cbr\\u003eCluster Summary: SAFE: Repeated use to emphasize security and trust.\",\"Subreddit: Showerthoughts\\u003cbr\\u003eCluster Summary: Safe: Encourages critical thinking, prompts discussion without manipulation.\",\"Subreddit: Showerthoughts\\u003cbr\\u003eCluster Summary: Safe: Encourages critical thinking, prompts discussion without manipulation.\",\"Subreddit: Showerthoughts\\u003cbr\\u003eCluster Summary: Safe: Encourages critical thinking, prompts discussion without manipulation.\",\"Subreddit: Showerthoughts\\u003cbr\\u003eCluster Summary: Post is safe. Light-hearted observations, no intent to manipulate.\",\"Subreddit: Showerthoughts\\u003cbr\\u003eCluster Summary: Post is safe. Light-hearted observations, no intent to manipulate.\",\"Subreddit: Showerthoughts\\u003cbr\\u003eCluster Summary: Post is safe. Light-hearted observations, no intent to manipulate.\",\"Subreddit: Showerthoughts\\u003cbr\\u003eCluster Summary: SAFE: Repeated use to emphasize security and trust.\",\"Subreddit: Showerthoughts\\u003cbr\\u003eCluster Summary: Post is safe. Light-hearted observations, no intent to manipulate.\",\"Subreddit: Showerthoughts\\u003cbr\\u003eCluster Summary: Safe: Encourages critical thinking, prompts discussion without manipulation.\",\"Subreddit: Showerthoughts\\u003cbr\\u003eCluster Summary: Post is safe. Light-hearted observations, no intent to manipulate.\",\"Subreddit: Showerthoughts\\u003cbr\\u003eCluster Summary: SAFE: Repeated use to emphasize security and trust.\",\"Subreddit: Showerthoughts\\u003cbr\\u003eCluster Summary: Post is safe. Light-hearted observations, no intent to manipulate.\",\"Subreddit: Showerthoughts\\u003cbr\\u003eCluster Summary: Post is safe. Light-hearted observations, no intent to manipulate.\",\"Subreddit: Showerthoughts\\u003cbr\\u003eCluster Summary: Post is safe. Light-hearted observations, no intent to manipulate.\",\"Subreddit: Showerthoughts\\u003cbr\\u003eCluster Summary: Post is safe. Light-hearted observations, no intent to manipulate.\",\"Subreddit: Showerthoughts\\u003cbr\\u003eCluster Summary: _SAFE_ Post shares historical information without manipulation or deception.\",\"Subreddit: Showerthoughts\\u003cbr\\u003eCluster Summary: Safe: Encourages critical thinking, prompts discussion without manipulation.\",\"Subreddit: Showerthoughts\\u003cbr\\u003eCluster Summary: SAFE: Repeated use to emphasize security and trust.\",\"Subreddit: Showerthoughts\\u003cbr\\u003eCluster Summary: SAFE: Repeated use to emphasize security and trust.\",\"Subreddit: Showerthoughts\\u003cbr\\u003eCluster Summary: Post is safe. Light-hearted observations, no intent to manipulate.\",\"Subreddit: Showerthoughts\\u003cbr\\u003eCluster Summary: Safe: Encourages critical thinking, prompts discussion without manipulation.\"],\"legendgroup\":\"Showerthoughts\",\"marker\":{\"color\":\"#00cc96\",\"symbol\":\"circle\"},\"mode\":\"markers\",\"name\":\"Showerthoughts\",\"orientation\":\"v\",\"showlegend\":true,\"x\":[2.7096407413482666,-9.867746353149414,3.186734199523926,2.714738368988037,5.987282752990723,2.7085888385772705,-9.516913414001465,3.0408236980438232,3.194943904876709,6.024428844451904,-9.792133331298828,1.917331576347351,2.0131218433380127,13.054011344909668,2.164555311203003,1.9442501068115234,-9.456135749816895,-9.687984466552734,3.05696702003479,1.9397903680801392,5.8456292152404785,-9.500396728515625,5.78930139541626,6.3883771896362305,6.0529704093933105,2.7200064659118652,3.227904796600342,1.9749928712844849,-9.659964561462402,2.120643377304077,6.382026195526123,2.367109537124634,-9.801177024841309,2.701151132583618,2.0634169578552246,2.9675841331481934,2.6976819038391113,5.021533489227295,5.630030155181885,-9.426193237304688,-9.588170051574707,3.129779815673828,6.374147415161133],\"xaxis\":\"x\",\"y\":[8.917986869812012,4.960732936859131,9.213831901550293,8.927223205566406,6.347752094268799,8.469539642333984,4.572456359863281,9.074763298034668,9.236554145812988,6.510390758514404,4.946750640869141,9.030852317810059,9.20230770111084,6.011883735656738,9.316411018371582,9.127410888671875,4.648387908935547,5.10426664352417,9.181469917297363,9.13457202911377,7.181178569793701,4.71087121963501,7.280675411224365,6.720485687255859,6.4095354080200195,8.730050086975098,9.299549102783203,9.169533729553223,5.178018093109131,9.32618522644043,6.795680999755859,9.362462997436523,4.807097434997559,8.588357925415039,9.267484664916992,9.131349563598633,8.628150939941406,9.817428588867188,6.4706549644470215,5.110828876495361,4.9701924324035645,9.220172882080078,6.726762771606445],\"yaxis\":\"y\",\"type\":\"scatter\"},{\"hovertemplate\":\"\\u003cb\\u003e%{hovertext}\\u003c\\u002fb\\u003e\\u003cbr\\u003e\\u003cbr\\u003eTopic=politics\\u003cbr\\u003eUMAP1=%{x}\\u003cbr\\u003eUMAP2=%{y}\\u003cextra\\u003e\\u003c\\u002fextra\\u003e\",\"hovertext\":[\"Subreddit: politics\\u003cbr\\u003eCluster Summary: SAFE: Repeated use to emphasize security and trust.\",\"Subreddit: politics\\u003cbr\\u003eCluster Summary: Post is potentially manipulative, uses sensational language, lacks context.\",\"Subreddit: politics\\u003cbr\\u003eCluster Summary: Safe: Encourages critical thinking, prompts discussion without manipulation.\",\"Subreddit: politics\\u003cbr\\u003eCluster Summary: Post is potentially manipulative, uses sensational language, lacks context.\",\"Subreddit: politics\\u003cbr\\u003eCluster Summary: Post is potentially manipulative, uses sensational language, lacks context.\",\"Subreddit: politics\\u003cbr\\u003eCluster Summary: Post is potentially manipulative, uses sensational language, lacks context.\",\"Subreddit: politics\\u003cbr\\u003eCluster Summary: SAFE: Repeated use to emphasize security and trust.\",\"Subreddit: politics\\u003cbr\\u003eCluster Summary: Post is potentially manipulative, uses sensational language, lacks context.\",\"Subreddit: politics\\u003cbr\\u003eCluster Summary: SAFE: Repeated use to emphasize security and trust.\",\"Subreddit: politics\\u003cbr\\u003eCluster Summary: _SAFE_ Post shares historical information without manipulation or deception.\",\"Subreddit: politics\\u003cbr\\u003eCluster Summary: Post is potentially manipulative, uses sensational language, lacks context.\",\"Subreddit: politics\\u003cbr\\u003eCluster Summary: SAFE: Repeated use to emphasize security and trust.\",\"Subreddit: politics\\u003cbr\\u003eCluster Summary: _SAFE_ Post shares historical information without manipulation or deception.\",\"Subreddit: politics\\u003cbr\\u003eCluster Summary: Post is potentially manipulative, uses sensational language, lacks context.\",\"Subreddit: politics\\u003cbr\\u003eCluster Summary: _SAFE_ Post shares historical information without manipulation or deception.\",\"Subreddit: politics\\u003cbr\\u003eCluster Summary: Post is potentially manipulative, uses sensational language, lacks context.\",\"Subreddit: politics\\u003cbr\\u003eCluster Summary: Post is potentially manipulative, uses sensational language, lacks context.\",\"Subreddit: politics\\u003cbr\\u003eCluster Summary: _SAFE_ Post shares historical information without manipulation or deception.\",\"Subreddit: politics\\u003cbr\\u003eCluster Summary: Post is potentially manipulative, uses sensational language, lacks context.\",\"Subreddit: politics\\u003cbr\\u003eCluster Summary: Post is potentially manipulative, uses sensational language, lacks context.\",\"Subreddit: politics\\u003cbr\\u003eCluster Summary: Post is potentially manipulative, uses sensational language, lacks context.\",\"Subreddit: politics\\u003cbr\\u003eCluster Summary: SAFE: Repeated use to emphasize security and trust.\",\"Subreddit: politics\\u003cbr\\u003eCluster Summary: SAFE: Repeated use to emphasize security and trust.\",\"Subreddit: politics\\u003cbr\\u003eCluster Summary: SAFE: Repeated use to emphasize security and trust.\",\"Subreddit: politics\\u003cbr\\u003eCluster Summary: Post is potentially manipulative, uses sensational language, lacks context.\",\"Subreddit: politics\\u003cbr\\u003eCluster Summary: SAFE: Repeated use to emphasize security and trust.\",\"Subreddit: politics\\u003cbr\\u003eCluster Summary: SAFE: Repeated use to emphasize security and trust.\",\"Subreddit: politics\\u003cbr\\u003eCluster Summary: SAFE: Repeated use to emphasize security and trust.\",\"Subreddit: politics\\u003cbr\\u003eCluster Summary: Post is potentially manipulative, uses sensational language, lacks context.\",\"Subreddit: politics\\u003cbr\\u003eCluster Summary: _SAFE_ Post shares historical information without manipulation or deception.\",\"Subreddit: politics\\u003cbr\\u003eCluster Summary: SAFE: Repeated use to emphasize security and trust.\",\"Subreddit: politics\\u003cbr\\u003eCluster Summary: Post is potentially manipulative, uses sensational language, lacks context.\",\"Subreddit: politics\\u003cbr\\u003eCluster Summary: Post is potentially manipulative, uses sensational language, lacks context.\",\"Subreddit: politics\\u003cbr\\u003eCluster Summary: _SAFE_ Post shares historical information without manipulation or deception.\",\"Subreddit: politics\\u003cbr\\u003eCluster Summary: Post is potentially manipulative, uses sensational language, lacks context.\",\"Subreddit: politics\\u003cbr\\u003eCluster Summary: Safe: Encourages critical thinking, prompts discussion without manipulation.\",\"Subreddit: politics\\u003cbr\\u003eCluster Summary: Safe: Encourages critical thinking, prompts discussion without manipulation.\",\"Subreddit: politics\\u003cbr\\u003eCluster Summary: SAFE: Repeated use to emphasize security and trust.\",\"Subreddit: politics\\u003cbr\\u003eCluster Summary: SAFE: Repeated use to emphasize security and trust.\",\"Subreddit: politics\\u003cbr\\u003eCluster Summary: Post is potentially manipulative, uses sensational language, lacks context.\",\"Subreddit: politics\\u003cbr\\u003eCluster Summary: SAFE: Repeated use to emphasize security and trust.\",\"Subreddit: politics\\u003cbr\\u003eCluster Summary: Post is potentially manipulative, uses sensational language, lacks context.\",\"Subreddit: politics\\u003cbr\\u003eCluster Summary: Post is potentially manipulative, uses sensational language, lacks context.\",\"Subreddit: politics\\u003cbr\\u003eCluster Summary: Post is potentially manipulative, uses sensational language, lacks context.\"],\"legendgroup\":\"politics\",\"marker\":{\"color\":\"#ab63fa\",\"symbol\":\"circle\"},\"mode\":\"markers\",\"name\":\"politics\",\"orientation\":\"v\",\"showlegend\":true,\"x\":[-10.003913879394531,6.349736213684082,6.413849353790283,6.474038600921631,6.449249744415283,6.443673133850098,-10.088417053222656,6.173236846923828,-9.976712226867676,5.388221740722656,6.451805114746094,-9.679624557495117,4.947319507598877,5.376386642456055,5.056051254272461,5.52988338470459,5.342099189758301,5.006575584411621,5.328115463256836,6.404527187347412,6.183262825012207,-9.47701644897461,-9.99240779876709,-9.986333847045898,6.177961826324463,-10.187515258789062,-9.717257499694824,-9.742358207702637,6.407072067260742,5.015838623046875,-9.944267272949219,6.459078788757324,6.3852925300598145,4.844274044036865,6.481350898742676,6.389274597167969,6.389705181121826,-9.47128963470459,-9.74651050567627,6.474653244018555,-10.008017539978027,5.366571426391602,6.480254650115967,5.311887741088867],\"xaxis\":\"x\",\"y\":[4.803302764892578,-0.28359144926071167,6.703024864196777,0.2526194453239441,0.5611591935157776,0.6551498770713806,4.923649311065674,1.3788464069366455,4.575007438659668,3.131016731262207,0.0606546588242054,4.3176374435424805,9.670595169067383,2.6449568271636963,9.768135070800781,2.437473773956299,2.7600910663604736,9.597710609436035,2.805347204208374,0.594222366809845,1.3555296659469604,4.858905792236328,4.955453872680664,4.244233131408691,1.3703314065933228,4.988047122955322,4.788158416748047,5.05003023147583,-0.21531927585601807,9.723532676696777,4.891491413116455,0.16534332931041718,-0.24648821353912354,9.815450668334961,0.4057362675666809,6.7398576736450195,6.769095420837402,4.757717132568359,5.026216506958008,0.5798362493515015,4.659308910369873,2.5902318954467773,0.4969489574432373,2.843740701675415],\"yaxis\":\"y\",\"type\":\"scatter\"},{\"hovertemplate\":\"\\u003cb\\u003e%{hovertext}\\u003c\\u002fb\\u003e\\u003cbr\\u003e\\u003cbr\\u003eTopic=bodyweightfitness\\u003cbr\\u003eUMAP1=%{x}\\u003cbr\\u003eUMAP2=%{y}\\u003cextra\\u003e\\u003c\\u002fextra\\u003e\",\"hovertext\":[\"Subreddit: bodyweightfitness\\u003cbr\\u003eCluster Summary: Safe: Encourages critical thinking, prompts discussion without manipulation.\",\"Subreddit: bodyweightfitness\\u003cbr\\u003eCluster Summary: Safe: Seek genuine advice, share fitness journey, transparent intentions.\",\"Subreddit: bodyweightfitness\\u003cbr\\u003eCluster Summary: Safe: Seek genuine advice, share fitness journey, transparent intentions.\",\"Subreddit: bodyweightfitness\\u003cbr\\u003eCluster Summary: Safe: Seek genuine advice, share fitness journey, transparent intentions.\",\"Subreddit: bodyweightfitness\\u003cbr\\u003eCluster Summary: Safe: Seek genuine advice, share fitness journey, transparent intentions.\",\"Subreddit: bodyweightfitness\\u003cbr\\u003eCluster Summary: Safe: Seek genuine advice, share fitness journey, transparent intentions.\",\"Subreddit: bodyweightfitness\\u003cbr\\u003eCluster Summary: Safe: Seek genuine advice, share fitness journey, transparent intentions.\",\"Subreddit: bodyweightfitness\\u003cbr\\u003eCluster Summary: Safe: Seek genuine advice, share fitness journey, transparent intentions.\",\"Subreddit: bodyweightfitness\\u003cbr\\u003eCluster Summary: Safe: Seek genuine advice, share fitness journey, transparent intentions.\",\"Subreddit: bodyweightfitness\\u003cbr\\u003eCluster Summary: Safe: Seek genuine advice, share fitness journey, transparent intentions.\",\"Subreddit: bodyweightfitness\\u003cbr\\u003eCluster Summary: Safe: Seek genuine advice, share fitness journey, transparent intentions.\",\"Subreddit: bodyweightfitness\\u003cbr\\u003eCluster Summary: Safe: Seek genuine advice, share fitness journey, transparent intentions.\",\"Subreddit: bodyweightfitness\\u003cbr\\u003eCluster Summary: Safe: Seek genuine advice, share fitness journey, transparent intentions.\",\"Subreddit: bodyweightfitness\\u003cbr\\u003eCluster Summary: Safe: Seek genuine advice, share fitness journey, transparent intentions.\",\"Subreddit: bodyweightfitness\\u003cbr\\u003eCluster Summary: Safe: Seek genuine advice, share fitness journey, transparent intentions.\",\"Subreddit: bodyweightfitness\\u003cbr\\u003eCluster Summary: Safe: Seek genuine advice, share fitness journey, transparent intentions.\",\"Subreddit: bodyweightfitness\\u003cbr\\u003eCluster Summary: Safe: Seek genuine advice, share fitness journey, transparent intentions.\",\"Subreddit: bodyweightfitness\\u003cbr\\u003eCluster Summary: Safe: Seek genuine advice, share fitness journey, transparent intentions.\",\"Subreddit: bodyweightfitness\\u003cbr\\u003eCluster Summary: Safe: Encourages critical thinking, prompts discussion without manipulation.\",\"Subreddit: bodyweightfitness\\u003cbr\\u003eCluster Summary: Safe: Seek genuine advice, share fitness journey, transparent intentions.\",\"Subreddit: bodyweightfitness\\u003cbr\\u003eCluster Summary: Safe: Seek genuine advice, share fitness journey, transparent intentions.\",\"Subreddit: bodyweightfitness\\u003cbr\\u003eCluster Summary: Safe: Seek genuine advice, share fitness journey, transparent intentions.\",\"Subreddit: bodyweightfitness\\u003cbr\\u003eCluster Summary: Safe: Seek genuine advice, share fitness journey, transparent intentions.\",\"Subreddit: bodyweightfitness\\u003cbr\\u003eCluster Summary: Safe: Seek genuine advice, share fitness journey, transparent intentions.\",\"Subreddit: bodyweightfitness\\u003cbr\\u003eCluster Summary: Safe: Seek genuine advice, share fitness journey, transparent intentions.\",\"Subreddit: bodyweightfitness\\u003cbr\\u003eCluster Summary: Safe: Seek genuine advice, share fitness journey, transparent intentions.\",\"Subreddit: bodyweightfitness\\u003cbr\\u003eCluster Summary: Safe: Seek genuine advice, share fitness journey, transparent intentions.\",\"Subreddit: bodyweightfitness\\u003cbr\\u003eCluster Summary: _SAFE_ Post shares historical information without manipulation or deception.\",\"Subreddit: bodyweightfitness\\u003cbr\\u003eCluster Summary: Safe: Seek genuine advice, share fitness journey, transparent intentions.\",\"Subreddit: bodyweightfitness\\u003cbr\\u003eCluster Summary: Safe: Seek genuine advice, share fitness journey, transparent intentions.\",\"Subreddit: bodyweightfitness\\u003cbr\\u003eCluster Summary: Safe: Seek genuine advice, share fitness journey, transparent intentions.\",\"Subreddit: bodyweightfitness\\u003cbr\\u003eCluster Summary: Safe: Encourages critical thinking, prompts discussion without manipulation.\",\"Subreddit: bodyweightfitness\\u003cbr\\u003eCluster Summary: Safe: Seek genuine advice, share fitness journey, transparent intentions.\",\"Subreddit: bodyweightfitness\\u003cbr\\u003eCluster Summary: Safe: Seek genuine advice, share fitness journey, transparent intentions.\",\"Subreddit: bodyweightfitness\\u003cbr\\u003eCluster Summary: Safe: Seek genuine advice, share fitness journey, transparent intentions.\",\"Subreddit: bodyweightfitness\\u003cbr\\u003eCluster Summary: Safe: Seek genuine advice, share fitness journey, transparent intentions.\",\"Subreddit: bodyweightfitness\\u003cbr\\u003eCluster Summary: Safe: Seek genuine advice, share fitness journey, transparent intentions.\",\"Subreddit: bodyweightfitness\\u003cbr\\u003eCluster Summary: Safe: Seek genuine advice, share fitness journey, transparent intentions.\",\"Subreddit: bodyweightfitness\\u003cbr\\u003eCluster Summary: Safe: Seek genuine advice, share fitness journey, transparent intentions.\",\"Subreddit: bodyweightfitness\\u003cbr\\u003eCluster Summary: Safe: Seek genuine advice, share fitness journey, transparent intentions.\",\"Subreddit: bodyweightfitness\\u003cbr\\u003eCluster Summary: Safe: Encourages critical thinking, prompts discussion without manipulation.\",\"Subreddit: bodyweightfitness\\u003cbr\\u003eCluster Summary: Safe: Seek genuine advice, share fitness journey, transparent intentions.\",\"Subreddit: bodyweightfitness\\u003cbr\\u003eCluster Summary: Safe: Seek genuine advice, share fitness journey, transparent intentions.\",\"Subreddit: bodyweightfitness\\u003cbr\\u003eCluster Summary: Safe: Seek genuine advice, share fitness journey, transparent intentions.\",\"Subreddit: bodyweightfitness\\u003cbr\\u003eCluster Summary: Safe: Seek genuine advice, share fitness journey, transparent intentions.\",\"Subreddit: bodyweightfitness\\u003cbr\\u003eCluster Summary: Safe: Seek genuine advice, share fitness journey, transparent intentions.\",\"Subreddit: bodyweightfitness\\u003cbr\\u003eCluster Summary: Safe: Seek genuine advice, share fitness journey, transparent intentions.\",\"Subreddit: bodyweightfitness\\u003cbr\\u003eCluster Summary: Safe: Seek genuine advice, share fitness journey, transparent intentions.\",\"Subreddit: bodyweightfitness\\u003cbr\\u003eCluster Summary: Safe: Seek genuine advice, share fitness journey, transparent intentions.\",\"Subreddit: bodyweightfitness\\u003cbr\\u003eCluster Summary: Safe: Seek genuine advice, share fitness journey, transparent intentions.\",\"Subreddit: bodyweightfitness\\u003cbr\\u003eCluster Summary: Safe: Seek genuine advice, share fitness journey, transparent intentions.\",\"Subreddit: bodyweightfitness\\u003cbr\\u003eCluster Summary: Safe: Seek genuine advice, share fitness journey, transparent intentions.\",\"Subreddit: bodyweightfitness\\u003cbr\\u003eCluster Summary: Safe: Seek genuine advice, share fitness journey, transparent intentions.\",\"Subreddit: bodyweightfitness\\u003cbr\\u003eCluster Summary: Safe: Seek genuine advice, share fitness journey, transparent intentions.\",\"Subreddit: bodyweightfitness\\u003cbr\\u003eCluster Summary: Safe: Encourages critical thinking, prompts discussion without manipulation.\",\"Subreddit: bodyweightfitness\\u003cbr\\u003eCluster Summary: Safe: Seek genuine advice, share fitness journey, transparent intentions.\",\"Subreddit: bodyweightfitness\\u003cbr\\u003eCluster Summary: Safe: Seek genuine advice, share fitness journey, transparent intentions.\",\"Subreddit: bodyweightfitness\\u003cbr\\u003eCluster Summary: Safe: Seek genuine advice, share fitness journey, transparent intentions.\",\"Subreddit: bodyweightfitness\\u003cbr\\u003eCluster Summary: Safe: Seek genuine advice, share fitness journey, transparent intentions.\",\"Subreddit: bodyweightfitness\\u003cbr\\u003eCluster Summary: Safe: Seek genuine advice, share fitness journey, transparent intentions.\",\"Subreddit: bodyweightfitness\\u003cbr\\u003eCluster Summary: Safe: Seek genuine advice, share fitness journey, transparent intentions.\",\"Subreddit: bodyweightfitness\\u003cbr\\u003eCluster Summary: Safe: Seek genuine advice, share fitness journey, transparent intentions.\",\"Subreddit: bodyweightfitness\\u003cbr\\u003eCluster Summary: Safe: Seek genuine advice, share fitness journey, transparent intentions.\",\"Subreddit: bodyweightfitness\\u003cbr\\u003eCluster Summary: Safe: Seek genuine advice, share fitness journey, transparent intentions.\",\"Subreddit: bodyweightfitness\\u003cbr\\u003eCluster Summary: Safe: Seek genuine advice, share fitness journey, transparent intentions.\",\"Subreddit: bodyweightfitness\\u003cbr\\u003eCluster Summary: Safe: Seek genuine advice, share fitness journey, transparent intentions.\",\"Subreddit: bodyweightfitness\\u003cbr\\u003eCluster Summary: Safe: Seek genuine advice, share fitness journey, transparent intentions.\",\"Subreddit: bodyweightfitness\\u003cbr\\u003eCluster Summary: Safe: Seek genuine advice, share fitness journey, transparent intentions.\",\"Subreddit: bodyweightfitness\\u003cbr\\u003eCluster Summary: Safe: Seek genuine advice, share fitness journey, transparent intentions.\",\"Subreddit: bodyweightfitness\\u003cbr\\u003eCluster Summary: Safe: Seek genuine advice, share fitness journey, transparent intentions.\",\"Subreddit: bodyweightfitness\\u003cbr\\u003eCluster Summary: Safe: Seek genuine advice, share fitness journey, transparent intentions.\",\"Subreddit: bodyweightfitness\\u003cbr\\u003eCluster Summary: Safe: Seek genuine advice, share fitness journey, transparent intentions.\",\"Subreddit: bodyweightfitness\\u003cbr\\u003eCluster Summary: Safe: Seek genuine advice, share fitness journey, transparent intentions.\",\"Subreddit: bodyweightfitness\\u003cbr\\u003eCluster Summary: Safe: Encourages critical thinking, prompts discussion without manipulation.\",\"Subreddit: bodyweightfitness\\u003cbr\\u003eCluster Summary: SAFE: Repeated use to emphasize security and trust.\",\"Subreddit: bodyweightfitness\\u003cbr\\u003eCluster Summary: Safe: Seek genuine advice, share fitness journey, transparent intentions.\",\"Subreddit: bodyweightfitness\\u003cbr\\u003eCluster Summary: Safe: Seek genuine advice, share fitness journey, transparent intentions.\",\"Subreddit: bodyweightfitness\\u003cbr\\u003eCluster Summary: Safe: Seek genuine advice, share fitness journey, transparent intentions.\",\"Subreddit: bodyweightfitness\\u003cbr\\u003eCluster Summary: Safe: Seek genuine advice, share fitness journey, transparent intentions.\",\"Subreddit: bodyweightfitness\\u003cbr\\u003eCluster Summary: Safe: Seek genuine advice, share fitness journey, transparent intentions.\",\"Subreddit: bodyweightfitness\\u003cbr\\u003eCluster Summary: Safe: Seek genuine advice, share fitness journey, transparent intentions.\",\"Subreddit: bodyweightfitness\\u003cbr\\u003eCluster Summary: Safe: Seek genuine advice, share fitness journey, transparent intentions.\",\"Subreddit: bodyweightfitness\\u003cbr\\u003eCluster Summary: Safe: Seek genuine advice, share fitness journey, transparent intentions.\",\"Subreddit: bodyweightfitness\\u003cbr\\u003eCluster Summary: Safe: Seek genuine advice, share fitness journey, transparent intentions.\",\"Subreddit: bodyweightfitness\\u003cbr\\u003eCluster Summary: Safe: Seek genuine advice, share fitness journey, transparent intentions.\",\"Subreddit: bodyweightfitness\\u003cbr\\u003eCluster Summary: Safe: Seek genuine advice, share fitness journey, transparent intentions.\",\"Subreddit: bodyweightfitness\\u003cbr\\u003eCluster Summary: Safe: Seek genuine advice, share fitness journey, transparent intentions.\",\"Subreddit: bodyweightfitness\\u003cbr\\u003eCluster Summary: Safe: Seek genuine advice, share fitness journey, transparent intentions.\",\"Subreddit: bodyweightfitness\\u003cbr\\u003eCluster Summary: Safe: Seek genuine advice, share fitness journey, transparent intentions.\",\"Subreddit: bodyweightfitness\\u003cbr\\u003eCluster Summary: Safe: Seek genuine advice, share fitness journey, transparent intentions.\",\"Subreddit: bodyweightfitness\\u003cbr\\u003eCluster Summary: Safe: Seek genuine advice, share fitness journey, transparent intentions.\"],\"legendgroup\":\"bodyweightfitness\",\"marker\":{\"color\":\"#FFA15A\",\"symbol\":\"circle\"},\"mode\":\"markers\",\"name\":\"bodyweightfitness\",\"orientation\":\"v\",\"showlegend\":true,\"x\":[7.550944805145264,14.322858810424805,14.511466026306152,13.265473365783691,13.886652946472168,14.221463203430176,14.210598945617676,14.580788612365723,12.338456153869629,13.297480583190918,13.973111152648926,14.807476997375488,13.86703109741211,12.338616371154785,14.90455150604248,15.305641174316406,14.186016082763672,13.567255973815918,7.337491512298584,14.678031921386719,14.129648208618164,15.294976234436035,12.362601280212402,13.389262199401855,12.440228462219238,14.994563102722168,13.199670791625977,4.985498428344727,12.52587604522705,13.588318824768066,13.586872100830078,6.865706443786621,14.145308494567871,12.731590270996094,14.115102767944336,13.914275169372559,13.920856475830078,12.412152290344238,14.427367210388184,13.726763725280762,7.578378677368164,14.532132148742676,13.581208229064941,13.288578033447266,12.55961799621582,14.967791557312012,14.97553825378418,15.009363174438477,13.566452026367188,13.895855903625488,12.335531234741211,13.131830215454102,14.668373107910156,13.566420555114746,7.355724811553955,13.72185230255127,13.9254150390625,13.960079193115234,12.663724899291992,14.623858451843262,12.536314010620117,13.354759216308594,12.55366325378418,15.258991241455078,13.148355484008789,14.842312812805176,14.666492462158203,14.759038925170898,13.427070617675781,15.006699562072754,12.692081451416016,14.973722457885742,14.456280708312988,7.470143795013428,-10.020120620727539,14.183648109436035,14.41313648223877,13.653315544128418,12.345779418945312,14.79903507232666,13.876255989074707,12.52689266204834,12.635934829711914,14.463656425476074,12.473196983337402,13.798423767089844,14.441843032836914,14.023550987243652,14.205446243286133,12.602527618408203,14.263558387756348],\"xaxis\":\"x\",\"y\":[6.628660678863525,5.08535099029541,4.400852203369141,5.957508563995361,4.469456672668457,6.25422477722168,4.75008487701416,5.669484615325928,2.0356974601745605,6.015429496765137,4.456655025482178,5.486432075500488,6.475314617156982,2.0379247665405273,6.788584232330322,4.823711395263672,6.484131813049316,5.089359760284424,6.770166873931885,4.497056007385254,4.275320053100586,4.833056449890137,2.098951578140259,6.170943737030029,4.540781021118164,6.716885566711426,4.687206745147705,9.66892147064209,3.192425012588501,4.510004043579102,4.289458274841309,6.693904876708984,4.310218811035156,4.714066982269287,6.6371259689331055,6.214550495147705,6.3086748123168945,2.1870620250701904,5.903302192687988,4.467947006225586,6.604689121246338,5.766393184661865,4.635831832885742,5.025604248046875,4.691566467285156,6.738297462463379,6.7351202964782715,5.520009517669678,4.675492763519287,6.584479331970215,2.0260889530181885,4.749248504638672,4.4299116134643555,5.236698150634766,6.787608623504639,6.16699743270874,6.6368937492370605,6.405625343322754,4.6692609786987305,4.472839832305908,3.200385093688965,5.07641077041626,4.721158504486084,4.7903151512146,6.063965797424316,4.628696918487549,5.4277024269104,4.554563522338867,4.614908695220947,5.527645587921143,4.65713357925415,5.525935649871826,5.165389060974121,6.6949567794799805,5.072134971618652,6.40932035446167,5.274795055389404,5.1237592697143555,2.038649082183838,4.413846492767334,6.568416118621826,3.193629503250122,4.595681667327881,5.217002868652344,4.962071418762207,6.215625762939453,5.20638370513916,4.451150417327881,6.159643173217773,4.7613677978515625,6.362619876861572],\"yaxis\":\"y\",\"type\":\"scatter\"},{\"hovertemplate\":\"\\u003cb\\u003e%{hovertext}\\u003c\\u002fb\\u003e\\u003cbr\\u003e\\u003cbr\\u003eTopic=PoliticalDiscussion\\u003cbr\\u003eUMAP1=%{x}\\u003cbr\\u003eUMAP2=%{y}\\u003cextra\\u003e\\u003c\\u002fextra\\u003e\",\"hovertext\":[\"Subreddit: PoliticalDiscussion\\u003cbr\\u003eCluster Summary: Safe: Encourages critical thinking, prompts discussion without manipulation.\",\"Subreddit: PoliticalDiscussion\\u003cbr\\u003eCluster Summary: Post is potentially manipulative, uses sensational language, lacks context.\",\"Subreddit: PoliticalDiscussion\\u003cbr\\u003eCluster Summary: Safe: Encourages critical thinking, prompts discussion without manipulation.\",\"Subreddit: PoliticalDiscussion\\u003cbr\\u003eCluster Summary: Safe: Encourages critical thinking, prompts discussion without manipulation.\",\"Subreddit: PoliticalDiscussion\\u003cbr\\u003eCluster Summary: Post is potentially manipulative, uses sensational language, lacks context.\",\"Subreddit: PoliticalDiscussion\\u003cbr\\u003eCluster Summary: Safe: Encourages critical thinking, prompts discussion without manipulation.\",\"Subreddit: PoliticalDiscussion\\u003cbr\\u003eCluster Summary: Post is potentially manipulative, uses sensational language, lacks context.\",\"Subreddit: PoliticalDiscussion\\u003cbr\\u003eCluster Summary: Safe: Encourages critical thinking, prompts discussion without manipulation.\",\"Subreddit: PoliticalDiscussion\\u003cbr\\u003eCluster Summary: Safe: Encourages critical thinking, prompts discussion without manipulation.\"],\"legendgroup\":\"PoliticalDiscussion\",\"marker\":{\"color\":\"#19d3f3\",\"symbol\":\"circle\"},\"mode\":\"markers\",\"name\":\"PoliticalDiscussion\",\"orientation\":\"v\",\"showlegend\":true,\"x\":[5.3963422775268555,6.496321678161621,5.88091516494751,5.068652629852295,5.2748565673828125,5.126896858215332,6.410647869110107,5.1238484382629395,5.373676300048828],\"xaxis\":\"x\",\"y\":[6.42460298538208,0.42217618227005005,7.066403388977051,3.2259373664855957,2.9240920543670654,3.145334482192993,-0.17845593392848969,3.151066303253174,6.419360160827637],\"yaxis\":\"y\",\"type\":\"scatter\"}],                        {\"template\":{\"data\":{\"histogram2dcontour\":[{\"type\":\"histogram2dcontour\",\"colorbar\":{\"outlinewidth\":0,\"ticks\":\"\"},\"colorscale\":[[0.0,\"#0d0887\"],[0.1111111111111111,\"#46039f\"],[0.2222222222222222,\"#7201a8\"],[0.3333333333333333,\"#9c179e\"],[0.4444444444444444,\"#bd3786\"],[0.5555555555555556,\"#d8576b\"],[0.6666666666666666,\"#ed7953\"],[0.7777777777777778,\"#fb9f3a\"],[0.8888888888888888,\"#fdca26\"],[1.0,\"#f0f921\"]]}],\"choropleth\":[{\"type\":\"choropleth\",\"colorbar\":{\"outlinewidth\":0,\"ticks\":\"\"}}],\"histogram2d\":[{\"type\":\"histogram2d\",\"colorbar\":{\"outlinewidth\":0,\"ticks\":\"\"},\"colorscale\":[[0.0,\"#0d0887\"],[0.1111111111111111,\"#46039f\"],[0.2222222222222222,\"#7201a8\"],[0.3333333333333333,\"#9c179e\"],[0.4444444444444444,\"#bd3786\"],[0.5555555555555556,\"#d8576b\"],[0.6666666666666666,\"#ed7953\"],[0.7777777777777778,\"#fb9f3a\"],[0.8888888888888888,\"#fdca26\"],[1.0,\"#f0f921\"]]}],\"heatmap\":[{\"type\":\"heatmap\",\"colorbar\":{\"outlinewidth\":0,\"ticks\":\"\"},\"colorscale\":[[0.0,\"#0d0887\"],[0.1111111111111111,\"#46039f\"],[0.2222222222222222,\"#7201a8\"],[0.3333333333333333,\"#9c179e\"],[0.4444444444444444,\"#bd3786\"],[0.5555555555555556,\"#d8576b\"],[0.6666666666666666,\"#ed7953\"],[0.7777777777777778,\"#fb9f3a\"],[0.8888888888888888,\"#fdca26\"],[1.0,\"#f0f921\"]]}],\"heatmapgl\":[{\"type\":\"heatmapgl\",\"colorbar\":{\"outlinewidth\":0,\"ticks\":\"\"},\"colorscale\":[[0.0,\"#0d0887\"],[0.1111111111111111,\"#46039f\"],[0.2222222222222222,\"#7201a8\"],[0.3333333333333333,\"#9c179e\"],[0.4444444444444444,\"#bd3786\"],[0.5555555555555556,\"#d8576b\"],[0.6666666666666666,\"#ed7953\"],[0.7777777777777778,\"#fb9f3a\"],[0.8888888888888888,\"#fdca26\"],[1.0,\"#f0f921\"]]}],\"contourcarpet\":[{\"type\":\"contourcarpet\",\"colorbar\":{\"outlinewidth\":0,\"ticks\":\"\"}}],\"contour\":[{\"type\":\"contour\",\"colorbar\":{\"outlinewidth\":0,\"ticks\":\"\"},\"colorscale\":[[0.0,\"#0d0887\"],[0.1111111111111111,\"#46039f\"],[0.2222222222222222,\"#7201a8\"],[0.3333333333333333,\"#9c179e\"],[0.4444444444444444,\"#bd3786\"],[0.5555555555555556,\"#d8576b\"],[0.6666666666666666,\"#ed7953\"],[0.7777777777777778,\"#fb9f3a\"],[0.8888888888888888,\"#fdca26\"],[1.0,\"#f0f921\"]]}],\"surface\":[{\"type\":\"surface\",\"colorbar\":{\"outlinewidth\":0,\"ticks\":\"\"},\"colorscale\":[[0.0,\"#0d0887\"],[0.1111111111111111,\"#46039f\"],[0.2222222222222222,\"#7201a8\"],[0.3333333333333333,\"#9c179e\"],[0.4444444444444444,\"#bd3786\"],[0.5555555555555556,\"#d8576b\"],[0.6666666666666666,\"#ed7953\"],[0.7777777777777778,\"#fb9f3a\"],[0.8888888888888888,\"#fdca26\"],[1.0,\"#f0f921\"]]}],\"mesh3d\":[{\"type\":\"mesh3d\",\"colorbar\":{\"outlinewidth\":0,\"ticks\":\"\"}}],\"scatter\":[{\"fillpattern\":{\"fillmode\":\"overlay\",\"size\":10,\"solidity\":0.2},\"type\":\"scatter\"}],\"parcoords\":[{\"type\":\"parcoords\",\"line\":{\"colorbar\":{\"outlinewidth\":0,\"ticks\":\"\"}}}],\"scatterpolargl\":[{\"type\":\"scatterpolargl\",\"marker\":{\"colorbar\":{\"outlinewidth\":0,\"ticks\":\"\"}}}],\"bar\":[{\"error_x\":{\"color\":\"#2a3f5f\"},\"error_y\":{\"color\":\"#2a3f5f\"},\"marker\":{\"line\":{\"color\":\"#E5ECF6\",\"width\":0.5},\"pattern\":{\"fillmode\":\"overlay\",\"size\":10,\"solidity\":0.2}},\"type\":\"bar\"}],\"scattergeo\":[{\"type\":\"scattergeo\",\"marker\":{\"colorbar\":{\"outlinewidth\":0,\"ticks\":\"\"}}}],\"scatterpolar\":[{\"type\":\"scatterpolar\",\"marker\":{\"colorbar\":{\"outlinewidth\":0,\"ticks\":\"\"}}}],\"histogram\":[{\"marker\":{\"pattern\":{\"fillmode\":\"overlay\",\"size\":10,\"solidity\":0.2}},\"type\":\"histogram\"}],\"scattergl\":[{\"type\":\"scattergl\",\"marker\":{\"colorbar\":{\"outlinewidth\":0,\"ticks\":\"\"}}}],\"scatter3d\":[{\"type\":\"scatter3d\",\"line\":{\"colorbar\":{\"outlinewidth\":0,\"ticks\":\"\"}},\"marker\":{\"colorbar\":{\"outlinewidth\":0,\"ticks\":\"\"}}}],\"scattermapbox\":[{\"type\":\"scattermapbox\",\"marker\":{\"colorbar\":{\"outlinewidth\":0,\"ticks\":\"\"}}}],\"scatterternary\":[{\"type\":\"scatterternary\",\"marker\":{\"colorbar\":{\"outlinewidth\":0,\"ticks\":\"\"}}}],\"scattercarpet\":[{\"type\":\"scattercarpet\",\"marker\":{\"colorbar\":{\"outlinewidth\":0,\"ticks\":\"\"}}}],\"carpet\":[{\"aaxis\":{\"endlinecolor\":\"#2a3f5f\",\"gridcolor\":\"white\",\"linecolor\":\"white\",\"minorgridcolor\":\"white\",\"startlinecolor\":\"#2a3f5f\"},\"baxis\":{\"endlinecolor\":\"#2a3f5f\",\"gridcolor\":\"white\",\"linecolor\":\"white\",\"minorgridcolor\":\"white\",\"startlinecolor\":\"#2a3f5f\"},\"type\":\"carpet\"}],\"table\":[{\"cells\":{\"fill\":{\"color\":\"#EBF0F8\"},\"line\":{\"color\":\"white\"}},\"header\":{\"fill\":{\"color\":\"#C8D4E3\"},\"line\":{\"color\":\"white\"}},\"type\":\"table\"}],\"barpolar\":[{\"marker\":{\"line\":{\"color\":\"#E5ECF6\",\"width\":0.5},\"pattern\":{\"fillmode\":\"overlay\",\"size\":10,\"solidity\":0.2}},\"type\":\"barpolar\"}],\"pie\":[{\"automargin\":true,\"type\":\"pie\"}]},\"layout\":{\"autotypenumbers\":\"strict\",\"colorway\":[\"#636efa\",\"#EF553B\",\"#00cc96\",\"#ab63fa\",\"#FFA15A\",\"#19d3f3\",\"#FF6692\",\"#B6E880\",\"#FF97FF\",\"#FECB52\"],\"font\":{\"color\":\"#2a3f5f\"},\"hovermode\":\"closest\",\"hoverlabel\":{\"align\":\"left\"},\"paper_bgcolor\":\"white\",\"plot_bgcolor\":\"#E5ECF6\",\"polar\":{\"bgcolor\":\"#E5ECF6\",\"angularaxis\":{\"gridcolor\":\"white\",\"linecolor\":\"white\",\"ticks\":\"\"},\"radialaxis\":{\"gridcolor\":\"white\",\"linecolor\":\"white\",\"ticks\":\"\"}},\"ternary\":{\"bgcolor\":\"#E5ECF6\",\"aaxis\":{\"gridcolor\":\"white\",\"linecolor\":\"white\",\"ticks\":\"\"},\"baxis\":{\"gridcolor\":\"white\",\"linecolor\":\"white\",\"ticks\":\"\"},\"caxis\":{\"gridcolor\":\"white\",\"linecolor\":\"white\",\"ticks\":\"\"}},\"coloraxis\":{\"colorbar\":{\"outlinewidth\":0,\"ticks\":\"\"}},\"colorscale\":{\"sequential\":[[0.0,\"#0d0887\"],[0.1111111111111111,\"#46039f\"],[0.2222222222222222,\"#7201a8\"],[0.3333333333333333,\"#9c179e\"],[0.4444444444444444,\"#bd3786\"],[0.5555555555555556,\"#d8576b\"],[0.6666666666666666,\"#ed7953\"],[0.7777777777777778,\"#fb9f3a\"],[0.8888888888888888,\"#fdca26\"],[1.0,\"#f0f921\"]],\"sequentialminus\":[[0.0,\"#0d0887\"],[0.1111111111111111,\"#46039f\"],[0.2222222222222222,\"#7201a8\"],[0.3333333333333333,\"#9c179e\"],[0.4444444444444444,\"#bd3786\"],[0.5555555555555556,\"#d8576b\"],[0.6666666666666666,\"#ed7953\"],[0.7777777777777778,\"#fb9f3a\"],[0.8888888888888888,\"#fdca26\"],[1.0,\"#f0f921\"]],\"diverging\":[[0,\"#8e0152\"],[0.1,\"#c51b7d\"],[0.2,\"#de77ae\"],[0.3,\"#f1b6da\"],[0.4,\"#fde0ef\"],[0.5,\"#f7f7f7\"],[0.6,\"#e6f5d0\"],[0.7,\"#b8e186\"],[0.8,\"#7fbc41\"],[0.9,\"#4d9221\"],[1,\"#276419\"]]},\"xaxis\":{\"gridcolor\":\"white\",\"linecolor\":\"white\",\"ticks\":\"\",\"title\":{\"standoff\":15},\"zerolinecolor\":\"white\",\"automargin\":true,\"zerolinewidth\":2},\"yaxis\":{\"gridcolor\":\"white\",\"linecolor\":\"white\",\"ticks\":\"\",\"title\":{\"standoff\":15},\"zerolinecolor\":\"white\",\"automargin\":true,\"zerolinewidth\":2},\"scene\":{\"xaxis\":{\"backgroundcolor\":\"#E5ECF6\",\"gridcolor\":\"white\",\"linecolor\":\"white\",\"showbackground\":true,\"ticks\":\"\",\"zerolinecolor\":\"white\",\"gridwidth\":2},\"yaxis\":{\"backgroundcolor\":\"#E5ECF6\",\"gridcolor\":\"white\",\"linecolor\":\"white\",\"showbackground\":true,\"ticks\":\"\",\"zerolinecolor\":\"white\",\"gridwidth\":2},\"zaxis\":{\"backgroundcolor\":\"#E5ECF6\",\"gridcolor\":\"white\",\"linecolor\":\"white\",\"showbackground\":true,\"ticks\":\"\",\"zerolinecolor\":\"white\",\"gridwidth\":2}},\"shapedefaults\":{\"line\":{\"color\":\"#2a3f5f\"}},\"annotationdefaults\":{\"arrowcolor\":\"#2a3f5f\",\"arrowhead\":0,\"arrowwidth\":1},\"geo\":{\"bgcolor\":\"white\",\"landcolor\":\"#E5ECF6\",\"subunitcolor\":\"white\",\"showland\":true,\"showlakes\":true,\"lakecolor\":\"white\"},\"title\":{\"x\":0.05},\"mapbox\":{\"style\":\"light\"}}},\"xaxis\":{\"anchor\":\"y\",\"domain\":[0.0,1.0],\"title\":{\"text\":\"UMAP1\"}},\"yaxis\":{\"anchor\":\"x\",\"domain\":[0.0,1.0],\"title\":{\"text\":\"UMAP2\"}},\"legend\":{\"title\":{\"text\":\"Topic\"},\"tracegroupgap\":0},\"title\":{\"text\":\"UMAP Visualization of ChatGPT Responses\"},\"height\":450,\"width\":800},                        {\"responsive\": true}                    ).then(function(){\n",
       "                            \n",
       "var gd = document.getElementById('b49e4acd-c737-4c45-9fa5-ab06d088e0de');\n",
       "var x = new MutationObserver(function (mutations, observer) {{\n",
       "        var display = window.getComputedStyle(gd).display;\n",
       "        if (!display || display === 'none') {{\n",
       "            console.log([gd, 'removed!']);\n",
       "            Plotly.purge(gd);\n",
       "            observer.disconnect();\n",
       "        }}\n",
       "}});\n",
       "\n",
       "// Listen for the removal of the full notebook cells\n",
       "var notebookContainer = gd.closest('#notebook-container');\n",
       "if (notebookContainer) {{\n",
       "    x.observe(notebookContainer, {childList: true});\n",
       "}}\n",
       "\n",
       "// Listen for the clearing of the current output cell\n",
       "var outputEl = gd.closest('.output');\n",
       "if (outputEl) {{\n",
       "    x.observe(outputEl, {childList: true});\n",
       "}}\n",
       "\n",
       "                        })                };                });            </script>        </div>"
      ]
     },
     "metadata": {},
     "output_type": "display_data"
    }
   ],
   "source": [
    "# Prepare hover text\n",
    "df['hover_text'] = 'Subreddit: ' + df['Topic'] + '<br>' + 'Cluster Summary: ' + df['Summary']\n",
    "\n",
    "# Plot using Plotly\n",
    "fig = px.scatter(\n",
    "    df,\n",
    "    x='UMAP1',\n",
    "    y='UMAP2',\n",
    "    color='Topic',  # Use color based on Topic (In this case Subreddit)\n",
    "    hover_name='hover_text',  # Use custom hover text\n",
    "    title='UMAP Visualization of ChatGPT Responses',\n",
    "    width=800,\n",
    "    height=450\n",
    ")\n",
    "\n",
    "fig.show()"
   ]
  },
  {
   "cell_type": "code",
   "execution_count": 30,
   "metadata": {},
   "outputs": [
    {
     "data": {
      "application/vnd.plotly.v1+json": {
       "config": {
        "plotlyServerURL": "https://plot.ly"
       },
       "data": [
        {
         "hovertemplate": "<b>%{hovertext}</b><br><br>UMAP1=%{x}<br>UMAP2=%{y}<br>cluster=%{marker.color}<extra></extra>",
         "hovertext": [
          "Subreddit: history<br>Cluster Summary: _SAFE_ Post shares historical information without manipulation or deception.",
          "Subreddit: history<br>Cluster Summary: _SAFE_ Post shares historical information without manipulation or deception.",
          "Subreddit: history<br>Cluster Summary: SAFE: Repeated use to emphasize security and trust.",
          "Subreddit: history<br>Cluster Summary: SAFE: Repeated use to emphasize security and trust.",
          "Subreddit: history<br>Cluster Summary: _SAFE_ Post shares historical information without manipulation or deception.",
          "Subreddit: history<br>Cluster Summary: _SAFE_ Post shares historical information without manipulation or deception.",
          "Subreddit: history<br>Cluster Summary: Safe: Encourages critical thinking, prompts discussion without manipulation.",
          "Subreddit: history<br>Cluster Summary: _SAFE_ Post shares historical information without manipulation or deception.",
          "Subreddit: history<br>Cluster Summary: _SAFE_ Post shares historical information without manipulation or deception.",
          "Subreddit: history<br>Cluster Summary: SAFE: Repeated use to emphasize security and trust.",
          "Subreddit: history<br>Cluster Summary: Safe: Encourages critical thinking, prompts discussion without manipulation.",
          "Subreddit: history<br>Cluster Summary: _SAFE_ Post shares historical information without manipulation or deception.",
          "Subreddit: history<br>Cluster Summary: SAFE: Repeated use to emphasize security and trust.",
          "Subreddit: history<br>Cluster Summary: _SAFE_ Post shares historical information without manipulation or deception.",
          "Subreddit: history<br>Cluster Summary: SAFE: Repeated use to emphasize security and trust.",
          "Subreddit: nfl<br>Cluster Summary: Safe: Provides factual updates without manipulation or deception.",
          "Subreddit: nfl<br>Cluster Summary: Safe: Encourages critical thinking, prompts discussion without manipulation.",
          "Subreddit: nfl<br>Cluster Summary: Safe: Provides factual updates without manipulation or deception.",
          "Subreddit: nfl<br>Cluster Summary: Post is potentially manipulative, uses sensational language, lacks context.",
          "Subreddit: nfl<br>Cluster Summary: SAFE: Repeated use to emphasize security and trust.",
          "Subreddit: nfl<br>Cluster Summary: SAFE: Repeated use to emphasize security and trust.",
          "Subreddit: nfl<br>Cluster Summary: Safe: Provides factual updates without manipulation or deception.",
          "Subreddit: nfl<br>Cluster Summary: Safe: Provides factual updates without manipulation or deception.",
          "Subreddit: nfl<br>Cluster Summary: Safe: Provides factual updates without manipulation or deception.",
          "Subreddit: nfl<br>Cluster Summary: Safe: Provides factual updates without manipulation or deception.",
          "Subreddit: nfl<br>Cluster Summary: Safe: Provides factual updates without manipulation or deception.",
          "Subreddit: nfl<br>Cluster Summary: Safe: Provides factual updates without manipulation or deception.",
          "Subreddit: nfl<br>Cluster Summary: SAFE: Repeated use to emphasize security and trust.",
          "Subreddit: nfl<br>Cluster Summary: SAFE: Repeated use to emphasize security and trust.",
          "Subreddit: nfl<br>Cluster Summary: Safe: Provides factual updates without manipulation or deception.",
          "Subreddit: nfl<br>Cluster Summary: Safe: Encourages critical thinking, prompts discussion without manipulation.",
          "Subreddit: nfl<br>Cluster Summary: Safe: Provides factual updates without manipulation or deception.",
          "Subreddit: nfl<br>Cluster Summary: Safe: Encourages critical thinking, prompts discussion without manipulation.",
          "Subreddit: nfl<br>Cluster Summary: SAFE: Repeated use to emphasize security and trust.",
          "Subreddit: nfl<br>Cluster Summary: Safe: Provides factual updates without manipulation or deception.",
          "Subreddit: nfl<br>Cluster Summary: Safe: Seek genuine advice, share fitness journey, transparent intentions.",
          "Subreddit: nfl<br>Cluster Summary: Safe: Provides factual updates without manipulation or deception.",
          "Subreddit: nfl<br>Cluster Summary: Safe: Encourages critical thinking, prompts discussion without manipulation.",
          "Subreddit: nfl<br>Cluster Summary: Safe: Encourages critical thinking, prompts discussion without manipulation.",
          "Subreddit: nfl<br>Cluster Summary: Safe: Provides factual updates without manipulation or deception.",
          "Subreddit: nfl<br>Cluster Summary: Safe: Provides factual updates without manipulation or deception.",
          "Subreddit: nfl<br>Cluster Summary: SAFE: Repeated use to emphasize security and trust.",
          "Subreddit: nfl<br>Cluster Summary: Safe: Provides factual updates without manipulation or deception.",
          "Subreddit: nfl<br>Cluster Summary: Safe: Provides factual updates without manipulation or deception.",
          "Subreddit: nfl<br>Cluster Summary: SAFE: Repeated use to emphasize security and trust.",
          "Subreddit: nfl<br>Cluster Summary: SAFE: Repeated use to emphasize security and trust.",
          "Subreddit: nfl<br>Cluster Summary: Safe: Provides factual updates without manipulation or deception.",
          "Subreddit: nfl<br>Cluster Summary: Safe: Provides factual updates without manipulation or deception.",
          "Subreddit: nfl<br>Cluster Summary: Safe: Provides factual updates without manipulation or deception.",
          "Subreddit: nfl<br>Cluster Summary: Safe: Provides factual updates without manipulation or deception.",
          "Subreddit: nfl<br>Cluster Summary: Safe: Provides factual updates without manipulation or deception.",
          "Subreddit: nfl<br>Cluster Summary: Safe: Provides factual updates without manipulation or deception.",
          "Subreddit: nfl<br>Cluster Summary: Safe: Provides factual updates without manipulation or deception.",
          "Subreddit: nfl<br>Cluster Summary: SAFE: Repeated use to emphasize security and trust.",
          "Subreddit: nfl<br>Cluster Summary: SAFE: Repeated use to emphasize security and trust.",
          "Subreddit: nfl<br>Cluster Summary: _SAFE_ Post shares historical information without manipulation or deception.",
          "Subreddit: nfl<br>Cluster Summary: SAFE: Repeated use to emphasize security and trust.",
          "Subreddit: nfl<br>Cluster Summary: Safe: Provides factual updates without manipulation or deception.",
          "Subreddit: nfl<br>Cluster Summary: Safe: Provides factual updates without manipulation or deception.",
          "Subreddit: nfl<br>Cluster Summary: SAFE: Repeated use to emphasize security and trust.",
          "Subreddit: nfl<br>Cluster Summary: Safe: Provides factual updates without manipulation or deception.",
          "Subreddit: nfl<br>Cluster Summary: Safe: Provides factual updates without manipulation or deception.",
          "Subreddit: nfl<br>Cluster Summary: Safe: Provides factual updates without manipulation or deception.",
          "Subreddit: nfl<br>Cluster Summary: Safe: Provides factual updates without manipulation or deception.",
          "Subreddit: nfl<br>Cluster Summary: _SAFE_ Post shares historical information without manipulation or deception.",
          "Subreddit: nfl<br>Cluster Summary: SAFE: Repeated use to emphasize security and trust.",
          "Subreddit: nfl<br>Cluster Summary: Post is safe. Light-hearted observations, no intent to manipulate.",
          "Subreddit: Showerthoughts<br>Cluster Summary: Post is safe. Light-hearted observations, no intent to manipulate.",
          "Subreddit: Showerthoughts<br>Cluster Summary: SAFE: Repeated use to emphasize security and trust.",
          "Subreddit: Showerthoughts<br>Cluster Summary: Post is safe. Light-hearted observations, no intent to manipulate.",
          "Subreddit: Showerthoughts<br>Cluster Summary: Post is safe. Light-hearted observations, no intent to manipulate.",
          "Subreddit: Showerthoughts<br>Cluster Summary: Safe: Encourages critical thinking, prompts discussion without manipulation.",
          "Subreddit: Showerthoughts<br>Cluster Summary: Post is safe. Light-hearted observations, no intent to manipulate.",
          "Subreddit: Showerthoughts<br>Cluster Summary: SAFE: Repeated use to emphasize security and trust.",
          "Subreddit: Showerthoughts<br>Cluster Summary: Post is safe. Light-hearted observations, no intent to manipulate.",
          "Subreddit: Showerthoughts<br>Cluster Summary: Post is safe. Light-hearted observations, no intent to manipulate.",
          "Subreddit: Showerthoughts<br>Cluster Summary: Safe: Encourages critical thinking, prompts discussion without manipulation.",
          "Subreddit: Showerthoughts<br>Cluster Summary: SAFE: Repeated use to emphasize security and trust.",
          "Subreddit: Showerthoughts<br>Cluster Summary: Post is safe. Light-hearted observations, no intent to manipulate.",
          "Subreddit: Showerthoughts<br>Cluster Summary: Post is safe. Light-hearted observations, no intent to manipulate.",
          "Subreddit: Showerthoughts<br>Cluster Summary: Safe: Seek genuine advice, share fitness journey, transparent intentions.",
          "Subreddit: Showerthoughts<br>Cluster Summary: Post is safe. Light-hearted observations, no intent to manipulate.",
          "Subreddit: Showerthoughts<br>Cluster Summary: Post is safe. Light-hearted observations, no intent to manipulate.",
          "Subreddit: Showerthoughts<br>Cluster Summary: SAFE: Repeated use to emphasize security and trust.",
          "Subreddit: Showerthoughts<br>Cluster Summary: SAFE: Repeated use to emphasize security and trust.",
          "Subreddit: Showerthoughts<br>Cluster Summary: Post is safe. Light-hearted observations, no intent to manipulate.",
          "Subreddit: Showerthoughts<br>Cluster Summary: Post is safe. Light-hearted observations, no intent to manipulate.",
          "Subreddit: Showerthoughts<br>Cluster Summary: Safe: Encourages critical thinking, prompts discussion without manipulation.",
          "Subreddit: Showerthoughts<br>Cluster Summary: SAFE: Repeated use to emphasize security and trust.",
          "Subreddit: Showerthoughts<br>Cluster Summary: Safe: Encourages critical thinking, prompts discussion without manipulation.",
          "Subreddit: Showerthoughts<br>Cluster Summary: Safe: Encourages critical thinking, prompts discussion without manipulation.",
          "Subreddit: Showerthoughts<br>Cluster Summary: Safe: Encourages critical thinking, prompts discussion without manipulation.",
          "Subreddit: Showerthoughts<br>Cluster Summary: Post is safe. Light-hearted observations, no intent to manipulate.",
          "Subreddit: Showerthoughts<br>Cluster Summary: Post is safe. Light-hearted observations, no intent to manipulate.",
          "Subreddit: Showerthoughts<br>Cluster Summary: Post is safe. Light-hearted observations, no intent to manipulate.",
          "Subreddit: Showerthoughts<br>Cluster Summary: SAFE: Repeated use to emphasize security and trust.",
          "Subreddit: Showerthoughts<br>Cluster Summary: Post is safe. Light-hearted observations, no intent to manipulate.",
          "Subreddit: Showerthoughts<br>Cluster Summary: Safe: Encourages critical thinking, prompts discussion without manipulation.",
          "Subreddit: Showerthoughts<br>Cluster Summary: Post is safe. Light-hearted observations, no intent to manipulate.",
          "Subreddit: Showerthoughts<br>Cluster Summary: SAFE: Repeated use to emphasize security and trust.",
          "Subreddit: Showerthoughts<br>Cluster Summary: Post is safe. Light-hearted observations, no intent to manipulate.",
          "Subreddit: Showerthoughts<br>Cluster Summary: Post is safe. Light-hearted observations, no intent to manipulate.",
          "Subreddit: Showerthoughts<br>Cluster Summary: Post is safe. Light-hearted observations, no intent to manipulate.",
          "Subreddit: Showerthoughts<br>Cluster Summary: Post is safe. Light-hearted observations, no intent to manipulate.",
          "Subreddit: Showerthoughts<br>Cluster Summary: _SAFE_ Post shares historical information without manipulation or deception.",
          "Subreddit: Showerthoughts<br>Cluster Summary: Safe: Encourages critical thinking, prompts discussion without manipulation.",
          "Subreddit: Showerthoughts<br>Cluster Summary: SAFE: Repeated use to emphasize security and trust.",
          "Subreddit: Showerthoughts<br>Cluster Summary: SAFE: Repeated use to emphasize security and trust.",
          "Subreddit: Showerthoughts<br>Cluster Summary: Post is safe. Light-hearted observations, no intent to manipulate.",
          "Subreddit: Showerthoughts<br>Cluster Summary: Safe: Encourages critical thinking, prompts discussion without manipulation.",
          "Subreddit: politics<br>Cluster Summary: SAFE: Repeated use to emphasize security and trust.",
          "Subreddit: politics<br>Cluster Summary: Post is potentially manipulative, uses sensational language, lacks context.",
          "Subreddit: politics<br>Cluster Summary: Safe: Encourages critical thinking, prompts discussion without manipulation.",
          "Subreddit: politics<br>Cluster Summary: Post is potentially manipulative, uses sensational language, lacks context.",
          "Subreddit: politics<br>Cluster Summary: Post is potentially manipulative, uses sensational language, lacks context.",
          "Subreddit: politics<br>Cluster Summary: Post is potentially manipulative, uses sensational language, lacks context.",
          "Subreddit: politics<br>Cluster Summary: SAFE: Repeated use to emphasize security and trust.",
          "Subreddit: politics<br>Cluster Summary: Post is potentially manipulative, uses sensational language, lacks context.",
          "Subreddit: politics<br>Cluster Summary: SAFE: Repeated use to emphasize security and trust.",
          "Subreddit: politics<br>Cluster Summary: _SAFE_ Post shares historical information without manipulation or deception.",
          "Subreddit: politics<br>Cluster Summary: Post is potentially manipulative, uses sensational language, lacks context.",
          "Subreddit: politics<br>Cluster Summary: SAFE: Repeated use to emphasize security and trust.",
          "Subreddit: politics<br>Cluster Summary: _SAFE_ Post shares historical information without manipulation or deception.",
          "Subreddit: politics<br>Cluster Summary: Post is potentially manipulative, uses sensational language, lacks context.",
          "Subreddit: politics<br>Cluster Summary: _SAFE_ Post shares historical information without manipulation or deception.",
          "Subreddit: politics<br>Cluster Summary: Post is potentially manipulative, uses sensational language, lacks context.",
          "Subreddit: politics<br>Cluster Summary: Post is potentially manipulative, uses sensational language, lacks context.",
          "Subreddit: politics<br>Cluster Summary: _SAFE_ Post shares historical information without manipulation or deception.",
          "Subreddit: politics<br>Cluster Summary: Post is potentially manipulative, uses sensational language, lacks context.",
          "Subreddit: politics<br>Cluster Summary: Post is potentially manipulative, uses sensational language, lacks context.",
          "Subreddit: politics<br>Cluster Summary: Post is potentially manipulative, uses sensational language, lacks context.",
          "Subreddit: politics<br>Cluster Summary: SAFE: Repeated use to emphasize security and trust.",
          "Subreddit: politics<br>Cluster Summary: SAFE: Repeated use to emphasize security and trust.",
          "Subreddit: politics<br>Cluster Summary: SAFE: Repeated use to emphasize security and trust.",
          "Subreddit: politics<br>Cluster Summary: Post is potentially manipulative, uses sensational language, lacks context.",
          "Subreddit: politics<br>Cluster Summary: SAFE: Repeated use to emphasize security and trust.",
          "Subreddit: politics<br>Cluster Summary: SAFE: Repeated use to emphasize security and trust.",
          "Subreddit: politics<br>Cluster Summary: SAFE: Repeated use to emphasize security and trust.",
          "Subreddit: politics<br>Cluster Summary: Post is potentially manipulative, uses sensational language, lacks context.",
          "Subreddit: politics<br>Cluster Summary: _SAFE_ Post shares historical information without manipulation or deception.",
          "Subreddit: politics<br>Cluster Summary: SAFE: Repeated use to emphasize security and trust.",
          "Subreddit: politics<br>Cluster Summary: Post is potentially manipulative, uses sensational language, lacks context.",
          "Subreddit: politics<br>Cluster Summary: Post is potentially manipulative, uses sensational language, lacks context.",
          "Subreddit: politics<br>Cluster Summary: _SAFE_ Post shares historical information without manipulation or deception.",
          "Subreddit: politics<br>Cluster Summary: Post is potentially manipulative, uses sensational language, lacks context.",
          "Subreddit: politics<br>Cluster Summary: Safe: Encourages critical thinking, prompts discussion without manipulation.",
          "Subreddit: politics<br>Cluster Summary: Safe: Encourages critical thinking, prompts discussion without manipulation.",
          "Subreddit: politics<br>Cluster Summary: SAFE: Repeated use to emphasize security and trust.",
          "Subreddit: politics<br>Cluster Summary: SAFE: Repeated use to emphasize security and trust.",
          "Subreddit: politics<br>Cluster Summary: Post is potentially manipulative, uses sensational language, lacks context.",
          "Subreddit: politics<br>Cluster Summary: SAFE: Repeated use to emphasize security and trust.",
          "Subreddit: politics<br>Cluster Summary: Post is potentially manipulative, uses sensational language, lacks context.",
          "Subreddit: politics<br>Cluster Summary: Post is potentially manipulative, uses sensational language, lacks context.",
          "Subreddit: politics<br>Cluster Summary: Post is potentially manipulative, uses sensational language, lacks context.",
          "Subreddit: bodyweightfitness<br>Cluster Summary: Safe: Encourages critical thinking, prompts discussion without manipulation.",
          "Subreddit: bodyweightfitness<br>Cluster Summary: Safe: Seek genuine advice, share fitness journey, transparent intentions.",
          "Subreddit: bodyweightfitness<br>Cluster Summary: Safe: Seek genuine advice, share fitness journey, transparent intentions.",
          "Subreddit: bodyweightfitness<br>Cluster Summary: Safe: Seek genuine advice, share fitness journey, transparent intentions.",
          "Subreddit: bodyweightfitness<br>Cluster Summary: Safe: Seek genuine advice, share fitness journey, transparent intentions.",
          "Subreddit: bodyweightfitness<br>Cluster Summary: Safe: Seek genuine advice, share fitness journey, transparent intentions.",
          "Subreddit: bodyweightfitness<br>Cluster Summary: Safe: Seek genuine advice, share fitness journey, transparent intentions.",
          "Subreddit: bodyweightfitness<br>Cluster Summary: Safe: Seek genuine advice, share fitness journey, transparent intentions.",
          "Subreddit: bodyweightfitness<br>Cluster Summary: Safe: Seek genuine advice, share fitness journey, transparent intentions.",
          "Subreddit: bodyweightfitness<br>Cluster Summary: Safe: Seek genuine advice, share fitness journey, transparent intentions.",
          "Subreddit: bodyweightfitness<br>Cluster Summary: Safe: Seek genuine advice, share fitness journey, transparent intentions.",
          "Subreddit: bodyweightfitness<br>Cluster Summary: Safe: Seek genuine advice, share fitness journey, transparent intentions.",
          "Subreddit: bodyweightfitness<br>Cluster Summary: Safe: Seek genuine advice, share fitness journey, transparent intentions.",
          "Subreddit: bodyweightfitness<br>Cluster Summary: Safe: Seek genuine advice, share fitness journey, transparent intentions.",
          "Subreddit: bodyweightfitness<br>Cluster Summary: Safe: Seek genuine advice, share fitness journey, transparent intentions.",
          "Subreddit: bodyweightfitness<br>Cluster Summary: Safe: Seek genuine advice, share fitness journey, transparent intentions.",
          "Subreddit: bodyweightfitness<br>Cluster Summary: Safe: Seek genuine advice, share fitness journey, transparent intentions.",
          "Subreddit: bodyweightfitness<br>Cluster Summary: Safe: Seek genuine advice, share fitness journey, transparent intentions.",
          "Subreddit: bodyweightfitness<br>Cluster Summary: Safe: Encourages critical thinking, prompts discussion without manipulation.",
          "Subreddit: bodyweightfitness<br>Cluster Summary: Safe: Seek genuine advice, share fitness journey, transparent intentions.",
          "Subreddit: bodyweightfitness<br>Cluster Summary: Safe: Seek genuine advice, share fitness journey, transparent intentions.",
          "Subreddit: bodyweightfitness<br>Cluster Summary: Safe: Seek genuine advice, share fitness journey, transparent intentions.",
          "Subreddit: bodyweightfitness<br>Cluster Summary: Safe: Seek genuine advice, share fitness journey, transparent intentions.",
          "Subreddit: bodyweightfitness<br>Cluster Summary: Safe: Seek genuine advice, share fitness journey, transparent intentions.",
          "Subreddit: bodyweightfitness<br>Cluster Summary: Safe: Seek genuine advice, share fitness journey, transparent intentions.",
          "Subreddit: bodyweightfitness<br>Cluster Summary: Safe: Seek genuine advice, share fitness journey, transparent intentions.",
          "Subreddit: bodyweightfitness<br>Cluster Summary: Safe: Seek genuine advice, share fitness journey, transparent intentions.",
          "Subreddit: bodyweightfitness<br>Cluster Summary: _SAFE_ Post shares historical information without manipulation or deception.",
          "Subreddit: bodyweightfitness<br>Cluster Summary: Safe: Seek genuine advice, share fitness journey, transparent intentions.",
          "Subreddit: bodyweightfitness<br>Cluster Summary: Safe: Seek genuine advice, share fitness journey, transparent intentions.",
          "Subreddit: bodyweightfitness<br>Cluster Summary: Safe: Seek genuine advice, share fitness journey, transparent intentions.",
          "Subreddit: bodyweightfitness<br>Cluster Summary: Safe: Encourages critical thinking, prompts discussion without manipulation.",
          "Subreddit: bodyweightfitness<br>Cluster Summary: Safe: Seek genuine advice, share fitness journey, transparent intentions.",
          "Subreddit: bodyweightfitness<br>Cluster Summary: Safe: Seek genuine advice, share fitness journey, transparent intentions.",
          "Subreddit: bodyweightfitness<br>Cluster Summary: Safe: Seek genuine advice, share fitness journey, transparent intentions.",
          "Subreddit: bodyweightfitness<br>Cluster Summary: Safe: Seek genuine advice, share fitness journey, transparent intentions.",
          "Subreddit: bodyweightfitness<br>Cluster Summary: Safe: Seek genuine advice, share fitness journey, transparent intentions.",
          "Subreddit: bodyweightfitness<br>Cluster Summary: Safe: Seek genuine advice, share fitness journey, transparent intentions.",
          "Subreddit: bodyweightfitness<br>Cluster Summary: Safe: Seek genuine advice, share fitness journey, transparent intentions.",
          "Subreddit: bodyweightfitness<br>Cluster Summary: Safe: Seek genuine advice, share fitness journey, transparent intentions.",
          "Subreddit: bodyweightfitness<br>Cluster Summary: Safe: Encourages critical thinking, prompts discussion without manipulation.",
          "Subreddit: bodyweightfitness<br>Cluster Summary: Safe: Seek genuine advice, share fitness journey, transparent intentions.",
          "Subreddit: bodyweightfitness<br>Cluster Summary: Safe: Seek genuine advice, share fitness journey, transparent intentions.",
          "Subreddit: bodyweightfitness<br>Cluster Summary: Safe: Seek genuine advice, share fitness journey, transparent intentions.",
          "Subreddit: bodyweightfitness<br>Cluster Summary: Safe: Seek genuine advice, share fitness journey, transparent intentions.",
          "Subreddit: bodyweightfitness<br>Cluster Summary: Safe: Seek genuine advice, share fitness journey, transparent intentions.",
          "Subreddit: bodyweightfitness<br>Cluster Summary: Safe: Seek genuine advice, share fitness journey, transparent intentions.",
          "Subreddit: bodyweightfitness<br>Cluster Summary: Safe: Seek genuine advice, share fitness journey, transparent intentions.",
          "Subreddit: bodyweightfitness<br>Cluster Summary: Safe: Seek genuine advice, share fitness journey, transparent intentions.",
          "Subreddit: bodyweightfitness<br>Cluster Summary: Safe: Seek genuine advice, share fitness journey, transparent intentions.",
          "Subreddit: bodyweightfitness<br>Cluster Summary: Safe: Seek genuine advice, share fitness journey, transparent intentions.",
          "Subreddit: bodyweightfitness<br>Cluster Summary: Safe: Seek genuine advice, share fitness journey, transparent intentions.",
          "Subreddit: bodyweightfitness<br>Cluster Summary: Safe: Seek genuine advice, share fitness journey, transparent intentions.",
          "Subreddit: bodyweightfitness<br>Cluster Summary: Safe: Seek genuine advice, share fitness journey, transparent intentions.",
          "Subreddit: bodyweightfitness<br>Cluster Summary: Safe: Encourages critical thinking, prompts discussion without manipulation.",
          "Subreddit: bodyweightfitness<br>Cluster Summary: Safe: Seek genuine advice, share fitness journey, transparent intentions.",
          "Subreddit: bodyweightfitness<br>Cluster Summary: Safe: Seek genuine advice, share fitness journey, transparent intentions.",
          "Subreddit: bodyweightfitness<br>Cluster Summary: Safe: Seek genuine advice, share fitness journey, transparent intentions.",
          "Subreddit: bodyweightfitness<br>Cluster Summary: Safe: Seek genuine advice, share fitness journey, transparent intentions.",
          "Subreddit: bodyweightfitness<br>Cluster Summary: Safe: Seek genuine advice, share fitness journey, transparent intentions.",
          "Subreddit: bodyweightfitness<br>Cluster Summary: Safe: Seek genuine advice, share fitness journey, transparent intentions.",
          "Subreddit: bodyweightfitness<br>Cluster Summary: Safe: Seek genuine advice, share fitness journey, transparent intentions.",
          "Subreddit: bodyweightfitness<br>Cluster Summary: Safe: Seek genuine advice, share fitness journey, transparent intentions.",
          "Subreddit: bodyweightfitness<br>Cluster Summary: Safe: Seek genuine advice, share fitness journey, transparent intentions.",
          "Subreddit: bodyweightfitness<br>Cluster Summary: Safe: Seek genuine advice, share fitness journey, transparent intentions.",
          "Subreddit: bodyweightfitness<br>Cluster Summary: Safe: Seek genuine advice, share fitness journey, transparent intentions.",
          "Subreddit: bodyweightfitness<br>Cluster Summary: Safe: Seek genuine advice, share fitness journey, transparent intentions.",
          "Subreddit: bodyweightfitness<br>Cluster Summary: Safe: Seek genuine advice, share fitness journey, transparent intentions.",
          "Subreddit: bodyweightfitness<br>Cluster Summary: Safe: Seek genuine advice, share fitness journey, transparent intentions.",
          "Subreddit: bodyweightfitness<br>Cluster Summary: Safe: Seek genuine advice, share fitness journey, transparent intentions.",
          "Subreddit: bodyweightfitness<br>Cluster Summary: Safe: Seek genuine advice, share fitness journey, transparent intentions.",
          "Subreddit: bodyweightfitness<br>Cluster Summary: Safe: Seek genuine advice, share fitness journey, transparent intentions.",
          "Subreddit: bodyweightfitness<br>Cluster Summary: Safe: Seek genuine advice, share fitness journey, transparent intentions.",
          "Subreddit: bodyweightfitness<br>Cluster Summary: Safe: Encourages critical thinking, prompts discussion without manipulation.",
          "Subreddit: bodyweightfitness<br>Cluster Summary: SAFE: Repeated use to emphasize security and trust.",
          "Subreddit: bodyweightfitness<br>Cluster Summary: Safe: Seek genuine advice, share fitness journey, transparent intentions.",
          "Subreddit: bodyweightfitness<br>Cluster Summary: Safe: Seek genuine advice, share fitness journey, transparent intentions.",
          "Subreddit: bodyweightfitness<br>Cluster Summary: Safe: Seek genuine advice, share fitness journey, transparent intentions.",
          "Subreddit: bodyweightfitness<br>Cluster Summary: Safe: Seek genuine advice, share fitness journey, transparent intentions.",
          "Subreddit: bodyweightfitness<br>Cluster Summary: Safe: Seek genuine advice, share fitness journey, transparent intentions.",
          "Subreddit: bodyweightfitness<br>Cluster Summary: Safe: Seek genuine advice, share fitness journey, transparent intentions.",
          "Subreddit: bodyweightfitness<br>Cluster Summary: Safe: Seek genuine advice, share fitness journey, transparent intentions.",
          "Subreddit: bodyweightfitness<br>Cluster Summary: Safe: Seek genuine advice, share fitness journey, transparent intentions.",
          "Subreddit: bodyweightfitness<br>Cluster Summary: Safe: Seek genuine advice, share fitness journey, transparent intentions.",
          "Subreddit: bodyweightfitness<br>Cluster Summary: Safe: Seek genuine advice, share fitness journey, transparent intentions.",
          "Subreddit: bodyweightfitness<br>Cluster Summary: Safe: Seek genuine advice, share fitness journey, transparent intentions.",
          "Subreddit: bodyweightfitness<br>Cluster Summary: Safe: Seek genuine advice, share fitness journey, transparent intentions.",
          "Subreddit: bodyweightfitness<br>Cluster Summary: Safe: Seek genuine advice, share fitness journey, transparent intentions.",
          "Subreddit: bodyweightfitness<br>Cluster Summary: Safe: Seek genuine advice, share fitness journey, transparent intentions.",
          "Subreddit: bodyweightfitness<br>Cluster Summary: Safe: Seek genuine advice, share fitness journey, transparent intentions.",
          "Subreddit: bodyweightfitness<br>Cluster Summary: Safe: Seek genuine advice, share fitness journey, transparent intentions.",
          "Subreddit: PoliticalDiscussion<br>Cluster Summary: Safe: Encourages critical thinking, prompts discussion without manipulation.",
          "Subreddit: PoliticalDiscussion<br>Cluster Summary: Post is potentially manipulative, uses sensational language, lacks context.",
          "Subreddit: PoliticalDiscussion<br>Cluster Summary: Safe: Encourages critical thinking, prompts discussion without manipulation.",
          "Subreddit: PoliticalDiscussion<br>Cluster Summary: Safe: Encourages critical thinking, prompts discussion without manipulation.",
          "Subreddit: PoliticalDiscussion<br>Cluster Summary: Post is potentially manipulative, uses sensational language, lacks context.",
          "Subreddit: PoliticalDiscussion<br>Cluster Summary: Safe: Encourages critical thinking, prompts discussion without manipulation.",
          "Subreddit: PoliticalDiscussion<br>Cluster Summary: Post is potentially manipulative, uses sensational language, lacks context.",
          "Subreddit: PoliticalDiscussion<br>Cluster Summary: Safe: Encourages critical thinking, prompts discussion without manipulation.",
          "Subreddit: PoliticalDiscussion<br>Cluster Summary: Safe: Encourages critical thinking, prompts discussion without manipulation."
         ],
         "legendgroup": "",
         "marker": {
          "color": [
           4,
           4,
           0,
           0,
           4,
           4,
           2,
           4,
           4,
           0,
           2,
           4,
           0,
           4,
           0,
           5,
           2,
           5,
           6,
           0,
           0,
           5,
           5,
           5,
           5,
           5,
           5,
           0,
           0,
           5,
           2,
           5,
           2,
           0,
           5,
           1,
           5,
           2,
           2,
           5,
           5,
           0,
           5,
           5,
           0,
           0,
           5,
           5,
           5,
           5,
           5,
           5,
           5,
           0,
           0,
           4,
           0,
           5,
           5,
           0,
           5,
           5,
           5,
           5,
           4,
           0,
           3,
           3,
           0,
           3,
           3,
           2,
           3,
           0,
           3,
           3,
           2,
           0,
           3,
           3,
           1,
           3,
           3,
           0,
           0,
           3,
           3,
           2,
           0,
           2,
           2,
           2,
           3,
           3,
           3,
           0,
           3,
           2,
           3,
           0,
           3,
           3,
           3,
           3,
           4,
           2,
           0,
           0,
           3,
           2,
           0,
           6,
           2,
           6,
           6,
           6,
           0,
           6,
           0,
           4,
           6,
           0,
           4,
           6,
           4,
           6,
           6,
           4,
           6,
           6,
           6,
           0,
           0,
           0,
           6,
           0,
           0,
           0,
           6,
           4,
           0,
           6,
           6,
           4,
           6,
           2,
           2,
           0,
           0,
           6,
           0,
           6,
           6,
           6,
           2,
           1,
           1,
           1,
           1,
           1,
           1,
           1,
           1,
           1,
           1,
           1,
           1,
           1,
           1,
           1,
           1,
           1,
           2,
           1,
           1,
           1,
           1,
           1,
           1,
           1,
           1,
           4,
           1,
           1,
           1,
           2,
           1,
           1,
           1,
           1,
           1,
           1,
           1,
           1,
           2,
           1,
           1,
           1,
           1,
           1,
           1,
           1,
           1,
           1,
           1,
           1,
           1,
           1,
           2,
           1,
           1,
           1,
           1,
           1,
           1,
           1,
           1,
           1,
           1,
           1,
           1,
           1,
           1,
           1,
           1,
           1,
           1,
           2,
           0,
           1,
           1,
           1,
           1,
           1,
           1,
           1,
           1,
           1,
           1,
           1,
           1,
           1,
           1,
           1,
           1,
           2,
           6,
           2,
           2,
           6,
           2,
           6,
           2,
           2
          ],
          "coloraxis": "coloraxis",
          "symbol": "circle"
         },
         "mode": "markers",
         "name": "",
         "orientation": "v",
         "showlegend": false,
         "type": "scatter",
         "x": [
          5.962364673614502,
          5.861822605133057,
          -9.773815155029297,
          -10.093233108520508,
          5.529618263244629,
          5.592855930328369,
          5.984560966491699,
          5.561473846435547,
          5.812093734741211,
          -9.743268966674805,
          5.87970495223999,
          5.532888889312744,
          -9.778428077697754,
          4.596989154815674,
          -9.725125312805176,
          5.606588363647461,
          5.476141452789307,
          5.875533103942871,
          6.470314025878906,
          -9.615989685058594,
          -9.704158782958984,
          5.768857479095459,
          5.626487731933594,
          5.643845558166504,
          5.621210098266602,
          5.81612491607666,
          5.620694637298584,
          -9.986272811889648,
          -9.851801872253418,
          5.903936862945557,
          5.786208152770996,
          5.6697797775268555,
          5.891477584838867,
          -9.686388969421387,
          5.645134925842285,
          15.016326904296875,
          5.525349140167236,
          5.959396839141846,
          5.873165130615234,
          5.489390850067139,
          5.493068218231201,
          -9.481005668640137,
          5.672384738922119,
          5.680723190307617,
          -9.869302749633789,
          -9.910968780517578,
          5.546466827392578,
          5.4735236167907715,
          5.655065059661865,
          5.584656238555908,
          5.63483190536499,
          5.7110209465026855,
          5.571409702301025,
          -9.685643196105957,
          -9.914056777954102,
          5.10066032409668,
          -9.965911865234375,
          5.662416458129883,
          5.6173295974731445,
          -9.555217742919922,
          5.606575965881348,
          5.615743637084961,
          5.384585857391357,
          5.744156360626221,
          5.342166423797607,
          -9.402010917663574,
          2.7590348720550537,
          2.7096407413482666,
          -9.867746353149414,
          3.186734199523926,
          2.714738368988037,
          5.987282752990723,
          2.7085888385772705,
          -9.516913414001465,
          3.0408236980438232,
          3.194943904876709,
          6.024428844451904,
          -9.792133331298828,
          1.917331576347351,
          2.0131218433380127,
          13.054011344909668,
          2.164555311203003,
          1.9442501068115234,
          -9.456135749816895,
          -9.687984466552734,
          3.05696702003479,
          1.9397903680801392,
          5.8456292152404785,
          -9.500396728515625,
          5.78930139541626,
          6.3883771896362305,
          6.0529704093933105,
          2.7200064659118652,
          3.227904796600342,
          1.9749928712844849,
          -9.659964561462402,
          2.120643377304077,
          6.382026195526123,
          2.367109537124634,
          -9.801177024841309,
          2.701151132583618,
          2.0634169578552246,
          2.9675841331481934,
          2.6976819038391113,
          5.021533489227295,
          5.630030155181885,
          -9.426193237304688,
          -9.588170051574707,
          3.129779815673828,
          6.374147415161133,
          -10.003913879394531,
          6.349736213684082,
          6.413849353790283,
          6.474038600921631,
          6.449249744415283,
          6.443673133850098,
          -10.088417053222656,
          6.173236846923828,
          -9.976712226867676,
          5.388221740722656,
          6.451805114746094,
          -9.679624557495117,
          4.947319507598877,
          5.376386642456055,
          5.056051254272461,
          5.52988338470459,
          5.342099189758301,
          5.006575584411621,
          5.328115463256836,
          6.404527187347412,
          6.183262825012207,
          -9.47701644897461,
          -9.99240779876709,
          -9.986333847045898,
          6.177961826324463,
          -10.187515258789062,
          -9.717257499694824,
          -9.742358207702637,
          6.407072067260742,
          5.015838623046875,
          -9.944267272949219,
          6.459078788757324,
          6.3852925300598145,
          4.844274044036865,
          6.481350898742676,
          6.389274597167969,
          6.389705181121826,
          -9.47128963470459,
          -9.74651050567627,
          6.474653244018555,
          -10.008017539978027,
          5.366571426391602,
          6.480254650115967,
          5.311887741088867,
          7.550944805145264,
          14.322858810424805,
          14.511466026306152,
          13.265473365783691,
          13.886652946472168,
          14.221463203430176,
          14.210598945617676,
          14.580788612365723,
          12.338456153869629,
          13.297480583190918,
          13.973111152648926,
          14.807476997375488,
          13.86703109741211,
          12.338616371154785,
          14.90455150604248,
          15.305641174316406,
          14.186016082763672,
          13.567255973815918,
          7.337491512298584,
          14.678031921386719,
          14.129648208618164,
          15.294976234436035,
          12.362601280212402,
          13.389262199401855,
          12.440228462219238,
          14.994563102722168,
          13.199670791625977,
          4.985498428344727,
          12.52587604522705,
          13.588318824768066,
          13.586872100830078,
          6.865706443786621,
          14.145308494567871,
          12.731590270996094,
          14.115102767944336,
          13.914275169372559,
          13.920856475830078,
          12.412152290344238,
          14.427367210388184,
          13.726763725280762,
          7.578378677368164,
          14.532132148742676,
          13.581208229064941,
          13.288578033447266,
          12.55961799621582,
          14.967791557312012,
          14.97553825378418,
          15.009363174438477,
          13.566452026367188,
          13.895855903625488,
          12.335531234741211,
          13.131830215454102,
          14.668373107910156,
          13.566420555114746,
          7.355724811553955,
          13.72185230255127,
          13.9254150390625,
          13.960079193115234,
          12.663724899291992,
          14.623858451843262,
          12.536314010620117,
          13.354759216308594,
          12.55366325378418,
          15.258991241455078,
          13.148355484008789,
          14.842312812805176,
          14.666492462158203,
          14.759038925170898,
          13.427070617675781,
          15.006699562072754,
          12.692081451416016,
          14.973722457885742,
          14.456280708312988,
          7.470143795013428,
          -10.020120620727539,
          14.183648109436035,
          14.41313648223877,
          13.653315544128418,
          12.345779418945312,
          14.79903507232666,
          13.876255989074707,
          12.52689266204834,
          12.635934829711914,
          14.463656425476074,
          12.473196983337402,
          13.798423767089844,
          14.441843032836914,
          14.023550987243652,
          14.205446243286133,
          12.602527618408203,
          14.263558387756348,
          5.3963422775268555,
          6.496321678161621,
          5.88091516494751,
          5.068652629852295,
          5.2748565673828125,
          5.126896858215332,
          6.410647869110107,
          5.1238484382629395,
          5.373676300048828
         ],
         "xaxis": "x",
         "y": [
          9.397680282592773,
          9.500936508178711,
          4.721045017242432,
          4.881375789642334,
          9.745732307434082,
          9.776307106018066,
          6.483159065246582,
          9.755523681640625,
          9.540788650512695,
          5.095818519592285,
          7.158900737762451,
          9.747212409973145,
          4.903075218200684,
          9.813193321228027,
          4.9712958335876465,
          12.256706237792969,
          6.510409832000732,
          11.638715744018555,
          0.42528608441352844,
          4.387734413146973,
          4.726219177246094,
          13.786852836608887,
          12.177437782287598,
          13.814391136169434,
          13.897006034851074,
          11.70263957977295,
          13.888052940368652,
          5.08505392074585,
          4.973332405090332,
          11.616730690002441,
          6.635331153869629,
          12.514717102050781,
          7.001134872436523,
          4.897772789001465,
          13.718335151672363,
          5.5259175300598145,
          11.593465805053711,
          7.192645072937012,
          6.551534175872803,
          13.233192443847656,
          13.294853210449219,
          5.0706987380981445,
          13.83218765258789,
          12.51290225982666,
          4.605632781982422,
          5.209644794464111,
          12.346749305725098,
          11.581576347351074,
          12.044835090637207,
          11.83027458190918,
          12.210639953613281,
          13.785332679748535,
          11.799651145935059,
          4.742499828338623,
          4.314849853515625,
          9.911072731018066,
          4.494112014770508,
          11.949437141418457,
          13.89447021484375,
          4.578136444091797,
          11.930742263793945,
          12.242517471313477,
          11.356513977050781,
          11.7511568069458,
          10.82028865814209,
          4.788302421569824,
          8.791379928588867,
          8.917986869812012,
          4.960732936859131,
          9.213831901550293,
          8.927223205566406,
          6.347752094268799,
          8.469539642333984,
          4.572456359863281,
          9.074763298034668,
          9.236554145812988,
          6.510390758514404,
          4.946750640869141,
          9.030852317810059,
          9.20230770111084,
          6.011883735656738,
          9.316411018371582,
          9.127410888671875,
          4.648387908935547,
          5.10426664352417,
          9.181469917297363,
          9.13457202911377,
          7.181178569793701,
          4.71087121963501,
          7.280675411224365,
          6.720485687255859,
          6.4095354080200195,
          8.730050086975098,
          9.299549102783203,
          9.169533729553223,
          5.178018093109131,
          9.32618522644043,
          6.795680999755859,
          9.362462997436523,
          4.807097434997559,
          8.588357925415039,
          9.267484664916992,
          9.131349563598633,
          8.628150939941406,
          9.817428588867188,
          6.4706549644470215,
          5.110828876495361,
          4.9701924324035645,
          9.220172882080078,
          6.726762771606445,
          4.803302764892578,
          -0.28359144926071167,
          6.703024864196777,
          0.2526194453239441,
          0.5611591935157776,
          0.6551498770713806,
          4.923649311065674,
          1.3788464069366455,
          4.575007438659668,
          3.131016731262207,
          0.0606546588242054,
          4.3176374435424805,
          9.670595169067383,
          2.6449568271636963,
          9.768135070800781,
          2.437473773956299,
          2.7600910663604736,
          9.597710609436035,
          2.805347204208374,
          0.594222366809845,
          1.3555296659469604,
          4.858905792236328,
          4.955453872680664,
          4.244233131408691,
          1.3703314065933228,
          4.988047122955322,
          4.788158416748047,
          5.05003023147583,
          -0.21531927585601807,
          9.723532676696777,
          4.891491413116455,
          0.16534332931041718,
          -0.24648821353912354,
          9.815450668334961,
          0.4057362675666809,
          6.7398576736450195,
          6.769095420837402,
          4.757717132568359,
          5.026216506958008,
          0.5798362493515015,
          4.659308910369873,
          2.5902318954467773,
          0.4969489574432373,
          2.843740701675415,
          6.628660678863525,
          5.08535099029541,
          4.400852203369141,
          5.957508563995361,
          4.469456672668457,
          6.25422477722168,
          4.75008487701416,
          5.669484615325928,
          2.0356974601745605,
          6.015429496765137,
          4.456655025482178,
          5.486432075500488,
          6.475314617156982,
          2.0379247665405273,
          6.788584232330322,
          4.823711395263672,
          6.484131813049316,
          5.089359760284424,
          6.770166873931885,
          4.497056007385254,
          4.275320053100586,
          4.833056449890137,
          2.098951578140259,
          6.170943737030029,
          4.540781021118164,
          6.716885566711426,
          4.687206745147705,
          9.66892147064209,
          3.192425012588501,
          4.510004043579102,
          4.289458274841309,
          6.693904876708984,
          4.310218811035156,
          4.714066982269287,
          6.6371259689331055,
          6.214550495147705,
          6.3086748123168945,
          2.1870620250701904,
          5.903302192687988,
          4.467947006225586,
          6.604689121246338,
          5.766393184661865,
          4.635831832885742,
          5.025604248046875,
          4.691566467285156,
          6.738297462463379,
          6.7351202964782715,
          5.520009517669678,
          4.675492763519287,
          6.584479331970215,
          2.0260889530181885,
          4.749248504638672,
          4.4299116134643555,
          5.236698150634766,
          6.787608623504639,
          6.16699743270874,
          6.6368937492370605,
          6.405625343322754,
          4.6692609786987305,
          4.472839832305908,
          3.200385093688965,
          5.07641077041626,
          4.721158504486084,
          4.7903151512146,
          6.063965797424316,
          4.628696918487549,
          5.4277024269104,
          4.554563522338867,
          4.614908695220947,
          5.527645587921143,
          4.65713357925415,
          5.525935649871826,
          5.165389060974121,
          6.6949567794799805,
          5.072134971618652,
          6.40932035446167,
          5.274795055389404,
          5.1237592697143555,
          2.038649082183838,
          4.413846492767334,
          6.568416118621826,
          3.193629503250122,
          4.595681667327881,
          5.217002868652344,
          4.962071418762207,
          6.215625762939453,
          5.20638370513916,
          4.451150417327881,
          6.159643173217773,
          4.7613677978515625,
          6.362619876861572,
          6.42460298538208,
          0.42217618227005005,
          7.066403388977051,
          3.2259373664855957,
          2.9240920543670654,
          3.145334482192993,
          -0.17845593392848969,
          3.151066303253174,
          6.419360160827637
         ],
         "yaxis": "y"
        }
       ],
       "layout": {
        "coloraxis": {
         "colorbar": {
          "title": {
           "text": "cluster"
          }
         },
         "colorscale": [
          [
           0,
           "#0d0887"
          ],
          [
           0.1111111111111111,
           "#46039f"
          ],
          [
           0.2222222222222222,
           "#7201a8"
          ],
          [
           0.3333333333333333,
           "#9c179e"
          ],
          [
           0.4444444444444444,
           "#bd3786"
          ],
          [
           0.5555555555555556,
           "#d8576b"
          ],
          [
           0.6666666666666666,
           "#ed7953"
          ],
          [
           0.7777777777777778,
           "#fb9f3a"
          ],
          [
           0.8888888888888888,
           "#fdca26"
          ],
          [
           1,
           "#f0f921"
          ]
         ]
        },
        "height": 450,
        "legend": {
         "tracegroupgap": 0
        },
        "template": {
         "data": {
          "bar": [
           {
            "error_x": {
             "color": "#2a3f5f"
            },
            "error_y": {
             "color": "#2a3f5f"
            },
            "marker": {
             "line": {
              "color": "#E5ECF6",
              "width": 0.5
             },
             "pattern": {
              "fillmode": "overlay",
              "size": 10,
              "solidity": 0.2
             }
            },
            "type": "bar"
           }
          ],
          "barpolar": [
           {
            "marker": {
             "line": {
              "color": "#E5ECF6",
              "width": 0.5
             },
             "pattern": {
              "fillmode": "overlay",
              "size": 10,
              "solidity": 0.2
             }
            },
            "type": "barpolar"
           }
          ],
          "carpet": [
           {
            "aaxis": {
             "endlinecolor": "#2a3f5f",
             "gridcolor": "white",
             "linecolor": "white",
             "minorgridcolor": "white",
             "startlinecolor": "#2a3f5f"
            },
            "baxis": {
             "endlinecolor": "#2a3f5f",
             "gridcolor": "white",
             "linecolor": "white",
             "minorgridcolor": "white",
             "startlinecolor": "#2a3f5f"
            },
            "type": "carpet"
           }
          ],
          "choropleth": [
           {
            "colorbar": {
             "outlinewidth": 0,
             "ticks": ""
            },
            "type": "choropleth"
           }
          ],
          "contour": [
           {
            "colorbar": {
             "outlinewidth": 0,
             "ticks": ""
            },
            "colorscale": [
             [
              0,
              "#0d0887"
             ],
             [
              0.1111111111111111,
              "#46039f"
             ],
             [
              0.2222222222222222,
              "#7201a8"
             ],
             [
              0.3333333333333333,
              "#9c179e"
             ],
             [
              0.4444444444444444,
              "#bd3786"
             ],
             [
              0.5555555555555556,
              "#d8576b"
             ],
             [
              0.6666666666666666,
              "#ed7953"
             ],
             [
              0.7777777777777778,
              "#fb9f3a"
             ],
             [
              0.8888888888888888,
              "#fdca26"
             ],
             [
              1,
              "#f0f921"
             ]
            ],
            "type": "contour"
           }
          ],
          "contourcarpet": [
           {
            "colorbar": {
             "outlinewidth": 0,
             "ticks": ""
            },
            "type": "contourcarpet"
           }
          ],
          "heatmap": [
           {
            "colorbar": {
             "outlinewidth": 0,
             "ticks": ""
            },
            "colorscale": [
             [
              0,
              "#0d0887"
             ],
             [
              0.1111111111111111,
              "#46039f"
             ],
             [
              0.2222222222222222,
              "#7201a8"
             ],
             [
              0.3333333333333333,
              "#9c179e"
             ],
             [
              0.4444444444444444,
              "#bd3786"
             ],
             [
              0.5555555555555556,
              "#d8576b"
             ],
             [
              0.6666666666666666,
              "#ed7953"
             ],
             [
              0.7777777777777778,
              "#fb9f3a"
             ],
             [
              0.8888888888888888,
              "#fdca26"
             ],
             [
              1,
              "#f0f921"
             ]
            ],
            "type": "heatmap"
           }
          ],
          "heatmapgl": [
           {
            "colorbar": {
             "outlinewidth": 0,
             "ticks": ""
            },
            "colorscale": [
             [
              0,
              "#0d0887"
             ],
             [
              0.1111111111111111,
              "#46039f"
             ],
             [
              0.2222222222222222,
              "#7201a8"
             ],
             [
              0.3333333333333333,
              "#9c179e"
             ],
             [
              0.4444444444444444,
              "#bd3786"
             ],
             [
              0.5555555555555556,
              "#d8576b"
             ],
             [
              0.6666666666666666,
              "#ed7953"
             ],
             [
              0.7777777777777778,
              "#fb9f3a"
             ],
             [
              0.8888888888888888,
              "#fdca26"
             ],
             [
              1,
              "#f0f921"
             ]
            ],
            "type": "heatmapgl"
           }
          ],
          "histogram": [
           {
            "marker": {
             "pattern": {
              "fillmode": "overlay",
              "size": 10,
              "solidity": 0.2
             }
            },
            "type": "histogram"
           }
          ],
          "histogram2d": [
           {
            "colorbar": {
             "outlinewidth": 0,
             "ticks": ""
            },
            "colorscale": [
             [
              0,
              "#0d0887"
             ],
             [
              0.1111111111111111,
              "#46039f"
             ],
             [
              0.2222222222222222,
              "#7201a8"
             ],
             [
              0.3333333333333333,
              "#9c179e"
             ],
             [
              0.4444444444444444,
              "#bd3786"
             ],
             [
              0.5555555555555556,
              "#d8576b"
             ],
             [
              0.6666666666666666,
              "#ed7953"
             ],
             [
              0.7777777777777778,
              "#fb9f3a"
             ],
             [
              0.8888888888888888,
              "#fdca26"
             ],
             [
              1,
              "#f0f921"
             ]
            ],
            "type": "histogram2d"
           }
          ],
          "histogram2dcontour": [
           {
            "colorbar": {
             "outlinewidth": 0,
             "ticks": ""
            },
            "colorscale": [
             [
              0,
              "#0d0887"
             ],
             [
              0.1111111111111111,
              "#46039f"
             ],
             [
              0.2222222222222222,
              "#7201a8"
             ],
             [
              0.3333333333333333,
              "#9c179e"
             ],
             [
              0.4444444444444444,
              "#bd3786"
             ],
             [
              0.5555555555555556,
              "#d8576b"
             ],
             [
              0.6666666666666666,
              "#ed7953"
             ],
             [
              0.7777777777777778,
              "#fb9f3a"
             ],
             [
              0.8888888888888888,
              "#fdca26"
             ],
             [
              1,
              "#f0f921"
             ]
            ],
            "type": "histogram2dcontour"
           }
          ],
          "mesh3d": [
           {
            "colorbar": {
             "outlinewidth": 0,
             "ticks": ""
            },
            "type": "mesh3d"
           }
          ],
          "parcoords": [
           {
            "line": {
             "colorbar": {
              "outlinewidth": 0,
              "ticks": ""
             }
            },
            "type": "parcoords"
           }
          ],
          "pie": [
           {
            "automargin": true,
            "type": "pie"
           }
          ],
          "scatter": [
           {
            "fillpattern": {
             "fillmode": "overlay",
             "size": 10,
             "solidity": 0.2
            },
            "type": "scatter"
           }
          ],
          "scatter3d": [
           {
            "line": {
             "colorbar": {
              "outlinewidth": 0,
              "ticks": ""
             }
            },
            "marker": {
             "colorbar": {
              "outlinewidth": 0,
              "ticks": ""
             }
            },
            "type": "scatter3d"
           }
          ],
          "scattercarpet": [
           {
            "marker": {
             "colorbar": {
              "outlinewidth": 0,
              "ticks": ""
             }
            },
            "type": "scattercarpet"
           }
          ],
          "scattergeo": [
           {
            "marker": {
             "colorbar": {
              "outlinewidth": 0,
              "ticks": ""
             }
            },
            "type": "scattergeo"
           }
          ],
          "scattergl": [
           {
            "marker": {
             "colorbar": {
              "outlinewidth": 0,
              "ticks": ""
             }
            },
            "type": "scattergl"
           }
          ],
          "scattermapbox": [
           {
            "marker": {
             "colorbar": {
              "outlinewidth": 0,
              "ticks": ""
             }
            },
            "type": "scattermapbox"
           }
          ],
          "scatterpolar": [
           {
            "marker": {
             "colorbar": {
              "outlinewidth": 0,
              "ticks": ""
             }
            },
            "type": "scatterpolar"
           }
          ],
          "scatterpolargl": [
           {
            "marker": {
             "colorbar": {
              "outlinewidth": 0,
              "ticks": ""
             }
            },
            "type": "scatterpolargl"
           }
          ],
          "scatterternary": [
           {
            "marker": {
             "colorbar": {
              "outlinewidth": 0,
              "ticks": ""
             }
            },
            "type": "scatterternary"
           }
          ],
          "surface": [
           {
            "colorbar": {
             "outlinewidth": 0,
             "ticks": ""
            },
            "colorscale": [
             [
              0,
              "#0d0887"
             ],
             [
              0.1111111111111111,
              "#46039f"
             ],
             [
              0.2222222222222222,
              "#7201a8"
             ],
             [
              0.3333333333333333,
              "#9c179e"
             ],
             [
              0.4444444444444444,
              "#bd3786"
             ],
             [
              0.5555555555555556,
              "#d8576b"
             ],
             [
              0.6666666666666666,
              "#ed7953"
             ],
             [
              0.7777777777777778,
              "#fb9f3a"
             ],
             [
              0.8888888888888888,
              "#fdca26"
             ],
             [
              1,
              "#f0f921"
             ]
            ],
            "type": "surface"
           }
          ],
          "table": [
           {
            "cells": {
             "fill": {
              "color": "#EBF0F8"
             },
             "line": {
              "color": "white"
             }
            },
            "header": {
             "fill": {
              "color": "#C8D4E3"
             },
             "line": {
              "color": "white"
             }
            },
            "type": "table"
           }
          ]
         },
         "layout": {
          "annotationdefaults": {
           "arrowcolor": "#2a3f5f",
           "arrowhead": 0,
           "arrowwidth": 1
          },
          "autotypenumbers": "strict",
          "coloraxis": {
           "colorbar": {
            "outlinewidth": 0,
            "ticks": ""
           }
          },
          "colorscale": {
           "diverging": [
            [
             0,
             "#8e0152"
            ],
            [
             0.1,
             "#c51b7d"
            ],
            [
             0.2,
             "#de77ae"
            ],
            [
             0.3,
             "#f1b6da"
            ],
            [
             0.4,
             "#fde0ef"
            ],
            [
             0.5,
             "#f7f7f7"
            ],
            [
             0.6,
             "#e6f5d0"
            ],
            [
             0.7,
             "#b8e186"
            ],
            [
             0.8,
             "#7fbc41"
            ],
            [
             0.9,
             "#4d9221"
            ],
            [
             1,
             "#276419"
            ]
           ],
           "sequential": [
            [
             0,
             "#0d0887"
            ],
            [
             0.1111111111111111,
             "#46039f"
            ],
            [
             0.2222222222222222,
             "#7201a8"
            ],
            [
             0.3333333333333333,
             "#9c179e"
            ],
            [
             0.4444444444444444,
             "#bd3786"
            ],
            [
             0.5555555555555556,
             "#d8576b"
            ],
            [
             0.6666666666666666,
             "#ed7953"
            ],
            [
             0.7777777777777778,
             "#fb9f3a"
            ],
            [
             0.8888888888888888,
             "#fdca26"
            ],
            [
             1,
             "#f0f921"
            ]
           ],
           "sequentialminus": [
            [
             0,
             "#0d0887"
            ],
            [
             0.1111111111111111,
             "#46039f"
            ],
            [
             0.2222222222222222,
             "#7201a8"
            ],
            [
             0.3333333333333333,
             "#9c179e"
            ],
            [
             0.4444444444444444,
             "#bd3786"
            ],
            [
             0.5555555555555556,
             "#d8576b"
            ],
            [
             0.6666666666666666,
             "#ed7953"
            ],
            [
             0.7777777777777778,
             "#fb9f3a"
            ],
            [
             0.8888888888888888,
             "#fdca26"
            ],
            [
             1,
             "#f0f921"
            ]
           ]
          },
          "colorway": [
           "#636efa",
           "#EF553B",
           "#00cc96",
           "#ab63fa",
           "#FFA15A",
           "#19d3f3",
           "#FF6692",
           "#B6E880",
           "#FF97FF",
           "#FECB52"
          ],
          "font": {
           "color": "#2a3f5f"
          },
          "geo": {
           "bgcolor": "white",
           "lakecolor": "white",
           "landcolor": "#E5ECF6",
           "showlakes": true,
           "showland": true,
           "subunitcolor": "white"
          },
          "hoverlabel": {
           "align": "left"
          },
          "hovermode": "closest",
          "mapbox": {
           "style": "light"
          },
          "paper_bgcolor": "white",
          "plot_bgcolor": "#E5ECF6",
          "polar": {
           "angularaxis": {
            "gridcolor": "white",
            "linecolor": "white",
            "ticks": ""
           },
           "bgcolor": "#E5ECF6",
           "radialaxis": {
            "gridcolor": "white",
            "linecolor": "white",
            "ticks": ""
           }
          },
          "scene": {
           "xaxis": {
            "backgroundcolor": "#E5ECF6",
            "gridcolor": "white",
            "gridwidth": 2,
            "linecolor": "white",
            "showbackground": true,
            "ticks": "",
            "zerolinecolor": "white"
           },
           "yaxis": {
            "backgroundcolor": "#E5ECF6",
            "gridcolor": "white",
            "gridwidth": 2,
            "linecolor": "white",
            "showbackground": true,
            "ticks": "",
            "zerolinecolor": "white"
           },
           "zaxis": {
            "backgroundcolor": "#E5ECF6",
            "gridcolor": "white",
            "gridwidth": 2,
            "linecolor": "white",
            "showbackground": true,
            "ticks": "",
            "zerolinecolor": "white"
           }
          },
          "shapedefaults": {
           "line": {
            "color": "#2a3f5f"
           }
          },
          "ternary": {
           "aaxis": {
            "gridcolor": "white",
            "linecolor": "white",
            "ticks": ""
           },
           "baxis": {
            "gridcolor": "white",
            "linecolor": "white",
            "ticks": ""
           },
           "bgcolor": "#E5ECF6",
           "caxis": {
            "gridcolor": "white",
            "linecolor": "white",
            "ticks": ""
           }
          },
          "title": {
           "x": 0.05
          },
          "xaxis": {
           "automargin": true,
           "gridcolor": "white",
           "linecolor": "white",
           "ticks": "",
           "title": {
            "standoff": 15
           },
           "zerolinecolor": "white",
           "zerolinewidth": 2
          },
          "yaxis": {
           "automargin": true,
           "gridcolor": "white",
           "linecolor": "white",
           "ticks": "",
           "title": {
            "standoff": 15
           },
           "zerolinecolor": "white",
           "zerolinewidth": 2
          }
         }
        },
        "title": {
         "text": "UMAP Visualization of ChatGPT Responses"
        },
        "width": 800,
        "xaxis": {
         "anchor": "y",
         "domain": [
          0,
          1
         ],
         "title": {
          "text": "UMAP1"
         }
        },
        "yaxis": {
         "anchor": "x",
         "domain": [
          0,
          1
         ],
         "title": {
          "text": "UMAP2"
         }
        }
       }
      },
      "text/html": [
       "<div>                            <div id=\"395763ef-534c-4c0d-8d95-cdcee9b8dd3c\" class=\"plotly-graph-div\" style=\"height:450px; width:800px;\"></div>            <script type=\"text/javascript\">                require([\"plotly\"], function(Plotly) {                    window.PLOTLYENV=window.PLOTLYENV || {};                                    if (document.getElementById(\"395763ef-534c-4c0d-8d95-cdcee9b8dd3c\")) {                    Plotly.newPlot(                        \"395763ef-534c-4c0d-8d95-cdcee9b8dd3c\",                        [{\"hovertemplate\":\"\\u003cb\\u003e%{hovertext}\\u003c\\u002fb\\u003e\\u003cbr\\u003e\\u003cbr\\u003eUMAP1=%{x}\\u003cbr\\u003eUMAP2=%{y}\\u003cbr\\u003ecluster=%{marker.color}\\u003cextra\\u003e\\u003c\\u002fextra\\u003e\",\"hovertext\":[\"Subreddit: history\\u003cbr\\u003eCluster Summary: _SAFE_ Post shares historical information without manipulation or deception.\",\"Subreddit: history\\u003cbr\\u003eCluster Summary: _SAFE_ Post shares historical information without manipulation or deception.\",\"Subreddit: history\\u003cbr\\u003eCluster Summary: SAFE: Repeated use to emphasize security and trust.\",\"Subreddit: history\\u003cbr\\u003eCluster Summary: SAFE: Repeated use to emphasize security and trust.\",\"Subreddit: history\\u003cbr\\u003eCluster Summary: _SAFE_ Post shares historical information without manipulation or deception.\",\"Subreddit: history\\u003cbr\\u003eCluster Summary: _SAFE_ Post shares historical information without manipulation or deception.\",\"Subreddit: history\\u003cbr\\u003eCluster Summary: Safe: Encourages critical thinking, prompts discussion without manipulation.\",\"Subreddit: history\\u003cbr\\u003eCluster Summary: _SAFE_ Post shares historical information without manipulation or deception.\",\"Subreddit: history\\u003cbr\\u003eCluster Summary: _SAFE_ Post shares historical information without manipulation or deception.\",\"Subreddit: history\\u003cbr\\u003eCluster Summary: SAFE: Repeated use to emphasize security and trust.\",\"Subreddit: history\\u003cbr\\u003eCluster Summary: Safe: Encourages critical thinking, prompts discussion without manipulation.\",\"Subreddit: history\\u003cbr\\u003eCluster Summary: _SAFE_ Post shares historical information without manipulation or deception.\",\"Subreddit: history\\u003cbr\\u003eCluster Summary: SAFE: Repeated use to emphasize security and trust.\",\"Subreddit: history\\u003cbr\\u003eCluster Summary: _SAFE_ Post shares historical information without manipulation or deception.\",\"Subreddit: history\\u003cbr\\u003eCluster Summary: SAFE: Repeated use to emphasize security and trust.\",\"Subreddit: nfl\\u003cbr\\u003eCluster Summary: Safe: Provides factual updates without manipulation or deception.\",\"Subreddit: nfl\\u003cbr\\u003eCluster Summary: Safe: Encourages critical thinking, prompts discussion without manipulation.\",\"Subreddit: nfl\\u003cbr\\u003eCluster Summary: Safe: Provides factual updates without manipulation or deception.\",\"Subreddit: nfl\\u003cbr\\u003eCluster Summary: Post is potentially manipulative, uses sensational language, lacks context.\",\"Subreddit: nfl\\u003cbr\\u003eCluster Summary: SAFE: Repeated use to emphasize security and trust.\",\"Subreddit: nfl\\u003cbr\\u003eCluster Summary: SAFE: Repeated use to emphasize security and trust.\",\"Subreddit: nfl\\u003cbr\\u003eCluster Summary: Safe: Provides factual updates without manipulation or deception.\",\"Subreddit: nfl\\u003cbr\\u003eCluster Summary: Safe: Provides factual updates without manipulation or deception.\",\"Subreddit: nfl\\u003cbr\\u003eCluster Summary: Safe: Provides factual updates without manipulation or deception.\",\"Subreddit: nfl\\u003cbr\\u003eCluster Summary: Safe: Provides factual updates without manipulation or deception.\",\"Subreddit: nfl\\u003cbr\\u003eCluster Summary: Safe: Provides factual updates without manipulation or deception.\",\"Subreddit: nfl\\u003cbr\\u003eCluster Summary: Safe: Provides factual updates without manipulation or deception.\",\"Subreddit: nfl\\u003cbr\\u003eCluster Summary: SAFE: Repeated use to emphasize security and trust.\",\"Subreddit: nfl\\u003cbr\\u003eCluster Summary: SAFE: Repeated use to emphasize security and trust.\",\"Subreddit: nfl\\u003cbr\\u003eCluster Summary: Safe: Provides factual updates without manipulation or deception.\",\"Subreddit: nfl\\u003cbr\\u003eCluster Summary: Safe: Encourages critical thinking, prompts discussion without manipulation.\",\"Subreddit: nfl\\u003cbr\\u003eCluster Summary: Safe: Provides factual updates without manipulation or deception.\",\"Subreddit: nfl\\u003cbr\\u003eCluster Summary: Safe: Encourages critical thinking, prompts discussion without manipulation.\",\"Subreddit: nfl\\u003cbr\\u003eCluster Summary: SAFE: Repeated use to emphasize security and trust.\",\"Subreddit: nfl\\u003cbr\\u003eCluster Summary: Safe: Provides factual updates without manipulation or deception.\",\"Subreddit: nfl\\u003cbr\\u003eCluster Summary: Safe: Seek genuine advice, share fitness journey, transparent intentions.\",\"Subreddit: nfl\\u003cbr\\u003eCluster Summary: Safe: Provides factual updates without manipulation or deception.\",\"Subreddit: nfl\\u003cbr\\u003eCluster Summary: Safe: Encourages critical thinking, prompts discussion without manipulation.\",\"Subreddit: nfl\\u003cbr\\u003eCluster Summary: Safe: Encourages critical thinking, prompts discussion without manipulation.\",\"Subreddit: nfl\\u003cbr\\u003eCluster Summary: Safe: Provides factual updates without manipulation or deception.\",\"Subreddit: nfl\\u003cbr\\u003eCluster Summary: Safe: Provides factual updates without manipulation or deception.\",\"Subreddit: nfl\\u003cbr\\u003eCluster Summary: SAFE: Repeated use to emphasize security and trust.\",\"Subreddit: nfl\\u003cbr\\u003eCluster Summary: Safe: Provides factual updates without manipulation or deception.\",\"Subreddit: nfl\\u003cbr\\u003eCluster Summary: Safe: Provides factual updates without manipulation or deception.\",\"Subreddit: nfl\\u003cbr\\u003eCluster Summary: SAFE: Repeated use to emphasize security and trust.\",\"Subreddit: nfl\\u003cbr\\u003eCluster Summary: SAFE: Repeated use to emphasize security and trust.\",\"Subreddit: nfl\\u003cbr\\u003eCluster Summary: Safe: Provides factual updates without manipulation or deception.\",\"Subreddit: nfl\\u003cbr\\u003eCluster Summary: Safe: Provides factual updates without manipulation or deception.\",\"Subreddit: nfl\\u003cbr\\u003eCluster Summary: Safe: Provides factual updates without manipulation or deception.\",\"Subreddit: nfl\\u003cbr\\u003eCluster Summary: Safe: Provides factual updates without manipulation or deception.\",\"Subreddit: nfl\\u003cbr\\u003eCluster Summary: Safe: Provides factual updates without manipulation or deception.\",\"Subreddit: nfl\\u003cbr\\u003eCluster Summary: Safe: Provides factual updates without manipulation or deception.\",\"Subreddit: nfl\\u003cbr\\u003eCluster Summary: Safe: Provides factual updates without manipulation or deception.\",\"Subreddit: nfl\\u003cbr\\u003eCluster Summary: SAFE: Repeated use to emphasize security and trust.\",\"Subreddit: nfl\\u003cbr\\u003eCluster Summary: SAFE: Repeated use to emphasize security and trust.\",\"Subreddit: nfl\\u003cbr\\u003eCluster Summary: _SAFE_ Post shares historical information without manipulation or deception.\",\"Subreddit: nfl\\u003cbr\\u003eCluster Summary: SAFE: Repeated use to emphasize security and trust.\",\"Subreddit: nfl\\u003cbr\\u003eCluster Summary: Safe: Provides factual updates without manipulation or deception.\",\"Subreddit: nfl\\u003cbr\\u003eCluster Summary: Safe: Provides factual updates without manipulation or deception.\",\"Subreddit: nfl\\u003cbr\\u003eCluster Summary: SAFE: Repeated use to emphasize security and trust.\",\"Subreddit: nfl\\u003cbr\\u003eCluster Summary: Safe: Provides factual updates without manipulation or deception.\",\"Subreddit: nfl\\u003cbr\\u003eCluster Summary: Safe: Provides factual updates without manipulation or deception.\",\"Subreddit: nfl\\u003cbr\\u003eCluster Summary: Safe: Provides factual updates without manipulation or deception.\",\"Subreddit: nfl\\u003cbr\\u003eCluster Summary: Safe: Provides factual updates without manipulation or deception.\",\"Subreddit: nfl\\u003cbr\\u003eCluster Summary: _SAFE_ Post shares historical information without manipulation or deception.\",\"Subreddit: nfl\\u003cbr\\u003eCluster Summary: SAFE: Repeated use to emphasize security and trust.\",\"Subreddit: nfl\\u003cbr\\u003eCluster Summary: Post is safe. Light-hearted observations, no intent to manipulate.\",\"Subreddit: Showerthoughts\\u003cbr\\u003eCluster Summary: Post is safe. Light-hearted observations, no intent to manipulate.\",\"Subreddit: Showerthoughts\\u003cbr\\u003eCluster Summary: SAFE: Repeated use to emphasize security and trust.\",\"Subreddit: Showerthoughts\\u003cbr\\u003eCluster Summary: Post is safe. Light-hearted observations, no intent to manipulate.\",\"Subreddit: Showerthoughts\\u003cbr\\u003eCluster Summary: Post is safe. Light-hearted observations, no intent to manipulate.\",\"Subreddit: Showerthoughts\\u003cbr\\u003eCluster Summary: Safe: Encourages critical thinking, prompts discussion without manipulation.\",\"Subreddit: Showerthoughts\\u003cbr\\u003eCluster Summary: Post is safe. Light-hearted observations, no intent to manipulate.\",\"Subreddit: Showerthoughts\\u003cbr\\u003eCluster Summary: SAFE: Repeated use to emphasize security and trust.\",\"Subreddit: Showerthoughts\\u003cbr\\u003eCluster Summary: Post is safe. Light-hearted observations, no intent to manipulate.\",\"Subreddit: Showerthoughts\\u003cbr\\u003eCluster Summary: Post is safe. Light-hearted observations, no intent to manipulate.\",\"Subreddit: Showerthoughts\\u003cbr\\u003eCluster Summary: Safe: Encourages critical thinking, prompts discussion without manipulation.\",\"Subreddit: Showerthoughts\\u003cbr\\u003eCluster Summary: SAFE: Repeated use to emphasize security and trust.\",\"Subreddit: Showerthoughts\\u003cbr\\u003eCluster Summary: Post is safe. Light-hearted observations, no intent to manipulate.\",\"Subreddit: Showerthoughts\\u003cbr\\u003eCluster Summary: Post is safe. Light-hearted observations, no intent to manipulate.\",\"Subreddit: Showerthoughts\\u003cbr\\u003eCluster Summary: Safe: Seek genuine advice, share fitness journey, transparent intentions.\",\"Subreddit: Showerthoughts\\u003cbr\\u003eCluster Summary: Post is safe. Light-hearted observations, no intent to manipulate.\",\"Subreddit: Showerthoughts\\u003cbr\\u003eCluster Summary: Post is safe. Light-hearted observations, no intent to manipulate.\",\"Subreddit: Showerthoughts\\u003cbr\\u003eCluster Summary: SAFE: Repeated use to emphasize security and trust.\",\"Subreddit: Showerthoughts\\u003cbr\\u003eCluster Summary: SAFE: Repeated use to emphasize security and trust.\",\"Subreddit: Showerthoughts\\u003cbr\\u003eCluster Summary: Post is safe. Light-hearted observations, no intent to manipulate.\",\"Subreddit: Showerthoughts\\u003cbr\\u003eCluster Summary: Post is safe. Light-hearted observations, no intent to manipulate.\",\"Subreddit: Showerthoughts\\u003cbr\\u003eCluster Summary: Safe: Encourages critical thinking, prompts discussion without manipulation.\",\"Subreddit: Showerthoughts\\u003cbr\\u003eCluster Summary: SAFE: Repeated use to emphasize security and trust.\",\"Subreddit: Showerthoughts\\u003cbr\\u003eCluster Summary: Safe: Encourages critical thinking, prompts discussion without manipulation.\",\"Subreddit: Showerthoughts\\u003cbr\\u003eCluster Summary: Safe: Encourages critical thinking, prompts discussion without manipulation.\",\"Subreddit: Showerthoughts\\u003cbr\\u003eCluster Summary: Safe: Encourages critical thinking, prompts discussion without manipulation.\",\"Subreddit: Showerthoughts\\u003cbr\\u003eCluster Summary: Post is safe. Light-hearted observations, no intent to manipulate.\",\"Subreddit: Showerthoughts\\u003cbr\\u003eCluster Summary: Post is safe. Light-hearted observations, no intent to manipulate.\",\"Subreddit: Showerthoughts\\u003cbr\\u003eCluster Summary: Post is safe. Light-hearted observations, no intent to manipulate.\",\"Subreddit: Showerthoughts\\u003cbr\\u003eCluster Summary: SAFE: Repeated use to emphasize security and trust.\",\"Subreddit: Showerthoughts\\u003cbr\\u003eCluster Summary: Post is safe. Light-hearted observations, no intent to manipulate.\",\"Subreddit: Showerthoughts\\u003cbr\\u003eCluster Summary: Safe: Encourages critical thinking, prompts discussion without manipulation.\",\"Subreddit: Showerthoughts\\u003cbr\\u003eCluster Summary: Post is safe. Light-hearted observations, no intent to manipulate.\",\"Subreddit: Showerthoughts\\u003cbr\\u003eCluster Summary: SAFE: Repeated use to emphasize security and trust.\",\"Subreddit: Showerthoughts\\u003cbr\\u003eCluster Summary: Post is safe. Light-hearted observations, no intent to manipulate.\",\"Subreddit: Showerthoughts\\u003cbr\\u003eCluster Summary: Post is safe. Light-hearted observations, no intent to manipulate.\",\"Subreddit: Showerthoughts\\u003cbr\\u003eCluster Summary: Post is safe. Light-hearted observations, no intent to manipulate.\",\"Subreddit: Showerthoughts\\u003cbr\\u003eCluster Summary: Post is safe. Light-hearted observations, no intent to manipulate.\",\"Subreddit: Showerthoughts\\u003cbr\\u003eCluster Summary: _SAFE_ Post shares historical information without manipulation or deception.\",\"Subreddit: Showerthoughts\\u003cbr\\u003eCluster Summary: Safe: Encourages critical thinking, prompts discussion without manipulation.\",\"Subreddit: Showerthoughts\\u003cbr\\u003eCluster Summary: SAFE: Repeated use to emphasize security and trust.\",\"Subreddit: Showerthoughts\\u003cbr\\u003eCluster Summary: SAFE: Repeated use to emphasize security and trust.\",\"Subreddit: Showerthoughts\\u003cbr\\u003eCluster Summary: Post is safe. Light-hearted observations, no intent to manipulate.\",\"Subreddit: Showerthoughts\\u003cbr\\u003eCluster Summary: Safe: Encourages critical thinking, prompts discussion without manipulation.\",\"Subreddit: politics\\u003cbr\\u003eCluster Summary: SAFE: Repeated use to emphasize security and trust.\",\"Subreddit: politics\\u003cbr\\u003eCluster Summary: Post is potentially manipulative, uses sensational language, lacks context.\",\"Subreddit: politics\\u003cbr\\u003eCluster Summary: Safe: Encourages critical thinking, prompts discussion without manipulation.\",\"Subreddit: politics\\u003cbr\\u003eCluster Summary: Post is potentially manipulative, uses sensational language, lacks context.\",\"Subreddit: politics\\u003cbr\\u003eCluster Summary: Post is potentially manipulative, uses sensational language, lacks context.\",\"Subreddit: politics\\u003cbr\\u003eCluster Summary: Post is potentially manipulative, uses sensational language, lacks context.\",\"Subreddit: politics\\u003cbr\\u003eCluster Summary: SAFE: Repeated use to emphasize security and trust.\",\"Subreddit: politics\\u003cbr\\u003eCluster Summary: Post is potentially manipulative, uses sensational language, lacks context.\",\"Subreddit: politics\\u003cbr\\u003eCluster Summary: SAFE: Repeated use to emphasize security and trust.\",\"Subreddit: politics\\u003cbr\\u003eCluster Summary: _SAFE_ Post shares historical information without manipulation or deception.\",\"Subreddit: politics\\u003cbr\\u003eCluster Summary: Post is potentially manipulative, uses sensational language, lacks context.\",\"Subreddit: politics\\u003cbr\\u003eCluster Summary: SAFE: Repeated use to emphasize security and trust.\",\"Subreddit: politics\\u003cbr\\u003eCluster Summary: _SAFE_ Post shares historical information without manipulation or deception.\",\"Subreddit: politics\\u003cbr\\u003eCluster Summary: Post is potentially manipulative, uses sensational language, lacks context.\",\"Subreddit: politics\\u003cbr\\u003eCluster Summary: _SAFE_ Post shares historical information without manipulation or deception.\",\"Subreddit: politics\\u003cbr\\u003eCluster Summary: Post is potentially manipulative, uses sensational language, lacks context.\",\"Subreddit: politics\\u003cbr\\u003eCluster Summary: Post is potentially manipulative, uses sensational language, lacks context.\",\"Subreddit: politics\\u003cbr\\u003eCluster Summary: _SAFE_ Post shares historical information without manipulation or deception.\",\"Subreddit: politics\\u003cbr\\u003eCluster Summary: Post is potentially manipulative, uses sensational language, lacks context.\",\"Subreddit: politics\\u003cbr\\u003eCluster Summary: Post is potentially manipulative, uses sensational language, lacks context.\",\"Subreddit: politics\\u003cbr\\u003eCluster Summary: Post is potentially manipulative, uses sensational language, lacks context.\",\"Subreddit: politics\\u003cbr\\u003eCluster Summary: SAFE: Repeated use to emphasize security and trust.\",\"Subreddit: politics\\u003cbr\\u003eCluster Summary: SAFE: Repeated use to emphasize security and trust.\",\"Subreddit: politics\\u003cbr\\u003eCluster Summary: SAFE: Repeated use to emphasize security and trust.\",\"Subreddit: politics\\u003cbr\\u003eCluster Summary: Post is potentially manipulative, uses sensational language, lacks context.\",\"Subreddit: politics\\u003cbr\\u003eCluster Summary: SAFE: Repeated use to emphasize security and trust.\",\"Subreddit: politics\\u003cbr\\u003eCluster Summary: SAFE: Repeated use to emphasize security and trust.\",\"Subreddit: politics\\u003cbr\\u003eCluster Summary: SAFE: Repeated use to emphasize security and trust.\",\"Subreddit: politics\\u003cbr\\u003eCluster Summary: Post is potentially manipulative, uses sensational language, lacks context.\",\"Subreddit: politics\\u003cbr\\u003eCluster Summary: _SAFE_ Post shares historical information without manipulation or deception.\",\"Subreddit: politics\\u003cbr\\u003eCluster Summary: SAFE: Repeated use to emphasize security and trust.\",\"Subreddit: politics\\u003cbr\\u003eCluster Summary: Post is potentially manipulative, uses sensational language, lacks context.\",\"Subreddit: politics\\u003cbr\\u003eCluster Summary: Post is potentially manipulative, uses sensational language, lacks context.\",\"Subreddit: politics\\u003cbr\\u003eCluster Summary: _SAFE_ Post shares historical information without manipulation or deception.\",\"Subreddit: politics\\u003cbr\\u003eCluster Summary: Post is potentially manipulative, uses sensational language, lacks context.\",\"Subreddit: politics\\u003cbr\\u003eCluster Summary: Safe: Encourages critical thinking, prompts discussion without manipulation.\",\"Subreddit: politics\\u003cbr\\u003eCluster Summary: Safe: Encourages critical thinking, prompts discussion without manipulation.\",\"Subreddit: politics\\u003cbr\\u003eCluster Summary: SAFE: Repeated use to emphasize security and trust.\",\"Subreddit: politics\\u003cbr\\u003eCluster Summary: SAFE: Repeated use to emphasize security and trust.\",\"Subreddit: politics\\u003cbr\\u003eCluster Summary: Post is potentially manipulative, uses sensational language, lacks context.\",\"Subreddit: politics\\u003cbr\\u003eCluster Summary: SAFE: Repeated use to emphasize security and trust.\",\"Subreddit: politics\\u003cbr\\u003eCluster Summary: Post is potentially manipulative, uses sensational language, lacks context.\",\"Subreddit: politics\\u003cbr\\u003eCluster Summary: Post is potentially manipulative, uses sensational language, lacks context.\",\"Subreddit: politics\\u003cbr\\u003eCluster Summary: Post is potentially manipulative, uses sensational language, lacks context.\",\"Subreddit: bodyweightfitness\\u003cbr\\u003eCluster Summary: Safe: Encourages critical thinking, prompts discussion without manipulation.\",\"Subreddit: bodyweightfitness\\u003cbr\\u003eCluster Summary: Safe: Seek genuine advice, share fitness journey, transparent intentions.\",\"Subreddit: bodyweightfitness\\u003cbr\\u003eCluster Summary: Safe: Seek genuine advice, share fitness journey, transparent intentions.\",\"Subreddit: bodyweightfitness\\u003cbr\\u003eCluster Summary: Safe: Seek genuine advice, share fitness journey, transparent intentions.\",\"Subreddit: bodyweightfitness\\u003cbr\\u003eCluster Summary: Safe: Seek genuine advice, share fitness journey, transparent intentions.\",\"Subreddit: bodyweightfitness\\u003cbr\\u003eCluster Summary: Safe: Seek genuine advice, share fitness journey, transparent intentions.\",\"Subreddit: bodyweightfitness\\u003cbr\\u003eCluster Summary: Safe: Seek genuine advice, share fitness journey, transparent intentions.\",\"Subreddit: bodyweightfitness\\u003cbr\\u003eCluster Summary: Safe: Seek genuine advice, share fitness journey, transparent intentions.\",\"Subreddit: bodyweightfitness\\u003cbr\\u003eCluster Summary: Safe: Seek genuine advice, share fitness journey, transparent intentions.\",\"Subreddit: bodyweightfitness\\u003cbr\\u003eCluster Summary: Safe: Seek genuine advice, share fitness journey, transparent intentions.\",\"Subreddit: bodyweightfitness\\u003cbr\\u003eCluster Summary: Safe: Seek genuine advice, share fitness journey, transparent intentions.\",\"Subreddit: bodyweightfitness\\u003cbr\\u003eCluster Summary: Safe: Seek genuine advice, share fitness journey, transparent intentions.\",\"Subreddit: bodyweightfitness\\u003cbr\\u003eCluster Summary: Safe: Seek genuine advice, share fitness journey, transparent intentions.\",\"Subreddit: bodyweightfitness\\u003cbr\\u003eCluster Summary: Safe: Seek genuine advice, share fitness journey, transparent intentions.\",\"Subreddit: bodyweightfitness\\u003cbr\\u003eCluster Summary: Safe: Seek genuine advice, share fitness journey, transparent intentions.\",\"Subreddit: bodyweightfitness\\u003cbr\\u003eCluster Summary: Safe: Seek genuine advice, share fitness journey, transparent intentions.\",\"Subreddit: bodyweightfitness\\u003cbr\\u003eCluster Summary: Safe: Seek genuine advice, share fitness journey, transparent intentions.\",\"Subreddit: bodyweightfitness\\u003cbr\\u003eCluster Summary: Safe: Seek genuine advice, share fitness journey, transparent intentions.\",\"Subreddit: bodyweightfitness\\u003cbr\\u003eCluster Summary: Safe: Encourages critical thinking, prompts discussion without manipulation.\",\"Subreddit: bodyweightfitness\\u003cbr\\u003eCluster Summary: Safe: Seek genuine advice, share fitness journey, transparent intentions.\",\"Subreddit: bodyweightfitness\\u003cbr\\u003eCluster Summary: Safe: Seek genuine advice, share fitness journey, transparent intentions.\",\"Subreddit: bodyweightfitness\\u003cbr\\u003eCluster Summary: Safe: Seek genuine advice, share fitness journey, transparent intentions.\",\"Subreddit: bodyweightfitness\\u003cbr\\u003eCluster Summary: Safe: Seek genuine advice, share fitness journey, transparent intentions.\",\"Subreddit: bodyweightfitness\\u003cbr\\u003eCluster Summary: Safe: Seek genuine advice, share fitness journey, transparent intentions.\",\"Subreddit: bodyweightfitness\\u003cbr\\u003eCluster Summary: Safe: Seek genuine advice, share fitness journey, transparent intentions.\",\"Subreddit: bodyweightfitness\\u003cbr\\u003eCluster Summary: Safe: Seek genuine advice, share fitness journey, transparent intentions.\",\"Subreddit: bodyweightfitness\\u003cbr\\u003eCluster Summary: Safe: Seek genuine advice, share fitness journey, transparent intentions.\",\"Subreddit: bodyweightfitness\\u003cbr\\u003eCluster Summary: _SAFE_ Post shares historical information without manipulation or deception.\",\"Subreddit: bodyweightfitness\\u003cbr\\u003eCluster Summary: Safe: Seek genuine advice, share fitness journey, transparent intentions.\",\"Subreddit: bodyweightfitness\\u003cbr\\u003eCluster Summary: Safe: Seek genuine advice, share fitness journey, transparent intentions.\",\"Subreddit: bodyweightfitness\\u003cbr\\u003eCluster Summary: Safe: Seek genuine advice, share fitness journey, transparent intentions.\",\"Subreddit: bodyweightfitness\\u003cbr\\u003eCluster Summary: Safe: Encourages critical thinking, prompts discussion without manipulation.\",\"Subreddit: bodyweightfitness\\u003cbr\\u003eCluster Summary: Safe: Seek genuine advice, share fitness journey, transparent intentions.\",\"Subreddit: bodyweightfitness\\u003cbr\\u003eCluster Summary: Safe: Seek genuine advice, share fitness journey, transparent intentions.\",\"Subreddit: bodyweightfitness\\u003cbr\\u003eCluster Summary: Safe: Seek genuine advice, share fitness journey, transparent intentions.\",\"Subreddit: bodyweightfitness\\u003cbr\\u003eCluster Summary: Safe: Seek genuine advice, share fitness journey, transparent intentions.\",\"Subreddit: bodyweightfitness\\u003cbr\\u003eCluster Summary: Safe: Seek genuine advice, share fitness journey, transparent intentions.\",\"Subreddit: bodyweightfitness\\u003cbr\\u003eCluster Summary: Safe: Seek genuine advice, share fitness journey, transparent intentions.\",\"Subreddit: bodyweightfitness\\u003cbr\\u003eCluster Summary: Safe: Seek genuine advice, share fitness journey, transparent intentions.\",\"Subreddit: bodyweightfitness\\u003cbr\\u003eCluster Summary: Safe: Seek genuine advice, share fitness journey, transparent intentions.\",\"Subreddit: bodyweightfitness\\u003cbr\\u003eCluster Summary: Safe: Encourages critical thinking, prompts discussion without manipulation.\",\"Subreddit: bodyweightfitness\\u003cbr\\u003eCluster Summary: Safe: Seek genuine advice, share fitness journey, transparent intentions.\",\"Subreddit: bodyweightfitness\\u003cbr\\u003eCluster Summary: Safe: Seek genuine advice, share fitness journey, transparent intentions.\",\"Subreddit: bodyweightfitness\\u003cbr\\u003eCluster Summary: Safe: Seek genuine advice, share fitness journey, transparent intentions.\",\"Subreddit: bodyweightfitness\\u003cbr\\u003eCluster Summary: Safe: Seek genuine advice, share fitness journey, transparent intentions.\",\"Subreddit: bodyweightfitness\\u003cbr\\u003eCluster Summary: Safe: Seek genuine advice, share fitness journey, transparent intentions.\",\"Subreddit: bodyweightfitness\\u003cbr\\u003eCluster Summary: Safe: Seek genuine advice, share fitness journey, transparent intentions.\",\"Subreddit: bodyweightfitness\\u003cbr\\u003eCluster Summary: Safe: Seek genuine advice, share fitness journey, transparent intentions.\",\"Subreddit: bodyweightfitness\\u003cbr\\u003eCluster Summary: Safe: Seek genuine advice, share fitness journey, transparent intentions.\",\"Subreddit: bodyweightfitness\\u003cbr\\u003eCluster Summary: Safe: Seek genuine advice, share fitness journey, transparent intentions.\",\"Subreddit: bodyweightfitness\\u003cbr\\u003eCluster Summary: Safe: Seek genuine advice, share fitness journey, transparent intentions.\",\"Subreddit: bodyweightfitness\\u003cbr\\u003eCluster Summary: Safe: Seek genuine advice, share fitness journey, transparent intentions.\",\"Subreddit: bodyweightfitness\\u003cbr\\u003eCluster Summary: Safe: Seek genuine advice, share fitness journey, transparent intentions.\",\"Subreddit: bodyweightfitness\\u003cbr\\u003eCluster Summary: Safe: Seek genuine advice, share fitness journey, transparent intentions.\",\"Subreddit: bodyweightfitness\\u003cbr\\u003eCluster Summary: Safe: Encourages critical thinking, prompts discussion without manipulation.\",\"Subreddit: bodyweightfitness\\u003cbr\\u003eCluster Summary: Safe: Seek genuine advice, share fitness journey, transparent intentions.\",\"Subreddit: bodyweightfitness\\u003cbr\\u003eCluster Summary: Safe: Seek genuine advice, share fitness journey, transparent intentions.\",\"Subreddit: bodyweightfitness\\u003cbr\\u003eCluster Summary: Safe: Seek genuine advice, share fitness journey, transparent intentions.\",\"Subreddit: bodyweightfitness\\u003cbr\\u003eCluster Summary: Safe: Seek genuine advice, share fitness journey, transparent intentions.\",\"Subreddit: bodyweightfitness\\u003cbr\\u003eCluster Summary: Safe: Seek genuine advice, share fitness journey, transparent intentions.\",\"Subreddit: bodyweightfitness\\u003cbr\\u003eCluster Summary: Safe: Seek genuine advice, share fitness journey, transparent intentions.\",\"Subreddit: bodyweightfitness\\u003cbr\\u003eCluster Summary: Safe: Seek genuine advice, share fitness journey, transparent intentions.\",\"Subreddit: bodyweightfitness\\u003cbr\\u003eCluster Summary: Safe: Seek genuine advice, share fitness journey, transparent intentions.\",\"Subreddit: bodyweightfitness\\u003cbr\\u003eCluster Summary: Safe: Seek genuine advice, share fitness journey, transparent intentions.\",\"Subreddit: bodyweightfitness\\u003cbr\\u003eCluster Summary: Safe: Seek genuine advice, share fitness journey, transparent intentions.\",\"Subreddit: bodyweightfitness\\u003cbr\\u003eCluster Summary: Safe: Seek genuine advice, share fitness journey, transparent intentions.\",\"Subreddit: bodyweightfitness\\u003cbr\\u003eCluster Summary: Safe: Seek genuine advice, share fitness journey, transparent intentions.\",\"Subreddit: bodyweightfitness\\u003cbr\\u003eCluster Summary: Safe: Seek genuine advice, share fitness journey, transparent intentions.\",\"Subreddit: bodyweightfitness\\u003cbr\\u003eCluster Summary: Safe: Seek genuine advice, share fitness journey, transparent intentions.\",\"Subreddit: bodyweightfitness\\u003cbr\\u003eCluster Summary: Safe: Seek genuine advice, share fitness journey, transparent intentions.\",\"Subreddit: bodyweightfitness\\u003cbr\\u003eCluster Summary: Safe: Seek genuine advice, share fitness journey, transparent intentions.\",\"Subreddit: bodyweightfitness\\u003cbr\\u003eCluster Summary: Safe: Seek genuine advice, share fitness journey, transparent intentions.\",\"Subreddit: bodyweightfitness\\u003cbr\\u003eCluster Summary: Safe: Seek genuine advice, share fitness journey, transparent intentions.\",\"Subreddit: bodyweightfitness\\u003cbr\\u003eCluster Summary: Safe: Encourages critical thinking, prompts discussion without manipulation.\",\"Subreddit: bodyweightfitness\\u003cbr\\u003eCluster Summary: SAFE: Repeated use to emphasize security and trust.\",\"Subreddit: bodyweightfitness\\u003cbr\\u003eCluster Summary: Safe: Seek genuine advice, share fitness journey, transparent intentions.\",\"Subreddit: bodyweightfitness\\u003cbr\\u003eCluster Summary: Safe: Seek genuine advice, share fitness journey, transparent intentions.\",\"Subreddit: bodyweightfitness\\u003cbr\\u003eCluster Summary: Safe: Seek genuine advice, share fitness journey, transparent intentions.\",\"Subreddit: bodyweightfitness\\u003cbr\\u003eCluster Summary: Safe: Seek genuine advice, share fitness journey, transparent intentions.\",\"Subreddit: bodyweightfitness\\u003cbr\\u003eCluster Summary: Safe: Seek genuine advice, share fitness journey, transparent intentions.\",\"Subreddit: bodyweightfitness\\u003cbr\\u003eCluster Summary: Safe: Seek genuine advice, share fitness journey, transparent intentions.\",\"Subreddit: bodyweightfitness\\u003cbr\\u003eCluster Summary: Safe: Seek genuine advice, share fitness journey, transparent intentions.\",\"Subreddit: bodyweightfitness\\u003cbr\\u003eCluster Summary: Safe: Seek genuine advice, share fitness journey, transparent intentions.\",\"Subreddit: bodyweightfitness\\u003cbr\\u003eCluster Summary: Safe: Seek genuine advice, share fitness journey, transparent intentions.\",\"Subreddit: bodyweightfitness\\u003cbr\\u003eCluster Summary: Safe: Seek genuine advice, share fitness journey, transparent intentions.\",\"Subreddit: bodyweightfitness\\u003cbr\\u003eCluster Summary: Safe: Seek genuine advice, share fitness journey, transparent intentions.\",\"Subreddit: bodyweightfitness\\u003cbr\\u003eCluster Summary: Safe: Seek genuine advice, share fitness journey, transparent intentions.\",\"Subreddit: bodyweightfitness\\u003cbr\\u003eCluster Summary: Safe: Seek genuine advice, share fitness journey, transparent intentions.\",\"Subreddit: bodyweightfitness\\u003cbr\\u003eCluster Summary: Safe: Seek genuine advice, share fitness journey, transparent intentions.\",\"Subreddit: bodyweightfitness\\u003cbr\\u003eCluster Summary: Safe: Seek genuine advice, share fitness journey, transparent intentions.\",\"Subreddit: bodyweightfitness\\u003cbr\\u003eCluster Summary: Safe: Seek genuine advice, share fitness journey, transparent intentions.\",\"Subreddit: PoliticalDiscussion\\u003cbr\\u003eCluster Summary: Safe: Encourages critical thinking, prompts discussion without manipulation.\",\"Subreddit: PoliticalDiscussion\\u003cbr\\u003eCluster Summary: Post is potentially manipulative, uses sensational language, lacks context.\",\"Subreddit: PoliticalDiscussion\\u003cbr\\u003eCluster Summary: Safe: Encourages critical thinking, prompts discussion without manipulation.\",\"Subreddit: PoliticalDiscussion\\u003cbr\\u003eCluster Summary: Safe: Encourages critical thinking, prompts discussion without manipulation.\",\"Subreddit: PoliticalDiscussion\\u003cbr\\u003eCluster Summary: Post is potentially manipulative, uses sensational language, lacks context.\",\"Subreddit: PoliticalDiscussion\\u003cbr\\u003eCluster Summary: Safe: Encourages critical thinking, prompts discussion without manipulation.\",\"Subreddit: PoliticalDiscussion\\u003cbr\\u003eCluster Summary: Post is potentially manipulative, uses sensational language, lacks context.\",\"Subreddit: PoliticalDiscussion\\u003cbr\\u003eCluster Summary: Safe: Encourages critical thinking, prompts discussion without manipulation.\",\"Subreddit: PoliticalDiscussion\\u003cbr\\u003eCluster Summary: Safe: Encourages critical thinking, prompts discussion without manipulation.\"],\"legendgroup\":\"\",\"marker\":{\"color\":[4,4,0,0,4,4,2,4,4,0,2,4,0,4,0,5,2,5,6,0,0,5,5,5,5,5,5,0,0,5,2,5,2,0,5,1,5,2,2,5,5,0,5,5,0,0,5,5,5,5,5,5,5,0,0,4,0,5,5,0,5,5,5,5,4,0,3,3,0,3,3,2,3,0,3,3,2,0,3,3,1,3,3,0,0,3,3,2,0,2,2,2,3,3,3,0,3,2,3,0,3,3,3,3,4,2,0,0,3,2,0,6,2,6,6,6,0,6,0,4,6,0,4,6,4,6,6,4,6,6,6,0,0,0,6,0,0,0,6,4,0,6,6,4,6,2,2,0,0,6,0,6,6,6,2,1,1,1,1,1,1,1,1,1,1,1,1,1,1,1,1,1,2,1,1,1,1,1,1,1,1,4,1,1,1,2,1,1,1,1,1,1,1,1,2,1,1,1,1,1,1,1,1,1,1,1,1,1,2,1,1,1,1,1,1,1,1,1,1,1,1,1,1,1,1,1,1,2,0,1,1,1,1,1,1,1,1,1,1,1,1,1,1,1,1,2,6,2,2,6,2,6,2,2],\"coloraxis\":\"coloraxis\",\"symbol\":\"circle\"},\"mode\":\"markers\",\"name\":\"\",\"orientation\":\"v\",\"showlegend\":false,\"x\":[5.962364673614502,5.861822605133057,-9.773815155029297,-10.093233108520508,5.529618263244629,5.592855930328369,5.984560966491699,5.561473846435547,5.812093734741211,-9.743268966674805,5.87970495223999,5.532888889312744,-9.778428077697754,4.596989154815674,-9.725125312805176,5.606588363647461,5.476141452789307,5.875533103942871,6.470314025878906,-9.615989685058594,-9.704158782958984,5.768857479095459,5.626487731933594,5.643845558166504,5.621210098266602,5.81612491607666,5.620694637298584,-9.986272811889648,-9.851801872253418,5.903936862945557,5.786208152770996,5.6697797775268555,5.891477584838867,-9.686388969421387,5.645134925842285,15.016326904296875,5.525349140167236,5.959396839141846,5.873165130615234,5.489390850067139,5.493068218231201,-9.481005668640137,5.672384738922119,5.680723190307617,-9.869302749633789,-9.910968780517578,5.546466827392578,5.4735236167907715,5.655065059661865,5.584656238555908,5.63483190536499,5.7110209465026855,5.571409702301025,-9.685643196105957,-9.914056777954102,5.10066032409668,-9.965911865234375,5.662416458129883,5.6173295974731445,-9.555217742919922,5.606575965881348,5.615743637084961,5.384585857391357,5.744156360626221,5.342166423797607,-9.402010917663574,2.7590348720550537,2.7096407413482666,-9.867746353149414,3.186734199523926,2.714738368988037,5.987282752990723,2.7085888385772705,-9.516913414001465,3.0408236980438232,3.194943904876709,6.024428844451904,-9.792133331298828,1.917331576347351,2.0131218433380127,13.054011344909668,2.164555311203003,1.9442501068115234,-9.456135749816895,-9.687984466552734,3.05696702003479,1.9397903680801392,5.8456292152404785,-9.500396728515625,5.78930139541626,6.3883771896362305,6.0529704093933105,2.7200064659118652,3.227904796600342,1.9749928712844849,-9.659964561462402,2.120643377304077,6.382026195526123,2.367109537124634,-9.801177024841309,2.701151132583618,2.0634169578552246,2.9675841331481934,2.6976819038391113,5.021533489227295,5.630030155181885,-9.426193237304688,-9.588170051574707,3.129779815673828,6.374147415161133,-10.003913879394531,6.349736213684082,6.413849353790283,6.474038600921631,6.449249744415283,6.443673133850098,-10.088417053222656,6.173236846923828,-9.976712226867676,5.388221740722656,6.451805114746094,-9.679624557495117,4.947319507598877,5.376386642456055,5.056051254272461,5.52988338470459,5.342099189758301,5.006575584411621,5.328115463256836,6.404527187347412,6.183262825012207,-9.47701644897461,-9.99240779876709,-9.986333847045898,6.177961826324463,-10.187515258789062,-9.717257499694824,-9.742358207702637,6.407072067260742,5.015838623046875,-9.944267272949219,6.459078788757324,6.3852925300598145,4.844274044036865,6.481350898742676,6.389274597167969,6.389705181121826,-9.47128963470459,-9.74651050567627,6.474653244018555,-10.008017539978027,5.366571426391602,6.480254650115967,5.311887741088867,7.550944805145264,14.322858810424805,14.511466026306152,13.265473365783691,13.886652946472168,14.221463203430176,14.210598945617676,14.580788612365723,12.338456153869629,13.297480583190918,13.973111152648926,14.807476997375488,13.86703109741211,12.338616371154785,14.90455150604248,15.305641174316406,14.186016082763672,13.567255973815918,7.337491512298584,14.678031921386719,14.129648208618164,15.294976234436035,12.362601280212402,13.389262199401855,12.440228462219238,14.994563102722168,13.199670791625977,4.985498428344727,12.52587604522705,13.588318824768066,13.586872100830078,6.865706443786621,14.145308494567871,12.731590270996094,14.115102767944336,13.914275169372559,13.920856475830078,12.412152290344238,14.427367210388184,13.726763725280762,7.578378677368164,14.532132148742676,13.581208229064941,13.288578033447266,12.55961799621582,14.967791557312012,14.97553825378418,15.009363174438477,13.566452026367188,13.895855903625488,12.335531234741211,13.131830215454102,14.668373107910156,13.566420555114746,7.355724811553955,13.72185230255127,13.9254150390625,13.960079193115234,12.663724899291992,14.623858451843262,12.536314010620117,13.354759216308594,12.55366325378418,15.258991241455078,13.148355484008789,14.842312812805176,14.666492462158203,14.759038925170898,13.427070617675781,15.006699562072754,12.692081451416016,14.973722457885742,14.456280708312988,7.470143795013428,-10.020120620727539,14.183648109436035,14.41313648223877,13.653315544128418,12.345779418945312,14.79903507232666,13.876255989074707,12.52689266204834,12.635934829711914,14.463656425476074,12.473196983337402,13.798423767089844,14.441843032836914,14.023550987243652,14.205446243286133,12.602527618408203,14.263558387756348,5.3963422775268555,6.496321678161621,5.88091516494751,5.068652629852295,5.2748565673828125,5.126896858215332,6.410647869110107,5.1238484382629395,5.373676300048828],\"xaxis\":\"x\",\"y\":[9.397680282592773,9.500936508178711,4.721045017242432,4.881375789642334,9.745732307434082,9.776307106018066,6.483159065246582,9.755523681640625,9.540788650512695,5.095818519592285,7.158900737762451,9.747212409973145,4.903075218200684,9.813193321228027,4.9712958335876465,12.256706237792969,6.510409832000732,11.638715744018555,0.42528608441352844,4.387734413146973,4.726219177246094,13.786852836608887,12.177437782287598,13.814391136169434,13.897006034851074,11.70263957977295,13.888052940368652,5.08505392074585,4.973332405090332,11.616730690002441,6.635331153869629,12.514717102050781,7.001134872436523,4.897772789001465,13.718335151672363,5.5259175300598145,11.593465805053711,7.192645072937012,6.551534175872803,13.233192443847656,13.294853210449219,5.0706987380981445,13.83218765258789,12.51290225982666,4.605632781982422,5.209644794464111,12.346749305725098,11.581576347351074,12.044835090637207,11.83027458190918,12.210639953613281,13.785332679748535,11.799651145935059,4.742499828338623,4.314849853515625,9.911072731018066,4.494112014770508,11.949437141418457,13.89447021484375,4.578136444091797,11.930742263793945,12.242517471313477,11.356513977050781,11.7511568069458,10.82028865814209,4.788302421569824,8.791379928588867,8.917986869812012,4.960732936859131,9.213831901550293,8.927223205566406,6.347752094268799,8.469539642333984,4.572456359863281,9.074763298034668,9.236554145812988,6.510390758514404,4.946750640869141,9.030852317810059,9.20230770111084,6.011883735656738,9.316411018371582,9.127410888671875,4.648387908935547,5.10426664352417,9.181469917297363,9.13457202911377,7.181178569793701,4.71087121963501,7.280675411224365,6.720485687255859,6.4095354080200195,8.730050086975098,9.299549102783203,9.169533729553223,5.178018093109131,9.32618522644043,6.795680999755859,9.362462997436523,4.807097434997559,8.588357925415039,9.267484664916992,9.131349563598633,8.628150939941406,9.817428588867188,6.4706549644470215,5.110828876495361,4.9701924324035645,9.220172882080078,6.726762771606445,4.803302764892578,-0.28359144926071167,6.703024864196777,0.2526194453239441,0.5611591935157776,0.6551498770713806,4.923649311065674,1.3788464069366455,4.575007438659668,3.131016731262207,0.0606546588242054,4.3176374435424805,9.670595169067383,2.6449568271636963,9.768135070800781,2.437473773956299,2.7600910663604736,9.597710609436035,2.805347204208374,0.594222366809845,1.3555296659469604,4.858905792236328,4.955453872680664,4.244233131408691,1.3703314065933228,4.988047122955322,4.788158416748047,5.05003023147583,-0.21531927585601807,9.723532676696777,4.891491413116455,0.16534332931041718,-0.24648821353912354,9.815450668334961,0.4057362675666809,6.7398576736450195,6.769095420837402,4.757717132568359,5.026216506958008,0.5798362493515015,4.659308910369873,2.5902318954467773,0.4969489574432373,2.843740701675415,6.628660678863525,5.08535099029541,4.400852203369141,5.957508563995361,4.469456672668457,6.25422477722168,4.75008487701416,5.669484615325928,2.0356974601745605,6.015429496765137,4.456655025482178,5.486432075500488,6.475314617156982,2.0379247665405273,6.788584232330322,4.823711395263672,6.484131813049316,5.089359760284424,6.770166873931885,4.497056007385254,4.275320053100586,4.833056449890137,2.098951578140259,6.170943737030029,4.540781021118164,6.716885566711426,4.687206745147705,9.66892147064209,3.192425012588501,4.510004043579102,4.289458274841309,6.693904876708984,4.310218811035156,4.714066982269287,6.6371259689331055,6.214550495147705,6.3086748123168945,2.1870620250701904,5.903302192687988,4.467947006225586,6.604689121246338,5.766393184661865,4.635831832885742,5.025604248046875,4.691566467285156,6.738297462463379,6.7351202964782715,5.520009517669678,4.675492763519287,6.584479331970215,2.0260889530181885,4.749248504638672,4.4299116134643555,5.236698150634766,6.787608623504639,6.16699743270874,6.6368937492370605,6.405625343322754,4.6692609786987305,4.472839832305908,3.200385093688965,5.07641077041626,4.721158504486084,4.7903151512146,6.063965797424316,4.628696918487549,5.4277024269104,4.554563522338867,4.614908695220947,5.527645587921143,4.65713357925415,5.525935649871826,5.165389060974121,6.6949567794799805,5.072134971618652,6.40932035446167,5.274795055389404,5.1237592697143555,2.038649082183838,4.413846492767334,6.568416118621826,3.193629503250122,4.595681667327881,5.217002868652344,4.962071418762207,6.215625762939453,5.20638370513916,4.451150417327881,6.159643173217773,4.7613677978515625,6.362619876861572,6.42460298538208,0.42217618227005005,7.066403388977051,3.2259373664855957,2.9240920543670654,3.145334482192993,-0.17845593392848969,3.151066303253174,6.419360160827637],\"yaxis\":\"y\",\"type\":\"scatter\"}],                        {\"template\":{\"data\":{\"histogram2dcontour\":[{\"type\":\"histogram2dcontour\",\"colorbar\":{\"outlinewidth\":0,\"ticks\":\"\"},\"colorscale\":[[0.0,\"#0d0887\"],[0.1111111111111111,\"#46039f\"],[0.2222222222222222,\"#7201a8\"],[0.3333333333333333,\"#9c179e\"],[0.4444444444444444,\"#bd3786\"],[0.5555555555555556,\"#d8576b\"],[0.6666666666666666,\"#ed7953\"],[0.7777777777777778,\"#fb9f3a\"],[0.8888888888888888,\"#fdca26\"],[1.0,\"#f0f921\"]]}],\"choropleth\":[{\"type\":\"choropleth\",\"colorbar\":{\"outlinewidth\":0,\"ticks\":\"\"}}],\"histogram2d\":[{\"type\":\"histogram2d\",\"colorbar\":{\"outlinewidth\":0,\"ticks\":\"\"},\"colorscale\":[[0.0,\"#0d0887\"],[0.1111111111111111,\"#46039f\"],[0.2222222222222222,\"#7201a8\"],[0.3333333333333333,\"#9c179e\"],[0.4444444444444444,\"#bd3786\"],[0.5555555555555556,\"#d8576b\"],[0.6666666666666666,\"#ed7953\"],[0.7777777777777778,\"#fb9f3a\"],[0.8888888888888888,\"#fdca26\"],[1.0,\"#f0f921\"]]}],\"heatmap\":[{\"type\":\"heatmap\",\"colorbar\":{\"outlinewidth\":0,\"ticks\":\"\"},\"colorscale\":[[0.0,\"#0d0887\"],[0.1111111111111111,\"#46039f\"],[0.2222222222222222,\"#7201a8\"],[0.3333333333333333,\"#9c179e\"],[0.4444444444444444,\"#bd3786\"],[0.5555555555555556,\"#d8576b\"],[0.6666666666666666,\"#ed7953\"],[0.7777777777777778,\"#fb9f3a\"],[0.8888888888888888,\"#fdca26\"],[1.0,\"#f0f921\"]]}],\"heatmapgl\":[{\"type\":\"heatmapgl\",\"colorbar\":{\"outlinewidth\":0,\"ticks\":\"\"},\"colorscale\":[[0.0,\"#0d0887\"],[0.1111111111111111,\"#46039f\"],[0.2222222222222222,\"#7201a8\"],[0.3333333333333333,\"#9c179e\"],[0.4444444444444444,\"#bd3786\"],[0.5555555555555556,\"#d8576b\"],[0.6666666666666666,\"#ed7953\"],[0.7777777777777778,\"#fb9f3a\"],[0.8888888888888888,\"#fdca26\"],[1.0,\"#f0f921\"]]}],\"contourcarpet\":[{\"type\":\"contourcarpet\",\"colorbar\":{\"outlinewidth\":0,\"ticks\":\"\"}}],\"contour\":[{\"type\":\"contour\",\"colorbar\":{\"outlinewidth\":0,\"ticks\":\"\"},\"colorscale\":[[0.0,\"#0d0887\"],[0.1111111111111111,\"#46039f\"],[0.2222222222222222,\"#7201a8\"],[0.3333333333333333,\"#9c179e\"],[0.4444444444444444,\"#bd3786\"],[0.5555555555555556,\"#d8576b\"],[0.6666666666666666,\"#ed7953\"],[0.7777777777777778,\"#fb9f3a\"],[0.8888888888888888,\"#fdca26\"],[1.0,\"#f0f921\"]]}],\"surface\":[{\"type\":\"surface\",\"colorbar\":{\"outlinewidth\":0,\"ticks\":\"\"},\"colorscale\":[[0.0,\"#0d0887\"],[0.1111111111111111,\"#46039f\"],[0.2222222222222222,\"#7201a8\"],[0.3333333333333333,\"#9c179e\"],[0.4444444444444444,\"#bd3786\"],[0.5555555555555556,\"#d8576b\"],[0.6666666666666666,\"#ed7953\"],[0.7777777777777778,\"#fb9f3a\"],[0.8888888888888888,\"#fdca26\"],[1.0,\"#f0f921\"]]}],\"mesh3d\":[{\"type\":\"mesh3d\",\"colorbar\":{\"outlinewidth\":0,\"ticks\":\"\"}}],\"scatter\":[{\"fillpattern\":{\"fillmode\":\"overlay\",\"size\":10,\"solidity\":0.2},\"type\":\"scatter\"}],\"parcoords\":[{\"type\":\"parcoords\",\"line\":{\"colorbar\":{\"outlinewidth\":0,\"ticks\":\"\"}}}],\"scatterpolargl\":[{\"type\":\"scatterpolargl\",\"marker\":{\"colorbar\":{\"outlinewidth\":0,\"ticks\":\"\"}}}],\"bar\":[{\"error_x\":{\"color\":\"#2a3f5f\"},\"error_y\":{\"color\":\"#2a3f5f\"},\"marker\":{\"line\":{\"color\":\"#E5ECF6\",\"width\":0.5},\"pattern\":{\"fillmode\":\"overlay\",\"size\":10,\"solidity\":0.2}},\"type\":\"bar\"}],\"scattergeo\":[{\"type\":\"scattergeo\",\"marker\":{\"colorbar\":{\"outlinewidth\":0,\"ticks\":\"\"}}}],\"scatterpolar\":[{\"type\":\"scatterpolar\",\"marker\":{\"colorbar\":{\"outlinewidth\":0,\"ticks\":\"\"}}}],\"histogram\":[{\"marker\":{\"pattern\":{\"fillmode\":\"overlay\",\"size\":10,\"solidity\":0.2}},\"type\":\"histogram\"}],\"scattergl\":[{\"type\":\"scattergl\",\"marker\":{\"colorbar\":{\"outlinewidth\":0,\"ticks\":\"\"}}}],\"scatter3d\":[{\"type\":\"scatter3d\",\"line\":{\"colorbar\":{\"outlinewidth\":0,\"ticks\":\"\"}},\"marker\":{\"colorbar\":{\"outlinewidth\":0,\"ticks\":\"\"}}}],\"scattermapbox\":[{\"type\":\"scattermapbox\",\"marker\":{\"colorbar\":{\"outlinewidth\":0,\"ticks\":\"\"}}}],\"scatterternary\":[{\"type\":\"scatterternary\",\"marker\":{\"colorbar\":{\"outlinewidth\":0,\"ticks\":\"\"}}}],\"scattercarpet\":[{\"type\":\"scattercarpet\",\"marker\":{\"colorbar\":{\"outlinewidth\":0,\"ticks\":\"\"}}}],\"carpet\":[{\"aaxis\":{\"endlinecolor\":\"#2a3f5f\",\"gridcolor\":\"white\",\"linecolor\":\"white\",\"minorgridcolor\":\"white\",\"startlinecolor\":\"#2a3f5f\"},\"baxis\":{\"endlinecolor\":\"#2a3f5f\",\"gridcolor\":\"white\",\"linecolor\":\"white\",\"minorgridcolor\":\"white\",\"startlinecolor\":\"#2a3f5f\"},\"type\":\"carpet\"}],\"table\":[{\"cells\":{\"fill\":{\"color\":\"#EBF0F8\"},\"line\":{\"color\":\"white\"}},\"header\":{\"fill\":{\"color\":\"#C8D4E3\"},\"line\":{\"color\":\"white\"}},\"type\":\"table\"}],\"barpolar\":[{\"marker\":{\"line\":{\"color\":\"#E5ECF6\",\"width\":0.5},\"pattern\":{\"fillmode\":\"overlay\",\"size\":10,\"solidity\":0.2}},\"type\":\"barpolar\"}],\"pie\":[{\"automargin\":true,\"type\":\"pie\"}]},\"layout\":{\"autotypenumbers\":\"strict\",\"colorway\":[\"#636efa\",\"#EF553B\",\"#00cc96\",\"#ab63fa\",\"#FFA15A\",\"#19d3f3\",\"#FF6692\",\"#B6E880\",\"#FF97FF\",\"#FECB52\"],\"font\":{\"color\":\"#2a3f5f\"},\"hovermode\":\"closest\",\"hoverlabel\":{\"align\":\"left\"},\"paper_bgcolor\":\"white\",\"plot_bgcolor\":\"#E5ECF6\",\"polar\":{\"bgcolor\":\"#E5ECF6\",\"angularaxis\":{\"gridcolor\":\"white\",\"linecolor\":\"white\",\"ticks\":\"\"},\"radialaxis\":{\"gridcolor\":\"white\",\"linecolor\":\"white\",\"ticks\":\"\"}},\"ternary\":{\"bgcolor\":\"#E5ECF6\",\"aaxis\":{\"gridcolor\":\"white\",\"linecolor\":\"white\",\"ticks\":\"\"},\"baxis\":{\"gridcolor\":\"white\",\"linecolor\":\"white\",\"ticks\":\"\"},\"caxis\":{\"gridcolor\":\"white\",\"linecolor\":\"white\",\"ticks\":\"\"}},\"coloraxis\":{\"colorbar\":{\"outlinewidth\":0,\"ticks\":\"\"}},\"colorscale\":{\"sequential\":[[0.0,\"#0d0887\"],[0.1111111111111111,\"#46039f\"],[0.2222222222222222,\"#7201a8\"],[0.3333333333333333,\"#9c179e\"],[0.4444444444444444,\"#bd3786\"],[0.5555555555555556,\"#d8576b\"],[0.6666666666666666,\"#ed7953\"],[0.7777777777777778,\"#fb9f3a\"],[0.8888888888888888,\"#fdca26\"],[1.0,\"#f0f921\"]],\"sequentialminus\":[[0.0,\"#0d0887\"],[0.1111111111111111,\"#46039f\"],[0.2222222222222222,\"#7201a8\"],[0.3333333333333333,\"#9c179e\"],[0.4444444444444444,\"#bd3786\"],[0.5555555555555556,\"#d8576b\"],[0.6666666666666666,\"#ed7953\"],[0.7777777777777778,\"#fb9f3a\"],[0.8888888888888888,\"#fdca26\"],[1.0,\"#f0f921\"]],\"diverging\":[[0,\"#8e0152\"],[0.1,\"#c51b7d\"],[0.2,\"#de77ae\"],[0.3,\"#f1b6da\"],[0.4,\"#fde0ef\"],[0.5,\"#f7f7f7\"],[0.6,\"#e6f5d0\"],[0.7,\"#b8e186\"],[0.8,\"#7fbc41\"],[0.9,\"#4d9221\"],[1,\"#276419\"]]},\"xaxis\":{\"gridcolor\":\"white\",\"linecolor\":\"white\",\"ticks\":\"\",\"title\":{\"standoff\":15},\"zerolinecolor\":\"white\",\"automargin\":true,\"zerolinewidth\":2},\"yaxis\":{\"gridcolor\":\"white\",\"linecolor\":\"white\",\"ticks\":\"\",\"title\":{\"standoff\":15},\"zerolinecolor\":\"white\",\"automargin\":true,\"zerolinewidth\":2},\"scene\":{\"xaxis\":{\"backgroundcolor\":\"#E5ECF6\",\"gridcolor\":\"white\",\"linecolor\":\"white\",\"showbackground\":true,\"ticks\":\"\",\"zerolinecolor\":\"white\",\"gridwidth\":2},\"yaxis\":{\"backgroundcolor\":\"#E5ECF6\",\"gridcolor\":\"white\",\"linecolor\":\"white\",\"showbackground\":true,\"ticks\":\"\",\"zerolinecolor\":\"white\",\"gridwidth\":2},\"zaxis\":{\"backgroundcolor\":\"#E5ECF6\",\"gridcolor\":\"white\",\"linecolor\":\"white\",\"showbackground\":true,\"ticks\":\"\",\"zerolinecolor\":\"white\",\"gridwidth\":2}},\"shapedefaults\":{\"line\":{\"color\":\"#2a3f5f\"}},\"annotationdefaults\":{\"arrowcolor\":\"#2a3f5f\",\"arrowhead\":0,\"arrowwidth\":1},\"geo\":{\"bgcolor\":\"white\",\"landcolor\":\"#E5ECF6\",\"subunitcolor\":\"white\",\"showland\":true,\"showlakes\":true,\"lakecolor\":\"white\"},\"title\":{\"x\":0.05},\"mapbox\":{\"style\":\"light\"}}},\"xaxis\":{\"anchor\":\"y\",\"domain\":[0.0,1.0],\"title\":{\"text\":\"UMAP1\"}},\"yaxis\":{\"anchor\":\"x\",\"domain\":[0.0,1.0],\"title\":{\"text\":\"UMAP2\"}},\"coloraxis\":{\"colorbar\":{\"title\":{\"text\":\"cluster\"}},\"colorscale\":[[0.0,\"#0d0887\"],[0.1111111111111111,\"#46039f\"],[0.2222222222222222,\"#7201a8\"],[0.3333333333333333,\"#9c179e\"],[0.4444444444444444,\"#bd3786\"],[0.5555555555555556,\"#d8576b\"],[0.6666666666666666,\"#ed7953\"],[0.7777777777777778,\"#fb9f3a\"],[0.8888888888888888,\"#fdca26\"],[1.0,\"#f0f921\"]]},\"legend\":{\"tracegroupgap\":0},\"title\":{\"text\":\"UMAP Visualization of ChatGPT Responses\"},\"height\":450,\"width\":800},                        {\"responsive\": true}                    ).then(function(){\n",
       "                            \n",
       "var gd = document.getElementById('395763ef-534c-4c0d-8d95-cdcee9b8dd3c');\n",
       "var x = new MutationObserver(function (mutations, observer) {{\n",
       "        var display = window.getComputedStyle(gd).display;\n",
       "        if (!display || display === 'none') {{\n",
       "            console.log([gd, 'removed!']);\n",
       "            Plotly.purge(gd);\n",
       "            observer.disconnect();\n",
       "        }}\n",
       "}});\n",
       "\n",
       "// Listen for the removal of the full notebook cells\n",
       "var notebookContainer = gd.closest('#notebook-container');\n",
       "if (notebookContainer) {{\n",
       "    x.observe(notebookContainer, {childList: true});\n",
       "}}\n",
       "\n",
       "// Listen for the clearing of the current output cell\n",
       "var outputEl = gd.closest('.output');\n",
       "if (outputEl) {{\n",
       "    x.observe(outputEl, {childList: true});\n",
       "}}\n",
       "\n",
       "                        })                };                });            </script>        </div>"
      ]
     },
     "metadata": {},
     "output_type": "display_data"
    }
   ],
   "source": [
    "# Prepare hover text\n",
    "df['hover_text'] = 'Subreddit: ' + df['Topic'] + '<br>' + 'Cluster Summary: ' + df['Summary']\n",
    "\n",
    "# Plot using Plotly\n",
    "fig = px.scatter(\n",
    "    df,\n",
    "    x='UMAP1',\n",
    "    y='UMAP2',\n",
    "    color='cluster',  # Use color based on Topic (In this case Subreddit)\n",
    "    hover_name='hover_text',  # Use custom hover text\n",
    "    title='UMAP Visualization of ChatGPT Responses',\n",
    "    width=800,\n",
    "    height=450\n",
    ")\n",
    "\n",
    "fig.show()"
   ]
  },
  {
   "cell_type": "code",
   "execution_count": 24,
   "metadata": {},
   "outputs": [],
   "source": [
    "# # Add the 2D embeddings to the DataFrame\n",
    "#     if n_components == 2:\n",
    "#         df['UMAP1'] = embedding_2d[:, 0]\n",
    "#         df['UMAP2'] = embedding_2d[:, 1]\n",
    "\n",
    "#         # Prepare hover text\n",
    "#         df['hover_text'] = df['Summary']\n",
    "\n",
    "#         # Plot using Plotly\n",
    "#         fig = px.scatter(\n",
    "#             df,\n",
    "#             x='UMAP1',\n",
    "#             y='UMAP2',\n",
    "#             color='Topic',  # Use color based on Topic\n",
    "#             hover_name='hover_text',  # Use custom hover text\n",
    "#             title='UMAP Visualization of Stories'\n",
    "#         )\n",
    "#     else:\n",
    "#         cols = [f'UMAP{i+1}' for i in range(n_components)]\n",
    "#         embed_df = pd.DataFrame(embedding, columns=cols)\n",
    "#         embed_df['species_name'] = [target_names[i] for i in target]\n",
    "        \n",
    "#         plt.figure(figsize=(10, 8))\n",
    "#         sns.pairplot(\n",
    "#             embed_df,\n",
    "#             hue='species_name',\n",
    "#             palette=sns.color_palette(\"hsv\", 3),\n",
    "#             diag_kind='kde',\n",
    "#             plot_kws={'s': 100}\n",
    "#         )\n",
    "#         plt.suptitle(f'UMAP projection of Iris dataset (n_components={n_components})', y=1.02)\n",
    "#         plt.show()\n",
    "\n",
    "# # Plot with different values of n_components\n",
    "# for n in [2, 3, 4]:\n",
    "#     plot_umap_n_components(n_components=n)\n",
    "\n",
    "# fig.show()"
   ]
  }
 ],
 "metadata": {
  "kernelspec": {
   "display_name": "soxm",
   "language": "python",
   "name": "python3"
  },
  "language_info": {
   "codemirror_mode": {
    "name": "ipython",
    "version": 3
   },
   "file_extension": ".py",
   "mimetype": "text/x-python",
   "name": "python",
   "nbconvert_exporter": "python",
   "pygments_lexer": "ipython3",
   "version": "3.9.19"
  }
 },
 "nbformat": 4,
 "nbformat_minor": 2
}
