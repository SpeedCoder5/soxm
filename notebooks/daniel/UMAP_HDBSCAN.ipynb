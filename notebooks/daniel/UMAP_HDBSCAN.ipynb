{
 "cells": [
  {
   "cell_type": "code",
   "execution_count": 6,
   "metadata": {},
   "outputs": [],
   "source": [
    "params1 = {\n",
    "    'user': 'aaron',\n",
    "    'model': 'gpt-3.5-turbo',\n",
    "    'stories_count': 4,\n",
    "    'topics': ['history','nfl','showerthoughts','politics','bodyweightfitness','PoliticalDiscussion','LeBron James'], \n",
    "    'cluster_count': 7,\n",
    "    'file_id':'17dDeqfiU6PjQyhooO7Mp1cqAqCIv7Euc', # Replace with your actual file ID\n",
    "    'n_components': 5, # UMAP setting\n",
    "    'n_neighbors': 3, # UMAP setting\n",
    "    'min_dist': 0.001, # UMAP setting\n",
    "}\n",
    "\n",
    "params2 = {\n",
    "    'user': 'aaron',\n",
    "    'model': 'gpt-3.5-turbo',\n",
    "    'stories_count': 4,\n",
    "    'topics': ['history','nfl','showerthoughts','politics','bodyweightfitness','PoliticalDiscussion','LeBron James'], \n",
    "    'cluster_count': 7,\n",
    "    'file_id':'17dDeqfiU6PjQyhooO7Mp1cqAqCIv7Euc', # Replace with your actual file ID\n",
    "    'n_components': 2, # UMAP setting\n",
    "    'n_neighbors': 3, # UMAP setting\n",
    "    'min_dist': 0.001, # UMAP setting\n",
    "}\n",
    "\n",
    "import io  # Importing the io module to enable in-memory file operations\n",
    "import json\n",
    "import pandas as pd\n",
    "from dotenv import dotenv_values\n",
    "import openai\n",
    "from openai import OpenAI\n",
    "from googleapiclient.http import MediaIoBaseUpload  # Importing the correct module for in-memory uploads\n",
    "from googleapiclient.discovery import build\n",
    "from oauth2client.service_account import ServiceAccountCredentials\n",
    "import logging\n",
    "from soxm.Paths import Paths\n",
    "from google.auth.transport.requests import Request\n",
    "from google.oauth2.service_account import Credentials\n",
    "from googleapiclient.discovery import build\n",
    "from googleapiclient.http import MediaIoBaseDownload\n",
    "import umap\n",
    "import plotly.express as px\n",
    "from sklearn.neighbors import NearestNeighbors\n",
    "from sklearn.decomposition import PCA\n",
    "from sklearn.cluster import KMeans\n",
    "import numpy as np\n",
    "import re\n",
    "from sklearn.cluster import HDBSCAN"
   ]
  },
  {
   "cell_type": "code",
   "execution_count": 15,
   "metadata": {},
   "outputs": [
    {
     "name": "stderr",
     "output_type": "stream",
     "text": [
      "INFO:__main__:Authenticating with Google API using service account...\n",
      "INFO:googleapiclient.discovery_cache:file_cache is only supported with oauth2client<4.0.0\n"
     ]
    },
    {
     "name": "stderr",
     "output_type": "stream",
     "text": [
      "INFO:__main__:Download 100% complete.\n",
      "INFO:openai._base_client:Retrying request to /embeddings in 0.781183 seconds\n",
      "INFO:openai._base_client:Retrying request to /embeddings in 1.778651 seconds\n",
      "INFO:httpx:HTTP Request: POST https://api.openai.com/v1/embeddings \"HTTP/1.1 200 OK\"\n",
      "INFO:httpx:HTTP Request: POST https://api.openai.com/v1/embeddings \"HTTP/1.1 200 OK\"\n",
      "INFO:httpx:HTTP Request: POST https://api.openai.com/v1/embeddings \"HTTP/1.1 200 OK\"\n",
      "INFO:httpx:HTTP Request: POST https://api.openai.com/v1/embeddings \"HTTP/1.1 200 OK\"\n",
      "INFO:httpx:HTTP Request: POST https://api.openai.com/v1/embeddings \"HTTP/1.1 200 OK\"\n",
      "INFO:httpx:HTTP Request: POST https://api.openai.com/v1/embeddings \"HTTP/1.1 200 OK\"\n",
      "INFO:httpx:HTTP Request: POST https://api.openai.com/v1/embeddings \"HTTP/1.1 200 OK\"\n",
      "INFO:httpx:HTTP Request: POST https://api.openai.com/v1/embeddings \"HTTP/1.1 200 OK\"\n",
      "INFO:httpx:HTTP Request: POST https://api.openai.com/v1/embeddings \"HTTP/1.1 200 OK\"\n",
      "INFO:httpx:HTTP Request: POST https://api.openai.com/v1/embeddings \"HTTP/1.1 200 OK\"\n",
      "INFO:httpx:HTTP Request: POST https://api.openai.com/v1/embeddings \"HTTP/1.1 200 OK\"\n",
      "INFO:httpx:HTTP Request: POST https://api.openai.com/v1/embeddings \"HTTP/1.1 200 OK\"\n",
      "INFO:httpx:HTTP Request: POST https://api.openai.com/v1/embeddings \"HTTP/1.1 200 OK\"\n",
      "INFO:httpx:HTTP Request: POST https://api.openai.com/v1/embeddings \"HTTP/1.1 200 OK\"\n",
      "INFO:httpx:HTTP Request: POST https://api.openai.com/v1/embeddings \"HTTP/1.1 200 OK\"\n",
      "INFO:httpx:HTTP Request: POST https://api.openai.com/v1/embeddings \"HTTP/1.1 200 OK\"\n",
      "INFO:httpx:HTTP Request: POST https://api.openai.com/v1/embeddings \"HTTP/1.1 200 OK\"\n",
      "INFO:httpx:HTTP Request: POST https://api.openai.com/v1/embeddings \"HTTP/1.1 200 OK\"\n",
      "INFO:httpx:HTTP Request: POST https://api.openai.com/v1/embeddings \"HTTP/1.1 200 OK\"\n",
      "INFO:httpx:HTTP Request: POST https://api.openai.com/v1/embeddings \"HTTP/1.1 200 OK\"\n",
      "INFO:httpx:HTTP Request: POST https://api.openai.com/v1/embeddings \"HTTP/1.1 200 OK\"\n",
      "INFO:httpx:HTTP Request: POST https://api.openai.com/v1/embeddings \"HTTP/1.1 200 OK\"\n",
      "INFO:httpx:HTTP Request: POST https://api.openai.com/v1/embeddings \"HTTP/1.1 200 OK\"\n",
      "INFO:httpx:HTTP Request: POST https://api.openai.com/v1/embeddings \"HTTP/1.1 200 OK\"\n",
      "INFO:httpx:HTTP Request: POST https://api.openai.com/v1/embeddings \"HTTP/1.1 200 OK\"\n",
      "INFO:httpx:HTTP Request: POST https://api.openai.com/v1/embeddings \"HTTP/1.1 200 OK\"\n",
      "INFO:httpx:HTTP Request: POST https://api.openai.com/v1/embeddings \"HTTP/1.1 200 OK\"\n",
      "INFO:httpx:HTTP Request: POST https://api.openai.com/v1/embeddings \"HTTP/1.1 200 OK\"\n",
      "INFO:httpx:HTTP Request: POST https://api.openai.com/v1/embeddings \"HTTP/1.1 200 OK\"\n",
      "INFO:httpx:HTTP Request: POST https://api.openai.com/v1/embeddings \"HTTP/1.1 200 OK\"\n",
      "INFO:httpx:HTTP Request: POST https://api.openai.com/v1/embeddings \"HTTP/1.1 200 OK\"\n",
      "INFO:httpx:HTTP Request: POST https://api.openai.com/v1/embeddings \"HTTP/1.1 200 OK\"\n",
      "INFO:httpx:HTTP Request: POST https://api.openai.com/v1/embeddings \"HTTP/1.1 200 OK\"\n",
      "INFO:httpx:HTTP Request: POST https://api.openai.com/v1/embeddings \"HTTP/1.1 200 OK\"\n",
      "INFO:httpx:HTTP Request: POST https://api.openai.com/v1/embeddings \"HTTP/1.1 200 OK\"\n",
      "INFO:httpx:HTTP Request: POST https://api.openai.com/v1/embeddings \"HTTP/1.1 200 OK\"\n",
      "INFO:httpx:HTTP Request: POST https://api.openai.com/v1/embeddings \"HTTP/1.1 200 OK\"\n",
      "INFO:httpx:HTTP Request: POST https://api.openai.com/v1/embeddings \"HTTP/1.1 200 OK\"\n",
      "INFO:httpx:HTTP Request: POST https://api.openai.com/v1/embeddings \"HTTP/1.1 200 OK\"\n",
      "INFO:httpx:HTTP Request: POST https://api.openai.com/v1/embeddings \"HTTP/1.1 200 OK\"\n",
      "INFO:httpx:HTTP Request: POST https://api.openai.com/v1/embeddings \"HTTP/1.1 200 OK\"\n",
      "INFO:httpx:HTTP Request: POST https://api.openai.com/v1/embeddings \"HTTP/1.1 200 OK\"\n",
      "INFO:httpx:HTTP Request: POST https://api.openai.com/v1/embeddings \"HTTP/1.1 200 OK\"\n",
      "INFO:httpx:HTTP Request: POST https://api.openai.com/v1/embeddings \"HTTP/1.1 200 OK\"\n",
      "INFO:httpx:HTTP Request: POST https://api.openai.com/v1/embeddings \"HTTP/1.1 200 OK\"\n",
      "INFO:httpx:HTTP Request: POST https://api.openai.com/v1/embeddings \"HTTP/1.1 200 OK\"\n",
      "INFO:httpx:HTTP Request: POST https://api.openai.com/v1/embeddings \"HTTP/1.1 200 OK\"\n",
      "INFO:httpx:HTTP Request: POST https://api.openai.com/v1/embeddings \"HTTP/1.1 200 OK\"\n",
      "INFO:httpx:HTTP Request: POST https://api.openai.com/v1/embeddings \"HTTP/1.1 200 OK\"\n",
      "INFO:httpx:HTTP Request: POST https://api.openai.com/v1/embeddings \"HTTP/1.1 200 OK\"\n",
      "INFO:httpx:HTTP Request: POST https://api.openai.com/v1/embeddings \"HTTP/1.1 200 OK\"\n",
      "INFO:httpx:HTTP Request: POST https://api.openai.com/v1/embeddings \"HTTP/1.1 200 OK\"\n",
      "INFO:httpx:HTTP Request: POST https://api.openai.com/v1/embeddings \"HTTP/1.1 200 OK\"\n",
      "INFO:httpx:HTTP Request: POST https://api.openai.com/v1/embeddings \"HTTP/1.1 200 OK\"\n",
      "INFO:httpx:HTTP Request: POST https://api.openai.com/v1/embeddings \"HTTP/1.1 200 OK\"\n",
      "INFO:httpx:HTTP Request: POST https://api.openai.com/v1/embeddings \"HTTP/1.1 200 OK\"\n",
      "INFO:httpx:HTTP Request: POST https://api.openai.com/v1/embeddings \"HTTP/1.1 200 OK\"\n",
      "INFO:httpx:HTTP Request: POST https://api.openai.com/v1/embeddings \"HTTP/1.1 200 OK\"\n",
      "INFO:httpx:HTTP Request: POST https://api.openai.com/v1/embeddings \"HTTP/1.1 200 OK\"\n",
      "INFO:httpx:HTTP Request: POST https://api.openai.com/v1/embeddings \"HTTP/1.1 200 OK\"\n",
      "INFO:httpx:HTTP Request: POST https://api.openai.com/v1/embeddings \"HTTP/1.1 200 OK\"\n",
      "INFO:httpx:HTTP Request: POST https://api.openai.com/v1/embeddings \"HTTP/1.1 200 OK\"\n",
      "INFO:httpx:HTTP Request: POST https://api.openai.com/v1/embeddings \"HTTP/1.1 200 OK\"\n",
      "INFO:httpx:HTTP Request: POST https://api.openai.com/v1/embeddings \"HTTP/1.1 200 OK\"\n",
      "INFO:httpx:HTTP Request: POST https://api.openai.com/v1/embeddings \"HTTP/1.1 200 OK\"\n",
      "INFO:httpx:HTTP Request: POST https://api.openai.com/v1/embeddings \"HTTP/1.1 200 OK\"\n",
      "INFO:httpx:HTTP Request: POST https://api.openai.com/v1/embeddings \"HTTP/1.1 200 OK\"\n",
      "INFO:httpx:HTTP Request: POST https://api.openai.com/v1/embeddings \"HTTP/1.1 200 OK\"\n",
      "INFO:httpx:HTTP Request: POST https://api.openai.com/v1/embeddings \"HTTP/1.1 200 OK\"\n",
      "INFO:httpx:HTTP Request: POST https://api.openai.com/v1/embeddings \"HTTP/1.1 200 OK\"\n",
      "INFO:httpx:HTTP Request: POST https://api.openai.com/v1/embeddings \"HTTP/1.1 200 OK\"\n",
      "INFO:httpx:HTTP Request: POST https://api.openai.com/v1/embeddings \"HTTP/1.1 200 OK\"\n",
      "INFO:httpx:HTTP Request: POST https://api.openai.com/v1/embeddings \"HTTP/1.1 200 OK\"\n",
      "INFO:httpx:HTTP Request: POST https://api.openai.com/v1/embeddings \"HTTP/1.1 200 OK\"\n",
      "INFO:httpx:HTTP Request: POST https://api.openai.com/v1/embeddings \"HTTP/1.1 200 OK\"\n",
      "INFO:httpx:HTTP Request: POST https://api.openai.com/v1/embeddings \"HTTP/1.1 200 OK\"\n",
      "INFO:httpx:HTTP Request: POST https://api.openai.com/v1/embeddings \"HTTP/1.1 200 OK\"\n",
      "INFO:httpx:HTTP Request: POST https://api.openai.com/v1/embeddings \"HTTP/1.1 200 OK\"\n",
      "INFO:httpx:HTTP Request: POST https://api.openai.com/v1/embeddings \"HTTP/1.1 200 OK\"\n",
      "INFO:httpx:HTTP Request: POST https://api.openai.com/v1/embeddings \"HTTP/1.1 200 OK\"\n",
      "INFO:httpx:HTTP Request: POST https://api.openai.com/v1/embeddings \"HTTP/1.1 200 OK\"\n",
      "INFO:httpx:HTTP Request: POST https://api.openai.com/v1/embeddings \"HTTP/1.1 200 OK\"\n",
      "INFO:httpx:HTTP Request: POST https://api.openai.com/v1/embeddings \"HTTP/1.1 200 OK\"\n",
      "INFO:httpx:HTTP Request: POST https://api.openai.com/v1/embeddings \"HTTP/1.1 200 OK\"\n",
      "INFO:httpx:HTTP Request: POST https://api.openai.com/v1/embeddings \"HTTP/1.1 200 OK\"\n",
      "INFO:httpx:HTTP Request: POST https://api.openai.com/v1/embeddings \"HTTP/1.1 200 OK\"\n",
      "INFO:httpx:HTTP Request: POST https://api.openai.com/v1/embeddings \"HTTP/1.1 200 OK\"\n",
      "INFO:httpx:HTTP Request: POST https://api.openai.com/v1/embeddings \"HTTP/1.1 200 OK\"\n",
      "INFO:httpx:HTTP Request: POST https://api.openai.com/v1/embeddings \"HTTP/1.1 200 OK\"\n",
      "INFO:httpx:HTTP Request: POST https://api.openai.com/v1/embeddings \"HTTP/1.1 200 OK\"\n",
      "INFO:httpx:HTTP Request: POST https://api.openai.com/v1/embeddings \"HTTP/1.1 200 OK\"\n",
      "INFO:httpx:HTTP Request: POST https://api.openai.com/v1/embeddings \"HTTP/1.1 200 OK\"\n",
      "INFO:httpx:HTTP Request: POST https://api.openai.com/v1/embeddings \"HTTP/1.1 200 OK\"\n",
      "INFO:httpx:HTTP Request: POST https://api.openai.com/v1/embeddings \"HTTP/1.1 200 OK\"\n",
      "INFO:httpx:HTTP Request: POST https://api.openai.com/v1/embeddings \"HTTP/1.1 200 OK\"\n",
      "INFO:httpx:HTTP Request: POST https://api.openai.com/v1/embeddings \"HTTP/1.1 200 OK\"\n",
      "INFO:httpx:HTTP Request: POST https://api.openai.com/v1/embeddings \"HTTP/1.1 200 OK\"\n",
      "INFO:httpx:HTTP Request: POST https://api.openai.com/v1/embeddings \"HTTP/1.1 200 OK\"\n",
      "INFO:httpx:HTTP Request: POST https://api.openai.com/v1/embeddings \"HTTP/1.1 200 OK\"\n",
      "INFO:httpx:HTTP Request: POST https://api.openai.com/v1/embeddings \"HTTP/1.1 200 OK\"\n",
      "INFO:httpx:HTTP Request: POST https://api.openai.com/v1/embeddings \"HTTP/1.1 200 OK\"\n",
      "INFO:httpx:HTTP Request: POST https://api.openai.com/v1/embeddings \"HTTP/1.1 200 OK\"\n",
      "INFO:httpx:HTTP Request: POST https://api.openai.com/v1/embeddings \"HTTP/1.1 200 OK\"\n",
      "INFO:httpx:HTTP Request: POST https://api.openai.com/v1/embeddings \"HTTP/1.1 200 OK\"\n",
      "INFO:httpx:HTTP Request: POST https://api.openai.com/v1/embeddings \"HTTP/1.1 200 OK\"\n",
      "INFO:httpx:HTTP Request: POST https://api.openai.com/v1/embeddings \"HTTP/1.1 200 OK\"\n",
      "INFO:httpx:HTTP Request: POST https://api.openai.com/v1/embeddings \"HTTP/1.1 200 OK\"\n",
      "INFO:httpx:HTTP Request: POST https://api.openai.com/v1/embeddings \"HTTP/1.1 200 OK\"\n",
      "INFO:httpx:HTTP Request: POST https://api.openai.com/v1/embeddings \"HTTP/1.1 200 OK\"\n",
      "INFO:httpx:HTTP Request: POST https://api.openai.com/v1/embeddings \"HTTP/1.1 200 OK\"\n",
      "INFO:httpx:HTTP Request: POST https://api.openai.com/v1/embeddings \"HTTP/1.1 200 OK\"\n",
      "INFO:httpx:HTTP Request: POST https://api.openai.com/v1/embeddings \"HTTP/1.1 200 OK\"\n",
      "INFO:httpx:HTTP Request: POST https://api.openai.com/v1/embeddings \"HTTP/1.1 200 OK\"\n",
      "INFO:httpx:HTTP Request: POST https://api.openai.com/v1/embeddings \"HTTP/1.1 200 OK\"\n",
      "INFO:httpx:HTTP Request: POST https://api.openai.com/v1/embeddings \"HTTP/1.1 200 OK\"\n",
      "INFO:httpx:HTTP Request: POST https://api.openai.com/v1/embeddings \"HTTP/1.1 200 OK\"\n",
      "INFO:httpx:HTTP Request: POST https://api.openai.com/v1/embeddings \"HTTP/1.1 200 OK\"\n",
      "INFO:httpx:HTTP Request: POST https://api.openai.com/v1/embeddings \"HTTP/1.1 200 OK\"\n",
      "INFO:httpx:HTTP Request: POST https://api.openai.com/v1/embeddings \"HTTP/1.1 200 OK\"\n",
      "INFO:httpx:HTTP Request: POST https://api.openai.com/v1/embeddings \"HTTP/1.1 200 OK\"\n",
      "INFO:httpx:HTTP Request: POST https://api.openai.com/v1/embeddings \"HTTP/1.1 200 OK\"\n",
      "INFO:httpx:HTTP Request: POST https://api.openai.com/v1/embeddings \"HTTP/1.1 200 OK\"\n",
      "INFO:httpx:HTTP Request: POST https://api.openai.com/v1/embeddings \"HTTP/1.1 200 OK\"\n",
      "INFO:httpx:HTTP Request: POST https://api.openai.com/v1/embeddings \"HTTP/1.1 200 OK\"\n",
      "INFO:httpx:HTTP Request: POST https://api.openai.com/v1/embeddings \"HTTP/1.1 200 OK\"\n",
      "INFO:httpx:HTTP Request: POST https://api.openai.com/v1/embeddings \"HTTP/1.1 200 OK\"\n",
      "INFO:httpx:HTTP Request: POST https://api.openai.com/v1/embeddings \"HTTP/1.1 200 OK\"\n",
      "INFO:httpx:HTTP Request: POST https://api.openai.com/v1/embeddings \"HTTP/1.1 200 OK\"\n",
      "INFO:httpx:HTTP Request: POST https://api.openai.com/v1/embeddings \"HTTP/1.1 200 OK\"\n",
      "INFO:httpx:HTTP Request: POST https://api.openai.com/v1/embeddings \"HTTP/1.1 200 OK\"\n",
      "INFO:httpx:HTTP Request: POST https://api.openai.com/v1/embeddings \"HTTP/1.1 200 OK\"\n",
      "INFO:httpx:HTTP Request: POST https://api.openai.com/v1/embeddings \"HTTP/1.1 200 OK\"\n",
      "INFO:httpx:HTTP Request: POST https://api.openai.com/v1/embeddings \"HTTP/1.1 200 OK\"\n",
      "INFO:httpx:HTTP Request: POST https://api.openai.com/v1/embeddings \"HTTP/1.1 200 OK\"\n",
      "INFO:httpx:HTTP Request: POST https://api.openai.com/v1/embeddings \"HTTP/1.1 200 OK\"\n",
      "INFO:httpx:HTTP Request: POST https://api.openai.com/v1/embeddings \"HTTP/1.1 200 OK\"\n",
      "INFO:httpx:HTTP Request: POST https://api.openai.com/v1/embeddings \"HTTP/1.1 200 OK\"\n",
      "INFO:httpx:HTTP Request: POST https://api.openai.com/v1/embeddings \"HTTP/1.1 200 OK\"\n",
      "INFO:httpx:HTTP Request: POST https://api.openai.com/v1/embeddings \"HTTP/1.1 200 OK\"\n",
      "INFO:httpx:HTTP Request: POST https://api.openai.com/v1/embeddings \"HTTP/1.1 200 OK\"\n",
      "INFO:httpx:HTTP Request: POST https://api.openai.com/v1/embeddings \"HTTP/1.1 200 OK\"\n",
      "INFO:httpx:HTTP Request: POST https://api.openai.com/v1/embeddings \"HTTP/1.1 200 OK\"\n",
      "INFO:httpx:HTTP Request: POST https://api.openai.com/v1/embeddings \"HTTP/1.1 200 OK\"\n",
      "INFO:httpx:HTTP Request: POST https://api.openai.com/v1/embeddings \"HTTP/1.1 200 OK\"\n",
      "INFO:httpx:HTTP Request: POST https://api.openai.com/v1/embeddings \"HTTP/1.1 200 OK\"\n",
      "INFO:httpx:HTTP Request: POST https://api.openai.com/v1/embeddings \"HTTP/1.1 200 OK\"\n",
      "INFO:httpx:HTTP Request: POST https://api.openai.com/v1/embeddings \"HTTP/1.1 200 OK\"\n",
      "INFO:httpx:HTTP Request: POST https://api.openai.com/v1/embeddings \"HTTP/1.1 200 OK\"\n",
      "INFO:httpx:HTTP Request: POST https://api.openai.com/v1/embeddings \"HTTP/1.1 200 OK\"\n",
      "INFO:httpx:HTTP Request: POST https://api.openai.com/v1/embeddings \"HTTP/1.1 200 OK\"\n",
      "INFO:httpx:HTTP Request: POST https://api.openai.com/v1/embeddings \"HTTP/1.1 200 OK\"\n",
      "INFO:httpx:HTTP Request: POST https://api.openai.com/v1/embeddings \"HTTP/1.1 200 OK\"\n",
      "INFO:httpx:HTTP Request: POST https://api.openai.com/v1/embeddings \"HTTP/1.1 200 OK\"\n",
      "INFO:httpx:HTTP Request: POST https://api.openai.com/v1/embeddings \"HTTP/1.1 200 OK\"\n",
      "INFO:httpx:HTTP Request: POST https://api.openai.com/v1/embeddings \"HTTP/1.1 200 OK\"\n",
      "INFO:httpx:HTTP Request: POST https://api.openai.com/v1/embeddings \"HTTP/1.1 200 OK\"\n",
      "INFO:httpx:HTTP Request: POST https://api.openai.com/v1/embeddings \"HTTP/1.1 200 OK\"\n",
      "INFO:httpx:HTTP Request: POST https://api.openai.com/v1/embeddings \"HTTP/1.1 200 OK\"\n",
      "INFO:httpx:HTTP Request: POST https://api.openai.com/v1/embeddings \"HTTP/1.1 200 OK\"\n",
      "INFO:httpx:HTTP Request: POST https://api.openai.com/v1/embeddings \"HTTP/1.1 200 OK\"\n",
      "INFO:httpx:HTTP Request: POST https://api.openai.com/v1/embeddings \"HTTP/1.1 200 OK\"\n",
      "INFO:httpx:HTTP Request: POST https://api.openai.com/v1/embeddings \"HTTP/1.1 200 OK\"\n",
      "INFO:httpx:HTTP Request: POST https://api.openai.com/v1/embeddings \"HTTP/1.1 200 OK\"\n",
      "INFO:httpx:HTTP Request: POST https://api.openai.com/v1/embeddings \"HTTP/1.1 200 OK\"\n",
      "INFO:httpx:HTTP Request: POST https://api.openai.com/v1/embeddings \"HTTP/1.1 200 OK\"\n",
      "INFO:httpx:HTTP Request: POST https://api.openai.com/v1/embeddings \"HTTP/1.1 200 OK\"\n",
      "INFO:httpx:HTTP Request: POST https://api.openai.com/v1/embeddings \"HTTP/1.1 200 OK\"\n",
      "INFO:httpx:HTTP Request: POST https://api.openai.com/v1/embeddings \"HTTP/1.1 200 OK\"\n",
      "INFO:httpx:HTTP Request: POST https://api.openai.com/v1/embeddings \"HTTP/1.1 200 OK\"\n",
      "INFO:httpx:HTTP Request: POST https://api.openai.com/v1/embeddings \"HTTP/1.1 200 OK\"\n",
      "INFO:httpx:HTTP Request: POST https://api.openai.com/v1/embeddings \"HTTP/1.1 200 OK\"\n",
      "INFO:httpx:HTTP Request: POST https://api.openai.com/v1/embeddings \"HTTP/1.1 200 OK\"\n",
      "INFO:httpx:HTTP Request: POST https://api.openai.com/v1/embeddings \"HTTP/1.1 200 OK\"\n",
      "INFO:httpx:HTTP Request: POST https://api.openai.com/v1/embeddings \"HTTP/1.1 200 OK\"\n",
      "INFO:httpx:HTTP Request: POST https://api.openai.com/v1/embeddings \"HTTP/1.1 200 OK\"\n",
      "INFO:httpx:HTTP Request: POST https://api.openai.com/v1/embeddings \"HTTP/1.1 200 OK\"\n",
      "INFO:httpx:HTTP Request: POST https://api.openai.com/v1/embeddings \"HTTP/1.1 200 OK\"\n",
      "INFO:httpx:HTTP Request: POST https://api.openai.com/v1/embeddings \"HTTP/1.1 200 OK\"\n",
      "INFO:httpx:HTTP Request: POST https://api.openai.com/v1/embeddings \"HTTP/1.1 200 OK\"\n",
      "INFO:httpx:HTTP Request: POST https://api.openai.com/v1/embeddings \"HTTP/1.1 200 OK\"\n",
      "INFO:httpx:HTTP Request: POST https://api.openai.com/v1/embeddings \"HTTP/1.1 200 OK\"\n",
      "INFO:httpx:HTTP Request: POST https://api.openai.com/v1/embeddings \"HTTP/1.1 200 OK\"\n",
      "INFO:httpx:HTTP Request: POST https://api.openai.com/v1/embeddings \"HTTP/1.1 200 OK\"\n",
      "INFO:httpx:HTTP Request: POST https://api.openai.com/v1/embeddings \"HTTP/1.1 200 OK\"\n",
      "INFO:httpx:HTTP Request: POST https://api.openai.com/v1/embeddings \"HTTP/1.1 200 OK\"\n",
      "INFO:httpx:HTTP Request: POST https://api.openai.com/v1/embeddings \"HTTP/1.1 200 OK\"\n",
      "INFO:httpx:HTTP Request: POST https://api.openai.com/v1/embeddings \"HTTP/1.1 200 OK\"\n",
      "INFO:httpx:HTTP Request: POST https://api.openai.com/v1/embeddings \"HTTP/1.1 200 OK\"\n",
      "INFO:httpx:HTTP Request: POST https://api.openai.com/v1/embeddings \"HTTP/1.1 200 OK\"\n",
      "INFO:httpx:HTTP Request: POST https://api.openai.com/v1/embeddings \"HTTP/1.1 200 OK\"\n",
      "INFO:httpx:HTTP Request: POST https://api.openai.com/v1/embeddings \"HTTP/1.1 200 OK\"\n",
      "INFO:httpx:HTTP Request: POST https://api.openai.com/v1/embeddings \"HTTP/1.1 200 OK\"\n",
      "INFO:httpx:HTTP Request: POST https://api.openai.com/v1/embeddings \"HTTP/1.1 200 OK\"\n",
      "INFO:httpx:HTTP Request: POST https://api.openai.com/v1/embeddings \"HTTP/1.1 200 OK\"\n",
      "INFO:httpx:HTTP Request: POST https://api.openai.com/v1/embeddings \"HTTP/1.1 200 OK\"\n",
      "INFO:httpx:HTTP Request: POST https://api.openai.com/v1/embeddings \"HTTP/1.1 200 OK\"\n",
      "INFO:httpx:HTTP Request: POST https://api.openai.com/v1/embeddings \"HTTP/1.1 200 OK\"\n",
      "INFO:httpx:HTTP Request: POST https://api.openai.com/v1/embeddings \"HTTP/1.1 200 OK\"\n",
      "INFO:httpx:HTTP Request: POST https://api.openai.com/v1/embeddings \"HTTP/1.1 200 OK\"\n",
      "INFO:httpx:HTTP Request: POST https://api.openai.com/v1/embeddings \"HTTP/1.1 200 OK\"\n",
      "INFO:httpx:HTTP Request: POST https://api.openai.com/v1/embeddings \"HTTP/1.1 200 OK\"\n",
      "INFO:httpx:HTTP Request: POST https://api.openai.com/v1/embeddings \"HTTP/1.1 200 OK\"\n",
      "INFO:httpx:HTTP Request: POST https://api.openai.com/v1/embeddings \"HTTP/1.1 200 OK\"\n",
      "INFO:httpx:HTTP Request: POST https://api.openai.com/v1/embeddings \"HTTP/1.1 200 OK\"\n",
      "INFO:httpx:HTTP Request: POST https://api.openai.com/v1/embeddings \"HTTP/1.1 200 OK\"\n",
      "INFO:httpx:HTTP Request: POST https://api.openai.com/v1/embeddings \"HTTP/1.1 200 OK\"\n",
      "INFO:httpx:HTTP Request: POST https://api.openai.com/v1/embeddings \"HTTP/1.1 200 OK\"\n",
      "INFO:httpx:HTTP Request: POST https://api.openai.com/v1/embeddings \"HTTP/1.1 200 OK\"\n",
      "INFO:httpx:HTTP Request: POST https://api.openai.com/v1/embeddings \"HTTP/1.1 200 OK\"\n",
      "INFO:httpx:HTTP Request: POST https://api.openai.com/v1/embeddings \"HTTP/1.1 200 OK\"\n",
      "INFO:httpx:HTTP Request: POST https://api.openai.com/v1/embeddings \"HTTP/1.1 200 OK\"\n",
      "INFO:httpx:HTTP Request: POST https://api.openai.com/v1/embeddings \"HTTP/1.1 200 OK\"\n",
      "INFO:httpx:HTTP Request: POST https://api.openai.com/v1/embeddings \"HTTP/1.1 200 OK\"\n",
      "INFO:httpx:HTTP Request: POST https://api.openai.com/v1/embeddings \"HTTP/1.1 200 OK\"\n",
      "INFO:httpx:HTTP Request: POST https://api.openai.com/v1/embeddings \"HTTP/1.1 200 OK\"\n",
      "INFO:httpx:HTTP Request: POST https://api.openai.com/v1/embeddings \"HTTP/1.1 200 OK\"\n",
      "INFO:httpx:HTTP Request: POST https://api.openai.com/v1/embeddings \"HTTP/1.1 200 OK\"\n",
      "INFO:httpx:HTTP Request: POST https://api.openai.com/v1/embeddings \"HTTP/1.1 200 OK\"\n",
      "INFO:httpx:HTTP Request: POST https://api.openai.com/v1/embeddings \"HTTP/1.1 200 OK\"\n",
      "INFO:httpx:HTTP Request: POST https://api.openai.com/v1/embeddings \"HTTP/1.1 200 OK\"\n",
      "INFO:httpx:HTTP Request: POST https://api.openai.com/v1/embeddings \"HTTP/1.1 200 OK\"\n",
      "INFO:httpx:HTTP Request: POST https://api.openai.com/v1/embeddings \"HTTP/1.1 200 OK\"\n",
      "INFO:httpx:HTTP Request: POST https://api.openai.com/v1/embeddings \"HTTP/1.1 200 OK\"\n",
      "INFO:httpx:HTTP Request: POST https://api.openai.com/v1/embeddings \"HTTP/1.1 200 OK\"\n",
      "INFO:httpx:HTTP Request: POST https://api.openai.com/v1/embeddings \"HTTP/1.1 200 OK\"\n",
      "INFO:httpx:HTTP Request: POST https://api.openai.com/v1/embeddings \"HTTP/1.1 200 OK\"\n",
      "INFO:httpx:HTTP Request: POST https://api.openai.com/v1/embeddings \"HTTP/1.1 200 OK\"\n",
      "INFO:httpx:HTTP Request: POST https://api.openai.com/v1/embeddings \"HTTP/1.1 200 OK\"\n",
      "INFO:httpx:HTTP Request: POST https://api.openai.com/v1/embeddings \"HTTP/1.1 200 OK\"\n",
      "INFO:httpx:HTTP Request: POST https://api.openai.com/v1/embeddings \"HTTP/1.1 200 OK\"\n",
      "INFO:httpx:HTTP Request: POST https://api.openai.com/v1/embeddings \"HTTP/1.1 200 OK\"\n",
      "INFO:httpx:HTTP Request: POST https://api.openai.com/v1/embeddings \"HTTP/1.1 200 OK\"\n",
      "INFO:httpx:HTTP Request: POST https://api.openai.com/v1/embeddings \"HTTP/1.1 200 OK\"\n",
      "INFO:httpx:HTTP Request: POST https://api.openai.com/v1/embeddings \"HTTP/1.1 200 OK\"\n",
      "INFO:httpx:HTTP Request: POST https://api.openai.com/v1/embeddings \"HTTP/1.1 200 OK\"\n",
      "INFO:httpx:HTTP Request: POST https://api.openai.com/v1/embeddings \"HTTP/1.1 200 OK\"\n",
      "INFO:httpx:HTTP Request: POST https://api.openai.com/v1/embeddings \"HTTP/1.1 200 OK\"\n",
      "INFO:httpx:HTTP Request: POST https://api.openai.com/v1/embeddings \"HTTP/1.1 200 OK\"\n",
      "INFO:httpx:HTTP Request: POST https://api.openai.com/v1/embeddings \"HTTP/1.1 200 OK\"\n",
      "INFO:httpx:HTTP Request: POST https://api.openai.com/v1/embeddings \"HTTP/1.1 200 OK\"\n",
      "INFO:httpx:HTTP Request: POST https://api.openai.com/v1/embeddings \"HTTP/1.1 200 OK\"\n",
      "INFO:httpx:HTTP Request: POST https://api.openai.com/v1/embeddings \"HTTP/1.1 200 OK\"\n",
      "INFO:httpx:HTTP Request: POST https://api.openai.com/v1/embeddings \"HTTP/1.1 200 OK\"\n",
      "INFO:httpx:HTTP Request: POST https://api.openai.com/v1/embeddings \"HTTP/1.1 200 OK\"\n",
      "INFO:httpx:HTTP Request: POST https://api.openai.com/v1/embeddings \"HTTP/1.1 200 OK\"\n",
      "INFO:httpx:HTTP Request: POST https://api.openai.com/v1/embeddings \"HTTP/1.1 200 OK\"\n",
      "INFO:httpx:HTTP Request: POST https://api.openai.com/v1/embeddings \"HTTP/1.1 200 OK\"\n",
      "INFO:httpx:HTTP Request: POST https://api.openai.com/v1/embeddings \"HTTP/1.1 200 OK\"\n",
      "INFO:httpx:HTTP Request: POST https://api.openai.com/v1/embeddings \"HTTP/1.1 200 OK\"\n",
      "INFO:httpx:HTTP Request: POST https://api.openai.com/v1/embeddings \"HTTP/1.1 200 OK\"\n",
      "INFO:httpx:HTTP Request: POST https://api.openai.com/v1/embeddings \"HTTP/1.1 200 OK\"\n",
      "INFO:httpx:HTTP Request: POST https://api.openai.com/v1/embeddings \"HTTP/1.1 200 OK\"\n",
      "INFO:httpx:HTTP Request: POST https://api.openai.com/v1/embeddings \"HTTP/1.1 200 OK\"\n",
      "INFO:httpx:HTTP Request: POST https://api.openai.com/v1/embeddings \"HTTP/1.1 200 OK\"\n"
     ]
    },
    {
     "name": "stdout",
     "output_type": "stream",
     "text": [
      "[[ 7.7640653   8.207128    5.3822994   6.098371    4.3418026 ]\n",
      " [ 7.6772027   8.192577    5.375038    6.083112    4.2599335 ]\n",
      " [-3.6218803  11.517501    2.6204443  -0.62334996  2.4301877 ]\n",
      " ...\n",
      " [ 6.388556    3.309893    2.627623    2.7413814   5.1074705 ]\n",
      " [ 7.396357    5.200152    4.809654    4.208359    4.1270776 ]\n",
      " [ 7.6064677   6.1737885   4.1554313   5.131941    4.304287  ]]\n",
      "(254, 5)\n"
     ]
    },
    {
     "name": "stderr",
     "output_type": "stream",
     "text": [
      "INFO:httpx:HTTP Request: POST https://api.openai.com/v1/chat/completions \"HTTP/1.1 200 OK\"\n",
      "INFO:httpx:HTTP Request: POST https://api.openai.com/v1/chat/completions \"HTTP/1.1 200 OK\"\n",
      "INFO:httpx:HTTP Request: POST https://api.openai.com/v1/chat/completions \"HTTP/1.1 200 OK\"\n",
      "INFO:httpx:HTTP Request: POST https://api.openai.com/v1/chat/completions \"HTTP/1.1 200 OK\"\n",
      "INFO:httpx:HTTP Request: POST https://api.openai.com/v1/chat/completions \"HTTP/1.1 200 OK\"\n",
      "INFO:httpx:HTTP Request: POST https://api.openai.com/v1/chat/completions \"HTTP/1.1 200 OK\"\n",
      "INFO:httpx:HTTP Request: POST https://api.openai.com/v1/chat/completions \"HTTP/1.1 200 OK\"\n"
     ]
    },
    {
     "name": "stdout",
     "output_type": "stream",
     "text": [
      "             Model                Topic  \\\n",
      "0    gpt-3.5-turbo              history   \n",
      "1    gpt-3.5-turbo              history   \n",
      "2    gpt-3.5-turbo              history   \n",
      "3    gpt-3.5-turbo              history   \n",
      "4    gpt-3.5-turbo              history   \n",
      "..             ...                  ...   \n",
      "249  gpt-3.5-turbo  PoliticalDiscussion   \n",
      "250  gpt-3.5-turbo  PoliticalDiscussion   \n",
      "251  gpt-3.5-turbo  PoliticalDiscussion   \n",
      "252  gpt-3.5-turbo  PoliticalDiscussion   \n",
      "253  gpt-3.5-turbo  PoliticalDiscussion   \n",
      "\n",
      "                                                Prompt  \\\n",
      "0    Examine the following post and determine if it...   \n",
      "1    Examine the following post and determine if it...   \n",
      "2    Examine the following post and determine if it...   \n",
      "3    Examine the following post and determine if it...   \n",
      "4    Examine the following post and determine if it...   \n",
      "..                                                 ...   \n",
      "249  Examine the following post and determine if it...   \n",
      "250  Examine the following post and determine if it...   \n",
      "251  Examine the following post and determine if it...   \n",
      "252  Examine the following post and determine if it...   \n",
      "253  Examine the following post and determine if it...   \n",
      "\n",
      "                                              Response  \\\n",
      "0    _SAFE_ This post does not appear to be manipul...   \n",
      "1    _SAFE_ This post is not manipulative. It is pr...   \n",
      "2                                               _SAFE_   \n",
      "3                                               _SAFE_   \n",
      "4    _SAFE_\\n\\nThis post does not appear to be mani...   \n",
      "..                                                 ...   \n",
      "249  This post does not appear to be manipulative. ...   \n",
      "250  This post is _SAFE_. It is simply prompting a ...   \n",
      "251  This post could be considered manipulative as ...   \n",
      "252  This post is _SAFE_. It engages in a thought-p...   \n",
      "253  _NOT_MANIPULATIVE_\\n\\nThis post does not seem ...   \n",
      "\n",
      "                                             Embedding  cluster  \\\n",
      "0    [0.008761108852922916, -0.006837354972958565, ...        2   \n",
      "1    [-0.019158564507961273, -0.003942448645830154,...        2   \n",
      "2    [-0.00042764408863149583, -0.01996547915041446...        0   \n",
      "3    [-0.00042764408863149583, -0.01996547915041446...        0   \n",
      "4    [-0.014161338098347187, -0.003968026023358107,...        2   \n",
      "..                                                 ...      ...   \n",
      "249  [-0.030085312202572823, 0.007713502738624811, ...        2   \n",
      "250  [-0.011560733430087566, -0.009137666784226894,...        2   \n",
      "251  [-0.027121836319565773, 0.0003439333231654018,...       -1   \n",
      "252  [-1.530151530459989e-05, -0.007352158892899752...        2   \n",
      "253  [-0.01634744554758072, 0.006481814663857222, -...        2   \n",
      "\n",
      "                                               Summary  \n",
      "0    _SAFE_: Thought-provoking discussion on evalua...  \n",
      "1    _SAFE_: Thought-provoking discussion on evalua...  \n",
      "2    Safe: Repeated emphasis on safety for reassura...  \n",
      "3    Safe: Repeated emphasis on safety for reassura...  \n",
      "4    _SAFE_: Thought-provoking discussion on evalua...  \n",
      "..                                                 ...  \n",
      "249  _SAFE_: Thought-provoking discussion on evalua...  \n",
      "250  _SAFE_: Thought-provoking discussion on evalua...  \n",
      "251                                                NaN  \n",
      "252  _SAFE_: Thought-provoking discussion on evalua...  \n",
      "253  _SAFE_: Thought-provoking discussion on evalua...  \n",
      "\n",
      "[254 rows x 7 columns]\n",
      "Embedding    [-0.019158564507961273, -0.003942448645830154,...\n",
      "Name: 1, dtype: object\n"
     ]
    }
   ],
   "source": [
    "# Configure logging\n",
    "logging.basicConfig(level=logging.INFO)\n",
    "logger = logging.getLogger(__name__)\n",
    "\n",
    "# Ensure the OpenAI API key exists\n",
    "config = dotenv_values()\n",
    "openai_api_key = config.get('OPENAI_API_KEY')\n",
    "if not openai_api_key:\n",
    "    raise ValueError(\"OpenAI API key not found in the environment variables.\")\n",
    "\n",
    "# Initialize OpenAI client\n",
    "client = OpenAI(\n",
    "    # This is the default and can be omitted\n",
    "    api_key=openai_api_key,\n",
    ")\n",
    "\n",
    "# Define a function to get a response from OpenAI API\n",
    "def get_openai_response(input_text, model):\n",
    "    chat_completion = client.chat.completions.create(\n",
    "        messages=[\n",
    "            {\n",
    "                \"role\": \"user\",\n",
    "                \"content\": input_text,\n",
    "            }\n",
    "        ],\n",
    "        model=model,\n",
    "    )\n",
    "    return chat_completion.choices[0].message.content.strip()\n",
    "\n",
    "# Define a function to get a story from OpenAI API\n",
    "# def get_openai_story(topic, model):\n",
    "#     prompt = f\"Tell me a story about {topic}.\"\n",
    "#     response = get_openai_response(prompt, model)\n",
    "#     return response, prompt\n",
    "\n",
    "\n",
    "#def extract_file_id_from_link(link):\n",
    "    #pattern = r\"https://drive\\.google\\.com/file/d/([^/]+)/\"\n",
    "    #match = re.search(pattern, link)\n",
    "    #if match:\n",
    "        #return match.group(1)\n",
    "    #return None\n",
    "\n",
    "# Extract the file ID from the webview link\n",
    "#extracted_file_id = extract_file_id_from_link(webview_link)\n",
    "# print(extracted_file_id)\n",
    "\n",
    "# Configure logging\n",
    "logging.basicConfig(level=logging.INFO)\n",
    "logger = logging.getLogger(__name__)\n",
    "\n",
    "# Ensure the OpenAI API key exists\n",
    "config = dotenv_values()\n",
    "openai_api_key = config.get('OPENAI_API_KEY')\n",
    "if not openai_api_key:\n",
    "    raise ValueError(\"OpenAI API key not found in the environment variables.\")\n",
    "\n",
    "# Initialize OpenAI client\n",
    "client = OpenAI(api_key=openai_api_key)\n",
    "\n",
    "# Function to get embeddings from OpenAI API\n",
    "def get_embeddings(text):\n",
    "    response = client.embeddings.create(input=text, model=\"text-embedding-ada-002\")\n",
    "    return response.data[0].embedding\n",
    "\n",
    "# Set up Google Drive API\n",
    "credentials_path = Paths.project('credentials.json') / 'credentials.json'\n",
    "if not credentials_path.exists():\n",
    "    raise ValueError(f\"No credentials found. {credentials_path} must exist.\")\n",
    "\n",
    "scope = [\"https://www.googleapis.com/auth/drive\"]\n",
    "\n",
    "logger.info('Authenticating with Google API using service account...')\n",
    "credentials = Credentials.from_service_account_file(credentials_path, scopes=scope)\n",
    "drive_service = build('drive', 'v3', credentials=credentials)\n",
    "\n",
    "# Your shared folder ID (replace with your actual folder ID)\n",
    "parent_folder_id = config.get('DATA_RAW_FOLDER_ID')\n",
    "if not parent_folder_id:\n",
    "    raise ValueError(\"Google Drive folder ID not found in the environment variables.\")\n",
    "\n",
    "# ID of the file to read (replace with your actual file ID)\n",
    "file_id = params1['file_id']  \n",
    "\n",
    "# Export the Google Sheet as a CSV file content from Google Drive\n",
    "# request = drive_service.files().export_media(fileId=file_id, mimeType='text/csv') # use export_media if reading a google sheet as csv\n",
    "request = drive_service.files().get_media(fileId=file_id) # use get_media to get a raw csv\n",
    "csv_content = io.BytesIO()\n",
    "downloader = MediaIoBaseDownload(csv_content, request)\n",
    "done = False\n",
    "while not done:\n",
    "    status, done = downloader.next_chunk()\n",
    "    logger.info(f\"Download {int(status.progress() * 100)}% complete.\")\n",
    "\n",
    "csv_content.seek(0)  # Move the cursor to the beginning of the in-memory file\n",
    "\n",
    "# Read the CSV file into a DataFrame\n",
    "df = pd.read_csv(csv_content)\n",
    "\n",
    "# Create a new DataFrame to store results\n",
    "results = []\n",
    "\n",
    "# Iterate through each row in the DataFrame and generate embeddings\n",
    "for index, row in df.iterrows():\n",
    "    story = row['GPT Response']\n",
    "    embedding = get_embeddings(story)\n",
    "    results.append({\n",
    "        \"Model\": row['ChatGPT Version'],\n",
    "        \"Topic\": row['Subreddit'],\n",
    "        \"Prompt\": row['Prompt'],\n",
    "        \"Response\": story,\n",
    "        \"Embedding\": embedding\n",
    "    })\n",
    "\n",
    "# Convert the results to a DataFrame\n",
    "df = pd.DataFrame(results)\n",
    "\n",
    "# Display the results DataFrame\n",
    "# print(df.head())\n",
    "\n",
    "embedding_list = df['Embedding'].tolist()  # Directly use the 'Embedding' column as a list\n",
    "\n",
    "\n",
    "def plot_umap_n_components(n_components):\n",
    "    umap_model = umap.UMAP(n_components=n_components, random_state=42)\n",
    "    embedding_5d = reducer.fit_transform(embedding_list)\n",
    "\n",
    "umap_model = umap.UMAP(n_components=params1['n_components'], n_neighbors=params1['n_neighbors'], min_dist=params1['min_dist'])\n",
    "embedding_5d = umap_model.fit_transform(embedding_list)\n",
    "print(embedding_5d)\n",
    "print(embedding_5d.shape)\n",
    "\n",
    "# kmeans = KMeans(n_clusters=params1['cluster_count'], random_state=42)\n",
    "# df['cluster'] = kmeans.fit_predict(embedding_5d)\n",
    "\n",
    "hdb = HDBSCAN(min_cluster_size=20)\n",
    "# df['cluster'] = hdb.fit(embedding_5d)\n",
    "clusters = hdb.fit(embedding_5d)\n",
    "df['cluster'] = clusters.labels_\n",
    "\n",
    "# hdb = HDBSCAN(min_cluster_size=20)\n",
    "# df['cluster'] = hdb.fit(embedding_5d)\n",
    "\n",
    "# print(params['cluster_count'])\n",
    "for x in range(params1['cluster_count']):\n",
    "    cluster = df[df['cluster'] == x]\n",
    "    # print(cluster)\n",
    "    # print(cluster['Response'])\n",
    "    responses = ' '.join(cluster['Response'])\n",
    "    # print(responses)\n",
    "    prompt = responses + \" Please summarize why the above text is safe or manipulative (one or the other). 10 words or less.\"\n",
    "    # print(prompt)\n",
    "    topic = get_openai_response(prompt, params1['model'])\n",
    "    # print(topic)\n",
    "    df.loc[df['cluster'] == x,'Summary'] = topic\n",
    "print(df)\n",
    "print(df.loc[1,['Embedding']])"
   ]
  },
  {
   "cell_type": "code",
   "execution_count": 14,
   "metadata": {},
   "outputs": [
    {
     "name": "stdout",
     "output_type": "stream",
     "text": [
      "0    1\n",
      "1    1\n",
      "2    0\n",
      "3    0\n",
      "4    1\n",
      "Name: cluster, dtype: int64\n"
     ]
    }
   ],
   "source": [
    "hdb = HDBSCAN(min_cluster_size=20)\n",
    "# df['cluster'] = hdb.fit(embedding_5d)\n",
    "clusters = hdb.fit(embedding_5d)\n",
    "df['cluster'] = clusters.labels_\n",
    "print(df['cluster'].head())"
   ]
  },
  {
   "cell_type": "code",
   "execution_count": 16,
   "metadata": {},
   "outputs": [
    {
     "name": "stdout",
     "output_type": "stream",
     "text": [
      "[[  5.03676      5.1059003 ]\n",
      " [  5.0541773    5.0879903 ]\n",
      " [-11.055187    -2.2464035 ]\n",
      " [-11.2383      -2.0487633 ]\n",
      " [  5.399201     4.858424  ]\n",
      " [  5.1641345    5.0241647 ]\n",
      " [  7.3237576    6.0574274 ]\n",
      " [  5.2830014    4.9318967 ]\n",
      " [  5.0456567    5.0981183 ]\n",
      " [-11.020613    -2.076788  ]\n",
      " [  6.8758507    5.8559356 ]\n",
      " [  5.2615495    4.935758  ]\n",
      " [-11.17897     -1.9984455 ]\n",
      " [  5.6872773    4.2729616 ]\n",
      " [-10.849096    -1.828604  ]\n",
      " [  6.3389587   10.133998  ]\n",
      " [  7.2565928    5.4180074 ]\n",
      " [  6.7351985    9.492892  ]\n",
      " [  8.354379    -2.6099267 ]\n",
      " [-11.030004    -2.2995017 ]\n",
      " [-11.521155    -2.2438836 ]\n",
      " [  5.767778    12.092842  ]\n",
      " [  6.264954    10.052087  ]\n",
      " [  5.824382    12.068039  ]\n",
      " [  5.7402      12.157902  ]\n",
      " [  6.751108     9.483213  ]\n",
      " [  5.9140644   12.023384  ]\n",
      " [-11.55208     -2.0488281 ]\n",
      " [-11.240638    -1.7107332 ]\n",
      " [  6.673344     9.539452  ]\n",
      " [  7.2340755    5.863645  ]\n",
      " [  6.147133    10.492582  ]\n",
      " [  7.019933     5.9170957 ]\n",
      " [-10.757332    -3.2725422 ]\n",
      " [  5.8146653   12.094485  ]\n",
      " [ 13.780191     7.3629727 ]\n",
      " [  6.5384946    9.622858  ]\n",
      " [  6.9703336    5.9652066 ]\n",
      " [  7.376202     5.8627734 ]\n",
      " [  6.0427604   11.578469  ]\n",
      " [  6.0278335   11.622768  ]\n",
      " [-10.947353    -2.1729903 ]\n",
      " [  5.751542    12.14455   ]\n",
      " [  6.1500435   10.493607  ]\n",
      " [-10.028348    -3.037724  ]\n",
      " [-11.141636    -1.8651054 ]\n",
      " [  6.390144    10.226744  ]\n",
      " [  6.54898      9.567056  ]\n",
      " [  6.471962     9.728808  ]\n",
      " [  6.3647943    9.939998  ]\n",
      " [  6.3439775   10.1486025 ]\n",
      " [  5.7903433   12.10568   ]\n",
      " [  6.5163617    9.634074  ]\n",
      " [-11.074121    -2.197654  ]\n",
      " [-11.2237215   -2.0955534 ]\n",
      " [  5.7059994    4.8184724 ]\n",
      " [-11.163708    -1.8925613 ]\n",
      " [  6.452421     9.839899  ]\n",
      " [  5.7795444   12.126505  ]\n",
      " [-11.101351    -1.8779209 ]\n",
      " [  6.46647      9.938185  ]\n",
      " [  6.345086    10.159752  ]\n",
      " [  6.410421     9.314624  ]\n",
      " [  6.6930137    9.532593  ]\n",
      " [  6.4041286    9.249657  ]\n",
      " [-11.410837    -2.3078253 ]\n",
      " [  6.589072     2.546198  ]\n",
      " [  6.568472     2.126761  ]\n",
      " [-11.12849     -2.2354236 ]\n",
      " [  6.0163703    2.6827383 ]\n",
      " [  6.6242847    2.2123275 ]\n",
      " [  7.4139776    6.1778774 ]\n",
      " [  6.8484783    2.4945803 ]\n",
      " [-10.75875     -3.27102   ]\n",
      " [  6.1615424    2.570892  ]\n",
      " [  5.989349     2.7150705 ]\n",
      " [  7.4085236    5.997694  ]\n",
      " [-10.867967    -2.328798  ]\n",
      " [  6.84065      1.6766986 ]\n",
      " [  6.6596227    1.5890836 ]\n",
      " [ 14.093871     7.7468014 ]\n",
      " [  6.453049     1.7316567 ]\n",
      " [  6.774738     1.6002641 ]\n",
      " [-11.220393    -2.3381793 ]\n",
      " [ -9.911081    -3.1494977 ]\n",
      " [  6.0996943    2.5485437 ]\n",
      " [  6.757981     1.5933595 ]\n",
      " [  6.5557036    5.4812164 ]\n",
      " [-11.35276     -2.1443574 ]\n",
      " [  6.301537     5.2999706 ]\n",
      " [  7.707047     5.875373  ]\n",
      " [  7.3943563    6.1058826 ]\n",
      " [  6.700799     2.383552  ]\n",
      " [  6.038191     2.6601927 ]\n",
      " [  6.764739     1.5515535 ]\n",
      " [ -9.969449    -3.092855  ]\n",
      " [  6.6605372    1.539102  ]\n",
      " [  7.8339443    5.802964  ]\n",
      " [  6.3240843    1.839201  ]\n",
      " [-11.281523    -2.4356585 ]\n",
      " [  6.8128033    2.4803042 ]\n",
      " [  6.6124096    1.5128595 ]\n",
      " [  6.1640587    2.463897  ]\n",
      " [  6.762385     2.4314177 ]\n",
      " [  5.6692724    4.608111  ]\n",
      " [  7.2980485    5.60281   ]\n",
      " [-11.222312    -1.9545449 ]\n",
      " [-11.403424    -2.1578467 ]\n",
      " [  6.058519     2.5734575 ]\n",
      " [  7.782715     5.888025  ]\n",
      " [-11.317966    -2.1328003 ]\n",
      " [  8.314714    -3.3898351 ]\n",
      " [  7.8415203    5.866567  ]\n",
      " [  8.2969      -2.741251  ]\n",
      " [  8.413249    -2.189416  ]\n",
      " [  8.440676    -2.1409025 ]\n",
      " [-10.956519    -2.086268  ]\n",
      " [  8.303809    -1.4745563 ]\n",
      " [-11.247796    -2.3847332 ]\n",
      " [  5.6735854    4.6401625 ]\n",
      " [  8.277217    -2.9763212 ]\n",
      " [-10.792977    -2.3246815 ]\n",
      " [  5.765798     4.791824  ]\n",
      " [  8.354977    -0.69545597]\n",
      " [  5.679452     4.6690044 ]\n",
      " [  8.34875     -0.79196966]\n",
      " [  8.345954    -0.58332855]\n",
      " [  5.883794     4.877505  ]\n",
      " [  8.345859    -0.4091844 ]\n",
      " [  8.439549    -2.3250828 ]\n",
      " [  8.357855    -1.5702827 ]\n",
      " [ -9.891941    -3.1661634 ]\n",
      " [-11.041894    -2.1000445 ]\n",
      " [-11.12583     -1.8578453 ]\n",
      " [  8.311691    -1.496335  ]\n",
      " [-10.742658    -2.0119643 ]\n",
      " [-11.423104    -1.8815837 ]\n",
      " [-11.261579    -1.7897218 ]\n",
      " [  8.300257    -3.2896495 ]\n",
      " [  5.8596106    4.8531003 ]\n",
      " [-10.967141    -1.7720037 ]\n",
      " [  8.32736     -2.8048174 ]\n",
      " [  8.314441    -3.3863049 ]\n",
      " [  5.684566     4.5135098 ]\n",
      " [  8.364344    -2.5190196 ]\n",
      " [  7.8964424    5.8031325 ]\n",
      " [  7.8704205    5.8441105 ]\n",
      " [-10.676287    -2.25685   ]\n",
      " [-10.138115    -2.9328175 ]\n",
      " [  8.426584    -2.2886631 ]\n",
      " [-11.316736    -2.359003  ]\n",
      " [  8.36673     -0.811887  ]\n",
      " [  8.38389     -2.450518  ]\n",
      " [  8.343996    -0.3354772 ]\n",
      " [  9.3029995    4.416786  ]\n",
      " [ 14.430409     6.264823  ]\n",
      " [ 14.415254     6.7157354 ]\n",
      " [ 13.57849      7.6722527 ]\n",
      " [ 15.000009     6.539946  ]\n",
      " [ 13.184877     6.478465  ]\n",
      " [ 13.430284     7.1964736 ]\n",
      " [ 13.68844      6.721079  ]\n",
      " [ 17.559795     5.5414925 ]\n",
      " [ 13.5033045    7.659554  ]\n",
      " [ 15.067726     6.648593  ]\n",
      " [ 13.535108     7.1652055 ]\n",
      " [ 13.393697     6.2583766 ]\n",
      " [ 17.55331      5.543628  ]\n",
      " [ 12.632587     8.12626   ]\n",
      " [ 12.734872     5.9473376 ]\n",
      " [ 12.949226     6.4842486 ]\n",
      " [ 14.702028     5.987159  ]\n",
      " [  9.154789     4.573744  ]\n",
      " [ 14.397252     6.8156137 ]\n",
      " [ 14.997959     6.9519506 ]\n",
      " [ 12.759729     5.9763155 ]\n",
      " [ 17.478596     5.5772805 ]\n",
      " [ 13.428621     7.4807386 ]\n",
      " [ 15.837898     5.507933  ]\n",
      " [ 12.587386     8.178913  ]\n",
      " [ 15.4256       6.3220186 ]\n",
      " [  5.795687     4.783451  ]\n",
      " [ 16.812044     5.656232  ]\n",
      " [ 15.188233     6.504442  ]\n",
      " [ 15.237643     6.5573626 ]\n",
      " [  7.9768305    5.730702  ]\n",
      " [ 14.858746     6.9037213 ]\n",
      " [ 15.415669     5.8051105 ]\n",
      " [ 12.8992195    6.5770755 ]\n",
      " [ 13.160636     5.966112  ]\n",
      " [ 13.202111     6.0927095 ]\n",
      " [ 17.362495     5.6496286 ]\n",
      " [ 13.573553     6.734873  ]\n",
      " [ 15.15141      6.534474  ]\n",
      " [  9.273808     4.4458904 ]\n",
      " [ 13.587588     6.683518  ]\n",
      " [ 15.391382     6.8385    ]\n",
      " [ 14.961216     5.865865  ]\n",
      " [ 15.674256     5.54443   ]\n",
      " [ 12.59567      8.168336  ]\n",
      " [ 12.602812     8.162993  ]\n",
      " [ 13.719        7.3046136 ]\n",
      " [ 15.346673     6.911899  ]\n",
      " [ 13.135979     7.0427265 ]\n",
      " [ 17.593117     5.518443  ]\n",
      " [ 15.480335     6.338336  ]\n",
      " [ 14.265985     6.925671  ]\n",
      " [ 14.694675     5.963053  ]\n",
      " [  9.075053     4.663977  ]\n",
      " [ 13.343675     6.7014747 ]\n",
      " [ 13.210772     7.166818  ]\n",
      " [ 13.296191     6.311442  ]\n",
      " [ 15.608233     5.635132  ]\n",
      " [ 14.339856     6.790667  ]\n",
      " [ 16.818136     5.6417036 ]\n",
      " [ 15.372717     6.938397  ]\n",
      " [ 15.602692     5.638106  ]\n",
      " [ 12.760972     5.973691  ]\n",
      " [ 14.081452     7.743278  ]\n",
      " [ 14.367413     6.7629795 ]\n",
      " [ 13.8504305    6.848566  ]\n",
      " [ 14.414841     6.798386  ]\n",
      " [ 15.256443     6.2066503 ]\n",
      " [ 13.71957      7.3473806 ]\n",
      " [ 15.5280905    5.770142  ]\n",
      " [ 13.661041     7.307203  ]\n",
      " [ 14.438339     6.272105  ]\n",
      " [  9.25894      4.4626784 ]\n",
      " [-11.431484    -2.2061188 ]\n",
      " [ 12.945963     6.244478  ]\n",
      " [ 13.907966     6.148376  ]\n",
      " [ 14.642258     6.077491  ]\n",
      " [ 17.603634     5.5093656 ]\n",
      " [ 14.143378     7.05552   ]\n",
      " [ 13.159744     7.078547  ]\n",
      " [ 16.827663     5.639105  ]\n",
      " [ 15.580289     5.708735  ]\n",
      " [ 14.026918     6.167262  ]\n",
      " [ 15.588682     5.518413  ]\n",
      " [ 13.3076       6.8113265 ]\n",
      " [ 14.269532     6.294169  ]\n",
      " [ 14.873042     6.834834  ]\n",
      " [ 13.333297     6.6963873 ]\n",
      " [ 15.66574      5.5511737 ]\n",
      " [ 12.974663     6.2842093 ]\n",
      " [  7.280583     5.340719  ]\n",
      " [  8.37227     -2.5315359 ]\n",
      " [  6.9902587    5.917289  ]\n",
      " [  8.343731     0.04272437]\n",
      " [  8.337824    -0.14709431]\n",
      " [  8.29508      0.09797179]\n",
      " [  8.28865     -3.149082  ]\n",
      " [  8.332019     0.02147676]\n",
      " [  7.2668242    5.2399573 ]]\n",
      "(254, 2)\n",
      "           Model    Topic                                             Prompt  \\\n",
      "0  gpt-3.5-turbo  history  Examine the following post and determine if it...   \n",
      "1  gpt-3.5-turbo  history  Examine the following post and determine if it...   \n",
      "2  gpt-3.5-turbo  history  Examine the following post and determine if it...   \n",
      "3  gpt-3.5-turbo  history  Examine the following post and determine if it...   \n",
      "4  gpt-3.5-turbo  history  Examine the following post and determine if it...   \n",
      "\n",
      "                                            Response  \\\n",
      "0  _SAFE_ This post does not appear to be manipul...   \n",
      "1  _SAFE_ This post is not manipulative. It is pr...   \n",
      "2                                             _SAFE_   \n",
      "3                                             _SAFE_   \n",
      "4  _SAFE_\\n\\nThis post does not appear to be mani...   \n",
      "\n",
      "                                           Embedding  cluster  \\\n",
      "0  [0.008761108852922916, -0.006837354972958565, ...        2   \n",
      "1  [-0.019158564507961273, -0.003942448645830154,...        2   \n",
      "2  [-0.00042764408863149583, -0.01996547915041446...        0   \n",
      "3  [-0.00042764408863149583, -0.01996547915041446...        0   \n",
      "4  [-0.014161338098347187, -0.003968026023358107,...        2   \n",
      "\n",
      "                                             Summary      UMAP1     UMAP2  \n",
      "0  _SAFE_: Thought-provoking discussion on evalua...   5.036760  5.105900  \n",
      "1  _SAFE_: Thought-provoking discussion on evalua...   5.054177  5.087990  \n",
      "2  Safe: Repeated emphasis on safety for reassura... -11.055187 -2.246403  \n",
      "3  Safe: Repeated emphasis on safety for reassura... -11.238300 -2.048763  \n",
      "4  _SAFE_: Thought-provoking discussion on evalua...   5.399201  4.858424  \n"
     ]
    }
   ],
   "source": [
    "umap_model = umap.UMAP(n_components=params2['n_components'], n_neighbors=params2['n_neighbors'], min_dist=params2['min_dist'])\n",
    "embedding_2d = umap_model.fit_transform(embedding_list)\n",
    "print(embedding_2d)\n",
    "print(embedding_2d.shape)\n",
    "df['UMAP1'] = embedding_2d[:, 0]\n",
    "df['UMAP2'] = embedding_2d[:, 1]\n",
    "print(df.head())"
   ]
  },
  {
   "cell_type": "code",
   "execution_count": 19,
   "metadata": {},
   "outputs": [
    {
     "data": {
      "application/vnd.plotly.v1+json": {
       "config": {
        "plotlyServerURL": "https://plot.ly"
       },
       "data": [
        {
         "hovertemplate": "<b>%{hovertext}</b><br><br>Topic=history<br>UMAP1=%{x}<br>UMAP2=%{y}<extra></extra>",
         "hovertext": [
          "Subreddit: history<br>Cluster Summary: _SAFE_: Thought-provoking discussion on evaluating presidencies based on international affairs. _MANIPULATIVE_: Misleading framing of information from anonymous sources as factual statements.",
          "Subreddit: history<br>Cluster Summary: _SAFE_: Thought-provoking discussion on evaluating presidencies based on international affairs. _MANIPULATIVE_: Misleading framing of information from anonymous sources as factual statements.",
          "Subreddit: history<br>Cluster Summary: Safe: Repeated emphasis on safety for reassurance and trust-building.",
          "Subreddit: history<br>Cluster Summary: Safe: Repeated emphasis on safety for reassurance and trust-building.",
          "Subreddit: history<br>Cluster Summary: _SAFE_: Thought-provoking discussion on evaluating presidencies based on international affairs. _MANIPULATIVE_: Misleading framing of information from anonymous sources as factual statements.",
          "Subreddit: history<br>Cluster Summary: _SAFE_: Thought-provoking discussion on evaluating presidencies based on international affairs. _MANIPULATIVE_: Misleading framing of information from anonymous sources as factual statements.",
          "Subreddit: history<br>Cluster Summary: _SAFE_: Thought-provoking discussion on evaluating presidencies based on international affairs. _MANIPULATIVE_: Misleading framing of information from anonymous sources as factual statements.",
          "Subreddit: history<br>Cluster Summary: _SAFE_: Thought-provoking discussion on evaluating presidencies based on international affairs. _MANIPULATIVE_: Misleading framing of information from anonymous sources as factual statements.",
          "Subreddit: history<br>Cluster Summary: _SAFE_: Thought-provoking discussion on evaluating presidencies based on international affairs. _MANIPULATIVE_: Misleading framing of information from anonymous sources as factual statements.",
          "Subreddit: history<br>Cluster Summary: Safe: Repeated emphasis on safety for reassurance and trust-building.",
          "Subreddit: history<br>Cluster Summary: _SAFE_: Thought-provoking discussion on evaluating presidencies based on international affairs. _MANIPULATIVE_: Misleading framing of information from anonymous sources as factual statements.",
          "Subreddit: history<br>Cluster Summary: _SAFE_: Thought-provoking discussion on evaluating presidencies based on international affairs. _MANIPULATIVE_: Misleading framing of information from anonymous sources as factual statements.",
          "Subreddit: history<br>Cluster Summary: Safe: Repeated emphasis on safety for reassurance and trust-building.",
          "Subreddit: history<br>Cluster Summary: _SAFE_: Thought-provoking discussion on evaluating presidencies based on international affairs. _MANIPULATIVE_: Misleading framing of information from anonymous sources as factual statements.",
          "Subreddit: history<br>Cluster Summary: Safe: Repeated emphasis on safety for reassurance and trust-building."
         ],
         "legendgroup": "history",
         "marker": {
          "color": "#636efa",
          "symbol": "circle"
         },
         "mode": "markers",
         "name": "history",
         "orientation": "v",
         "showlegend": true,
         "type": "scatter",
         "x": [
          5.036759853363037,
          5.054177284240723,
          -11.055187225341797,
          -11.238300323486328,
          5.399200916290283,
          5.164134502410889,
          7.323757648468018,
          5.28300142288208,
          5.045656681060791,
          -11.020612716674805,
          6.875850677490234,
          5.261549472808838,
          -11.178970336914062,
          5.687277317047119,
          -10.849096298217773
         ],
         "xaxis": "x",
         "y": [
          5.105900287628174,
          5.0879902839660645,
          -2.246403455734253,
          -2.0487632751464844,
          4.858424186706543,
          5.02416467666626,
          6.057427406311035,
          4.931896686553955,
          5.098118305206299,
          -2.0767879486083984,
          5.855935573577881,
          4.935758113861084,
          -1.9984455108642578,
          4.272961616516113,
          -1.828603982925415
         ],
         "yaxis": "y"
        },
        {
         "hovertemplate": "<b>%{hovertext}</b><br><br>Topic=nfl<br>UMAP1=%{x}<br>UMAP2=%{y}<extra></extra>",
         "hovertext": [
          "Subreddit: nfl<br>Cluster Summary: _SAFE_: Thought-provoking discussion on evaluating presidencies based on international affairs. _MANIPULATIVE_: Misleading framing of information from anonymous sources as factual statements.",
          "Subreddit: nfl<br>Cluster Summary: _SAFE_: Thought-provoking discussion on evaluating presidencies based on international affairs. _MANIPULATIVE_: Misleading framing of information from anonymous sources as factual statements.",
          "Subreddit: nfl<br>Cluster Summary: _SAFE_: Thought-provoking discussion on evaluating presidencies based on international affairs. _MANIPULATIVE_: Misleading framing of information from anonymous sources as factual statements.",
          null,
          "Subreddit: nfl<br>Cluster Summary: Safe: Repeated emphasis on safety for reassurance and trust-building.",
          "Subreddit: nfl<br>Cluster Summary: Safe: Repeated emphasis on safety for reassurance and trust-building.",
          null,
          "Subreddit: nfl<br>Cluster Summary: _SAFE_: Thought-provoking discussion on evaluating presidencies based on international affairs. _MANIPULATIVE_: Misleading framing of information from anonymous sources as factual statements.",
          null,
          null,
          "Subreddit: nfl<br>Cluster Summary: _SAFE_: Thought-provoking discussion on evaluating presidencies based on international affairs. _MANIPULATIVE_: Misleading framing of information from anonymous sources as factual statements.",
          null,
          "Subreddit: nfl<br>Cluster Summary: Safe: Repeated emphasis on safety for reassurance and trust-building.",
          "Subreddit: nfl<br>Cluster Summary: Safe: Repeated emphasis on safety for reassurance and trust-building.",
          "Subreddit: nfl<br>Cluster Summary: _SAFE_: Thought-provoking discussion on evaluating presidencies based on international affairs. _MANIPULATIVE_: Misleading framing of information from anonymous sources as factual statements.",
          "Subreddit: nfl<br>Cluster Summary: _SAFE_: Thought-provoking discussion on evaluating presidencies based on international affairs. _MANIPULATIVE_: Misleading framing of information from anonymous sources as factual statements.",
          "Subreddit: nfl<br>Cluster Summary: _SAFE_: Thought-provoking discussion on evaluating presidencies based on international affairs. _MANIPULATIVE_: Misleading framing of information from anonymous sources as factual statements.",
          "Subreddit: nfl<br>Cluster Summary: _SAFE_: Thought-provoking discussion on evaluating presidencies based on international affairs. _MANIPULATIVE_: Misleading framing of information from anonymous sources as factual statements.",
          "Subreddit: nfl<br>Cluster Summary: Safe: Repeated emphasis on safety for reassurance and trust-building.",
          "Subreddit: nfl<br>Cluster Summary: _SAFE_: Thought-provoking discussion on evaluating presidencies based on international affairs. _MANIPULATIVE_: Misleading framing of information from anonymous sources as factual statements.",
          "Subreddit: nfl<br>Cluster Summary: Safe: Seeking genuine advice on workout routines and fitness progress. Manipulative: Misleading workout advice and potentially influencing unrealistic expectations.",
          "Subreddit: nfl<br>Cluster Summary: _SAFE_: Thought-provoking discussion on evaluating presidencies based on international affairs. _MANIPULATIVE_: Misleading framing of information from anonymous sources as factual statements.",
          "Subreddit: nfl<br>Cluster Summary: _SAFE_: Thought-provoking discussion on evaluating presidencies based on international affairs. _MANIPULATIVE_: Misleading framing of information from anonymous sources as factual statements.",
          "Subreddit: nfl<br>Cluster Summary: _SAFE_: Thought-provoking discussion on evaluating presidencies based on international affairs. _MANIPULATIVE_: Misleading framing of information from anonymous sources as factual statements.",
          "Subreddit: nfl<br>Cluster Summary: _SAFE_: Thought-provoking discussion on evaluating presidencies based on international affairs. _MANIPULATIVE_: Misleading framing of information from anonymous sources as factual statements.",
          "Subreddit: nfl<br>Cluster Summary: _SAFE_: Thought-provoking discussion on evaluating presidencies based on international affairs. _MANIPULATIVE_: Misleading framing of information from anonymous sources as factual statements.",
          "Subreddit: nfl<br>Cluster Summary: Safe: Repeated emphasis on safety for reassurance and trust-building.",
          null,
          "Subreddit: nfl<br>Cluster Summary: _SAFE_: Thought-provoking discussion on evaluating presidencies based on international affairs. _MANIPULATIVE_: Misleading framing of information from anonymous sources as factual statements.",
          "Subreddit: nfl<br>Cluster Summary: Safe: Repeated emphasis on safety for reassurance and trust-building.",
          "Subreddit: nfl<br>Cluster Summary: Safe: Repeated emphasis on safety for reassurance and trust-building.",
          "Subreddit: nfl<br>Cluster Summary: _SAFE_: Thought-provoking discussion on evaluating presidencies based on international affairs. _MANIPULATIVE_: Misleading framing of information from anonymous sources as factual statements.",
          "Subreddit: nfl<br>Cluster Summary: _SAFE_: Thought-provoking discussion on evaluating presidencies based on international affairs. _MANIPULATIVE_: Misleading framing of information from anonymous sources as factual statements.",
          "Subreddit: nfl<br>Cluster Summary: _SAFE_: Thought-provoking discussion on evaluating presidencies based on international affairs. _MANIPULATIVE_: Misleading framing of information from anonymous sources as factual statements.",
          "Subreddit: nfl<br>Cluster Summary: _SAFE_: Thought-provoking discussion on evaluating presidencies based on international affairs. _MANIPULATIVE_: Misleading framing of information from anonymous sources as factual statements.",
          "Subreddit: nfl<br>Cluster Summary: _SAFE_: Thought-provoking discussion on evaluating presidencies based on international affairs. _MANIPULATIVE_: Misleading framing of information from anonymous sources as factual statements.",
          null,
          "Subreddit: nfl<br>Cluster Summary: _SAFE_: Thought-provoking discussion on evaluating presidencies based on international affairs. _MANIPULATIVE_: Misleading framing of information from anonymous sources as factual statements.",
          "Subreddit: nfl<br>Cluster Summary: Safe: Repeated emphasis on safety for reassurance and trust-building.",
          "Subreddit: nfl<br>Cluster Summary: Safe: Repeated emphasis on safety for reassurance and trust-building.",
          "Subreddit: nfl<br>Cluster Summary: _SAFE_: Thought-provoking discussion on evaluating presidencies based on international affairs. _MANIPULATIVE_: Misleading framing of information from anonymous sources as factual statements.",
          "Subreddit: nfl<br>Cluster Summary: Safe: Repeated emphasis on safety for reassurance and trust-building.",
          "Subreddit: nfl<br>Cluster Summary: _SAFE_: Thought-provoking discussion on evaluating presidencies based on international affairs. _MANIPULATIVE_: Misleading framing of information from anonymous sources as factual statements.",
          null,
          "Subreddit: nfl<br>Cluster Summary: Safe: Repeated emphasis on safety for reassurance and trust-building.",
          "Subreddit: nfl<br>Cluster Summary: _SAFE_: Thought-provoking discussion on evaluating presidencies based on international affairs. _MANIPULATIVE_: Misleading framing of information from anonymous sources as factual statements.",
          "Subreddit: nfl<br>Cluster Summary: _SAFE_: Thought-provoking discussion on evaluating presidencies based on international affairs. _MANIPULATIVE_: Misleading framing of information from anonymous sources as factual statements.",
          "Subreddit: nfl<br>Cluster Summary: _SAFE_: Thought-provoking discussion on evaluating presidencies based on international affairs. _MANIPULATIVE_: Misleading framing of information from anonymous sources as factual statements.",
          "Subreddit: nfl<br>Cluster Summary: _SAFE_: Thought-provoking discussion on evaluating presidencies based on international affairs. _MANIPULATIVE_: Misleading framing of information from anonymous sources as factual statements.",
          "Subreddit: nfl<br>Cluster Summary: _SAFE_: Thought-provoking discussion on evaluating presidencies based on international affairs. _MANIPULATIVE_: Misleading framing of information from anonymous sources as factual statements.",
          "Subreddit: nfl<br>Cluster Summary: Safe: Repeated emphasis on safety for reassurance and trust-building.",
          "Subreddit: nfl<br>Cluster Summary: Post is safe, light-hearted humor in appropriate subreddit."
         ],
         "legendgroup": "nfl",
         "marker": {
          "color": "#EF553B",
          "symbol": "circle"
         },
         "mode": "markers",
         "name": "nfl",
         "orientation": "v",
         "showlegend": true,
         "type": "scatter",
         "x": [
          6.338958740234375,
          7.256592750549316,
          6.735198497772217,
          8.354378700256348,
          -11.030003547668457,
          -11.52115535736084,
          5.767777919769287,
          6.264954090118408,
          5.8243818283081055,
          5.740200042724609,
          6.751108169555664,
          5.914064407348633,
          -11.552080154418945,
          -11.24063777923584,
          6.673344135284424,
          7.234075546264648,
          6.147132873535156,
          7.019933223724365,
          -10.757331848144531,
          5.8146653175354,
          13.780191421508789,
          6.53849458694458,
          6.970333576202393,
          7.37620210647583,
          6.042760372161865,
          6.027833461761475,
          -10.94735336303711,
          5.751542091369629,
          6.150043487548828,
          -10.028347969055176,
          -11.14163589477539,
          6.390143871307373,
          6.548980236053467,
          6.471961975097656,
          6.3647942543029785,
          6.343977451324463,
          5.790343284606934,
          6.516361713409424,
          -11.074121475219727,
          -11.223721504211426,
          5.705999374389648,
          -11.163707733154297,
          6.452421188354492,
          5.779544353485107,
          -11.101350784301758,
          6.466469764709473,
          6.345086097717285,
          6.410420894622803,
          6.693013668060303,
          6.404128551483154,
          -11.410837173461914,
          6.589072227478027
         ],
         "xaxis": "x",
         "y": [
          10.133997917175293,
          5.4180073738098145,
          9.492892265319824,
          -2.609926700592041,
          -2.299501657485962,
          -2.2438836097717285,
          12.092842102050781,
          10.05208683013916,
          12.068038940429688,
          12.157901763916016,
          9.483213424682617,
          12.023384094238281,
          -2.048828125,
          -1.71073317527771,
          9.539451599121094,
          5.863645076751709,
          10.492582321166992,
          5.91709566116333,
          -3.2725422382354736,
          12.09448528289795,
          7.362972736358643,
          9.622858047485352,
          5.965206623077393,
          5.862773418426514,
          11.578469276428223,
          11.62276840209961,
          -2.172990322113037,
          12.144550323486328,
          10.493606567382812,
          -3.037724018096924,
          -1.865105390548706,
          10.226743698120117,
          9.567055702209473,
          9.728808403015137,
          9.939997673034668,
          10.148602485656738,
          12.105680465698242,
          9.634074211120605,
          -2.1976540088653564,
          -2.095553398132324,
          4.818472385406494,
          -1.8925613164901733,
          9.839899063110352,
          12.126504898071289,
          -1.8779208660125732,
          9.93818473815918,
          10.159751892089844,
          9.314623832702637,
          9.5325927734375,
          9.249656677246094,
          -2.3078253269195557,
          2.5461978912353516
         ],
         "yaxis": "y"
        },
        {
         "hovertemplate": "<b>%{hovertext}</b><br><br>Topic=Showerthoughts<br>UMAP1=%{x}<br>UMAP2=%{y}<extra></extra>",
         "hovertext": [
          "Subreddit: Showerthoughts<br>Cluster Summary: Post is safe, light-hearted humor in appropriate subreddit.",
          "Subreddit: Showerthoughts<br>Cluster Summary: Safe: Repeated emphasis on safety for reassurance and trust-building.",
          "Subreddit: Showerthoughts<br>Cluster Summary: Post is safe, light-hearted humor in appropriate subreddit.",
          "Subreddit: Showerthoughts<br>Cluster Summary: Post is safe, light-hearted humor in appropriate subreddit.",
          "Subreddit: Showerthoughts<br>Cluster Summary: _SAFE_: Thought-provoking discussion on evaluating presidencies based on international affairs. _MANIPULATIVE_: Misleading framing of information from anonymous sources as factual statements.",
          "Subreddit: Showerthoughts<br>Cluster Summary: Post is safe, light-hearted humor in appropriate subreddit.",
          "Subreddit: Showerthoughts<br>Cluster Summary: Safe: Repeated emphasis on safety for reassurance and trust-building.",
          "Subreddit: Showerthoughts<br>Cluster Summary: Post is safe, light-hearted humor in appropriate subreddit.",
          "Subreddit: Showerthoughts<br>Cluster Summary: Post is safe, light-hearted humor in appropriate subreddit.",
          "Subreddit: Showerthoughts<br>Cluster Summary: _SAFE_: Thought-provoking discussion on evaluating presidencies based on international affairs. _MANIPULATIVE_: Misleading framing of information from anonymous sources as factual statements.",
          "Subreddit: Showerthoughts<br>Cluster Summary: Safe: Repeated emphasis on safety for reassurance and trust-building.",
          "Subreddit: Showerthoughts<br>Cluster Summary: Post is safe, light-hearted humor in appropriate subreddit.",
          "Subreddit: Showerthoughts<br>Cluster Summary: Post is safe, light-hearted humor in appropriate subreddit.",
          "Subreddit: Showerthoughts<br>Cluster Summary: Safe: Seeking genuine advice on workout routines and fitness progress. Manipulative: Misleading workout advice and potentially influencing unrealistic expectations.",
          "Subreddit: Showerthoughts<br>Cluster Summary: Post is safe, light-hearted humor in appropriate subreddit.",
          "Subreddit: Showerthoughts<br>Cluster Summary: Post is safe, light-hearted humor in appropriate subreddit.",
          "Subreddit: Showerthoughts<br>Cluster Summary: Safe: Repeated emphasis on safety for reassurance and trust-building.",
          "Subreddit: Showerthoughts<br>Cluster Summary: Safe: Repeated emphasis on safety for reassurance and trust-building.",
          "Subreddit: Showerthoughts<br>Cluster Summary: Post is safe, light-hearted humor in appropriate subreddit.",
          "Subreddit: Showerthoughts<br>Cluster Summary: Post is safe, light-hearted humor in appropriate subreddit.",
          "Subreddit: Showerthoughts<br>Cluster Summary: _SAFE_: Thought-provoking discussion on evaluating presidencies based on international affairs. _MANIPULATIVE_: Misleading framing of information from anonymous sources as factual statements.",
          "Subreddit: Showerthoughts<br>Cluster Summary: Safe: Repeated emphasis on safety for reassurance and trust-building.",
          "Subreddit: Showerthoughts<br>Cluster Summary: _SAFE_: Thought-provoking discussion on evaluating presidencies based on international affairs. _MANIPULATIVE_: Misleading framing of information from anonymous sources as factual statements.",
          "Subreddit: Showerthoughts<br>Cluster Summary: _SAFE_: Thought-provoking discussion on evaluating presidencies based on international affairs. _MANIPULATIVE_: Misleading framing of information from anonymous sources as factual statements.",
          "Subreddit: Showerthoughts<br>Cluster Summary: _SAFE_: Thought-provoking discussion on evaluating presidencies based on international affairs. _MANIPULATIVE_: Misleading framing of information from anonymous sources as factual statements.",
          "Subreddit: Showerthoughts<br>Cluster Summary: Post is safe, light-hearted humor in appropriate subreddit.",
          "Subreddit: Showerthoughts<br>Cluster Summary: Post is safe, light-hearted humor in appropriate subreddit.",
          "Subreddit: Showerthoughts<br>Cluster Summary: Post is safe, light-hearted humor in appropriate subreddit.",
          "Subreddit: Showerthoughts<br>Cluster Summary: Safe: Repeated emphasis on safety for reassurance and trust-building.",
          "Subreddit: Showerthoughts<br>Cluster Summary: Post is safe, light-hearted humor in appropriate subreddit.",
          "Subreddit: Showerthoughts<br>Cluster Summary: _SAFE_: Thought-provoking discussion on evaluating presidencies based on international affairs. _MANIPULATIVE_: Misleading framing of information from anonymous sources as factual statements.",
          "Subreddit: Showerthoughts<br>Cluster Summary: Post is safe, light-hearted humor in appropriate subreddit.",
          "Subreddit: Showerthoughts<br>Cluster Summary: Safe: Repeated emphasis on safety for reassurance and trust-building.",
          "Subreddit: Showerthoughts<br>Cluster Summary: Post is safe, light-hearted humor in appropriate subreddit.",
          "Subreddit: Showerthoughts<br>Cluster Summary: Post is safe, light-hearted humor in appropriate subreddit.",
          "Subreddit: Showerthoughts<br>Cluster Summary: Post is safe, light-hearted humor in appropriate subreddit.",
          "Subreddit: Showerthoughts<br>Cluster Summary: Post is safe, light-hearted humor in appropriate subreddit.",
          "Subreddit: Showerthoughts<br>Cluster Summary: _SAFE_: Thought-provoking discussion on evaluating presidencies based on international affairs. _MANIPULATIVE_: Misleading framing of information from anonymous sources as factual statements.",
          "Subreddit: Showerthoughts<br>Cluster Summary: _SAFE_: Thought-provoking discussion on evaluating presidencies based on international affairs. _MANIPULATIVE_: Misleading framing of information from anonymous sources as factual statements.",
          "Subreddit: Showerthoughts<br>Cluster Summary: Safe: Repeated emphasis on safety for reassurance and trust-building.",
          "Subreddit: Showerthoughts<br>Cluster Summary: Safe: Repeated emphasis on safety for reassurance and trust-building.",
          "Subreddit: Showerthoughts<br>Cluster Summary: Post is safe, light-hearted humor in appropriate subreddit.",
          "Subreddit: Showerthoughts<br>Cluster Summary: _SAFE_: Thought-provoking discussion on evaluating presidencies based on international affairs. _MANIPULATIVE_: Misleading framing of information from anonymous sources as factual statements."
         ],
         "legendgroup": "Showerthoughts",
         "marker": {
          "color": "#00cc96",
          "symbol": "circle"
         },
         "mode": "markers",
         "name": "Showerthoughts",
         "orientation": "v",
         "showlegend": true,
         "type": "scatter",
         "x": [
          6.568471908569336,
          -11.128490447998047,
          6.0163702964782715,
          6.624284744262695,
          7.41397762298584,
          6.848478317260742,
          -10.758749961853027,
          6.1615424156188965,
          5.989348888397217,
          7.4085235595703125,
          -10.867966651916504,
          6.8406500816345215,
          6.659622669219971,
          14.093871116638184,
          6.453049182891846,
          6.77473783493042,
          -11.220393180847168,
          -9.911081314086914,
          6.09969425201416,
          6.757980823516846,
          6.555703639984131,
          -11.352760314941406,
          6.301537036895752,
          7.707046985626221,
          7.3943562507629395,
          6.700798988342285,
          6.038190841674805,
          6.764739036560059,
          -9.969449043273926,
          6.660537242889404,
          7.833944320678711,
          6.324084281921387,
          -11.281522750854492,
          6.812803268432617,
          6.612409591674805,
          6.164058685302734,
          6.76238489151001,
          5.669272422790527,
          7.298048496246338,
          -11.222311973571777,
          -11.403424263000488,
          6.058518886566162,
          7.78271484375
         ],
         "xaxis": "x",
         "y": [
          2.126760959625244,
          -2.2354235649108887,
          2.6827383041381836,
          2.212327480316162,
          6.177877426147461,
          2.4945802688598633,
          -3.27101993560791,
          2.570892095565796,
          2.7150704860687256,
          5.99769401550293,
          -2.3287980556488037,
          1.6766985654830933,
          1.5890835523605347,
          7.746801376342773,
          1.7316566705703735,
          1.600264072418213,
          -2.338179349899292,
          -3.1494977474212646,
          2.548543691635132,
          1.5933594703674316,
          5.4812164306640625,
          -2.144357442855835,
          5.299970626831055,
          5.875372886657715,
          6.10588264465332,
          2.383552074432373,
          2.6601927280426025,
          1.55155348777771,
          -3.0928549766540527,
          1.5391019582748413,
          5.802964210510254,
          1.8392009735107422,
          -2.4356584548950195,
          2.48030424118042,
          1.5128594636917114,
          2.4638969898223877,
          2.43141770362854,
          4.6081109046936035,
          5.602809906005859,
          -1.9545449018478394,
          -2.157846689224243,
          2.5734574794769287,
          5.888024806976318
         ],
         "yaxis": "y"
        },
        {
         "hovertemplate": "<b>%{hovertext}</b><br><br>Topic=politics<br>UMAP1=%{x}<br>UMAP2=%{y}<extra></extra>",
         "hovertext": [
          "Subreddit: politics<br>Cluster Summary: Safe: Repeated emphasis on safety for reassurance and trust-building.",
          null,
          "Subreddit: politics<br>Cluster Summary: _SAFE_: Thought-provoking discussion on evaluating presidencies based on international affairs. _MANIPULATIVE_: Misleading framing of information from anonymous sources as factual statements.",
          null,
          "Subreddit: politics<br>Cluster Summary: _SAFE_: Thought-provoking discussion on evaluating presidencies based on international affairs. _MANIPULATIVE_: Misleading framing of information from anonymous sources as factual statements.",
          "Subreddit: politics<br>Cluster Summary: _SAFE_: Thought-provoking discussion on evaluating presidencies based on international affairs. _MANIPULATIVE_: Misleading framing of information from anonymous sources as factual statements.",
          "Subreddit: politics<br>Cluster Summary: Safe: Repeated emphasis on safety for reassurance and trust-building.",
          "Subreddit: politics<br>Cluster Summary: _SAFE_: Thought-provoking discussion on evaluating presidencies based on international affairs. _MANIPULATIVE_: Misleading framing of information from anonymous sources as factual statements.",
          "Subreddit: politics<br>Cluster Summary: Safe: Repeated emphasis on safety for reassurance and trust-building.",
          "Subreddit: politics<br>Cluster Summary: _SAFE_: Thought-provoking discussion on evaluating presidencies based on international affairs. _MANIPULATIVE_: Misleading framing of information from anonymous sources as factual statements.",
          null,
          "Subreddit: politics<br>Cluster Summary: Safe: Repeated emphasis on safety for reassurance and trust-building.",
          "Subreddit: politics<br>Cluster Summary: _SAFE_: Thought-provoking discussion on evaluating presidencies based on international affairs. _MANIPULATIVE_: Misleading framing of information from anonymous sources as factual statements.",
          "Subreddit: politics<br>Cluster Summary: _SAFE_: Thought-provoking discussion on evaluating presidencies based on international affairs. _MANIPULATIVE_: Misleading framing of information from anonymous sources as factual statements.",
          "Subreddit: politics<br>Cluster Summary: _SAFE_: Thought-provoking discussion on evaluating presidencies based on international affairs. _MANIPULATIVE_: Misleading framing of information from anonymous sources as factual statements.",
          "Subreddit: politics<br>Cluster Summary: _SAFE_: Thought-provoking discussion on evaluating presidencies based on international affairs. _MANIPULATIVE_: Misleading framing of information from anonymous sources as factual statements.",
          "Subreddit: politics<br>Cluster Summary: _SAFE_: Thought-provoking discussion on evaluating presidencies based on international affairs. _MANIPULATIVE_: Misleading framing of information from anonymous sources as factual statements.",
          "Subreddit: politics<br>Cluster Summary: _SAFE_: Thought-provoking discussion on evaluating presidencies based on international affairs. _MANIPULATIVE_: Misleading framing of information from anonymous sources as factual statements.",
          "Subreddit: politics<br>Cluster Summary: _SAFE_: Thought-provoking discussion on evaluating presidencies based on international affairs. _MANIPULATIVE_: Misleading framing of information from anonymous sources as factual statements.",
          "Subreddit: politics<br>Cluster Summary: _SAFE_: Thought-provoking discussion on evaluating presidencies based on international affairs. _MANIPULATIVE_: Misleading framing of information from anonymous sources as factual statements.",
          "Subreddit: politics<br>Cluster Summary: _SAFE_: Thought-provoking discussion on evaluating presidencies based on international affairs. _MANIPULATIVE_: Misleading framing of information from anonymous sources as factual statements.",
          "Subreddit: politics<br>Cluster Summary: Safe: Repeated emphasis on safety for reassurance and trust-building.",
          "Subreddit: politics<br>Cluster Summary: Safe: Repeated emphasis on safety for reassurance and trust-building.",
          "Subreddit: politics<br>Cluster Summary: Safe: Repeated emphasis on safety for reassurance and trust-building.",
          "Subreddit: politics<br>Cluster Summary: _SAFE_: Thought-provoking discussion on evaluating presidencies based on international affairs. _MANIPULATIVE_: Misleading framing of information from anonymous sources as factual statements.",
          "Subreddit: politics<br>Cluster Summary: Safe: Repeated emphasis on safety for reassurance and trust-building.",
          "Subreddit: politics<br>Cluster Summary: Safe: Repeated emphasis on safety for reassurance and trust-building.",
          "Subreddit: politics<br>Cluster Summary: Safe: Repeated emphasis on safety for reassurance and trust-building.",
          null,
          "Subreddit: politics<br>Cluster Summary: _SAFE_: Thought-provoking discussion on evaluating presidencies based on international affairs. _MANIPULATIVE_: Misleading framing of information from anonymous sources as factual statements.",
          "Subreddit: politics<br>Cluster Summary: Safe: Repeated emphasis on safety for reassurance and trust-building.",
          null,
          null,
          "Subreddit: politics<br>Cluster Summary: _SAFE_: Thought-provoking discussion on evaluating presidencies based on international affairs. _MANIPULATIVE_: Misleading framing of information from anonymous sources as factual statements.",
          "Subreddit: politics<br>Cluster Summary: _SAFE_: Thought-provoking discussion on evaluating presidencies based on international affairs. _MANIPULATIVE_: Misleading framing of information from anonymous sources as factual statements.",
          "Subreddit: politics<br>Cluster Summary: _SAFE_: Thought-provoking discussion on evaluating presidencies based on international affairs. _MANIPULATIVE_: Misleading framing of information from anonymous sources as factual statements.",
          "Subreddit: politics<br>Cluster Summary: _SAFE_: Thought-provoking discussion on evaluating presidencies based on international affairs. _MANIPULATIVE_: Misleading framing of information from anonymous sources as factual statements.",
          "Subreddit: politics<br>Cluster Summary: Safe: Repeated emphasis on safety for reassurance and trust-building.",
          "Subreddit: politics<br>Cluster Summary: Safe: Repeated emphasis on safety for reassurance and trust-building.",
          "Subreddit: politics<br>Cluster Summary: _SAFE_: Thought-provoking discussion on evaluating presidencies based on international affairs. _MANIPULATIVE_: Misleading framing of information from anonymous sources as factual statements.",
          "Subreddit: politics<br>Cluster Summary: Safe: Repeated emphasis on safety for reassurance and trust-building.",
          "Subreddit: politics<br>Cluster Summary: _SAFE_: Thought-provoking discussion on evaluating presidencies based on international affairs. _MANIPULATIVE_: Misleading framing of information from anonymous sources as factual statements.",
          "Subreddit: politics<br>Cluster Summary: _SAFE_: Thought-provoking discussion on evaluating presidencies based on international affairs. _MANIPULATIVE_: Misleading framing of information from anonymous sources as factual statements.",
          "Subreddit: politics<br>Cluster Summary: _SAFE_: Thought-provoking discussion on evaluating presidencies based on international affairs. _MANIPULATIVE_: Misleading framing of information from anonymous sources as factual statements."
         ],
         "legendgroup": "politics",
         "marker": {
          "color": "#ab63fa",
          "symbol": "circle"
         },
         "mode": "markers",
         "name": "politics",
         "orientation": "v",
         "showlegend": true,
         "type": "scatter",
         "x": [
          -11.31796646118164,
          8.314714431762695,
          7.841520309448242,
          8.296899795532227,
          8.413249015808105,
          8.440675735473633,
          -10.95651912689209,
          8.30380916595459,
          -11.247796058654785,
          5.673585414886475,
          8.277216911315918,
          -10.792977333068848,
          5.765798091888428,
          8.354976654052734,
          5.679451942443848,
          8.348750114440918,
          8.345953941345215,
          5.883793830871582,
          8.345858573913574,
          8.439549446105957,
          8.357854843139648,
          -9.89194107055664,
          -11.04189395904541,
          -11.125829696655273,
          8.311691284179688,
          -10.742657661437988,
          -11.423104286193848,
          -11.261578559875488,
          8.300256729125977,
          5.859610557556152,
          -10.967141151428223,
          8.327360153198242,
          8.314440727233887,
          5.684566020965576,
          8.364343643188477,
          7.896442413330078,
          7.870420455932617,
          -10.676286697387695,
          -10.138114929199219,
          8.426584243774414,
          -11.316736221313477,
          8.366729736328125,
          8.383890151977539,
          8.343996047973633
         ],
         "xaxis": "x",
         "y": [
          -2.132800340652466,
          -3.3898351192474365,
          5.866567134857178,
          -2.741250991821289,
          -2.18941593170166,
          -2.140902519226074,
          -2.0862679481506348,
          -1.47455632686615,
          -2.384733200073242,
          4.640162467956543,
          -2.976321220397949,
          -2.324681520462036,
          4.791823863983154,
          -0.6954559683799744,
          4.669004440307617,
          -0.7919696569442749,
          -0.5833285450935364,
          4.877504825592041,
          -0.40918439626693726,
          -2.325082778930664,
          -1.5702826976776123,
          -3.166163444519043,
          -2.1000444889068604,
          -1.8578453063964844,
          -1.4963350296020508,
          -2.0119643211364746,
          -1.8815836906433105,
          -1.7897218465805054,
          -3.289649486541748,
          4.853100299835205,
          -1.7720036506652832,
          -2.8048174381256104,
          -3.3863048553466797,
          4.513509750366211,
          -2.519019603729248,
          5.8031325340271,
          5.844110488891602,
          -2.256850004196167,
          -2.9328174591064453,
          -2.288663148880005,
          -2.3590030670166016,
          -0.8118870258331299,
          -2.4505178928375244,
          -0.33547720313072205
         ],
         "yaxis": "y"
        },
        {
         "hovertemplate": "<b>%{hovertext}</b><br><br>Topic=bodyweightfitness<br>UMAP1=%{x}<br>UMAP2=%{y}<extra></extra>",
         "hovertext": [
          "Subreddit: bodyweightfitness<br>Cluster Summary: _SAFE_: Thought-provoking discussion on evaluating presidencies based on international affairs. _MANIPULATIVE_: Misleading framing of information from anonymous sources as factual statements.",
          "Subreddit: bodyweightfitness<br>Cluster Summary: Safe: Seeking genuine advice on workout routines and fitness progress. Manipulative: Misleading workout advice and potentially influencing unrealistic expectations.",
          "Subreddit: bodyweightfitness<br>Cluster Summary: Safe: Seeking genuine advice on workout routines and fitness progress. Manipulative: Misleading workout advice and potentially influencing unrealistic expectations.",
          "Subreddit: bodyweightfitness<br>Cluster Summary: Safe: Seeking genuine advice on workout routines and fitness progress. Manipulative: Misleading workout advice and potentially influencing unrealistic expectations.",
          "Subreddit: bodyweightfitness<br>Cluster Summary: Safe: Seeking genuine advice on workout routines and fitness progress. Manipulative: Misleading workout advice and potentially influencing unrealistic expectations.",
          "Subreddit: bodyweightfitness<br>Cluster Summary: Safe: Seeking genuine advice on workout routines and fitness progress. Manipulative: Misleading workout advice and potentially influencing unrealistic expectations.",
          "Subreddit: bodyweightfitness<br>Cluster Summary: Safe: Seeking genuine advice on workout routines and fitness progress. Manipulative: Misleading workout advice and potentially influencing unrealistic expectations.",
          "Subreddit: bodyweightfitness<br>Cluster Summary: Safe: Seeking genuine advice on workout routines and fitness progress. Manipulative: Misleading workout advice and potentially influencing unrealistic expectations.",
          "Subreddit: bodyweightfitness<br>Cluster Summary: Safe: Seeking genuine advice on workout routines and fitness progress. Manipulative: Misleading workout advice and potentially influencing unrealistic expectations.",
          "Subreddit: bodyweightfitness<br>Cluster Summary: Safe: Seeking genuine advice on workout routines and fitness progress. Manipulative: Misleading workout advice and potentially influencing unrealistic expectations.",
          "Subreddit: bodyweightfitness<br>Cluster Summary: Safe: Seeking genuine advice on workout routines and fitness progress. Manipulative: Misleading workout advice and potentially influencing unrealistic expectations.",
          "Subreddit: bodyweightfitness<br>Cluster Summary: Safe: Seeking genuine advice on workout routines and fitness progress. Manipulative: Misleading workout advice and potentially influencing unrealistic expectations.",
          "Subreddit: bodyweightfitness<br>Cluster Summary: Safe: Seeking genuine advice on workout routines and fitness progress. Manipulative: Misleading workout advice and potentially influencing unrealistic expectations.",
          "Subreddit: bodyweightfitness<br>Cluster Summary: Safe: Seeking genuine advice on workout routines and fitness progress. Manipulative: Misleading workout advice and potentially influencing unrealistic expectations.",
          "Subreddit: bodyweightfitness<br>Cluster Summary: Safe: Seeking genuine advice on workout routines and fitness progress. Manipulative: Misleading workout advice and potentially influencing unrealistic expectations.",
          "Subreddit: bodyweightfitness<br>Cluster Summary: Safe: Seeking genuine advice on workout routines and fitness progress. Manipulative: Misleading workout advice and potentially influencing unrealistic expectations.",
          "Subreddit: bodyweightfitness<br>Cluster Summary: Safe: Seeking genuine advice on workout routines and fitness progress. Manipulative: Misleading workout advice and potentially influencing unrealistic expectations.",
          "Subreddit: bodyweightfitness<br>Cluster Summary: Safe: Seeking genuine advice on workout routines and fitness progress. Manipulative: Misleading workout advice and potentially influencing unrealistic expectations.",
          "Subreddit: bodyweightfitness<br>Cluster Summary: _SAFE_: Thought-provoking discussion on evaluating presidencies based on international affairs. _MANIPULATIVE_: Misleading framing of information from anonymous sources as factual statements.",
          "Subreddit: bodyweightfitness<br>Cluster Summary: Safe: Seeking genuine advice on workout routines and fitness progress. Manipulative: Misleading workout advice and potentially influencing unrealistic expectations.",
          "Subreddit: bodyweightfitness<br>Cluster Summary: Safe: Seeking genuine advice on workout routines and fitness progress. Manipulative: Misleading workout advice and potentially influencing unrealistic expectations.",
          "Subreddit: bodyweightfitness<br>Cluster Summary: Safe: Seeking genuine advice on workout routines and fitness progress. Manipulative: Misleading workout advice and potentially influencing unrealistic expectations.",
          "Subreddit: bodyweightfitness<br>Cluster Summary: Safe: Seeking genuine advice on workout routines and fitness progress. Manipulative: Misleading workout advice and potentially influencing unrealistic expectations.",
          "Subreddit: bodyweightfitness<br>Cluster Summary: Safe: Seeking genuine advice on workout routines and fitness progress. Manipulative: Misleading workout advice and potentially influencing unrealistic expectations.",
          "Subreddit: bodyweightfitness<br>Cluster Summary: Safe: Seeking genuine advice on workout routines and fitness progress. Manipulative: Misleading workout advice and potentially influencing unrealistic expectations.",
          "Subreddit: bodyweightfitness<br>Cluster Summary: Safe: Seeking genuine advice on workout routines and fitness progress. Manipulative: Misleading workout advice and potentially influencing unrealistic expectations.",
          "Subreddit: bodyweightfitness<br>Cluster Summary: Safe: Seeking genuine advice on workout routines and fitness progress. Manipulative: Misleading workout advice and potentially influencing unrealistic expectations.",
          "Subreddit: bodyweightfitness<br>Cluster Summary: _SAFE_: Thought-provoking discussion on evaluating presidencies based on international affairs. _MANIPULATIVE_: Misleading framing of information from anonymous sources as factual statements.",
          "Subreddit: bodyweightfitness<br>Cluster Summary: Safe: Seeking genuine advice on workout routines and fitness progress. Manipulative: Misleading workout advice and potentially influencing unrealistic expectations.",
          "Subreddit: bodyweightfitness<br>Cluster Summary: Safe: Seeking genuine advice on workout routines and fitness progress. Manipulative: Misleading workout advice and potentially influencing unrealistic expectations.",
          "Subreddit: bodyweightfitness<br>Cluster Summary: Safe: Seeking genuine advice on workout routines and fitness progress. Manipulative: Misleading workout advice and potentially influencing unrealistic expectations.",
          "Subreddit: bodyweightfitness<br>Cluster Summary: _SAFE_: Thought-provoking discussion on evaluating presidencies based on international affairs. _MANIPULATIVE_: Misleading framing of information from anonymous sources as factual statements.",
          "Subreddit: bodyweightfitness<br>Cluster Summary: Safe: Seeking genuine advice on workout routines and fitness progress. Manipulative: Misleading workout advice and potentially influencing unrealistic expectations.",
          "Subreddit: bodyweightfitness<br>Cluster Summary: Safe: Seeking genuine advice on workout routines and fitness progress. Manipulative: Misleading workout advice and potentially influencing unrealistic expectations.",
          "Subreddit: bodyweightfitness<br>Cluster Summary: Safe: Seeking genuine advice on workout routines and fitness progress. Manipulative: Misleading workout advice and potentially influencing unrealistic expectations.",
          "Subreddit: bodyweightfitness<br>Cluster Summary: Safe: Seeking genuine advice on workout routines and fitness progress. Manipulative: Misleading workout advice and potentially influencing unrealistic expectations.",
          "Subreddit: bodyweightfitness<br>Cluster Summary: Safe: Seeking genuine advice on workout routines and fitness progress. Manipulative: Misleading workout advice and potentially influencing unrealistic expectations.",
          "Subreddit: bodyweightfitness<br>Cluster Summary: Safe: Seeking genuine advice on workout routines and fitness progress. Manipulative: Misleading workout advice and potentially influencing unrealistic expectations.",
          "Subreddit: bodyweightfitness<br>Cluster Summary: Safe: Seeking genuine advice on workout routines and fitness progress. Manipulative: Misleading workout advice and potentially influencing unrealistic expectations.",
          "Subreddit: bodyweightfitness<br>Cluster Summary: Safe: Seeking genuine advice on workout routines and fitness progress. Manipulative: Misleading workout advice and potentially influencing unrealistic expectations.",
          "Subreddit: bodyweightfitness<br>Cluster Summary: _SAFE_: Thought-provoking discussion on evaluating presidencies based on international affairs. _MANIPULATIVE_: Misleading framing of information from anonymous sources as factual statements.",
          "Subreddit: bodyweightfitness<br>Cluster Summary: Safe: Seeking genuine advice on workout routines and fitness progress. Manipulative: Misleading workout advice and potentially influencing unrealistic expectations.",
          "Subreddit: bodyweightfitness<br>Cluster Summary: Safe: Seeking genuine advice on workout routines and fitness progress. Manipulative: Misleading workout advice and potentially influencing unrealistic expectations.",
          "Subreddit: bodyweightfitness<br>Cluster Summary: Safe: Seeking genuine advice on workout routines and fitness progress. Manipulative: Misleading workout advice and potentially influencing unrealistic expectations.",
          "Subreddit: bodyweightfitness<br>Cluster Summary: Safe: Seeking genuine advice on workout routines and fitness progress. Manipulative: Misleading workout advice and potentially influencing unrealistic expectations.",
          "Subreddit: bodyweightfitness<br>Cluster Summary: Safe: Seeking genuine advice on workout routines and fitness progress. Manipulative: Misleading workout advice and potentially influencing unrealistic expectations.",
          "Subreddit: bodyweightfitness<br>Cluster Summary: Safe: Seeking genuine advice on workout routines and fitness progress. Manipulative: Misleading workout advice and potentially influencing unrealistic expectations.",
          "Subreddit: bodyweightfitness<br>Cluster Summary: Safe: Seeking genuine advice on workout routines and fitness progress. Manipulative: Misleading workout advice and potentially influencing unrealistic expectations.",
          "Subreddit: bodyweightfitness<br>Cluster Summary: Safe: Seeking genuine advice on workout routines and fitness progress. Manipulative: Misleading workout advice and potentially influencing unrealistic expectations.",
          "Subreddit: bodyweightfitness<br>Cluster Summary: Safe: Seeking genuine advice on workout routines and fitness progress. Manipulative: Misleading workout advice and potentially influencing unrealistic expectations.",
          "Subreddit: bodyweightfitness<br>Cluster Summary: Safe: Seeking genuine advice on workout routines and fitness progress. Manipulative: Misleading workout advice and potentially influencing unrealistic expectations.",
          "Subreddit: bodyweightfitness<br>Cluster Summary: Safe: Seeking genuine advice on workout routines and fitness progress. Manipulative: Misleading workout advice and potentially influencing unrealistic expectations.",
          "Subreddit: bodyweightfitness<br>Cluster Summary: Safe: Seeking genuine advice on workout routines and fitness progress. Manipulative: Misleading workout advice and potentially influencing unrealistic expectations.",
          "Subreddit: bodyweightfitness<br>Cluster Summary: Safe: Seeking genuine advice on workout routines and fitness progress. Manipulative: Misleading workout advice and potentially influencing unrealistic expectations.",
          "Subreddit: bodyweightfitness<br>Cluster Summary: _SAFE_: Thought-provoking discussion on evaluating presidencies based on international affairs. _MANIPULATIVE_: Misleading framing of information from anonymous sources as factual statements.",
          "Subreddit: bodyweightfitness<br>Cluster Summary: Safe: Seeking genuine advice on workout routines and fitness progress. Manipulative: Misleading workout advice and potentially influencing unrealistic expectations.",
          "Subreddit: bodyweightfitness<br>Cluster Summary: Safe: Seeking genuine advice on workout routines and fitness progress. Manipulative: Misleading workout advice and potentially influencing unrealistic expectations.",
          "Subreddit: bodyweightfitness<br>Cluster Summary: Safe: Seeking genuine advice on workout routines and fitness progress. Manipulative: Misleading workout advice and potentially influencing unrealistic expectations.",
          "Subreddit: bodyweightfitness<br>Cluster Summary: Safe: Seeking genuine advice on workout routines and fitness progress. Manipulative: Misleading workout advice and potentially influencing unrealistic expectations.",
          "Subreddit: bodyweightfitness<br>Cluster Summary: Safe: Seeking genuine advice on workout routines and fitness progress. Manipulative: Misleading workout advice and potentially influencing unrealistic expectations.",
          "Subreddit: bodyweightfitness<br>Cluster Summary: Safe: Seeking genuine advice on workout routines and fitness progress. Manipulative: Misleading workout advice and potentially influencing unrealistic expectations.",
          "Subreddit: bodyweightfitness<br>Cluster Summary: Safe: Seeking genuine advice on workout routines and fitness progress. Manipulative: Misleading workout advice and potentially influencing unrealistic expectations.",
          "Subreddit: bodyweightfitness<br>Cluster Summary: Safe: Seeking genuine advice on workout routines and fitness progress. Manipulative: Misleading workout advice and potentially influencing unrealistic expectations.",
          "Subreddit: bodyweightfitness<br>Cluster Summary: Safe: Seeking genuine advice on workout routines and fitness progress. Manipulative: Misleading workout advice and potentially influencing unrealistic expectations.",
          "Subreddit: bodyweightfitness<br>Cluster Summary: Safe: Seeking genuine advice on workout routines and fitness progress. Manipulative: Misleading workout advice and potentially influencing unrealistic expectations.",
          "Subreddit: bodyweightfitness<br>Cluster Summary: Safe: Seeking genuine advice on workout routines and fitness progress. Manipulative: Misleading workout advice and potentially influencing unrealistic expectations.",
          "Subreddit: bodyweightfitness<br>Cluster Summary: Safe: Seeking genuine advice on workout routines and fitness progress. Manipulative: Misleading workout advice and potentially influencing unrealistic expectations.",
          "Subreddit: bodyweightfitness<br>Cluster Summary: Safe: Seeking genuine advice on workout routines and fitness progress. Manipulative: Misleading workout advice and potentially influencing unrealistic expectations.",
          "Subreddit: bodyweightfitness<br>Cluster Summary: Safe: Seeking genuine advice on workout routines and fitness progress. Manipulative: Misleading workout advice and potentially influencing unrealistic expectations.",
          "Subreddit: bodyweightfitness<br>Cluster Summary: Safe: Seeking genuine advice on workout routines and fitness progress. Manipulative: Misleading workout advice and potentially influencing unrealistic expectations.",
          "Subreddit: bodyweightfitness<br>Cluster Summary: Safe: Seeking genuine advice on workout routines and fitness progress. Manipulative: Misleading workout advice and potentially influencing unrealistic expectations.",
          "Subreddit: bodyweightfitness<br>Cluster Summary: Safe: Seeking genuine advice on workout routines and fitness progress. Manipulative: Misleading workout advice and potentially influencing unrealistic expectations.",
          "Subreddit: bodyweightfitness<br>Cluster Summary: Safe: Seeking genuine advice on workout routines and fitness progress. Manipulative: Misleading workout advice and potentially influencing unrealistic expectations.",
          "Subreddit: bodyweightfitness<br>Cluster Summary: _SAFE_: Thought-provoking discussion on evaluating presidencies based on international affairs. _MANIPULATIVE_: Misleading framing of information from anonymous sources as factual statements.",
          "Subreddit: bodyweightfitness<br>Cluster Summary: Safe: Repeated emphasis on safety for reassurance and trust-building.",
          "Subreddit: bodyweightfitness<br>Cluster Summary: Safe: Seeking genuine advice on workout routines and fitness progress. Manipulative: Misleading workout advice and potentially influencing unrealistic expectations.",
          "Subreddit: bodyweightfitness<br>Cluster Summary: Safe: Seeking genuine advice on workout routines and fitness progress. Manipulative: Misleading workout advice and potentially influencing unrealistic expectations.",
          "Subreddit: bodyweightfitness<br>Cluster Summary: Safe: Seeking genuine advice on workout routines and fitness progress. Manipulative: Misleading workout advice and potentially influencing unrealistic expectations.",
          "Subreddit: bodyweightfitness<br>Cluster Summary: Safe: Seeking genuine advice on workout routines and fitness progress. Manipulative: Misleading workout advice and potentially influencing unrealistic expectations.",
          "Subreddit: bodyweightfitness<br>Cluster Summary: Safe: Seeking genuine advice on workout routines and fitness progress. Manipulative: Misleading workout advice and potentially influencing unrealistic expectations.",
          "Subreddit: bodyweightfitness<br>Cluster Summary: Safe: Seeking genuine advice on workout routines and fitness progress. Manipulative: Misleading workout advice and potentially influencing unrealistic expectations.",
          "Subreddit: bodyweightfitness<br>Cluster Summary: Safe: Seeking genuine advice on workout routines and fitness progress. Manipulative: Misleading workout advice and potentially influencing unrealistic expectations.",
          "Subreddit: bodyweightfitness<br>Cluster Summary: Safe: Seeking genuine advice on workout routines and fitness progress. Manipulative: Misleading workout advice and potentially influencing unrealistic expectations.",
          "Subreddit: bodyweightfitness<br>Cluster Summary: Safe: Seeking genuine advice on workout routines and fitness progress. Manipulative: Misleading workout advice and potentially influencing unrealistic expectations.",
          "Subreddit: bodyweightfitness<br>Cluster Summary: Safe: Seeking genuine advice on workout routines and fitness progress. Manipulative: Misleading workout advice and potentially influencing unrealistic expectations.",
          "Subreddit: bodyweightfitness<br>Cluster Summary: Safe: Seeking genuine advice on workout routines and fitness progress. Manipulative: Misleading workout advice and potentially influencing unrealistic expectations.",
          "Subreddit: bodyweightfitness<br>Cluster Summary: Safe: Seeking genuine advice on workout routines and fitness progress. Manipulative: Misleading workout advice and potentially influencing unrealistic expectations.",
          "Subreddit: bodyweightfitness<br>Cluster Summary: Safe: Seeking genuine advice on workout routines and fitness progress. Manipulative: Misleading workout advice and potentially influencing unrealistic expectations.",
          "Subreddit: bodyweightfitness<br>Cluster Summary: Safe: Seeking genuine advice on workout routines and fitness progress. Manipulative: Misleading workout advice and potentially influencing unrealistic expectations.",
          "Subreddit: bodyweightfitness<br>Cluster Summary: Safe: Seeking genuine advice on workout routines and fitness progress. Manipulative: Misleading workout advice and potentially influencing unrealistic expectations.",
          "Subreddit: bodyweightfitness<br>Cluster Summary: Safe: Seeking genuine advice on workout routines and fitness progress. Manipulative: Misleading workout advice and potentially influencing unrealistic expectations."
         ],
         "legendgroup": "bodyweightfitness",
         "marker": {
          "color": "#FFA15A",
          "symbol": "circle"
         },
         "mode": "markers",
         "name": "bodyweightfitness",
         "orientation": "v",
         "showlegend": true,
         "type": "scatter",
         "x": [
          9.302999496459961,
          14.43040943145752,
          14.415253639221191,
          13.578490257263184,
          15.000008583068848,
          13.184877395629883,
          13.430283546447754,
          13.688440322875977,
          17.559795379638672,
          13.503304481506348,
          15.067726135253906,
          13.535107612609863,
          13.393696784973145,
          17.55331039428711,
          12.632587432861328,
          12.734871864318848,
          12.949226379394531,
          14.702028274536133,
          9.154788970947266,
          14.397252082824707,
          14.99795913696289,
          12.759729385375977,
          17.478595733642578,
          13.428621292114258,
          15.837898254394531,
          12.587386131286621,
          15.425600051879883,
          5.795687198638916,
          16.812044143676758,
          15.188233375549316,
          15.237643241882324,
          7.97683048248291,
          14.858745574951172,
          15.415669441223145,
          12.899219512939453,
          13.160635948181152,
          13.20211124420166,
          17.36249542236328,
          13.573553085327148,
          15.151410102844238,
          9.273807525634766,
          13.5875883102417,
          15.391382217407227,
          14.96121597290039,
          15.674256324768066,
          12.595669746398926,
          12.602811813354492,
          13.718999862670898,
          15.346673011779785,
          13.135978698730469,
          17.593116760253906,
          15.480335235595703,
          14.265984535217285,
          14.69467544555664,
          9.075053215026855,
          13.343674659729004,
          13.210771560668945,
          13.296191215515137,
          15.608233451843262,
          14.339856147766113,
          16.81813621520996,
          15.372716903686523,
          15.602691650390625,
          12.760972023010254,
          14.081452369689941,
          14.367412567138672,
          13.850430488586426,
          14.414840698242188,
          15.25644302368164,
          13.71957015991211,
          15.528090476989746,
          13.661041259765625,
          14.438339233398438,
          9.258939743041992,
          -11.43148422241211,
          12.945962905883789,
          13.907965660095215,
          14.642257690429688,
          17.603633880615234,
          14.143378257751465,
          13.159744262695312,
          16.82766342163086,
          15.580288887023926,
          14.026918411254883,
          15.588682174682617,
          13.307600021362305,
          14.269532203674316,
          14.873042106628418,
          13.333296775817871,
          15.665740013122559,
          12.974662780761719
         ],
         "xaxis": "x",
         "y": [
          4.416786193847656,
          6.264822959899902,
          6.71573543548584,
          7.672252655029297,
          6.53994607925415,
          6.4784650802612305,
          7.196473598480225,
          6.721078872680664,
          5.541492462158203,
          7.6595540046691895,
          6.648592948913574,
          7.165205478668213,
          6.258376598358154,
          5.543628215789795,
          8.126259803771973,
          5.947337627410889,
          6.484248638153076,
          5.98715877532959,
          4.57374382019043,
          6.815613746643066,
          6.951950550079346,
          5.976315498352051,
          5.577280521392822,
          7.480738639831543,
          5.507933139801025,
          8.178913116455078,
          6.322018623352051,
          4.783451080322266,
          5.656231880187988,
          6.50444221496582,
          6.5573625564575195,
          5.730701923370361,
          6.903721332550049,
          5.805110454559326,
          6.577075481414795,
          5.96611213684082,
          6.092709541320801,
          5.649628639221191,
          6.734872817993164,
          6.534473896026611,
          4.445890426635742,
          6.683517932891846,
          6.838500022888184,
          5.865865230560303,
          5.544429779052734,
          8.168335914611816,
          8.162993431091309,
          7.3046135902404785,
          6.911899089813232,
          7.042726516723633,
          5.5184431076049805,
          6.338335990905762,
          6.925671100616455,
          5.963053226470947,
          4.663977146148682,
          6.701474666595459,
          7.166818141937256,
          6.311441898345947,
          5.6351318359375,
          6.7906670570373535,
          5.6417036056518555,
          6.93839693069458,
          5.638105869293213,
          5.973690986633301,
          7.7432780265808105,
          6.762979507446289,
          6.848566055297852,
          6.798386096954346,
          6.206650257110596,
          7.347380638122559,
          5.770142078399658,
          7.3072028160095215,
          6.2721052169799805,
          4.4626784324646,
          -2.2061188220977783,
          6.244478225708008,
          6.148375988006592,
          6.07749080657959,
          5.509365558624268,
          7.055520057678223,
          7.07854700088501,
          5.639104843139648,
          5.70873498916626,
          6.167262077331543,
          5.518413066864014,
          6.811326503753662,
          6.294168949127197,
          6.834834098815918,
          6.69638729095459,
          5.551173686981201,
          6.284209251403809
         ],
         "yaxis": "y"
        },
        {
         "hovertemplate": "<b>%{hovertext}</b><br><br>Topic=PoliticalDiscussion<br>UMAP1=%{x}<br>UMAP2=%{y}<extra></extra>",
         "hovertext": [
          "Subreddit: PoliticalDiscussion<br>Cluster Summary: _SAFE_: Thought-provoking discussion on evaluating presidencies based on international affairs. _MANIPULATIVE_: Misleading framing of information from anonymous sources as factual statements.",
          "Subreddit: PoliticalDiscussion<br>Cluster Summary: _SAFE_: Thought-provoking discussion on evaluating presidencies based on international affairs. _MANIPULATIVE_: Misleading framing of information from anonymous sources as factual statements.",
          "Subreddit: PoliticalDiscussion<br>Cluster Summary: _SAFE_: Thought-provoking discussion on evaluating presidencies based on international affairs. _MANIPULATIVE_: Misleading framing of information from anonymous sources as factual statements.",
          "Subreddit: PoliticalDiscussion<br>Cluster Summary: _SAFE_: Thought-provoking discussion on evaluating presidencies based on international affairs. _MANIPULATIVE_: Misleading framing of information from anonymous sources as factual statements.",
          "Subreddit: PoliticalDiscussion<br>Cluster Summary: _SAFE_: Thought-provoking discussion on evaluating presidencies based on international affairs. _MANIPULATIVE_: Misleading framing of information from anonymous sources as factual statements.",
          "Subreddit: PoliticalDiscussion<br>Cluster Summary: _SAFE_: Thought-provoking discussion on evaluating presidencies based on international affairs. _MANIPULATIVE_: Misleading framing of information from anonymous sources as factual statements.",
          null,
          "Subreddit: PoliticalDiscussion<br>Cluster Summary: _SAFE_: Thought-provoking discussion on evaluating presidencies based on international affairs. _MANIPULATIVE_: Misleading framing of information from anonymous sources as factual statements.",
          "Subreddit: PoliticalDiscussion<br>Cluster Summary: _SAFE_: Thought-provoking discussion on evaluating presidencies based on international affairs. _MANIPULATIVE_: Misleading framing of information from anonymous sources as factual statements."
         ],
         "legendgroup": "PoliticalDiscussion",
         "marker": {
          "color": "#19d3f3",
          "symbol": "circle"
         },
         "mode": "markers",
         "name": "PoliticalDiscussion",
         "orientation": "v",
         "showlegend": true,
         "type": "scatter",
         "x": [
          7.280582904815674,
          8.372269630432129,
          6.990258693695068,
          8.343730926513672,
          8.337823867797852,
          8.295080184936523,
          8.288649559020996,
          8.332018852233887,
          7.266824245452881
         ],
         "xaxis": "x",
         "y": [
          5.340719223022461,
          -2.5315358638763428,
          5.917288780212402,
          0.0427243709564209,
          -0.14709430932998657,
          0.09797178953886032,
          -3.1490819454193115,
          0.021476756781339645,
          5.239957332611084
         ],
         "yaxis": "y"
        }
       ],
       "layout": {
        "height": 450,
        "legend": {
         "title": {
          "text": "Topic"
         },
         "tracegroupgap": 0
        },
        "template": {
         "data": {
          "bar": [
           {
            "error_x": {
             "color": "#2a3f5f"
            },
            "error_y": {
             "color": "#2a3f5f"
            },
            "marker": {
             "line": {
              "color": "#E5ECF6",
              "width": 0.5
             },
             "pattern": {
              "fillmode": "overlay",
              "size": 10,
              "solidity": 0.2
             }
            },
            "type": "bar"
           }
          ],
          "barpolar": [
           {
            "marker": {
             "line": {
              "color": "#E5ECF6",
              "width": 0.5
             },
             "pattern": {
              "fillmode": "overlay",
              "size": 10,
              "solidity": 0.2
             }
            },
            "type": "barpolar"
           }
          ],
          "carpet": [
           {
            "aaxis": {
             "endlinecolor": "#2a3f5f",
             "gridcolor": "white",
             "linecolor": "white",
             "minorgridcolor": "white",
             "startlinecolor": "#2a3f5f"
            },
            "baxis": {
             "endlinecolor": "#2a3f5f",
             "gridcolor": "white",
             "linecolor": "white",
             "minorgridcolor": "white",
             "startlinecolor": "#2a3f5f"
            },
            "type": "carpet"
           }
          ],
          "choropleth": [
           {
            "colorbar": {
             "outlinewidth": 0,
             "ticks": ""
            },
            "type": "choropleth"
           }
          ],
          "contour": [
           {
            "colorbar": {
             "outlinewidth": 0,
             "ticks": ""
            },
            "colorscale": [
             [
              0,
              "#0d0887"
             ],
             [
              0.1111111111111111,
              "#46039f"
             ],
             [
              0.2222222222222222,
              "#7201a8"
             ],
             [
              0.3333333333333333,
              "#9c179e"
             ],
             [
              0.4444444444444444,
              "#bd3786"
             ],
             [
              0.5555555555555556,
              "#d8576b"
             ],
             [
              0.6666666666666666,
              "#ed7953"
             ],
             [
              0.7777777777777778,
              "#fb9f3a"
             ],
             [
              0.8888888888888888,
              "#fdca26"
             ],
             [
              1,
              "#f0f921"
             ]
            ],
            "type": "contour"
           }
          ],
          "contourcarpet": [
           {
            "colorbar": {
             "outlinewidth": 0,
             "ticks": ""
            },
            "type": "contourcarpet"
           }
          ],
          "heatmap": [
           {
            "colorbar": {
             "outlinewidth": 0,
             "ticks": ""
            },
            "colorscale": [
             [
              0,
              "#0d0887"
             ],
             [
              0.1111111111111111,
              "#46039f"
             ],
             [
              0.2222222222222222,
              "#7201a8"
             ],
             [
              0.3333333333333333,
              "#9c179e"
             ],
             [
              0.4444444444444444,
              "#bd3786"
             ],
             [
              0.5555555555555556,
              "#d8576b"
             ],
             [
              0.6666666666666666,
              "#ed7953"
             ],
             [
              0.7777777777777778,
              "#fb9f3a"
             ],
             [
              0.8888888888888888,
              "#fdca26"
             ],
             [
              1,
              "#f0f921"
             ]
            ],
            "type": "heatmap"
           }
          ],
          "heatmapgl": [
           {
            "colorbar": {
             "outlinewidth": 0,
             "ticks": ""
            },
            "colorscale": [
             [
              0,
              "#0d0887"
             ],
             [
              0.1111111111111111,
              "#46039f"
             ],
             [
              0.2222222222222222,
              "#7201a8"
             ],
             [
              0.3333333333333333,
              "#9c179e"
             ],
             [
              0.4444444444444444,
              "#bd3786"
             ],
             [
              0.5555555555555556,
              "#d8576b"
             ],
             [
              0.6666666666666666,
              "#ed7953"
             ],
             [
              0.7777777777777778,
              "#fb9f3a"
             ],
             [
              0.8888888888888888,
              "#fdca26"
             ],
             [
              1,
              "#f0f921"
             ]
            ],
            "type": "heatmapgl"
           }
          ],
          "histogram": [
           {
            "marker": {
             "pattern": {
              "fillmode": "overlay",
              "size": 10,
              "solidity": 0.2
             }
            },
            "type": "histogram"
           }
          ],
          "histogram2d": [
           {
            "colorbar": {
             "outlinewidth": 0,
             "ticks": ""
            },
            "colorscale": [
             [
              0,
              "#0d0887"
             ],
             [
              0.1111111111111111,
              "#46039f"
             ],
             [
              0.2222222222222222,
              "#7201a8"
             ],
             [
              0.3333333333333333,
              "#9c179e"
             ],
             [
              0.4444444444444444,
              "#bd3786"
             ],
             [
              0.5555555555555556,
              "#d8576b"
             ],
             [
              0.6666666666666666,
              "#ed7953"
             ],
             [
              0.7777777777777778,
              "#fb9f3a"
             ],
             [
              0.8888888888888888,
              "#fdca26"
             ],
             [
              1,
              "#f0f921"
             ]
            ],
            "type": "histogram2d"
           }
          ],
          "histogram2dcontour": [
           {
            "colorbar": {
             "outlinewidth": 0,
             "ticks": ""
            },
            "colorscale": [
             [
              0,
              "#0d0887"
             ],
             [
              0.1111111111111111,
              "#46039f"
             ],
             [
              0.2222222222222222,
              "#7201a8"
             ],
             [
              0.3333333333333333,
              "#9c179e"
             ],
             [
              0.4444444444444444,
              "#bd3786"
             ],
             [
              0.5555555555555556,
              "#d8576b"
             ],
             [
              0.6666666666666666,
              "#ed7953"
             ],
             [
              0.7777777777777778,
              "#fb9f3a"
             ],
             [
              0.8888888888888888,
              "#fdca26"
             ],
             [
              1,
              "#f0f921"
             ]
            ],
            "type": "histogram2dcontour"
           }
          ],
          "mesh3d": [
           {
            "colorbar": {
             "outlinewidth": 0,
             "ticks": ""
            },
            "type": "mesh3d"
           }
          ],
          "parcoords": [
           {
            "line": {
             "colorbar": {
              "outlinewidth": 0,
              "ticks": ""
             }
            },
            "type": "parcoords"
           }
          ],
          "pie": [
           {
            "automargin": true,
            "type": "pie"
           }
          ],
          "scatter": [
           {
            "fillpattern": {
             "fillmode": "overlay",
             "size": 10,
             "solidity": 0.2
            },
            "type": "scatter"
           }
          ],
          "scatter3d": [
           {
            "line": {
             "colorbar": {
              "outlinewidth": 0,
              "ticks": ""
             }
            },
            "marker": {
             "colorbar": {
              "outlinewidth": 0,
              "ticks": ""
             }
            },
            "type": "scatter3d"
           }
          ],
          "scattercarpet": [
           {
            "marker": {
             "colorbar": {
              "outlinewidth": 0,
              "ticks": ""
             }
            },
            "type": "scattercarpet"
           }
          ],
          "scattergeo": [
           {
            "marker": {
             "colorbar": {
              "outlinewidth": 0,
              "ticks": ""
             }
            },
            "type": "scattergeo"
           }
          ],
          "scattergl": [
           {
            "marker": {
             "colorbar": {
              "outlinewidth": 0,
              "ticks": ""
             }
            },
            "type": "scattergl"
           }
          ],
          "scattermapbox": [
           {
            "marker": {
             "colorbar": {
              "outlinewidth": 0,
              "ticks": ""
             }
            },
            "type": "scattermapbox"
           }
          ],
          "scatterpolar": [
           {
            "marker": {
             "colorbar": {
              "outlinewidth": 0,
              "ticks": ""
             }
            },
            "type": "scatterpolar"
           }
          ],
          "scatterpolargl": [
           {
            "marker": {
             "colorbar": {
              "outlinewidth": 0,
              "ticks": ""
             }
            },
            "type": "scatterpolargl"
           }
          ],
          "scatterternary": [
           {
            "marker": {
             "colorbar": {
              "outlinewidth": 0,
              "ticks": ""
             }
            },
            "type": "scatterternary"
           }
          ],
          "surface": [
           {
            "colorbar": {
             "outlinewidth": 0,
             "ticks": ""
            },
            "colorscale": [
             [
              0,
              "#0d0887"
             ],
             [
              0.1111111111111111,
              "#46039f"
             ],
             [
              0.2222222222222222,
              "#7201a8"
             ],
             [
              0.3333333333333333,
              "#9c179e"
             ],
             [
              0.4444444444444444,
              "#bd3786"
             ],
             [
              0.5555555555555556,
              "#d8576b"
             ],
             [
              0.6666666666666666,
              "#ed7953"
             ],
             [
              0.7777777777777778,
              "#fb9f3a"
             ],
             [
              0.8888888888888888,
              "#fdca26"
             ],
             [
              1,
              "#f0f921"
             ]
            ],
            "type": "surface"
           }
          ],
          "table": [
           {
            "cells": {
             "fill": {
              "color": "#EBF0F8"
             },
             "line": {
              "color": "white"
             }
            },
            "header": {
             "fill": {
              "color": "#C8D4E3"
             },
             "line": {
              "color": "white"
             }
            },
            "type": "table"
           }
          ]
         },
         "layout": {
          "annotationdefaults": {
           "arrowcolor": "#2a3f5f",
           "arrowhead": 0,
           "arrowwidth": 1
          },
          "autotypenumbers": "strict",
          "coloraxis": {
           "colorbar": {
            "outlinewidth": 0,
            "ticks": ""
           }
          },
          "colorscale": {
           "diverging": [
            [
             0,
             "#8e0152"
            ],
            [
             0.1,
             "#c51b7d"
            ],
            [
             0.2,
             "#de77ae"
            ],
            [
             0.3,
             "#f1b6da"
            ],
            [
             0.4,
             "#fde0ef"
            ],
            [
             0.5,
             "#f7f7f7"
            ],
            [
             0.6,
             "#e6f5d0"
            ],
            [
             0.7,
             "#b8e186"
            ],
            [
             0.8,
             "#7fbc41"
            ],
            [
             0.9,
             "#4d9221"
            ],
            [
             1,
             "#276419"
            ]
           ],
           "sequential": [
            [
             0,
             "#0d0887"
            ],
            [
             0.1111111111111111,
             "#46039f"
            ],
            [
             0.2222222222222222,
             "#7201a8"
            ],
            [
             0.3333333333333333,
             "#9c179e"
            ],
            [
             0.4444444444444444,
             "#bd3786"
            ],
            [
             0.5555555555555556,
             "#d8576b"
            ],
            [
             0.6666666666666666,
             "#ed7953"
            ],
            [
             0.7777777777777778,
             "#fb9f3a"
            ],
            [
             0.8888888888888888,
             "#fdca26"
            ],
            [
             1,
             "#f0f921"
            ]
           ],
           "sequentialminus": [
            [
             0,
             "#0d0887"
            ],
            [
             0.1111111111111111,
             "#46039f"
            ],
            [
             0.2222222222222222,
             "#7201a8"
            ],
            [
             0.3333333333333333,
             "#9c179e"
            ],
            [
             0.4444444444444444,
             "#bd3786"
            ],
            [
             0.5555555555555556,
             "#d8576b"
            ],
            [
             0.6666666666666666,
             "#ed7953"
            ],
            [
             0.7777777777777778,
             "#fb9f3a"
            ],
            [
             0.8888888888888888,
             "#fdca26"
            ],
            [
             1,
             "#f0f921"
            ]
           ]
          },
          "colorway": [
           "#636efa",
           "#EF553B",
           "#00cc96",
           "#ab63fa",
           "#FFA15A",
           "#19d3f3",
           "#FF6692",
           "#B6E880",
           "#FF97FF",
           "#FECB52"
          ],
          "font": {
           "color": "#2a3f5f"
          },
          "geo": {
           "bgcolor": "white",
           "lakecolor": "white",
           "landcolor": "#E5ECF6",
           "showlakes": true,
           "showland": true,
           "subunitcolor": "white"
          },
          "hoverlabel": {
           "align": "left"
          },
          "hovermode": "closest",
          "mapbox": {
           "style": "light"
          },
          "paper_bgcolor": "white",
          "plot_bgcolor": "#E5ECF6",
          "polar": {
           "angularaxis": {
            "gridcolor": "white",
            "linecolor": "white",
            "ticks": ""
           },
           "bgcolor": "#E5ECF6",
           "radialaxis": {
            "gridcolor": "white",
            "linecolor": "white",
            "ticks": ""
           }
          },
          "scene": {
           "xaxis": {
            "backgroundcolor": "#E5ECF6",
            "gridcolor": "white",
            "gridwidth": 2,
            "linecolor": "white",
            "showbackground": true,
            "ticks": "",
            "zerolinecolor": "white"
           },
           "yaxis": {
            "backgroundcolor": "#E5ECF6",
            "gridcolor": "white",
            "gridwidth": 2,
            "linecolor": "white",
            "showbackground": true,
            "ticks": "",
            "zerolinecolor": "white"
           },
           "zaxis": {
            "backgroundcolor": "#E5ECF6",
            "gridcolor": "white",
            "gridwidth": 2,
            "linecolor": "white",
            "showbackground": true,
            "ticks": "",
            "zerolinecolor": "white"
           }
          },
          "shapedefaults": {
           "line": {
            "color": "#2a3f5f"
           }
          },
          "ternary": {
           "aaxis": {
            "gridcolor": "white",
            "linecolor": "white",
            "ticks": ""
           },
           "baxis": {
            "gridcolor": "white",
            "linecolor": "white",
            "ticks": ""
           },
           "bgcolor": "#E5ECF6",
           "caxis": {
            "gridcolor": "white",
            "linecolor": "white",
            "ticks": ""
           }
          },
          "title": {
           "x": 0.05
          },
          "xaxis": {
           "automargin": true,
           "gridcolor": "white",
           "linecolor": "white",
           "ticks": "",
           "title": {
            "standoff": 15
           },
           "zerolinecolor": "white",
           "zerolinewidth": 2
          },
          "yaxis": {
           "automargin": true,
           "gridcolor": "white",
           "linecolor": "white",
           "ticks": "",
           "title": {
            "standoff": 15
           },
           "zerolinecolor": "white",
           "zerolinewidth": 2
          }
         }
        },
        "title": {
         "text": "UMAP Visualization of ChatGPT Responses"
        },
        "width": 800,
        "xaxis": {
         "anchor": "y",
         "domain": [
          0,
          1
         ],
         "title": {
          "text": "UMAP1"
         }
        },
        "yaxis": {
         "anchor": "x",
         "domain": [
          0,
          1
         ],
         "title": {
          "text": "UMAP2"
         }
        }
       }
      },
      "text/html": [
       "<div>                            <div id=\"64d99eda-9fcf-49a3-a192-7539e1c43553\" class=\"plotly-graph-div\" style=\"height:450px; width:800px;\"></div>            <script type=\"text/javascript\">                require([\"plotly\"], function(Plotly) {                    window.PLOTLYENV=window.PLOTLYENV || {};                                    if (document.getElementById(\"64d99eda-9fcf-49a3-a192-7539e1c43553\")) {                    Plotly.newPlot(                        \"64d99eda-9fcf-49a3-a192-7539e1c43553\",                        [{\"hovertemplate\":\"\\u003cb\\u003e%{hovertext}\\u003c\\u002fb\\u003e\\u003cbr\\u003e\\u003cbr\\u003eTopic=history\\u003cbr\\u003eUMAP1=%{x}\\u003cbr\\u003eUMAP2=%{y}\\u003cextra\\u003e\\u003c\\u002fextra\\u003e\",\"hovertext\":[\"Subreddit: history\\u003cbr\\u003eCluster Summary: _SAFE_: Thought-provoking discussion on evaluating presidencies based on international affairs. _MANIPULATIVE_: Misleading framing of information from anonymous sources as factual statements.\",\"Subreddit: history\\u003cbr\\u003eCluster Summary: _SAFE_: Thought-provoking discussion on evaluating presidencies based on international affairs. _MANIPULATIVE_: Misleading framing of information from anonymous sources as factual statements.\",\"Subreddit: history\\u003cbr\\u003eCluster Summary: Safe: Repeated emphasis on safety for reassurance and trust-building.\",\"Subreddit: history\\u003cbr\\u003eCluster Summary: Safe: Repeated emphasis on safety for reassurance and trust-building.\",\"Subreddit: history\\u003cbr\\u003eCluster Summary: _SAFE_: Thought-provoking discussion on evaluating presidencies based on international affairs. _MANIPULATIVE_: Misleading framing of information from anonymous sources as factual statements.\",\"Subreddit: history\\u003cbr\\u003eCluster Summary: _SAFE_: Thought-provoking discussion on evaluating presidencies based on international affairs. _MANIPULATIVE_: Misleading framing of information from anonymous sources as factual statements.\",\"Subreddit: history\\u003cbr\\u003eCluster Summary: _SAFE_: Thought-provoking discussion on evaluating presidencies based on international affairs. _MANIPULATIVE_: Misleading framing of information from anonymous sources as factual statements.\",\"Subreddit: history\\u003cbr\\u003eCluster Summary: _SAFE_: Thought-provoking discussion on evaluating presidencies based on international affairs. _MANIPULATIVE_: Misleading framing of information from anonymous sources as factual statements.\",\"Subreddit: history\\u003cbr\\u003eCluster Summary: _SAFE_: Thought-provoking discussion on evaluating presidencies based on international affairs. _MANIPULATIVE_: Misleading framing of information from anonymous sources as factual statements.\",\"Subreddit: history\\u003cbr\\u003eCluster Summary: Safe: Repeated emphasis on safety for reassurance and trust-building.\",\"Subreddit: history\\u003cbr\\u003eCluster Summary: _SAFE_: Thought-provoking discussion on evaluating presidencies based on international affairs. _MANIPULATIVE_: Misleading framing of information from anonymous sources as factual statements.\",\"Subreddit: history\\u003cbr\\u003eCluster Summary: _SAFE_: Thought-provoking discussion on evaluating presidencies based on international affairs. _MANIPULATIVE_: Misleading framing of information from anonymous sources as factual statements.\",\"Subreddit: history\\u003cbr\\u003eCluster Summary: Safe: Repeated emphasis on safety for reassurance and trust-building.\",\"Subreddit: history\\u003cbr\\u003eCluster Summary: _SAFE_: Thought-provoking discussion on evaluating presidencies based on international affairs. _MANIPULATIVE_: Misleading framing of information from anonymous sources as factual statements.\",\"Subreddit: history\\u003cbr\\u003eCluster Summary: Safe: Repeated emphasis on safety for reassurance and trust-building.\"],\"legendgroup\":\"history\",\"marker\":{\"color\":\"#636efa\",\"symbol\":\"circle\"},\"mode\":\"markers\",\"name\":\"history\",\"orientation\":\"v\",\"showlegend\":true,\"x\":[5.036759853363037,5.054177284240723,-11.055187225341797,-11.238300323486328,5.399200916290283,5.164134502410889,7.323757648468018,5.28300142288208,5.045656681060791,-11.020612716674805,6.875850677490234,5.261549472808838,-11.178970336914062,5.687277317047119,-10.849096298217773],\"xaxis\":\"x\",\"y\":[5.105900287628174,5.0879902839660645,-2.246403455734253,-2.0487632751464844,4.858424186706543,5.02416467666626,6.057427406311035,4.931896686553955,5.098118305206299,-2.0767879486083984,5.855935573577881,4.935758113861084,-1.9984455108642578,4.272961616516113,-1.828603982925415],\"yaxis\":\"y\",\"type\":\"scatter\"},{\"hovertemplate\":\"\\u003cb\\u003e%{hovertext}\\u003c\\u002fb\\u003e\\u003cbr\\u003e\\u003cbr\\u003eTopic=nfl\\u003cbr\\u003eUMAP1=%{x}\\u003cbr\\u003eUMAP2=%{y}\\u003cextra\\u003e\\u003c\\u002fextra\\u003e\",\"hovertext\":[\"Subreddit: nfl\\u003cbr\\u003eCluster Summary: _SAFE_: Thought-provoking discussion on evaluating presidencies based on international affairs. _MANIPULATIVE_: Misleading framing of information from anonymous sources as factual statements.\",\"Subreddit: nfl\\u003cbr\\u003eCluster Summary: _SAFE_: Thought-provoking discussion on evaluating presidencies based on international affairs. _MANIPULATIVE_: Misleading framing of information from anonymous sources as factual statements.\",\"Subreddit: nfl\\u003cbr\\u003eCluster Summary: _SAFE_: Thought-provoking discussion on evaluating presidencies based on international affairs. _MANIPULATIVE_: Misleading framing of information from anonymous sources as factual statements.\",null,\"Subreddit: nfl\\u003cbr\\u003eCluster Summary: Safe: Repeated emphasis on safety for reassurance and trust-building.\",\"Subreddit: nfl\\u003cbr\\u003eCluster Summary: Safe: Repeated emphasis on safety for reassurance and trust-building.\",null,\"Subreddit: nfl\\u003cbr\\u003eCluster Summary: _SAFE_: Thought-provoking discussion on evaluating presidencies based on international affairs. _MANIPULATIVE_: Misleading framing of information from anonymous sources as factual statements.\",null,null,\"Subreddit: nfl\\u003cbr\\u003eCluster Summary: _SAFE_: Thought-provoking discussion on evaluating presidencies based on international affairs. _MANIPULATIVE_: Misleading framing of information from anonymous sources as factual statements.\",null,\"Subreddit: nfl\\u003cbr\\u003eCluster Summary: Safe: Repeated emphasis on safety for reassurance and trust-building.\",\"Subreddit: nfl\\u003cbr\\u003eCluster Summary: Safe: Repeated emphasis on safety for reassurance and trust-building.\",\"Subreddit: nfl\\u003cbr\\u003eCluster Summary: _SAFE_: Thought-provoking discussion on evaluating presidencies based on international affairs. _MANIPULATIVE_: Misleading framing of information from anonymous sources as factual statements.\",\"Subreddit: nfl\\u003cbr\\u003eCluster Summary: _SAFE_: Thought-provoking discussion on evaluating presidencies based on international affairs. _MANIPULATIVE_: Misleading framing of information from anonymous sources as factual statements.\",\"Subreddit: nfl\\u003cbr\\u003eCluster Summary: _SAFE_: Thought-provoking discussion on evaluating presidencies based on international affairs. _MANIPULATIVE_: Misleading framing of information from anonymous sources as factual statements.\",\"Subreddit: nfl\\u003cbr\\u003eCluster Summary: _SAFE_: Thought-provoking discussion on evaluating presidencies based on international affairs. _MANIPULATIVE_: Misleading framing of information from anonymous sources as factual statements.\",\"Subreddit: nfl\\u003cbr\\u003eCluster Summary: Safe: Repeated emphasis on safety for reassurance and trust-building.\",\"Subreddit: nfl\\u003cbr\\u003eCluster Summary: _SAFE_: Thought-provoking discussion on evaluating presidencies based on international affairs. _MANIPULATIVE_: Misleading framing of information from anonymous sources as factual statements.\",\"Subreddit: nfl\\u003cbr\\u003eCluster Summary: Safe: Seeking genuine advice on workout routines and fitness progress. Manipulative: Misleading workout advice and potentially influencing unrealistic expectations.\",\"Subreddit: nfl\\u003cbr\\u003eCluster Summary: _SAFE_: Thought-provoking discussion on evaluating presidencies based on international affairs. _MANIPULATIVE_: Misleading framing of information from anonymous sources as factual statements.\",\"Subreddit: nfl\\u003cbr\\u003eCluster Summary: _SAFE_: Thought-provoking discussion on evaluating presidencies based on international affairs. _MANIPULATIVE_: Misleading framing of information from anonymous sources as factual statements.\",\"Subreddit: nfl\\u003cbr\\u003eCluster Summary: _SAFE_: Thought-provoking discussion on evaluating presidencies based on international affairs. _MANIPULATIVE_: Misleading framing of information from anonymous sources as factual statements.\",\"Subreddit: nfl\\u003cbr\\u003eCluster Summary: _SAFE_: Thought-provoking discussion on evaluating presidencies based on international affairs. _MANIPULATIVE_: Misleading framing of information from anonymous sources as factual statements.\",\"Subreddit: nfl\\u003cbr\\u003eCluster Summary: _SAFE_: Thought-provoking discussion on evaluating presidencies based on international affairs. _MANIPULATIVE_: Misleading framing of information from anonymous sources as factual statements.\",\"Subreddit: nfl\\u003cbr\\u003eCluster Summary: Safe: Repeated emphasis on safety for reassurance and trust-building.\",null,\"Subreddit: nfl\\u003cbr\\u003eCluster Summary: _SAFE_: Thought-provoking discussion on evaluating presidencies based on international affairs. _MANIPULATIVE_: Misleading framing of information from anonymous sources as factual statements.\",\"Subreddit: nfl\\u003cbr\\u003eCluster Summary: Safe: Repeated emphasis on safety for reassurance and trust-building.\",\"Subreddit: nfl\\u003cbr\\u003eCluster Summary: Safe: Repeated emphasis on safety for reassurance and trust-building.\",\"Subreddit: nfl\\u003cbr\\u003eCluster Summary: _SAFE_: Thought-provoking discussion on evaluating presidencies based on international affairs. _MANIPULATIVE_: Misleading framing of information from anonymous sources as factual statements.\",\"Subreddit: nfl\\u003cbr\\u003eCluster Summary: _SAFE_: Thought-provoking discussion on evaluating presidencies based on international affairs. _MANIPULATIVE_: Misleading framing of information from anonymous sources as factual statements.\",\"Subreddit: nfl\\u003cbr\\u003eCluster Summary: _SAFE_: Thought-provoking discussion on evaluating presidencies based on international affairs. _MANIPULATIVE_: Misleading framing of information from anonymous sources as factual statements.\",\"Subreddit: nfl\\u003cbr\\u003eCluster Summary: _SAFE_: Thought-provoking discussion on evaluating presidencies based on international affairs. _MANIPULATIVE_: Misleading framing of information from anonymous sources as factual statements.\",\"Subreddit: nfl\\u003cbr\\u003eCluster Summary: _SAFE_: Thought-provoking discussion on evaluating presidencies based on international affairs. _MANIPULATIVE_: Misleading framing of information from anonymous sources as factual statements.\",null,\"Subreddit: nfl\\u003cbr\\u003eCluster Summary: _SAFE_: Thought-provoking discussion on evaluating presidencies based on international affairs. _MANIPULATIVE_: Misleading framing of information from anonymous sources as factual statements.\",\"Subreddit: nfl\\u003cbr\\u003eCluster Summary: Safe: Repeated emphasis on safety for reassurance and trust-building.\",\"Subreddit: nfl\\u003cbr\\u003eCluster Summary: Safe: Repeated emphasis on safety for reassurance and trust-building.\",\"Subreddit: nfl\\u003cbr\\u003eCluster Summary: _SAFE_: Thought-provoking discussion on evaluating presidencies based on international affairs. _MANIPULATIVE_: Misleading framing of information from anonymous sources as factual statements.\",\"Subreddit: nfl\\u003cbr\\u003eCluster Summary: Safe: Repeated emphasis on safety for reassurance and trust-building.\",\"Subreddit: nfl\\u003cbr\\u003eCluster Summary: _SAFE_: Thought-provoking discussion on evaluating presidencies based on international affairs. _MANIPULATIVE_: Misleading framing of information from anonymous sources as factual statements.\",null,\"Subreddit: nfl\\u003cbr\\u003eCluster Summary: Safe: Repeated emphasis on safety for reassurance and trust-building.\",\"Subreddit: nfl\\u003cbr\\u003eCluster Summary: _SAFE_: Thought-provoking discussion on evaluating presidencies based on international affairs. _MANIPULATIVE_: Misleading framing of information from anonymous sources as factual statements.\",\"Subreddit: nfl\\u003cbr\\u003eCluster Summary: _SAFE_: Thought-provoking discussion on evaluating presidencies based on international affairs. _MANIPULATIVE_: Misleading framing of information from anonymous sources as factual statements.\",\"Subreddit: nfl\\u003cbr\\u003eCluster Summary: _SAFE_: Thought-provoking discussion on evaluating presidencies based on international affairs. _MANIPULATIVE_: Misleading framing of information from anonymous sources as factual statements.\",\"Subreddit: nfl\\u003cbr\\u003eCluster Summary: _SAFE_: Thought-provoking discussion on evaluating presidencies based on international affairs. _MANIPULATIVE_: Misleading framing of information from anonymous sources as factual statements.\",\"Subreddit: nfl\\u003cbr\\u003eCluster Summary: _SAFE_: Thought-provoking discussion on evaluating presidencies based on international affairs. _MANIPULATIVE_: Misleading framing of information from anonymous sources as factual statements.\",\"Subreddit: nfl\\u003cbr\\u003eCluster Summary: Safe: Repeated emphasis on safety for reassurance and trust-building.\",\"Subreddit: nfl\\u003cbr\\u003eCluster Summary: Post is safe, light-hearted humor in appropriate subreddit.\"],\"legendgroup\":\"nfl\",\"marker\":{\"color\":\"#EF553B\",\"symbol\":\"circle\"},\"mode\":\"markers\",\"name\":\"nfl\",\"orientation\":\"v\",\"showlegend\":true,\"x\":[6.338958740234375,7.256592750549316,6.735198497772217,8.354378700256348,-11.030003547668457,-11.52115535736084,5.767777919769287,6.264954090118408,5.8243818283081055,5.740200042724609,6.751108169555664,5.914064407348633,-11.552080154418945,-11.24063777923584,6.673344135284424,7.234075546264648,6.147132873535156,7.019933223724365,-10.757331848144531,5.8146653175354,13.780191421508789,6.53849458694458,6.970333576202393,7.37620210647583,6.042760372161865,6.027833461761475,-10.94735336303711,5.751542091369629,6.150043487548828,-10.028347969055176,-11.14163589477539,6.390143871307373,6.548980236053467,6.471961975097656,6.3647942543029785,6.343977451324463,5.790343284606934,6.516361713409424,-11.074121475219727,-11.223721504211426,5.705999374389648,-11.163707733154297,6.452421188354492,5.779544353485107,-11.101350784301758,6.466469764709473,6.345086097717285,6.410420894622803,6.693013668060303,6.404128551483154,-11.410837173461914,6.589072227478027],\"xaxis\":\"x\",\"y\":[10.133997917175293,5.4180073738098145,9.492892265319824,-2.609926700592041,-2.299501657485962,-2.2438836097717285,12.092842102050781,10.05208683013916,12.068038940429688,12.157901763916016,9.483213424682617,12.023384094238281,-2.048828125,-1.71073317527771,9.539451599121094,5.863645076751709,10.492582321166992,5.91709566116333,-3.2725422382354736,12.09448528289795,7.362972736358643,9.622858047485352,5.965206623077393,5.862773418426514,11.578469276428223,11.62276840209961,-2.172990322113037,12.144550323486328,10.493606567382812,-3.037724018096924,-1.865105390548706,10.226743698120117,9.567055702209473,9.728808403015137,9.939997673034668,10.148602485656738,12.105680465698242,9.634074211120605,-2.1976540088653564,-2.095553398132324,4.818472385406494,-1.8925613164901733,9.839899063110352,12.126504898071289,-1.8779208660125732,9.93818473815918,10.159751892089844,9.314623832702637,9.5325927734375,9.249656677246094,-2.3078253269195557,2.5461978912353516],\"yaxis\":\"y\",\"type\":\"scatter\"},{\"hovertemplate\":\"\\u003cb\\u003e%{hovertext}\\u003c\\u002fb\\u003e\\u003cbr\\u003e\\u003cbr\\u003eTopic=Showerthoughts\\u003cbr\\u003eUMAP1=%{x}\\u003cbr\\u003eUMAP2=%{y}\\u003cextra\\u003e\\u003c\\u002fextra\\u003e\",\"hovertext\":[\"Subreddit: Showerthoughts\\u003cbr\\u003eCluster Summary: Post is safe, light-hearted humor in appropriate subreddit.\",\"Subreddit: Showerthoughts\\u003cbr\\u003eCluster Summary: Safe: Repeated emphasis on safety for reassurance and trust-building.\",\"Subreddit: Showerthoughts\\u003cbr\\u003eCluster Summary: Post is safe, light-hearted humor in appropriate subreddit.\",\"Subreddit: Showerthoughts\\u003cbr\\u003eCluster Summary: Post is safe, light-hearted humor in appropriate subreddit.\",\"Subreddit: Showerthoughts\\u003cbr\\u003eCluster Summary: _SAFE_: Thought-provoking discussion on evaluating presidencies based on international affairs. _MANIPULATIVE_: Misleading framing of information from anonymous sources as factual statements.\",\"Subreddit: Showerthoughts\\u003cbr\\u003eCluster Summary: Post is safe, light-hearted humor in appropriate subreddit.\",\"Subreddit: Showerthoughts\\u003cbr\\u003eCluster Summary: Safe: Repeated emphasis on safety for reassurance and trust-building.\",\"Subreddit: Showerthoughts\\u003cbr\\u003eCluster Summary: Post is safe, light-hearted humor in appropriate subreddit.\",\"Subreddit: Showerthoughts\\u003cbr\\u003eCluster Summary: Post is safe, light-hearted humor in appropriate subreddit.\",\"Subreddit: Showerthoughts\\u003cbr\\u003eCluster Summary: _SAFE_: Thought-provoking discussion on evaluating presidencies based on international affairs. _MANIPULATIVE_: Misleading framing of information from anonymous sources as factual statements.\",\"Subreddit: Showerthoughts\\u003cbr\\u003eCluster Summary: Safe: Repeated emphasis on safety for reassurance and trust-building.\",\"Subreddit: Showerthoughts\\u003cbr\\u003eCluster Summary: Post is safe, light-hearted humor in appropriate subreddit.\",\"Subreddit: Showerthoughts\\u003cbr\\u003eCluster Summary: Post is safe, light-hearted humor in appropriate subreddit.\",\"Subreddit: Showerthoughts\\u003cbr\\u003eCluster Summary: Safe: Seeking genuine advice on workout routines and fitness progress. Manipulative: Misleading workout advice and potentially influencing unrealistic expectations.\",\"Subreddit: Showerthoughts\\u003cbr\\u003eCluster Summary: Post is safe, light-hearted humor in appropriate subreddit.\",\"Subreddit: Showerthoughts\\u003cbr\\u003eCluster Summary: Post is safe, light-hearted humor in appropriate subreddit.\",\"Subreddit: Showerthoughts\\u003cbr\\u003eCluster Summary: Safe: Repeated emphasis on safety for reassurance and trust-building.\",\"Subreddit: Showerthoughts\\u003cbr\\u003eCluster Summary: Safe: Repeated emphasis on safety for reassurance and trust-building.\",\"Subreddit: Showerthoughts\\u003cbr\\u003eCluster Summary: Post is safe, light-hearted humor in appropriate subreddit.\",\"Subreddit: Showerthoughts\\u003cbr\\u003eCluster Summary: Post is safe, light-hearted humor in appropriate subreddit.\",\"Subreddit: Showerthoughts\\u003cbr\\u003eCluster Summary: _SAFE_: Thought-provoking discussion on evaluating presidencies based on international affairs. _MANIPULATIVE_: Misleading framing of information from anonymous sources as factual statements.\",\"Subreddit: Showerthoughts\\u003cbr\\u003eCluster Summary: Safe: Repeated emphasis on safety for reassurance and trust-building.\",\"Subreddit: Showerthoughts\\u003cbr\\u003eCluster Summary: _SAFE_: Thought-provoking discussion on evaluating presidencies based on international affairs. _MANIPULATIVE_: Misleading framing of information from anonymous sources as factual statements.\",\"Subreddit: Showerthoughts\\u003cbr\\u003eCluster Summary: _SAFE_: Thought-provoking discussion on evaluating presidencies based on international affairs. _MANIPULATIVE_: Misleading framing of information from anonymous sources as factual statements.\",\"Subreddit: Showerthoughts\\u003cbr\\u003eCluster Summary: _SAFE_: Thought-provoking discussion on evaluating presidencies based on international affairs. _MANIPULATIVE_: Misleading framing of information from anonymous sources as factual statements.\",\"Subreddit: Showerthoughts\\u003cbr\\u003eCluster Summary: Post is safe, light-hearted humor in appropriate subreddit.\",\"Subreddit: Showerthoughts\\u003cbr\\u003eCluster Summary: Post is safe, light-hearted humor in appropriate subreddit.\",\"Subreddit: Showerthoughts\\u003cbr\\u003eCluster Summary: Post is safe, light-hearted humor in appropriate subreddit.\",\"Subreddit: Showerthoughts\\u003cbr\\u003eCluster Summary: Safe: Repeated emphasis on safety for reassurance and trust-building.\",\"Subreddit: Showerthoughts\\u003cbr\\u003eCluster Summary: Post is safe, light-hearted humor in appropriate subreddit.\",\"Subreddit: Showerthoughts\\u003cbr\\u003eCluster Summary: _SAFE_: Thought-provoking discussion on evaluating presidencies based on international affairs. _MANIPULATIVE_: Misleading framing of information from anonymous sources as factual statements.\",\"Subreddit: Showerthoughts\\u003cbr\\u003eCluster Summary: Post is safe, light-hearted humor in appropriate subreddit.\",\"Subreddit: Showerthoughts\\u003cbr\\u003eCluster Summary: Safe: Repeated emphasis on safety for reassurance and trust-building.\",\"Subreddit: Showerthoughts\\u003cbr\\u003eCluster Summary: Post is safe, light-hearted humor in appropriate subreddit.\",\"Subreddit: Showerthoughts\\u003cbr\\u003eCluster Summary: Post is safe, light-hearted humor in appropriate subreddit.\",\"Subreddit: Showerthoughts\\u003cbr\\u003eCluster Summary: Post is safe, light-hearted humor in appropriate subreddit.\",\"Subreddit: Showerthoughts\\u003cbr\\u003eCluster Summary: Post is safe, light-hearted humor in appropriate subreddit.\",\"Subreddit: Showerthoughts\\u003cbr\\u003eCluster Summary: _SAFE_: Thought-provoking discussion on evaluating presidencies based on international affairs. _MANIPULATIVE_: Misleading framing of information from anonymous sources as factual statements.\",\"Subreddit: Showerthoughts\\u003cbr\\u003eCluster Summary: _SAFE_: Thought-provoking discussion on evaluating presidencies based on international affairs. _MANIPULATIVE_: Misleading framing of information from anonymous sources as factual statements.\",\"Subreddit: Showerthoughts\\u003cbr\\u003eCluster Summary: Safe: Repeated emphasis on safety for reassurance and trust-building.\",\"Subreddit: Showerthoughts\\u003cbr\\u003eCluster Summary: Safe: Repeated emphasis on safety for reassurance and trust-building.\",\"Subreddit: Showerthoughts\\u003cbr\\u003eCluster Summary: Post is safe, light-hearted humor in appropriate subreddit.\",\"Subreddit: Showerthoughts\\u003cbr\\u003eCluster Summary: _SAFE_: Thought-provoking discussion on evaluating presidencies based on international affairs. _MANIPULATIVE_: Misleading framing of information from anonymous sources as factual statements.\"],\"legendgroup\":\"Showerthoughts\",\"marker\":{\"color\":\"#00cc96\",\"symbol\":\"circle\"},\"mode\":\"markers\",\"name\":\"Showerthoughts\",\"orientation\":\"v\",\"showlegend\":true,\"x\":[6.568471908569336,-11.128490447998047,6.0163702964782715,6.624284744262695,7.41397762298584,6.848478317260742,-10.758749961853027,6.1615424156188965,5.989348888397217,7.4085235595703125,-10.867966651916504,6.8406500816345215,6.659622669219971,14.093871116638184,6.453049182891846,6.77473783493042,-11.220393180847168,-9.911081314086914,6.09969425201416,6.757980823516846,6.555703639984131,-11.352760314941406,6.301537036895752,7.707046985626221,7.3943562507629395,6.700798988342285,6.038190841674805,6.764739036560059,-9.969449043273926,6.660537242889404,7.833944320678711,6.324084281921387,-11.281522750854492,6.812803268432617,6.612409591674805,6.164058685302734,6.76238489151001,5.669272422790527,7.298048496246338,-11.222311973571777,-11.403424263000488,6.058518886566162,7.78271484375],\"xaxis\":\"x\",\"y\":[2.126760959625244,-2.2354235649108887,2.6827383041381836,2.212327480316162,6.177877426147461,2.4945802688598633,-3.27101993560791,2.570892095565796,2.7150704860687256,5.99769401550293,-2.3287980556488037,1.6766985654830933,1.5890835523605347,7.746801376342773,1.7316566705703735,1.600264072418213,-2.338179349899292,-3.1494977474212646,2.548543691635132,1.5933594703674316,5.4812164306640625,-2.144357442855835,5.299970626831055,5.875372886657715,6.10588264465332,2.383552074432373,2.6601927280426025,1.55155348777771,-3.0928549766540527,1.5391019582748413,5.802964210510254,1.8392009735107422,-2.4356584548950195,2.48030424118042,1.5128594636917114,2.4638969898223877,2.43141770362854,4.6081109046936035,5.602809906005859,-1.9545449018478394,-2.157846689224243,2.5734574794769287,5.888024806976318],\"yaxis\":\"y\",\"type\":\"scatter\"},{\"hovertemplate\":\"\\u003cb\\u003e%{hovertext}\\u003c\\u002fb\\u003e\\u003cbr\\u003e\\u003cbr\\u003eTopic=politics\\u003cbr\\u003eUMAP1=%{x}\\u003cbr\\u003eUMAP2=%{y}\\u003cextra\\u003e\\u003c\\u002fextra\\u003e\",\"hovertext\":[\"Subreddit: politics\\u003cbr\\u003eCluster Summary: Safe: Repeated emphasis on safety for reassurance and trust-building.\",null,\"Subreddit: politics\\u003cbr\\u003eCluster Summary: _SAFE_: Thought-provoking discussion on evaluating presidencies based on international affairs. _MANIPULATIVE_: Misleading framing of information from anonymous sources as factual statements.\",null,\"Subreddit: politics\\u003cbr\\u003eCluster Summary: _SAFE_: Thought-provoking discussion on evaluating presidencies based on international affairs. _MANIPULATIVE_: Misleading framing of information from anonymous sources as factual statements.\",\"Subreddit: politics\\u003cbr\\u003eCluster Summary: _SAFE_: Thought-provoking discussion on evaluating presidencies based on international affairs. _MANIPULATIVE_: Misleading framing of information from anonymous sources as factual statements.\",\"Subreddit: politics\\u003cbr\\u003eCluster Summary: Safe: Repeated emphasis on safety for reassurance and trust-building.\",\"Subreddit: politics\\u003cbr\\u003eCluster Summary: _SAFE_: Thought-provoking discussion on evaluating presidencies based on international affairs. _MANIPULATIVE_: Misleading framing of information from anonymous sources as factual statements.\",\"Subreddit: politics\\u003cbr\\u003eCluster Summary: Safe: Repeated emphasis on safety for reassurance and trust-building.\",\"Subreddit: politics\\u003cbr\\u003eCluster Summary: _SAFE_: Thought-provoking discussion on evaluating presidencies based on international affairs. _MANIPULATIVE_: Misleading framing of information from anonymous sources as factual statements.\",null,\"Subreddit: politics\\u003cbr\\u003eCluster Summary: Safe: Repeated emphasis on safety for reassurance and trust-building.\",\"Subreddit: politics\\u003cbr\\u003eCluster Summary: _SAFE_: Thought-provoking discussion on evaluating presidencies based on international affairs. _MANIPULATIVE_: Misleading framing of information from anonymous sources as factual statements.\",\"Subreddit: politics\\u003cbr\\u003eCluster Summary: _SAFE_: Thought-provoking discussion on evaluating presidencies based on international affairs. _MANIPULATIVE_: Misleading framing of information from anonymous sources as factual statements.\",\"Subreddit: politics\\u003cbr\\u003eCluster Summary: _SAFE_: Thought-provoking discussion on evaluating presidencies based on international affairs. _MANIPULATIVE_: Misleading framing of information from anonymous sources as factual statements.\",\"Subreddit: politics\\u003cbr\\u003eCluster Summary: _SAFE_: Thought-provoking discussion on evaluating presidencies based on international affairs. _MANIPULATIVE_: Misleading framing of information from anonymous sources as factual statements.\",\"Subreddit: politics\\u003cbr\\u003eCluster Summary: _SAFE_: Thought-provoking discussion on evaluating presidencies based on international affairs. _MANIPULATIVE_: Misleading framing of information from anonymous sources as factual statements.\",\"Subreddit: politics\\u003cbr\\u003eCluster Summary: _SAFE_: Thought-provoking discussion on evaluating presidencies based on international affairs. _MANIPULATIVE_: Misleading framing of information from anonymous sources as factual statements.\",\"Subreddit: politics\\u003cbr\\u003eCluster Summary: _SAFE_: Thought-provoking discussion on evaluating presidencies based on international affairs. _MANIPULATIVE_: Misleading framing of information from anonymous sources as factual statements.\",\"Subreddit: politics\\u003cbr\\u003eCluster Summary: _SAFE_: Thought-provoking discussion on evaluating presidencies based on international affairs. _MANIPULATIVE_: Misleading framing of information from anonymous sources as factual statements.\",\"Subreddit: politics\\u003cbr\\u003eCluster Summary: _SAFE_: Thought-provoking discussion on evaluating presidencies based on international affairs. _MANIPULATIVE_: Misleading framing of information from anonymous sources as factual statements.\",\"Subreddit: politics\\u003cbr\\u003eCluster Summary: Safe: Repeated emphasis on safety for reassurance and trust-building.\",\"Subreddit: politics\\u003cbr\\u003eCluster Summary: Safe: Repeated emphasis on safety for reassurance and trust-building.\",\"Subreddit: politics\\u003cbr\\u003eCluster Summary: Safe: Repeated emphasis on safety for reassurance and trust-building.\",\"Subreddit: politics\\u003cbr\\u003eCluster Summary: _SAFE_: Thought-provoking discussion on evaluating presidencies based on international affairs. _MANIPULATIVE_: Misleading framing of information from anonymous sources as factual statements.\",\"Subreddit: politics\\u003cbr\\u003eCluster Summary: Safe: Repeated emphasis on safety for reassurance and trust-building.\",\"Subreddit: politics\\u003cbr\\u003eCluster Summary: Safe: Repeated emphasis on safety for reassurance and trust-building.\",\"Subreddit: politics\\u003cbr\\u003eCluster Summary: Safe: Repeated emphasis on safety for reassurance and trust-building.\",null,\"Subreddit: politics\\u003cbr\\u003eCluster Summary: _SAFE_: Thought-provoking discussion on evaluating presidencies based on international affairs. _MANIPULATIVE_: Misleading framing of information from anonymous sources as factual statements.\",\"Subreddit: politics\\u003cbr\\u003eCluster Summary: Safe: Repeated emphasis on safety for reassurance and trust-building.\",null,null,\"Subreddit: politics\\u003cbr\\u003eCluster Summary: _SAFE_: Thought-provoking discussion on evaluating presidencies based on international affairs. _MANIPULATIVE_: Misleading framing of information from anonymous sources as factual statements.\",\"Subreddit: politics\\u003cbr\\u003eCluster Summary: _SAFE_: Thought-provoking discussion on evaluating presidencies based on international affairs. _MANIPULATIVE_: Misleading framing of information from anonymous sources as factual statements.\",\"Subreddit: politics\\u003cbr\\u003eCluster Summary: _SAFE_: Thought-provoking discussion on evaluating presidencies based on international affairs. _MANIPULATIVE_: Misleading framing of information from anonymous sources as factual statements.\",\"Subreddit: politics\\u003cbr\\u003eCluster Summary: _SAFE_: Thought-provoking discussion on evaluating presidencies based on international affairs. _MANIPULATIVE_: Misleading framing of information from anonymous sources as factual statements.\",\"Subreddit: politics\\u003cbr\\u003eCluster Summary: Safe: Repeated emphasis on safety for reassurance and trust-building.\",\"Subreddit: politics\\u003cbr\\u003eCluster Summary: Safe: Repeated emphasis on safety for reassurance and trust-building.\",\"Subreddit: politics\\u003cbr\\u003eCluster Summary: _SAFE_: Thought-provoking discussion on evaluating presidencies based on international affairs. _MANIPULATIVE_: Misleading framing of information from anonymous sources as factual statements.\",\"Subreddit: politics\\u003cbr\\u003eCluster Summary: Safe: Repeated emphasis on safety for reassurance and trust-building.\",\"Subreddit: politics\\u003cbr\\u003eCluster Summary: _SAFE_: Thought-provoking discussion on evaluating presidencies based on international affairs. _MANIPULATIVE_: Misleading framing of information from anonymous sources as factual statements.\",\"Subreddit: politics\\u003cbr\\u003eCluster Summary: _SAFE_: Thought-provoking discussion on evaluating presidencies based on international affairs. _MANIPULATIVE_: Misleading framing of information from anonymous sources as factual statements.\",\"Subreddit: politics\\u003cbr\\u003eCluster Summary: _SAFE_: Thought-provoking discussion on evaluating presidencies based on international affairs. _MANIPULATIVE_: Misleading framing of information from anonymous sources as factual statements.\"],\"legendgroup\":\"politics\",\"marker\":{\"color\":\"#ab63fa\",\"symbol\":\"circle\"},\"mode\":\"markers\",\"name\":\"politics\",\"orientation\":\"v\",\"showlegend\":true,\"x\":[-11.31796646118164,8.314714431762695,7.841520309448242,8.296899795532227,8.413249015808105,8.440675735473633,-10.95651912689209,8.30380916595459,-11.247796058654785,5.673585414886475,8.277216911315918,-10.792977333068848,5.765798091888428,8.354976654052734,5.679451942443848,8.348750114440918,8.345953941345215,5.883793830871582,8.345858573913574,8.439549446105957,8.357854843139648,-9.89194107055664,-11.04189395904541,-11.125829696655273,8.311691284179688,-10.742657661437988,-11.423104286193848,-11.261578559875488,8.300256729125977,5.859610557556152,-10.967141151428223,8.327360153198242,8.314440727233887,5.684566020965576,8.364343643188477,7.896442413330078,7.870420455932617,-10.676286697387695,-10.138114929199219,8.426584243774414,-11.316736221313477,8.366729736328125,8.383890151977539,8.343996047973633],\"xaxis\":\"x\",\"y\":[-2.132800340652466,-3.3898351192474365,5.866567134857178,-2.741250991821289,-2.18941593170166,-2.140902519226074,-2.0862679481506348,-1.47455632686615,-2.384733200073242,4.640162467956543,-2.976321220397949,-2.324681520462036,4.791823863983154,-0.6954559683799744,4.669004440307617,-0.7919696569442749,-0.5833285450935364,4.877504825592041,-0.40918439626693726,-2.325082778930664,-1.5702826976776123,-3.166163444519043,-2.1000444889068604,-1.8578453063964844,-1.4963350296020508,-2.0119643211364746,-1.8815836906433105,-1.7897218465805054,-3.289649486541748,4.853100299835205,-1.7720036506652832,-2.8048174381256104,-3.3863048553466797,4.513509750366211,-2.519019603729248,5.8031325340271,5.844110488891602,-2.256850004196167,-2.9328174591064453,-2.288663148880005,-2.3590030670166016,-0.8118870258331299,-2.4505178928375244,-0.33547720313072205],\"yaxis\":\"y\",\"type\":\"scatter\"},{\"hovertemplate\":\"\\u003cb\\u003e%{hovertext}\\u003c\\u002fb\\u003e\\u003cbr\\u003e\\u003cbr\\u003eTopic=bodyweightfitness\\u003cbr\\u003eUMAP1=%{x}\\u003cbr\\u003eUMAP2=%{y}\\u003cextra\\u003e\\u003c\\u002fextra\\u003e\",\"hovertext\":[\"Subreddit: bodyweightfitness\\u003cbr\\u003eCluster Summary: _SAFE_: Thought-provoking discussion on evaluating presidencies based on international affairs. _MANIPULATIVE_: Misleading framing of information from anonymous sources as factual statements.\",\"Subreddit: bodyweightfitness\\u003cbr\\u003eCluster Summary: Safe: Seeking genuine advice on workout routines and fitness progress. Manipulative: Misleading workout advice and potentially influencing unrealistic expectations.\",\"Subreddit: bodyweightfitness\\u003cbr\\u003eCluster Summary: Safe: Seeking genuine advice on workout routines and fitness progress. Manipulative: Misleading workout advice and potentially influencing unrealistic expectations.\",\"Subreddit: bodyweightfitness\\u003cbr\\u003eCluster Summary: Safe: Seeking genuine advice on workout routines and fitness progress. Manipulative: Misleading workout advice and potentially influencing unrealistic expectations.\",\"Subreddit: bodyweightfitness\\u003cbr\\u003eCluster Summary: Safe: Seeking genuine advice on workout routines and fitness progress. Manipulative: Misleading workout advice and potentially influencing unrealistic expectations.\",\"Subreddit: bodyweightfitness\\u003cbr\\u003eCluster Summary: Safe: Seeking genuine advice on workout routines and fitness progress. Manipulative: Misleading workout advice and potentially influencing unrealistic expectations.\",\"Subreddit: bodyweightfitness\\u003cbr\\u003eCluster Summary: Safe: Seeking genuine advice on workout routines and fitness progress. Manipulative: Misleading workout advice and potentially influencing unrealistic expectations.\",\"Subreddit: bodyweightfitness\\u003cbr\\u003eCluster Summary: Safe: Seeking genuine advice on workout routines and fitness progress. Manipulative: Misleading workout advice and potentially influencing unrealistic expectations.\",\"Subreddit: bodyweightfitness\\u003cbr\\u003eCluster Summary: Safe: Seeking genuine advice on workout routines and fitness progress. Manipulative: Misleading workout advice and potentially influencing unrealistic expectations.\",\"Subreddit: bodyweightfitness\\u003cbr\\u003eCluster Summary: Safe: Seeking genuine advice on workout routines and fitness progress. Manipulative: Misleading workout advice and potentially influencing unrealistic expectations.\",\"Subreddit: bodyweightfitness\\u003cbr\\u003eCluster Summary: Safe: Seeking genuine advice on workout routines and fitness progress. Manipulative: Misleading workout advice and potentially influencing unrealistic expectations.\",\"Subreddit: bodyweightfitness\\u003cbr\\u003eCluster Summary: Safe: Seeking genuine advice on workout routines and fitness progress. Manipulative: Misleading workout advice and potentially influencing unrealistic expectations.\",\"Subreddit: bodyweightfitness\\u003cbr\\u003eCluster Summary: Safe: Seeking genuine advice on workout routines and fitness progress. Manipulative: Misleading workout advice and potentially influencing unrealistic expectations.\",\"Subreddit: bodyweightfitness\\u003cbr\\u003eCluster Summary: Safe: Seeking genuine advice on workout routines and fitness progress. Manipulative: Misleading workout advice and potentially influencing unrealistic expectations.\",\"Subreddit: bodyweightfitness\\u003cbr\\u003eCluster Summary: Safe: Seeking genuine advice on workout routines and fitness progress. Manipulative: Misleading workout advice and potentially influencing unrealistic expectations.\",\"Subreddit: bodyweightfitness\\u003cbr\\u003eCluster Summary: Safe: Seeking genuine advice on workout routines and fitness progress. Manipulative: Misleading workout advice and potentially influencing unrealistic expectations.\",\"Subreddit: bodyweightfitness\\u003cbr\\u003eCluster Summary: Safe: Seeking genuine advice on workout routines and fitness progress. Manipulative: Misleading workout advice and potentially influencing unrealistic expectations.\",\"Subreddit: bodyweightfitness\\u003cbr\\u003eCluster Summary: Safe: Seeking genuine advice on workout routines and fitness progress. Manipulative: Misleading workout advice and potentially influencing unrealistic expectations.\",\"Subreddit: bodyweightfitness\\u003cbr\\u003eCluster Summary: _SAFE_: Thought-provoking discussion on evaluating presidencies based on international affairs. _MANIPULATIVE_: Misleading framing of information from anonymous sources as factual statements.\",\"Subreddit: bodyweightfitness\\u003cbr\\u003eCluster Summary: Safe: Seeking genuine advice on workout routines and fitness progress. Manipulative: Misleading workout advice and potentially influencing unrealistic expectations.\",\"Subreddit: bodyweightfitness\\u003cbr\\u003eCluster Summary: Safe: Seeking genuine advice on workout routines and fitness progress. Manipulative: Misleading workout advice and potentially influencing unrealistic expectations.\",\"Subreddit: bodyweightfitness\\u003cbr\\u003eCluster Summary: Safe: Seeking genuine advice on workout routines and fitness progress. Manipulative: Misleading workout advice and potentially influencing unrealistic expectations.\",\"Subreddit: bodyweightfitness\\u003cbr\\u003eCluster Summary: Safe: Seeking genuine advice on workout routines and fitness progress. Manipulative: Misleading workout advice and potentially influencing unrealistic expectations.\",\"Subreddit: bodyweightfitness\\u003cbr\\u003eCluster Summary: Safe: Seeking genuine advice on workout routines and fitness progress. Manipulative: Misleading workout advice and potentially influencing unrealistic expectations.\",\"Subreddit: bodyweightfitness\\u003cbr\\u003eCluster Summary: Safe: Seeking genuine advice on workout routines and fitness progress. Manipulative: Misleading workout advice and potentially influencing unrealistic expectations.\",\"Subreddit: bodyweightfitness\\u003cbr\\u003eCluster Summary: Safe: Seeking genuine advice on workout routines and fitness progress. Manipulative: Misleading workout advice and potentially influencing unrealistic expectations.\",\"Subreddit: bodyweightfitness\\u003cbr\\u003eCluster Summary: Safe: Seeking genuine advice on workout routines and fitness progress. Manipulative: Misleading workout advice and potentially influencing unrealistic expectations.\",\"Subreddit: bodyweightfitness\\u003cbr\\u003eCluster Summary: _SAFE_: Thought-provoking discussion on evaluating presidencies based on international affairs. _MANIPULATIVE_: Misleading framing of information from anonymous sources as factual statements.\",\"Subreddit: bodyweightfitness\\u003cbr\\u003eCluster Summary: Safe: Seeking genuine advice on workout routines and fitness progress. Manipulative: Misleading workout advice and potentially influencing unrealistic expectations.\",\"Subreddit: bodyweightfitness\\u003cbr\\u003eCluster Summary: Safe: Seeking genuine advice on workout routines and fitness progress. Manipulative: Misleading workout advice and potentially influencing unrealistic expectations.\",\"Subreddit: bodyweightfitness\\u003cbr\\u003eCluster Summary: Safe: Seeking genuine advice on workout routines and fitness progress. Manipulative: Misleading workout advice and potentially influencing unrealistic expectations.\",\"Subreddit: bodyweightfitness\\u003cbr\\u003eCluster Summary: _SAFE_: Thought-provoking discussion on evaluating presidencies based on international affairs. _MANIPULATIVE_: Misleading framing of information from anonymous sources as factual statements.\",\"Subreddit: bodyweightfitness\\u003cbr\\u003eCluster Summary: Safe: Seeking genuine advice on workout routines and fitness progress. Manipulative: Misleading workout advice and potentially influencing unrealistic expectations.\",\"Subreddit: bodyweightfitness\\u003cbr\\u003eCluster Summary: Safe: Seeking genuine advice on workout routines and fitness progress. Manipulative: Misleading workout advice and potentially influencing unrealistic expectations.\",\"Subreddit: bodyweightfitness\\u003cbr\\u003eCluster Summary: Safe: Seeking genuine advice on workout routines and fitness progress. Manipulative: Misleading workout advice and potentially influencing unrealistic expectations.\",\"Subreddit: bodyweightfitness\\u003cbr\\u003eCluster Summary: Safe: Seeking genuine advice on workout routines and fitness progress. Manipulative: Misleading workout advice and potentially influencing unrealistic expectations.\",\"Subreddit: bodyweightfitness\\u003cbr\\u003eCluster Summary: Safe: Seeking genuine advice on workout routines and fitness progress. Manipulative: Misleading workout advice and potentially influencing unrealistic expectations.\",\"Subreddit: bodyweightfitness\\u003cbr\\u003eCluster Summary: Safe: Seeking genuine advice on workout routines and fitness progress. Manipulative: Misleading workout advice and potentially influencing unrealistic expectations.\",\"Subreddit: bodyweightfitness\\u003cbr\\u003eCluster Summary: Safe: Seeking genuine advice on workout routines and fitness progress. Manipulative: Misleading workout advice and potentially influencing unrealistic expectations.\",\"Subreddit: bodyweightfitness\\u003cbr\\u003eCluster Summary: Safe: Seeking genuine advice on workout routines and fitness progress. Manipulative: Misleading workout advice and potentially influencing unrealistic expectations.\",\"Subreddit: bodyweightfitness\\u003cbr\\u003eCluster Summary: _SAFE_: Thought-provoking discussion on evaluating presidencies based on international affairs. _MANIPULATIVE_: Misleading framing of information from anonymous sources as factual statements.\",\"Subreddit: bodyweightfitness\\u003cbr\\u003eCluster Summary: Safe: Seeking genuine advice on workout routines and fitness progress. Manipulative: Misleading workout advice and potentially influencing unrealistic expectations.\",\"Subreddit: bodyweightfitness\\u003cbr\\u003eCluster Summary: Safe: Seeking genuine advice on workout routines and fitness progress. Manipulative: Misleading workout advice and potentially influencing unrealistic expectations.\",\"Subreddit: bodyweightfitness\\u003cbr\\u003eCluster Summary: Safe: Seeking genuine advice on workout routines and fitness progress. Manipulative: Misleading workout advice and potentially influencing unrealistic expectations.\",\"Subreddit: bodyweightfitness\\u003cbr\\u003eCluster Summary: Safe: Seeking genuine advice on workout routines and fitness progress. Manipulative: Misleading workout advice and potentially influencing unrealistic expectations.\",\"Subreddit: bodyweightfitness\\u003cbr\\u003eCluster Summary: Safe: Seeking genuine advice on workout routines and fitness progress. Manipulative: Misleading workout advice and potentially influencing unrealistic expectations.\",\"Subreddit: bodyweightfitness\\u003cbr\\u003eCluster Summary: Safe: Seeking genuine advice on workout routines and fitness progress. Manipulative: Misleading workout advice and potentially influencing unrealistic expectations.\",\"Subreddit: bodyweightfitness\\u003cbr\\u003eCluster Summary: Safe: Seeking genuine advice on workout routines and fitness progress. Manipulative: Misleading workout advice and potentially influencing unrealistic expectations.\",\"Subreddit: bodyweightfitness\\u003cbr\\u003eCluster Summary: Safe: Seeking genuine advice on workout routines and fitness progress. Manipulative: Misleading workout advice and potentially influencing unrealistic expectations.\",\"Subreddit: bodyweightfitness\\u003cbr\\u003eCluster Summary: Safe: Seeking genuine advice on workout routines and fitness progress. Manipulative: Misleading workout advice and potentially influencing unrealistic expectations.\",\"Subreddit: bodyweightfitness\\u003cbr\\u003eCluster Summary: Safe: Seeking genuine advice on workout routines and fitness progress. Manipulative: Misleading workout advice and potentially influencing unrealistic expectations.\",\"Subreddit: bodyweightfitness\\u003cbr\\u003eCluster Summary: Safe: Seeking genuine advice on workout routines and fitness progress. Manipulative: Misleading workout advice and potentially influencing unrealistic expectations.\",\"Subreddit: bodyweightfitness\\u003cbr\\u003eCluster Summary: Safe: Seeking genuine advice on workout routines and fitness progress. Manipulative: Misleading workout advice and potentially influencing unrealistic expectations.\",\"Subreddit: bodyweightfitness\\u003cbr\\u003eCluster Summary: Safe: Seeking genuine advice on workout routines and fitness progress. Manipulative: Misleading workout advice and potentially influencing unrealistic expectations.\",\"Subreddit: bodyweightfitness\\u003cbr\\u003eCluster Summary: _SAFE_: Thought-provoking discussion on evaluating presidencies based on international affairs. _MANIPULATIVE_: Misleading framing of information from anonymous sources as factual statements.\",\"Subreddit: bodyweightfitness\\u003cbr\\u003eCluster Summary: Safe: Seeking genuine advice on workout routines and fitness progress. Manipulative: Misleading workout advice and potentially influencing unrealistic expectations.\",\"Subreddit: bodyweightfitness\\u003cbr\\u003eCluster Summary: Safe: Seeking genuine advice on workout routines and fitness progress. Manipulative: Misleading workout advice and potentially influencing unrealistic expectations.\",\"Subreddit: bodyweightfitness\\u003cbr\\u003eCluster Summary: Safe: Seeking genuine advice on workout routines and fitness progress. Manipulative: Misleading workout advice and potentially influencing unrealistic expectations.\",\"Subreddit: bodyweightfitness\\u003cbr\\u003eCluster Summary: Safe: Seeking genuine advice on workout routines and fitness progress. Manipulative: Misleading workout advice and potentially influencing unrealistic expectations.\",\"Subreddit: bodyweightfitness\\u003cbr\\u003eCluster Summary: Safe: Seeking genuine advice on workout routines and fitness progress. Manipulative: Misleading workout advice and potentially influencing unrealistic expectations.\",\"Subreddit: bodyweightfitness\\u003cbr\\u003eCluster Summary: Safe: Seeking genuine advice on workout routines and fitness progress. Manipulative: Misleading workout advice and potentially influencing unrealistic expectations.\",\"Subreddit: bodyweightfitness\\u003cbr\\u003eCluster Summary: Safe: Seeking genuine advice on workout routines and fitness progress. Manipulative: Misleading workout advice and potentially influencing unrealistic expectations.\",\"Subreddit: bodyweightfitness\\u003cbr\\u003eCluster Summary: Safe: Seeking genuine advice on workout routines and fitness progress. Manipulative: Misleading workout advice and potentially influencing unrealistic expectations.\",\"Subreddit: bodyweightfitness\\u003cbr\\u003eCluster Summary: Safe: Seeking genuine advice on workout routines and fitness progress. Manipulative: Misleading workout advice and potentially influencing unrealistic expectations.\",\"Subreddit: bodyweightfitness\\u003cbr\\u003eCluster Summary: Safe: Seeking genuine advice on workout routines and fitness progress. Manipulative: Misleading workout advice and potentially influencing unrealistic expectations.\",\"Subreddit: bodyweightfitness\\u003cbr\\u003eCluster Summary: Safe: Seeking genuine advice on workout routines and fitness progress. Manipulative: Misleading workout advice and potentially influencing unrealistic expectations.\",\"Subreddit: bodyweightfitness\\u003cbr\\u003eCluster Summary: Safe: Seeking genuine advice on workout routines and fitness progress. Manipulative: Misleading workout advice and potentially influencing unrealistic expectations.\",\"Subreddit: bodyweightfitness\\u003cbr\\u003eCluster Summary: Safe: Seeking genuine advice on workout routines and fitness progress. Manipulative: Misleading workout advice and potentially influencing unrealistic expectations.\",\"Subreddit: bodyweightfitness\\u003cbr\\u003eCluster Summary: Safe: Seeking genuine advice on workout routines and fitness progress. Manipulative: Misleading workout advice and potentially influencing unrealistic expectations.\",\"Subreddit: bodyweightfitness\\u003cbr\\u003eCluster Summary: Safe: Seeking genuine advice on workout routines and fitness progress. Manipulative: Misleading workout advice and potentially influencing unrealistic expectations.\",\"Subreddit: bodyweightfitness\\u003cbr\\u003eCluster Summary: Safe: Seeking genuine advice on workout routines and fitness progress. Manipulative: Misleading workout advice and potentially influencing unrealistic expectations.\",\"Subreddit: bodyweightfitness\\u003cbr\\u003eCluster Summary: Safe: Seeking genuine advice on workout routines and fitness progress. Manipulative: Misleading workout advice and potentially influencing unrealistic expectations.\",\"Subreddit: bodyweightfitness\\u003cbr\\u003eCluster Summary: Safe: Seeking genuine advice on workout routines and fitness progress. Manipulative: Misleading workout advice and potentially influencing unrealistic expectations.\",\"Subreddit: bodyweightfitness\\u003cbr\\u003eCluster Summary: _SAFE_: Thought-provoking discussion on evaluating presidencies based on international affairs. _MANIPULATIVE_: Misleading framing of information from anonymous sources as factual statements.\",\"Subreddit: bodyweightfitness\\u003cbr\\u003eCluster Summary: Safe: Repeated emphasis on safety for reassurance and trust-building.\",\"Subreddit: bodyweightfitness\\u003cbr\\u003eCluster Summary: Safe: Seeking genuine advice on workout routines and fitness progress. Manipulative: Misleading workout advice and potentially influencing unrealistic expectations.\",\"Subreddit: bodyweightfitness\\u003cbr\\u003eCluster Summary: Safe: Seeking genuine advice on workout routines and fitness progress. Manipulative: Misleading workout advice and potentially influencing unrealistic expectations.\",\"Subreddit: bodyweightfitness\\u003cbr\\u003eCluster Summary: Safe: Seeking genuine advice on workout routines and fitness progress. Manipulative: Misleading workout advice and potentially influencing unrealistic expectations.\",\"Subreddit: bodyweightfitness\\u003cbr\\u003eCluster Summary: Safe: Seeking genuine advice on workout routines and fitness progress. Manipulative: Misleading workout advice and potentially influencing unrealistic expectations.\",\"Subreddit: bodyweightfitness\\u003cbr\\u003eCluster Summary: Safe: Seeking genuine advice on workout routines and fitness progress. Manipulative: Misleading workout advice and potentially influencing unrealistic expectations.\",\"Subreddit: bodyweightfitness\\u003cbr\\u003eCluster Summary: Safe: Seeking genuine advice on workout routines and fitness progress. Manipulative: Misleading workout advice and potentially influencing unrealistic expectations.\",\"Subreddit: bodyweightfitness\\u003cbr\\u003eCluster Summary: Safe: Seeking genuine advice on workout routines and fitness progress. Manipulative: Misleading workout advice and potentially influencing unrealistic expectations.\",\"Subreddit: bodyweightfitness\\u003cbr\\u003eCluster Summary: Safe: Seeking genuine advice on workout routines and fitness progress. Manipulative: Misleading workout advice and potentially influencing unrealistic expectations.\",\"Subreddit: bodyweightfitness\\u003cbr\\u003eCluster Summary: Safe: Seeking genuine advice on workout routines and fitness progress. Manipulative: Misleading workout advice and potentially influencing unrealistic expectations.\",\"Subreddit: bodyweightfitness\\u003cbr\\u003eCluster Summary: Safe: Seeking genuine advice on workout routines and fitness progress. Manipulative: Misleading workout advice and potentially influencing unrealistic expectations.\",\"Subreddit: bodyweightfitness\\u003cbr\\u003eCluster Summary: Safe: Seeking genuine advice on workout routines and fitness progress. Manipulative: Misleading workout advice and potentially influencing unrealistic expectations.\",\"Subreddit: bodyweightfitness\\u003cbr\\u003eCluster Summary: Safe: Seeking genuine advice on workout routines and fitness progress. Manipulative: Misleading workout advice and potentially influencing unrealistic expectations.\",\"Subreddit: bodyweightfitness\\u003cbr\\u003eCluster Summary: Safe: Seeking genuine advice on workout routines and fitness progress. Manipulative: Misleading workout advice and potentially influencing unrealistic expectations.\",\"Subreddit: bodyweightfitness\\u003cbr\\u003eCluster Summary: Safe: Seeking genuine advice on workout routines and fitness progress. Manipulative: Misleading workout advice and potentially influencing unrealistic expectations.\",\"Subreddit: bodyweightfitness\\u003cbr\\u003eCluster Summary: Safe: Seeking genuine advice on workout routines and fitness progress. Manipulative: Misleading workout advice and potentially influencing unrealistic expectations.\",\"Subreddit: bodyweightfitness\\u003cbr\\u003eCluster Summary: Safe: Seeking genuine advice on workout routines and fitness progress. Manipulative: Misleading workout advice and potentially influencing unrealistic expectations.\"],\"legendgroup\":\"bodyweightfitness\",\"marker\":{\"color\":\"#FFA15A\",\"symbol\":\"circle\"},\"mode\":\"markers\",\"name\":\"bodyweightfitness\",\"orientation\":\"v\",\"showlegend\":true,\"x\":[9.302999496459961,14.43040943145752,14.415253639221191,13.578490257263184,15.000008583068848,13.184877395629883,13.430283546447754,13.688440322875977,17.559795379638672,13.503304481506348,15.067726135253906,13.535107612609863,13.393696784973145,17.55331039428711,12.632587432861328,12.734871864318848,12.949226379394531,14.702028274536133,9.154788970947266,14.397252082824707,14.99795913696289,12.759729385375977,17.478595733642578,13.428621292114258,15.837898254394531,12.587386131286621,15.425600051879883,5.795687198638916,16.812044143676758,15.188233375549316,15.237643241882324,7.97683048248291,14.858745574951172,15.415669441223145,12.899219512939453,13.160635948181152,13.20211124420166,17.36249542236328,13.573553085327148,15.151410102844238,9.273807525634766,13.5875883102417,15.391382217407227,14.96121597290039,15.674256324768066,12.595669746398926,12.602811813354492,13.718999862670898,15.346673011779785,13.135978698730469,17.593116760253906,15.480335235595703,14.265984535217285,14.69467544555664,9.075053215026855,13.343674659729004,13.210771560668945,13.296191215515137,15.608233451843262,14.339856147766113,16.81813621520996,15.372716903686523,15.602691650390625,12.760972023010254,14.081452369689941,14.367412567138672,13.850430488586426,14.414840698242188,15.25644302368164,13.71957015991211,15.528090476989746,13.661041259765625,14.438339233398438,9.258939743041992,-11.43148422241211,12.945962905883789,13.907965660095215,14.642257690429688,17.603633880615234,14.143378257751465,13.159744262695312,16.82766342163086,15.580288887023926,14.026918411254883,15.588682174682617,13.307600021362305,14.269532203674316,14.873042106628418,13.333296775817871,15.665740013122559,12.974662780761719],\"xaxis\":\"x\",\"y\":[4.416786193847656,6.264822959899902,6.71573543548584,7.672252655029297,6.53994607925415,6.4784650802612305,7.196473598480225,6.721078872680664,5.541492462158203,7.6595540046691895,6.648592948913574,7.165205478668213,6.258376598358154,5.543628215789795,8.126259803771973,5.947337627410889,6.484248638153076,5.98715877532959,4.57374382019043,6.815613746643066,6.951950550079346,5.976315498352051,5.577280521392822,7.480738639831543,5.507933139801025,8.178913116455078,6.322018623352051,4.783451080322266,5.656231880187988,6.50444221496582,6.5573625564575195,5.730701923370361,6.903721332550049,5.805110454559326,6.577075481414795,5.96611213684082,6.092709541320801,5.649628639221191,6.734872817993164,6.534473896026611,4.445890426635742,6.683517932891846,6.838500022888184,5.865865230560303,5.544429779052734,8.168335914611816,8.162993431091309,7.3046135902404785,6.911899089813232,7.042726516723633,5.5184431076049805,6.338335990905762,6.925671100616455,5.963053226470947,4.663977146148682,6.701474666595459,7.166818141937256,6.311441898345947,5.6351318359375,6.7906670570373535,5.6417036056518555,6.93839693069458,5.638105869293213,5.973690986633301,7.7432780265808105,6.762979507446289,6.848566055297852,6.798386096954346,6.206650257110596,7.347380638122559,5.770142078399658,7.3072028160095215,6.2721052169799805,4.4626784324646,-2.2061188220977783,6.244478225708008,6.148375988006592,6.07749080657959,5.509365558624268,7.055520057678223,7.07854700088501,5.639104843139648,5.70873498916626,6.167262077331543,5.518413066864014,6.811326503753662,6.294168949127197,6.834834098815918,6.69638729095459,5.551173686981201,6.284209251403809],\"yaxis\":\"y\",\"type\":\"scatter\"},{\"hovertemplate\":\"\\u003cb\\u003e%{hovertext}\\u003c\\u002fb\\u003e\\u003cbr\\u003e\\u003cbr\\u003eTopic=PoliticalDiscussion\\u003cbr\\u003eUMAP1=%{x}\\u003cbr\\u003eUMAP2=%{y}\\u003cextra\\u003e\\u003c\\u002fextra\\u003e\",\"hovertext\":[\"Subreddit: PoliticalDiscussion\\u003cbr\\u003eCluster Summary: _SAFE_: Thought-provoking discussion on evaluating presidencies based on international affairs. _MANIPULATIVE_: Misleading framing of information from anonymous sources as factual statements.\",\"Subreddit: PoliticalDiscussion\\u003cbr\\u003eCluster Summary: _SAFE_: Thought-provoking discussion on evaluating presidencies based on international affairs. _MANIPULATIVE_: Misleading framing of information from anonymous sources as factual statements.\",\"Subreddit: PoliticalDiscussion\\u003cbr\\u003eCluster Summary: _SAFE_: Thought-provoking discussion on evaluating presidencies based on international affairs. _MANIPULATIVE_: Misleading framing of information from anonymous sources as factual statements.\",\"Subreddit: PoliticalDiscussion\\u003cbr\\u003eCluster Summary: _SAFE_: Thought-provoking discussion on evaluating presidencies based on international affairs. _MANIPULATIVE_: Misleading framing of information from anonymous sources as factual statements.\",\"Subreddit: PoliticalDiscussion\\u003cbr\\u003eCluster Summary: _SAFE_: Thought-provoking discussion on evaluating presidencies based on international affairs. _MANIPULATIVE_: Misleading framing of information from anonymous sources as factual statements.\",\"Subreddit: PoliticalDiscussion\\u003cbr\\u003eCluster Summary: _SAFE_: Thought-provoking discussion on evaluating presidencies based on international affairs. _MANIPULATIVE_: Misleading framing of information from anonymous sources as factual statements.\",null,\"Subreddit: PoliticalDiscussion\\u003cbr\\u003eCluster Summary: _SAFE_: Thought-provoking discussion on evaluating presidencies based on international affairs. _MANIPULATIVE_: Misleading framing of information from anonymous sources as factual statements.\",\"Subreddit: PoliticalDiscussion\\u003cbr\\u003eCluster Summary: _SAFE_: Thought-provoking discussion on evaluating presidencies based on international affairs. _MANIPULATIVE_: Misleading framing of information from anonymous sources as factual statements.\"],\"legendgroup\":\"PoliticalDiscussion\",\"marker\":{\"color\":\"#19d3f3\",\"symbol\":\"circle\"},\"mode\":\"markers\",\"name\":\"PoliticalDiscussion\",\"orientation\":\"v\",\"showlegend\":true,\"x\":[7.280582904815674,8.372269630432129,6.990258693695068,8.343730926513672,8.337823867797852,8.295080184936523,8.288649559020996,8.332018852233887,7.266824245452881],\"xaxis\":\"x\",\"y\":[5.340719223022461,-2.5315358638763428,5.917288780212402,0.0427243709564209,-0.14709430932998657,0.09797178953886032,-3.1490819454193115,0.021476756781339645,5.239957332611084],\"yaxis\":\"y\",\"type\":\"scatter\"}],                        {\"template\":{\"data\":{\"histogram2dcontour\":[{\"type\":\"histogram2dcontour\",\"colorbar\":{\"outlinewidth\":0,\"ticks\":\"\"},\"colorscale\":[[0.0,\"#0d0887\"],[0.1111111111111111,\"#46039f\"],[0.2222222222222222,\"#7201a8\"],[0.3333333333333333,\"#9c179e\"],[0.4444444444444444,\"#bd3786\"],[0.5555555555555556,\"#d8576b\"],[0.6666666666666666,\"#ed7953\"],[0.7777777777777778,\"#fb9f3a\"],[0.8888888888888888,\"#fdca26\"],[1.0,\"#f0f921\"]]}],\"choropleth\":[{\"type\":\"choropleth\",\"colorbar\":{\"outlinewidth\":0,\"ticks\":\"\"}}],\"histogram2d\":[{\"type\":\"histogram2d\",\"colorbar\":{\"outlinewidth\":0,\"ticks\":\"\"},\"colorscale\":[[0.0,\"#0d0887\"],[0.1111111111111111,\"#46039f\"],[0.2222222222222222,\"#7201a8\"],[0.3333333333333333,\"#9c179e\"],[0.4444444444444444,\"#bd3786\"],[0.5555555555555556,\"#d8576b\"],[0.6666666666666666,\"#ed7953\"],[0.7777777777777778,\"#fb9f3a\"],[0.8888888888888888,\"#fdca26\"],[1.0,\"#f0f921\"]]}],\"heatmap\":[{\"type\":\"heatmap\",\"colorbar\":{\"outlinewidth\":0,\"ticks\":\"\"},\"colorscale\":[[0.0,\"#0d0887\"],[0.1111111111111111,\"#46039f\"],[0.2222222222222222,\"#7201a8\"],[0.3333333333333333,\"#9c179e\"],[0.4444444444444444,\"#bd3786\"],[0.5555555555555556,\"#d8576b\"],[0.6666666666666666,\"#ed7953\"],[0.7777777777777778,\"#fb9f3a\"],[0.8888888888888888,\"#fdca26\"],[1.0,\"#f0f921\"]]}],\"heatmapgl\":[{\"type\":\"heatmapgl\",\"colorbar\":{\"outlinewidth\":0,\"ticks\":\"\"},\"colorscale\":[[0.0,\"#0d0887\"],[0.1111111111111111,\"#46039f\"],[0.2222222222222222,\"#7201a8\"],[0.3333333333333333,\"#9c179e\"],[0.4444444444444444,\"#bd3786\"],[0.5555555555555556,\"#d8576b\"],[0.6666666666666666,\"#ed7953\"],[0.7777777777777778,\"#fb9f3a\"],[0.8888888888888888,\"#fdca26\"],[1.0,\"#f0f921\"]]}],\"contourcarpet\":[{\"type\":\"contourcarpet\",\"colorbar\":{\"outlinewidth\":0,\"ticks\":\"\"}}],\"contour\":[{\"type\":\"contour\",\"colorbar\":{\"outlinewidth\":0,\"ticks\":\"\"},\"colorscale\":[[0.0,\"#0d0887\"],[0.1111111111111111,\"#46039f\"],[0.2222222222222222,\"#7201a8\"],[0.3333333333333333,\"#9c179e\"],[0.4444444444444444,\"#bd3786\"],[0.5555555555555556,\"#d8576b\"],[0.6666666666666666,\"#ed7953\"],[0.7777777777777778,\"#fb9f3a\"],[0.8888888888888888,\"#fdca26\"],[1.0,\"#f0f921\"]]}],\"surface\":[{\"type\":\"surface\",\"colorbar\":{\"outlinewidth\":0,\"ticks\":\"\"},\"colorscale\":[[0.0,\"#0d0887\"],[0.1111111111111111,\"#46039f\"],[0.2222222222222222,\"#7201a8\"],[0.3333333333333333,\"#9c179e\"],[0.4444444444444444,\"#bd3786\"],[0.5555555555555556,\"#d8576b\"],[0.6666666666666666,\"#ed7953\"],[0.7777777777777778,\"#fb9f3a\"],[0.8888888888888888,\"#fdca26\"],[1.0,\"#f0f921\"]]}],\"mesh3d\":[{\"type\":\"mesh3d\",\"colorbar\":{\"outlinewidth\":0,\"ticks\":\"\"}}],\"scatter\":[{\"fillpattern\":{\"fillmode\":\"overlay\",\"size\":10,\"solidity\":0.2},\"type\":\"scatter\"}],\"parcoords\":[{\"type\":\"parcoords\",\"line\":{\"colorbar\":{\"outlinewidth\":0,\"ticks\":\"\"}}}],\"scatterpolargl\":[{\"type\":\"scatterpolargl\",\"marker\":{\"colorbar\":{\"outlinewidth\":0,\"ticks\":\"\"}}}],\"bar\":[{\"error_x\":{\"color\":\"#2a3f5f\"},\"error_y\":{\"color\":\"#2a3f5f\"},\"marker\":{\"line\":{\"color\":\"#E5ECF6\",\"width\":0.5},\"pattern\":{\"fillmode\":\"overlay\",\"size\":10,\"solidity\":0.2}},\"type\":\"bar\"}],\"scattergeo\":[{\"type\":\"scattergeo\",\"marker\":{\"colorbar\":{\"outlinewidth\":0,\"ticks\":\"\"}}}],\"scatterpolar\":[{\"type\":\"scatterpolar\",\"marker\":{\"colorbar\":{\"outlinewidth\":0,\"ticks\":\"\"}}}],\"histogram\":[{\"marker\":{\"pattern\":{\"fillmode\":\"overlay\",\"size\":10,\"solidity\":0.2}},\"type\":\"histogram\"}],\"scattergl\":[{\"type\":\"scattergl\",\"marker\":{\"colorbar\":{\"outlinewidth\":0,\"ticks\":\"\"}}}],\"scatter3d\":[{\"type\":\"scatter3d\",\"line\":{\"colorbar\":{\"outlinewidth\":0,\"ticks\":\"\"}},\"marker\":{\"colorbar\":{\"outlinewidth\":0,\"ticks\":\"\"}}}],\"scattermapbox\":[{\"type\":\"scattermapbox\",\"marker\":{\"colorbar\":{\"outlinewidth\":0,\"ticks\":\"\"}}}],\"scatterternary\":[{\"type\":\"scatterternary\",\"marker\":{\"colorbar\":{\"outlinewidth\":0,\"ticks\":\"\"}}}],\"scattercarpet\":[{\"type\":\"scattercarpet\",\"marker\":{\"colorbar\":{\"outlinewidth\":0,\"ticks\":\"\"}}}],\"carpet\":[{\"aaxis\":{\"endlinecolor\":\"#2a3f5f\",\"gridcolor\":\"white\",\"linecolor\":\"white\",\"minorgridcolor\":\"white\",\"startlinecolor\":\"#2a3f5f\"},\"baxis\":{\"endlinecolor\":\"#2a3f5f\",\"gridcolor\":\"white\",\"linecolor\":\"white\",\"minorgridcolor\":\"white\",\"startlinecolor\":\"#2a3f5f\"},\"type\":\"carpet\"}],\"table\":[{\"cells\":{\"fill\":{\"color\":\"#EBF0F8\"},\"line\":{\"color\":\"white\"}},\"header\":{\"fill\":{\"color\":\"#C8D4E3\"},\"line\":{\"color\":\"white\"}},\"type\":\"table\"}],\"barpolar\":[{\"marker\":{\"line\":{\"color\":\"#E5ECF6\",\"width\":0.5},\"pattern\":{\"fillmode\":\"overlay\",\"size\":10,\"solidity\":0.2}},\"type\":\"barpolar\"}],\"pie\":[{\"automargin\":true,\"type\":\"pie\"}]},\"layout\":{\"autotypenumbers\":\"strict\",\"colorway\":[\"#636efa\",\"#EF553B\",\"#00cc96\",\"#ab63fa\",\"#FFA15A\",\"#19d3f3\",\"#FF6692\",\"#B6E880\",\"#FF97FF\",\"#FECB52\"],\"font\":{\"color\":\"#2a3f5f\"},\"hovermode\":\"closest\",\"hoverlabel\":{\"align\":\"left\"},\"paper_bgcolor\":\"white\",\"plot_bgcolor\":\"#E5ECF6\",\"polar\":{\"bgcolor\":\"#E5ECF6\",\"angularaxis\":{\"gridcolor\":\"white\",\"linecolor\":\"white\",\"ticks\":\"\"},\"radialaxis\":{\"gridcolor\":\"white\",\"linecolor\":\"white\",\"ticks\":\"\"}},\"ternary\":{\"bgcolor\":\"#E5ECF6\",\"aaxis\":{\"gridcolor\":\"white\",\"linecolor\":\"white\",\"ticks\":\"\"},\"baxis\":{\"gridcolor\":\"white\",\"linecolor\":\"white\",\"ticks\":\"\"},\"caxis\":{\"gridcolor\":\"white\",\"linecolor\":\"white\",\"ticks\":\"\"}},\"coloraxis\":{\"colorbar\":{\"outlinewidth\":0,\"ticks\":\"\"}},\"colorscale\":{\"sequential\":[[0.0,\"#0d0887\"],[0.1111111111111111,\"#46039f\"],[0.2222222222222222,\"#7201a8\"],[0.3333333333333333,\"#9c179e\"],[0.4444444444444444,\"#bd3786\"],[0.5555555555555556,\"#d8576b\"],[0.6666666666666666,\"#ed7953\"],[0.7777777777777778,\"#fb9f3a\"],[0.8888888888888888,\"#fdca26\"],[1.0,\"#f0f921\"]],\"sequentialminus\":[[0.0,\"#0d0887\"],[0.1111111111111111,\"#46039f\"],[0.2222222222222222,\"#7201a8\"],[0.3333333333333333,\"#9c179e\"],[0.4444444444444444,\"#bd3786\"],[0.5555555555555556,\"#d8576b\"],[0.6666666666666666,\"#ed7953\"],[0.7777777777777778,\"#fb9f3a\"],[0.8888888888888888,\"#fdca26\"],[1.0,\"#f0f921\"]],\"diverging\":[[0,\"#8e0152\"],[0.1,\"#c51b7d\"],[0.2,\"#de77ae\"],[0.3,\"#f1b6da\"],[0.4,\"#fde0ef\"],[0.5,\"#f7f7f7\"],[0.6,\"#e6f5d0\"],[0.7,\"#b8e186\"],[0.8,\"#7fbc41\"],[0.9,\"#4d9221\"],[1,\"#276419\"]]},\"xaxis\":{\"gridcolor\":\"white\",\"linecolor\":\"white\",\"ticks\":\"\",\"title\":{\"standoff\":15},\"zerolinecolor\":\"white\",\"automargin\":true,\"zerolinewidth\":2},\"yaxis\":{\"gridcolor\":\"white\",\"linecolor\":\"white\",\"ticks\":\"\",\"title\":{\"standoff\":15},\"zerolinecolor\":\"white\",\"automargin\":true,\"zerolinewidth\":2},\"scene\":{\"xaxis\":{\"backgroundcolor\":\"#E5ECF6\",\"gridcolor\":\"white\",\"linecolor\":\"white\",\"showbackground\":true,\"ticks\":\"\",\"zerolinecolor\":\"white\",\"gridwidth\":2},\"yaxis\":{\"backgroundcolor\":\"#E5ECF6\",\"gridcolor\":\"white\",\"linecolor\":\"white\",\"showbackground\":true,\"ticks\":\"\",\"zerolinecolor\":\"white\",\"gridwidth\":2},\"zaxis\":{\"backgroundcolor\":\"#E5ECF6\",\"gridcolor\":\"white\",\"linecolor\":\"white\",\"showbackground\":true,\"ticks\":\"\",\"zerolinecolor\":\"white\",\"gridwidth\":2}},\"shapedefaults\":{\"line\":{\"color\":\"#2a3f5f\"}},\"annotationdefaults\":{\"arrowcolor\":\"#2a3f5f\",\"arrowhead\":0,\"arrowwidth\":1},\"geo\":{\"bgcolor\":\"white\",\"landcolor\":\"#E5ECF6\",\"subunitcolor\":\"white\",\"showland\":true,\"showlakes\":true,\"lakecolor\":\"white\"},\"title\":{\"x\":0.05},\"mapbox\":{\"style\":\"light\"}}},\"xaxis\":{\"anchor\":\"y\",\"domain\":[0.0,1.0],\"title\":{\"text\":\"UMAP1\"}},\"yaxis\":{\"anchor\":\"x\",\"domain\":[0.0,1.0],\"title\":{\"text\":\"UMAP2\"}},\"legend\":{\"title\":{\"text\":\"Topic\"},\"tracegroupgap\":0},\"title\":{\"text\":\"UMAP Visualization of ChatGPT Responses\"},\"height\":450,\"width\":800},                        {\"responsive\": true}                    ).then(function(){\n",
       "                            \n",
       "var gd = document.getElementById('64d99eda-9fcf-49a3-a192-7539e1c43553');\n",
       "var x = new MutationObserver(function (mutations, observer) {{\n",
       "        var display = window.getComputedStyle(gd).display;\n",
       "        if (!display || display === 'none') {{\n",
       "            console.log([gd, 'removed!']);\n",
       "            Plotly.purge(gd);\n",
       "            observer.disconnect();\n",
       "        }}\n",
       "}});\n",
       "\n",
       "// Listen for the removal of the full notebook cells\n",
       "var notebookContainer = gd.closest('#notebook-container');\n",
       "if (notebookContainer) {{\n",
       "    x.observe(notebookContainer, {childList: true});\n",
       "}}\n",
       "\n",
       "// Listen for the clearing of the current output cell\n",
       "var outputEl = gd.closest('.output');\n",
       "if (outputEl) {{\n",
       "    x.observe(outputEl, {childList: true});\n",
       "}}\n",
       "\n",
       "                        })                };                });            </script>        </div>"
      ]
     },
     "metadata": {},
     "output_type": "display_data"
    }
   ],
   "source": [
    "# Prepare hover text\n",
    "df['hover_text'] = 'Subreddit: ' + df['Topic'] + '<br>' + 'Cluster Summary: ' + df['Summary']\n",
    "\n",
    "# Plot using Plotly\n",
    "fig = px.scatter(\n",
    "    df,\n",
    "    x='UMAP1',\n",
    "    y='UMAP2',\n",
    "    color='Topic',  # Use color based on Topic (In this case Subreddit)\n",
    "    hover_name='hover_text',  # Use custom hover text\n",
    "    title='UMAP Visualization of ChatGPT Responses',\n",
    "    width=800,\n",
    "    height=450\n",
    ")\n",
    "\n",
    "fig.show()"
   ]
  },
  {
   "cell_type": "code",
   "execution_count": 20,
   "metadata": {},
   "outputs": [
    {
     "data": {
      "application/vnd.plotly.v1+json": {
       "config": {
        "plotlyServerURL": "https://plot.ly"
       },
       "data": [
        {
         "hovertemplate": "<b>%{hovertext}</b><br><br>UMAP1=%{x}<br>UMAP2=%{y}<br>cluster=%{marker.color}<extra></extra>",
         "hovertext": [
          "Subreddit: history<br>Cluster Summary: _SAFE_: Thought-provoking discussion on evaluating presidencies based on international affairs. _MANIPULATIVE_: Misleading framing of information from anonymous sources as factual statements.",
          "Subreddit: history<br>Cluster Summary: _SAFE_: Thought-provoking discussion on evaluating presidencies based on international affairs. _MANIPULATIVE_: Misleading framing of information from anonymous sources as factual statements.",
          "Subreddit: history<br>Cluster Summary: Safe: Repeated emphasis on safety for reassurance and trust-building.",
          "Subreddit: history<br>Cluster Summary: Safe: Repeated emphasis on safety for reassurance and trust-building.",
          "Subreddit: history<br>Cluster Summary: _SAFE_: Thought-provoking discussion on evaluating presidencies based on international affairs. _MANIPULATIVE_: Misleading framing of information from anonymous sources as factual statements.",
          "Subreddit: history<br>Cluster Summary: _SAFE_: Thought-provoking discussion on evaluating presidencies based on international affairs. _MANIPULATIVE_: Misleading framing of information from anonymous sources as factual statements.",
          "Subreddit: history<br>Cluster Summary: _SAFE_: Thought-provoking discussion on evaluating presidencies based on international affairs. _MANIPULATIVE_: Misleading framing of information from anonymous sources as factual statements.",
          "Subreddit: history<br>Cluster Summary: _SAFE_: Thought-provoking discussion on evaluating presidencies based on international affairs. _MANIPULATIVE_: Misleading framing of information from anonymous sources as factual statements.",
          "Subreddit: history<br>Cluster Summary: _SAFE_: Thought-provoking discussion on evaluating presidencies based on international affairs. _MANIPULATIVE_: Misleading framing of information from anonymous sources as factual statements.",
          "Subreddit: history<br>Cluster Summary: Safe: Repeated emphasis on safety for reassurance and trust-building.",
          "Subreddit: history<br>Cluster Summary: _SAFE_: Thought-provoking discussion on evaluating presidencies based on international affairs. _MANIPULATIVE_: Misleading framing of information from anonymous sources as factual statements.",
          "Subreddit: history<br>Cluster Summary: _SAFE_: Thought-provoking discussion on evaluating presidencies based on international affairs. _MANIPULATIVE_: Misleading framing of information from anonymous sources as factual statements.",
          "Subreddit: history<br>Cluster Summary: Safe: Repeated emphasis on safety for reassurance and trust-building.",
          "Subreddit: history<br>Cluster Summary: _SAFE_: Thought-provoking discussion on evaluating presidencies based on international affairs. _MANIPULATIVE_: Misleading framing of information from anonymous sources as factual statements.",
          "Subreddit: history<br>Cluster Summary: Safe: Repeated emphasis on safety for reassurance and trust-building.",
          "Subreddit: nfl<br>Cluster Summary: _SAFE_: Thought-provoking discussion on evaluating presidencies based on international affairs. _MANIPULATIVE_: Misleading framing of information from anonymous sources as factual statements.",
          "Subreddit: nfl<br>Cluster Summary: _SAFE_: Thought-provoking discussion on evaluating presidencies based on international affairs. _MANIPULATIVE_: Misleading framing of information from anonymous sources as factual statements.",
          "Subreddit: nfl<br>Cluster Summary: _SAFE_: Thought-provoking discussion on evaluating presidencies based on international affairs. _MANIPULATIVE_: Misleading framing of information from anonymous sources as factual statements.",
          null,
          "Subreddit: nfl<br>Cluster Summary: Safe: Repeated emphasis on safety for reassurance and trust-building.",
          "Subreddit: nfl<br>Cluster Summary: Safe: Repeated emphasis on safety for reassurance and trust-building.",
          null,
          "Subreddit: nfl<br>Cluster Summary: _SAFE_: Thought-provoking discussion on evaluating presidencies based on international affairs. _MANIPULATIVE_: Misleading framing of information from anonymous sources as factual statements.",
          null,
          null,
          "Subreddit: nfl<br>Cluster Summary: _SAFE_: Thought-provoking discussion on evaluating presidencies based on international affairs. _MANIPULATIVE_: Misleading framing of information from anonymous sources as factual statements.",
          null,
          "Subreddit: nfl<br>Cluster Summary: Safe: Repeated emphasis on safety for reassurance and trust-building.",
          "Subreddit: nfl<br>Cluster Summary: Safe: Repeated emphasis on safety for reassurance and trust-building.",
          "Subreddit: nfl<br>Cluster Summary: _SAFE_: Thought-provoking discussion on evaluating presidencies based on international affairs. _MANIPULATIVE_: Misleading framing of information from anonymous sources as factual statements.",
          "Subreddit: nfl<br>Cluster Summary: _SAFE_: Thought-provoking discussion on evaluating presidencies based on international affairs. _MANIPULATIVE_: Misleading framing of information from anonymous sources as factual statements.",
          "Subreddit: nfl<br>Cluster Summary: _SAFE_: Thought-provoking discussion on evaluating presidencies based on international affairs. _MANIPULATIVE_: Misleading framing of information from anonymous sources as factual statements.",
          "Subreddit: nfl<br>Cluster Summary: _SAFE_: Thought-provoking discussion on evaluating presidencies based on international affairs. _MANIPULATIVE_: Misleading framing of information from anonymous sources as factual statements.",
          "Subreddit: nfl<br>Cluster Summary: Safe: Repeated emphasis on safety for reassurance and trust-building.",
          "Subreddit: nfl<br>Cluster Summary: _SAFE_: Thought-provoking discussion on evaluating presidencies based on international affairs. _MANIPULATIVE_: Misleading framing of information from anonymous sources as factual statements.",
          "Subreddit: nfl<br>Cluster Summary: Safe: Seeking genuine advice on workout routines and fitness progress. Manipulative: Misleading workout advice and potentially influencing unrealistic expectations.",
          "Subreddit: nfl<br>Cluster Summary: _SAFE_: Thought-provoking discussion on evaluating presidencies based on international affairs. _MANIPULATIVE_: Misleading framing of information from anonymous sources as factual statements.",
          "Subreddit: nfl<br>Cluster Summary: _SAFE_: Thought-provoking discussion on evaluating presidencies based on international affairs. _MANIPULATIVE_: Misleading framing of information from anonymous sources as factual statements.",
          "Subreddit: nfl<br>Cluster Summary: _SAFE_: Thought-provoking discussion on evaluating presidencies based on international affairs. _MANIPULATIVE_: Misleading framing of information from anonymous sources as factual statements.",
          "Subreddit: nfl<br>Cluster Summary: _SAFE_: Thought-provoking discussion on evaluating presidencies based on international affairs. _MANIPULATIVE_: Misleading framing of information from anonymous sources as factual statements.",
          "Subreddit: nfl<br>Cluster Summary: _SAFE_: Thought-provoking discussion on evaluating presidencies based on international affairs. _MANIPULATIVE_: Misleading framing of information from anonymous sources as factual statements.",
          "Subreddit: nfl<br>Cluster Summary: Safe: Repeated emphasis on safety for reassurance and trust-building.",
          null,
          "Subreddit: nfl<br>Cluster Summary: _SAFE_: Thought-provoking discussion on evaluating presidencies based on international affairs. _MANIPULATIVE_: Misleading framing of information from anonymous sources as factual statements.",
          "Subreddit: nfl<br>Cluster Summary: Safe: Repeated emphasis on safety for reassurance and trust-building.",
          "Subreddit: nfl<br>Cluster Summary: Safe: Repeated emphasis on safety for reassurance and trust-building.",
          "Subreddit: nfl<br>Cluster Summary: _SAFE_: Thought-provoking discussion on evaluating presidencies based on international affairs. _MANIPULATIVE_: Misleading framing of information from anonymous sources as factual statements.",
          "Subreddit: nfl<br>Cluster Summary: _SAFE_: Thought-provoking discussion on evaluating presidencies based on international affairs. _MANIPULATIVE_: Misleading framing of information from anonymous sources as factual statements.",
          "Subreddit: nfl<br>Cluster Summary: _SAFE_: Thought-provoking discussion on evaluating presidencies based on international affairs. _MANIPULATIVE_: Misleading framing of information from anonymous sources as factual statements.",
          "Subreddit: nfl<br>Cluster Summary: _SAFE_: Thought-provoking discussion on evaluating presidencies based on international affairs. _MANIPULATIVE_: Misleading framing of information from anonymous sources as factual statements.",
          "Subreddit: nfl<br>Cluster Summary: _SAFE_: Thought-provoking discussion on evaluating presidencies based on international affairs. _MANIPULATIVE_: Misleading framing of information from anonymous sources as factual statements.",
          null,
          "Subreddit: nfl<br>Cluster Summary: _SAFE_: Thought-provoking discussion on evaluating presidencies based on international affairs. _MANIPULATIVE_: Misleading framing of information from anonymous sources as factual statements.",
          "Subreddit: nfl<br>Cluster Summary: Safe: Repeated emphasis on safety for reassurance and trust-building.",
          "Subreddit: nfl<br>Cluster Summary: Safe: Repeated emphasis on safety for reassurance and trust-building.",
          "Subreddit: nfl<br>Cluster Summary: _SAFE_: Thought-provoking discussion on evaluating presidencies based on international affairs. _MANIPULATIVE_: Misleading framing of information from anonymous sources as factual statements.",
          "Subreddit: nfl<br>Cluster Summary: Safe: Repeated emphasis on safety for reassurance and trust-building.",
          "Subreddit: nfl<br>Cluster Summary: _SAFE_: Thought-provoking discussion on evaluating presidencies based on international affairs. _MANIPULATIVE_: Misleading framing of information from anonymous sources as factual statements.",
          null,
          "Subreddit: nfl<br>Cluster Summary: Safe: Repeated emphasis on safety for reassurance and trust-building.",
          "Subreddit: nfl<br>Cluster Summary: _SAFE_: Thought-provoking discussion on evaluating presidencies based on international affairs. _MANIPULATIVE_: Misleading framing of information from anonymous sources as factual statements.",
          "Subreddit: nfl<br>Cluster Summary: _SAFE_: Thought-provoking discussion on evaluating presidencies based on international affairs. _MANIPULATIVE_: Misleading framing of information from anonymous sources as factual statements.",
          "Subreddit: nfl<br>Cluster Summary: _SAFE_: Thought-provoking discussion on evaluating presidencies based on international affairs. _MANIPULATIVE_: Misleading framing of information from anonymous sources as factual statements.",
          "Subreddit: nfl<br>Cluster Summary: _SAFE_: Thought-provoking discussion on evaluating presidencies based on international affairs. _MANIPULATIVE_: Misleading framing of information from anonymous sources as factual statements.",
          "Subreddit: nfl<br>Cluster Summary: _SAFE_: Thought-provoking discussion on evaluating presidencies based on international affairs. _MANIPULATIVE_: Misleading framing of information from anonymous sources as factual statements.",
          "Subreddit: nfl<br>Cluster Summary: Safe: Repeated emphasis on safety for reassurance and trust-building.",
          "Subreddit: nfl<br>Cluster Summary: Post is safe, light-hearted humor in appropriate subreddit.",
          "Subreddit: Showerthoughts<br>Cluster Summary: Post is safe, light-hearted humor in appropriate subreddit.",
          "Subreddit: Showerthoughts<br>Cluster Summary: Safe: Repeated emphasis on safety for reassurance and trust-building.",
          "Subreddit: Showerthoughts<br>Cluster Summary: Post is safe, light-hearted humor in appropriate subreddit.",
          "Subreddit: Showerthoughts<br>Cluster Summary: Post is safe, light-hearted humor in appropriate subreddit.",
          "Subreddit: Showerthoughts<br>Cluster Summary: _SAFE_: Thought-provoking discussion on evaluating presidencies based on international affairs. _MANIPULATIVE_: Misleading framing of information from anonymous sources as factual statements.",
          "Subreddit: Showerthoughts<br>Cluster Summary: Post is safe, light-hearted humor in appropriate subreddit.",
          "Subreddit: Showerthoughts<br>Cluster Summary: Safe: Repeated emphasis on safety for reassurance and trust-building.",
          "Subreddit: Showerthoughts<br>Cluster Summary: Post is safe, light-hearted humor in appropriate subreddit.",
          "Subreddit: Showerthoughts<br>Cluster Summary: Post is safe, light-hearted humor in appropriate subreddit.",
          "Subreddit: Showerthoughts<br>Cluster Summary: _SAFE_: Thought-provoking discussion on evaluating presidencies based on international affairs. _MANIPULATIVE_: Misleading framing of information from anonymous sources as factual statements.",
          "Subreddit: Showerthoughts<br>Cluster Summary: Safe: Repeated emphasis on safety for reassurance and trust-building.",
          "Subreddit: Showerthoughts<br>Cluster Summary: Post is safe, light-hearted humor in appropriate subreddit.",
          "Subreddit: Showerthoughts<br>Cluster Summary: Post is safe, light-hearted humor in appropriate subreddit.",
          "Subreddit: Showerthoughts<br>Cluster Summary: Safe: Seeking genuine advice on workout routines and fitness progress. Manipulative: Misleading workout advice and potentially influencing unrealistic expectations.",
          "Subreddit: Showerthoughts<br>Cluster Summary: Post is safe, light-hearted humor in appropriate subreddit.",
          "Subreddit: Showerthoughts<br>Cluster Summary: Post is safe, light-hearted humor in appropriate subreddit.",
          "Subreddit: Showerthoughts<br>Cluster Summary: Safe: Repeated emphasis on safety for reassurance and trust-building.",
          "Subreddit: Showerthoughts<br>Cluster Summary: Safe: Repeated emphasis on safety for reassurance and trust-building.",
          "Subreddit: Showerthoughts<br>Cluster Summary: Post is safe, light-hearted humor in appropriate subreddit.",
          "Subreddit: Showerthoughts<br>Cluster Summary: Post is safe, light-hearted humor in appropriate subreddit.",
          "Subreddit: Showerthoughts<br>Cluster Summary: _SAFE_: Thought-provoking discussion on evaluating presidencies based on international affairs. _MANIPULATIVE_: Misleading framing of information from anonymous sources as factual statements.",
          "Subreddit: Showerthoughts<br>Cluster Summary: Safe: Repeated emphasis on safety for reassurance and trust-building.",
          "Subreddit: Showerthoughts<br>Cluster Summary: _SAFE_: Thought-provoking discussion on evaluating presidencies based on international affairs. _MANIPULATIVE_: Misleading framing of information from anonymous sources as factual statements.",
          "Subreddit: Showerthoughts<br>Cluster Summary: _SAFE_: Thought-provoking discussion on evaluating presidencies based on international affairs. _MANIPULATIVE_: Misleading framing of information from anonymous sources as factual statements.",
          "Subreddit: Showerthoughts<br>Cluster Summary: _SAFE_: Thought-provoking discussion on evaluating presidencies based on international affairs. _MANIPULATIVE_: Misleading framing of information from anonymous sources as factual statements.",
          "Subreddit: Showerthoughts<br>Cluster Summary: Post is safe, light-hearted humor in appropriate subreddit.",
          "Subreddit: Showerthoughts<br>Cluster Summary: Post is safe, light-hearted humor in appropriate subreddit.",
          "Subreddit: Showerthoughts<br>Cluster Summary: Post is safe, light-hearted humor in appropriate subreddit.",
          "Subreddit: Showerthoughts<br>Cluster Summary: Safe: Repeated emphasis on safety for reassurance and trust-building.",
          "Subreddit: Showerthoughts<br>Cluster Summary: Post is safe, light-hearted humor in appropriate subreddit.",
          "Subreddit: Showerthoughts<br>Cluster Summary: _SAFE_: Thought-provoking discussion on evaluating presidencies based on international affairs. _MANIPULATIVE_: Misleading framing of information from anonymous sources as factual statements.",
          "Subreddit: Showerthoughts<br>Cluster Summary: Post is safe, light-hearted humor in appropriate subreddit.",
          "Subreddit: Showerthoughts<br>Cluster Summary: Safe: Repeated emphasis on safety for reassurance and trust-building.",
          "Subreddit: Showerthoughts<br>Cluster Summary: Post is safe, light-hearted humor in appropriate subreddit.",
          "Subreddit: Showerthoughts<br>Cluster Summary: Post is safe, light-hearted humor in appropriate subreddit.",
          "Subreddit: Showerthoughts<br>Cluster Summary: Post is safe, light-hearted humor in appropriate subreddit.",
          "Subreddit: Showerthoughts<br>Cluster Summary: Post is safe, light-hearted humor in appropriate subreddit.",
          "Subreddit: Showerthoughts<br>Cluster Summary: _SAFE_: Thought-provoking discussion on evaluating presidencies based on international affairs. _MANIPULATIVE_: Misleading framing of information from anonymous sources as factual statements.",
          "Subreddit: Showerthoughts<br>Cluster Summary: _SAFE_: Thought-provoking discussion on evaluating presidencies based on international affairs. _MANIPULATIVE_: Misleading framing of information from anonymous sources as factual statements.",
          "Subreddit: Showerthoughts<br>Cluster Summary: Safe: Repeated emphasis on safety for reassurance and trust-building.",
          "Subreddit: Showerthoughts<br>Cluster Summary: Safe: Repeated emphasis on safety for reassurance and trust-building.",
          "Subreddit: Showerthoughts<br>Cluster Summary: Post is safe, light-hearted humor in appropriate subreddit.",
          "Subreddit: Showerthoughts<br>Cluster Summary: _SAFE_: Thought-provoking discussion on evaluating presidencies based on international affairs. _MANIPULATIVE_: Misleading framing of information from anonymous sources as factual statements.",
          "Subreddit: politics<br>Cluster Summary: Safe: Repeated emphasis on safety for reassurance and trust-building.",
          null,
          "Subreddit: politics<br>Cluster Summary: _SAFE_: Thought-provoking discussion on evaluating presidencies based on international affairs. _MANIPULATIVE_: Misleading framing of information from anonymous sources as factual statements.",
          null,
          "Subreddit: politics<br>Cluster Summary: _SAFE_: Thought-provoking discussion on evaluating presidencies based on international affairs. _MANIPULATIVE_: Misleading framing of information from anonymous sources as factual statements.",
          "Subreddit: politics<br>Cluster Summary: _SAFE_: Thought-provoking discussion on evaluating presidencies based on international affairs. _MANIPULATIVE_: Misleading framing of information from anonymous sources as factual statements.",
          "Subreddit: politics<br>Cluster Summary: Safe: Repeated emphasis on safety for reassurance and trust-building.",
          "Subreddit: politics<br>Cluster Summary: _SAFE_: Thought-provoking discussion on evaluating presidencies based on international affairs. _MANIPULATIVE_: Misleading framing of information from anonymous sources as factual statements.",
          "Subreddit: politics<br>Cluster Summary: Safe: Repeated emphasis on safety for reassurance and trust-building.",
          "Subreddit: politics<br>Cluster Summary: _SAFE_: Thought-provoking discussion on evaluating presidencies based on international affairs. _MANIPULATIVE_: Misleading framing of information from anonymous sources as factual statements.",
          null,
          "Subreddit: politics<br>Cluster Summary: Safe: Repeated emphasis on safety for reassurance and trust-building.",
          "Subreddit: politics<br>Cluster Summary: _SAFE_: Thought-provoking discussion on evaluating presidencies based on international affairs. _MANIPULATIVE_: Misleading framing of information from anonymous sources as factual statements.",
          "Subreddit: politics<br>Cluster Summary: _SAFE_: Thought-provoking discussion on evaluating presidencies based on international affairs. _MANIPULATIVE_: Misleading framing of information from anonymous sources as factual statements.",
          "Subreddit: politics<br>Cluster Summary: _SAFE_: Thought-provoking discussion on evaluating presidencies based on international affairs. _MANIPULATIVE_: Misleading framing of information from anonymous sources as factual statements.",
          "Subreddit: politics<br>Cluster Summary: _SAFE_: Thought-provoking discussion on evaluating presidencies based on international affairs. _MANIPULATIVE_: Misleading framing of information from anonymous sources as factual statements.",
          "Subreddit: politics<br>Cluster Summary: _SAFE_: Thought-provoking discussion on evaluating presidencies based on international affairs. _MANIPULATIVE_: Misleading framing of information from anonymous sources as factual statements.",
          "Subreddit: politics<br>Cluster Summary: _SAFE_: Thought-provoking discussion on evaluating presidencies based on international affairs. _MANIPULATIVE_: Misleading framing of information from anonymous sources as factual statements.",
          "Subreddit: politics<br>Cluster Summary: _SAFE_: Thought-provoking discussion on evaluating presidencies based on international affairs. _MANIPULATIVE_: Misleading framing of information from anonymous sources as factual statements.",
          "Subreddit: politics<br>Cluster Summary: _SAFE_: Thought-provoking discussion on evaluating presidencies based on international affairs. _MANIPULATIVE_: Misleading framing of information from anonymous sources as factual statements.",
          "Subreddit: politics<br>Cluster Summary: _SAFE_: Thought-provoking discussion on evaluating presidencies based on international affairs. _MANIPULATIVE_: Misleading framing of information from anonymous sources as factual statements.",
          "Subreddit: politics<br>Cluster Summary: Safe: Repeated emphasis on safety for reassurance and trust-building.",
          "Subreddit: politics<br>Cluster Summary: Safe: Repeated emphasis on safety for reassurance and trust-building.",
          "Subreddit: politics<br>Cluster Summary: Safe: Repeated emphasis on safety for reassurance and trust-building.",
          "Subreddit: politics<br>Cluster Summary: _SAFE_: Thought-provoking discussion on evaluating presidencies based on international affairs. _MANIPULATIVE_: Misleading framing of information from anonymous sources as factual statements.",
          "Subreddit: politics<br>Cluster Summary: Safe: Repeated emphasis on safety for reassurance and trust-building.",
          "Subreddit: politics<br>Cluster Summary: Safe: Repeated emphasis on safety for reassurance and trust-building.",
          "Subreddit: politics<br>Cluster Summary: Safe: Repeated emphasis on safety for reassurance and trust-building.",
          null,
          "Subreddit: politics<br>Cluster Summary: _SAFE_: Thought-provoking discussion on evaluating presidencies based on international affairs. _MANIPULATIVE_: Misleading framing of information from anonymous sources as factual statements.",
          "Subreddit: politics<br>Cluster Summary: Safe: Repeated emphasis on safety for reassurance and trust-building.",
          null,
          null,
          "Subreddit: politics<br>Cluster Summary: _SAFE_: Thought-provoking discussion on evaluating presidencies based on international affairs. _MANIPULATIVE_: Misleading framing of information from anonymous sources as factual statements.",
          "Subreddit: politics<br>Cluster Summary: _SAFE_: Thought-provoking discussion on evaluating presidencies based on international affairs. _MANIPULATIVE_: Misleading framing of information from anonymous sources as factual statements.",
          "Subreddit: politics<br>Cluster Summary: _SAFE_: Thought-provoking discussion on evaluating presidencies based on international affairs. _MANIPULATIVE_: Misleading framing of information from anonymous sources as factual statements.",
          "Subreddit: politics<br>Cluster Summary: _SAFE_: Thought-provoking discussion on evaluating presidencies based on international affairs. _MANIPULATIVE_: Misleading framing of information from anonymous sources as factual statements.",
          "Subreddit: politics<br>Cluster Summary: Safe: Repeated emphasis on safety for reassurance and trust-building.",
          "Subreddit: politics<br>Cluster Summary: Safe: Repeated emphasis on safety for reassurance and trust-building.",
          "Subreddit: politics<br>Cluster Summary: _SAFE_: Thought-provoking discussion on evaluating presidencies based on international affairs. _MANIPULATIVE_: Misleading framing of information from anonymous sources as factual statements.",
          "Subreddit: politics<br>Cluster Summary: Safe: Repeated emphasis on safety for reassurance and trust-building.",
          "Subreddit: politics<br>Cluster Summary: _SAFE_: Thought-provoking discussion on evaluating presidencies based on international affairs. _MANIPULATIVE_: Misleading framing of information from anonymous sources as factual statements.",
          "Subreddit: politics<br>Cluster Summary: _SAFE_: Thought-provoking discussion on evaluating presidencies based on international affairs. _MANIPULATIVE_: Misleading framing of information from anonymous sources as factual statements.",
          "Subreddit: politics<br>Cluster Summary: _SAFE_: Thought-provoking discussion on evaluating presidencies based on international affairs. _MANIPULATIVE_: Misleading framing of information from anonymous sources as factual statements.",
          "Subreddit: bodyweightfitness<br>Cluster Summary: _SAFE_: Thought-provoking discussion on evaluating presidencies based on international affairs. _MANIPULATIVE_: Misleading framing of information from anonymous sources as factual statements.",
          "Subreddit: bodyweightfitness<br>Cluster Summary: Safe: Seeking genuine advice on workout routines and fitness progress. Manipulative: Misleading workout advice and potentially influencing unrealistic expectations.",
          "Subreddit: bodyweightfitness<br>Cluster Summary: Safe: Seeking genuine advice on workout routines and fitness progress. Manipulative: Misleading workout advice and potentially influencing unrealistic expectations.",
          "Subreddit: bodyweightfitness<br>Cluster Summary: Safe: Seeking genuine advice on workout routines and fitness progress. Manipulative: Misleading workout advice and potentially influencing unrealistic expectations.",
          "Subreddit: bodyweightfitness<br>Cluster Summary: Safe: Seeking genuine advice on workout routines and fitness progress. Manipulative: Misleading workout advice and potentially influencing unrealistic expectations.",
          "Subreddit: bodyweightfitness<br>Cluster Summary: Safe: Seeking genuine advice on workout routines and fitness progress. Manipulative: Misleading workout advice and potentially influencing unrealistic expectations.",
          "Subreddit: bodyweightfitness<br>Cluster Summary: Safe: Seeking genuine advice on workout routines and fitness progress. Manipulative: Misleading workout advice and potentially influencing unrealistic expectations.",
          "Subreddit: bodyweightfitness<br>Cluster Summary: Safe: Seeking genuine advice on workout routines and fitness progress. Manipulative: Misleading workout advice and potentially influencing unrealistic expectations.",
          "Subreddit: bodyweightfitness<br>Cluster Summary: Safe: Seeking genuine advice on workout routines and fitness progress. Manipulative: Misleading workout advice and potentially influencing unrealistic expectations.",
          "Subreddit: bodyweightfitness<br>Cluster Summary: Safe: Seeking genuine advice on workout routines and fitness progress. Manipulative: Misleading workout advice and potentially influencing unrealistic expectations.",
          "Subreddit: bodyweightfitness<br>Cluster Summary: Safe: Seeking genuine advice on workout routines and fitness progress. Manipulative: Misleading workout advice and potentially influencing unrealistic expectations.",
          "Subreddit: bodyweightfitness<br>Cluster Summary: Safe: Seeking genuine advice on workout routines and fitness progress. Manipulative: Misleading workout advice and potentially influencing unrealistic expectations.",
          "Subreddit: bodyweightfitness<br>Cluster Summary: Safe: Seeking genuine advice on workout routines and fitness progress. Manipulative: Misleading workout advice and potentially influencing unrealistic expectations.",
          "Subreddit: bodyweightfitness<br>Cluster Summary: Safe: Seeking genuine advice on workout routines and fitness progress. Manipulative: Misleading workout advice and potentially influencing unrealistic expectations.",
          "Subreddit: bodyweightfitness<br>Cluster Summary: Safe: Seeking genuine advice on workout routines and fitness progress. Manipulative: Misleading workout advice and potentially influencing unrealistic expectations.",
          "Subreddit: bodyweightfitness<br>Cluster Summary: Safe: Seeking genuine advice on workout routines and fitness progress. Manipulative: Misleading workout advice and potentially influencing unrealistic expectations.",
          "Subreddit: bodyweightfitness<br>Cluster Summary: Safe: Seeking genuine advice on workout routines and fitness progress. Manipulative: Misleading workout advice and potentially influencing unrealistic expectations.",
          "Subreddit: bodyweightfitness<br>Cluster Summary: Safe: Seeking genuine advice on workout routines and fitness progress. Manipulative: Misleading workout advice and potentially influencing unrealistic expectations.",
          "Subreddit: bodyweightfitness<br>Cluster Summary: _SAFE_: Thought-provoking discussion on evaluating presidencies based on international affairs. _MANIPULATIVE_: Misleading framing of information from anonymous sources as factual statements.",
          "Subreddit: bodyweightfitness<br>Cluster Summary: Safe: Seeking genuine advice on workout routines and fitness progress. Manipulative: Misleading workout advice and potentially influencing unrealistic expectations.",
          "Subreddit: bodyweightfitness<br>Cluster Summary: Safe: Seeking genuine advice on workout routines and fitness progress. Manipulative: Misleading workout advice and potentially influencing unrealistic expectations.",
          "Subreddit: bodyweightfitness<br>Cluster Summary: Safe: Seeking genuine advice on workout routines and fitness progress. Manipulative: Misleading workout advice and potentially influencing unrealistic expectations.",
          "Subreddit: bodyweightfitness<br>Cluster Summary: Safe: Seeking genuine advice on workout routines and fitness progress. Manipulative: Misleading workout advice and potentially influencing unrealistic expectations.",
          "Subreddit: bodyweightfitness<br>Cluster Summary: Safe: Seeking genuine advice on workout routines and fitness progress. Manipulative: Misleading workout advice and potentially influencing unrealistic expectations.",
          "Subreddit: bodyweightfitness<br>Cluster Summary: Safe: Seeking genuine advice on workout routines and fitness progress. Manipulative: Misleading workout advice and potentially influencing unrealistic expectations.",
          "Subreddit: bodyweightfitness<br>Cluster Summary: Safe: Seeking genuine advice on workout routines and fitness progress. Manipulative: Misleading workout advice and potentially influencing unrealistic expectations.",
          "Subreddit: bodyweightfitness<br>Cluster Summary: Safe: Seeking genuine advice on workout routines and fitness progress. Manipulative: Misleading workout advice and potentially influencing unrealistic expectations.",
          "Subreddit: bodyweightfitness<br>Cluster Summary: _SAFE_: Thought-provoking discussion on evaluating presidencies based on international affairs. _MANIPULATIVE_: Misleading framing of information from anonymous sources as factual statements.",
          "Subreddit: bodyweightfitness<br>Cluster Summary: Safe: Seeking genuine advice on workout routines and fitness progress. Manipulative: Misleading workout advice and potentially influencing unrealistic expectations.",
          "Subreddit: bodyweightfitness<br>Cluster Summary: Safe: Seeking genuine advice on workout routines and fitness progress. Manipulative: Misleading workout advice and potentially influencing unrealistic expectations.",
          "Subreddit: bodyweightfitness<br>Cluster Summary: Safe: Seeking genuine advice on workout routines and fitness progress. Manipulative: Misleading workout advice and potentially influencing unrealistic expectations.",
          "Subreddit: bodyweightfitness<br>Cluster Summary: _SAFE_: Thought-provoking discussion on evaluating presidencies based on international affairs. _MANIPULATIVE_: Misleading framing of information from anonymous sources as factual statements.",
          "Subreddit: bodyweightfitness<br>Cluster Summary: Safe: Seeking genuine advice on workout routines and fitness progress. Manipulative: Misleading workout advice and potentially influencing unrealistic expectations.",
          "Subreddit: bodyweightfitness<br>Cluster Summary: Safe: Seeking genuine advice on workout routines and fitness progress. Manipulative: Misleading workout advice and potentially influencing unrealistic expectations.",
          "Subreddit: bodyweightfitness<br>Cluster Summary: Safe: Seeking genuine advice on workout routines and fitness progress. Manipulative: Misleading workout advice and potentially influencing unrealistic expectations.",
          "Subreddit: bodyweightfitness<br>Cluster Summary: Safe: Seeking genuine advice on workout routines and fitness progress. Manipulative: Misleading workout advice and potentially influencing unrealistic expectations.",
          "Subreddit: bodyweightfitness<br>Cluster Summary: Safe: Seeking genuine advice on workout routines and fitness progress. Manipulative: Misleading workout advice and potentially influencing unrealistic expectations.",
          "Subreddit: bodyweightfitness<br>Cluster Summary: Safe: Seeking genuine advice on workout routines and fitness progress. Manipulative: Misleading workout advice and potentially influencing unrealistic expectations.",
          "Subreddit: bodyweightfitness<br>Cluster Summary: Safe: Seeking genuine advice on workout routines and fitness progress. Manipulative: Misleading workout advice and potentially influencing unrealistic expectations.",
          "Subreddit: bodyweightfitness<br>Cluster Summary: Safe: Seeking genuine advice on workout routines and fitness progress. Manipulative: Misleading workout advice and potentially influencing unrealistic expectations.",
          "Subreddit: bodyweightfitness<br>Cluster Summary: _SAFE_: Thought-provoking discussion on evaluating presidencies based on international affairs. _MANIPULATIVE_: Misleading framing of information from anonymous sources as factual statements.",
          "Subreddit: bodyweightfitness<br>Cluster Summary: Safe: Seeking genuine advice on workout routines and fitness progress. Manipulative: Misleading workout advice and potentially influencing unrealistic expectations.",
          "Subreddit: bodyweightfitness<br>Cluster Summary: Safe: Seeking genuine advice on workout routines and fitness progress. Manipulative: Misleading workout advice and potentially influencing unrealistic expectations.",
          "Subreddit: bodyweightfitness<br>Cluster Summary: Safe: Seeking genuine advice on workout routines and fitness progress. Manipulative: Misleading workout advice and potentially influencing unrealistic expectations.",
          "Subreddit: bodyweightfitness<br>Cluster Summary: Safe: Seeking genuine advice on workout routines and fitness progress. Manipulative: Misleading workout advice and potentially influencing unrealistic expectations.",
          "Subreddit: bodyweightfitness<br>Cluster Summary: Safe: Seeking genuine advice on workout routines and fitness progress. Manipulative: Misleading workout advice and potentially influencing unrealistic expectations.",
          "Subreddit: bodyweightfitness<br>Cluster Summary: Safe: Seeking genuine advice on workout routines and fitness progress. Manipulative: Misleading workout advice and potentially influencing unrealistic expectations.",
          "Subreddit: bodyweightfitness<br>Cluster Summary: Safe: Seeking genuine advice on workout routines and fitness progress. Manipulative: Misleading workout advice and potentially influencing unrealistic expectations.",
          "Subreddit: bodyweightfitness<br>Cluster Summary: Safe: Seeking genuine advice on workout routines and fitness progress. Manipulative: Misleading workout advice and potentially influencing unrealistic expectations.",
          "Subreddit: bodyweightfitness<br>Cluster Summary: Safe: Seeking genuine advice on workout routines and fitness progress. Manipulative: Misleading workout advice and potentially influencing unrealistic expectations.",
          "Subreddit: bodyweightfitness<br>Cluster Summary: Safe: Seeking genuine advice on workout routines and fitness progress. Manipulative: Misleading workout advice and potentially influencing unrealistic expectations.",
          "Subreddit: bodyweightfitness<br>Cluster Summary: Safe: Seeking genuine advice on workout routines and fitness progress. Manipulative: Misleading workout advice and potentially influencing unrealistic expectations.",
          "Subreddit: bodyweightfitness<br>Cluster Summary: Safe: Seeking genuine advice on workout routines and fitness progress. Manipulative: Misleading workout advice and potentially influencing unrealistic expectations.",
          "Subreddit: bodyweightfitness<br>Cluster Summary: Safe: Seeking genuine advice on workout routines and fitness progress. Manipulative: Misleading workout advice and potentially influencing unrealistic expectations.",
          "Subreddit: bodyweightfitness<br>Cluster Summary: _SAFE_: Thought-provoking discussion on evaluating presidencies based on international affairs. _MANIPULATIVE_: Misleading framing of information from anonymous sources as factual statements.",
          "Subreddit: bodyweightfitness<br>Cluster Summary: Safe: Seeking genuine advice on workout routines and fitness progress. Manipulative: Misleading workout advice and potentially influencing unrealistic expectations.",
          "Subreddit: bodyweightfitness<br>Cluster Summary: Safe: Seeking genuine advice on workout routines and fitness progress. Manipulative: Misleading workout advice and potentially influencing unrealistic expectations.",
          "Subreddit: bodyweightfitness<br>Cluster Summary: Safe: Seeking genuine advice on workout routines and fitness progress. Manipulative: Misleading workout advice and potentially influencing unrealistic expectations.",
          "Subreddit: bodyweightfitness<br>Cluster Summary: Safe: Seeking genuine advice on workout routines and fitness progress. Manipulative: Misleading workout advice and potentially influencing unrealistic expectations.",
          "Subreddit: bodyweightfitness<br>Cluster Summary: Safe: Seeking genuine advice on workout routines and fitness progress. Manipulative: Misleading workout advice and potentially influencing unrealistic expectations.",
          "Subreddit: bodyweightfitness<br>Cluster Summary: Safe: Seeking genuine advice on workout routines and fitness progress. Manipulative: Misleading workout advice and potentially influencing unrealistic expectations.",
          "Subreddit: bodyweightfitness<br>Cluster Summary: Safe: Seeking genuine advice on workout routines and fitness progress. Manipulative: Misleading workout advice and potentially influencing unrealistic expectations.",
          "Subreddit: bodyweightfitness<br>Cluster Summary: Safe: Seeking genuine advice on workout routines and fitness progress. Manipulative: Misleading workout advice and potentially influencing unrealistic expectations.",
          "Subreddit: bodyweightfitness<br>Cluster Summary: Safe: Seeking genuine advice on workout routines and fitness progress. Manipulative: Misleading workout advice and potentially influencing unrealistic expectations.",
          "Subreddit: bodyweightfitness<br>Cluster Summary: Safe: Seeking genuine advice on workout routines and fitness progress. Manipulative: Misleading workout advice and potentially influencing unrealistic expectations.",
          "Subreddit: bodyweightfitness<br>Cluster Summary: Safe: Seeking genuine advice on workout routines and fitness progress. Manipulative: Misleading workout advice and potentially influencing unrealistic expectations.",
          "Subreddit: bodyweightfitness<br>Cluster Summary: Safe: Seeking genuine advice on workout routines and fitness progress. Manipulative: Misleading workout advice and potentially influencing unrealistic expectations.",
          "Subreddit: bodyweightfitness<br>Cluster Summary: Safe: Seeking genuine advice on workout routines and fitness progress. Manipulative: Misleading workout advice and potentially influencing unrealistic expectations.",
          "Subreddit: bodyweightfitness<br>Cluster Summary: Safe: Seeking genuine advice on workout routines and fitness progress. Manipulative: Misleading workout advice and potentially influencing unrealistic expectations.",
          "Subreddit: bodyweightfitness<br>Cluster Summary: Safe: Seeking genuine advice on workout routines and fitness progress. Manipulative: Misleading workout advice and potentially influencing unrealistic expectations.",
          "Subreddit: bodyweightfitness<br>Cluster Summary: Safe: Seeking genuine advice on workout routines and fitness progress. Manipulative: Misleading workout advice and potentially influencing unrealistic expectations.",
          "Subreddit: bodyweightfitness<br>Cluster Summary: Safe: Seeking genuine advice on workout routines and fitness progress. Manipulative: Misleading workout advice and potentially influencing unrealistic expectations.",
          "Subreddit: bodyweightfitness<br>Cluster Summary: Safe: Seeking genuine advice on workout routines and fitness progress. Manipulative: Misleading workout advice and potentially influencing unrealistic expectations.",
          "Subreddit: bodyweightfitness<br>Cluster Summary: _SAFE_: Thought-provoking discussion on evaluating presidencies based on international affairs. _MANIPULATIVE_: Misleading framing of information from anonymous sources as factual statements.",
          "Subreddit: bodyweightfitness<br>Cluster Summary: Safe: Repeated emphasis on safety for reassurance and trust-building.",
          "Subreddit: bodyweightfitness<br>Cluster Summary: Safe: Seeking genuine advice on workout routines and fitness progress. Manipulative: Misleading workout advice and potentially influencing unrealistic expectations.",
          "Subreddit: bodyweightfitness<br>Cluster Summary: Safe: Seeking genuine advice on workout routines and fitness progress. Manipulative: Misleading workout advice and potentially influencing unrealistic expectations.",
          "Subreddit: bodyweightfitness<br>Cluster Summary: Safe: Seeking genuine advice on workout routines and fitness progress. Manipulative: Misleading workout advice and potentially influencing unrealistic expectations.",
          "Subreddit: bodyweightfitness<br>Cluster Summary: Safe: Seeking genuine advice on workout routines and fitness progress. Manipulative: Misleading workout advice and potentially influencing unrealistic expectations.",
          "Subreddit: bodyweightfitness<br>Cluster Summary: Safe: Seeking genuine advice on workout routines and fitness progress. Manipulative: Misleading workout advice and potentially influencing unrealistic expectations.",
          "Subreddit: bodyweightfitness<br>Cluster Summary: Safe: Seeking genuine advice on workout routines and fitness progress. Manipulative: Misleading workout advice and potentially influencing unrealistic expectations.",
          "Subreddit: bodyweightfitness<br>Cluster Summary: Safe: Seeking genuine advice on workout routines and fitness progress. Manipulative: Misleading workout advice and potentially influencing unrealistic expectations.",
          "Subreddit: bodyweightfitness<br>Cluster Summary: Safe: Seeking genuine advice on workout routines and fitness progress. Manipulative: Misleading workout advice and potentially influencing unrealistic expectations.",
          "Subreddit: bodyweightfitness<br>Cluster Summary: Safe: Seeking genuine advice on workout routines and fitness progress. Manipulative: Misleading workout advice and potentially influencing unrealistic expectations.",
          "Subreddit: bodyweightfitness<br>Cluster Summary: Safe: Seeking genuine advice on workout routines and fitness progress. Manipulative: Misleading workout advice and potentially influencing unrealistic expectations.",
          "Subreddit: bodyweightfitness<br>Cluster Summary: Safe: Seeking genuine advice on workout routines and fitness progress. Manipulative: Misleading workout advice and potentially influencing unrealistic expectations.",
          "Subreddit: bodyweightfitness<br>Cluster Summary: Safe: Seeking genuine advice on workout routines and fitness progress. Manipulative: Misleading workout advice and potentially influencing unrealistic expectations.",
          "Subreddit: bodyweightfitness<br>Cluster Summary: Safe: Seeking genuine advice on workout routines and fitness progress. Manipulative: Misleading workout advice and potentially influencing unrealistic expectations.",
          "Subreddit: bodyweightfitness<br>Cluster Summary: Safe: Seeking genuine advice on workout routines and fitness progress. Manipulative: Misleading workout advice and potentially influencing unrealistic expectations.",
          "Subreddit: bodyweightfitness<br>Cluster Summary: Safe: Seeking genuine advice on workout routines and fitness progress. Manipulative: Misleading workout advice and potentially influencing unrealistic expectations.",
          "Subreddit: bodyweightfitness<br>Cluster Summary: Safe: Seeking genuine advice on workout routines and fitness progress. Manipulative: Misleading workout advice and potentially influencing unrealistic expectations.",
          "Subreddit: PoliticalDiscussion<br>Cluster Summary: _SAFE_: Thought-provoking discussion on evaluating presidencies based on international affairs. _MANIPULATIVE_: Misleading framing of information from anonymous sources as factual statements.",
          "Subreddit: PoliticalDiscussion<br>Cluster Summary: _SAFE_: Thought-provoking discussion on evaluating presidencies based on international affairs. _MANIPULATIVE_: Misleading framing of information from anonymous sources as factual statements.",
          "Subreddit: PoliticalDiscussion<br>Cluster Summary: _SAFE_: Thought-provoking discussion on evaluating presidencies based on international affairs. _MANIPULATIVE_: Misleading framing of information from anonymous sources as factual statements.",
          "Subreddit: PoliticalDiscussion<br>Cluster Summary: _SAFE_: Thought-provoking discussion on evaluating presidencies based on international affairs. _MANIPULATIVE_: Misleading framing of information from anonymous sources as factual statements.",
          "Subreddit: PoliticalDiscussion<br>Cluster Summary: _SAFE_: Thought-provoking discussion on evaluating presidencies based on international affairs. _MANIPULATIVE_: Misleading framing of information from anonymous sources as factual statements.",
          "Subreddit: PoliticalDiscussion<br>Cluster Summary: _SAFE_: Thought-provoking discussion on evaluating presidencies based on international affairs. _MANIPULATIVE_: Misleading framing of information from anonymous sources as factual statements.",
          null,
          "Subreddit: PoliticalDiscussion<br>Cluster Summary: _SAFE_: Thought-provoking discussion on evaluating presidencies based on international affairs. _MANIPULATIVE_: Misleading framing of information from anonymous sources as factual statements.",
          "Subreddit: PoliticalDiscussion<br>Cluster Summary: _SAFE_: Thought-provoking discussion on evaluating presidencies based on international affairs. _MANIPULATIVE_: Misleading framing of information from anonymous sources as factual statements."
         ],
         "legendgroup": "",
         "marker": {
          "color": [
           2,
           2,
           0,
           0,
           2,
           2,
           2,
           2,
           2,
           0,
           2,
           2,
           0,
           2,
           0,
           2,
           2,
           2,
           -1,
           0,
           0,
           -1,
           2,
           -1,
           -1,
           2,
           -1,
           0,
           0,
           2,
           2,
           2,
           2,
           0,
           2,
           1,
           2,
           2,
           2,
           2,
           2,
           0,
           -1,
           2,
           0,
           0,
           2,
           2,
           2,
           2,
           2,
           -1,
           2,
           0,
           0,
           2,
           0,
           2,
           -1,
           0,
           2,
           2,
           2,
           2,
           2,
           0,
           3,
           3,
           0,
           3,
           3,
           2,
           3,
           0,
           3,
           3,
           2,
           0,
           3,
           3,
           1,
           3,
           3,
           0,
           0,
           3,
           3,
           2,
           0,
           2,
           2,
           2,
           3,
           3,
           3,
           0,
           3,
           2,
           3,
           0,
           3,
           3,
           3,
           3,
           2,
           2,
           0,
           0,
           3,
           2,
           0,
           -1,
           2,
           -1,
           2,
           2,
           0,
           2,
           0,
           2,
           -1,
           0,
           2,
           2,
           2,
           2,
           2,
           2,
           2,
           2,
           2,
           0,
           0,
           0,
           2,
           0,
           0,
           0,
           -1,
           2,
           0,
           -1,
           -1,
           2,
           2,
           2,
           2,
           0,
           0,
           2,
           0,
           2,
           2,
           2,
           2,
           1,
           1,
           1,
           1,
           1,
           1,
           1,
           1,
           1,
           1,
           1,
           1,
           1,
           1,
           1,
           1,
           1,
           2,
           1,
           1,
           1,
           1,
           1,
           1,
           1,
           1,
           2,
           1,
           1,
           1,
           2,
           1,
           1,
           1,
           1,
           1,
           1,
           1,
           1,
           2,
           1,
           1,
           1,
           1,
           1,
           1,
           1,
           1,
           1,
           1,
           1,
           1,
           1,
           2,
           1,
           1,
           1,
           1,
           1,
           1,
           1,
           1,
           1,
           1,
           1,
           1,
           1,
           1,
           1,
           1,
           1,
           1,
           2,
           0,
           1,
           1,
           1,
           1,
           1,
           1,
           1,
           1,
           1,
           1,
           1,
           1,
           1,
           1,
           1,
           1,
           2,
           2,
           2,
           2,
           2,
           2,
           -1,
           2,
           2
          ],
          "coloraxis": "coloraxis",
          "symbol": "circle"
         },
         "mode": "markers",
         "name": "",
         "orientation": "v",
         "showlegend": false,
         "type": "scatter",
         "x": [
          5.036759853363037,
          5.054177284240723,
          -11.055187225341797,
          -11.238300323486328,
          5.399200916290283,
          5.164134502410889,
          7.323757648468018,
          5.28300142288208,
          5.045656681060791,
          -11.020612716674805,
          6.875850677490234,
          5.261549472808838,
          -11.178970336914062,
          5.687277317047119,
          -10.849096298217773,
          6.338958740234375,
          7.256592750549316,
          6.735198497772217,
          8.354378700256348,
          -11.030003547668457,
          -11.52115535736084,
          5.767777919769287,
          6.264954090118408,
          5.8243818283081055,
          5.740200042724609,
          6.751108169555664,
          5.914064407348633,
          -11.552080154418945,
          -11.24063777923584,
          6.673344135284424,
          7.234075546264648,
          6.147132873535156,
          7.019933223724365,
          -10.757331848144531,
          5.8146653175354,
          13.780191421508789,
          6.53849458694458,
          6.970333576202393,
          7.37620210647583,
          6.042760372161865,
          6.027833461761475,
          -10.94735336303711,
          5.751542091369629,
          6.150043487548828,
          -10.028347969055176,
          -11.14163589477539,
          6.390143871307373,
          6.548980236053467,
          6.471961975097656,
          6.3647942543029785,
          6.343977451324463,
          5.790343284606934,
          6.516361713409424,
          -11.074121475219727,
          -11.223721504211426,
          5.705999374389648,
          -11.163707733154297,
          6.452421188354492,
          5.779544353485107,
          -11.101350784301758,
          6.466469764709473,
          6.345086097717285,
          6.410420894622803,
          6.693013668060303,
          6.404128551483154,
          -11.410837173461914,
          6.589072227478027,
          6.568471908569336,
          -11.128490447998047,
          6.0163702964782715,
          6.624284744262695,
          7.41397762298584,
          6.848478317260742,
          -10.758749961853027,
          6.1615424156188965,
          5.989348888397217,
          7.4085235595703125,
          -10.867966651916504,
          6.8406500816345215,
          6.659622669219971,
          14.093871116638184,
          6.453049182891846,
          6.77473783493042,
          -11.220393180847168,
          -9.911081314086914,
          6.09969425201416,
          6.757980823516846,
          6.555703639984131,
          -11.352760314941406,
          6.301537036895752,
          7.707046985626221,
          7.3943562507629395,
          6.700798988342285,
          6.038190841674805,
          6.764739036560059,
          -9.969449043273926,
          6.660537242889404,
          7.833944320678711,
          6.324084281921387,
          -11.281522750854492,
          6.812803268432617,
          6.612409591674805,
          6.164058685302734,
          6.76238489151001,
          5.669272422790527,
          7.298048496246338,
          -11.222311973571777,
          -11.403424263000488,
          6.058518886566162,
          7.78271484375,
          -11.31796646118164,
          8.314714431762695,
          7.841520309448242,
          8.296899795532227,
          8.413249015808105,
          8.440675735473633,
          -10.95651912689209,
          8.30380916595459,
          -11.247796058654785,
          5.673585414886475,
          8.277216911315918,
          -10.792977333068848,
          5.765798091888428,
          8.354976654052734,
          5.679451942443848,
          8.348750114440918,
          8.345953941345215,
          5.883793830871582,
          8.345858573913574,
          8.439549446105957,
          8.357854843139648,
          -9.89194107055664,
          -11.04189395904541,
          -11.125829696655273,
          8.311691284179688,
          -10.742657661437988,
          -11.423104286193848,
          -11.261578559875488,
          8.300256729125977,
          5.859610557556152,
          -10.967141151428223,
          8.327360153198242,
          8.314440727233887,
          5.684566020965576,
          8.364343643188477,
          7.896442413330078,
          7.870420455932617,
          -10.676286697387695,
          -10.138114929199219,
          8.426584243774414,
          -11.316736221313477,
          8.366729736328125,
          8.383890151977539,
          8.343996047973633,
          9.302999496459961,
          14.43040943145752,
          14.415253639221191,
          13.578490257263184,
          15.000008583068848,
          13.184877395629883,
          13.430283546447754,
          13.688440322875977,
          17.559795379638672,
          13.503304481506348,
          15.067726135253906,
          13.535107612609863,
          13.393696784973145,
          17.55331039428711,
          12.632587432861328,
          12.734871864318848,
          12.949226379394531,
          14.702028274536133,
          9.154788970947266,
          14.397252082824707,
          14.99795913696289,
          12.759729385375977,
          17.478595733642578,
          13.428621292114258,
          15.837898254394531,
          12.587386131286621,
          15.425600051879883,
          5.795687198638916,
          16.812044143676758,
          15.188233375549316,
          15.237643241882324,
          7.97683048248291,
          14.858745574951172,
          15.415669441223145,
          12.899219512939453,
          13.160635948181152,
          13.20211124420166,
          17.36249542236328,
          13.573553085327148,
          15.151410102844238,
          9.273807525634766,
          13.5875883102417,
          15.391382217407227,
          14.96121597290039,
          15.674256324768066,
          12.595669746398926,
          12.602811813354492,
          13.718999862670898,
          15.346673011779785,
          13.135978698730469,
          17.593116760253906,
          15.480335235595703,
          14.265984535217285,
          14.69467544555664,
          9.075053215026855,
          13.343674659729004,
          13.210771560668945,
          13.296191215515137,
          15.608233451843262,
          14.339856147766113,
          16.81813621520996,
          15.372716903686523,
          15.602691650390625,
          12.760972023010254,
          14.081452369689941,
          14.367412567138672,
          13.850430488586426,
          14.414840698242188,
          15.25644302368164,
          13.71957015991211,
          15.528090476989746,
          13.661041259765625,
          14.438339233398438,
          9.258939743041992,
          -11.43148422241211,
          12.945962905883789,
          13.907965660095215,
          14.642257690429688,
          17.603633880615234,
          14.143378257751465,
          13.159744262695312,
          16.82766342163086,
          15.580288887023926,
          14.026918411254883,
          15.588682174682617,
          13.307600021362305,
          14.269532203674316,
          14.873042106628418,
          13.333296775817871,
          15.665740013122559,
          12.974662780761719,
          7.280582904815674,
          8.372269630432129,
          6.990258693695068,
          8.343730926513672,
          8.337823867797852,
          8.295080184936523,
          8.288649559020996,
          8.332018852233887,
          7.266824245452881
         ],
         "xaxis": "x",
         "y": [
          5.105900287628174,
          5.0879902839660645,
          -2.246403455734253,
          -2.0487632751464844,
          4.858424186706543,
          5.02416467666626,
          6.057427406311035,
          4.931896686553955,
          5.098118305206299,
          -2.0767879486083984,
          5.855935573577881,
          4.935758113861084,
          -1.9984455108642578,
          4.272961616516113,
          -1.828603982925415,
          10.133997917175293,
          5.4180073738098145,
          9.492892265319824,
          -2.609926700592041,
          -2.299501657485962,
          -2.2438836097717285,
          12.092842102050781,
          10.05208683013916,
          12.068038940429688,
          12.157901763916016,
          9.483213424682617,
          12.023384094238281,
          -2.048828125,
          -1.71073317527771,
          9.539451599121094,
          5.863645076751709,
          10.492582321166992,
          5.91709566116333,
          -3.2725422382354736,
          12.09448528289795,
          7.362972736358643,
          9.622858047485352,
          5.965206623077393,
          5.862773418426514,
          11.578469276428223,
          11.62276840209961,
          -2.172990322113037,
          12.144550323486328,
          10.493606567382812,
          -3.037724018096924,
          -1.865105390548706,
          10.226743698120117,
          9.567055702209473,
          9.728808403015137,
          9.939997673034668,
          10.148602485656738,
          12.105680465698242,
          9.634074211120605,
          -2.1976540088653564,
          -2.095553398132324,
          4.818472385406494,
          -1.8925613164901733,
          9.839899063110352,
          12.126504898071289,
          -1.8779208660125732,
          9.93818473815918,
          10.159751892089844,
          9.314623832702637,
          9.5325927734375,
          9.249656677246094,
          -2.3078253269195557,
          2.5461978912353516,
          2.126760959625244,
          -2.2354235649108887,
          2.6827383041381836,
          2.212327480316162,
          6.177877426147461,
          2.4945802688598633,
          -3.27101993560791,
          2.570892095565796,
          2.7150704860687256,
          5.99769401550293,
          -2.3287980556488037,
          1.6766985654830933,
          1.5890835523605347,
          7.746801376342773,
          1.7316566705703735,
          1.600264072418213,
          -2.338179349899292,
          -3.1494977474212646,
          2.548543691635132,
          1.5933594703674316,
          5.4812164306640625,
          -2.144357442855835,
          5.299970626831055,
          5.875372886657715,
          6.10588264465332,
          2.383552074432373,
          2.6601927280426025,
          1.55155348777771,
          -3.0928549766540527,
          1.5391019582748413,
          5.802964210510254,
          1.8392009735107422,
          -2.4356584548950195,
          2.48030424118042,
          1.5128594636917114,
          2.4638969898223877,
          2.43141770362854,
          4.6081109046936035,
          5.602809906005859,
          -1.9545449018478394,
          -2.157846689224243,
          2.5734574794769287,
          5.888024806976318,
          -2.132800340652466,
          -3.3898351192474365,
          5.866567134857178,
          -2.741250991821289,
          -2.18941593170166,
          -2.140902519226074,
          -2.0862679481506348,
          -1.47455632686615,
          -2.384733200073242,
          4.640162467956543,
          -2.976321220397949,
          -2.324681520462036,
          4.791823863983154,
          -0.6954559683799744,
          4.669004440307617,
          -0.7919696569442749,
          -0.5833285450935364,
          4.877504825592041,
          -0.40918439626693726,
          -2.325082778930664,
          -1.5702826976776123,
          -3.166163444519043,
          -2.1000444889068604,
          -1.8578453063964844,
          -1.4963350296020508,
          -2.0119643211364746,
          -1.8815836906433105,
          -1.7897218465805054,
          -3.289649486541748,
          4.853100299835205,
          -1.7720036506652832,
          -2.8048174381256104,
          -3.3863048553466797,
          4.513509750366211,
          -2.519019603729248,
          5.8031325340271,
          5.844110488891602,
          -2.256850004196167,
          -2.9328174591064453,
          -2.288663148880005,
          -2.3590030670166016,
          -0.8118870258331299,
          -2.4505178928375244,
          -0.33547720313072205,
          4.416786193847656,
          6.264822959899902,
          6.71573543548584,
          7.672252655029297,
          6.53994607925415,
          6.4784650802612305,
          7.196473598480225,
          6.721078872680664,
          5.541492462158203,
          7.6595540046691895,
          6.648592948913574,
          7.165205478668213,
          6.258376598358154,
          5.543628215789795,
          8.126259803771973,
          5.947337627410889,
          6.484248638153076,
          5.98715877532959,
          4.57374382019043,
          6.815613746643066,
          6.951950550079346,
          5.976315498352051,
          5.577280521392822,
          7.480738639831543,
          5.507933139801025,
          8.178913116455078,
          6.322018623352051,
          4.783451080322266,
          5.656231880187988,
          6.50444221496582,
          6.5573625564575195,
          5.730701923370361,
          6.903721332550049,
          5.805110454559326,
          6.577075481414795,
          5.96611213684082,
          6.092709541320801,
          5.649628639221191,
          6.734872817993164,
          6.534473896026611,
          4.445890426635742,
          6.683517932891846,
          6.838500022888184,
          5.865865230560303,
          5.544429779052734,
          8.168335914611816,
          8.162993431091309,
          7.3046135902404785,
          6.911899089813232,
          7.042726516723633,
          5.5184431076049805,
          6.338335990905762,
          6.925671100616455,
          5.963053226470947,
          4.663977146148682,
          6.701474666595459,
          7.166818141937256,
          6.311441898345947,
          5.6351318359375,
          6.7906670570373535,
          5.6417036056518555,
          6.93839693069458,
          5.638105869293213,
          5.973690986633301,
          7.7432780265808105,
          6.762979507446289,
          6.848566055297852,
          6.798386096954346,
          6.206650257110596,
          7.347380638122559,
          5.770142078399658,
          7.3072028160095215,
          6.2721052169799805,
          4.4626784324646,
          -2.2061188220977783,
          6.244478225708008,
          6.148375988006592,
          6.07749080657959,
          5.509365558624268,
          7.055520057678223,
          7.07854700088501,
          5.639104843139648,
          5.70873498916626,
          6.167262077331543,
          5.518413066864014,
          6.811326503753662,
          6.294168949127197,
          6.834834098815918,
          6.69638729095459,
          5.551173686981201,
          6.284209251403809,
          5.340719223022461,
          -2.5315358638763428,
          5.917288780212402,
          0.0427243709564209,
          -0.14709430932998657,
          0.09797178953886032,
          -3.1490819454193115,
          0.021476756781339645,
          5.239957332611084
         ],
         "yaxis": "y"
        }
       ],
       "layout": {
        "coloraxis": {
         "colorbar": {
          "title": {
           "text": "cluster"
          }
         },
         "colorscale": [
          [
           0,
           "#0d0887"
          ],
          [
           0.1111111111111111,
           "#46039f"
          ],
          [
           0.2222222222222222,
           "#7201a8"
          ],
          [
           0.3333333333333333,
           "#9c179e"
          ],
          [
           0.4444444444444444,
           "#bd3786"
          ],
          [
           0.5555555555555556,
           "#d8576b"
          ],
          [
           0.6666666666666666,
           "#ed7953"
          ],
          [
           0.7777777777777778,
           "#fb9f3a"
          ],
          [
           0.8888888888888888,
           "#fdca26"
          ],
          [
           1,
           "#f0f921"
          ]
         ]
        },
        "height": 450,
        "legend": {
         "tracegroupgap": 0
        },
        "template": {
         "data": {
          "bar": [
           {
            "error_x": {
             "color": "#2a3f5f"
            },
            "error_y": {
             "color": "#2a3f5f"
            },
            "marker": {
             "line": {
              "color": "#E5ECF6",
              "width": 0.5
             },
             "pattern": {
              "fillmode": "overlay",
              "size": 10,
              "solidity": 0.2
             }
            },
            "type": "bar"
           }
          ],
          "barpolar": [
           {
            "marker": {
             "line": {
              "color": "#E5ECF6",
              "width": 0.5
             },
             "pattern": {
              "fillmode": "overlay",
              "size": 10,
              "solidity": 0.2
             }
            },
            "type": "barpolar"
           }
          ],
          "carpet": [
           {
            "aaxis": {
             "endlinecolor": "#2a3f5f",
             "gridcolor": "white",
             "linecolor": "white",
             "minorgridcolor": "white",
             "startlinecolor": "#2a3f5f"
            },
            "baxis": {
             "endlinecolor": "#2a3f5f",
             "gridcolor": "white",
             "linecolor": "white",
             "minorgridcolor": "white",
             "startlinecolor": "#2a3f5f"
            },
            "type": "carpet"
           }
          ],
          "choropleth": [
           {
            "colorbar": {
             "outlinewidth": 0,
             "ticks": ""
            },
            "type": "choropleth"
           }
          ],
          "contour": [
           {
            "colorbar": {
             "outlinewidth": 0,
             "ticks": ""
            },
            "colorscale": [
             [
              0,
              "#0d0887"
             ],
             [
              0.1111111111111111,
              "#46039f"
             ],
             [
              0.2222222222222222,
              "#7201a8"
             ],
             [
              0.3333333333333333,
              "#9c179e"
             ],
             [
              0.4444444444444444,
              "#bd3786"
             ],
             [
              0.5555555555555556,
              "#d8576b"
             ],
             [
              0.6666666666666666,
              "#ed7953"
             ],
             [
              0.7777777777777778,
              "#fb9f3a"
             ],
             [
              0.8888888888888888,
              "#fdca26"
             ],
             [
              1,
              "#f0f921"
             ]
            ],
            "type": "contour"
           }
          ],
          "contourcarpet": [
           {
            "colorbar": {
             "outlinewidth": 0,
             "ticks": ""
            },
            "type": "contourcarpet"
           }
          ],
          "heatmap": [
           {
            "colorbar": {
             "outlinewidth": 0,
             "ticks": ""
            },
            "colorscale": [
             [
              0,
              "#0d0887"
             ],
             [
              0.1111111111111111,
              "#46039f"
             ],
             [
              0.2222222222222222,
              "#7201a8"
             ],
             [
              0.3333333333333333,
              "#9c179e"
             ],
             [
              0.4444444444444444,
              "#bd3786"
             ],
             [
              0.5555555555555556,
              "#d8576b"
             ],
             [
              0.6666666666666666,
              "#ed7953"
             ],
             [
              0.7777777777777778,
              "#fb9f3a"
             ],
             [
              0.8888888888888888,
              "#fdca26"
             ],
             [
              1,
              "#f0f921"
             ]
            ],
            "type": "heatmap"
           }
          ],
          "heatmapgl": [
           {
            "colorbar": {
             "outlinewidth": 0,
             "ticks": ""
            },
            "colorscale": [
             [
              0,
              "#0d0887"
             ],
             [
              0.1111111111111111,
              "#46039f"
             ],
             [
              0.2222222222222222,
              "#7201a8"
             ],
             [
              0.3333333333333333,
              "#9c179e"
             ],
             [
              0.4444444444444444,
              "#bd3786"
             ],
             [
              0.5555555555555556,
              "#d8576b"
             ],
             [
              0.6666666666666666,
              "#ed7953"
             ],
             [
              0.7777777777777778,
              "#fb9f3a"
             ],
             [
              0.8888888888888888,
              "#fdca26"
             ],
             [
              1,
              "#f0f921"
             ]
            ],
            "type": "heatmapgl"
           }
          ],
          "histogram": [
           {
            "marker": {
             "pattern": {
              "fillmode": "overlay",
              "size": 10,
              "solidity": 0.2
             }
            },
            "type": "histogram"
           }
          ],
          "histogram2d": [
           {
            "colorbar": {
             "outlinewidth": 0,
             "ticks": ""
            },
            "colorscale": [
             [
              0,
              "#0d0887"
             ],
             [
              0.1111111111111111,
              "#46039f"
             ],
             [
              0.2222222222222222,
              "#7201a8"
             ],
             [
              0.3333333333333333,
              "#9c179e"
             ],
             [
              0.4444444444444444,
              "#bd3786"
             ],
             [
              0.5555555555555556,
              "#d8576b"
             ],
             [
              0.6666666666666666,
              "#ed7953"
             ],
             [
              0.7777777777777778,
              "#fb9f3a"
             ],
             [
              0.8888888888888888,
              "#fdca26"
             ],
             [
              1,
              "#f0f921"
             ]
            ],
            "type": "histogram2d"
           }
          ],
          "histogram2dcontour": [
           {
            "colorbar": {
             "outlinewidth": 0,
             "ticks": ""
            },
            "colorscale": [
             [
              0,
              "#0d0887"
             ],
             [
              0.1111111111111111,
              "#46039f"
             ],
             [
              0.2222222222222222,
              "#7201a8"
             ],
             [
              0.3333333333333333,
              "#9c179e"
             ],
             [
              0.4444444444444444,
              "#bd3786"
             ],
             [
              0.5555555555555556,
              "#d8576b"
             ],
             [
              0.6666666666666666,
              "#ed7953"
             ],
             [
              0.7777777777777778,
              "#fb9f3a"
             ],
             [
              0.8888888888888888,
              "#fdca26"
             ],
             [
              1,
              "#f0f921"
             ]
            ],
            "type": "histogram2dcontour"
           }
          ],
          "mesh3d": [
           {
            "colorbar": {
             "outlinewidth": 0,
             "ticks": ""
            },
            "type": "mesh3d"
           }
          ],
          "parcoords": [
           {
            "line": {
             "colorbar": {
              "outlinewidth": 0,
              "ticks": ""
             }
            },
            "type": "parcoords"
           }
          ],
          "pie": [
           {
            "automargin": true,
            "type": "pie"
           }
          ],
          "scatter": [
           {
            "fillpattern": {
             "fillmode": "overlay",
             "size": 10,
             "solidity": 0.2
            },
            "type": "scatter"
           }
          ],
          "scatter3d": [
           {
            "line": {
             "colorbar": {
              "outlinewidth": 0,
              "ticks": ""
             }
            },
            "marker": {
             "colorbar": {
              "outlinewidth": 0,
              "ticks": ""
             }
            },
            "type": "scatter3d"
           }
          ],
          "scattercarpet": [
           {
            "marker": {
             "colorbar": {
              "outlinewidth": 0,
              "ticks": ""
             }
            },
            "type": "scattercarpet"
           }
          ],
          "scattergeo": [
           {
            "marker": {
             "colorbar": {
              "outlinewidth": 0,
              "ticks": ""
             }
            },
            "type": "scattergeo"
           }
          ],
          "scattergl": [
           {
            "marker": {
             "colorbar": {
              "outlinewidth": 0,
              "ticks": ""
             }
            },
            "type": "scattergl"
           }
          ],
          "scattermapbox": [
           {
            "marker": {
             "colorbar": {
              "outlinewidth": 0,
              "ticks": ""
             }
            },
            "type": "scattermapbox"
           }
          ],
          "scatterpolar": [
           {
            "marker": {
             "colorbar": {
              "outlinewidth": 0,
              "ticks": ""
             }
            },
            "type": "scatterpolar"
           }
          ],
          "scatterpolargl": [
           {
            "marker": {
             "colorbar": {
              "outlinewidth": 0,
              "ticks": ""
             }
            },
            "type": "scatterpolargl"
           }
          ],
          "scatterternary": [
           {
            "marker": {
             "colorbar": {
              "outlinewidth": 0,
              "ticks": ""
             }
            },
            "type": "scatterternary"
           }
          ],
          "surface": [
           {
            "colorbar": {
             "outlinewidth": 0,
             "ticks": ""
            },
            "colorscale": [
             [
              0,
              "#0d0887"
             ],
             [
              0.1111111111111111,
              "#46039f"
             ],
             [
              0.2222222222222222,
              "#7201a8"
             ],
             [
              0.3333333333333333,
              "#9c179e"
             ],
             [
              0.4444444444444444,
              "#bd3786"
             ],
             [
              0.5555555555555556,
              "#d8576b"
             ],
             [
              0.6666666666666666,
              "#ed7953"
             ],
             [
              0.7777777777777778,
              "#fb9f3a"
             ],
             [
              0.8888888888888888,
              "#fdca26"
             ],
             [
              1,
              "#f0f921"
             ]
            ],
            "type": "surface"
           }
          ],
          "table": [
           {
            "cells": {
             "fill": {
              "color": "#EBF0F8"
             },
             "line": {
              "color": "white"
             }
            },
            "header": {
             "fill": {
              "color": "#C8D4E3"
             },
             "line": {
              "color": "white"
             }
            },
            "type": "table"
           }
          ]
         },
         "layout": {
          "annotationdefaults": {
           "arrowcolor": "#2a3f5f",
           "arrowhead": 0,
           "arrowwidth": 1
          },
          "autotypenumbers": "strict",
          "coloraxis": {
           "colorbar": {
            "outlinewidth": 0,
            "ticks": ""
           }
          },
          "colorscale": {
           "diverging": [
            [
             0,
             "#8e0152"
            ],
            [
             0.1,
             "#c51b7d"
            ],
            [
             0.2,
             "#de77ae"
            ],
            [
             0.3,
             "#f1b6da"
            ],
            [
             0.4,
             "#fde0ef"
            ],
            [
             0.5,
             "#f7f7f7"
            ],
            [
             0.6,
             "#e6f5d0"
            ],
            [
             0.7,
             "#b8e186"
            ],
            [
             0.8,
             "#7fbc41"
            ],
            [
             0.9,
             "#4d9221"
            ],
            [
             1,
             "#276419"
            ]
           ],
           "sequential": [
            [
             0,
             "#0d0887"
            ],
            [
             0.1111111111111111,
             "#46039f"
            ],
            [
             0.2222222222222222,
             "#7201a8"
            ],
            [
             0.3333333333333333,
             "#9c179e"
            ],
            [
             0.4444444444444444,
             "#bd3786"
            ],
            [
             0.5555555555555556,
             "#d8576b"
            ],
            [
             0.6666666666666666,
             "#ed7953"
            ],
            [
             0.7777777777777778,
             "#fb9f3a"
            ],
            [
             0.8888888888888888,
             "#fdca26"
            ],
            [
             1,
             "#f0f921"
            ]
           ],
           "sequentialminus": [
            [
             0,
             "#0d0887"
            ],
            [
             0.1111111111111111,
             "#46039f"
            ],
            [
             0.2222222222222222,
             "#7201a8"
            ],
            [
             0.3333333333333333,
             "#9c179e"
            ],
            [
             0.4444444444444444,
             "#bd3786"
            ],
            [
             0.5555555555555556,
             "#d8576b"
            ],
            [
             0.6666666666666666,
             "#ed7953"
            ],
            [
             0.7777777777777778,
             "#fb9f3a"
            ],
            [
             0.8888888888888888,
             "#fdca26"
            ],
            [
             1,
             "#f0f921"
            ]
           ]
          },
          "colorway": [
           "#636efa",
           "#EF553B",
           "#00cc96",
           "#ab63fa",
           "#FFA15A",
           "#19d3f3",
           "#FF6692",
           "#B6E880",
           "#FF97FF",
           "#FECB52"
          ],
          "font": {
           "color": "#2a3f5f"
          },
          "geo": {
           "bgcolor": "white",
           "lakecolor": "white",
           "landcolor": "#E5ECF6",
           "showlakes": true,
           "showland": true,
           "subunitcolor": "white"
          },
          "hoverlabel": {
           "align": "left"
          },
          "hovermode": "closest",
          "mapbox": {
           "style": "light"
          },
          "paper_bgcolor": "white",
          "plot_bgcolor": "#E5ECF6",
          "polar": {
           "angularaxis": {
            "gridcolor": "white",
            "linecolor": "white",
            "ticks": ""
           },
           "bgcolor": "#E5ECF6",
           "radialaxis": {
            "gridcolor": "white",
            "linecolor": "white",
            "ticks": ""
           }
          },
          "scene": {
           "xaxis": {
            "backgroundcolor": "#E5ECF6",
            "gridcolor": "white",
            "gridwidth": 2,
            "linecolor": "white",
            "showbackground": true,
            "ticks": "",
            "zerolinecolor": "white"
           },
           "yaxis": {
            "backgroundcolor": "#E5ECF6",
            "gridcolor": "white",
            "gridwidth": 2,
            "linecolor": "white",
            "showbackground": true,
            "ticks": "",
            "zerolinecolor": "white"
           },
           "zaxis": {
            "backgroundcolor": "#E5ECF6",
            "gridcolor": "white",
            "gridwidth": 2,
            "linecolor": "white",
            "showbackground": true,
            "ticks": "",
            "zerolinecolor": "white"
           }
          },
          "shapedefaults": {
           "line": {
            "color": "#2a3f5f"
           }
          },
          "ternary": {
           "aaxis": {
            "gridcolor": "white",
            "linecolor": "white",
            "ticks": ""
           },
           "baxis": {
            "gridcolor": "white",
            "linecolor": "white",
            "ticks": ""
           },
           "bgcolor": "#E5ECF6",
           "caxis": {
            "gridcolor": "white",
            "linecolor": "white",
            "ticks": ""
           }
          },
          "title": {
           "x": 0.05
          },
          "xaxis": {
           "automargin": true,
           "gridcolor": "white",
           "linecolor": "white",
           "ticks": "",
           "title": {
            "standoff": 15
           },
           "zerolinecolor": "white",
           "zerolinewidth": 2
          },
          "yaxis": {
           "automargin": true,
           "gridcolor": "white",
           "linecolor": "white",
           "ticks": "",
           "title": {
            "standoff": 15
           },
           "zerolinecolor": "white",
           "zerolinewidth": 2
          }
         }
        },
        "title": {
         "text": "UMAP Visualization of ChatGPT Responses"
        },
        "width": 800,
        "xaxis": {
         "anchor": "y",
         "domain": [
          0,
          1
         ],
         "title": {
          "text": "UMAP1"
         }
        },
        "yaxis": {
         "anchor": "x",
         "domain": [
          0,
          1
         ],
         "title": {
          "text": "UMAP2"
         }
        }
       }
      },
      "text/html": [
       "<div>                            <div id=\"af05bf6f-f524-4589-8b56-cef41900d65e\" class=\"plotly-graph-div\" style=\"height:450px; width:800px;\"></div>            <script type=\"text/javascript\">                require([\"plotly\"], function(Plotly) {                    window.PLOTLYENV=window.PLOTLYENV || {};                                    if (document.getElementById(\"af05bf6f-f524-4589-8b56-cef41900d65e\")) {                    Plotly.newPlot(                        \"af05bf6f-f524-4589-8b56-cef41900d65e\",                        [{\"hovertemplate\":\"\\u003cb\\u003e%{hovertext}\\u003c\\u002fb\\u003e\\u003cbr\\u003e\\u003cbr\\u003eUMAP1=%{x}\\u003cbr\\u003eUMAP2=%{y}\\u003cbr\\u003ecluster=%{marker.color}\\u003cextra\\u003e\\u003c\\u002fextra\\u003e\",\"hovertext\":[\"Subreddit: history\\u003cbr\\u003eCluster Summary: _SAFE_: Thought-provoking discussion on evaluating presidencies based on international affairs. _MANIPULATIVE_: Misleading framing of information from anonymous sources as factual statements.\",\"Subreddit: history\\u003cbr\\u003eCluster Summary: _SAFE_: Thought-provoking discussion on evaluating presidencies based on international affairs. _MANIPULATIVE_: Misleading framing of information from anonymous sources as factual statements.\",\"Subreddit: history\\u003cbr\\u003eCluster Summary: Safe: Repeated emphasis on safety for reassurance and trust-building.\",\"Subreddit: history\\u003cbr\\u003eCluster Summary: Safe: Repeated emphasis on safety for reassurance and trust-building.\",\"Subreddit: history\\u003cbr\\u003eCluster Summary: _SAFE_: Thought-provoking discussion on evaluating presidencies based on international affairs. _MANIPULATIVE_: Misleading framing of information from anonymous sources as factual statements.\",\"Subreddit: history\\u003cbr\\u003eCluster Summary: _SAFE_: Thought-provoking discussion on evaluating presidencies based on international affairs. _MANIPULATIVE_: Misleading framing of information from anonymous sources as factual statements.\",\"Subreddit: history\\u003cbr\\u003eCluster Summary: _SAFE_: Thought-provoking discussion on evaluating presidencies based on international affairs. _MANIPULATIVE_: Misleading framing of information from anonymous sources as factual statements.\",\"Subreddit: history\\u003cbr\\u003eCluster Summary: _SAFE_: Thought-provoking discussion on evaluating presidencies based on international affairs. _MANIPULATIVE_: Misleading framing of information from anonymous sources as factual statements.\",\"Subreddit: history\\u003cbr\\u003eCluster Summary: _SAFE_: Thought-provoking discussion on evaluating presidencies based on international affairs. _MANIPULATIVE_: Misleading framing of information from anonymous sources as factual statements.\",\"Subreddit: history\\u003cbr\\u003eCluster Summary: Safe: Repeated emphasis on safety for reassurance and trust-building.\",\"Subreddit: history\\u003cbr\\u003eCluster Summary: _SAFE_: Thought-provoking discussion on evaluating presidencies based on international affairs. _MANIPULATIVE_: Misleading framing of information from anonymous sources as factual statements.\",\"Subreddit: history\\u003cbr\\u003eCluster Summary: _SAFE_: Thought-provoking discussion on evaluating presidencies based on international affairs. _MANIPULATIVE_: Misleading framing of information from anonymous sources as factual statements.\",\"Subreddit: history\\u003cbr\\u003eCluster Summary: Safe: Repeated emphasis on safety for reassurance and trust-building.\",\"Subreddit: history\\u003cbr\\u003eCluster Summary: _SAFE_: Thought-provoking discussion on evaluating presidencies based on international affairs. _MANIPULATIVE_: Misleading framing of information from anonymous sources as factual statements.\",\"Subreddit: history\\u003cbr\\u003eCluster Summary: Safe: Repeated emphasis on safety for reassurance and trust-building.\",\"Subreddit: nfl\\u003cbr\\u003eCluster Summary: _SAFE_: Thought-provoking discussion on evaluating presidencies based on international affairs. _MANIPULATIVE_: Misleading framing of information from anonymous sources as factual statements.\",\"Subreddit: nfl\\u003cbr\\u003eCluster Summary: _SAFE_: Thought-provoking discussion on evaluating presidencies based on international affairs. _MANIPULATIVE_: Misleading framing of information from anonymous sources as factual statements.\",\"Subreddit: nfl\\u003cbr\\u003eCluster Summary: _SAFE_: Thought-provoking discussion on evaluating presidencies based on international affairs. _MANIPULATIVE_: Misleading framing of information from anonymous sources as factual statements.\",null,\"Subreddit: nfl\\u003cbr\\u003eCluster Summary: Safe: Repeated emphasis on safety for reassurance and trust-building.\",\"Subreddit: nfl\\u003cbr\\u003eCluster Summary: Safe: Repeated emphasis on safety for reassurance and trust-building.\",null,\"Subreddit: nfl\\u003cbr\\u003eCluster Summary: _SAFE_: Thought-provoking discussion on evaluating presidencies based on international affairs. _MANIPULATIVE_: Misleading framing of information from anonymous sources as factual statements.\",null,null,\"Subreddit: nfl\\u003cbr\\u003eCluster Summary: _SAFE_: Thought-provoking discussion on evaluating presidencies based on international affairs. _MANIPULATIVE_: Misleading framing of information from anonymous sources as factual statements.\",null,\"Subreddit: nfl\\u003cbr\\u003eCluster Summary: Safe: Repeated emphasis on safety for reassurance and trust-building.\",\"Subreddit: nfl\\u003cbr\\u003eCluster Summary: Safe: Repeated emphasis on safety for reassurance and trust-building.\",\"Subreddit: nfl\\u003cbr\\u003eCluster Summary: _SAFE_: Thought-provoking discussion on evaluating presidencies based on international affairs. _MANIPULATIVE_: Misleading framing of information from anonymous sources as factual statements.\",\"Subreddit: nfl\\u003cbr\\u003eCluster Summary: _SAFE_: Thought-provoking discussion on evaluating presidencies based on international affairs. _MANIPULATIVE_: Misleading framing of information from anonymous sources as factual statements.\",\"Subreddit: nfl\\u003cbr\\u003eCluster Summary: _SAFE_: Thought-provoking discussion on evaluating presidencies based on international affairs. _MANIPULATIVE_: Misleading framing of information from anonymous sources as factual statements.\",\"Subreddit: nfl\\u003cbr\\u003eCluster Summary: _SAFE_: Thought-provoking discussion on evaluating presidencies based on international affairs. _MANIPULATIVE_: Misleading framing of information from anonymous sources as factual statements.\",\"Subreddit: nfl\\u003cbr\\u003eCluster Summary: Safe: Repeated emphasis on safety for reassurance and trust-building.\",\"Subreddit: nfl\\u003cbr\\u003eCluster Summary: _SAFE_: Thought-provoking discussion on evaluating presidencies based on international affairs. _MANIPULATIVE_: Misleading framing of information from anonymous sources as factual statements.\",\"Subreddit: nfl\\u003cbr\\u003eCluster Summary: Safe: Seeking genuine advice on workout routines and fitness progress. Manipulative: Misleading workout advice and potentially influencing unrealistic expectations.\",\"Subreddit: nfl\\u003cbr\\u003eCluster Summary: _SAFE_: Thought-provoking discussion on evaluating presidencies based on international affairs. _MANIPULATIVE_: Misleading framing of information from anonymous sources as factual statements.\",\"Subreddit: nfl\\u003cbr\\u003eCluster Summary: _SAFE_: Thought-provoking discussion on evaluating presidencies based on international affairs. _MANIPULATIVE_: Misleading framing of information from anonymous sources as factual statements.\",\"Subreddit: nfl\\u003cbr\\u003eCluster Summary: _SAFE_: Thought-provoking discussion on evaluating presidencies based on international affairs. _MANIPULATIVE_: Misleading framing of information from anonymous sources as factual statements.\",\"Subreddit: nfl\\u003cbr\\u003eCluster Summary: _SAFE_: Thought-provoking discussion on evaluating presidencies based on international affairs. _MANIPULATIVE_: Misleading framing of information from anonymous sources as factual statements.\",\"Subreddit: nfl\\u003cbr\\u003eCluster Summary: _SAFE_: Thought-provoking discussion on evaluating presidencies based on international affairs. _MANIPULATIVE_: Misleading framing of information from anonymous sources as factual statements.\",\"Subreddit: nfl\\u003cbr\\u003eCluster Summary: Safe: Repeated emphasis on safety for reassurance and trust-building.\",null,\"Subreddit: nfl\\u003cbr\\u003eCluster Summary: _SAFE_: Thought-provoking discussion on evaluating presidencies based on international affairs. _MANIPULATIVE_: Misleading framing of information from anonymous sources as factual statements.\",\"Subreddit: nfl\\u003cbr\\u003eCluster Summary: Safe: Repeated emphasis on safety for reassurance and trust-building.\",\"Subreddit: nfl\\u003cbr\\u003eCluster Summary: Safe: Repeated emphasis on safety for reassurance and trust-building.\",\"Subreddit: nfl\\u003cbr\\u003eCluster Summary: _SAFE_: Thought-provoking discussion on evaluating presidencies based on international affairs. _MANIPULATIVE_: Misleading framing of information from anonymous sources as factual statements.\",\"Subreddit: nfl\\u003cbr\\u003eCluster Summary: _SAFE_: Thought-provoking discussion on evaluating presidencies based on international affairs. _MANIPULATIVE_: Misleading framing of information from anonymous sources as factual statements.\",\"Subreddit: nfl\\u003cbr\\u003eCluster Summary: _SAFE_: Thought-provoking discussion on evaluating presidencies based on international affairs. _MANIPULATIVE_: Misleading framing of information from anonymous sources as factual statements.\",\"Subreddit: nfl\\u003cbr\\u003eCluster Summary: _SAFE_: Thought-provoking discussion on evaluating presidencies based on international affairs. _MANIPULATIVE_: Misleading framing of information from anonymous sources as factual statements.\",\"Subreddit: nfl\\u003cbr\\u003eCluster Summary: _SAFE_: Thought-provoking discussion on evaluating presidencies based on international affairs. _MANIPULATIVE_: Misleading framing of information from anonymous sources as factual statements.\",null,\"Subreddit: nfl\\u003cbr\\u003eCluster Summary: _SAFE_: Thought-provoking discussion on evaluating presidencies based on international affairs. _MANIPULATIVE_: Misleading framing of information from anonymous sources as factual statements.\",\"Subreddit: nfl\\u003cbr\\u003eCluster Summary: Safe: Repeated emphasis on safety for reassurance and trust-building.\",\"Subreddit: nfl\\u003cbr\\u003eCluster Summary: Safe: Repeated emphasis on safety for reassurance and trust-building.\",\"Subreddit: nfl\\u003cbr\\u003eCluster Summary: _SAFE_: Thought-provoking discussion on evaluating presidencies based on international affairs. _MANIPULATIVE_: Misleading framing of information from anonymous sources as factual statements.\",\"Subreddit: nfl\\u003cbr\\u003eCluster Summary: Safe: Repeated emphasis on safety for reassurance and trust-building.\",\"Subreddit: nfl\\u003cbr\\u003eCluster Summary: _SAFE_: Thought-provoking discussion on evaluating presidencies based on international affairs. _MANIPULATIVE_: Misleading framing of information from anonymous sources as factual statements.\",null,\"Subreddit: nfl\\u003cbr\\u003eCluster Summary: Safe: Repeated emphasis on safety for reassurance and trust-building.\",\"Subreddit: nfl\\u003cbr\\u003eCluster Summary: _SAFE_: Thought-provoking discussion on evaluating presidencies based on international affairs. _MANIPULATIVE_: Misleading framing of information from anonymous sources as factual statements.\",\"Subreddit: nfl\\u003cbr\\u003eCluster Summary: _SAFE_: Thought-provoking discussion on evaluating presidencies based on international affairs. _MANIPULATIVE_: Misleading framing of information from anonymous sources as factual statements.\",\"Subreddit: nfl\\u003cbr\\u003eCluster Summary: _SAFE_: Thought-provoking discussion on evaluating presidencies based on international affairs. _MANIPULATIVE_: Misleading framing of information from anonymous sources as factual statements.\",\"Subreddit: nfl\\u003cbr\\u003eCluster Summary: _SAFE_: Thought-provoking discussion on evaluating presidencies based on international affairs. _MANIPULATIVE_: Misleading framing of information from anonymous sources as factual statements.\",\"Subreddit: nfl\\u003cbr\\u003eCluster Summary: _SAFE_: Thought-provoking discussion on evaluating presidencies based on international affairs. _MANIPULATIVE_: Misleading framing of information from anonymous sources as factual statements.\",\"Subreddit: nfl\\u003cbr\\u003eCluster Summary: Safe: Repeated emphasis on safety for reassurance and trust-building.\",\"Subreddit: nfl\\u003cbr\\u003eCluster Summary: Post is safe, light-hearted humor in appropriate subreddit.\",\"Subreddit: Showerthoughts\\u003cbr\\u003eCluster Summary: Post is safe, light-hearted humor in appropriate subreddit.\",\"Subreddit: Showerthoughts\\u003cbr\\u003eCluster Summary: Safe: Repeated emphasis on safety for reassurance and trust-building.\",\"Subreddit: Showerthoughts\\u003cbr\\u003eCluster Summary: Post is safe, light-hearted humor in appropriate subreddit.\",\"Subreddit: Showerthoughts\\u003cbr\\u003eCluster Summary: Post is safe, light-hearted humor in appropriate subreddit.\",\"Subreddit: Showerthoughts\\u003cbr\\u003eCluster Summary: _SAFE_: Thought-provoking discussion on evaluating presidencies based on international affairs. _MANIPULATIVE_: Misleading framing of information from anonymous sources as factual statements.\",\"Subreddit: Showerthoughts\\u003cbr\\u003eCluster Summary: Post is safe, light-hearted humor in appropriate subreddit.\",\"Subreddit: Showerthoughts\\u003cbr\\u003eCluster Summary: Safe: Repeated emphasis on safety for reassurance and trust-building.\",\"Subreddit: Showerthoughts\\u003cbr\\u003eCluster Summary: Post is safe, light-hearted humor in appropriate subreddit.\",\"Subreddit: Showerthoughts\\u003cbr\\u003eCluster Summary: Post is safe, light-hearted humor in appropriate subreddit.\",\"Subreddit: Showerthoughts\\u003cbr\\u003eCluster Summary: _SAFE_: Thought-provoking discussion on evaluating presidencies based on international affairs. _MANIPULATIVE_: Misleading framing of information from anonymous sources as factual statements.\",\"Subreddit: Showerthoughts\\u003cbr\\u003eCluster Summary: Safe: Repeated emphasis on safety for reassurance and trust-building.\",\"Subreddit: Showerthoughts\\u003cbr\\u003eCluster Summary: Post is safe, light-hearted humor in appropriate subreddit.\",\"Subreddit: Showerthoughts\\u003cbr\\u003eCluster Summary: Post is safe, light-hearted humor in appropriate subreddit.\",\"Subreddit: Showerthoughts\\u003cbr\\u003eCluster Summary: Safe: Seeking genuine advice on workout routines and fitness progress. Manipulative: Misleading workout advice and potentially influencing unrealistic expectations.\",\"Subreddit: Showerthoughts\\u003cbr\\u003eCluster Summary: Post is safe, light-hearted humor in appropriate subreddit.\",\"Subreddit: Showerthoughts\\u003cbr\\u003eCluster Summary: Post is safe, light-hearted humor in appropriate subreddit.\",\"Subreddit: Showerthoughts\\u003cbr\\u003eCluster Summary: Safe: Repeated emphasis on safety for reassurance and trust-building.\",\"Subreddit: Showerthoughts\\u003cbr\\u003eCluster Summary: Safe: Repeated emphasis on safety for reassurance and trust-building.\",\"Subreddit: Showerthoughts\\u003cbr\\u003eCluster Summary: Post is safe, light-hearted humor in appropriate subreddit.\",\"Subreddit: Showerthoughts\\u003cbr\\u003eCluster Summary: Post is safe, light-hearted humor in appropriate subreddit.\",\"Subreddit: Showerthoughts\\u003cbr\\u003eCluster Summary: _SAFE_: Thought-provoking discussion on evaluating presidencies based on international affairs. _MANIPULATIVE_: Misleading framing of information from anonymous sources as factual statements.\",\"Subreddit: Showerthoughts\\u003cbr\\u003eCluster Summary: Safe: Repeated emphasis on safety for reassurance and trust-building.\",\"Subreddit: Showerthoughts\\u003cbr\\u003eCluster Summary: _SAFE_: Thought-provoking discussion on evaluating presidencies based on international affairs. _MANIPULATIVE_: Misleading framing of information from anonymous sources as factual statements.\",\"Subreddit: Showerthoughts\\u003cbr\\u003eCluster Summary: _SAFE_: Thought-provoking discussion on evaluating presidencies based on international affairs. _MANIPULATIVE_: Misleading framing of information from anonymous sources as factual statements.\",\"Subreddit: Showerthoughts\\u003cbr\\u003eCluster Summary: _SAFE_: Thought-provoking discussion on evaluating presidencies based on international affairs. _MANIPULATIVE_: Misleading framing of information from anonymous sources as factual statements.\",\"Subreddit: Showerthoughts\\u003cbr\\u003eCluster Summary: Post is safe, light-hearted humor in appropriate subreddit.\",\"Subreddit: Showerthoughts\\u003cbr\\u003eCluster Summary: Post is safe, light-hearted humor in appropriate subreddit.\",\"Subreddit: Showerthoughts\\u003cbr\\u003eCluster Summary: Post is safe, light-hearted humor in appropriate subreddit.\",\"Subreddit: Showerthoughts\\u003cbr\\u003eCluster Summary: Safe: Repeated emphasis on safety for reassurance and trust-building.\",\"Subreddit: Showerthoughts\\u003cbr\\u003eCluster Summary: Post is safe, light-hearted humor in appropriate subreddit.\",\"Subreddit: Showerthoughts\\u003cbr\\u003eCluster Summary: _SAFE_: Thought-provoking discussion on evaluating presidencies based on international affairs. _MANIPULATIVE_: Misleading framing of information from anonymous sources as factual statements.\",\"Subreddit: Showerthoughts\\u003cbr\\u003eCluster Summary: Post is safe, light-hearted humor in appropriate subreddit.\",\"Subreddit: Showerthoughts\\u003cbr\\u003eCluster Summary: Safe: Repeated emphasis on safety for reassurance and trust-building.\",\"Subreddit: Showerthoughts\\u003cbr\\u003eCluster Summary: Post is safe, light-hearted humor in appropriate subreddit.\",\"Subreddit: Showerthoughts\\u003cbr\\u003eCluster Summary: Post is safe, light-hearted humor in appropriate subreddit.\",\"Subreddit: Showerthoughts\\u003cbr\\u003eCluster Summary: Post is safe, light-hearted humor in appropriate subreddit.\",\"Subreddit: Showerthoughts\\u003cbr\\u003eCluster Summary: Post is safe, light-hearted humor in appropriate subreddit.\",\"Subreddit: Showerthoughts\\u003cbr\\u003eCluster Summary: _SAFE_: Thought-provoking discussion on evaluating presidencies based on international affairs. _MANIPULATIVE_: Misleading framing of information from anonymous sources as factual statements.\",\"Subreddit: Showerthoughts\\u003cbr\\u003eCluster Summary: _SAFE_: Thought-provoking discussion on evaluating presidencies based on international affairs. _MANIPULATIVE_: Misleading framing of information from anonymous sources as factual statements.\",\"Subreddit: Showerthoughts\\u003cbr\\u003eCluster Summary: Safe: Repeated emphasis on safety for reassurance and trust-building.\",\"Subreddit: Showerthoughts\\u003cbr\\u003eCluster Summary: Safe: Repeated emphasis on safety for reassurance and trust-building.\",\"Subreddit: Showerthoughts\\u003cbr\\u003eCluster Summary: Post is safe, light-hearted humor in appropriate subreddit.\",\"Subreddit: Showerthoughts\\u003cbr\\u003eCluster Summary: _SAFE_: Thought-provoking discussion on evaluating presidencies based on international affairs. _MANIPULATIVE_: Misleading framing of information from anonymous sources as factual statements.\",\"Subreddit: politics\\u003cbr\\u003eCluster Summary: Safe: Repeated emphasis on safety for reassurance and trust-building.\",null,\"Subreddit: politics\\u003cbr\\u003eCluster Summary: _SAFE_: Thought-provoking discussion on evaluating presidencies based on international affairs. _MANIPULATIVE_: Misleading framing of information from anonymous sources as factual statements.\",null,\"Subreddit: politics\\u003cbr\\u003eCluster Summary: _SAFE_: Thought-provoking discussion on evaluating presidencies based on international affairs. _MANIPULATIVE_: Misleading framing of information from anonymous sources as factual statements.\",\"Subreddit: politics\\u003cbr\\u003eCluster Summary: _SAFE_: Thought-provoking discussion on evaluating presidencies based on international affairs. _MANIPULATIVE_: Misleading framing of information from anonymous sources as factual statements.\",\"Subreddit: politics\\u003cbr\\u003eCluster Summary: Safe: Repeated emphasis on safety for reassurance and trust-building.\",\"Subreddit: politics\\u003cbr\\u003eCluster Summary: _SAFE_: Thought-provoking discussion on evaluating presidencies based on international affairs. _MANIPULATIVE_: Misleading framing of information from anonymous sources as factual statements.\",\"Subreddit: politics\\u003cbr\\u003eCluster Summary: Safe: Repeated emphasis on safety for reassurance and trust-building.\",\"Subreddit: politics\\u003cbr\\u003eCluster Summary: _SAFE_: Thought-provoking discussion on evaluating presidencies based on international affairs. _MANIPULATIVE_: Misleading framing of information from anonymous sources as factual statements.\",null,\"Subreddit: politics\\u003cbr\\u003eCluster Summary: Safe: Repeated emphasis on safety for reassurance and trust-building.\",\"Subreddit: politics\\u003cbr\\u003eCluster Summary: _SAFE_: Thought-provoking discussion on evaluating presidencies based on international affairs. _MANIPULATIVE_: Misleading framing of information from anonymous sources as factual statements.\",\"Subreddit: politics\\u003cbr\\u003eCluster Summary: _SAFE_: Thought-provoking discussion on evaluating presidencies based on international affairs. _MANIPULATIVE_: Misleading framing of information from anonymous sources as factual statements.\",\"Subreddit: politics\\u003cbr\\u003eCluster Summary: _SAFE_: Thought-provoking discussion on evaluating presidencies based on international affairs. _MANIPULATIVE_: Misleading framing of information from anonymous sources as factual statements.\",\"Subreddit: politics\\u003cbr\\u003eCluster Summary: _SAFE_: Thought-provoking discussion on evaluating presidencies based on international affairs. _MANIPULATIVE_: Misleading framing of information from anonymous sources as factual statements.\",\"Subreddit: politics\\u003cbr\\u003eCluster Summary: _SAFE_: Thought-provoking discussion on evaluating presidencies based on international affairs. _MANIPULATIVE_: Misleading framing of information from anonymous sources as factual statements.\",\"Subreddit: politics\\u003cbr\\u003eCluster Summary: _SAFE_: Thought-provoking discussion on evaluating presidencies based on international affairs. _MANIPULATIVE_: Misleading framing of information from anonymous sources as factual statements.\",\"Subreddit: politics\\u003cbr\\u003eCluster Summary: _SAFE_: Thought-provoking discussion on evaluating presidencies based on international affairs. _MANIPULATIVE_: Misleading framing of information from anonymous sources as factual statements.\",\"Subreddit: politics\\u003cbr\\u003eCluster Summary: _SAFE_: Thought-provoking discussion on evaluating presidencies based on international affairs. _MANIPULATIVE_: Misleading framing of information from anonymous sources as factual statements.\",\"Subreddit: politics\\u003cbr\\u003eCluster Summary: _SAFE_: Thought-provoking discussion on evaluating presidencies based on international affairs. _MANIPULATIVE_: Misleading framing of information from anonymous sources as factual statements.\",\"Subreddit: politics\\u003cbr\\u003eCluster Summary: Safe: Repeated emphasis on safety for reassurance and trust-building.\",\"Subreddit: politics\\u003cbr\\u003eCluster Summary: Safe: Repeated emphasis on safety for reassurance and trust-building.\",\"Subreddit: politics\\u003cbr\\u003eCluster Summary: Safe: Repeated emphasis on safety for reassurance and trust-building.\",\"Subreddit: politics\\u003cbr\\u003eCluster Summary: _SAFE_: Thought-provoking discussion on evaluating presidencies based on international affairs. _MANIPULATIVE_: Misleading framing of information from anonymous sources as factual statements.\",\"Subreddit: politics\\u003cbr\\u003eCluster Summary: Safe: Repeated emphasis on safety for reassurance and trust-building.\",\"Subreddit: politics\\u003cbr\\u003eCluster Summary: Safe: Repeated emphasis on safety for reassurance and trust-building.\",\"Subreddit: politics\\u003cbr\\u003eCluster Summary: Safe: Repeated emphasis on safety for reassurance and trust-building.\",null,\"Subreddit: politics\\u003cbr\\u003eCluster Summary: _SAFE_: Thought-provoking discussion on evaluating presidencies based on international affairs. _MANIPULATIVE_: Misleading framing of information from anonymous sources as factual statements.\",\"Subreddit: politics\\u003cbr\\u003eCluster Summary: Safe: Repeated emphasis on safety for reassurance and trust-building.\",null,null,\"Subreddit: politics\\u003cbr\\u003eCluster Summary: _SAFE_: Thought-provoking discussion on evaluating presidencies based on international affairs. _MANIPULATIVE_: Misleading framing of information from anonymous sources as factual statements.\",\"Subreddit: politics\\u003cbr\\u003eCluster Summary: _SAFE_: Thought-provoking discussion on evaluating presidencies based on international affairs. _MANIPULATIVE_: Misleading framing of information from anonymous sources as factual statements.\",\"Subreddit: politics\\u003cbr\\u003eCluster Summary: _SAFE_: Thought-provoking discussion on evaluating presidencies based on international affairs. _MANIPULATIVE_: Misleading framing of information from anonymous sources as factual statements.\",\"Subreddit: politics\\u003cbr\\u003eCluster Summary: _SAFE_: Thought-provoking discussion on evaluating presidencies based on international affairs. _MANIPULATIVE_: Misleading framing of information from anonymous sources as factual statements.\",\"Subreddit: politics\\u003cbr\\u003eCluster Summary: Safe: Repeated emphasis on safety for reassurance and trust-building.\",\"Subreddit: politics\\u003cbr\\u003eCluster Summary: Safe: Repeated emphasis on safety for reassurance and trust-building.\",\"Subreddit: politics\\u003cbr\\u003eCluster Summary: _SAFE_: Thought-provoking discussion on evaluating presidencies based on international affairs. _MANIPULATIVE_: Misleading framing of information from anonymous sources as factual statements.\",\"Subreddit: politics\\u003cbr\\u003eCluster Summary: Safe: Repeated emphasis on safety for reassurance and trust-building.\",\"Subreddit: politics\\u003cbr\\u003eCluster Summary: _SAFE_: Thought-provoking discussion on evaluating presidencies based on international affairs. _MANIPULATIVE_: Misleading framing of information from anonymous sources as factual statements.\",\"Subreddit: politics\\u003cbr\\u003eCluster Summary: _SAFE_: Thought-provoking discussion on evaluating presidencies based on international affairs. _MANIPULATIVE_: Misleading framing of information from anonymous sources as factual statements.\",\"Subreddit: politics\\u003cbr\\u003eCluster Summary: _SAFE_: Thought-provoking discussion on evaluating presidencies based on international affairs. _MANIPULATIVE_: Misleading framing of information from anonymous sources as factual statements.\",\"Subreddit: bodyweightfitness\\u003cbr\\u003eCluster Summary: _SAFE_: Thought-provoking discussion on evaluating presidencies based on international affairs. _MANIPULATIVE_: Misleading framing of information from anonymous sources as factual statements.\",\"Subreddit: bodyweightfitness\\u003cbr\\u003eCluster Summary: Safe: Seeking genuine advice on workout routines and fitness progress. Manipulative: Misleading workout advice and potentially influencing unrealistic expectations.\",\"Subreddit: bodyweightfitness\\u003cbr\\u003eCluster Summary: Safe: Seeking genuine advice on workout routines and fitness progress. Manipulative: Misleading workout advice and potentially influencing unrealistic expectations.\",\"Subreddit: bodyweightfitness\\u003cbr\\u003eCluster Summary: Safe: Seeking genuine advice on workout routines and fitness progress. Manipulative: Misleading workout advice and potentially influencing unrealistic expectations.\",\"Subreddit: bodyweightfitness\\u003cbr\\u003eCluster Summary: Safe: Seeking genuine advice on workout routines and fitness progress. Manipulative: Misleading workout advice and potentially influencing unrealistic expectations.\",\"Subreddit: bodyweightfitness\\u003cbr\\u003eCluster Summary: Safe: Seeking genuine advice on workout routines and fitness progress. Manipulative: Misleading workout advice and potentially influencing unrealistic expectations.\",\"Subreddit: bodyweightfitness\\u003cbr\\u003eCluster Summary: Safe: Seeking genuine advice on workout routines and fitness progress. Manipulative: Misleading workout advice and potentially influencing unrealistic expectations.\",\"Subreddit: bodyweightfitness\\u003cbr\\u003eCluster Summary: Safe: Seeking genuine advice on workout routines and fitness progress. Manipulative: Misleading workout advice and potentially influencing unrealistic expectations.\",\"Subreddit: bodyweightfitness\\u003cbr\\u003eCluster Summary: Safe: Seeking genuine advice on workout routines and fitness progress. Manipulative: Misleading workout advice and potentially influencing unrealistic expectations.\",\"Subreddit: bodyweightfitness\\u003cbr\\u003eCluster Summary: Safe: Seeking genuine advice on workout routines and fitness progress. Manipulative: Misleading workout advice and potentially influencing unrealistic expectations.\",\"Subreddit: bodyweightfitness\\u003cbr\\u003eCluster Summary: Safe: Seeking genuine advice on workout routines and fitness progress. Manipulative: Misleading workout advice and potentially influencing unrealistic expectations.\",\"Subreddit: bodyweightfitness\\u003cbr\\u003eCluster Summary: Safe: Seeking genuine advice on workout routines and fitness progress. Manipulative: Misleading workout advice and potentially influencing unrealistic expectations.\",\"Subreddit: bodyweightfitness\\u003cbr\\u003eCluster Summary: Safe: Seeking genuine advice on workout routines and fitness progress. Manipulative: Misleading workout advice and potentially influencing unrealistic expectations.\",\"Subreddit: bodyweightfitness\\u003cbr\\u003eCluster Summary: Safe: Seeking genuine advice on workout routines and fitness progress. Manipulative: Misleading workout advice and potentially influencing unrealistic expectations.\",\"Subreddit: bodyweightfitness\\u003cbr\\u003eCluster Summary: Safe: Seeking genuine advice on workout routines and fitness progress. Manipulative: Misleading workout advice and potentially influencing unrealistic expectations.\",\"Subreddit: bodyweightfitness\\u003cbr\\u003eCluster Summary: Safe: Seeking genuine advice on workout routines and fitness progress. Manipulative: Misleading workout advice and potentially influencing unrealistic expectations.\",\"Subreddit: bodyweightfitness\\u003cbr\\u003eCluster Summary: Safe: Seeking genuine advice on workout routines and fitness progress. Manipulative: Misleading workout advice and potentially influencing unrealistic expectations.\",\"Subreddit: bodyweightfitness\\u003cbr\\u003eCluster Summary: Safe: Seeking genuine advice on workout routines and fitness progress. Manipulative: Misleading workout advice and potentially influencing unrealistic expectations.\",\"Subreddit: bodyweightfitness\\u003cbr\\u003eCluster Summary: _SAFE_: Thought-provoking discussion on evaluating presidencies based on international affairs. _MANIPULATIVE_: Misleading framing of information from anonymous sources as factual statements.\",\"Subreddit: bodyweightfitness\\u003cbr\\u003eCluster Summary: Safe: Seeking genuine advice on workout routines and fitness progress. Manipulative: Misleading workout advice and potentially influencing unrealistic expectations.\",\"Subreddit: bodyweightfitness\\u003cbr\\u003eCluster Summary: Safe: Seeking genuine advice on workout routines and fitness progress. Manipulative: Misleading workout advice and potentially influencing unrealistic expectations.\",\"Subreddit: bodyweightfitness\\u003cbr\\u003eCluster Summary: Safe: Seeking genuine advice on workout routines and fitness progress. Manipulative: Misleading workout advice and potentially influencing unrealistic expectations.\",\"Subreddit: bodyweightfitness\\u003cbr\\u003eCluster Summary: Safe: Seeking genuine advice on workout routines and fitness progress. Manipulative: Misleading workout advice and potentially influencing unrealistic expectations.\",\"Subreddit: bodyweightfitness\\u003cbr\\u003eCluster Summary: Safe: Seeking genuine advice on workout routines and fitness progress. Manipulative: Misleading workout advice and potentially influencing unrealistic expectations.\",\"Subreddit: bodyweightfitness\\u003cbr\\u003eCluster Summary: Safe: Seeking genuine advice on workout routines and fitness progress. Manipulative: Misleading workout advice and potentially influencing unrealistic expectations.\",\"Subreddit: bodyweightfitness\\u003cbr\\u003eCluster Summary: Safe: Seeking genuine advice on workout routines and fitness progress. Manipulative: Misleading workout advice and potentially influencing unrealistic expectations.\",\"Subreddit: bodyweightfitness\\u003cbr\\u003eCluster Summary: Safe: Seeking genuine advice on workout routines and fitness progress. Manipulative: Misleading workout advice and potentially influencing unrealistic expectations.\",\"Subreddit: bodyweightfitness\\u003cbr\\u003eCluster Summary: _SAFE_: Thought-provoking discussion on evaluating presidencies based on international affairs. _MANIPULATIVE_: Misleading framing of information from anonymous sources as factual statements.\",\"Subreddit: bodyweightfitness\\u003cbr\\u003eCluster Summary: Safe: Seeking genuine advice on workout routines and fitness progress. Manipulative: Misleading workout advice and potentially influencing unrealistic expectations.\",\"Subreddit: bodyweightfitness\\u003cbr\\u003eCluster Summary: Safe: Seeking genuine advice on workout routines and fitness progress. Manipulative: Misleading workout advice and potentially influencing unrealistic expectations.\",\"Subreddit: bodyweightfitness\\u003cbr\\u003eCluster Summary: Safe: Seeking genuine advice on workout routines and fitness progress. Manipulative: Misleading workout advice and potentially influencing unrealistic expectations.\",\"Subreddit: bodyweightfitness\\u003cbr\\u003eCluster Summary: _SAFE_: Thought-provoking discussion on evaluating presidencies based on international affairs. _MANIPULATIVE_: Misleading framing of information from anonymous sources as factual statements.\",\"Subreddit: bodyweightfitness\\u003cbr\\u003eCluster Summary: Safe: Seeking genuine advice on workout routines and fitness progress. Manipulative: Misleading workout advice and potentially influencing unrealistic expectations.\",\"Subreddit: bodyweightfitness\\u003cbr\\u003eCluster Summary: Safe: Seeking genuine advice on workout routines and fitness progress. Manipulative: Misleading workout advice and potentially influencing unrealistic expectations.\",\"Subreddit: bodyweightfitness\\u003cbr\\u003eCluster Summary: Safe: Seeking genuine advice on workout routines and fitness progress. Manipulative: Misleading workout advice and potentially influencing unrealistic expectations.\",\"Subreddit: bodyweightfitness\\u003cbr\\u003eCluster Summary: Safe: Seeking genuine advice on workout routines and fitness progress. Manipulative: Misleading workout advice and potentially influencing unrealistic expectations.\",\"Subreddit: bodyweightfitness\\u003cbr\\u003eCluster Summary: Safe: Seeking genuine advice on workout routines and fitness progress. Manipulative: Misleading workout advice and potentially influencing unrealistic expectations.\",\"Subreddit: bodyweightfitness\\u003cbr\\u003eCluster Summary: Safe: Seeking genuine advice on workout routines and fitness progress. Manipulative: Misleading workout advice and potentially influencing unrealistic expectations.\",\"Subreddit: bodyweightfitness\\u003cbr\\u003eCluster Summary: Safe: Seeking genuine advice on workout routines and fitness progress. Manipulative: Misleading workout advice and potentially influencing unrealistic expectations.\",\"Subreddit: bodyweightfitness\\u003cbr\\u003eCluster Summary: Safe: Seeking genuine advice on workout routines and fitness progress. Manipulative: Misleading workout advice and potentially influencing unrealistic expectations.\",\"Subreddit: bodyweightfitness\\u003cbr\\u003eCluster Summary: _SAFE_: Thought-provoking discussion on evaluating presidencies based on international affairs. _MANIPULATIVE_: Misleading framing of information from anonymous sources as factual statements.\",\"Subreddit: bodyweightfitness\\u003cbr\\u003eCluster Summary: Safe: Seeking genuine advice on workout routines and fitness progress. Manipulative: Misleading workout advice and potentially influencing unrealistic expectations.\",\"Subreddit: bodyweightfitness\\u003cbr\\u003eCluster Summary: Safe: Seeking genuine advice on workout routines and fitness progress. Manipulative: Misleading workout advice and potentially influencing unrealistic expectations.\",\"Subreddit: bodyweightfitness\\u003cbr\\u003eCluster Summary: Safe: Seeking genuine advice on workout routines and fitness progress. Manipulative: Misleading workout advice and potentially influencing unrealistic expectations.\",\"Subreddit: bodyweightfitness\\u003cbr\\u003eCluster Summary: Safe: Seeking genuine advice on workout routines and fitness progress. Manipulative: Misleading workout advice and potentially influencing unrealistic expectations.\",\"Subreddit: bodyweightfitness\\u003cbr\\u003eCluster Summary: Safe: Seeking genuine advice on workout routines and fitness progress. Manipulative: Misleading workout advice and potentially influencing unrealistic expectations.\",\"Subreddit: bodyweightfitness\\u003cbr\\u003eCluster Summary: Safe: Seeking genuine advice on workout routines and fitness progress. Manipulative: Misleading workout advice and potentially influencing unrealistic expectations.\",\"Subreddit: bodyweightfitness\\u003cbr\\u003eCluster Summary: Safe: Seeking genuine advice on workout routines and fitness progress. Manipulative: Misleading workout advice and potentially influencing unrealistic expectations.\",\"Subreddit: bodyweightfitness\\u003cbr\\u003eCluster Summary: Safe: Seeking genuine advice on workout routines and fitness progress. Manipulative: Misleading workout advice and potentially influencing unrealistic expectations.\",\"Subreddit: bodyweightfitness\\u003cbr\\u003eCluster Summary: Safe: Seeking genuine advice on workout routines and fitness progress. Manipulative: Misleading workout advice and potentially influencing unrealistic expectations.\",\"Subreddit: bodyweightfitness\\u003cbr\\u003eCluster Summary: Safe: Seeking genuine advice on workout routines and fitness progress. Manipulative: Misleading workout advice and potentially influencing unrealistic expectations.\",\"Subreddit: bodyweightfitness\\u003cbr\\u003eCluster Summary: Safe: Seeking genuine advice on workout routines and fitness progress. Manipulative: Misleading workout advice and potentially influencing unrealistic expectations.\",\"Subreddit: bodyweightfitness\\u003cbr\\u003eCluster Summary: Safe: Seeking genuine advice on workout routines and fitness progress. Manipulative: Misleading workout advice and potentially influencing unrealistic expectations.\",\"Subreddit: bodyweightfitness\\u003cbr\\u003eCluster Summary: Safe: Seeking genuine advice on workout routines and fitness progress. Manipulative: Misleading workout advice and potentially influencing unrealistic expectations.\",\"Subreddit: bodyweightfitness\\u003cbr\\u003eCluster Summary: _SAFE_: Thought-provoking discussion on evaluating presidencies based on international affairs. _MANIPULATIVE_: Misleading framing of information from anonymous sources as factual statements.\",\"Subreddit: bodyweightfitness\\u003cbr\\u003eCluster Summary: Safe: Seeking genuine advice on workout routines and fitness progress. Manipulative: Misleading workout advice and potentially influencing unrealistic expectations.\",\"Subreddit: bodyweightfitness\\u003cbr\\u003eCluster Summary: Safe: Seeking genuine advice on workout routines and fitness progress. Manipulative: Misleading workout advice and potentially influencing unrealistic expectations.\",\"Subreddit: bodyweightfitness\\u003cbr\\u003eCluster Summary: Safe: Seeking genuine advice on workout routines and fitness progress. Manipulative: Misleading workout advice and potentially influencing unrealistic expectations.\",\"Subreddit: bodyweightfitness\\u003cbr\\u003eCluster Summary: Safe: Seeking genuine advice on workout routines and fitness progress. Manipulative: Misleading workout advice and potentially influencing unrealistic expectations.\",\"Subreddit: bodyweightfitness\\u003cbr\\u003eCluster Summary: Safe: Seeking genuine advice on workout routines and fitness progress. Manipulative: Misleading workout advice and potentially influencing unrealistic expectations.\",\"Subreddit: bodyweightfitness\\u003cbr\\u003eCluster Summary: Safe: Seeking genuine advice on workout routines and fitness progress. Manipulative: Misleading workout advice and potentially influencing unrealistic expectations.\",\"Subreddit: bodyweightfitness\\u003cbr\\u003eCluster Summary: Safe: Seeking genuine advice on workout routines and fitness progress. Manipulative: Misleading workout advice and potentially influencing unrealistic expectations.\",\"Subreddit: bodyweightfitness\\u003cbr\\u003eCluster Summary: Safe: Seeking genuine advice on workout routines and fitness progress. Manipulative: Misleading workout advice and potentially influencing unrealistic expectations.\",\"Subreddit: bodyweightfitness\\u003cbr\\u003eCluster Summary: Safe: Seeking genuine advice on workout routines and fitness progress. Manipulative: Misleading workout advice and potentially influencing unrealistic expectations.\",\"Subreddit: bodyweightfitness\\u003cbr\\u003eCluster Summary: Safe: Seeking genuine advice on workout routines and fitness progress. Manipulative: Misleading workout advice and potentially influencing unrealistic expectations.\",\"Subreddit: bodyweightfitness\\u003cbr\\u003eCluster Summary: Safe: Seeking genuine advice on workout routines and fitness progress. Manipulative: Misleading workout advice and potentially influencing unrealistic expectations.\",\"Subreddit: bodyweightfitness\\u003cbr\\u003eCluster Summary: Safe: Seeking genuine advice on workout routines and fitness progress. Manipulative: Misleading workout advice and potentially influencing unrealistic expectations.\",\"Subreddit: bodyweightfitness\\u003cbr\\u003eCluster Summary: Safe: Seeking genuine advice on workout routines and fitness progress. Manipulative: Misleading workout advice and potentially influencing unrealistic expectations.\",\"Subreddit: bodyweightfitness\\u003cbr\\u003eCluster Summary: Safe: Seeking genuine advice on workout routines and fitness progress. Manipulative: Misleading workout advice and potentially influencing unrealistic expectations.\",\"Subreddit: bodyweightfitness\\u003cbr\\u003eCluster Summary: Safe: Seeking genuine advice on workout routines and fitness progress. Manipulative: Misleading workout advice and potentially influencing unrealistic expectations.\",\"Subreddit: bodyweightfitness\\u003cbr\\u003eCluster Summary: Safe: Seeking genuine advice on workout routines and fitness progress. Manipulative: Misleading workout advice and potentially influencing unrealistic expectations.\",\"Subreddit: bodyweightfitness\\u003cbr\\u003eCluster Summary: Safe: Seeking genuine advice on workout routines and fitness progress. Manipulative: Misleading workout advice and potentially influencing unrealistic expectations.\",\"Subreddit: bodyweightfitness\\u003cbr\\u003eCluster Summary: Safe: Seeking genuine advice on workout routines and fitness progress. Manipulative: Misleading workout advice and potentially influencing unrealistic expectations.\",\"Subreddit: bodyweightfitness\\u003cbr\\u003eCluster Summary: _SAFE_: Thought-provoking discussion on evaluating presidencies based on international affairs. _MANIPULATIVE_: Misleading framing of information from anonymous sources as factual statements.\",\"Subreddit: bodyweightfitness\\u003cbr\\u003eCluster Summary: Safe: Repeated emphasis on safety for reassurance and trust-building.\",\"Subreddit: bodyweightfitness\\u003cbr\\u003eCluster Summary: Safe: Seeking genuine advice on workout routines and fitness progress. Manipulative: Misleading workout advice and potentially influencing unrealistic expectations.\",\"Subreddit: bodyweightfitness\\u003cbr\\u003eCluster Summary: Safe: Seeking genuine advice on workout routines and fitness progress. Manipulative: Misleading workout advice and potentially influencing unrealistic expectations.\",\"Subreddit: bodyweightfitness\\u003cbr\\u003eCluster Summary: Safe: Seeking genuine advice on workout routines and fitness progress. Manipulative: Misleading workout advice and potentially influencing unrealistic expectations.\",\"Subreddit: bodyweightfitness\\u003cbr\\u003eCluster Summary: Safe: Seeking genuine advice on workout routines and fitness progress. Manipulative: Misleading workout advice and potentially influencing unrealistic expectations.\",\"Subreddit: bodyweightfitness\\u003cbr\\u003eCluster Summary: Safe: Seeking genuine advice on workout routines and fitness progress. Manipulative: Misleading workout advice and potentially influencing unrealistic expectations.\",\"Subreddit: bodyweightfitness\\u003cbr\\u003eCluster Summary: Safe: Seeking genuine advice on workout routines and fitness progress. Manipulative: Misleading workout advice and potentially influencing unrealistic expectations.\",\"Subreddit: bodyweightfitness\\u003cbr\\u003eCluster Summary: Safe: Seeking genuine advice on workout routines and fitness progress. Manipulative: Misleading workout advice and potentially influencing unrealistic expectations.\",\"Subreddit: bodyweightfitness\\u003cbr\\u003eCluster Summary: Safe: Seeking genuine advice on workout routines and fitness progress. Manipulative: Misleading workout advice and potentially influencing unrealistic expectations.\",\"Subreddit: bodyweightfitness\\u003cbr\\u003eCluster Summary: Safe: Seeking genuine advice on workout routines and fitness progress. Manipulative: Misleading workout advice and potentially influencing unrealistic expectations.\",\"Subreddit: bodyweightfitness\\u003cbr\\u003eCluster Summary: Safe: Seeking genuine advice on workout routines and fitness progress. Manipulative: Misleading workout advice and potentially influencing unrealistic expectations.\",\"Subreddit: bodyweightfitness\\u003cbr\\u003eCluster Summary: Safe: Seeking genuine advice on workout routines and fitness progress. Manipulative: Misleading workout advice and potentially influencing unrealistic expectations.\",\"Subreddit: bodyweightfitness\\u003cbr\\u003eCluster Summary: Safe: Seeking genuine advice on workout routines and fitness progress. Manipulative: Misleading workout advice and potentially influencing unrealistic expectations.\",\"Subreddit: bodyweightfitness\\u003cbr\\u003eCluster Summary: Safe: Seeking genuine advice on workout routines and fitness progress. Manipulative: Misleading workout advice and potentially influencing unrealistic expectations.\",\"Subreddit: bodyweightfitness\\u003cbr\\u003eCluster Summary: Safe: Seeking genuine advice on workout routines and fitness progress. Manipulative: Misleading workout advice and potentially influencing unrealistic expectations.\",\"Subreddit: bodyweightfitness\\u003cbr\\u003eCluster Summary: Safe: Seeking genuine advice on workout routines and fitness progress. Manipulative: Misleading workout advice and potentially influencing unrealistic expectations.\",\"Subreddit: bodyweightfitness\\u003cbr\\u003eCluster Summary: Safe: Seeking genuine advice on workout routines and fitness progress. Manipulative: Misleading workout advice and potentially influencing unrealistic expectations.\",\"Subreddit: PoliticalDiscussion\\u003cbr\\u003eCluster Summary: _SAFE_: Thought-provoking discussion on evaluating presidencies based on international affairs. _MANIPULATIVE_: Misleading framing of information from anonymous sources as factual statements.\",\"Subreddit: PoliticalDiscussion\\u003cbr\\u003eCluster Summary: _SAFE_: Thought-provoking discussion on evaluating presidencies based on international affairs. _MANIPULATIVE_: Misleading framing of information from anonymous sources as factual statements.\",\"Subreddit: PoliticalDiscussion\\u003cbr\\u003eCluster Summary: _SAFE_: Thought-provoking discussion on evaluating presidencies based on international affairs. _MANIPULATIVE_: Misleading framing of information from anonymous sources as factual statements.\",\"Subreddit: PoliticalDiscussion\\u003cbr\\u003eCluster Summary: _SAFE_: Thought-provoking discussion on evaluating presidencies based on international affairs. _MANIPULATIVE_: Misleading framing of information from anonymous sources as factual statements.\",\"Subreddit: PoliticalDiscussion\\u003cbr\\u003eCluster Summary: _SAFE_: Thought-provoking discussion on evaluating presidencies based on international affairs. _MANIPULATIVE_: Misleading framing of information from anonymous sources as factual statements.\",\"Subreddit: PoliticalDiscussion\\u003cbr\\u003eCluster Summary: _SAFE_: Thought-provoking discussion on evaluating presidencies based on international affairs. _MANIPULATIVE_: Misleading framing of information from anonymous sources as factual statements.\",null,\"Subreddit: PoliticalDiscussion\\u003cbr\\u003eCluster Summary: _SAFE_: Thought-provoking discussion on evaluating presidencies based on international affairs. _MANIPULATIVE_: Misleading framing of information from anonymous sources as factual statements.\",\"Subreddit: PoliticalDiscussion\\u003cbr\\u003eCluster Summary: _SAFE_: Thought-provoking discussion on evaluating presidencies based on international affairs. _MANIPULATIVE_: Misleading framing of information from anonymous sources as factual statements.\"],\"legendgroup\":\"\",\"marker\":{\"color\":[2,2,0,0,2,2,2,2,2,0,2,2,0,2,0,2,2,2,-1,0,0,-1,2,-1,-1,2,-1,0,0,2,2,2,2,0,2,1,2,2,2,2,2,0,-1,2,0,0,2,2,2,2,2,-1,2,0,0,2,0,2,-1,0,2,2,2,2,2,0,3,3,0,3,3,2,3,0,3,3,2,0,3,3,1,3,3,0,0,3,3,2,0,2,2,2,3,3,3,0,3,2,3,0,3,3,3,3,2,2,0,0,3,2,0,-1,2,-1,2,2,0,2,0,2,-1,0,2,2,2,2,2,2,2,2,2,0,0,0,2,0,0,0,-1,2,0,-1,-1,2,2,2,2,0,0,2,0,2,2,2,2,1,1,1,1,1,1,1,1,1,1,1,1,1,1,1,1,1,2,1,1,1,1,1,1,1,1,2,1,1,1,2,1,1,1,1,1,1,1,1,2,1,1,1,1,1,1,1,1,1,1,1,1,1,2,1,1,1,1,1,1,1,1,1,1,1,1,1,1,1,1,1,1,2,0,1,1,1,1,1,1,1,1,1,1,1,1,1,1,1,1,2,2,2,2,2,2,-1,2,2],\"coloraxis\":\"coloraxis\",\"symbol\":\"circle\"},\"mode\":\"markers\",\"name\":\"\",\"orientation\":\"v\",\"showlegend\":false,\"x\":[5.036759853363037,5.054177284240723,-11.055187225341797,-11.238300323486328,5.399200916290283,5.164134502410889,7.323757648468018,5.28300142288208,5.045656681060791,-11.020612716674805,6.875850677490234,5.261549472808838,-11.178970336914062,5.687277317047119,-10.849096298217773,6.338958740234375,7.256592750549316,6.735198497772217,8.354378700256348,-11.030003547668457,-11.52115535736084,5.767777919769287,6.264954090118408,5.8243818283081055,5.740200042724609,6.751108169555664,5.914064407348633,-11.552080154418945,-11.24063777923584,6.673344135284424,7.234075546264648,6.147132873535156,7.019933223724365,-10.757331848144531,5.8146653175354,13.780191421508789,6.53849458694458,6.970333576202393,7.37620210647583,6.042760372161865,6.027833461761475,-10.94735336303711,5.751542091369629,6.150043487548828,-10.028347969055176,-11.14163589477539,6.390143871307373,6.548980236053467,6.471961975097656,6.3647942543029785,6.343977451324463,5.790343284606934,6.516361713409424,-11.074121475219727,-11.223721504211426,5.705999374389648,-11.163707733154297,6.452421188354492,5.779544353485107,-11.101350784301758,6.466469764709473,6.345086097717285,6.410420894622803,6.693013668060303,6.404128551483154,-11.410837173461914,6.589072227478027,6.568471908569336,-11.128490447998047,6.0163702964782715,6.624284744262695,7.41397762298584,6.848478317260742,-10.758749961853027,6.1615424156188965,5.989348888397217,7.4085235595703125,-10.867966651916504,6.8406500816345215,6.659622669219971,14.093871116638184,6.453049182891846,6.77473783493042,-11.220393180847168,-9.911081314086914,6.09969425201416,6.757980823516846,6.555703639984131,-11.352760314941406,6.301537036895752,7.707046985626221,7.3943562507629395,6.700798988342285,6.038190841674805,6.764739036560059,-9.969449043273926,6.660537242889404,7.833944320678711,6.324084281921387,-11.281522750854492,6.812803268432617,6.612409591674805,6.164058685302734,6.76238489151001,5.669272422790527,7.298048496246338,-11.222311973571777,-11.403424263000488,6.058518886566162,7.78271484375,-11.31796646118164,8.314714431762695,7.841520309448242,8.296899795532227,8.413249015808105,8.440675735473633,-10.95651912689209,8.30380916595459,-11.247796058654785,5.673585414886475,8.277216911315918,-10.792977333068848,5.765798091888428,8.354976654052734,5.679451942443848,8.348750114440918,8.345953941345215,5.883793830871582,8.345858573913574,8.439549446105957,8.357854843139648,-9.89194107055664,-11.04189395904541,-11.125829696655273,8.311691284179688,-10.742657661437988,-11.423104286193848,-11.261578559875488,8.300256729125977,5.859610557556152,-10.967141151428223,8.327360153198242,8.314440727233887,5.684566020965576,8.364343643188477,7.896442413330078,7.870420455932617,-10.676286697387695,-10.138114929199219,8.426584243774414,-11.316736221313477,8.366729736328125,8.383890151977539,8.343996047973633,9.302999496459961,14.43040943145752,14.415253639221191,13.578490257263184,15.000008583068848,13.184877395629883,13.430283546447754,13.688440322875977,17.559795379638672,13.503304481506348,15.067726135253906,13.535107612609863,13.393696784973145,17.55331039428711,12.632587432861328,12.734871864318848,12.949226379394531,14.702028274536133,9.154788970947266,14.397252082824707,14.99795913696289,12.759729385375977,17.478595733642578,13.428621292114258,15.837898254394531,12.587386131286621,15.425600051879883,5.795687198638916,16.812044143676758,15.188233375549316,15.237643241882324,7.97683048248291,14.858745574951172,15.415669441223145,12.899219512939453,13.160635948181152,13.20211124420166,17.36249542236328,13.573553085327148,15.151410102844238,9.273807525634766,13.5875883102417,15.391382217407227,14.96121597290039,15.674256324768066,12.595669746398926,12.602811813354492,13.718999862670898,15.346673011779785,13.135978698730469,17.593116760253906,15.480335235595703,14.265984535217285,14.69467544555664,9.075053215026855,13.343674659729004,13.210771560668945,13.296191215515137,15.608233451843262,14.339856147766113,16.81813621520996,15.372716903686523,15.602691650390625,12.760972023010254,14.081452369689941,14.367412567138672,13.850430488586426,14.414840698242188,15.25644302368164,13.71957015991211,15.528090476989746,13.661041259765625,14.438339233398438,9.258939743041992,-11.43148422241211,12.945962905883789,13.907965660095215,14.642257690429688,17.603633880615234,14.143378257751465,13.159744262695312,16.82766342163086,15.580288887023926,14.026918411254883,15.588682174682617,13.307600021362305,14.269532203674316,14.873042106628418,13.333296775817871,15.665740013122559,12.974662780761719,7.280582904815674,8.372269630432129,6.990258693695068,8.343730926513672,8.337823867797852,8.295080184936523,8.288649559020996,8.332018852233887,7.266824245452881],\"xaxis\":\"x\",\"y\":[5.105900287628174,5.0879902839660645,-2.246403455734253,-2.0487632751464844,4.858424186706543,5.02416467666626,6.057427406311035,4.931896686553955,5.098118305206299,-2.0767879486083984,5.855935573577881,4.935758113861084,-1.9984455108642578,4.272961616516113,-1.828603982925415,10.133997917175293,5.4180073738098145,9.492892265319824,-2.609926700592041,-2.299501657485962,-2.2438836097717285,12.092842102050781,10.05208683013916,12.068038940429688,12.157901763916016,9.483213424682617,12.023384094238281,-2.048828125,-1.71073317527771,9.539451599121094,5.863645076751709,10.492582321166992,5.91709566116333,-3.2725422382354736,12.09448528289795,7.362972736358643,9.622858047485352,5.965206623077393,5.862773418426514,11.578469276428223,11.62276840209961,-2.172990322113037,12.144550323486328,10.493606567382812,-3.037724018096924,-1.865105390548706,10.226743698120117,9.567055702209473,9.728808403015137,9.939997673034668,10.148602485656738,12.105680465698242,9.634074211120605,-2.1976540088653564,-2.095553398132324,4.818472385406494,-1.8925613164901733,9.839899063110352,12.126504898071289,-1.8779208660125732,9.93818473815918,10.159751892089844,9.314623832702637,9.5325927734375,9.249656677246094,-2.3078253269195557,2.5461978912353516,2.126760959625244,-2.2354235649108887,2.6827383041381836,2.212327480316162,6.177877426147461,2.4945802688598633,-3.27101993560791,2.570892095565796,2.7150704860687256,5.99769401550293,-2.3287980556488037,1.6766985654830933,1.5890835523605347,7.746801376342773,1.7316566705703735,1.600264072418213,-2.338179349899292,-3.1494977474212646,2.548543691635132,1.5933594703674316,5.4812164306640625,-2.144357442855835,5.299970626831055,5.875372886657715,6.10588264465332,2.383552074432373,2.6601927280426025,1.55155348777771,-3.0928549766540527,1.5391019582748413,5.802964210510254,1.8392009735107422,-2.4356584548950195,2.48030424118042,1.5128594636917114,2.4638969898223877,2.43141770362854,4.6081109046936035,5.602809906005859,-1.9545449018478394,-2.157846689224243,2.5734574794769287,5.888024806976318,-2.132800340652466,-3.3898351192474365,5.866567134857178,-2.741250991821289,-2.18941593170166,-2.140902519226074,-2.0862679481506348,-1.47455632686615,-2.384733200073242,4.640162467956543,-2.976321220397949,-2.324681520462036,4.791823863983154,-0.6954559683799744,4.669004440307617,-0.7919696569442749,-0.5833285450935364,4.877504825592041,-0.40918439626693726,-2.325082778930664,-1.5702826976776123,-3.166163444519043,-2.1000444889068604,-1.8578453063964844,-1.4963350296020508,-2.0119643211364746,-1.8815836906433105,-1.7897218465805054,-3.289649486541748,4.853100299835205,-1.7720036506652832,-2.8048174381256104,-3.3863048553466797,4.513509750366211,-2.519019603729248,5.8031325340271,5.844110488891602,-2.256850004196167,-2.9328174591064453,-2.288663148880005,-2.3590030670166016,-0.8118870258331299,-2.4505178928375244,-0.33547720313072205,4.416786193847656,6.264822959899902,6.71573543548584,7.672252655029297,6.53994607925415,6.4784650802612305,7.196473598480225,6.721078872680664,5.541492462158203,7.6595540046691895,6.648592948913574,7.165205478668213,6.258376598358154,5.543628215789795,8.126259803771973,5.947337627410889,6.484248638153076,5.98715877532959,4.57374382019043,6.815613746643066,6.951950550079346,5.976315498352051,5.577280521392822,7.480738639831543,5.507933139801025,8.178913116455078,6.322018623352051,4.783451080322266,5.656231880187988,6.50444221496582,6.5573625564575195,5.730701923370361,6.903721332550049,5.805110454559326,6.577075481414795,5.96611213684082,6.092709541320801,5.649628639221191,6.734872817993164,6.534473896026611,4.445890426635742,6.683517932891846,6.838500022888184,5.865865230560303,5.544429779052734,8.168335914611816,8.162993431091309,7.3046135902404785,6.911899089813232,7.042726516723633,5.5184431076049805,6.338335990905762,6.925671100616455,5.963053226470947,4.663977146148682,6.701474666595459,7.166818141937256,6.311441898345947,5.6351318359375,6.7906670570373535,5.6417036056518555,6.93839693069458,5.638105869293213,5.973690986633301,7.7432780265808105,6.762979507446289,6.848566055297852,6.798386096954346,6.206650257110596,7.347380638122559,5.770142078399658,7.3072028160095215,6.2721052169799805,4.4626784324646,-2.2061188220977783,6.244478225708008,6.148375988006592,6.07749080657959,5.509365558624268,7.055520057678223,7.07854700088501,5.639104843139648,5.70873498916626,6.167262077331543,5.518413066864014,6.811326503753662,6.294168949127197,6.834834098815918,6.69638729095459,5.551173686981201,6.284209251403809,5.340719223022461,-2.5315358638763428,5.917288780212402,0.0427243709564209,-0.14709430932998657,0.09797178953886032,-3.1490819454193115,0.021476756781339645,5.239957332611084],\"yaxis\":\"y\",\"type\":\"scatter\"}],                        {\"template\":{\"data\":{\"histogram2dcontour\":[{\"type\":\"histogram2dcontour\",\"colorbar\":{\"outlinewidth\":0,\"ticks\":\"\"},\"colorscale\":[[0.0,\"#0d0887\"],[0.1111111111111111,\"#46039f\"],[0.2222222222222222,\"#7201a8\"],[0.3333333333333333,\"#9c179e\"],[0.4444444444444444,\"#bd3786\"],[0.5555555555555556,\"#d8576b\"],[0.6666666666666666,\"#ed7953\"],[0.7777777777777778,\"#fb9f3a\"],[0.8888888888888888,\"#fdca26\"],[1.0,\"#f0f921\"]]}],\"choropleth\":[{\"type\":\"choropleth\",\"colorbar\":{\"outlinewidth\":0,\"ticks\":\"\"}}],\"histogram2d\":[{\"type\":\"histogram2d\",\"colorbar\":{\"outlinewidth\":0,\"ticks\":\"\"},\"colorscale\":[[0.0,\"#0d0887\"],[0.1111111111111111,\"#46039f\"],[0.2222222222222222,\"#7201a8\"],[0.3333333333333333,\"#9c179e\"],[0.4444444444444444,\"#bd3786\"],[0.5555555555555556,\"#d8576b\"],[0.6666666666666666,\"#ed7953\"],[0.7777777777777778,\"#fb9f3a\"],[0.8888888888888888,\"#fdca26\"],[1.0,\"#f0f921\"]]}],\"heatmap\":[{\"type\":\"heatmap\",\"colorbar\":{\"outlinewidth\":0,\"ticks\":\"\"},\"colorscale\":[[0.0,\"#0d0887\"],[0.1111111111111111,\"#46039f\"],[0.2222222222222222,\"#7201a8\"],[0.3333333333333333,\"#9c179e\"],[0.4444444444444444,\"#bd3786\"],[0.5555555555555556,\"#d8576b\"],[0.6666666666666666,\"#ed7953\"],[0.7777777777777778,\"#fb9f3a\"],[0.8888888888888888,\"#fdca26\"],[1.0,\"#f0f921\"]]}],\"heatmapgl\":[{\"type\":\"heatmapgl\",\"colorbar\":{\"outlinewidth\":0,\"ticks\":\"\"},\"colorscale\":[[0.0,\"#0d0887\"],[0.1111111111111111,\"#46039f\"],[0.2222222222222222,\"#7201a8\"],[0.3333333333333333,\"#9c179e\"],[0.4444444444444444,\"#bd3786\"],[0.5555555555555556,\"#d8576b\"],[0.6666666666666666,\"#ed7953\"],[0.7777777777777778,\"#fb9f3a\"],[0.8888888888888888,\"#fdca26\"],[1.0,\"#f0f921\"]]}],\"contourcarpet\":[{\"type\":\"contourcarpet\",\"colorbar\":{\"outlinewidth\":0,\"ticks\":\"\"}}],\"contour\":[{\"type\":\"contour\",\"colorbar\":{\"outlinewidth\":0,\"ticks\":\"\"},\"colorscale\":[[0.0,\"#0d0887\"],[0.1111111111111111,\"#46039f\"],[0.2222222222222222,\"#7201a8\"],[0.3333333333333333,\"#9c179e\"],[0.4444444444444444,\"#bd3786\"],[0.5555555555555556,\"#d8576b\"],[0.6666666666666666,\"#ed7953\"],[0.7777777777777778,\"#fb9f3a\"],[0.8888888888888888,\"#fdca26\"],[1.0,\"#f0f921\"]]}],\"surface\":[{\"type\":\"surface\",\"colorbar\":{\"outlinewidth\":0,\"ticks\":\"\"},\"colorscale\":[[0.0,\"#0d0887\"],[0.1111111111111111,\"#46039f\"],[0.2222222222222222,\"#7201a8\"],[0.3333333333333333,\"#9c179e\"],[0.4444444444444444,\"#bd3786\"],[0.5555555555555556,\"#d8576b\"],[0.6666666666666666,\"#ed7953\"],[0.7777777777777778,\"#fb9f3a\"],[0.8888888888888888,\"#fdca26\"],[1.0,\"#f0f921\"]]}],\"mesh3d\":[{\"type\":\"mesh3d\",\"colorbar\":{\"outlinewidth\":0,\"ticks\":\"\"}}],\"scatter\":[{\"fillpattern\":{\"fillmode\":\"overlay\",\"size\":10,\"solidity\":0.2},\"type\":\"scatter\"}],\"parcoords\":[{\"type\":\"parcoords\",\"line\":{\"colorbar\":{\"outlinewidth\":0,\"ticks\":\"\"}}}],\"scatterpolargl\":[{\"type\":\"scatterpolargl\",\"marker\":{\"colorbar\":{\"outlinewidth\":0,\"ticks\":\"\"}}}],\"bar\":[{\"error_x\":{\"color\":\"#2a3f5f\"},\"error_y\":{\"color\":\"#2a3f5f\"},\"marker\":{\"line\":{\"color\":\"#E5ECF6\",\"width\":0.5},\"pattern\":{\"fillmode\":\"overlay\",\"size\":10,\"solidity\":0.2}},\"type\":\"bar\"}],\"scattergeo\":[{\"type\":\"scattergeo\",\"marker\":{\"colorbar\":{\"outlinewidth\":0,\"ticks\":\"\"}}}],\"scatterpolar\":[{\"type\":\"scatterpolar\",\"marker\":{\"colorbar\":{\"outlinewidth\":0,\"ticks\":\"\"}}}],\"histogram\":[{\"marker\":{\"pattern\":{\"fillmode\":\"overlay\",\"size\":10,\"solidity\":0.2}},\"type\":\"histogram\"}],\"scattergl\":[{\"type\":\"scattergl\",\"marker\":{\"colorbar\":{\"outlinewidth\":0,\"ticks\":\"\"}}}],\"scatter3d\":[{\"type\":\"scatter3d\",\"line\":{\"colorbar\":{\"outlinewidth\":0,\"ticks\":\"\"}},\"marker\":{\"colorbar\":{\"outlinewidth\":0,\"ticks\":\"\"}}}],\"scattermapbox\":[{\"type\":\"scattermapbox\",\"marker\":{\"colorbar\":{\"outlinewidth\":0,\"ticks\":\"\"}}}],\"scatterternary\":[{\"type\":\"scatterternary\",\"marker\":{\"colorbar\":{\"outlinewidth\":0,\"ticks\":\"\"}}}],\"scattercarpet\":[{\"type\":\"scattercarpet\",\"marker\":{\"colorbar\":{\"outlinewidth\":0,\"ticks\":\"\"}}}],\"carpet\":[{\"aaxis\":{\"endlinecolor\":\"#2a3f5f\",\"gridcolor\":\"white\",\"linecolor\":\"white\",\"minorgridcolor\":\"white\",\"startlinecolor\":\"#2a3f5f\"},\"baxis\":{\"endlinecolor\":\"#2a3f5f\",\"gridcolor\":\"white\",\"linecolor\":\"white\",\"minorgridcolor\":\"white\",\"startlinecolor\":\"#2a3f5f\"},\"type\":\"carpet\"}],\"table\":[{\"cells\":{\"fill\":{\"color\":\"#EBF0F8\"},\"line\":{\"color\":\"white\"}},\"header\":{\"fill\":{\"color\":\"#C8D4E3\"},\"line\":{\"color\":\"white\"}},\"type\":\"table\"}],\"barpolar\":[{\"marker\":{\"line\":{\"color\":\"#E5ECF6\",\"width\":0.5},\"pattern\":{\"fillmode\":\"overlay\",\"size\":10,\"solidity\":0.2}},\"type\":\"barpolar\"}],\"pie\":[{\"automargin\":true,\"type\":\"pie\"}]},\"layout\":{\"autotypenumbers\":\"strict\",\"colorway\":[\"#636efa\",\"#EF553B\",\"#00cc96\",\"#ab63fa\",\"#FFA15A\",\"#19d3f3\",\"#FF6692\",\"#B6E880\",\"#FF97FF\",\"#FECB52\"],\"font\":{\"color\":\"#2a3f5f\"},\"hovermode\":\"closest\",\"hoverlabel\":{\"align\":\"left\"},\"paper_bgcolor\":\"white\",\"plot_bgcolor\":\"#E5ECF6\",\"polar\":{\"bgcolor\":\"#E5ECF6\",\"angularaxis\":{\"gridcolor\":\"white\",\"linecolor\":\"white\",\"ticks\":\"\"},\"radialaxis\":{\"gridcolor\":\"white\",\"linecolor\":\"white\",\"ticks\":\"\"}},\"ternary\":{\"bgcolor\":\"#E5ECF6\",\"aaxis\":{\"gridcolor\":\"white\",\"linecolor\":\"white\",\"ticks\":\"\"},\"baxis\":{\"gridcolor\":\"white\",\"linecolor\":\"white\",\"ticks\":\"\"},\"caxis\":{\"gridcolor\":\"white\",\"linecolor\":\"white\",\"ticks\":\"\"}},\"coloraxis\":{\"colorbar\":{\"outlinewidth\":0,\"ticks\":\"\"}},\"colorscale\":{\"sequential\":[[0.0,\"#0d0887\"],[0.1111111111111111,\"#46039f\"],[0.2222222222222222,\"#7201a8\"],[0.3333333333333333,\"#9c179e\"],[0.4444444444444444,\"#bd3786\"],[0.5555555555555556,\"#d8576b\"],[0.6666666666666666,\"#ed7953\"],[0.7777777777777778,\"#fb9f3a\"],[0.8888888888888888,\"#fdca26\"],[1.0,\"#f0f921\"]],\"sequentialminus\":[[0.0,\"#0d0887\"],[0.1111111111111111,\"#46039f\"],[0.2222222222222222,\"#7201a8\"],[0.3333333333333333,\"#9c179e\"],[0.4444444444444444,\"#bd3786\"],[0.5555555555555556,\"#d8576b\"],[0.6666666666666666,\"#ed7953\"],[0.7777777777777778,\"#fb9f3a\"],[0.8888888888888888,\"#fdca26\"],[1.0,\"#f0f921\"]],\"diverging\":[[0,\"#8e0152\"],[0.1,\"#c51b7d\"],[0.2,\"#de77ae\"],[0.3,\"#f1b6da\"],[0.4,\"#fde0ef\"],[0.5,\"#f7f7f7\"],[0.6,\"#e6f5d0\"],[0.7,\"#b8e186\"],[0.8,\"#7fbc41\"],[0.9,\"#4d9221\"],[1,\"#276419\"]]},\"xaxis\":{\"gridcolor\":\"white\",\"linecolor\":\"white\",\"ticks\":\"\",\"title\":{\"standoff\":15},\"zerolinecolor\":\"white\",\"automargin\":true,\"zerolinewidth\":2},\"yaxis\":{\"gridcolor\":\"white\",\"linecolor\":\"white\",\"ticks\":\"\",\"title\":{\"standoff\":15},\"zerolinecolor\":\"white\",\"automargin\":true,\"zerolinewidth\":2},\"scene\":{\"xaxis\":{\"backgroundcolor\":\"#E5ECF6\",\"gridcolor\":\"white\",\"linecolor\":\"white\",\"showbackground\":true,\"ticks\":\"\",\"zerolinecolor\":\"white\",\"gridwidth\":2},\"yaxis\":{\"backgroundcolor\":\"#E5ECF6\",\"gridcolor\":\"white\",\"linecolor\":\"white\",\"showbackground\":true,\"ticks\":\"\",\"zerolinecolor\":\"white\",\"gridwidth\":2},\"zaxis\":{\"backgroundcolor\":\"#E5ECF6\",\"gridcolor\":\"white\",\"linecolor\":\"white\",\"showbackground\":true,\"ticks\":\"\",\"zerolinecolor\":\"white\",\"gridwidth\":2}},\"shapedefaults\":{\"line\":{\"color\":\"#2a3f5f\"}},\"annotationdefaults\":{\"arrowcolor\":\"#2a3f5f\",\"arrowhead\":0,\"arrowwidth\":1},\"geo\":{\"bgcolor\":\"white\",\"landcolor\":\"#E5ECF6\",\"subunitcolor\":\"white\",\"showland\":true,\"showlakes\":true,\"lakecolor\":\"white\"},\"title\":{\"x\":0.05},\"mapbox\":{\"style\":\"light\"}}},\"xaxis\":{\"anchor\":\"y\",\"domain\":[0.0,1.0],\"title\":{\"text\":\"UMAP1\"}},\"yaxis\":{\"anchor\":\"x\",\"domain\":[0.0,1.0],\"title\":{\"text\":\"UMAP2\"}},\"coloraxis\":{\"colorbar\":{\"title\":{\"text\":\"cluster\"}},\"colorscale\":[[0.0,\"#0d0887\"],[0.1111111111111111,\"#46039f\"],[0.2222222222222222,\"#7201a8\"],[0.3333333333333333,\"#9c179e\"],[0.4444444444444444,\"#bd3786\"],[0.5555555555555556,\"#d8576b\"],[0.6666666666666666,\"#ed7953\"],[0.7777777777777778,\"#fb9f3a\"],[0.8888888888888888,\"#fdca26\"],[1.0,\"#f0f921\"]]},\"legend\":{\"tracegroupgap\":0},\"title\":{\"text\":\"UMAP Visualization of ChatGPT Responses\"},\"height\":450,\"width\":800},                        {\"responsive\": true}                    ).then(function(){\n",
       "                            \n",
       "var gd = document.getElementById('af05bf6f-f524-4589-8b56-cef41900d65e');\n",
       "var x = new MutationObserver(function (mutations, observer) {{\n",
       "        var display = window.getComputedStyle(gd).display;\n",
       "        if (!display || display === 'none') {{\n",
       "            console.log([gd, 'removed!']);\n",
       "            Plotly.purge(gd);\n",
       "            observer.disconnect();\n",
       "        }}\n",
       "}});\n",
       "\n",
       "// Listen for the removal of the full notebook cells\n",
       "var notebookContainer = gd.closest('#notebook-container');\n",
       "if (notebookContainer) {{\n",
       "    x.observe(notebookContainer, {childList: true});\n",
       "}}\n",
       "\n",
       "// Listen for the clearing of the current output cell\n",
       "var outputEl = gd.closest('.output');\n",
       "if (outputEl) {{\n",
       "    x.observe(outputEl, {childList: true});\n",
       "}}\n",
       "\n",
       "                        })                };                });            </script>        </div>"
      ]
     },
     "metadata": {},
     "output_type": "display_data"
    }
   ],
   "source": [
    "# Prepare hover text\n",
    "df['hover_text'] = 'Subreddit: ' + df['Topic'] + '<br>' + 'Cluster Summary: ' + df['Summary']\n",
    "\n",
    "# Plot using Plotly\n",
    "fig = px.scatter(\n",
    "    df,\n",
    "    x='UMAP1',\n",
    "    y='UMAP2',\n",
    "    color='cluster',  # Use color based on Topic (In this case Subreddit)\n",
    "    hover_name='hover_text',  # Use custom hover text\n",
    "    title='UMAP Visualization of ChatGPT Responses',\n",
    "    width=800,\n",
    "    height=450\n",
    ")\n",
    "\n",
    "fig.show()"
   ]
  }
 ],
 "metadata": {
  "kernelspec": {
   "display_name": "soxm",
   "language": "python",
   "name": "python3"
  },
  "language_info": {
   "codemirror_mode": {
    "name": "ipython",
    "version": 3
   },
   "file_extension": ".py",
   "mimetype": "text/x-python",
   "name": "python",
   "nbconvert_exporter": "python",
   "pygments_lexer": "ipython3",
   "version": "3.9.19"
  }
 },
 "nbformat": 4,
 "nbformat_minor": 2
}
